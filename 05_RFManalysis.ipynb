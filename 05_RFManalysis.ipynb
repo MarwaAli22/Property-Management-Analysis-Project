{
 "cells": [
  {
   "cell_type": "markdown",
   "id": "36254da3",
   "metadata": {},
   "source": [
    "# setup & load data"
   ]
  },
  {
   "cell_type": "code",
   "execution_count": 1,
   "id": "dd36ecfa",
   "metadata": {},
   "outputs": [],
   "source": [
    "import pandas as pd\n",
    "import plotly.express as px\n",
    "from datetime import datetime"
   ]
  },
  {
   "cell_type": "code",
   "execution_count": null,
   "id": "77af82d6",
   "metadata": {},
   "outputs": [],
   "source": [
    "sale_df = pd.read_csv(r\"sales_clean.csv\")\n",
    "rent_df = pd.read_csv(r\"rent_clean.csv\")"
   ]
  },
  {
   "cell_type": "code",
   "execution_count": 3,
   "id": "ec19330b",
   "metadata": {},
   "outputs": [],
   "source": [
    "sale_df[\"transaction_date\"]= pd.to_datetime(sale_df[\"sale_date\"])\n",
    "sale_df[\"commission_payment_date\"]= pd.to_datetime(sale_df[\"commission_payment_date\"])\n",
    "sale_df.rename(columns={\"sale_amount\":\"transaction_amount\"}, inplace=True)"
   ]
  },
  {
   "cell_type": "code",
   "execution_count": 4,
   "id": "230fb7f4",
   "metadata": {},
   "outputs": [],
   "source": [
    "rent_df[\"transaction_date\"]= pd.to_datetime(rent_df[\"agreement_date\"])\n",
    "rent_df[\"commission_payment_date\"]= pd.to_datetime(rent_df[\"commission_payment_date\"])\n",
    "rent_df[\"transaction_amount\"] = (rent_df[\"rent_amount\"]*rent_df[\"rent_months\"])"
   ]
  },
  {
   "cell_type": "code",
   "execution_count": 5,
   "id": "c5ecda5c",
   "metadata": {},
   "outputs": [],
   "source": [
    "rent_df['transaction_type'] = 'rent'\n",
    "sale_df['transaction_type'] = 'sale'\n",
    "common_cols = ['property_id','agent_id','owner_id','client_id','transaction_date',\"transaction_amount\",'commission_payment_date','commission_amount','transaction_type']\n",
    "transactions_df = pd.concat([rent_df[common_cols], sale_df[common_cols]])"
   ]
  },
  {
   "cell_type": "code",
   "execution_count": 6,
   "id": "4434036f",
   "metadata": {},
   "outputs": [
    {
     "data": {
      "text/html": [
       "<div>\n",
       "<style scoped>\n",
       "    .dataframe tbody tr th:only-of-type {\n",
       "        vertical-align: middle;\n",
       "    }\n",
       "\n",
       "    .dataframe tbody tr th {\n",
       "        vertical-align: top;\n",
       "    }\n",
       "\n",
       "    .dataframe thead th {\n",
       "        text-align: right;\n",
       "    }\n",
       "</style>\n",
       "<table border=\"1\" class=\"dataframe\">\n",
       "  <thead>\n",
       "    <tr style=\"text-align: right;\">\n",
       "      <th></th>\n",
       "      <th>property_id</th>\n",
       "      <th>agent_id</th>\n",
       "      <th>owner_id</th>\n",
       "      <th>client_id</th>\n",
       "      <th>transaction_date</th>\n",
       "      <th>transaction_amount</th>\n",
       "      <th>commission_payment_date</th>\n",
       "      <th>commission_amount</th>\n",
       "      <th>transaction_type</th>\n",
       "    </tr>\n",
       "  </thead>\n",
       "  <tbody>\n",
       "    <tr>\n",
       "      <th>245</th>\n",
       "      <td>1323</td>\n",
       "      <td>111</td>\n",
       "      <td>411</td>\n",
       "      <td>2000</td>\n",
       "      <td>2024-08-14</td>\n",
       "      <td>366375.87</td>\n",
       "      <td>2024-11-18</td>\n",
       "      <td>10991.28</td>\n",
       "      <td>sale</td>\n",
       "    </tr>\n",
       "    <tr>\n",
       "      <th>1428</th>\n",
       "      <td>1721</td>\n",
       "      <td>49</td>\n",
       "      <td>1450</td>\n",
       "      <td>895</td>\n",
       "      <td>2024-05-17</td>\n",
       "      <td>628639.04</td>\n",
       "      <td>2024-12-18</td>\n",
       "      <td>31431.95</td>\n",
       "      <td>sale</td>\n",
       "    </tr>\n",
       "    <tr>\n",
       "      <th>93</th>\n",
       "      <td>1223</td>\n",
       "      <td>138</td>\n",
       "      <td>1631</td>\n",
       "      <td>1920</td>\n",
       "      <td>2024-08-18</td>\n",
       "      <td>185545.83</td>\n",
       "      <td>2024-10-12</td>\n",
       "      <td>3710.92</td>\n",
       "      <td>sale</td>\n",
       "    </tr>\n",
       "    <tr>\n",
       "      <th>64</th>\n",
       "      <td>1713</td>\n",
       "      <td>233</td>\n",
       "      <td>1275</td>\n",
       "      <td>1138</td>\n",
       "      <td>2024-12-12</td>\n",
       "      <td>9810.00</td>\n",
       "      <td>2024-12-25</td>\n",
       "      <td>981.00</td>\n",
       "      <td>rent</td>\n",
       "    </tr>\n",
       "    <tr>\n",
       "      <th>381</th>\n",
       "      <td>785</td>\n",
       "      <td>73</td>\n",
       "      <td>383</td>\n",
       "      <td>1993</td>\n",
       "      <td>2024-08-27</td>\n",
       "      <td>113400.00</td>\n",
       "      <td>2024-09-20</td>\n",
       "      <td>5670.00</td>\n",
       "      <td>rent</td>\n",
       "    </tr>\n",
       "  </tbody>\n",
       "</table>\n",
       "</div>"
      ],
      "text/plain": [
       "      property_id  agent_id  owner_id  client_id transaction_date  \\\n",
       "245          1323       111       411       2000       2024-08-14   \n",
       "1428         1721        49      1450        895       2024-05-17   \n",
       "93           1223       138      1631       1920       2024-08-18   \n",
       "64           1713       233      1275       1138       2024-12-12   \n",
       "381           785        73       383       1993       2024-08-27   \n",
       "\n",
       "      transaction_amount commission_payment_date  commission_amount  \\\n",
       "245            366375.87              2024-11-18           10991.28   \n",
       "1428           628639.04              2024-12-18           31431.95   \n",
       "93             185545.83              2024-10-12            3710.92   \n",
       "64               9810.00              2024-12-25             981.00   \n",
       "381            113400.00              2024-09-20            5670.00   \n",
       "\n",
       "     transaction_type  \n",
       "245              sale  \n",
       "1428             sale  \n",
       "93               sale  \n",
       "64               rent  \n",
       "381              rent  "
      ]
     },
     "execution_count": 6,
     "metadata": {},
     "output_type": "execute_result"
    }
   ],
   "source": [
    "transactions_df.sample(5)"
   ]
  },
  {
   "cell_type": "code",
   "execution_count": 7,
   "id": "e634a79f",
   "metadata": {},
   "outputs": [
    {
     "name": "stdout",
     "output_type": "stream",
     "text": [
      "<class 'pandas.core.frame.DataFrame'>\n",
      "Index: 3000 entries, 0 to 1644\n",
      "Data columns (total 9 columns):\n",
      " #   Column                   Non-Null Count  Dtype         \n",
      "---  ------                   --------------  -----         \n",
      " 0   property_id              3000 non-null   int64         \n",
      " 1   agent_id                 3000 non-null   int64         \n",
      " 2   owner_id                 3000 non-null   int64         \n",
      " 3   client_id                3000 non-null   int64         \n",
      " 4   transaction_date         3000 non-null   datetime64[ns]\n",
      " 5   transaction_amount       3000 non-null   float64       \n",
      " 6   commission_payment_date  3000 non-null   datetime64[ns]\n",
      " 7   commission_amount        3000 non-null   float64       \n",
      " 8   transaction_type         3000 non-null   object        \n",
      "dtypes: datetime64[ns](2), float64(2), int64(4), object(1)\n",
      "memory usage: 234.4+ KB\n"
     ]
    }
   ],
   "source": [
    "transactions_df.info()"
   ]
  },
  {
   "cell_type": "code",
   "execution_count": 8,
   "id": "63bbe7f2",
   "metadata": {},
   "outputs": [],
   "source": [
    "today_date = (transactions_df['commission_payment_date'].max()) + pd.Timedelta(days=1)  # تاريخ اليوم الافتراضي"
   ]
  },
  {
   "cell_type": "markdown",
   "id": "618dd08a",
   "metadata": {},
   "source": [
    "# Owners Segmentation Using RFM Analysis"
   ]
  },
  {
   "cell_type": "markdown",
   "id": "326fc275",
   "metadata": {},
   "source": [
    "RFM score for each owner based on their historical transaction data\n",
    "to measure value and engagement of owners\n"
   ]
  },
  {
   "cell_type": "markdown",
   "id": "a0a61e4a",
   "metadata": {},
   "source": [
    "## Feature engineering: R,F,M"
   ]
  },
  {
   "cell_type": "markdown",
   "id": "5692f82b",
   "metadata": {},
   "source": [
    "1. Recency --> today - nearest date (Sales + Rent)\n",
    "2. Frequenc -->  count of transaction (Sales + Rent)\n",
    "3. Monetary  --> total commission (Sales + Rent)"
   ]
  },
  {
   "cell_type": "code",
   "execution_count": 9,
   "id": "de5af824",
   "metadata": {},
   "outputs": [],
   "source": [
    "owner_agg_df = transactions_df.groupby(\"owner_id\").agg(\n",
    "                                                        last_date =(\"transaction_date\",\"max\"),\n",
    "                                                        Frequency =(\"owner_id\",\"count\"),\n",
    "                                                        Monetary =(\"commission_amount\",\"sum\")\n",
    ").reset_index()"
   ]
  },
  {
   "cell_type": "code",
   "execution_count": 10,
   "id": "277c86d6",
   "metadata": {},
   "outputs": [],
   "source": [
    "owner_agg_df['Recency'] = (today_date - owner_agg_df['last_date']).dt.days"
   ]
  },
  {
   "cell_type": "code",
   "execution_count": 11,
   "id": "2b5ffc9f",
   "metadata": {},
   "outputs": [
    {
     "name": "stdout",
     "output_type": "stream",
     "text": [
      "<class 'pandas.core.frame.DataFrame'>\n",
      "RangeIndex: 1447 entries, 0 to 1446\n",
      "Data columns (total 5 columns):\n",
      " #   Column     Non-Null Count  Dtype         \n",
      "---  ------     --------------  -----         \n",
      " 0   owner_id   1447 non-null   int64         \n",
      " 1   last_date  1447 non-null   datetime64[ns]\n",
      " 2   Frequency  1447 non-null   int64         \n",
      " 3   Monetary   1447 non-null   float64       \n",
      " 4   Recency    1447 non-null   int64         \n",
      "dtypes: datetime64[ns](1), float64(1), int64(3)\n",
      "memory usage: 56.7 KB\n"
     ]
    }
   ],
   "source": [
    "owner_agg_df.info()"
   ]
  },
  {
   "cell_type": "code",
   "execution_count": 12,
   "id": "8c3d9f81",
   "metadata": {},
   "outputs": [
    {
     "data": {
      "text/html": [
       "<div>\n",
       "<style scoped>\n",
       "    .dataframe tbody tr th:only-of-type {\n",
       "        vertical-align: middle;\n",
       "    }\n",
       "\n",
       "    .dataframe tbody tr th {\n",
       "        vertical-align: top;\n",
       "    }\n",
       "\n",
       "    .dataframe thead th {\n",
       "        text-align: right;\n",
       "    }\n",
       "</style>\n",
       "<table border=\"1\" class=\"dataframe\">\n",
       "  <thead>\n",
       "    <tr style=\"text-align: right;\">\n",
       "      <th></th>\n",
       "      <th>owner_id</th>\n",
       "      <th>last_date</th>\n",
       "      <th>Frequency</th>\n",
       "      <th>Monetary</th>\n",
       "      <th>Recency</th>\n",
       "    </tr>\n",
       "  </thead>\n",
       "  <tbody>\n",
       "    <tr>\n",
       "      <th>0</th>\n",
       "      <td>1</td>\n",
       "      <td>2024-01-28</td>\n",
       "      <td>4</td>\n",
       "      <td>9893.32</td>\n",
       "      <td>338</td>\n",
       "    </tr>\n",
       "    <tr>\n",
       "      <th>1</th>\n",
       "      <td>2</td>\n",
       "      <td>2024-12-02</td>\n",
       "      <td>5</td>\n",
       "      <td>45668.26</td>\n",
       "      <td>29</td>\n",
       "    </tr>\n",
       "    <tr>\n",
       "      <th>2</th>\n",
       "      <td>3</td>\n",
       "      <td>2024-09-17</td>\n",
       "      <td>2</td>\n",
       "      <td>31257.00</td>\n",
       "      <td>105</td>\n",
       "    </tr>\n",
       "    <tr>\n",
       "      <th>3</th>\n",
       "      <td>4</td>\n",
       "      <td>2024-09-23</td>\n",
       "      <td>3</td>\n",
       "      <td>28490.12</td>\n",
       "      <td>99</td>\n",
       "    </tr>\n",
       "    <tr>\n",
       "      <th>4</th>\n",
       "      <td>5</td>\n",
       "      <td>2024-02-19</td>\n",
       "      <td>1</td>\n",
       "      <td>14119.14</td>\n",
       "      <td>316</td>\n",
       "    </tr>\n",
       "  </tbody>\n",
       "</table>\n",
       "</div>"
      ],
      "text/plain": [
       "   owner_id  last_date  Frequency  Monetary  Recency\n",
       "0         1 2024-01-28          4   9893.32      338\n",
       "1         2 2024-12-02          5  45668.26       29\n",
       "2         3 2024-09-17          2  31257.00      105\n",
       "3         4 2024-09-23          3  28490.12       99\n",
       "4         5 2024-02-19          1  14119.14      316"
      ]
     },
     "execution_count": 12,
     "metadata": {},
     "output_type": "execute_result"
    }
   ],
   "source": [
    "owner_agg_df.head()"
   ]
  },
  {
   "cell_type": "code",
   "execution_count": 13,
   "id": "10412ce4",
   "metadata": {},
   "outputs": [
    {
     "data": {
      "text/html": [
       "<div>\n",
       "<style scoped>\n",
       "    .dataframe tbody tr th:only-of-type {\n",
       "        vertical-align: middle;\n",
       "    }\n",
       "\n",
       "    .dataframe tbody tr th {\n",
       "        vertical-align: top;\n",
       "    }\n",
       "\n",
       "    .dataframe thead th {\n",
       "        text-align: right;\n",
       "    }\n",
       "</style>\n",
       "<table border=\"1\" class=\"dataframe\">\n",
       "  <thead>\n",
       "    <tr style=\"text-align: right;\">\n",
       "      <th></th>\n",
       "      <th>owner_id</th>\n",
       "      <th>last_date</th>\n",
       "      <th>Frequency</th>\n",
       "      <th>Monetary</th>\n",
       "      <th>Recency</th>\n",
       "    </tr>\n",
       "  </thead>\n",
       "  <tbody>\n",
       "    <tr>\n",
       "      <th>count</th>\n",
       "      <td>1447.000000</td>\n",
       "      <td>1447</td>\n",
       "      <td>1447.000000</td>\n",
       "      <td>1447.000000</td>\n",
       "      <td>1447.000000</td>\n",
       "    </tr>\n",
       "    <tr>\n",
       "      <th>mean</th>\n",
       "      <td>877.626123</td>\n",
       "      <td>2024-03-12 07:14:53.158258688</td>\n",
       "      <td>2.073255</td>\n",
       "      <td>24645.467386</td>\n",
       "      <td>293.697996</td>\n",
       "    </tr>\n",
       "    <tr>\n",
       "      <th>min</th>\n",
       "      <td>1.000000</td>\n",
       "      <td>2020-06-07 00:00:00</td>\n",
       "      <td>1.000000</td>\n",
       "      <td>438.000000</td>\n",
       "      <td>1.000000</td>\n",
       "    </tr>\n",
       "    <tr>\n",
       "      <th>25%</th>\n",
       "      <td>438.500000</td>\n",
       "      <td>2023-10-28 00:00:00</td>\n",
       "      <td>1.000000</td>\n",
       "      <td>8146.625000</td>\n",
       "      <td>62.000000</td>\n",
       "    </tr>\n",
       "    <tr>\n",
       "      <th>50%</th>\n",
       "      <td>885.000000</td>\n",
       "      <td>2024-07-05 00:00:00</td>\n",
       "      <td>2.000000</td>\n",
       "      <td>16890.370000</td>\n",
       "      <td>179.000000</td>\n",
       "    </tr>\n",
       "    <tr>\n",
       "      <th>75%</th>\n",
       "      <td>1313.500000</td>\n",
       "      <td>2024-10-30 00:00:00</td>\n",
       "      <td>3.000000</td>\n",
       "      <td>33296.800000</td>\n",
       "      <td>430.000000</td>\n",
       "    </tr>\n",
       "    <tr>\n",
       "      <th>max</th>\n",
       "      <td>1755.000000</td>\n",
       "      <td>2024-12-30 00:00:00</td>\n",
       "      <td>7.000000</td>\n",
       "      <td>163553.380000</td>\n",
       "      <td>1668.000000</td>\n",
       "    </tr>\n",
       "    <tr>\n",
       "      <th>std</th>\n",
       "      <td>507.570847</td>\n",
       "      <td>NaN</td>\n",
       "      <td>1.118261</td>\n",
       "      <td>23211.663082</td>\n",
       "      <td>315.469521</td>\n",
       "    </tr>\n",
       "  </tbody>\n",
       "</table>\n",
       "</div>"
      ],
      "text/plain": [
       "          owner_id                      last_date    Frequency       Monetary  \\\n",
       "count  1447.000000                           1447  1447.000000    1447.000000   \n",
       "mean    877.626123  2024-03-12 07:14:53.158258688     2.073255   24645.467386   \n",
       "min       1.000000            2020-06-07 00:00:00     1.000000     438.000000   \n",
       "25%     438.500000            2023-10-28 00:00:00     1.000000    8146.625000   \n",
       "50%     885.000000            2024-07-05 00:00:00     2.000000   16890.370000   \n",
       "75%    1313.500000            2024-10-30 00:00:00     3.000000   33296.800000   \n",
       "max    1755.000000            2024-12-30 00:00:00     7.000000  163553.380000   \n",
       "std     507.570847                            NaN     1.118261   23211.663082   \n",
       "\n",
       "           Recency  \n",
       "count  1447.000000  \n",
       "mean    293.697996  \n",
       "min       1.000000  \n",
       "25%      62.000000  \n",
       "50%     179.000000  \n",
       "75%     430.000000  \n",
       "max    1668.000000  \n",
       "std     315.469521  "
      ]
     },
     "execution_count": 13,
     "metadata": {},
     "output_type": "execute_result"
    }
   ],
   "source": [
    "owner_agg_df.describe()"
   ]
  },
  {
   "cell_type": "code",
   "execution_count": 14,
   "id": "a10c1f29",
   "metadata": {},
   "outputs": [],
   "source": [
    "# Recency: most owners are very recent; fewer bins prevent clustering in a single bin -->  3 bins\n",
    "# Frequency: 4 bins to provide a balanced distribution of owners based on transaction count, separating low and high activity\n",
    "# Monetary: 4 bins to clearly classify profitability, covering a wide range of low and high values\n"
   ]
  },
  {
   "cell_type": "markdown",
   "id": "095b3b7f",
   "metadata": {},
   "source": [
    "## RFM Scoring "
   ]
  },
  {
   "cell_type": "markdown",
   "id": "47f4d1e6",
   "metadata": {},
   "source": [
    "Discretization (numerical -->categories\"range\")"
   ]
  },
  {
   "cell_type": "code",
   "execution_count": 15,
   "id": "e493c692",
   "metadata": {},
   "outputs": [],
   "source": [
    "# Recency score (high=old = 1 , low=new = 3)\n",
    "bins_Recency   = [0, 30, 112, owner_agg_df['Recency'].max()]\n",
    "labels_Recency = [3, 2, 1]\n",
    "\n",
    "owner_agg_df['R_Score'] = pd.cut(\n",
    "    owner_agg_df['Recency'],\n",
    "    bins=bins_Recency,\n",
    "    labels=labels_Recency,\n",
    "    include_lowest=True\n",
    ")\n",
    "\n",
    "# Frequency score (low = 1, high= 4)\n",
    "owner_agg_df['F_Score'] = pd.qcut(owner_agg_df['Frequency'].rank(method='first'), 4, labels=range(1,5))\n",
    "\n",
    "# Monetary score (low = 1, high= 4)\n",
    "owner_agg_df['M_Score'] = pd.qcut(owner_agg_df['Monetary'], 4, labels=range(1,5))"
   ]
  },
  {
   "cell_type": "markdown",
   "id": "f89b6d14",
   "metadata": {},
   "source": [
    "Combine R, F, M scores to form a single RFM score \"string\""
   ]
  },
  {
   "cell_type": "code",
   "execution_count": 16,
   "id": "7d735039",
   "metadata": {},
   "outputs": [],
   "source": [
    "owner_agg_df['RFM_Score'] =( owner_agg_df['R_Score'].astype(str) + \n",
    "                             owner_agg_df['F_Score'].astype(str) + \n",
    "                             owner_agg_df['M_Score'].astype(str)\n",
    ")"
   ]
  },
  {
   "cell_type": "code",
   "execution_count": 17,
   "id": "481ab34f",
   "metadata": {},
   "outputs": [
    {
     "data": {
      "text/html": [
       "<div>\n",
       "<style scoped>\n",
       "    .dataframe tbody tr th:only-of-type {\n",
       "        vertical-align: middle;\n",
       "    }\n",
       "\n",
       "    .dataframe tbody tr th {\n",
       "        vertical-align: top;\n",
       "    }\n",
       "\n",
       "    .dataframe thead th {\n",
       "        text-align: right;\n",
       "    }\n",
       "</style>\n",
       "<table border=\"1\" class=\"dataframe\">\n",
       "  <thead>\n",
       "    <tr style=\"text-align: right;\">\n",
       "      <th></th>\n",
       "      <th>owner_id</th>\n",
       "      <th>last_date</th>\n",
       "      <th>Frequency</th>\n",
       "      <th>Monetary</th>\n",
       "      <th>Recency</th>\n",
       "      <th>R_Score</th>\n",
       "      <th>F_Score</th>\n",
       "      <th>M_Score</th>\n",
       "      <th>RFM_Score</th>\n",
       "    </tr>\n",
       "  </thead>\n",
       "  <tbody>\n",
       "    <tr>\n",
       "      <th>0</th>\n",
       "      <td>1</td>\n",
       "      <td>2024-01-28</td>\n",
       "      <td>4</td>\n",
       "      <td>9893.32</td>\n",
       "      <td>338</td>\n",
       "      <td>1</td>\n",
       "      <td>4</td>\n",
       "      <td>2</td>\n",
       "      <td>142</td>\n",
       "    </tr>\n",
       "    <tr>\n",
       "      <th>1</th>\n",
       "      <td>2</td>\n",
       "      <td>2024-12-02</td>\n",
       "      <td>5</td>\n",
       "      <td>45668.26</td>\n",
       "      <td>29</td>\n",
       "      <td>3</td>\n",
       "      <td>4</td>\n",
       "      <td>4</td>\n",
       "      <td>344</td>\n",
       "    </tr>\n",
       "    <tr>\n",
       "      <th>2</th>\n",
       "      <td>3</td>\n",
       "      <td>2024-09-17</td>\n",
       "      <td>2</td>\n",
       "      <td>31257.00</td>\n",
       "      <td>105</td>\n",
       "      <td>2</td>\n",
       "      <td>2</td>\n",
       "      <td>3</td>\n",
       "      <td>223</td>\n",
       "    </tr>\n",
       "    <tr>\n",
       "      <th>3</th>\n",
       "      <td>4</td>\n",
       "      <td>2024-09-23</td>\n",
       "      <td>3</td>\n",
       "      <td>28490.12</td>\n",
       "      <td>99</td>\n",
       "      <td>2</td>\n",
       "      <td>3</td>\n",
       "      <td>3</td>\n",
       "      <td>233</td>\n",
       "    </tr>\n",
       "    <tr>\n",
       "      <th>4</th>\n",
       "      <td>5</td>\n",
       "      <td>2024-02-19</td>\n",
       "      <td>1</td>\n",
       "      <td>14119.14</td>\n",
       "      <td>316</td>\n",
       "      <td>1</td>\n",
       "      <td>1</td>\n",
       "      <td>2</td>\n",
       "      <td>112</td>\n",
       "    </tr>\n",
       "  </tbody>\n",
       "</table>\n",
       "</div>"
      ],
      "text/plain": [
       "   owner_id  last_date  Frequency  Monetary  Recency R_Score F_Score M_Score  \\\n",
       "0         1 2024-01-28          4   9893.32      338       1       4       2   \n",
       "1         2 2024-12-02          5  45668.26       29       3       4       4   \n",
       "2         3 2024-09-17          2  31257.00      105       2       2       3   \n",
       "3         4 2024-09-23          3  28490.12       99       2       3       3   \n",
       "4         5 2024-02-19          1  14119.14      316       1       1       2   \n",
       "\n",
       "  RFM_Score  \n",
       "0       142  \n",
       "1       344  \n",
       "2       223  \n",
       "3       233  \n",
       "4       112  "
      ]
     },
     "execution_count": 17,
     "metadata": {},
     "output_type": "execute_result"
    }
   ],
   "source": [
    "owner_agg_df.head()"
   ]
  },
  {
   "cell_type": "markdown",
   "id": "cfaae46c",
   "metadata": {},
   "source": [
    "RFM segmentaion:\n",
    "- Champions: high in all three or at least very recent + (freq or monetary high) (RFM)\n",
    "- Loyal Owners: frequent and high monetary but not the most recent (F&M) (R1/2)\n",
    "- High Value – Low Activity: high monetary only (M) (F1/2,R3-1)\n",
    "- Emerging Owne: recent and good spend but medium frequency (R) (F1-4, M2-4)\n",
    "- At Risk: very old regardless of frequency or monetary (FM) (R=1)\n",
    "- Dormant Owner: everyone else (mid-range)"
   ]
  },
  {
   "cell_type": "code",
   "execution_count": 18,
   "id": "538dce7d",
   "metadata": {},
   "outputs": [],
   "source": [
    "def rfm_owner_segment(row):\n",
    "    R, F, M = row['R_Score'], row['F_Score'], row['M_Score']\n",
    "\n",
    "    if R == 3 and F >= 3 and M >= 3:\n",
    "        return 'Champion'\n",
    "\n",
    "    elif R >= 2 and F >= 3 and M >= 3:\n",
    "        return 'Loyal Owner'\n",
    "\n",
    "    elif R >= 2 and ((F >= 2 and 2 <= M <= 3) or (M >= 2 and 2 <= F <= 3)):\n",
    "        return 'Emerging Owne'\n",
    "    \n",
    "    elif F < 3 and M >= 3:\n",
    "        return 'High Value-Low Activity'\n",
    "    \n",
    "    elif R == 1 and F >= 2 and M >= 2:\n",
    "        return 'At Risk'\n",
    "\n",
    "    else:\n",
    "        return 'Dormant Owner'\n",
    "\n",
    "owner_agg_df['Segment'] = owner_agg_df.apply(rfm_owner_segment, axis=1)"
   ]
  },
  {
   "cell_type": "code",
   "execution_count": 19,
   "id": "f84575da",
   "metadata": {},
   "outputs": [
    {
     "data": {
      "text/html": [
       "<div>\n",
       "<style scoped>\n",
       "    .dataframe tbody tr th:only-of-type {\n",
       "        vertical-align: middle;\n",
       "    }\n",
       "\n",
       "    .dataframe tbody tr th {\n",
       "        vertical-align: top;\n",
       "    }\n",
       "\n",
       "    .dataframe thead th {\n",
       "        text-align: right;\n",
       "    }\n",
       "</style>\n",
       "<table border=\"1\" class=\"dataframe\">\n",
       "  <thead>\n",
       "    <tr style=\"text-align: right;\">\n",
       "      <th></th>\n",
       "      <th>owner_id</th>\n",
       "      <th>last_date</th>\n",
       "      <th>Frequency</th>\n",
       "      <th>Monetary</th>\n",
       "      <th>Recency</th>\n",
       "      <th>R_Score</th>\n",
       "      <th>F_Score</th>\n",
       "      <th>M_Score</th>\n",
       "      <th>RFM_Score</th>\n",
       "      <th>Segment</th>\n",
       "    </tr>\n",
       "  </thead>\n",
       "  <tbody>\n",
       "    <tr>\n",
       "      <th>0</th>\n",
       "      <td>1</td>\n",
       "      <td>2024-01-28</td>\n",
       "      <td>4</td>\n",
       "      <td>9893.32</td>\n",
       "      <td>338</td>\n",
       "      <td>1</td>\n",
       "      <td>4</td>\n",
       "      <td>2</td>\n",
       "      <td>142</td>\n",
       "      <td>At Risk</td>\n",
       "    </tr>\n",
       "    <tr>\n",
       "      <th>1</th>\n",
       "      <td>2</td>\n",
       "      <td>2024-12-02</td>\n",
       "      <td>5</td>\n",
       "      <td>45668.26</td>\n",
       "      <td>29</td>\n",
       "      <td>3</td>\n",
       "      <td>4</td>\n",
       "      <td>4</td>\n",
       "      <td>344</td>\n",
       "      <td>Champion</td>\n",
       "    </tr>\n",
       "    <tr>\n",
       "      <th>2</th>\n",
       "      <td>3</td>\n",
       "      <td>2024-09-17</td>\n",
       "      <td>2</td>\n",
       "      <td>31257.00</td>\n",
       "      <td>105</td>\n",
       "      <td>2</td>\n",
       "      <td>2</td>\n",
       "      <td>3</td>\n",
       "      <td>223</td>\n",
       "      <td>Emerging Owne</td>\n",
       "    </tr>\n",
       "    <tr>\n",
       "      <th>3</th>\n",
       "      <td>4</td>\n",
       "      <td>2024-09-23</td>\n",
       "      <td>3</td>\n",
       "      <td>28490.12</td>\n",
       "      <td>99</td>\n",
       "      <td>2</td>\n",
       "      <td>3</td>\n",
       "      <td>3</td>\n",
       "      <td>233</td>\n",
       "      <td>Loyal Owner</td>\n",
       "    </tr>\n",
       "    <tr>\n",
       "      <th>4</th>\n",
       "      <td>5</td>\n",
       "      <td>2024-02-19</td>\n",
       "      <td>1</td>\n",
       "      <td>14119.14</td>\n",
       "      <td>316</td>\n",
       "      <td>1</td>\n",
       "      <td>1</td>\n",
       "      <td>2</td>\n",
       "      <td>112</td>\n",
       "      <td>Dormant Owner</td>\n",
       "    </tr>\n",
       "  </tbody>\n",
       "</table>\n",
       "</div>"
      ],
      "text/plain": [
       "   owner_id  last_date  Frequency  Monetary  Recency R_Score F_Score M_Score  \\\n",
       "0         1 2024-01-28          4   9893.32      338       1       4       2   \n",
       "1         2 2024-12-02          5  45668.26       29       3       4       4   \n",
       "2         3 2024-09-17          2  31257.00      105       2       2       3   \n",
       "3         4 2024-09-23          3  28490.12       99       2       3       3   \n",
       "4         5 2024-02-19          1  14119.14      316       1       1       2   \n",
       "\n",
       "  RFM_Score        Segment  \n",
       "0       142        At Risk  \n",
       "1       344       Champion  \n",
       "2       223  Emerging Owne  \n",
       "3       233    Loyal Owner  \n",
       "4       112  Dormant Owner  "
      ]
     },
     "execution_count": 19,
     "metadata": {},
     "output_type": "execute_result"
    }
   ],
   "source": [
    "owner_agg_df.head()"
   ]
  },
  {
   "cell_type": "markdown",
   "id": "2fc98f5c",
   "metadata": {},
   "source": [
    "## visualization"
   ]
  },
  {
   "cell_type": "code",
   "execution_count": 20,
   "id": "f2fa98ad",
   "metadata": {},
   "outputs": [
    {
     "data": {
      "application/vnd.plotly.v1+json": {
       "config": {
        "plotlyServerURL": "https://plot.ly"
       },
       "data": [
        {
         "customdata": {
          "bdata": "AQAGAAkAFwAtADAAPABIAEkAWABhAGQAbwB3AHgAegB+AIIAhgCIAJQAlgChAKkAqgCvALMAtQC2AMEAyQDPANQA4wDlAPcA/wAUAR0BIAEnATABNQE3ATkBPQFCAUMBSwFMAVcBWgFeAWABZgFqAWwBeAF5AXoBewGBAYgBjQGSAaYBqwGzAbwBvgHHAc4B0gHmAecB6gHuAfoB/AEAAgMCEgITAh4CIAIjAigCOAJGAk4CUgJVAmMCagJ5An8ChQKNApgCoAKlAqoCrAK1ArYCuAK8Ar0CyQLTAt4C3wLkAuUC5wLoAu0C7gL0AvgC/gIDAwYDCQMQAxEDEgMTAyYDKAMpAzIDNAM1AzYDOQM+A0EDRQNGA0cDSQNLA0wDXgNkA2cDagNvA3EDfAN/A4EDgwOFA4YDiwOMA5ADkQOXA5oDmwOeA6EDowOoA6kDrAOtA7YDvwPBA80DzgPPA9YD3APrA/wDAQQEBAUEDQQOBBgEGQQdBB8EMQQzBDUENgQ5BDoEOwQ9BEYESQRRBFIEVARXBFoEXARiBGUEZwRpBG4EbwRxBHYEegR+BIcEiQSKBIwEjQSPBJUElwSYBJoEnASeBKAEoQSsBLMEtQS+BMAEwgTHBMgEyQTKBM0EzgTQBNoE2wTcBOEE5QTnBOgE6QTtBPAE8gT0BPYE+QT6BP8EAAUDBQwFEAUSBRQFGQUbBR4FIAUhBSQFJQUmBScFKwUsBS8FMQU2BTgFPgVBBUQFSQVLBUwFUAVTBVQFVQVgBWIFZAVmBWcFcAV0BXgFewV8BYAFgQWCBYcFigWMBY0FjwWTBZYFlwWYBZ4FogWnBagFqgWwBbQFtwW/BcUFxgXHBcgFzQXRBdcF2wXcBfMF9AX+BQMGBAYGBgcGCAYJBg0GDgYRBh8GIQYiBioGLgYvBjIGPgZFBkkGSgZPBlIGVQZWBlgGWQZbBlwGZQZqBmsGbAZuBnUGdwaABoQGjwaRBpIGlgaXBpgGmQabBqEGowamBqkGsga5BrsGvQbDBsgGywbMBtMG1wbaBg==",
          "dtype": "i2",
          "shape": "392, 1"
         },
         "hovertemplate": "Segment=At Risk<br>Recency=%{x}<br>Monetary=%{y}<br>Frequency=%{marker.size}<br>owner_id=%{customdata[0]}<extra></extra>",
         "legendgroup": "At Risk",
         "marker": {
          "color": "#636efa",
          "size": {
           "bdata": "BAIDAgYDAgMCAwMDAwMDAgICAgMCAwQEAgICAwQDAgMEAwMCAgUCAwICAwIDAgIEBAQEAwMDAwMCBAMDBAMCAgICAgMDBAIEAgMCAgIGAgICAwIFAgIDAgIDAwMFAwMEAgICAgIDBAIDAgIDAwUFBAICAgICAgICAgIEAwMCAwMCAwICAgICAgICAgICAwICAgMCAgICAgMDAgMCAgIDBAICAwIDAgQDAwIEAwIDAwMDAgMCAgICBgIDAgICBQIEAgICBQICAgIFBAIDAwICAgICAgICAwQCAQECAwIEAgEBAwIDAgMDAQICAwEBAgICAwMCAgICAgICAgUCAQMBAgQCAgICAgICAwIDAgEDAgICBQMEAgMBAQMBAwICAQMDBAECAQMBAwMEAQMDAgMDAgMCAwMCBAMBAwICBQIDAQECAgIBAQMCAQMEAgMCAgIBBAUBAwIBAgIDAwMCAgEDAgICAgICAgMCAgMCAgIDAgQDAQQBAwEDAgMBAgECAQIBAwIBAgMCAgM=",
           "dtype": "i1"
          },
          "sizemode": "area",
          "sizeref": 0.0175,
          "symbol": "circle"
         },
         "mode": "markers",
         "name": "At Risk",
         "showlegend": true,
         "type": "scattergl",
         "x": {
          "bdata": "UgGLAIsApADIAOwAeQGtAPMAfAAKAacACgEqAXEAkQLpAKUAqgBAAcQAdACcAJoAnAAoAdUAeQB4ANYAvAAnAYcAZAGzACQBYgOQAEwB9wDCAT8BrADuAqsAvAEnArwADQGeAJIA6gANBB4CewDwANUAeQC3APwAMwGoAG4B4QH/AFAB8AEHAn0AMQGaAMEAwwCiAJoBEAIRAY0AvwH+AG4C7AAWA8wAXQGbAaEAsgD7AOwA6ACIAD4BiQBZAb4ADgInAk0BHwFfAv0BhAA5BMMACwOlAHwA9wCUAMIBcgA2AeMBYwT+AAUBlwCRALUC0gD8ANUAtAH7AIgBeACQAMgAhgA5AZkBKQELATMEagLkAHoA+QBaAd8A7QC6AI0AqgPiAO4BNALQAZUApABGAwoC2QA3AfIA4gCEAGoBcgDUAPcApgC1A5kBMwF9AIMA8wDbAEoBVwE/Ay4BogB8A8sAegD9AJ8CfgGGAY8B0QB2AqUAiwK7AHcEqQDmAscBjwFtAQMDfQCVALUBiwCEAJsAfADfAfkAzgBzAA0B6wEtArwBzwALAb0ApAA0AcAAyAOWA3gAoAA4AfUA1ADKAbQDngAIARgBrACmAL0ADgF6AKkCtQDMArUDpgB6AdQBuAC0AHcAiQGIAGIB6wLEAXsB6gBeApYD0wC/AAICsQF2AM4CiACQAUsB/AAjAZwAjgC2ANsA2AH3AcEAdgBgAXoCmgAAAXUAIwO5ADEDgQGVAE4EugAxAZ8BcALzAEoBegBEASEEOQHUAIcAqADCANcAXwKQAJYA1wHeALYAnwP/AD8CTwF7ALUCtQARAncAywBhAlYDswD4AvQBrwE0AX4AkwCKAEkCwAPKABQCBgH0AAcBcQCMAMQBMgH9A4AAsgBrAfwBFQKOAHMCXQIdAY8AxADwAdEBPQIcAfwAtgA+AacA/QCzAqgA4QCeAaQCJgHQAB0BBwHuAK4B9QAZAkUBRwK+AXoDgwCDAXMAhADnADUBlwBXAY8AKwNtAt0AqwBNAecAfwPlAa4BXgHsAA==",
          "dtype": "i2"
         },
         "xaxis": "x",
         "y": {
          "bdata": "XI/C9ahSw0B7FK5HgVPLQGZmZmZuJOZAcD0K1+MNyECuR+F6TMDnQKRwPQrHR+xA4noUrscKzEAK16NwHRjgQGZmZmaGPclApHA9Ci+G5ECamZmZgajkQB+F61HMofJAPgrXo+jL4UDiehSuNwfVQFK4HoX7MNJAmpmZmfm/xED2KFyPgkTEQHA9CtfjL8RAcD0K1yMnyUDNzMzMvD3pQML1KFwPEclAZmZmZjY02UDNzMzM7CbdQArXo3A9rdRAZmZmZmYez0CamZmZWdTIQOtRuB5lAsBAcT0K1/tM5EDNzMzMrNvBQIXrUbjGjeJAAAAAAADSyUDsUbgeNVXeQBSuR+GCyetAKVyPwl094UDhehSux4TQQKRwPQrXdM1Aj8L1KFwry0BwPQrXS9HsQHsUrkfBbMBArkfherY4AEGkcD0Kt47CQB+F61E4D8pA4XoUrvcD1EAAAAAAALHMQKRwPQrnQ+xAzczMzMxYzEAUrkfhWgXQQArXo3DdSOJAuB6F6/ENzUD2KFyP4pDcQEjhehQ+0fZAH4XrURiQ10CuR+F6tHrSQArXo3BtPd1APgrXo6CS2kBnZmZmqnHwQAAAAAAAZ8dArkfheozo5kBxPQrXUwHeQB6F61Hoje5AUrgehbtl9EAUrkfhcoDqQDMzMzMTacdASOF6FO6dykAAAAAAQA7IQOJ6FK4HYcJAAAAAAOAyz0AAAAAAIEveQEjhehS+qO1AKVyPwpXi1kAAAAAAwBHKQJmZmZnJxNxAAAAAAADyy0CuR+F6/G/7QKRwPQqXwc9APgrXo7AuxUBxPQrX42TNQEjhehTeOwFBrkfhepSTxEBcj8L16ErOQM3MzMxMm8lAcD0K13P85UBcj8L1SF3HQLgehevB1O1AAAAAAIDaxUA9Ctej8I/DQK5H4Xo0mMFAwvUoXC8xx0CPwvUo/DnJQDQzMzOTf9VAj8L1KPwQ3kApXI/CRUbUQFK4HoU7StlA16NwPVq60EC4HoXrsRfdQAAAAADwjuRAcT0K18NJwUBSuB6Fq/LBQMP1KFzv1ctAexSuR9EG40DiehSuJ1/MQFK4HoWLzcdAKVyPwnWw30DC9ShcZ4fnQJDC9Sh0ufFASOF6FE7Yw0AK16NwRQ7lQJqZmZnZnNZAPgrXo7iK5UAAAAAAAJbmQEjhehSOTfNAZmZmZuby5UBSuB6Fq9LKQOF6FK6nxsRAexSuRwEY30AzMzMzc2XFQClcj8J1pcFAZmZmZu4V5kBI4XoUbvrQQGZmZmZ2kdlAhetRuF7ixECamZmZ+QvbQFK4HoVr581AKVyPwgUa5UAfhetR6K/RQHE9CtcjMctAMzMzM+O+4kCuR+F6tCTNQNejcD3K1sNAuB6F6wGi10ApXI/CZX/UQAAAAABAMuhAKVyPwn134EA9CtejcGbNQFK4HoWrMdBAhetRuL4FyUAK16Nwff3KQB+F61GA4uBAKVyPwk1f40DXo3A96ivFQHA9Ctdj1ehAXI/C9YiG6ECuR+F65NDwQArXo3A9679A7FG4HqWZxEDNzMzMfF3xQKRwPQp3WctAAAAAAIBW0UB7FK5HQQfdQOJ6FK7DFfFAFK5H4Zpu3UCkcD0K5/zfQD4K16MwWt5AzczMzJwZ0kDhehSuw+32QGZmZmbWztdAMzMzM9OF3UC4HoXr4U3QQAAAAAAA0s1ApHA9CtsM+0AAAAAAwLHJQAAAAAAAGthACtejcP0Z5UAK16Nw/eXbQEjhehTqrPJAAAAAAMDKxEAfhetRUCbvQOxRuB4FOM9AkML1KAx+00BI4XoUfg7rQOXQIttk2/hAPgrXo/AP5kAK16NwLbndQAAAAAAAVNZAhetRuG4x10BmZmZmZlLWQAAAAABAIOVAcT0K1wNnxUBcj8L12KHwQAAAAACA6chAAAAAAMAq1EDD9Shc7wbCQOF6FK4X0tdA9ihcj/KmAEEAAAAAAOzjQI/C9SigwvJAFK5H4Qqy2EAK16NwvevCQJqZmZn5J8lAH4XrUUzD8UC4HoXr4QPVQAAAAAAACMlApHA9Cte3wEDNzMzMAKf1QFK4HoXDfvBAhetRuIbB9kD2KFyPHt7wQOF6FK5niMtAj8L1KNzp0UAzMzMzUxjOQArXo3DV7+RA4XoUrveP2UBcj8L1iM/RQPYoXI8yrOhA4noUrsdq40DhehSu90DXQJqZmZkp199A4XoUrucd1UAehetRGD3BQOF6FK4nrNhAmpmZmbmHwEDNzMzMrMPGQClcj8J1+L9AwvUoXK9M4kDNzMzMgLL1QBSuR+GaNsdAPQrXo/ABzEAAAAAAAMDFQAAAAAAgauVAhetRuD5k1kCkcD0K1yzEQAEAAABYWudApHA9CrfXxkCuR+F6tOjPQAAAAAAA6cRAZmZmZt6M4EDsUbge1eDQQOxRuB5F5+5AwvUoXP+Z0UB7FK5HCUXhQFK4HoXTzOFAAAAAAABr0ECkcD0KNwfCQB+F61GYS99AehSuR6H/y0B7FK5HIYDGQIXrUbh+qMZAhetRuD74w0AzMzMzY/LnQHE9CtcTnedAZmZmZnae2kDXo3A9SuzXQEjhehTOxcVAuB6F6/mA40AAAAAAAF/QQD4K16PQ/dZAuB6F69HkwUDhehSuBwLDQAAAAAAAMMVAhetRuH5k50Bcj8L1aFDuQClcj8I119lA16NwPWo80EBmZmZmlqTdQLgehevxGMNAuB6F6/Ebw0CuR+F6kAHyQOxRuB7lf8NAPQrXo6A320ApXI/CtcnFQM3MzMzMrMNAhetRuNZV4kAzMzMzc5fUQHsUrkexXORAj8L1KAwA7kCPwvUoHFrFQAAAAABQfNxASOF6FM6r5UAUrkfh2kDDQK5H4Xp0dO9AhetRuB5C5EDiehSuh3bGQKRwPQrn5d5A7FG4Hj0w6kAUrkfh4ovnQHsUrkfxK9ZAZmZmZrbW0kAAAAAAoAPQQAAAAABAechAexSuRyFUzECkcD0Kh8jhQAAAAAAAbsVAmpmZmUEK70BSuB6FywXFQDMzMzMTOM9AAAAAAOCow0ApXI/C1XjIQPYoXI+y1eZAUrgehZ/M/UD2KFyPYhrDQOxRuB5NBuZAH4XrUTjFx0DhehSuRyfmQB+F61F4379AAAAAAFCC0UC4HoXrMbLOQM3MzMzcS+9AAAAAAEA4x0BI4XoUUhHwQK5H4Xq0j81AUrgehYt22ECuR+F69NPWQAAAAADAxsJAFK5H4Wop5ECamZmZ3XrwQIXrUbiO/thAXI/C9Wi73EDsUbgezZDiQDMzMzPDXdNASOF6FN6U1UCkcD0Kd9DfQDMzMzOTUc1AKVyPwlU71kDhehSuB5DSQJqZmZmJrNJAMzMzM3NH6kAAAAAAgLHTQGZmZmYmw8RAAAAAAADwxUAAAAAAQODCQClcj8L19MRAZmZmZkbZyEAAAAAAAKLSQAAAAAAAPcJAAAAAAIBBx0CamZmZiTXWQD0K16PwSMxAAAAAAACwy0CuR+F6tGrdQBSuR+F+jfNACtejcH3CyEB7FK5HQfzJQAAAAAAA0dpACtejcLVi9UD2KFyPwqreQAAAAAAAzMFAPgrXowCy3kDD9ShcP0bfQD0K16OwX81AZmZmZubb4UCkcD0Kl9LGQAAAAAAAGM5AFK5H4RpRwkBI4XoUjh7TQPYoXI+aiuNAMzMzM1tJ6UAK16NwPbjVQOJ6FK4Xx+ZAj8L1KNTx6EBcj8L1iJnOQAAAAAAAPsJArkfhetTpz0AzMzMz05TMQM3MzMycrdBAHoXrUViJxkAAAAAAAJjLQBSuR+GyPeBAFK5H4Vr11kApXI/CZUzWQI/C9SgcBM9AAAAAAACf1UBSuB6FO3XVQHE9Ctc7b+pArkfhenR710A+CtejYN7kQM3MzMx0wvNASOF6FE4sxUBcj8L1uJroQHA9CtfjXthApHA9CncGxUAAAAAAUInXQB+F61E4JcxAH4XrUfgkyEBI4XoUThHJQEfhehROy95AHoXrUeg20UAzMzMz6/PmQPYoXI/COcVArkfheryH4EDNzMzMjCvPQOxRuB5Fus1AMzMzM1NyykAUrkfhmgbHQAAAAAAAAMRAehSuRyGq/EDXo3A9ipj1QAAAAAAAdcJAAAAAAICeyEDsUbge9WHWQClcj8K9i+VAZmZmZnqp8UAAAAAAQCLbQA==",
          "dtype": "f8"
         },
         "yaxis": "y"
        },
        {
         "customdata": {
          "bdata": "AgARACcAMQBQAF4AfwCDAIkApwCxAL0AxwDSAOkAEQEhASoBOgFZAWMBaQF9AX4BiQGWAaMBtQG2AdUB4QHiAewB9wH5Af0BBQJNAloCZgJ9AocCiAK7AsECxALGAtYCAAMBAxUDFgMaAx0DHgMnA0MDVwNuA3sDjgO6A8ADwgPMA9AD2QPdA+4D/QMqBC8ENwREBHwEfwTEBNIE2ATgBPcE+wT8BAQFFgU0BUYFVgVXBX4FgwWGBaAFwAXMBd8F6wX3BfsFCgYWBhoGIAYlBjEGNAY5BkgGYQZjBnwGggaHBo0GlAa6BsQG1AbVBg==",
          "dtype": "i2",
          "shape": "119, 1"
         },
         "hovertemplate": "Segment=Champion<br>Recency=%{x}<br>Monetary=%{y}<br>Frequency=%{marker.size}<br>owner_id=%{customdata[0]}<extra></extra>",
         "legendgroup": "Champion",
         "marker": {
          "color": "#EF553B",
          "size": {
           "bdata": "BQYDBQMEBQMEAwQFBAMDBQMDAwMEAwMEBQMDBgMDBAYGBAMEBQUDAwMEAwQDAwIDBAIDAgICBgIFAgIDAwIDAwUEAgcCBgICBAMFAgQEAwMCBAMDBQIDAwIDBAUFAwICBAQCAwMEAwIEBAMEBAICBAIEBAIEAwU=",
           "dtype": "i1"
          },
          "sizemode": "area",
          "sizeref": 0.0175,
          "symbol": "circle"
         },
         "mode": "markers",
         "name": "Champion",
         "showlegend": true,
         "type": "scattergl",
         "x": {
          "bdata": "HQoSGgQTDgQJBw0QEhAQDRUXDwIWDQUBAx0CBg8IFRoNFA4BCxcNDAQFHQINCA0JHR4aCgoFGAMQARIEHAYOCB4XHgEKAQgWFwsPBQcFExkGBwEDHREaGAgcDBALCxASDAQQEBsOAwECFwwTFAEbGhsPERgEDg4=",
          "dtype": "i1"
         },
         "xaxis": "x",
         "y": {
          "bdata": "H4XrUYhM5kBcj8L1sOzjQAAAAAAAruBAcD0K14N7+0CF61G4Du3sQClcj8KlgNJAH4XrUYSN/0ApXI/ChaDVQLgehetBRPBA7FG4HtXy3kCZmZmZEfj3QFyPwvVI99xAhetRuB4Q5UB7FK5HNQvyQPYoXI/C+epAKVyPwg2B6kAK16NwrffSQEjhehRiOfNAhetRuJ5h1kB7FK5HMeTpQArXo3C9DvRAAAAAAEBI7kBcj8L1SMHfQOJ6FK7Hp+NAuB6F672o8EAVrkfhyt/TQPYoXI8qAOlACtejcKF29kAAAAAA4JzgQDMzMzPzRNtAuB6F63Gd3UAfhetRiFjsQFyPwvWwFO9AAAAAAIhW70A+CtejNMLwQML1KFxP7+5ASOF6FD7s2kDMzMzMJGD0QK5H4XpkPNpAexSuR52y+EDD9ShcZwLgQFyPwvWofNNAXI/C9ejW0UBmZmZmpm/zQIXrUbiW8+xAPQrXo7AS3UBxPQrXO2byQML1KFxXYuZAj8L1KFz4+EDXo3A9invbQFyPwvUgXPJAexSuR7HF4EAAAAAAgFTdQAAAAADgNuhAhetRuMZ67EBI4XoUDpHRQMzMzMwof/lAhetRuK7b0kBI4XoUnnnRQOxRuB4VDPRAmpmZmYmZ2UCamZmZqevVQAAAAACwgeNAH4XrUdiY1kDNzMzMGLD0QHA9CtcDXOpAXI/C9RgQ6UBmZmZmctb1QIXrUbh+JtpAmpmZmZFq80BwPQrXA53iQHA9CtdDOddA9ihcj/L81ECF61G4PrTaQHE9Ctdj8N1ApHA9Clc12EDhehSuN1/kQD4K16N4c+NAkML1KGwM3UAzMzMzB533QI/C9SjcoN5AUrgehdvg3EDD9ShcPwzUQNejcD2qS+tAexSuR/Fv2UCPwvUo7BPZQKRwPQrXM+lAo3A9Cmcf20BSuB6Fm3nbQJqZmZk5tOVA61G4HkH780CkcD0KC/cDQZqZmZlFPvNAAAAAAKCu40CamZmZ2drdQHA9CteLjOFAKVyPwuVB10B7FK5HsR3yQHA9CtdXYvJAj8L1KOz200AfhetROIDbQHsUrkdZT+xAAAAAAAA320DC9ShcL/DSQArXo3Ddn/VAAAAAAMBN3ECF61G44lvzQAAAAABYbulAcD0K1/Nd4EAVrkfhEu7vQAAAAACAo9FAXI/C9Th23UCPwvUojNTiQOxRuB71n+VAZmZmZhbm2UAAAAAAwCPbQHsUrkeBXddAuB6F63Gw5EAAAAAAAG7zQA==",
          "dtype": "f8"
         },
         "yaxis": "y"
        },
        {
         "customdata": {
          "bdata": "AwAHAAgADwAQABYAGAAbACIAKgAvADMANgA7AD8AQABDAEQAUQBTAFsAYgBjAGkAcwCTAJwAuwC8ANAA0QDXANoA7ADuAPQA+gD7AAIBCAEJASQBLAFIAUkBTQFPAV8BaAF1AXYBiwGMAbQBuQG7Ab0BwgHPAdoB3AHdAeAB5AHoASECIgIuAjUCPAJWAlcCXgJgAmUCegKDAoYCkwKaAqgCrwLCAs0C4gILAwwDOAM7A00DeQOkA6oDswO0A9UDAgQKBCEEKARDBFsEXwRgBHgEqASrBLIE3gTfBAUFCgURBSIFIwVABUUFXgVpBWoFdgV3BYQFiQWRBZkFowWxBdIF9QX2BRUGIwYnBjUGQgZGBm0GcgZ6BoEGjAacBqoGrQa3Bs4G2wY=",
          "dtype": "i2",
          "shape": "148, 1"
         },
         "hovertemplate": "Segment=Emerging Owne<br>Recency=%{x}<br>Monetary=%{y}<br>Frequency=%{marker.size}<br>owner_id=%{customdata[0]}<extra></extra>",
         "legendgroup": "Emerging Owne",
         "marker": {
          "color": "#00cc96",
          "size": {
           "bdata": "AgMDAgIDAwICAgICAgICAgICAgIDAgICAgICAwICAwICAgMCAwICAgICAgICAgICAgMCAgQCAgIDAwICAgIDAwICAgICAwICAgICAgIDAgICAwIDAgIDAgICBAMCAwICBAICAgMCAgICAgMBAQEDAQEBAwIBAwICAQIDAwIBAgEDAQMCAgMBAgQCAQICAgICAgICAQ==",
           "dtype": "i1"
          },
          "sizemode": "area",
          "sizeref": 0.0175,
          "symbol": "circle"
         },
         "mode": "markers",
         "name": "Emerging Owne",
         "showlegend": true,
         "type": "scattergl",
         "x": {
          "bdata": "aT5CMT1gAicsTAMsGUhvbAIBMjMKbAshBwgcXhI6F2sPAzYsDFYGcF88CBsQKAM7EloLMwFQAQYjFg4FHCEvFQZbLh48FQIPCBlGLRw0YiIfFAJLPys4BENEQwYmEW4/CQhjGikCLGcFAwFSKVUEBC5gBwMFRwxHRwoMMwMcLhoFSDVbCgoVZmkEXQEII0opPSABEg==",
          "dtype": "i1"
         },
         "xaxis": "x",
         "y": {
          "bdata": "AAAAAECG3kBI4XoULlTCQAAAAAAApclA9ihcj9Jg4UAzMzMzG87wQAAAAADAGc9AAAAAAIDNw0AUrkfhmjrnQGZmZmZGXs5AH4XrURhy5kAAAAAA4F3YQMP1KFy3I/VAzczMzMzxyEAK16NwbS7pQEjhehSO8MNAAAAAAADWy0CQwvUorP7bQFyPwvXEa/RAcD0K16PWwUAK16Nw7aXnQOxRuB5FnMFA16NwPUpUwUCQwvUoxBbhQK5H4XoUpdFA4XoUru/r4kDiehSuXwXiQFyPwvWoOM5AmpmZmVk2xUDC9Shcp1HwQDMzMzMD8tZAMzMzMxNCxkC4HoXr4YTiQPYoXI9qIOFAAAAAAMCK5EDsUbgehT/OQAAAAADAx9BAKVyPwtWjz0DC9Shc11TlQI/C9SjoDfFAAAAAAIDDxkD2KFyPEkbQQArXo3C9A8pAAAAAACDlwEBxPQrX467mQAAAAAAgq9hAZmZmZr6l7EDsUbge5SrNQAAAAACASdtA9ihcj2qY4kCQwvUoHK/MQFK4HoVbp9hA4noUrqc87UBmZmZmxl7DQB+F61HoI9FAcD0K1zsn60CuR+F61MTGQAAAAACAhMtAAAAAAIBWx0AAAAAAoB3oQFyPwvUI7NhA4XoUrkda0kBwPQrXYzrBQOF6FK4HL85AXI/C9Siay0DsUbgehRnKQML1KFw/09RAKVyPwjUry0AAAAAAgKHCQAAAAABgfvNAAAAAACA30ECkcD0KB/nQQAAAAADAVsZAZmZmZiZo4EC4HoXrMXjIQAAAAACARMRAzczMzCxpy0BI4XoUDmHhQK5H4XpUJclASOF6FM4h2kA9CtejUIjYQHsUrkeBSMtAFK5H4fpsyUAzMzMzUwXFQFyPwvXo78lAcT0K10NFzkDNzMzMrKLLQAAAAAAAEdBAuB6F65F7xEAAAAAAALbIQIXrUbjeA89A61G4HgVUxUAAAAAAAMjKQAAAAAAA989AAAAAAIDFyED2KFyPokPDQHA9CtcjGc9AkML1KCx20EAAAAAAwNXBQPYoXI9CjcNA7FG4HkXpykA+CtejMCTMQHsUrkdBCMBAAAAAAABqxEAAAAAAwGPDQAAAAABAM8VAZmZmZobTz0DXo3A9Cs/EQBSuR+H61MtAmpmZmaFW4UAAAAAAAETZQAAAAAAgMslAcT0K1xOg1EDNzMzM7JPvQAAAAAAA4sRAcT0K10M3z0CamZmZGVXEQAAAAABAdctAuB6F65H9ykDsUbge5VfFQOJ6FK5nncVAcT0K15PD0kAfhetRGBjHQOxRuB5lVdBAwvUoXC9azUAfhetRWJnKQOF6FK7XitxAmpmZmblbz0AAAAAAwKPBQKRwPQq3pM9AAAAAAACAyEBSuB6FyzfPQAAAAAAAFs5AAAAAAMA4y0BwPQrX45fKQNejcD3qHMpASOF6FO7mx0AqXI/C1XzJQB+F61E4a8RASOF6FC7i0EDiehSuJ77MQHE9CtfjuctAFa5H4VoFwkAAAAAAwKzAQNejcD1qVcNAAAAAACALykC4HoXr8UrGQEjhehTO+c9A9ihcj2ITwEA=",
          "dtype": "f8"
         },
         "yaxis": "y"
        },
        {
         "customdata": {
          "bdata": "BAAZABoAHQAuAEUASwBVAFoAXACFAIsAnQC5AM4A0wDWANkA4gDtAPMAAwEMAT8BRAFHAVABXAFnAXIBfwGbAZwBrQHQAdYB9QEIAgsCDAIlAlkCZwJ1AnsCfgKcAq4CsgKzAsgCzgLXAtgC2gLdAukC7wLwAvMCBQMKAxsDLAMuAzADPQNAA04DXANfA2IDZQOIA5UDpwOxA7cDuAO+A8UDyQPUA9cD2wPhA+gD+wMGBAwEHAQmBCsEOAQ+BEcEVQRdBG0EfQSRBJ0ErwSxBLcEuAS8BNEE1ATZBOoE7wTzBPUE/QQBBQgFOgVIBU0FWQVlBX0FhQWOBZsFnQWkBawFrQW6Bb0FyQXKBd4F5QXnBewF+gUCBgUGCwYdBigGMwZEBl8GcQZ4Bn4GgwaGBpAGmgafBqQGqAavBrAGswa1BrwGwQbFBtEG2AY=",
          "dtype": "i2",
          "shape": "166, 1"
         },
         "hovertemplate": "Segment=Loyal Owner<br>Recency=%{x}<br>Monetary=%{y}<br>Frequency=%{marker.size}<br>owner_id=%{customdata[0]}<extra></extra>",
         "legendgroup": "Loyal Owner",
         "marker": {
          "color": "#ab63fa",
          "size": {
           "bdata": "AwMDAwUDAwUDBgMEAwMEBAMDAwMEBAUDBAMEAwUEAwMDAwUEBAMDAwMDAwMDAwIDBAICAwICAwQDBQUEAgICAgQDAwICAgMEBQIDAwQCAgICAwUDBQICAwMCBAMCAgQDBgQDAgQEAgIDAwUEAwICAgQDAwICAwMCAwQCAwYDAwQFBQMFAgQDAgQFAgQDAgMCAgIFAwUDAgIDAwMEBAIFBQIDAgMCAw==",
           "dtype": "i1"
          },
          "sizemode": "area",
          "sizeref": 0.0175,
          "symbol": "circle"
         },
         "mode": "markers",
         "name": "Loyal Owner",
         "showlegend": true,
         "type": "scattergl",
         "x": {
          "bdata": "Y0huQT8hZkMhSGpkI0NOP3BEXk4+bh9RWSRvUlovImhwLCU5SSIsS0NNQ0cpLEljLkVqSU5vWC5rL1IoXj0fX2UkTk0tVksmTDdeJipLXGwqWVMlIWRcIi8rKUgvIShOa1dDbGttWTIsIl8yIidjKVNgQEcsW0cyaW9FUy1tJEonMkcgJCE9U0VINic7XDxhHyxSQzJZVmFISkoqYUljOk5pa1FiIg==",
          "dtype": "i1"
         },
         "xaxis": "x",
         "y": {
          "bdata": "4XoUrofS20CPwvUoeAX7QD0K16MgL9lAhetRuA482kAAAAAA8KXmQAAAAACgT9FAuB6F68H91EAAAAAAUEDmQKRwPQofROBAAAAAAEBO4UDhehSun6TgQJqZmZkBIeFA9ihcjwp070CamZmZyafeQFK4HoWbmttAFK5H4cIk6EDNzMzMtLPoQDMzMzMTh9ZAZmZmZuYp10D2KFyPYnrYQDMzMzO7HexA4XoUrl/07EDXo3A9Om/ZQEjhehTeetRAuB6F62FF2EBxPQrXO2LkQGZmZmaOEuJAcT0K13N10kDhehSup+vjQOJ6FK5H9NRA4noUrkcr0kC4HoXrBVX0QLgehevBh+lAhetRuM7z20AfhetRmIvlQPYoXI+SEvRAexSuRzGx10CuR+F6pDbiQNejcD0SVeJA4XoUrkcp00DsUbgeLTbhQAAAAAAgodVAcT0K1zO0/ECUGARWDpLUQAAAAAAAwtVA4noUricM6kAK16NwnZDdQBSuR+HKFOpAj8L1KFz620CuR+F6ZJbSQOxRuB7Fq9lAw/UoXLcJ4UBcj8L1mNvTQBSuR+FifeRAZmZmZj5R4UAAAAAAqF/nQKRwPQrHZ+VAw/UoXIew5UCuR+F6kJb3QM3MzMycpthA9ihcjwLn0kApXI/CtbXVQB6F61HY6dtArkfheuRT7UBcj8L1GBDgQAAAAADAWt5AXI/C9QhB6EAqXI/CtSraQJqZmZlpnttAuB6F62Fr1EC4HoXr+TfhQAAAAACAdNVAzczMzEQS40CkcD0KE2TxQKRwPQpnkttAHoXrUcj980DXo3A9qojgQAAAAABAH9NASOF6FCbn4UDXo3A9OkrpQAAAAABAp9RAZmZmZl5Q60CkcD0KH6nlQB+F61FoLuhA7FG4Hr205EAAAAAAoCLTQKRwPQovJORA16NwPfpG3UDC9ShcFwHjQAAAAACABNJAhetRuJoV80DNzMzM3MDzQM3MzMx8wtNA9ihcj6IC3ECamZmZqcvhQOxRuB4FgtRA9ihcjypx5kD2KFyPElzfQDMzMzNzXOdApHA9CheV0kD2KFyPogvTQB6F61GMtfNArkfhevRZ2kAAAAAAQADVQEjhehQ+l95ApHA9Cgd02EAzMzMzp3n5QKRwPQpX5OFAAAAAAIB03EA+CtejkEHUQArXo3DdSdpAH4XrUdhU00DNzMzMbIzVQNijcD3CgPNA16NwPaLD4kCamZmZecfSQHA9CtfjZOZAUrgehSOx5kAAAAAAIPLlQM3MzMxUGPFAFK5H4ZJn5UCF61G43gfiQOJ6FK43FeFAhetRuD5W50C4HoXr+bLlQEjhehReKOBAkML1KGyK1UCQwvUo3J3hQML1KFzfkvtAhutRuNqI/EAehetRKLPfQMP1KFzXIudAAAAAACCd0UCuR+F6NMreQML1KFxvCtZAcD0K17M61EB7FK5HWcj7QClcj8JF8dlA4noUris/8kBmZmZmRnPqQDMzMzM5LQBBexSuR+Ha1kBcj8L1OPj5QHsUrkfx8OFAAAAAAADk0kDC9ShcvyvVQHA9CtfjsN9AuB6F64GM10CPwvUonH/cQD4K16NwIdhAexSuR/Fd10AAAAAAIF3UQAAAAAAg0NBAmpmZmSEg6kBI4XoU4iDwQBSuR+Hy9epArkfhegxU7UDXo3A9Jh3zQAAAAAAAmtlAcT0K15d08UCe76fGt0zcQGZmZmZ+Q+NASOF6FO6h3kD2KFyPwtXnQPYoXI+KkehA4XoUrle51UA=",
          "dtype": "f8"
         },
         "yaxis": "y"
        },
        {
         "customdata": {
          "bdata": "BQAKAAsADgATABQAFQAeAB8AIAAjACwANAA1ADcAOgA9AD4AQgBGAEcASgBMAFQAVgBZAGAAZQBmAGcAaABsAG0AewB9AIAAgQCMAI8AkACSAJUAmQCbAJ8ApQCrAKwAtAC3AL4AvwDCAMMAxgDIAM0A1QDbANwA6ADrAPAA9gD4AP0A/gAAAQEBBQEPARIBFQEWARcBGAEbASIBIwErAS8BMQEzATQBOAE+AUUBSgFOAVUBWAFhAWIBZAFlAWsBbgFvAXABcwF0AXwBgwGOAY8BkQGUAZgBmQGfAaQBpwGpAaoBrgGvAbEBsgG/AcMBxAHFAcYByAHNAdQB2QHfAeMB7QHvAfAB8QHzAf4B/wEBAgQCBwIOAg8CFwIYAhwCJgIrAi0CMAI0Aj0CQgJDAkQCRQJHAkkCSgJTAlgCWwJcAl0CaQJrAmwCbgJxAnYCdwJ4AnwCigKLAo4CjwKQApECkgKUApUCmQKbAp4CogKnAqsCtAK3Ar4CvwLAAsUCxwLKAssCzwLQAtIC1ALZAtsC4ALjAusC9gL5AvoC/QICAw0DDgMXAxgDIAMhAyIDIwMkAyoDLQMvAzEDMwM3A0IDSgNSA1QDVQNWA1gDWgNgA2MDZgNoA2kDbANzA3UDdwN4A3oDfQN+A4ADhAOJA4oDjQOPA5QDlgOdA6ADpQOwA7IDvQPDA8QDxgPHA8gDygPRA9ID0wPeA98D4APkA+UD5gPpA+oD7wPwA/ED8wP1A/YD+AP5A/4D/wMIBA8EEgQUBBYEFwQaBBsEHgQgBCIEIwQkBCUEKQQsBC0ELgQwBDIENAQ8BEAEQQRCBEgESgRNBE8EUARYBGQEZgRoBGsEbARzBHcEeQR7BIAEggSEBIYEiASOBJQElgSZBJsEogSjBKQEpQSmBKcEqQSqBK0ErgS6BLsEvwTBBMME0wTVBNcE4wTrBAIFBwULBQ8FFwUdBR8FKQUqBTIFNwU7BT8FQgVKBU4FUQVYBVsFXQVjBWgFawVtBW4FcgVzBXUFiwWQBZIFmgWcBZ8FpgWpBbIFswW1BbYFvAXBBcsFzwXTBdQF1gXYBdkF3QXgBeQF6AXtBfAF8QXyBfkF/AUPBhAGEgYTBhQGGQYkBjAGNgY6BjsGQwZHBksGTgZRBlQGWgZeBmAGYgZkBmcGaQZzBnQGdgZ/BoUGiAaJBo4GlQaeBqcGqwauBrQGtga4BsIGxwbJBs0GzwbSBg==",
          "dtype": "i2",
          "shape": "461, 1"
         },
         "hovertemplate": "Segment=Dormant Owner<br>Recency=%{x}<br>Monetary=%{y}<br>Frequency=%{marker.size}<br>owner_id=%{customdata[0]}<extra></extra>",
         "legendgroup": "Dormant Owner",
         "marker": {
          "color": "#FFA15A",
          "size": {
           "bdata": "AQEBAQEDAQEBAQIBAQEBAQEBAQECAgIBAQEBAQEBAgEBAQEBAQEBAQEBAQECAQEBAQEBAQEBAQECAQIBAQICAQEBAQEBAQEBAQEBAQEBAQEBAQEBAQEBAQEBAQEBAQEBAQEBAgEBAQEBAQEBAQEBAQEBAQEBAQMBAQEBAwIBAQICAQEBAgEBAQEBAQEBAQECAQEBAgIBAQEBAQEBAQIBAQEBAQEBAQEBAQEBAQEBAgEBAgEBAQIBAQEBAQEBAQEBAQECAQEBAgEBAQIBAQEBAQEBAQEBAgEBAQEBAQEBAQEBAQEBAQEBAQIBAQIBAQEBAQECAQEBAQIBAQEBAQIBAQEBAQEBAgECAQIBAQEBAQIBAQEBAQEBAQEBAQEBAgEBAQEBAQEBAQEBAQEBAQEBAQIBAQEBAQEBAQEBAQEBAQECAgEBAQIBAQEBAQEBAQEBAQECAQEBAQEBAQEBAgICAgIBAQIBAQEBAQIBAQEBAQECAQEBAgEBAgEBAQEBAgEBAQIBAQEBAQEBAQIDAgEBAQEBAQICAQECAQEBAQIBAQIBAgEBAQEBAQEBAQEBAQECAgEBAQEBAQEBAgECAQEBAgECAQEBAgECAgECAQE=",
           "dtype": "i1"
          },
          "sizemode": "area",
          "sizeref": 0.0175,
          "symbol": "circle"
         },
         "mode": "markers",
         "name": "Dormant Owner",
         "showlegend": true,
         "type": "scattergl",
         "x": {
          "bdata": "PAGjBY4BeQEIAAsAbwN6A8cDDQFoAEYBmQKNAxkFIwIJASkA0gE2AS4AJQBGALkCiAIUACgAAQBZAkkDXAG3AzEAlAGNAMMCtwEYAMsBNwKfAegABwJGAFIAxQHpBVUAVQI/ASoFYwHRA+oCvwC8AsUAVQB9ARUArwFnAycAWwOOAJIAKQBNATEASQArAMECVgW9AN8BigIRAt0DAwELAxYDMAKQBO8AIgFUASAC+AAHAHABmQJXAewDUQEsALsCeQL5AP0AtAKKBaADtADFBAsCEwCFAO4ASQJuAEMEYgIBAo0DhAD7AjQDYAGDAFAGZAIQAK0ABgALAg8AyQGpASkATwB+APwBiwN+AMUDigPcARIAsQJyBSwC2QHBA1MAGQLiAEUE/QAuAGsDoATfAd0A2QDjAFAAhgBXAEEF+AR8AMACCwBbA4IACgBkAWkChQLDAf0BiwBlAV0ASAGcBAsACQA7AFwArQKOAeQAaQGMAEYDUAIRAxAA9gEYAFsCfwFRAPEAFQYzAYYAQQJZAbIB0QO6ADgAAQCGAwkAKQAuA4QCMwA1Ah8AEwBtAo0AdALCApAB5wK3AAIA9ABeBFwA7ABgAFsCDQA6AIgBHAFYAFEAPwEmBDAEeQKMAw4DEQCsAWUBDgE4AvoBPQE3AH4AfgFSADkA9QDYAYEA1QE/AFoBLQF5ApEBVQTpAEAAHgIeAKABDwPHABUBJwEcADkBswTQANkBswP9AQ8DogLOAZYARAE/AE8EeAAQAJEBzACTAIgEdQHiAIIAtAPLAIQD2wBCAmYC4gEdAOACRwNlAogADAPBBZoBfgJwBc0BewWgAigA1gLdAX8AVgDSAFMCfgDMA14BMwAFAboAewF3AYIDAgJgBDcDQAKQBEwBzwFwAFEATwETAUYEegPfAIMAcwJxALADLwBeAU0CrABaAIUA4QBEAo8DJwBiApABOwC6ACEAhQCNAtsDqABpAcIAKgRSAEYAfQC1AuoA0QBkACAB8wAyBhYAmQC4AJwC9gV1AAYAcwSYAj4AewA8AWoAfgBjAAIAJQFaAPcCcAFxACYA7AAKAO8BWgIxBVIAAQSkA0kAMwBvAXYCqwI0AX8BJQBAAEEAPQH+AXIFWQDHAV0BkQKLAn0BewQGAucAcwFLAUIBiAK4Ad0EEwJjATcC4gERAI0AgwCMBIEA1QDyAmsArgE7AHYBQQA+AFIARQDXA3QAJAGDAg==",
          "dtype": "i2"
         },
         "xaxis": "x",
         "y": {
          "bdata": "uB6F65GTy0AAAAAAwMHBQAAAAAAAcLJAAAAAAABypkCuR+F69APGQMzMzMwMZ79AAAAAAABYukAAAAAAAISVQAAAAAAAYKhAcT0K1+MnuUAAAAAAACyjQFyPwvUoPrdAMzMzM/O7xEAAAAAAAPnAQAAAAAAAILJAhetRuB6fu0AzMzMzk8zGQAAAAAAA9b9AAAAAAACArUD2KFyPYv3JQAAAAACA5LJAmpmZmdnAvUAAAAAAgAi/QAAAAABAQ8BAAAAAAEDpvEAAAAAAAIW9QAAAAAAAQJpA9ihcjwJ3sUAAAAAAAH6yQPYoXI/Cu7VApHA9CpcLuUBxPQrX49DFQD0K16MwmsJAcT0K1+PQwkDD9Shcj1WlQAAAAAAAoJRAuB6F6xGLtUAAAAAAAOC/QI/C9Sg8fsJA4XoUrkdhukAAAAAAAD6vQDMzMzPzaNBAAAAAAADApUDNzMzMDBDIQAAAAAAA2L5AAAAAAAAmrkCF61G4nve4QFyPwvWouM1APQrXozC7v0DXo3A9atPCQAAAAAAAOqtAXI/C9UhbxUAAAAAAAOu0QAAAAAAAvMtAH4XrUTjStUAAAAAAAGWyQIXrUbgetbtAAAAAAIC1wEAAAAAAgJG4QDMzMzOz+ahAAAAAAAAOkEAAAAAAAOSrQFyPwvVoMrxArkfhehQAwkAAAAAAAAm0QBSuR+H6Qr1AAAAAAACwu0BSuB6Fy+bBQFyPwvVI78NAAAAAAAAQsEAAAAAAALihQFK4HoUrVsFAKVyPwnVppUAUrkfhqgXQQAAAAAAAFJBAAAAAAABQqUAAAAAAACquQAAAAAAAWKZAuB6F6xHJtkCPwvUoXDDBQAAAAAAAELZAAAAAAACbv0CPwvUoXBTNQAAAAAAAEI1AAAAAAACEl0AfhetR+LXGQAAAAABA4M5AZmZmZiZGwkDXo3A9qkXKQGZmZmamNb1AAAAAAACQu0DhehSux6K4QAAAAAAAWLBAAAAAAAAOw0AAAAAAAGSUQAAAAAAABLtAAAAAAABAnkAAAAAAABKxQHsUrkdhDrlAAAAAAAActEBxPQrXI3m2QAAAAAAAkKRArkfhehTmqkAAAAAAAECdQOF6FK5HdK9AH4XrUbj0v0AAAAAAAKynQAAAAACA3cJAAAAAAAAdoEAAAAAAABC0QAAAAAAAkKVAAAAAAACHuEAK16Nwvc2kQAAAAAAAfrlAXI/C9ainvEAzMzMzk33OQAAAAAAA4MFAAAAAAMDLw0AAAAAAAPS7QAAAAAAAQMFA4XoUrpd+0EAAAAAAAGzLQAAAAAAANrtA9ihcj4JuuEDD9Shcj4m3QMP1KFwvac9AexSuR0EuwEBcj8L1aByxQD4K16MwML1AAAAAAACSr0AAAAAAANCwQAAAAAAA0b5AAAAAAAAYt0AAAAAAACGyQAAAAAAA1rVAKVyPwvVdtkAAAAAAAFiWQGZmZmZmtK9AAAAAAADgukAAAAAAAEanQAAAAACAncVAuB6F6zEbwUAAAAAAwFvHQAAAAAAAgbpAAAAAAACQwkAAAAAAAACSQAAAAAAAErJAAAAAAIB9uUCF61G4XrO/QAAAAAAAAJ9AAAAAAAASy0AAAAAAACumQB+F61E4n7VAAAAAAABQiUAAAAAAAJDHQAAAAAAATLFAcT0K12PxsEDNzMzMDBi6QAAAAAAAAL1AAAAAAAC2vEAAAAAAAFbFQClcj8J13bhAKVyPwrWstEAAAAAAAIy8QArXo3C98rJAAAAAAADusUC4HoXr0V2kQAAAAAAAOqtAAAAAAAAcvUAAAAAAAEy3QAAAAAAAKrVAH4XrUTictUAAAAAAALC1QFyPwvUoNM9Aw/UoXA+av0AAAAAAAPayQAAAAAAAMMRAPQrXo/C6rUCF61G4njqqQAAAAAAAqM5AAAAAAACTyEBSuB6F69C1QI/C9SgcvLFAAAAAAACYl0Bcj8L1KDGrQAAAAAAAdqBAXI/C9Si8tUAAAAAAAAC9QAAAAAAAcLBAAAAAAABQv0AAAAAAALjEQLgehevxOc9AAAAAAACgjkAAAAAAAPq5QAAAAAAAYK1AAAAAAABLyEAAAAAAAEO0QAAAAAAAgL9AAAAAAADavEAfhetROGuxQAAAAACAorlAAAAAAAAAoUAAAAAAgMa5QAAAAAAAuqtAAAAAAABIn0AAAAAAADaiQAAAAAAAoLdAFK5H4TpTs0CuR+F6lJrNQI/C9ShcIMNArkfhejQbzUAK16NwHd/MQM3MzMzM7K1AAAAAAACCtEAAAAAAAICQQAAAAAAAPsdAH4XrUbiUpEApXI/CNV7AQAAAAAAAuMdA4XoUrkcZwUD2KFyPIrPBQAAAAAAAGKpAAAAAAACAjEAAAAAAAAbAQAAAAAAAQcZAZmZmZqa/yED2KFyPQoDJQJqZmZnZUchAAAAAAACEokBmZmZmRtPOQAAAAAAACslAAAAAAIARx0Bcj8L1qAOuQAAAAAAAscVAAAAAAAA+p0CF61G4nri5QEjhehQuCcBAAAAAAADPvkD2KFyPYnrKQAAAAAAAgJZAAAAAAAB/qkB7FK5HIdS/QEjhehQuRLdAAAAAAABqpEAAAAAAAOO2QAAAAAAAp8RAAAAAAACLsECQwvUonNq0QAAAAAAAxMBAH4XrUTgGo0AAAAAAADe0QIXrUbgela5AAAAAAIDQyEAAAAAAAJ65QAAAAAAAYJ9AAAAAAAAwvUBmZmZmplHMQAAAAACANa5AAAAAAIAkyUBI4XoUriSlQKRwPQp3KMpAPQrXo3AluUAAAAAAQCrIQDMzMzNzAbdAAAAAAAAAlEBSuB6FK+a1QAAAAAAAyqJA7FG4HgVjp0AAAAAAgH3DQJqZmZnZzrtApHA9ClcqwkD2KFyPwja5QI/C9Shc1adAKVyPwjUWs0A9CtejcBu9QD0K16NwXbhAAAAAAABCs0DNzMzMTBGtQAAAAAAA8b1AAAAAAADojUDNzMzMTNnAQAAAAACACdBAuB6F65FJtUDsUbgepYTBQAAAAAAA+plAAAAAAACRtkAAAAAAgCO0QEjhehQOpclAw/UoXA9npEDhehSuR66qQAAAAAAAYHtAAAAAAAAWrUCuR+F6FJW2QBSuR+F67r1AcT0K16OftEAAAAAAgEO6QAAAAAAAjKdAAAAAAACSwEAAAAAAAIiTQJqZmZmZq6VAFK5H4fott0BI4XoULhPKQAAAAAAAoKtA4XoUruekxEAAAAAAAFi0QAAAAAAAgLhAAAAAAACKpEBxPQrX4yC8QNejcD2KkbhAPQrXozAFuUCamZmZ2cm4QAAAAAAApL9Aw/UoXO8oxUAAAAAAABSkQAAAAAAAAr9AAAAAAAB1okAAAAAAADrBQB+F61EYXclAKVyPwjWDtEAAAAAAgLnBQAAAAAAAoLxAAAAAAADUrEDXo3A9KkLIQAAAAAAAZL9AexSuR6HXtEDC9Shcz+27QNejcD2KaKNAPQrXo3D8sEDD9ShcjzyoQIXrUbgeg71AAAAAAADgkEAAAAAAAOC5QAAAAACAaLJA16NwPYpMrkAzMzMzc/mwQLgeheuRmr5AAAAAAACGs0AAAAAAAOukQOxRuB7FY7hAAAAAAAD4tkAAAAAAAGy2QAAAAAAAbJJAAAAAAAAamUCF61G4Xj24QAAAAAAAupNAhetRuN5qv0AzMzMzs6q1QJqZmZmZIa5AXI/C9SgUv0AAAAAAgNa4QIXrUbgeBLhA7FG4HkXguUAK16Nw/c61QI/C9Sgc3LRAAAAAAADgg0AAAAAAAE+0QAAAAAAAlKdAAAAAAAAQmEAAAAAAAEu7QFK4HoUrYL9AAAAAAADmsEAAAAAAAFOnQAAAAAAAwKFAAAAAAAColUBxPQrX46+6QAAAAAAAAK5AAAAAAAB5rkAAAAAAAKS2QPYoXI9CEbBAZmZmZqZFskAzMzMzMwC+QFyPwvWotK5AMzMzM3PMuEAzMzMz8ym5QHE9Ctcjmb1AAAAAAAB8v0AAAAAAAPSqQFK4HoVrK6hAAAAAAACoo0B7FK5HYSGmQOF6FK5Hx6xA16NwPUoHuEBxPQrXo7O0QAAAAAAACKpAAAAAAACgqEA+CtejsMW3QAAAAAAAqJhAAAAAAMDsvUAAAAAAAGiXQAAAAAAAurJAAAAAAABAgEAAAAAAAFCeQIXrUbievLdAAAAAAAC9o0AAAAAAQAG/QAAAAACACrlAXI/C9agXvUAAAAAAAMSkQOxRuB6FjqxA4XoUrodCsEDD9ShcD+CqQAAAAAAAmLJAAAAAAACYrEAAAAAAALatQOxRuB7F9bJAZmZmZma/pUBxPQrXIx2sQNejcD2K0L9AzczMzMxBrUAfhetR+Am1QOF6FK7HCLxAAAAAAAB4s0BxPQrX4426QK5H4XoUmJhAAAAAAAAao0DsUbgeRaS5QEjhehQuDLdAZmZmZiZevkAAAAAAADy7QAAAAAAALLFAAAAAAEC0t0AAAAAAAKCeQAAAAAAAwLtAAAAAAACIoUAAAAAAAEGzQGZmZmYmGbFAAAAAAABcu0AAAAAAACCzQMP1KFyPQLRAAAAAAABeoUD2KFyPQha9QM3MzMzMJ7BAAAAAAAAop0AAAAAAALCsQAAAAAAAfqtAAAAAAABRq0ApXI/CdfqjQIXrUbiewr5A16NwPYoxtkAUrkfh+iGyQAAAAAAAzL5ApHA9CleluUAzMzMzsz+2QIXrUbge0b9AZmZmZibyu0AzMzMz85WwQAAAAACARLdAKVyPwjWcu0AAAAAAAMCXQB+F61F4/LlAFK5H4XoesEAK16Nwvcy0QAAAAAAA8L5AAAAAAIBduEDhehSuh6+zQClcj8K1sLVAhetRuF4Nt0ApXI/CNTi/QAAAAAAA+LhAUrgehev/sUAAAAAAAJCkQA==",
          "dtype": "f8"
         },
         "yaxis": "y"
        },
        {
         "customdata": {
          "bdata": "DAANACEAJAApADIAOQBNAE4AVwBuAHAAcQByAHQAdgCHAIoAjgCXAJoAoACkAK0AsAC6AMAAxQDKAMsAzADqAO8A8gD5AAQBCgENARkBHAEeAR8BLgEyAUEBRgFSAVMBVgFbAYIBhQGQAZMBlwGaAZ0BoAGhAbcBuAG6AcABywHRAdcB3gHrAfgBBgIQAhECFQIZAhoCGwIdAh8CJAIpAjICMwI3AjkCOgI7AkACSAJMAk8CUAJUAl8CYgJkAm0CcwKEAokCowLMAtwC5gLqAvIC+wIrA0QDUANTA1kDcgOYA5wDtQO8A8sD4gPsA/ID9wP6AwsEEQRFBEwEVgReBGMEcAR0BIUEtATsBPEEDQUTBRUFOQU9BUMFRwVsBX8FuwXDBcQF0AXpBf0FDAYYBhwGPwZMBk0GcAagBqIGsQa/Bg==",
          "dtype": "i2",
          "shape": "161, 1"
         },
         "hovertemplate": "Segment=High Value-Low Activity<br>Recency=%{x}<br>Monetary=%{y}<br>Frequency=%{marker.size}<br>owner_id=%{customdata[0]}<extra></extra>",
         "legendgroup": "High Value-Low Activity",
         "marker": {
          "color": "#19d3f3",
          "size": {
           "bdata": "AgEBAQIBAgECAQICAQICAgICAgIBAQICAgICAQICAQICAgIBAQICAQEBAQICAgEBAQICAgEBAQEBAQIBAgICAgICAQECAQEBAgICAgIBAgICAQICAgIBAgECAQIBAgEBAgIBAQEBAQEBAQEBAQEBAQEBAQEBAQEBAQEBAQEBAQEBAQEBAQEBAQEBAQEBAQEBAQEBAQEBAQEBAQEBAQEBAQE=",
           "dtype": "i1"
          },
          "sizemode": "area",
          "sizeref": 0.0175,
          "symbol": "circle"
         },
         "mode": "markers",
         "name": "High Value-Low Activity",
         "showlegend": true,
         "type": "scattergl",
         "x": {
          "bdata": "7ACvAOgAmwSMAU0DsgCEBngA5ATbAAkBAwGdAHoAcQBkAk8BBgFKAgABJAAfBHcAbgKzAOQApwDMAdkBSQANAnwAqACBAKUESQG9AcAA9AA1ADMAzAHZAIIAigByAD0ANgD/AX0BQgEFAqYDFQBEA0UBLAHDAQkDxAAaA+cA8gOcAFoBRAE+ADABMgDgAFABBwGTAEwDyAKGAb8A1gDUACsBOwQmAeABMQFpATQEjQDUAHQBKgEnAbsBeQDFAXEAzAH3AJ0A6wFjAEgCkgQkATwBsAASAXADbwEWA3wCeQAAAQYCxQCTAMsBswEwBEkCrgEmAh8BFQNYAbcBywWrBYwB0AMWAskClQDcBKsDAgOmAY4BQwGOAlUBvgJaBGgDEAOqACkBjADDAEQEZQELAdoA2AHjAF4B2gORADEB4wB7Aw==",
          "dtype": "i2"
         },
         "xaxis": "x",
         "y": {
          "bdata": "KVyPwgUI6EAAAAAAQEbTQFK4HoULV9tAcT0K1/Mp0kDhehSut3LdQD0K16MArdRAuB6F6xGH00CamZmZyfvTQJqZmZlpnNZArkfhesxe4UApXI/ChcPxQEjhehRugdRApHA9ClcY30D2KFyPMobUQOF6FK5/le9AmpmZmYkD6UBxPQrX0y7bQM3MzMxM4ONAMzMzM5uB60CPwvUopAvmQHsUrkdh9tdAH4XrUSBp4EDhehSuF5rSQML1KFxnwOFASOF6FK4j6UBSuB6FG8DSQLgehevxStJAAAAAAID400DC9ShcX/LWQAAAAAAwSuRAKVyPwi0q7UDNzMzMLNfTQGZmZmZuH+pAAAAAAEDV7UAzMzMzK5HrQClcj8JNquBAUrgehSsO3EBxPQrXQ+DTQHsUrkdRDtJAH4XrUYgB2UBxPQrXg1fYQIXrUbieftJA7FG4HjX61EDC9Shcr6LaQGZmZma2oOVAKVyPwlUb4kAfhetRmPniQEjhehSGjeNASOF6FG7G00A+CtejgCfTQOJ6FK5vfONAXI/C9Xhb3EBcj8L1yAHUQHsUrkehG+RAAAAAAIBT3UA9CtejSOXlQPYoXI/yltpAAAAAAIDm5kDD9ShcD/jtQKRwPQrXoulApHA9Ch9q5EAAAAAAAAPRQEfhehS+SetArkfhevTw3EDNzMzMvGvkQAAAAADgD+NASOF6FL7C20D2KFyP8iXaQHsUrkfhn+tAFK5H4bpG3kAAAAAAQG7VQClcj8JtmuJAhetRuH7W0kBSuB6FS83QQML1KFw/HORAXI/C9QhM0kDC9Shc/77YQAAAAACATdRAPgrXozAl1kDNzMzMDITpQHE9CtdTPdxA9ihcj1Kp1EAAAAAAgI7UQClcj8JJhfVArkfhejzG4EAAAAAAADjWQAAAAABAvdFA7FG4HoVf5UD2KFyPYmfSQAAAAABAqdxAKVyPwlVk4kBcj8L1yL3VQHE9CtdbK+BAkML1KHRM50AAAAAAQF/gQHsUrkfxxNBACtejcE3c3UApXI/Cpc3RQJqZmZnZzdJA16NwPaq55UDsUbgeJXPfQClcj8L1Ft5AH4XrUWBh40BI4XoUngj0QOxRuB5FKtlA7FG4Hg055EAK16NwhQnzQAAAAAAACthA7FG4HjVe00CuR+F6dEvaQAAAAAAAveJA9ihcj/Kb50AAAAAAABDSQAAAAAAwE9tArkfhehR41kCamZmZXR3xQI/C9SgUQOBA9GxWfdKx1UAUrkfhuvbTQAAAAACA4tBA4XoUrmfO00AAAAAAwBLYQAAAAACA++FACtejcB060kAAAAAAAIPTQOF6FK6XFvZArkfheoSb1UCamZmZ2b/TQMP1KFxvDNhAMzMzM0NJ2EBcj8L1OOrwQHE9CtfDnddAAAAAAMCb00CF61G4XtHXQMP1KFw/YdFAAAAAAMCM0EB7FK5HZb3yQI/C9SgsK9FAAAAAAMCi1UBxPQrXUzPfQHsUrkehA9RAuB6F6wF840C4HoXrgZHUQM3MzMz8QdNAAAAAAKAe4UDsUbgeVRniQFK4HoXb9NdAAAAAAAA430BSuB6FGyLRQIXrUbhuX9ZAH4XrUWhV4EDsUbge9fnTQHsUrkdpd+VA16NwPboP0kA9CtejML/lQBSuR+E6B99AH4XrUWB240AAAAAAABDRQClcj8LVddFAcT0K14O/1EAAAAAAAATaQA==",
          "dtype": "f8"
         },
         "yaxis": "y"
        }
       ],
       "layout": {
        "legend": {
         "itemsizing": "constant",
         "title": {
          "text": "Segment"
         },
         "tracegroupgap": 0
        },
        "template": {
         "data": {
          "bar": [
           {
            "error_x": {
             "color": "#2a3f5f"
            },
            "error_y": {
             "color": "#2a3f5f"
            },
            "marker": {
             "line": {
              "color": "#E5ECF6",
              "width": 0.5
             },
             "pattern": {
              "fillmode": "overlay",
              "size": 10,
              "solidity": 0.2
             }
            },
            "type": "bar"
           }
          ],
          "barpolar": [
           {
            "marker": {
             "line": {
              "color": "#E5ECF6",
              "width": 0.5
             },
             "pattern": {
              "fillmode": "overlay",
              "size": 10,
              "solidity": 0.2
             }
            },
            "type": "barpolar"
           }
          ],
          "carpet": [
           {
            "aaxis": {
             "endlinecolor": "#2a3f5f",
             "gridcolor": "white",
             "linecolor": "white",
             "minorgridcolor": "white",
             "startlinecolor": "#2a3f5f"
            },
            "baxis": {
             "endlinecolor": "#2a3f5f",
             "gridcolor": "white",
             "linecolor": "white",
             "minorgridcolor": "white",
             "startlinecolor": "#2a3f5f"
            },
            "type": "carpet"
           }
          ],
          "choropleth": [
           {
            "colorbar": {
             "outlinewidth": 0,
             "ticks": ""
            },
            "type": "choropleth"
           }
          ],
          "contour": [
           {
            "colorbar": {
             "outlinewidth": 0,
             "ticks": ""
            },
            "colorscale": [
             [
              0,
              "#0d0887"
             ],
             [
              0.1111111111111111,
              "#46039f"
             ],
             [
              0.2222222222222222,
              "#7201a8"
             ],
             [
              0.3333333333333333,
              "#9c179e"
             ],
             [
              0.4444444444444444,
              "#bd3786"
             ],
             [
              0.5555555555555556,
              "#d8576b"
             ],
             [
              0.6666666666666666,
              "#ed7953"
             ],
             [
              0.7777777777777778,
              "#fb9f3a"
             ],
             [
              0.8888888888888888,
              "#fdca26"
             ],
             [
              1,
              "#f0f921"
             ]
            ],
            "type": "contour"
           }
          ],
          "contourcarpet": [
           {
            "colorbar": {
             "outlinewidth": 0,
             "ticks": ""
            },
            "type": "contourcarpet"
           }
          ],
          "heatmap": [
           {
            "colorbar": {
             "outlinewidth": 0,
             "ticks": ""
            },
            "colorscale": [
             [
              0,
              "#0d0887"
             ],
             [
              0.1111111111111111,
              "#46039f"
             ],
             [
              0.2222222222222222,
              "#7201a8"
             ],
             [
              0.3333333333333333,
              "#9c179e"
             ],
             [
              0.4444444444444444,
              "#bd3786"
             ],
             [
              0.5555555555555556,
              "#d8576b"
             ],
             [
              0.6666666666666666,
              "#ed7953"
             ],
             [
              0.7777777777777778,
              "#fb9f3a"
             ],
             [
              0.8888888888888888,
              "#fdca26"
             ],
             [
              1,
              "#f0f921"
             ]
            ],
            "type": "heatmap"
           }
          ],
          "histogram": [
           {
            "marker": {
             "pattern": {
              "fillmode": "overlay",
              "size": 10,
              "solidity": 0.2
             }
            },
            "type": "histogram"
           }
          ],
          "histogram2d": [
           {
            "colorbar": {
             "outlinewidth": 0,
             "ticks": ""
            },
            "colorscale": [
             [
              0,
              "#0d0887"
             ],
             [
              0.1111111111111111,
              "#46039f"
             ],
             [
              0.2222222222222222,
              "#7201a8"
             ],
             [
              0.3333333333333333,
              "#9c179e"
             ],
             [
              0.4444444444444444,
              "#bd3786"
             ],
             [
              0.5555555555555556,
              "#d8576b"
             ],
             [
              0.6666666666666666,
              "#ed7953"
             ],
             [
              0.7777777777777778,
              "#fb9f3a"
             ],
             [
              0.8888888888888888,
              "#fdca26"
             ],
             [
              1,
              "#f0f921"
             ]
            ],
            "type": "histogram2d"
           }
          ],
          "histogram2dcontour": [
           {
            "colorbar": {
             "outlinewidth": 0,
             "ticks": ""
            },
            "colorscale": [
             [
              0,
              "#0d0887"
             ],
             [
              0.1111111111111111,
              "#46039f"
             ],
             [
              0.2222222222222222,
              "#7201a8"
             ],
             [
              0.3333333333333333,
              "#9c179e"
             ],
             [
              0.4444444444444444,
              "#bd3786"
             ],
             [
              0.5555555555555556,
              "#d8576b"
             ],
             [
              0.6666666666666666,
              "#ed7953"
             ],
             [
              0.7777777777777778,
              "#fb9f3a"
             ],
             [
              0.8888888888888888,
              "#fdca26"
             ],
             [
              1,
              "#f0f921"
             ]
            ],
            "type": "histogram2dcontour"
           }
          ],
          "mesh3d": [
           {
            "colorbar": {
             "outlinewidth": 0,
             "ticks": ""
            },
            "type": "mesh3d"
           }
          ],
          "parcoords": [
           {
            "line": {
             "colorbar": {
              "outlinewidth": 0,
              "ticks": ""
             }
            },
            "type": "parcoords"
           }
          ],
          "pie": [
           {
            "automargin": true,
            "type": "pie"
           }
          ],
          "scatter": [
           {
            "fillpattern": {
             "fillmode": "overlay",
             "size": 10,
             "solidity": 0.2
            },
            "type": "scatter"
           }
          ],
          "scatter3d": [
           {
            "line": {
             "colorbar": {
              "outlinewidth": 0,
              "ticks": ""
             }
            },
            "marker": {
             "colorbar": {
              "outlinewidth": 0,
              "ticks": ""
             }
            },
            "type": "scatter3d"
           }
          ],
          "scattercarpet": [
           {
            "marker": {
             "colorbar": {
              "outlinewidth": 0,
              "ticks": ""
             }
            },
            "type": "scattercarpet"
           }
          ],
          "scattergeo": [
           {
            "marker": {
             "colorbar": {
              "outlinewidth": 0,
              "ticks": ""
             }
            },
            "type": "scattergeo"
           }
          ],
          "scattergl": [
           {
            "marker": {
             "colorbar": {
              "outlinewidth": 0,
              "ticks": ""
             }
            },
            "type": "scattergl"
           }
          ],
          "scattermap": [
           {
            "marker": {
             "colorbar": {
              "outlinewidth": 0,
              "ticks": ""
             }
            },
            "type": "scattermap"
           }
          ],
          "scattermapbox": [
           {
            "marker": {
             "colorbar": {
              "outlinewidth": 0,
              "ticks": ""
             }
            },
            "type": "scattermapbox"
           }
          ],
          "scatterpolar": [
           {
            "marker": {
             "colorbar": {
              "outlinewidth": 0,
              "ticks": ""
             }
            },
            "type": "scatterpolar"
           }
          ],
          "scatterpolargl": [
           {
            "marker": {
             "colorbar": {
              "outlinewidth": 0,
              "ticks": ""
             }
            },
            "type": "scatterpolargl"
           }
          ],
          "scatterternary": [
           {
            "marker": {
             "colorbar": {
              "outlinewidth": 0,
              "ticks": ""
             }
            },
            "type": "scatterternary"
           }
          ],
          "surface": [
           {
            "colorbar": {
             "outlinewidth": 0,
             "ticks": ""
            },
            "colorscale": [
             [
              0,
              "#0d0887"
             ],
             [
              0.1111111111111111,
              "#46039f"
             ],
             [
              0.2222222222222222,
              "#7201a8"
             ],
             [
              0.3333333333333333,
              "#9c179e"
             ],
             [
              0.4444444444444444,
              "#bd3786"
             ],
             [
              0.5555555555555556,
              "#d8576b"
             ],
             [
              0.6666666666666666,
              "#ed7953"
             ],
             [
              0.7777777777777778,
              "#fb9f3a"
             ],
             [
              0.8888888888888888,
              "#fdca26"
             ],
             [
              1,
              "#f0f921"
             ]
            ],
            "type": "surface"
           }
          ],
          "table": [
           {
            "cells": {
             "fill": {
              "color": "#EBF0F8"
             },
             "line": {
              "color": "white"
             }
            },
            "header": {
             "fill": {
              "color": "#C8D4E3"
             },
             "line": {
              "color": "white"
             }
            },
            "type": "table"
           }
          ]
         },
         "layout": {
          "annotationdefaults": {
           "arrowcolor": "#2a3f5f",
           "arrowhead": 0,
           "arrowwidth": 1
          },
          "autotypenumbers": "strict",
          "coloraxis": {
           "colorbar": {
            "outlinewidth": 0,
            "ticks": ""
           }
          },
          "colorscale": {
           "diverging": [
            [
             0,
             "#8e0152"
            ],
            [
             0.1,
             "#c51b7d"
            ],
            [
             0.2,
             "#de77ae"
            ],
            [
             0.3,
             "#f1b6da"
            ],
            [
             0.4,
             "#fde0ef"
            ],
            [
             0.5,
             "#f7f7f7"
            ],
            [
             0.6,
             "#e6f5d0"
            ],
            [
             0.7,
             "#b8e186"
            ],
            [
             0.8,
             "#7fbc41"
            ],
            [
             0.9,
             "#4d9221"
            ],
            [
             1,
             "#276419"
            ]
           ],
           "sequential": [
            [
             0,
             "#0d0887"
            ],
            [
             0.1111111111111111,
             "#46039f"
            ],
            [
             0.2222222222222222,
             "#7201a8"
            ],
            [
             0.3333333333333333,
             "#9c179e"
            ],
            [
             0.4444444444444444,
             "#bd3786"
            ],
            [
             0.5555555555555556,
             "#d8576b"
            ],
            [
             0.6666666666666666,
             "#ed7953"
            ],
            [
             0.7777777777777778,
             "#fb9f3a"
            ],
            [
             0.8888888888888888,
             "#fdca26"
            ],
            [
             1,
             "#f0f921"
            ]
           ],
           "sequentialminus": [
            [
             0,
             "#0d0887"
            ],
            [
             0.1111111111111111,
             "#46039f"
            ],
            [
             0.2222222222222222,
             "#7201a8"
            ],
            [
             0.3333333333333333,
             "#9c179e"
            ],
            [
             0.4444444444444444,
             "#bd3786"
            ],
            [
             0.5555555555555556,
             "#d8576b"
            ],
            [
             0.6666666666666666,
             "#ed7953"
            ],
            [
             0.7777777777777778,
             "#fb9f3a"
            ],
            [
             0.8888888888888888,
             "#fdca26"
            ],
            [
             1,
             "#f0f921"
            ]
           ]
          },
          "colorway": [
           "#636efa",
           "#EF553B",
           "#00cc96",
           "#ab63fa",
           "#FFA15A",
           "#19d3f3",
           "#FF6692",
           "#B6E880",
           "#FF97FF",
           "#FECB52"
          ],
          "font": {
           "color": "#2a3f5f"
          },
          "geo": {
           "bgcolor": "white",
           "lakecolor": "white",
           "landcolor": "#E5ECF6",
           "showlakes": true,
           "showland": true,
           "subunitcolor": "white"
          },
          "hoverlabel": {
           "align": "left"
          },
          "hovermode": "closest",
          "mapbox": {
           "style": "light"
          },
          "paper_bgcolor": "white",
          "plot_bgcolor": "#E5ECF6",
          "polar": {
           "angularaxis": {
            "gridcolor": "white",
            "linecolor": "white",
            "ticks": ""
           },
           "bgcolor": "#E5ECF6",
           "radialaxis": {
            "gridcolor": "white",
            "linecolor": "white",
            "ticks": ""
           }
          },
          "scene": {
           "xaxis": {
            "backgroundcolor": "#E5ECF6",
            "gridcolor": "white",
            "gridwidth": 2,
            "linecolor": "white",
            "showbackground": true,
            "ticks": "",
            "zerolinecolor": "white"
           },
           "yaxis": {
            "backgroundcolor": "#E5ECF6",
            "gridcolor": "white",
            "gridwidth": 2,
            "linecolor": "white",
            "showbackground": true,
            "ticks": "",
            "zerolinecolor": "white"
           },
           "zaxis": {
            "backgroundcolor": "#E5ECF6",
            "gridcolor": "white",
            "gridwidth": 2,
            "linecolor": "white",
            "showbackground": true,
            "ticks": "",
            "zerolinecolor": "white"
           }
          },
          "shapedefaults": {
           "line": {
            "color": "#2a3f5f"
           }
          },
          "ternary": {
           "aaxis": {
            "gridcolor": "white",
            "linecolor": "white",
            "ticks": ""
           },
           "baxis": {
            "gridcolor": "white",
            "linecolor": "white",
            "ticks": ""
           },
           "bgcolor": "#E5ECF6",
           "caxis": {
            "gridcolor": "white",
            "linecolor": "white",
            "ticks": ""
           }
          },
          "title": {
           "x": 0.05
          },
          "xaxis": {
           "automargin": true,
           "gridcolor": "white",
           "linecolor": "white",
           "ticks": "",
           "title": {
            "standoff": 15
           },
           "zerolinecolor": "white",
           "zerolinewidth": 2
          },
          "yaxis": {
           "automargin": true,
           "gridcolor": "white",
           "linecolor": "white",
           "ticks": "",
           "title": {
            "standoff": 15
           },
           "zerolinecolor": "white",
           "zerolinewidth": 2
          }
         }
        },
        "title": {
         "text": "RFM Segmentation Scatter Plot"
        },
        "xaxis": {
         "anchor": "y",
         "domain": [
          0,
          1
         ],
         "title": {
          "text": "Recency"
         },
         "type": "log"
        },
        "yaxis": {
         "anchor": "x",
         "domain": [
          0,
          1
         ],
         "title": {
          "text": "Monetary"
         },
         "type": "log"
        }
       }
      }
     },
     "metadata": {},
     "output_type": "display_data"
    }
   ],
   "source": [
    "fig_bubble = px.scatter(owner_agg_df,\n",
    "                        x='Recency', \n",
    "                        y='Monetary', \n",
    "                        size='Frequency',  \n",
    "                        color='Segment', \n",
    "                        hover_data=['owner_id'], \n",
    "                        title='RFM Segmentation Scatter Plot')\n",
    "fig_bubble.update_layout(xaxis_type=\"log\")\n",
    "fig_bubble.update_layout(yaxis_type=\"log\")\n",
    "fig_bubble.show()"
   ]
  },
  {
   "cell_type": "code",
   "execution_count": 21,
   "id": "9302d577",
   "metadata": {},
   "outputs": [
    {
     "data": {
      "text/plain": [
       "'\\n\\nLarger dots represent owners with higher transaction frequency.\\n\\nChampions show high monetary value, frequent transactions, and recent activity, clustering in the top-right of the plot.\\n\\nLoyal Owners have high frequency and spending but are less recent, clustering in the top-middle.\\n\\nAt Risk owners display high monetary value and frequency but long inactivity, clustering in the top-left.\\n\\nHigh Value-Low Activity owners indicate high spending with few transactions.\\n\\nDormant Owners show long inactivity or low spending, clustering in the lower area of the plot.\\n\\nEmerging Owners demonstrate recent activity with moderate to high frequency or spending.\\n\\n'"
      ]
     },
     "execution_count": 21,
     "metadata": {},
     "output_type": "execute_result"
    }
   ],
   "source": [
    "\"\"\"\n",
    "\n",
    "Larger dots represent owners with higher transaction frequency.\n",
    "\n",
    "Champions show high monetary value, frequent transactions, and recent activity, clustering in the top-right of the plot.\n",
    "\n",
    "Loyal Owners have high frequency and spending but are less recent, clustering in the top-middle.\n",
    "\n",
    "At Risk owners display high monetary value and frequency but long inactivity, clustering in the top-left.\n",
    "\n",
    "High Value-Low Activity owners indicate high spending with few transactions.\n",
    "\n",
    "Dormant Owners show long inactivity or low spending, clustering in the lower area of the plot.\n",
    "\n",
    "Emerging Owners demonstrate recent activity with moderate to high frequency or spending.\n",
    "\n",
    "\"\"\""
   ]
  },
  {
   "cell_type": "code",
   "execution_count": 22,
   "id": "d9b94676",
   "metadata": {},
   "outputs": [
    {
     "data": {
      "application/vnd.plotly.v1+json": {
       "config": {
        "plotlyServerURL": "https://plot.ly"
       },
       "data": [
        {
         "bingroup": "x",
         "hovertemplate": "Segment=%{x}<br>count=%{y}<extra></extra>",
         "legendgroup": "At Risk",
         "marker": {
          "color": "#636efa",
          "pattern": {
           "shape": ""
          }
         },
         "name": "At Risk",
         "orientation": "v",
         "showlegend": true,
         "texttemplate": "%{value}",
         "type": "histogram",
         "x": [
          "At Risk",
          "At Risk",
          "At Risk",
          "At Risk",
          "At Risk",
          "At Risk",
          "At Risk",
          "At Risk",
          "At Risk",
          "At Risk",
          "At Risk",
          "At Risk",
          "At Risk",
          "At Risk",
          "At Risk",
          "At Risk",
          "At Risk",
          "At Risk",
          "At Risk",
          "At Risk",
          "At Risk",
          "At Risk",
          "At Risk",
          "At Risk",
          "At Risk",
          "At Risk",
          "At Risk",
          "At Risk",
          "At Risk",
          "At Risk",
          "At Risk",
          "At Risk",
          "At Risk",
          "At Risk",
          "At Risk",
          "At Risk",
          "At Risk",
          "At Risk",
          "At Risk",
          "At Risk",
          "At Risk",
          "At Risk",
          "At Risk",
          "At Risk",
          "At Risk",
          "At Risk",
          "At Risk",
          "At Risk",
          "At Risk",
          "At Risk",
          "At Risk",
          "At Risk",
          "At Risk",
          "At Risk",
          "At Risk",
          "At Risk",
          "At Risk",
          "At Risk",
          "At Risk",
          "At Risk",
          "At Risk",
          "At Risk",
          "At Risk",
          "At Risk",
          "At Risk",
          "At Risk",
          "At Risk",
          "At Risk",
          "At Risk",
          "At Risk",
          "At Risk",
          "At Risk",
          "At Risk",
          "At Risk",
          "At Risk",
          "At Risk",
          "At Risk",
          "At Risk",
          "At Risk",
          "At Risk",
          "At Risk",
          "At Risk",
          "At Risk",
          "At Risk",
          "At Risk",
          "At Risk",
          "At Risk",
          "At Risk",
          "At Risk",
          "At Risk",
          "At Risk",
          "At Risk",
          "At Risk",
          "At Risk",
          "At Risk",
          "At Risk",
          "At Risk",
          "At Risk",
          "At Risk",
          "At Risk",
          "At Risk",
          "At Risk",
          "At Risk",
          "At Risk",
          "At Risk",
          "At Risk",
          "At Risk",
          "At Risk",
          "At Risk",
          "At Risk",
          "At Risk",
          "At Risk",
          "At Risk",
          "At Risk",
          "At Risk",
          "At Risk",
          "At Risk",
          "At Risk",
          "At Risk",
          "At Risk",
          "At Risk",
          "At Risk",
          "At Risk",
          "At Risk",
          "At Risk",
          "At Risk",
          "At Risk",
          "At Risk",
          "At Risk",
          "At Risk",
          "At Risk",
          "At Risk",
          "At Risk",
          "At Risk",
          "At Risk",
          "At Risk",
          "At Risk",
          "At Risk",
          "At Risk",
          "At Risk",
          "At Risk",
          "At Risk",
          "At Risk",
          "At Risk",
          "At Risk",
          "At Risk",
          "At Risk",
          "At Risk",
          "At Risk",
          "At Risk",
          "At Risk",
          "At Risk",
          "At Risk",
          "At Risk",
          "At Risk",
          "At Risk",
          "At Risk",
          "At Risk",
          "At Risk",
          "At Risk",
          "At Risk",
          "At Risk",
          "At Risk",
          "At Risk",
          "At Risk",
          "At Risk",
          "At Risk",
          "At Risk",
          "At Risk",
          "At Risk",
          "At Risk",
          "At Risk",
          "At Risk",
          "At Risk",
          "At Risk",
          "At Risk",
          "At Risk",
          "At Risk",
          "At Risk",
          "At Risk",
          "At Risk",
          "At Risk",
          "At Risk",
          "At Risk",
          "At Risk",
          "At Risk",
          "At Risk",
          "At Risk",
          "At Risk",
          "At Risk",
          "At Risk",
          "At Risk",
          "At Risk",
          "At Risk",
          "At Risk",
          "At Risk",
          "At Risk",
          "At Risk",
          "At Risk",
          "At Risk",
          "At Risk",
          "At Risk",
          "At Risk",
          "At Risk",
          "At Risk",
          "At Risk",
          "At Risk",
          "At Risk",
          "At Risk",
          "At Risk",
          "At Risk",
          "At Risk",
          "At Risk",
          "At Risk",
          "At Risk",
          "At Risk",
          "At Risk",
          "At Risk",
          "At Risk",
          "At Risk",
          "At Risk",
          "At Risk",
          "At Risk",
          "At Risk",
          "At Risk",
          "At Risk",
          "At Risk",
          "At Risk",
          "At Risk",
          "At Risk",
          "At Risk",
          "At Risk",
          "At Risk",
          "At Risk",
          "At Risk",
          "At Risk",
          "At Risk",
          "At Risk",
          "At Risk",
          "At Risk",
          "At Risk",
          "At Risk",
          "At Risk",
          "At Risk",
          "At Risk",
          "At Risk",
          "At Risk",
          "At Risk",
          "At Risk",
          "At Risk",
          "At Risk",
          "At Risk",
          "At Risk",
          "At Risk",
          "At Risk",
          "At Risk",
          "At Risk",
          "At Risk",
          "At Risk",
          "At Risk",
          "At Risk",
          "At Risk",
          "At Risk",
          "At Risk",
          "At Risk",
          "At Risk",
          "At Risk",
          "At Risk",
          "At Risk",
          "At Risk",
          "At Risk",
          "At Risk",
          "At Risk",
          "At Risk",
          "At Risk",
          "At Risk",
          "At Risk",
          "At Risk",
          "At Risk",
          "At Risk",
          "At Risk",
          "At Risk",
          "At Risk",
          "At Risk",
          "At Risk",
          "At Risk",
          "At Risk",
          "At Risk",
          "At Risk",
          "At Risk",
          "At Risk",
          "At Risk",
          "At Risk",
          "At Risk",
          "At Risk",
          "At Risk",
          "At Risk",
          "At Risk",
          "At Risk",
          "At Risk",
          "At Risk",
          "At Risk",
          "At Risk",
          "At Risk",
          "At Risk",
          "At Risk",
          "At Risk",
          "At Risk",
          "At Risk",
          "At Risk",
          "At Risk",
          "At Risk",
          "At Risk",
          "At Risk",
          "At Risk",
          "At Risk",
          "At Risk",
          "At Risk",
          "At Risk",
          "At Risk",
          "At Risk",
          "At Risk",
          "At Risk",
          "At Risk",
          "At Risk",
          "At Risk",
          "At Risk",
          "At Risk",
          "At Risk",
          "At Risk",
          "At Risk",
          "At Risk",
          "At Risk",
          "At Risk",
          "At Risk",
          "At Risk",
          "At Risk",
          "At Risk",
          "At Risk",
          "At Risk",
          "At Risk",
          "At Risk",
          "At Risk",
          "At Risk",
          "At Risk",
          "At Risk",
          "At Risk",
          "At Risk",
          "At Risk",
          "At Risk",
          "At Risk",
          "At Risk",
          "At Risk",
          "At Risk",
          "At Risk",
          "At Risk",
          "At Risk",
          "At Risk",
          "At Risk",
          "At Risk",
          "At Risk",
          "At Risk",
          "At Risk",
          "At Risk",
          "At Risk",
          "At Risk",
          "At Risk",
          "At Risk",
          "At Risk",
          "At Risk",
          "At Risk",
          "At Risk",
          "At Risk",
          "At Risk",
          "At Risk",
          "At Risk",
          "At Risk",
          "At Risk",
          "At Risk",
          "At Risk",
          "At Risk",
          "At Risk",
          "At Risk",
          "At Risk",
          "At Risk",
          "At Risk",
          "At Risk",
          "At Risk",
          "At Risk",
          "At Risk",
          "At Risk",
          "At Risk"
         ],
         "xaxis": "x",
         "yaxis": "y"
        },
        {
         "bingroup": "x",
         "hovertemplate": "Segment=%{x}<br>count=%{y}<extra></extra>",
         "legendgroup": "Champion",
         "marker": {
          "color": "#EF553B",
          "pattern": {
           "shape": ""
          }
         },
         "name": "Champion",
         "orientation": "v",
         "showlegend": true,
         "texttemplate": "%{value}",
         "type": "histogram",
         "x": [
          "Champion",
          "Champion",
          "Champion",
          "Champion",
          "Champion",
          "Champion",
          "Champion",
          "Champion",
          "Champion",
          "Champion",
          "Champion",
          "Champion",
          "Champion",
          "Champion",
          "Champion",
          "Champion",
          "Champion",
          "Champion",
          "Champion",
          "Champion",
          "Champion",
          "Champion",
          "Champion",
          "Champion",
          "Champion",
          "Champion",
          "Champion",
          "Champion",
          "Champion",
          "Champion",
          "Champion",
          "Champion",
          "Champion",
          "Champion",
          "Champion",
          "Champion",
          "Champion",
          "Champion",
          "Champion",
          "Champion",
          "Champion",
          "Champion",
          "Champion",
          "Champion",
          "Champion",
          "Champion",
          "Champion",
          "Champion",
          "Champion",
          "Champion",
          "Champion",
          "Champion",
          "Champion",
          "Champion",
          "Champion",
          "Champion",
          "Champion",
          "Champion",
          "Champion",
          "Champion",
          "Champion",
          "Champion",
          "Champion",
          "Champion",
          "Champion",
          "Champion",
          "Champion",
          "Champion",
          "Champion",
          "Champion",
          "Champion",
          "Champion",
          "Champion",
          "Champion",
          "Champion",
          "Champion",
          "Champion",
          "Champion",
          "Champion",
          "Champion",
          "Champion",
          "Champion",
          "Champion",
          "Champion",
          "Champion",
          "Champion",
          "Champion",
          "Champion",
          "Champion",
          "Champion",
          "Champion",
          "Champion",
          "Champion",
          "Champion",
          "Champion",
          "Champion",
          "Champion",
          "Champion",
          "Champion",
          "Champion",
          "Champion",
          "Champion",
          "Champion",
          "Champion",
          "Champion",
          "Champion",
          "Champion",
          "Champion",
          "Champion",
          "Champion",
          "Champion",
          "Champion",
          "Champion",
          "Champion",
          "Champion",
          "Champion",
          "Champion",
          "Champion",
          "Champion"
         ],
         "xaxis": "x",
         "yaxis": "y"
        },
        {
         "bingroup": "x",
         "hovertemplate": "Segment=%{x}<br>count=%{y}<extra></extra>",
         "legendgroup": "Emerging Owne",
         "marker": {
          "color": "#00cc96",
          "pattern": {
           "shape": ""
          }
         },
         "name": "Emerging Owne",
         "orientation": "v",
         "showlegend": true,
         "texttemplate": "%{value}",
         "type": "histogram",
         "x": [
          "Emerging Owne",
          "Emerging Owne",
          "Emerging Owne",
          "Emerging Owne",
          "Emerging Owne",
          "Emerging Owne",
          "Emerging Owne",
          "Emerging Owne",
          "Emerging Owne",
          "Emerging Owne",
          "Emerging Owne",
          "Emerging Owne",
          "Emerging Owne",
          "Emerging Owne",
          "Emerging Owne",
          "Emerging Owne",
          "Emerging Owne",
          "Emerging Owne",
          "Emerging Owne",
          "Emerging Owne",
          "Emerging Owne",
          "Emerging Owne",
          "Emerging Owne",
          "Emerging Owne",
          "Emerging Owne",
          "Emerging Owne",
          "Emerging Owne",
          "Emerging Owne",
          "Emerging Owne",
          "Emerging Owne",
          "Emerging Owne",
          "Emerging Owne",
          "Emerging Owne",
          "Emerging Owne",
          "Emerging Owne",
          "Emerging Owne",
          "Emerging Owne",
          "Emerging Owne",
          "Emerging Owne",
          "Emerging Owne",
          "Emerging Owne",
          "Emerging Owne",
          "Emerging Owne",
          "Emerging Owne",
          "Emerging Owne",
          "Emerging Owne",
          "Emerging Owne",
          "Emerging Owne",
          "Emerging Owne",
          "Emerging Owne",
          "Emerging Owne",
          "Emerging Owne",
          "Emerging Owne",
          "Emerging Owne",
          "Emerging Owne",
          "Emerging Owne",
          "Emerging Owne",
          "Emerging Owne",
          "Emerging Owne",
          "Emerging Owne",
          "Emerging Owne",
          "Emerging Owne",
          "Emerging Owne",
          "Emerging Owne",
          "Emerging Owne",
          "Emerging Owne",
          "Emerging Owne",
          "Emerging Owne",
          "Emerging Owne",
          "Emerging Owne",
          "Emerging Owne",
          "Emerging Owne",
          "Emerging Owne",
          "Emerging Owne",
          "Emerging Owne",
          "Emerging Owne",
          "Emerging Owne",
          "Emerging Owne",
          "Emerging Owne",
          "Emerging Owne",
          "Emerging Owne",
          "Emerging Owne",
          "Emerging Owne",
          "Emerging Owne",
          "Emerging Owne",
          "Emerging Owne",
          "Emerging Owne",
          "Emerging Owne",
          "Emerging Owne",
          "Emerging Owne",
          "Emerging Owne",
          "Emerging Owne",
          "Emerging Owne",
          "Emerging Owne",
          "Emerging Owne",
          "Emerging Owne",
          "Emerging Owne",
          "Emerging Owne",
          "Emerging Owne",
          "Emerging Owne",
          "Emerging Owne",
          "Emerging Owne",
          "Emerging Owne",
          "Emerging Owne",
          "Emerging Owne",
          "Emerging Owne",
          "Emerging Owne",
          "Emerging Owne",
          "Emerging Owne",
          "Emerging Owne",
          "Emerging Owne",
          "Emerging Owne",
          "Emerging Owne",
          "Emerging Owne",
          "Emerging Owne",
          "Emerging Owne",
          "Emerging Owne",
          "Emerging Owne",
          "Emerging Owne",
          "Emerging Owne",
          "Emerging Owne",
          "Emerging Owne",
          "Emerging Owne",
          "Emerging Owne",
          "Emerging Owne",
          "Emerging Owne",
          "Emerging Owne",
          "Emerging Owne",
          "Emerging Owne",
          "Emerging Owne",
          "Emerging Owne",
          "Emerging Owne",
          "Emerging Owne",
          "Emerging Owne",
          "Emerging Owne",
          "Emerging Owne",
          "Emerging Owne",
          "Emerging Owne",
          "Emerging Owne",
          "Emerging Owne",
          "Emerging Owne",
          "Emerging Owne",
          "Emerging Owne",
          "Emerging Owne",
          "Emerging Owne",
          "Emerging Owne",
          "Emerging Owne",
          "Emerging Owne"
         ],
         "xaxis": "x",
         "yaxis": "y"
        },
        {
         "bingroup": "x",
         "hovertemplate": "Segment=%{x}<br>count=%{y}<extra></extra>",
         "legendgroup": "Loyal Owner",
         "marker": {
          "color": "#ab63fa",
          "pattern": {
           "shape": ""
          }
         },
         "name": "Loyal Owner",
         "orientation": "v",
         "showlegend": true,
         "texttemplate": "%{value}",
         "type": "histogram",
         "x": [
          "Loyal Owner",
          "Loyal Owner",
          "Loyal Owner",
          "Loyal Owner",
          "Loyal Owner",
          "Loyal Owner",
          "Loyal Owner",
          "Loyal Owner",
          "Loyal Owner",
          "Loyal Owner",
          "Loyal Owner",
          "Loyal Owner",
          "Loyal Owner",
          "Loyal Owner",
          "Loyal Owner",
          "Loyal Owner",
          "Loyal Owner",
          "Loyal Owner",
          "Loyal Owner",
          "Loyal Owner",
          "Loyal Owner",
          "Loyal Owner",
          "Loyal Owner",
          "Loyal Owner",
          "Loyal Owner",
          "Loyal Owner",
          "Loyal Owner",
          "Loyal Owner",
          "Loyal Owner",
          "Loyal Owner",
          "Loyal Owner",
          "Loyal Owner",
          "Loyal Owner",
          "Loyal Owner",
          "Loyal Owner",
          "Loyal Owner",
          "Loyal Owner",
          "Loyal Owner",
          "Loyal Owner",
          "Loyal Owner",
          "Loyal Owner",
          "Loyal Owner",
          "Loyal Owner",
          "Loyal Owner",
          "Loyal Owner",
          "Loyal Owner",
          "Loyal Owner",
          "Loyal Owner",
          "Loyal Owner",
          "Loyal Owner",
          "Loyal Owner",
          "Loyal Owner",
          "Loyal Owner",
          "Loyal Owner",
          "Loyal Owner",
          "Loyal Owner",
          "Loyal Owner",
          "Loyal Owner",
          "Loyal Owner",
          "Loyal Owner",
          "Loyal Owner",
          "Loyal Owner",
          "Loyal Owner",
          "Loyal Owner",
          "Loyal Owner",
          "Loyal Owner",
          "Loyal Owner",
          "Loyal Owner",
          "Loyal Owner",
          "Loyal Owner",
          "Loyal Owner",
          "Loyal Owner",
          "Loyal Owner",
          "Loyal Owner",
          "Loyal Owner",
          "Loyal Owner",
          "Loyal Owner",
          "Loyal Owner",
          "Loyal Owner",
          "Loyal Owner",
          "Loyal Owner",
          "Loyal Owner",
          "Loyal Owner",
          "Loyal Owner",
          "Loyal Owner",
          "Loyal Owner",
          "Loyal Owner",
          "Loyal Owner",
          "Loyal Owner",
          "Loyal Owner",
          "Loyal Owner",
          "Loyal Owner",
          "Loyal Owner",
          "Loyal Owner",
          "Loyal Owner",
          "Loyal Owner",
          "Loyal Owner",
          "Loyal Owner",
          "Loyal Owner",
          "Loyal Owner",
          "Loyal Owner",
          "Loyal Owner",
          "Loyal Owner",
          "Loyal Owner",
          "Loyal Owner",
          "Loyal Owner",
          "Loyal Owner",
          "Loyal Owner",
          "Loyal Owner",
          "Loyal Owner",
          "Loyal Owner",
          "Loyal Owner",
          "Loyal Owner",
          "Loyal Owner",
          "Loyal Owner",
          "Loyal Owner",
          "Loyal Owner",
          "Loyal Owner",
          "Loyal Owner",
          "Loyal Owner",
          "Loyal Owner",
          "Loyal Owner",
          "Loyal Owner",
          "Loyal Owner",
          "Loyal Owner",
          "Loyal Owner",
          "Loyal Owner",
          "Loyal Owner",
          "Loyal Owner",
          "Loyal Owner",
          "Loyal Owner",
          "Loyal Owner",
          "Loyal Owner",
          "Loyal Owner",
          "Loyal Owner",
          "Loyal Owner",
          "Loyal Owner",
          "Loyal Owner",
          "Loyal Owner",
          "Loyal Owner",
          "Loyal Owner",
          "Loyal Owner",
          "Loyal Owner",
          "Loyal Owner",
          "Loyal Owner",
          "Loyal Owner",
          "Loyal Owner",
          "Loyal Owner",
          "Loyal Owner",
          "Loyal Owner",
          "Loyal Owner",
          "Loyal Owner",
          "Loyal Owner",
          "Loyal Owner",
          "Loyal Owner",
          "Loyal Owner",
          "Loyal Owner",
          "Loyal Owner",
          "Loyal Owner",
          "Loyal Owner",
          "Loyal Owner",
          "Loyal Owner",
          "Loyal Owner",
          "Loyal Owner",
          "Loyal Owner",
          "Loyal Owner"
         ],
         "xaxis": "x",
         "yaxis": "y"
        },
        {
         "bingroup": "x",
         "hovertemplate": "Segment=%{x}<br>count=%{y}<extra></extra>",
         "legendgroup": "Dormant Owner",
         "marker": {
          "color": "#FFA15A",
          "pattern": {
           "shape": ""
          }
         },
         "name": "Dormant Owner",
         "orientation": "v",
         "showlegend": true,
         "texttemplate": "%{value}",
         "type": "histogram",
         "x": [
          "Dormant Owner",
          "Dormant Owner",
          "Dormant Owner",
          "Dormant Owner",
          "Dormant Owner",
          "Dormant Owner",
          "Dormant Owner",
          "Dormant Owner",
          "Dormant Owner",
          "Dormant Owner",
          "Dormant Owner",
          "Dormant Owner",
          "Dormant Owner",
          "Dormant Owner",
          "Dormant Owner",
          "Dormant Owner",
          "Dormant Owner",
          "Dormant Owner",
          "Dormant Owner",
          "Dormant Owner",
          "Dormant Owner",
          "Dormant Owner",
          "Dormant Owner",
          "Dormant Owner",
          "Dormant Owner",
          "Dormant Owner",
          "Dormant Owner",
          "Dormant Owner",
          "Dormant Owner",
          "Dormant Owner",
          "Dormant Owner",
          "Dormant Owner",
          "Dormant Owner",
          "Dormant Owner",
          "Dormant Owner",
          "Dormant Owner",
          "Dormant Owner",
          "Dormant Owner",
          "Dormant Owner",
          "Dormant Owner",
          "Dormant Owner",
          "Dormant Owner",
          "Dormant Owner",
          "Dormant Owner",
          "Dormant Owner",
          "Dormant Owner",
          "Dormant Owner",
          "Dormant Owner",
          "Dormant Owner",
          "Dormant Owner",
          "Dormant Owner",
          "Dormant Owner",
          "Dormant Owner",
          "Dormant Owner",
          "Dormant Owner",
          "Dormant Owner",
          "Dormant Owner",
          "Dormant Owner",
          "Dormant Owner",
          "Dormant Owner",
          "Dormant Owner",
          "Dormant Owner",
          "Dormant Owner",
          "Dormant Owner",
          "Dormant Owner",
          "Dormant Owner",
          "Dormant Owner",
          "Dormant Owner",
          "Dormant Owner",
          "Dormant Owner",
          "Dormant Owner",
          "Dormant Owner",
          "Dormant Owner",
          "Dormant Owner",
          "Dormant Owner",
          "Dormant Owner",
          "Dormant Owner",
          "Dormant Owner",
          "Dormant Owner",
          "Dormant Owner",
          "Dormant Owner",
          "Dormant Owner",
          "Dormant Owner",
          "Dormant Owner",
          "Dormant Owner",
          "Dormant Owner",
          "Dormant Owner",
          "Dormant Owner",
          "Dormant Owner",
          "Dormant Owner",
          "Dormant Owner",
          "Dormant Owner",
          "Dormant Owner",
          "Dormant Owner",
          "Dormant Owner",
          "Dormant Owner",
          "Dormant Owner",
          "Dormant Owner",
          "Dormant Owner",
          "Dormant Owner",
          "Dormant Owner",
          "Dormant Owner",
          "Dormant Owner",
          "Dormant Owner",
          "Dormant Owner",
          "Dormant Owner",
          "Dormant Owner",
          "Dormant Owner",
          "Dormant Owner",
          "Dormant Owner",
          "Dormant Owner",
          "Dormant Owner",
          "Dormant Owner",
          "Dormant Owner",
          "Dormant Owner",
          "Dormant Owner",
          "Dormant Owner",
          "Dormant Owner",
          "Dormant Owner",
          "Dormant Owner",
          "Dormant Owner",
          "Dormant Owner",
          "Dormant Owner",
          "Dormant Owner",
          "Dormant Owner",
          "Dormant Owner",
          "Dormant Owner",
          "Dormant Owner",
          "Dormant Owner",
          "Dormant Owner",
          "Dormant Owner",
          "Dormant Owner",
          "Dormant Owner",
          "Dormant Owner",
          "Dormant Owner",
          "Dormant Owner",
          "Dormant Owner",
          "Dormant Owner",
          "Dormant Owner",
          "Dormant Owner",
          "Dormant Owner",
          "Dormant Owner",
          "Dormant Owner",
          "Dormant Owner",
          "Dormant Owner",
          "Dormant Owner",
          "Dormant Owner",
          "Dormant Owner",
          "Dormant Owner",
          "Dormant Owner",
          "Dormant Owner",
          "Dormant Owner",
          "Dormant Owner",
          "Dormant Owner",
          "Dormant Owner",
          "Dormant Owner",
          "Dormant Owner",
          "Dormant Owner",
          "Dormant Owner",
          "Dormant Owner",
          "Dormant Owner",
          "Dormant Owner",
          "Dormant Owner",
          "Dormant Owner",
          "Dormant Owner",
          "Dormant Owner",
          "Dormant Owner",
          "Dormant Owner",
          "Dormant Owner",
          "Dormant Owner",
          "Dormant Owner",
          "Dormant Owner",
          "Dormant Owner",
          "Dormant Owner",
          "Dormant Owner",
          "Dormant Owner",
          "Dormant Owner",
          "Dormant Owner",
          "Dormant Owner",
          "Dormant Owner",
          "Dormant Owner",
          "Dormant Owner",
          "Dormant Owner",
          "Dormant Owner",
          "Dormant Owner",
          "Dormant Owner",
          "Dormant Owner",
          "Dormant Owner",
          "Dormant Owner",
          "Dormant Owner",
          "Dormant Owner",
          "Dormant Owner",
          "Dormant Owner",
          "Dormant Owner",
          "Dormant Owner",
          "Dormant Owner",
          "Dormant Owner",
          "Dormant Owner",
          "Dormant Owner",
          "Dormant Owner",
          "Dormant Owner",
          "Dormant Owner",
          "Dormant Owner",
          "Dormant Owner",
          "Dormant Owner",
          "Dormant Owner",
          "Dormant Owner",
          "Dormant Owner",
          "Dormant Owner",
          "Dormant Owner",
          "Dormant Owner",
          "Dormant Owner",
          "Dormant Owner",
          "Dormant Owner",
          "Dormant Owner",
          "Dormant Owner",
          "Dormant Owner",
          "Dormant Owner",
          "Dormant Owner",
          "Dormant Owner",
          "Dormant Owner",
          "Dormant Owner",
          "Dormant Owner",
          "Dormant Owner",
          "Dormant Owner",
          "Dormant Owner",
          "Dormant Owner",
          "Dormant Owner",
          "Dormant Owner",
          "Dormant Owner",
          "Dormant Owner",
          "Dormant Owner",
          "Dormant Owner",
          "Dormant Owner",
          "Dormant Owner",
          "Dormant Owner",
          "Dormant Owner",
          "Dormant Owner",
          "Dormant Owner",
          "Dormant Owner",
          "Dormant Owner",
          "Dormant Owner",
          "Dormant Owner",
          "Dormant Owner",
          "Dormant Owner",
          "Dormant Owner",
          "Dormant Owner",
          "Dormant Owner",
          "Dormant Owner",
          "Dormant Owner",
          "Dormant Owner",
          "Dormant Owner",
          "Dormant Owner",
          "Dormant Owner",
          "Dormant Owner",
          "Dormant Owner",
          "Dormant Owner",
          "Dormant Owner",
          "Dormant Owner",
          "Dormant Owner",
          "Dormant Owner",
          "Dormant Owner",
          "Dormant Owner",
          "Dormant Owner",
          "Dormant Owner",
          "Dormant Owner",
          "Dormant Owner",
          "Dormant Owner",
          "Dormant Owner",
          "Dormant Owner",
          "Dormant Owner",
          "Dormant Owner",
          "Dormant Owner",
          "Dormant Owner",
          "Dormant Owner",
          "Dormant Owner",
          "Dormant Owner",
          "Dormant Owner",
          "Dormant Owner",
          "Dormant Owner",
          "Dormant Owner",
          "Dormant Owner",
          "Dormant Owner",
          "Dormant Owner",
          "Dormant Owner",
          "Dormant Owner",
          "Dormant Owner",
          "Dormant Owner",
          "Dormant Owner",
          "Dormant Owner",
          "Dormant Owner",
          "Dormant Owner",
          "Dormant Owner",
          "Dormant Owner",
          "Dormant Owner",
          "Dormant Owner",
          "Dormant Owner",
          "Dormant Owner",
          "Dormant Owner",
          "Dormant Owner",
          "Dormant Owner",
          "Dormant Owner",
          "Dormant Owner",
          "Dormant Owner",
          "Dormant Owner",
          "Dormant Owner",
          "Dormant Owner",
          "Dormant Owner",
          "Dormant Owner",
          "Dormant Owner",
          "Dormant Owner",
          "Dormant Owner",
          "Dormant Owner",
          "Dormant Owner",
          "Dormant Owner",
          "Dormant Owner",
          "Dormant Owner",
          "Dormant Owner",
          "Dormant Owner",
          "Dormant Owner",
          "Dormant Owner",
          "Dormant Owner",
          "Dormant Owner",
          "Dormant Owner",
          "Dormant Owner",
          "Dormant Owner",
          "Dormant Owner",
          "Dormant Owner",
          "Dormant Owner",
          "Dormant Owner",
          "Dormant Owner",
          "Dormant Owner",
          "Dormant Owner",
          "Dormant Owner",
          "Dormant Owner",
          "Dormant Owner",
          "Dormant Owner",
          "Dormant Owner",
          "Dormant Owner",
          "Dormant Owner",
          "Dormant Owner",
          "Dormant Owner",
          "Dormant Owner",
          "Dormant Owner",
          "Dormant Owner",
          "Dormant Owner",
          "Dormant Owner",
          "Dormant Owner",
          "Dormant Owner",
          "Dormant Owner",
          "Dormant Owner",
          "Dormant Owner",
          "Dormant Owner",
          "Dormant Owner",
          "Dormant Owner",
          "Dormant Owner",
          "Dormant Owner",
          "Dormant Owner",
          "Dormant Owner",
          "Dormant Owner",
          "Dormant Owner",
          "Dormant Owner",
          "Dormant Owner",
          "Dormant Owner",
          "Dormant Owner",
          "Dormant Owner",
          "Dormant Owner",
          "Dormant Owner",
          "Dormant Owner",
          "Dormant Owner",
          "Dormant Owner",
          "Dormant Owner",
          "Dormant Owner",
          "Dormant Owner",
          "Dormant Owner",
          "Dormant Owner",
          "Dormant Owner",
          "Dormant Owner",
          "Dormant Owner",
          "Dormant Owner",
          "Dormant Owner",
          "Dormant Owner",
          "Dormant Owner",
          "Dormant Owner",
          "Dormant Owner",
          "Dormant Owner",
          "Dormant Owner",
          "Dormant Owner",
          "Dormant Owner",
          "Dormant Owner",
          "Dormant Owner",
          "Dormant Owner",
          "Dormant Owner",
          "Dormant Owner",
          "Dormant Owner",
          "Dormant Owner",
          "Dormant Owner",
          "Dormant Owner",
          "Dormant Owner",
          "Dormant Owner",
          "Dormant Owner",
          "Dormant Owner",
          "Dormant Owner",
          "Dormant Owner",
          "Dormant Owner",
          "Dormant Owner",
          "Dormant Owner",
          "Dormant Owner",
          "Dormant Owner",
          "Dormant Owner",
          "Dormant Owner",
          "Dormant Owner",
          "Dormant Owner",
          "Dormant Owner",
          "Dormant Owner",
          "Dormant Owner",
          "Dormant Owner",
          "Dormant Owner",
          "Dormant Owner",
          "Dormant Owner",
          "Dormant Owner",
          "Dormant Owner",
          "Dormant Owner",
          "Dormant Owner",
          "Dormant Owner",
          "Dormant Owner",
          "Dormant Owner",
          "Dormant Owner",
          "Dormant Owner",
          "Dormant Owner",
          "Dormant Owner",
          "Dormant Owner",
          "Dormant Owner",
          "Dormant Owner",
          "Dormant Owner",
          "Dormant Owner",
          "Dormant Owner",
          "Dormant Owner",
          "Dormant Owner",
          "Dormant Owner",
          "Dormant Owner",
          "Dormant Owner",
          "Dormant Owner",
          "Dormant Owner",
          "Dormant Owner",
          "Dormant Owner",
          "Dormant Owner",
          "Dormant Owner",
          "Dormant Owner",
          "Dormant Owner",
          "Dormant Owner",
          "Dormant Owner",
          "Dormant Owner",
          "Dormant Owner",
          "Dormant Owner",
          "Dormant Owner",
          "Dormant Owner",
          "Dormant Owner",
          "Dormant Owner",
          "Dormant Owner",
          "Dormant Owner"
         ],
         "xaxis": "x",
         "yaxis": "y"
        },
        {
         "bingroup": "x",
         "hovertemplate": "Segment=%{x}<br>count=%{y}<extra></extra>",
         "legendgroup": "High Value-Low Activity",
         "marker": {
          "color": "#19d3f3",
          "pattern": {
           "shape": ""
          }
         },
         "name": "High Value-Low Activity",
         "orientation": "v",
         "showlegend": true,
         "texttemplate": "%{value}",
         "type": "histogram",
         "x": [
          "High Value-Low Activity",
          "High Value-Low Activity",
          "High Value-Low Activity",
          "High Value-Low Activity",
          "High Value-Low Activity",
          "High Value-Low Activity",
          "High Value-Low Activity",
          "High Value-Low Activity",
          "High Value-Low Activity",
          "High Value-Low Activity",
          "High Value-Low Activity",
          "High Value-Low Activity",
          "High Value-Low Activity",
          "High Value-Low Activity",
          "High Value-Low Activity",
          "High Value-Low Activity",
          "High Value-Low Activity",
          "High Value-Low Activity",
          "High Value-Low Activity",
          "High Value-Low Activity",
          "High Value-Low Activity",
          "High Value-Low Activity",
          "High Value-Low Activity",
          "High Value-Low Activity",
          "High Value-Low Activity",
          "High Value-Low Activity",
          "High Value-Low Activity",
          "High Value-Low Activity",
          "High Value-Low Activity",
          "High Value-Low Activity",
          "High Value-Low Activity",
          "High Value-Low Activity",
          "High Value-Low Activity",
          "High Value-Low Activity",
          "High Value-Low Activity",
          "High Value-Low Activity",
          "High Value-Low Activity",
          "High Value-Low Activity",
          "High Value-Low Activity",
          "High Value-Low Activity",
          "High Value-Low Activity",
          "High Value-Low Activity",
          "High Value-Low Activity",
          "High Value-Low Activity",
          "High Value-Low Activity",
          "High Value-Low Activity",
          "High Value-Low Activity",
          "High Value-Low Activity",
          "High Value-Low Activity",
          "High Value-Low Activity",
          "High Value-Low Activity",
          "High Value-Low Activity",
          "High Value-Low Activity",
          "High Value-Low Activity",
          "High Value-Low Activity",
          "High Value-Low Activity",
          "High Value-Low Activity",
          "High Value-Low Activity",
          "High Value-Low Activity",
          "High Value-Low Activity",
          "High Value-Low Activity",
          "High Value-Low Activity",
          "High Value-Low Activity",
          "High Value-Low Activity",
          "High Value-Low Activity",
          "High Value-Low Activity",
          "High Value-Low Activity",
          "High Value-Low Activity",
          "High Value-Low Activity",
          "High Value-Low Activity",
          "High Value-Low Activity",
          "High Value-Low Activity",
          "High Value-Low Activity",
          "High Value-Low Activity",
          "High Value-Low Activity",
          "High Value-Low Activity",
          "High Value-Low Activity",
          "High Value-Low Activity",
          "High Value-Low Activity",
          "High Value-Low Activity",
          "High Value-Low Activity",
          "High Value-Low Activity",
          "High Value-Low Activity",
          "High Value-Low Activity",
          "High Value-Low Activity",
          "High Value-Low Activity",
          "High Value-Low Activity",
          "High Value-Low Activity",
          "High Value-Low Activity",
          "High Value-Low Activity",
          "High Value-Low Activity",
          "High Value-Low Activity",
          "High Value-Low Activity",
          "High Value-Low Activity",
          "High Value-Low Activity",
          "High Value-Low Activity",
          "High Value-Low Activity",
          "High Value-Low Activity",
          "High Value-Low Activity",
          "High Value-Low Activity",
          "High Value-Low Activity",
          "High Value-Low Activity",
          "High Value-Low Activity",
          "High Value-Low Activity",
          "High Value-Low Activity",
          "High Value-Low Activity",
          "High Value-Low Activity",
          "High Value-Low Activity",
          "High Value-Low Activity",
          "High Value-Low Activity",
          "High Value-Low Activity",
          "High Value-Low Activity",
          "High Value-Low Activity",
          "High Value-Low Activity",
          "High Value-Low Activity",
          "High Value-Low Activity",
          "High Value-Low Activity",
          "High Value-Low Activity",
          "High Value-Low Activity",
          "High Value-Low Activity",
          "High Value-Low Activity",
          "High Value-Low Activity",
          "High Value-Low Activity",
          "High Value-Low Activity",
          "High Value-Low Activity",
          "High Value-Low Activity",
          "High Value-Low Activity",
          "High Value-Low Activity",
          "High Value-Low Activity",
          "High Value-Low Activity",
          "High Value-Low Activity",
          "High Value-Low Activity",
          "High Value-Low Activity",
          "High Value-Low Activity",
          "High Value-Low Activity",
          "High Value-Low Activity",
          "High Value-Low Activity",
          "High Value-Low Activity",
          "High Value-Low Activity",
          "High Value-Low Activity",
          "High Value-Low Activity",
          "High Value-Low Activity",
          "High Value-Low Activity",
          "High Value-Low Activity",
          "High Value-Low Activity",
          "High Value-Low Activity",
          "High Value-Low Activity",
          "High Value-Low Activity",
          "High Value-Low Activity",
          "High Value-Low Activity",
          "High Value-Low Activity",
          "High Value-Low Activity",
          "High Value-Low Activity",
          "High Value-Low Activity",
          "High Value-Low Activity",
          "High Value-Low Activity",
          "High Value-Low Activity",
          "High Value-Low Activity",
          "High Value-Low Activity",
          "High Value-Low Activity",
          "High Value-Low Activity"
         ],
         "xaxis": "x",
         "yaxis": "y"
        }
       ],
       "layout": {
        "barmode": "relative",
        "legend": {
         "title": {
          "text": "Segment"
         },
         "tracegroupgap": 0
        },
        "template": {
         "data": {
          "bar": [
           {
            "error_x": {
             "color": "#2a3f5f"
            },
            "error_y": {
             "color": "#2a3f5f"
            },
            "marker": {
             "line": {
              "color": "#E5ECF6",
              "width": 0.5
             },
             "pattern": {
              "fillmode": "overlay",
              "size": 10,
              "solidity": 0.2
             }
            },
            "type": "bar"
           }
          ],
          "barpolar": [
           {
            "marker": {
             "line": {
              "color": "#E5ECF6",
              "width": 0.5
             },
             "pattern": {
              "fillmode": "overlay",
              "size": 10,
              "solidity": 0.2
             }
            },
            "type": "barpolar"
           }
          ],
          "carpet": [
           {
            "aaxis": {
             "endlinecolor": "#2a3f5f",
             "gridcolor": "white",
             "linecolor": "white",
             "minorgridcolor": "white",
             "startlinecolor": "#2a3f5f"
            },
            "baxis": {
             "endlinecolor": "#2a3f5f",
             "gridcolor": "white",
             "linecolor": "white",
             "minorgridcolor": "white",
             "startlinecolor": "#2a3f5f"
            },
            "type": "carpet"
           }
          ],
          "choropleth": [
           {
            "colorbar": {
             "outlinewidth": 0,
             "ticks": ""
            },
            "type": "choropleth"
           }
          ],
          "contour": [
           {
            "colorbar": {
             "outlinewidth": 0,
             "ticks": ""
            },
            "colorscale": [
             [
              0,
              "#0d0887"
             ],
             [
              0.1111111111111111,
              "#46039f"
             ],
             [
              0.2222222222222222,
              "#7201a8"
             ],
             [
              0.3333333333333333,
              "#9c179e"
             ],
             [
              0.4444444444444444,
              "#bd3786"
             ],
             [
              0.5555555555555556,
              "#d8576b"
             ],
             [
              0.6666666666666666,
              "#ed7953"
             ],
             [
              0.7777777777777778,
              "#fb9f3a"
             ],
             [
              0.8888888888888888,
              "#fdca26"
             ],
             [
              1,
              "#f0f921"
             ]
            ],
            "type": "contour"
           }
          ],
          "contourcarpet": [
           {
            "colorbar": {
             "outlinewidth": 0,
             "ticks": ""
            },
            "type": "contourcarpet"
           }
          ],
          "heatmap": [
           {
            "colorbar": {
             "outlinewidth": 0,
             "ticks": ""
            },
            "colorscale": [
             [
              0,
              "#0d0887"
             ],
             [
              0.1111111111111111,
              "#46039f"
             ],
             [
              0.2222222222222222,
              "#7201a8"
             ],
             [
              0.3333333333333333,
              "#9c179e"
             ],
             [
              0.4444444444444444,
              "#bd3786"
             ],
             [
              0.5555555555555556,
              "#d8576b"
             ],
             [
              0.6666666666666666,
              "#ed7953"
             ],
             [
              0.7777777777777778,
              "#fb9f3a"
             ],
             [
              0.8888888888888888,
              "#fdca26"
             ],
             [
              1,
              "#f0f921"
             ]
            ],
            "type": "heatmap"
           }
          ],
          "histogram": [
           {
            "marker": {
             "pattern": {
              "fillmode": "overlay",
              "size": 10,
              "solidity": 0.2
             }
            },
            "type": "histogram"
           }
          ],
          "histogram2d": [
           {
            "colorbar": {
             "outlinewidth": 0,
             "ticks": ""
            },
            "colorscale": [
             [
              0,
              "#0d0887"
             ],
             [
              0.1111111111111111,
              "#46039f"
             ],
             [
              0.2222222222222222,
              "#7201a8"
             ],
             [
              0.3333333333333333,
              "#9c179e"
             ],
             [
              0.4444444444444444,
              "#bd3786"
             ],
             [
              0.5555555555555556,
              "#d8576b"
             ],
             [
              0.6666666666666666,
              "#ed7953"
             ],
             [
              0.7777777777777778,
              "#fb9f3a"
             ],
             [
              0.8888888888888888,
              "#fdca26"
             ],
             [
              1,
              "#f0f921"
             ]
            ],
            "type": "histogram2d"
           }
          ],
          "histogram2dcontour": [
           {
            "colorbar": {
             "outlinewidth": 0,
             "ticks": ""
            },
            "colorscale": [
             [
              0,
              "#0d0887"
             ],
             [
              0.1111111111111111,
              "#46039f"
             ],
             [
              0.2222222222222222,
              "#7201a8"
             ],
             [
              0.3333333333333333,
              "#9c179e"
             ],
             [
              0.4444444444444444,
              "#bd3786"
             ],
             [
              0.5555555555555556,
              "#d8576b"
             ],
             [
              0.6666666666666666,
              "#ed7953"
             ],
             [
              0.7777777777777778,
              "#fb9f3a"
             ],
             [
              0.8888888888888888,
              "#fdca26"
             ],
             [
              1,
              "#f0f921"
             ]
            ],
            "type": "histogram2dcontour"
           }
          ],
          "mesh3d": [
           {
            "colorbar": {
             "outlinewidth": 0,
             "ticks": ""
            },
            "type": "mesh3d"
           }
          ],
          "parcoords": [
           {
            "line": {
             "colorbar": {
              "outlinewidth": 0,
              "ticks": ""
             }
            },
            "type": "parcoords"
           }
          ],
          "pie": [
           {
            "automargin": true,
            "type": "pie"
           }
          ],
          "scatter": [
           {
            "fillpattern": {
             "fillmode": "overlay",
             "size": 10,
             "solidity": 0.2
            },
            "type": "scatter"
           }
          ],
          "scatter3d": [
           {
            "line": {
             "colorbar": {
              "outlinewidth": 0,
              "ticks": ""
             }
            },
            "marker": {
             "colorbar": {
              "outlinewidth": 0,
              "ticks": ""
             }
            },
            "type": "scatter3d"
           }
          ],
          "scattercarpet": [
           {
            "marker": {
             "colorbar": {
              "outlinewidth": 0,
              "ticks": ""
             }
            },
            "type": "scattercarpet"
           }
          ],
          "scattergeo": [
           {
            "marker": {
             "colorbar": {
              "outlinewidth": 0,
              "ticks": ""
             }
            },
            "type": "scattergeo"
           }
          ],
          "scattergl": [
           {
            "marker": {
             "colorbar": {
              "outlinewidth": 0,
              "ticks": ""
             }
            },
            "type": "scattergl"
           }
          ],
          "scattermap": [
           {
            "marker": {
             "colorbar": {
              "outlinewidth": 0,
              "ticks": ""
             }
            },
            "type": "scattermap"
           }
          ],
          "scattermapbox": [
           {
            "marker": {
             "colorbar": {
              "outlinewidth": 0,
              "ticks": ""
             }
            },
            "type": "scattermapbox"
           }
          ],
          "scatterpolar": [
           {
            "marker": {
             "colorbar": {
              "outlinewidth": 0,
              "ticks": ""
             }
            },
            "type": "scatterpolar"
           }
          ],
          "scatterpolargl": [
           {
            "marker": {
             "colorbar": {
              "outlinewidth": 0,
              "ticks": ""
             }
            },
            "type": "scatterpolargl"
           }
          ],
          "scatterternary": [
           {
            "marker": {
             "colorbar": {
              "outlinewidth": 0,
              "ticks": ""
             }
            },
            "type": "scatterternary"
           }
          ],
          "surface": [
           {
            "colorbar": {
             "outlinewidth": 0,
             "ticks": ""
            },
            "colorscale": [
             [
              0,
              "#0d0887"
             ],
             [
              0.1111111111111111,
              "#46039f"
             ],
             [
              0.2222222222222222,
              "#7201a8"
             ],
             [
              0.3333333333333333,
              "#9c179e"
             ],
             [
              0.4444444444444444,
              "#bd3786"
             ],
             [
              0.5555555555555556,
              "#d8576b"
             ],
             [
              0.6666666666666666,
              "#ed7953"
             ],
             [
              0.7777777777777778,
              "#fb9f3a"
             ],
             [
              0.8888888888888888,
              "#fdca26"
             ],
             [
              1,
              "#f0f921"
             ]
            ],
            "type": "surface"
           }
          ],
          "table": [
           {
            "cells": {
             "fill": {
              "color": "#EBF0F8"
             },
             "line": {
              "color": "white"
             }
            },
            "header": {
             "fill": {
              "color": "#C8D4E3"
             },
             "line": {
              "color": "white"
             }
            },
            "type": "table"
           }
          ]
         },
         "layout": {
          "annotationdefaults": {
           "arrowcolor": "#2a3f5f",
           "arrowhead": 0,
           "arrowwidth": 1
          },
          "autotypenumbers": "strict",
          "coloraxis": {
           "colorbar": {
            "outlinewidth": 0,
            "ticks": ""
           }
          },
          "colorscale": {
           "diverging": [
            [
             0,
             "#8e0152"
            ],
            [
             0.1,
             "#c51b7d"
            ],
            [
             0.2,
             "#de77ae"
            ],
            [
             0.3,
             "#f1b6da"
            ],
            [
             0.4,
             "#fde0ef"
            ],
            [
             0.5,
             "#f7f7f7"
            ],
            [
             0.6,
             "#e6f5d0"
            ],
            [
             0.7,
             "#b8e186"
            ],
            [
             0.8,
             "#7fbc41"
            ],
            [
             0.9,
             "#4d9221"
            ],
            [
             1,
             "#276419"
            ]
           ],
           "sequential": [
            [
             0,
             "#0d0887"
            ],
            [
             0.1111111111111111,
             "#46039f"
            ],
            [
             0.2222222222222222,
             "#7201a8"
            ],
            [
             0.3333333333333333,
             "#9c179e"
            ],
            [
             0.4444444444444444,
             "#bd3786"
            ],
            [
             0.5555555555555556,
             "#d8576b"
            ],
            [
             0.6666666666666666,
             "#ed7953"
            ],
            [
             0.7777777777777778,
             "#fb9f3a"
            ],
            [
             0.8888888888888888,
             "#fdca26"
            ],
            [
             1,
             "#f0f921"
            ]
           ],
           "sequentialminus": [
            [
             0,
             "#0d0887"
            ],
            [
             0.1111111111111111,
             "#46039f"
            ],
            [
             0.2222222222222222,
             "#7201a8"
            ],
            [
             0.3333333333333333,
             "#9c179e"
            ],
            [
             0.4444444444444444,
             "#bd3786"
            ],
            [
             0.5555555555555556,
             "#d8576b"
            ],
            [
             0.6666666666666666,
             "#ed7953"
            ],
            [
             0.7777777777777778,
             "#fb9f3a"
            ],
            [
             0.8888888888888888,
             "#fdca26"
            ],
            [
             1,
             "#f0f921"
            ]
           ]
          },
          "colorway": [
           "#636efa",
           "#EF553B",
           "#00cc96",
           "#ab63fa",
           "#FFA15A",
           "#19d3f3",
           "#FF6692",
           "#B6E880",
           "#FF97FF",
           "#FECB52"
          ],
          "font": {
           "color": "#2a3f5f"
          },
          "geo": {
           "bgcolor": "white",
           "lakecolor": "white",
           "landcolor": "#E5ECF6",
           "showlakes": true,
           "showland": true,
           "subunitcolor": "white"
          },
          "hoverlabel": {
           "align": "left"
          },
          "hovermode": "closest",
          "mapbox": {
           "style": "light"
          },
          "paper_bgcolor": "white",
          "plot_bgcolor": "#E5ECF6",
          "polar": {
           "angularaxis": {
            "gridcolor": "white",
            "linecolor": "white",
            "ticks": ""
           },
           "bgcolor": "#E5ECF6",
           "radialaxis": {
            "gridcolor": "white",
            "linecolor": "white",
            "ticks": ""
           }
          },
          "scene": {
           "xaxis": {
            "backgroundcolor": "#E5ECF6",
            "gridcolor": "white",
            "gridwidth": 2,
            "linecolor": "white",
            "showbackground": true,
            "ticks": "",
            "zerolinecolor": "white"
           },
           "yaxis": {
            "backgroundcolor": "#E5ECF6",
            "gridcolor": "white",
            "gridwidth": 2,
            "linecolor": "white",
            "showbackground": true,
            "ticks": "",
            "zerolinecolor": "white"
           },
           "zaxis": {
            "backgroundcolor": "#E5ECF6",
            "gridcolor": "white",
            "gridwidth": 2,
            "linecolor": "white",
            "showbackground": true,
            "ticks": "",
            "zerolinecolor": "white"
           }
          },
          "shapedefaults": {
           "line": {
            "color": "#2a3f5f"
           }
          },
          "ternary": {
           "aaxis": {
            "gridcolor": "white",
            "linecolor": "white",
            "ticks": ""
           },
           "baxis": {
            "gridcolor": "white",
            "linecolor": "white",
            "ticks": ""
           },
           "bgcolor": "#E5ECF6",
           "caxis": {
            "gridcolor": "white",
            "linecolor": "white",
            "ticks": ""
           }
          },
          "title": {
           "x": 0.05
          },
          "xaxis": {
           "automargin": true,
           "gridcolor": "white",
           "linecolor": "white",
           "ticks": "",
           "title": {
            "standoff": 15
           },
           "zerolinecolor": "white",
           "zerolinewidth": 2
          },
          "yaxis": {
           "automargin": true,
           "gridcolor": "white",
           "linecolor": "white",
           "ticks": "",
           "title": {
            "standoff": 15
           },
           "zerolinecolor": "white",
           "zerolinewidth": 2
          }
         }
        },
        "title": {
         "text": "Number of Owners per Segment"
        },
        "xaxis": {
         "anchor": "y",
         "categoryarray": [
          "At Risk",
          "Champion",
          "Emerging Owne",
          "Loyal Owner",
          "Dormant Owner",
          "High Value-Low Activity"
         ],
         "categoryorder": "array",
         "domain": [
          0,
          1
         ],
         "title": {
          "text": "Segment"
         }
        },
        "yaxis": {
         "anchor": "x",
         "domain": [
          0,
          1
         ],
         "title": {
          "text": "count"
         }
        }
       }
      }
     },
     "metadata": {},
     "output_type": "display_data"
    }
   ],
   "source": [
    "fig_counts = px.histogram(owner_agg_df, \n",
    "                          x='Segment', \n",
    "                          title='Number of Owners per Segment', \n",
    "                          color='Segment', \n",
    "                          text_auto=True)\n",
    "fig_counts.show()"
   ]
  },
  {
   "cell_type": "code",
   "execution_count": null,
   "id": "b18fbee2",
   "metadata": {},
   "outputs": [],
   "source": [
    "\"\"\"\n",
    "Most owners are Dormant or At Risk, with fewer Champions\n",
    "--> This indicates declining engagement and the need for reactivation strategies to boost loyalty and performance\n",
    "\"\"\""
   ]
  },
  {
   "cell_type": "code",
   "execution_count": 24,
   "id": "6927517d",
   "metadata": {},
   "outputs": [],
   "source": [
    "owner_agg_df[['owner_id', 'R_Score', 'F_Score', 'M_Score', 'Segment']].to_csv(\n",
    "    \"owner_segments.csv\", index=False)"
   ]
  },
  {
   "cell_type": "markdown",
   "id": "f6f4db0f",
   "metadata": {},
   "source": [
    "# Clients Segmentation Using RFM Analysis"
   ]
  },
  {
   "cell_type": "markdown",
   "id": "44de9443",
   "metadata": {},
   "source": [
    "RFM score for each client based on their historical transaction data.\n",
    "\n"
   ]
  },
  {
   "cell_type": "markdown",
   "id": "37958455",
   "metadata": {},
   "source": [
    "## Feature engineering: R,F,M"
   ]
  },
  {
   "cell_type": "markdown",
   "id": "bcad5ba5",
   "metadata": {},
   "source": [
    "1. Recency: How recently a client made a purchase / rent\n",
    "2. Frequency: How often they made purchases / rent\n",
    "3. Monetary: How much money they spent"
   ]
  },
  {
   "cell_type": "code",
   "execution_count": 25,
   "id": "ff474160",
   "metadata": {},
   "outputs": [],
   "source": [
    "client_agg_df = transactions_df.groupby(\"client_id\").agg(\n",
    "                                                        last_date =(\"transaction_date\",\"max\"),\n",
    "                                                        Frequency =(\"client_id\",\"count\"),\n",
    "                                                        Monetary =(\"transaction_amount\",\"sum\")\n",
    ").reset_index()"
   ]
  },
  {
   "cell_type": "code",
   "execution_count": 26,
   "id": "78bfae1b",
   "metadata": {},
   "outputs": [],
   "source": [
    "client_agg_df['Recency'] = (today_date - client_agg_df['last_date']).dt.days"
   ]
  },
  {
   "cell_type": "code",
   "execution_count": 27,
   "id": "d74bb1b6",
   "metadata": {},
   "outputs": [
    {
     "name": "stdout",
     "output_type": "stream",
     "text": [
      "<class 'pandas.core.frame.DataFrame'>\n",
      "RangeIndex: 1598 entries, 0 to 1597\n",
      "Data columns (total 5 columns):\n",
      " #   Column     Non-Null Count  Dtype         \n",
      "---  ------     --------------  -----         \n",
      " 0   client_id  1598 non-null   int64         \n",
      " 1   last_date  1598 non-null   datetime64[ns]\n",
      " 2   Frequency  1598 non-null   int64         \n",
      " 3   Monetary   1598 non-null   float64       \n",
      " 4   Recency    1598 non-null   int64         \n",
      "dtypes: datetime64[ns](1), float64(1), int64(3)\n",
      "memory usage: 62.6 KB\n"
     ]
    }
   ],
   "source": [
    "client_agg_df.info()"
   ]
  },
  {
   "cell_type": "code",
   "execution_count": 28,
   "id": "61ebac4c",
   "metadata": {},
   "outputs": [
    {
     "data": {
      "text/html": [
       "<div>\n",
       "<style scoped>\n",
       "    .dataframe tbody tr th:only-of-type {\n",
       "        vertical-align: middle;\n",
       "    }\n",
       "\n",
       "    .dataframe tbody tr th {\n",
       "        vertical-align: top;\n",
       "    }\n",
       "\n",
       "    .dataframe thead th {\n",
       "        text-align: right;\n",
       "    }\n",
       "</style>\n",
       "<table border=\"1\" class=\"dataframe\">\n",
       "  <thead>\n",
       "    <tr style=\"text-align: right;\">\n",
       "      <th></th>\n",
       "      <th>client_id</th>\n",
       "      <th>last_date</th>\n",
       "      <th>Frequency</th>\n",
       "      <th>Monetary</th>\n",
       "      <th>Recency</th>\n",
       "    </tr>\n",
       "  </thead>\n",
       "  <tbody>\n",
       "    <tr>\n",
       "      <th>0</th>\n",
       "      <td>2</td>\n",
       "      <td>2024-05-23</td>\n",
       "      <td>1</td>\n",
       "      <td>256291.77</td>\n",
       "      <td>222</td>\n",
       "    </tr>\n",
       "    <tr>\n",
       "      <th>1</th>\n",
       "      <td>4</td>\n",
       "      <td>2024-02-02</td>\n",
       "      <td>1</td>\n",
       "      <td>458279.66</td>\n",
       "      <td>333</td>\n",
       "    </tr>\n",
       "    <tr>\n",
       "      <th>2</th>\n",
       "      <td>5</td>\n",
       "      <td>2024-05-09</td>\n",
       "      <td>1</td>\n",
       "      <td>147000.00</td>\n",
       "      <td>236</td>\n",
       "    </tr>\n",
       "    <tr>\n",
       "      <th>3</th>\n",
       "      <td>6</td>\n",
       "      <td>2024-06-14</td>\n",
       "      <td>2</td>\n",
       "      <td>168000.00</td>\n",
       "      <td>200</td>\n",
       "    </tr>\n",
       "    <tr>\n",
       "      <th>4</th>\n",
       "      <td>7</td>\n",
       "      <td>2024-11-28</td>\n",
       "      <td>3</td>\n",
       "      <td>1043203.93</td>\n",
       "      <td>33</td>\n",
       "    </tr>\n",
       "  </tbody>\n",
       "</table>\n",
       "</div>"
      ],
      "text/plain": [
       "   client_id  last_date  Frequency    Monetary  Recency\n",
       "0          2 2024-05-23          1   256291.77      222\n",
       "1          4 2024-02-02          1   458279.66      333\n",
       "2          5 2024-05-09          1   147000.00      236\n",
       "3          6 2024-06-14          2   168000.00      200\n",
       "4          7 2024-11-28          3  1043203.93       33"
      ]
     },
     "execution_count": 28,
     "metadata": {},
     "output_type": "execute_result"
    }
   ],
   "source": [
    "client_agg_df.head()"
   ]
  },
  {
   "cell_type": "code",
   "execution_count": 29,
   "id": "79422332",
   "metadata": {},
   "outputs": [
    {
     "data": {
      "text/html": [
       "<div>\n",
       "<style scoped>\n",
       "    .dataframe tbody tr th:only-of-type {\n",
       "        vertical-align: middle;\n",
       "    }\n",
       "\n",
       "    .dataframe tbody tr th {\n",
       "        vertical-align: top;\n",
       "    }\n",
       "\n",
       "    .dataframe thead th {\n",
       "        text-align: right;\n",
       "    }\n",
       "</style>\n",
       "<table border=\"1\" class=\"dataframe\">\n",
       "  <thead>\n",
       "    <tr style=\"text-align: right;\">\n",
       "      <th></th>\n",
       "      <th>client_id</th>\n",
       "      <th>last_date</th>\n",
       "      <th>Frequency</th>\n",
       "      <th>Monetary</th>\n",
       "      <th>Recency</th>\n",
       "    </tr>\n",
       "  </thead>\n",
       "  <tbody>\n",
       "    <tr>\n",
       "      <th>count</th>\n",
       "      <td>1598.000000</td>\n",
       "      <td>1598</td>\n",
       "      <td>1598.000000</td>\n",
       "      <td>1.598000e+03</td>\n",
       "      <td>1598.000000</td>\n",
       "    </tr>\n",
       "    <tr>\n",
       "      <th>mean</th>\n",
       "      <td>1035.235920</td>\n",
       "      <td>2024-02-24 05:53:14.493116672</td>\n",
       "      <td>1.877347</td>\n",
       "      <td>5.643532e+05</td>\n",
       "      <td>310.754693</td>\n",
       "    </tr>\n",
       "    <tr>\n",
       "      <th>min</th>\n",
       "      <td>2.000000</td>\n",
       "      <td>2020-05-01 00:00:00</td>\n",
       "      <td>1.000000</td>\n",
       "      <td>8.760000e+03</td>\n",
       "      <td>1.000000</td>\n",
       "    </tr>\n",
       "    <tr>\n",
       "      <th>25%</th>\n",
       "      <td>526.250000</td>\n",
       "      <td>2023-10-14 00:00:00</td>\n",
       "      <td>1.000000</td>\n",
       "      <td>1.612962e+05</td>\n",
       "      <td>67.250000</td>\n",
       "    </tr>\n",
       "    <tr>\n",
       "      <th>50%</th>\n",
       "      <td>1036.500000</td>\n",
       "      <td>2024-06-25 00:00:00</td>\n",
       "      <td>2.000000</td>\n",
       "      <td>3.537180e+05</td>\n",
       "      <td>189.000000</td>\n",
       "    </tr>\n",
       "    <tr>\n",
       "      <th>75%</th>\n",
       "      <td>1541.750000</td>\n",
       "      <td>2024-10-24 18:00:00</td>\n",
       "      <td>2.000000</td>\n",
       "      <td>7.870670e+05</td>\n",
       "      <td>444.000000</td>\n",
       "    </tr>\n",
       "    <tr>\n",
       "      <th>max</th>\n",
       "      <td>2060.000000</td>\n",
       "      <td>2024-12-30 00:00:00</td>\n",
       "      <td>8.000000</td>\n",
       "      <td>4.814742e+06</td>\n",
       "      <td>1705.000000</td>\n",
       "    </tr>\n",
       "    <tr>\n",
       "      <th>std</th>\n",
       "      <td>590.120765</td>\n",
       "      <td>NaN</td>\n",
       "      <td>1.023200</td>\n",
       "      <td>5.712563e+05</td>\n",
       "      <td>328.276759</td>\n",
       "    </tr>\n",
       "  </tbody>\n",
       "</table>\n",
       "</div>"
      ],
      "text/plain": [
       "         client_id                      last_date    Frequency      Monetary  \\\n",
       "count  1598.000000                           1598  1598.000000  1.598000e+03   \n",
       "mean   1035.235920  2024-02-24 05:53:14.493116672     1.877347  5.643532e+05   \n",
       "min       2.000000            2020-05-01 00:00:00     1.000000  8.760000e+03   \n",
       "25%     526.250000            2023-10-14 00:00:00     1.000000  1.612962e+05   \n",
       "50%    1036.500000            2024-06-25 00:00:00     2.000000  3.537180e+05   \n",
       "75%    1541.750000            2024-10-24 18:00:00     2.000000  7.870670e+05   \n",
       "max    2060.000000            2024-12-30 00:00:00     8.000000  4.814742e+06   \n",
       "std     590.120765                            NaN     1.023200  5.712563e+05   \n",
       "\n",
       "           Recency  \n",
       "count  1598.000000  \n",
       "mean    310.754693  \n",
       "min       1.000000  \n",
       "25%      67.250000  \n",
       "50%     189.000000  \n",
       "75%     444.000000  \n",
       "max    1705.000000  \n",
       "std     328.276759  "
      ]
     },
     "execution_count": 29,
     "metadata": {},
     "output_type": "execute_result"
    }
   ],
   "source": [
    "client_agg_df.describe()"
   ]
  },
  {
   "cell_type": "markdown",
   "id": "07a7ebe0",
   "metadata": {},
   "source": [
    "## RFM Scoring "
   ]
  },
  {
   "cell_type": "markdown",
   "id": "adee3de9",
   "metadata": {},
   "source": [
    "Discretization (numerical -->categories\"range\")"
   ]
  },
  {
   "cell_type": "code",
   "execution_count": 30,
   "id": "733f4294",
   "metadata": {},
   "outputs": [],
   "source": [
    "# Recency score (high=old = 1 , low=new = 3)\n",
    "bins_Recency   = [0, 30, 224, client_agg_df['Recency'].max()]\n",
    "labels_Recency = [3, 2, 1]\n",
    "\n",
    "client_agg_df['R_Score'] = pd.cut(\n",
    "    client_agg_df['Recency'],\n",
    "    bins=bins_Recency,\n",
    "    labels=labels_Recency,\n",
    "    include_lowest=True\n",
    ")\n",
    "\n",
    "# Frequency score (low = 1, high= 4)\n",
    "client_agg_df['F_Score'] = pd.qcut(client_agg_df['Frequency'].rank(method='first'), 4, labels=range(1,5))\n",
    "\n",
    "# Monetary score (low = 1, high= 4)\n",
    "client_agg_df['M_Score'] = pd.qcut(client_agg_df['Monetary'], 4, labels=range(1,5))"
   ]
  },
  {
   "cell_type": "markdown",
   "id": "6498e960",
   "metadata": {},
   "source": [
    "Combine R, F, M scores to form a single RFM score \"string\""
   ]
  },
  {
   "cell_type": "code",
   "execution_count": 31,
   "id": "70a170d7",
   "metadata": {},
   "outputs": [],
   "source": [
    "client_agg_df['RFM_Score'] =( client_agg_df['R_Score'].astype(str) + \n",
    "                             client_agg_df['F_Score'].astype(str) + \n",
    "                             client_agg_df['M_Score'].astype(str)\n",
    ")"
   ]
  },
  {
   "cell_type": "code",
   "execution_count": 32,
   "id": "3ade0e15",
   "metadata": {},
   "outputs": [
    {
     "data": {
      "text/html": [
       "<div>\n",
       "<style scoped>\n",
       "    .dataframe tbody tr th:only-of-type {\n",
       "        vertical-align: middle;\n",
       "    }\n",
       "\n",
       "    .dataframe tbody tr th {\n",
       "        vertical-align: top;\n",
       "    }\n",
       "\n",
       "    .dataframe thead th {\n",
       "        text-align: right;\n",
       "    }\n",
       "</style>\n",
       "<table border=\"1\" class=\"dataframe\">\n",
       "  <thead>\n",
       "    <tr style=\"text-align: right;\">\n",
       "      <th></th>\n",
       "      <th>client_id</th>\n",
       "      <th>last_date</th>\n",
       "      <th>Frequency</th>\n",
       "      <th>Monetary</th>\n",
       "      <th>Recency</th>\n",
       "      <th>R_Score</th>\n",
       "      <th>F_Score</th>\n",
       "      <th>M_Score</th>\n",
       "      <th>RFM_Score</th>\n",
       "    </tr>\n",
       "  </thead>\n",
       "  <tbody>\n",
       "    <tr>\n",
       "      <th>0</th>\n",
       "      <td>2</td>\n",
       "      <td>2024-05-23</td>\n",
       "      <td>1</td>\n",
       "      <td>256291.77</td>\n",
       "      <td>222</td>\n",
       "      <td>2</td>\n",
       "      <td>1</td>\n",
       "      <td>2</td>\n",
       "      <td>212</td>\n",
       "    </tr>\n",
       "    <tr>\n",
       "      <th>1</th>\n",
       "      <td>4</td>\n",
       "      <td>2024-02-02</td>\n",
       "      <td>1</td>\n",
       "      <td>458279.66</td>\n",
       "      <td>333</td>\n",
       "      <td>1</td>\n",
       "      <td>1</td>\n",
       "      <td>3</td>\n",
       "      <td>113</td>\n",
       "    </tr>\n",
       "    <tr>\n",
       "      <th>2</th>\n",
       "      <td>5</td>\n",
       "      <td>2024-05-09</td>\n",
       "      <td>1</td>\n",
       "      <td>147000.00</td>\n",
       "      <td>236</td>\n",
       "      <td>1</td>\n",
       "      <td>1</td>\n",
       "      <td>1</td>\n",
       "      <td>111</td>\n",
       "    </tr>\n",
       "    <tr>\n",
       "      <th>3</th>\n",
       "      <td>6</td>\n",
       "      <td>2024-06-14</td>\n",
       "      <td>2</td>\n",
       "      <td>168000.00</td>\n",
       "      <td>200</td>\n",
       "      <td>2</td>\n",
       "      <td>2</td>\n",
       "      <td>2</td>\n",
       "      <td>222</td>\n",
       "    </tr>\n",
       "    <tr>\n",
       "      <th>4</th>\n",
       "      <td>7</td>\n",
       "      <td>2024-11-28</td>\n",
       "      <td>3</td>\n",
       "      <td>1043203.93</td>\n",
       "      <td>33</td>\n",
       "      <td>2</td>\n",
       "      <td>4</td>\n",
       "      <td>4</td>\n",
       "      <td>244</td>\n",
       "    </tr>\n",
       "  </tbody>\n",
       "</table>\n",
       "</div>"
      ],
      "text/plain": [
       "   client_id  last_date  Frequency    Monetary  Recency R_Score F_Score  \\\n",
       "0          2 2024-05-23          1   256291.77      222       2       1   \n",
       "1          4 2024-02-02          1   458279.66      333       1       1   \n",
       "2          5 2024-05-09          1   147000.00      236       1       1   \n",
       "3          6 2024-06-14          2   168000.00      200       2       2   \n",
       "4          7 2024-11-28          3  1043203.93       33       2       4   \n",
       "\n",
       "  M_Score RFM_Score  \n",
       "0       2       212  \n",
       "1       3       113  \n",
       "2       1       111  \n",
       "3       2       222  \n",
       "4       4       244  "
      ]
     },
     "execution_count": 32,
     "metadata": {},
     "output_type": "execute_result"
    }
   ],
   "source": [
    "client_agg_df.head()"
   ]
  },
  {
   "cell_type": "markdown",
   "id": "581dafa6",
   "metadata": {},
   "source": [
    "RFM segmentaion:\n",
    "- VIP Clients: high in all three or at least very recent + (freq or monetary high) (RFM)\n",
    "- Regular High-Value: frequent and high monetary but not the most recent (F&M) (R1/2)\n",
    "- Big Spenders: high monetary only (M) (F1/2,R3-1)\n",
    "- Potential Loyalists: recent and good spend but medium frequency (R) (F1-4, M2-4)\n",
    "- At Risk: very old regardless of frequency or monetary (FM) (R=1)\n",
    "- Mid-Tier: everyone else (mid-range)"
   ]
  },
  {
   "cell_type": "code",
   "execution_count": 33,
   "id": "b7c9445b",
   "metadata": {},
   "outputs": [],
   "source": [
    "def rfm_client_segment(row):\n",
    "    R, F, M = row['R_Score'], row['F_Score'], row['M_Score']\n",
    "\n",
    "    if R == 3 and F >= 3 and M >= 3:\n",
    "        return 'VIP Clients'\n",
    "\n",
    "    elif R >= 2 and F >= 3 and M >= 3:\n",
    "        return 'Regular High-Value'\n",
    "\n",
    "    elif R >= 2 and ((F >= 2 and 2 <= M <= 3) or (M >= 2 and 2 <= F <= 3)):\n",
    "        return 'Potential Loyalist'\n",
    "    \n",
    "    elif F < 3 and M >= 3:\n",
    "        return 'Big Spender'\n",
    "\n",
    "    elif R == 1 and F >= 2 and M >= 2:\n",
    "        return 'At Risk'\n",
    "\n",
    "    else:\n",
    "        return 'Mid-Tier'\n",
    "\n",
    "client_agg_df['Segment'] = client_agg_df.apply(rfm_client_segment, axis=1)"
   ]
  },
  {
   "cell_type": "code",
   "execution_count": 34,
   "id": "3c846aa1",
   "metadata": {},
   "outputs": [
    {
     "data": {
      "text/html": [
       "<div>\n",
       "<style scoped>\n",
       "    .dataframe tbody tr th:only-of-type {\n",
       "        vertical-align: middle;\n",
       "    }\n",
       "\n",
       "    .dataframe tbody tr th {\n",
       "        vertical-align: top;\n",
       "    }\n",
       "\n",
       "    .dataframe thead th {\n",
       "        text-align: right;\n",
       "    }\n",
       "</style>\n",
       "<table border=\"1\" class=\"dataframe\">\n",
       "  <thead>\n",
       "    <tr style=\"text-align: right;\">\n",
       "      <th></th>\n",
       "      <th>client_id</th>\n",
       "      <th>last_date</th>\n",
       "      <th>Frequency</th>\n",
       "      <th>Monetary</th>\n",
       "      <th>Recency</th>\n",
       "      <th>R_Score</th>\n",
       "      <th>F_Score</th>\n",
       "      <th>M_Score</th>\n",
       "      <th>RFM_Score</th>\n",
       "      <th>Segment</th>\n",
       "    </tr>\n",
       "  </thead>\n",
       "  <tbody>\n",
       "    <tr>\n",
       "      <th>0</th>\n",
       "      <td>2</td>\n",
       "      <td>2024-05-23</td>\n",
       "      <td>1</td>\n",
       "      <td>256291.77</td>\n",
       "      <td>222</td>\n",
       "      <td>2</td>\n",
       "      <td>1</td>\n",
       "      <td>2</td>\n",
       "      <td>212</td>\n",
       "      <td>Mid-Tier</td>\n",
       "    </tr>\n",
       "    <tr>\n",
       "      <th>1</th>\n",
       "      <td>4</td>\n",
       "      <td>2024-02-02</td>\n",
       "      <td>1</td>\n",
       "      <td>458279.66</td>\n",
       "      <td>333</td>\n",
       "      <td>1</td>\n",
       "      <td>1</td>\n",
       "      <td>3</td>\n",
       "      <td>113</td>\n",
       "      <td>Big Spender</td>\n",
       "    </tr>\n",
       "    <tr>\n",
       "      <th>2</th>\n",
       "      <td>5</td>\n",
       "      <td>2024-05-09</td>\n",
       "      <td>1</td>\n",
       "      <td>147000.00</td>\n",
       "      <td>236</td>\n",
       "      <td>1</td>\n",
       "      <td>1</td>\n",
       "      <td>1</td>\n",
       "      <td>111</td>\n",
       "      <td>Mid-Tier</td>\n",
       "    </tr>\n",
       "    <tr>\n",
       "      <th>3</th>\n",
       "      <td>6</td>\n",
       "      <td>2024-06-14</td>\n",
       "      <td>2</td>\n",
       "      <td>168000.00</td>\n",
       "      <td>200</td>\n",
       "      <td>2</td>\n",
       "      <td>2</td>\n",
       "      <td>2</td>\n",
       "      <td>222</td>\n",
       "      <td>Potential Loyalist</td>\n",
       "    </tr>\n",
       "    <tr>\n",
       "      <th>4</th>\n",
       "      <td>7</td>\n",
       "      <td>2024-11-28</td>\n",
       "      <td>3</td>\n",
       "      <td>1043203.93</td>\n",
       "      <td>33</td>\n",
       "      <td>2</td>\n",
       "      <td>4</td>\n",
       "      <td>4</td>\n",
       "      <td>244</td>\n",
       "      <td>Regular High-Value</td>\n",
       "    </tr>\n",
       "  </tbody>\n",
       "</table>\n",
       "</div>"
      ],
      "text/plain": [
       "   client_id  last_date  Frequency    Monetary  Recency R_Score F_Score  \\\n",
       "0          2 2024-05-23          1   256291.77      222       2       1   \n",
       "1          4 2024-02-02          1   458279.66      333       1       1   \n",
       "2          5 2024-05-09          1   147000.00      236       1       1   \n",
       "3          6 2024-06-14          2   168000.00      200       2       2   \n",
       "4          7 2024-11-28          3  1043203.93       33       2       4   \n",
       "\n",
       "  M_Score RFM_Score             Segment  \n",
       "0       2       212            Mid-Tier  \n",
       "1       3       113         Big Spender  \n",
       "2       1       111            Mid-Tier  \n",
       "3       2       222  Potential Loyalist  \n",
       "4       4       244  Regular High-Value  "
      ]
     },
     "execution_count": 34,
     "metadata": {},
     "output_type": "execute_result"
    }
   ],
   "source": [
    "client_agg_df.head()"
   ]
  },
  {
   "cell_type": "markdown",
   "id": "2fa8884a",
   "metadata": {},
   "source": [
    "## visualization"
   ]
  },
  {
   "cell_type": "code",
   "execution_count": 35,
   "id": "88e68046",
   "metadata": {},
   "outputs": [
    {
     "data": {
      "application/vnd.plotly.v1+json": {
       "config": {
        "plotlyServerURL": "https://plot.ly"
       },
       "data": [
        {
         "customdata": {
          "bdata": "AgAFAAgADwAQABEAEwAaACIAJgApAC0ALwA4AEAAQQBDAEgASQBMAE4ATwBVAFcAWwBhAG0AbgBvAHAAdQB5AHsAfQB/AIAAgwCIAIwAlgCZAJ8AoACpAKoAtAC9AMAA0ADRANUA2gDdAOMA5ADlAOgA6wDuAPEA9gD3APwA/wAAAQMBBAEFAQ4BEAEUARUBHgEhASIBKQErAS0BLwEwATkBOwE8AT4BQAFEAUkBTAFOAU8BUQFTAVoBWwFcAV0BYAFiAWgBagFuAW8BcAF0AXgBeQGCAYMBjAGNAY4BkQGUAZYBmgGbAZ8BoAGiAacBqgGrAawBrQGuAbIBswG6AcIBxgHHAcwB0AHUAdYB1wHaAdsB3QHfAeIB5gHoAekB6gHsAfAB8QHyAfYB+AH6AfsBBwIKAg8CEAIYAhkCGwIcAh4CHwIiAiUCJgInAikCKgIvAjcCOAI9AkUCSQJKAksCTQJQAlkCXAJfAmECZAJlAmkCagJ0AncCiQKWApcCnAKeAqECowKkAqoCrAKzArQCtQK2ArkCugK/AsACwwLFAs0CzwLRAtUC3gLgAuIC4wLlAuoC6wLtAvAC9QL5AvoC/wIAAwEDBQMGAwkDCgMMAxADFAMbAx8DIwMkAysDMgMzAz8DQANEA0cDSANMA04DUgNUA1YDXwNlA2oDbQNvA3ADdgN8A4IDiAOLA40DjwOQA5YDnAOgA6EDowOnA6gDqQOqA6sDsAO2A74DwAPCA8MDyAPLA9ED1APcA98D4APnA+kD8APyA/YD9wP8A/4D/wMABAEEAgQNBA8EEAQWBBkEIAQmBCcEKQQtBC8EMQQzBDUENwRABEcESQRLBFIEUwRXBFoEWwRdBF4EZARlBGcEaQRuBHcEkASUBKgEqgStBK8EtgS8BL8EwgTDBMoEzgTUBNsE4ATjBOQE6QTrBPoE+wQABQIFCQUOBRIFGgUgBSEFKgUvBTkFPgVFBUgFTAVRBVMFWAVZBVoFXgVfBWAFZQVmBWwFcAWABYQFhgWNBY4FmwWlBagFqgWrBa0FtwW8BcIFxgXNBdAF1QXXBeoF7QXvBfAF8gXzBfcF+AX8Bf0FBQYHBggGDQYPBhAGGgYbBh8GNAY2BjwGPQZUBlYGWQZdBmcGaQZsBm8GcAaCBoUGiAaLBpQGmAafBq8Gtga4Br0Gvga/BssG1AbVBtcG2wbiBuUG7AbxBvsG/wYDBwcHCgcOBxAHEQcbBygHKQcsBzcHOgdAB0EHQgdFB0gHSwdXB1gHXgdfB2AHagdrB3QHfAeCB5UHlweaB5sHnAedB58HowekB6cHqAepB6sHrwexB7cHugfJB8oH0gfTB9QH1gfaB94H3wfgB+MH9wf5BwQIDAg=",
          "dtype": "i2",
          "shape": "517, 1"
         },
         "hovertemplate": "Segment=Mid-Tier<br>Recency=%{x}<br>Monetary=%{y}<br>Frequency=%{marker.size}<br>client_id=%{customdata[0]}<extra></extra>",
         "legendgroup": "Mid-Tier",
         "marker": {
          "color": "#636efa",
          "size": {
           "bdata": "AQEBAwEBAQEBAQEBAgICAQEBAQECAQEBAQEBAQEBAQEBAQEBAQECAQEBAQEBAQEBAQEBAQEBAQEBAQEBAQECAQEBAQEBAQEBAQEBAQEBAQEBAQEBAQEBAQEBAQEBAQECAQEBAQEBAQEBAQEBAQEBAQIBAwEBAQIBAQMBAQEBAQIBAgIBAQEBAQEBAQEBAQIBAQEBAwEBAQIBAQEBAQEBAQEBAQEBAQEBAQEBAQEBAQEBAQEBAQEBAQEBAQEBAQEBAQEBAQEBAgEBAQEBAwEBAgEBAQEBAQEBAQEBAQEBAQEBAQIBAQEBAQEBAQEBAQIBAQEBAQEBAQEBAQEBAQEBAQEBAQEBAQIBAQEBAQEBAQEBAQEBAQEBAQEBAQEBAQEBAQEBAQECAgIBAQEBAQEBAQEBAQEBAQEBAQIBAQEBAQECAQEBAQIBAQEBAQICAQEBAgEBAQEBAQECAQEBAQEBAQEBAQECAQEBAwECAgECAQIBAQEBAQEBAgEBAQECAQECAQIBAQEBAQEBAQEBAQECAgEBAQEBAQEBAQEBAQEBAQEBAQEBAQECAQEBAQEBAQEBAQICAQEBAgEBAQEBAQIBAQEDAgIBAQEBAQEBAQEBAQEBAQEBAgECAQEBAQEBAQEBAQIBAQECAQEBAQEBAQEBAgEBAQEBAQEBAQEBAQEBAgIBAQECAw==",
           "dtype": "i1"
          },
          "sizemode": "area",
          "sizeref": 0.02,
          "symbol": "circle"
         },
         "mode": "markers",
         "name": "Mid-Tier",
         "showlegend": true,
         "type": "scattergl",
         "x": {
          "bdata": "3gDsAAkASwFhAsgCtgHVAwcC/QEUAHUAZQApAN0AgwAPAEwBpABjApwCJQSQAQkADADAAvQBtQIYBF8CgwDIAFIAegB0A3cAAgTNAWkABQAmAi8BfAQDATMBEAIOAZABigOIBEMDlwBeAAkAhAN6AEcDXwOEAFwAuQAmAC8AmQINAXcB0QDfAE0CnwODAfQBygUpACcACARgAdICBwAVA6QEHACKBboALgOvASEEuwB8AbADAQBvAG0GuQCmBQIARQD8AqsAiAAQAFIA4AIzAHoFQALdA40A/gC1AK4BvACgAS0AGAAqAMwFTwYYAHsCgwDZADYBAQAYBTcA8gB+AFgBKwA+AC8AowJpABoAhAAmAY8CUADLAcgAoAAyAPQAJAEwAngACgC3AcQDIwEHAmoAUwF1AIwApADNAEUA0wBnAI0DFwBZAQUAnwEsAEsBVQCfAGUE0gBaAEoBNwNTAZwC1ADVAPQAAwC2AXQDRQLlARYDuAJEBVIAZAF7BOMAogFdA2kBjgQiADwAKAAuATQBCAR1BncAMgDFA9QA7ABLAIcAPQInAbkCAQFGAxsEfQI/AlABXAAPBKQAAQKFAGICXQB7AB0CpALEAAYBjgHmA0oChACgBJEC5gNrAF0BpANmAYMA2QB7AHgCWQC+AXYAGQBTAisAHABpAfQAQAMuAQYApAF8AEIAAAG3ABcAjAKbA+kAWACyADwDMAJlAR8E1QEsAGoFwQMdAzoAWAMTAsQATACJApYBOgByALADdQF3ASMCxQA+AEoAWQJPAYgAKQMIAOkAQQRRAM4CpwScAVkASACZAQoCUQCIAZIEawEjAOEAsgTHABwAOwBRAXwAMwMGADQCdQCVAesBKwRAA4gBAAEDA6ABBwEZAnIDbgByA9IBfAAVBG0CvwJwANcARQDDAgwBgwOLA7kAawNBANICWAO/A+sAaQKEAA4AlwADACkApgBVBIEBmgLOAHAAeAJjACoFBQNlAU8ERQEtAB0BDgPVAH0AMgDHA2YBHwNlBSQAbAAyAG0A0QGfA2kADQBMAU4DXgLRA5wDRwAWANMCLgBYAmwDbwF2AAUAuAG1BHkCmwC3AwcBUAERAFgF5ACzArYADgEkAYYA/QLCAAsA2ABKAAsBmAHsAOIAwANPAE8ARAXuAM4C1wF4AAgDagHiARMEvQN2AvIAWQBcAyYAagABACcAfwETAP0BKQDCAsUBDgI8BGEC3wNHAUEAeAC7ApsBLgEpAiIA2ARUBAMAEgOSA9kE/QPHAScC8AAuAD8AGwCVA/0A4AIOACwAIQCoAKUAqACdAA4AXQC0AjwBXAAPAw8DogB+AEsAKQBjAKIC5QN+A3YCXgAqAWIDQAAyANAAhgA=",
          "dtype": "i2"
         },
         "xaxis": "x",
         "y": {
          "bdata": "j8L1KB5JD0EAAAAAwPEBQQAAAACAWtZAAAAAAMBAA0EAAAAAAJYOQQAAAACAEuhAFK5H4eVjEEEAAAAAgNLrQMP1KFxTtg1BAAAAAFxH/kD2KFyPm2QRQVyPwvXdqRFBAAAAAIAG/0AAAAAAAG75QAAAAACAE/xAAAAAAICo2EBSuB6FP477QAAAAAAAuMpA4XoUrjXhAUEAAAAAgMICQQAAAACAIfhAAAAAAMDD90DhehSua1cQQQAAAACAtPZAuB6F6zMJCUHNzMzMruYJQQAAAAAAVOVAKVyPwi+UCkEAAAAAAPPLQAAAAADAm/xASOF6FPKvA0EAAAAAAPPWQAAAAADAY/hAAAAAAACi10BSuB6FbZ4CQeF6FK63CQxBAAAAAMBNAEEAAAAAgMbzQAAAAAAgQfxAFK5H4dqUCEEAAAAAcBcOQQAAAABA8/dACtejcG4YEEFI4XoUHkQAQQAAAADAU+lAXI/C9U53D0EAAAAAAP7gQAAAAAAAOuFAw/UoXIlMB0EAAAAAABzBQAAAAAAAWdBApHA9CkkrEEEAAAAAABj/QAAAAAAAiP1AAAAAAABv3UAAAAAAAETWQAAAAACAudFAw/UoXGLBE0EpXI/CwfAJQQAAAAAAKQNBj8L1KB9FE0HD9Shcfw0NQQAAAACg7/9AuB6F602H/0DhehSuNzQKQVyPwvWkKQ9BAAAAAIA790AUrkfh8e8SQaRwPQr/hP9AAAAAADj3EUEpXI/CoVUPQXsUrkeTxgRBAAAAAMA/5EAAAAAAAKnaQAAAAAAAz9xAj8L1KPk2E0EAAAAAgCrkQAAAAAD+nwhBFK5H4QQID0FxPQrXeSAIQQAAAAAAkvhAAAAAAIDX8UCPwvUo2mgHQXE9CtcxugJB7FG4Hp2AEkGamZmZN08DQQAAAACAK+hAuB6F6ze4AUEzMzMzR+oEQfYoXI8+igdBAAAAAACoC0GkcD0KiBgVQQAAAAAADtVAAAAAAMDx4UAAAAAAwHTxQAAAAADAOfpAAAAAADCyA0EAAAAAoC74QHsUrkftaQhBUrgehbEMDkEAAAAAgCMRQR+F61GIMQhBAAAAAABE4UAAAAAAgK/7QAAAAADAdPFASOF6FMqrB0EAAAAAAO7bQAAAAACADQ1BAAAAAACw40AAAAAAgKHQQOxRuB5rygBBAAAAAEAp7kAAAAAAQAfzQBSuR+HzhhNBAAAAACCDAUEAAAAAsHMIQY/C9SjMxgpBAAAAAMDZ8EAAAAAA8GYCQUjhehQwXwxBAAAAAIBs80AAAAAAAL70QAAAAAAAbslAAAAAAACN40AAAAAAQH8DQexRuB4dqAlBAAAAAABj5UAAAAAAIGf0QAAAAAAAKO5AAAAAAIDvAkEAAAAAwK/8QAAAAAAAVQRB7FG4HsLxEEH2KFyPUk4LQQAAAAAAbOtApHA9CsnoAUEAAAAAQIn4QAAAAABA8elAAAAAAACX80AAAAAAoPjxQAAAAAAg1PpA16NwPQY8BUEAAAAAUIsAQVyPwvVCvAVBw/UoXOm/AkEK16NwoQAIQRSuR+EKXgNBAAAAAIAM+UB7FK5H1e36QAAAAAAAaOBAKVyPwjt6BEEAAAAAAKT6QK5H4XrQuQhBAAAAAEBb9EBI4XoUsOkGQQAAAAAA/uBAAAAAAIC9/EAAAAAAgG7hQAAAAAAA5ulAH4XrUfsvEkEAAAAAYB35QAAAAACA3f9AAAAAAACy9kAAAAAAhjcLQQAAAADAeg9BAAAAAGCtAEEAAAAAwPHxQAAAAAAA7uFAAAAAAODi9EDD9Shcd4cMQQAAAAAAjfNAAAAAACB1/0CPwvUo6EkQQc3MzMwoY/NAAAAAAKAC90B7FK5HywsKQQAAAAAARfBAAAAAAIAT3EAAAAAAALjqQAAAAAAA0NFA16NwPS4sDkEAAAAA4MADQQAAAAAAlQBBAAAAAACcyEAAAAAAAIDhQEjhehSu1wRBAAAAAGCLBEEAAAAAoLHyQBSuR+FPVxRBUrgehWfL+0Bcj8L1GCIUQQAAAAAAdP1A9ihcj15b/kCamZmZNwwMQQAAAAAATfxAAAAAAAAjyUAAAAAAACzPQM3MzMwcWwZBAAAAAEBG70CamZmZA1wFQQAAAABQmAdBAAAAAED170AAAAAA4ND8QM3MzMz7UhJBAAAAAACk/0AAAAAAAJzIQJqZmZnnnQBBAAAAAIAF60AAAAAAQNL/QOxRuB6r6wNBAAAAAAAg7EAzMzMz7bQGQQAAAAAQVARBhetRuHo3EEEAAAAAgJPkQHE9CtezkQVB9ihcj3G0EUEfhetRHkEUQfYoXI+mHQFBAAAAAIBC8EAAAAAAAPrZQAAAAAAAi9pAhetRuLxAAEEAAAAAAJfdQAAAAADAqP5AAAAAAICZA0EAAAAAwJfxQK5H4XqMQgVBAAAAAIA85kAAAAAAAKj2QAAAAAAATgFBAAAAAAAM50Bcj8L12jEDQQAAAAAAgOZAAAAAACC4CEEAAAAAQOsAQVyPwvVwYRJBAAAAAEDc/0AAAAAA4DACQcP1KFxNtwpBKVyPwmPqBUHD9Shcy3wKQdejcD1miAdBcT0K1+niEEEAAAAAANz5QDMzMzMhXgpBAAAAAEAK8EAAAAAAAMDSQAAAAADAEPFAAAAAAGCEC0EAAAAAAI3tQAAAAAAAJtZAZmZmZsrRCkEAAAAAAH7dQI/C9SiEywtBuB6F67mY+kCkcD0Knb0EQQAAAAAA0s5AAAAAAIA600A9CtejFrMFQQAAAACAeOZAuB6F6/B6EEEAAAAAoHvxQPYoXI/I1QhBAAAAAACM3kAAAAAAIPH7QAAAAADQNA5BFK5H4VZGAUFI4XoUnGQPQQAAAAAAscxAAAAAAODA80AAAAAAABz7QAAAAAAAWOZAAAAAAAA+8kCPwvUoiLwPQQrXo3DJJxVBrkfheoSAAUEAAAAAAOLNQFyPwvULRBNBFK5H4do3/0D2KFyPRh4HQQAAAADAa/9AAAAAAACH7kBcj8L12Kf+QAAAAAAgGwVBAAAAAMD39UCamZmZe2kFQQAAAAAAYedAAAAAAMAt4kAAAAAAAEjiQNejcD1QlBVBSOF6FPpzAkGPwvUogoEEQWZmZmYeIwBBAAAAACBH9kAAAAAA4Fb0QFyPwvX2OQ5BAAAAAIBc1EAAAAAAALTpQAAAAAAAsfJAAAAAAIC33UAAAAAAgJXSQAAAAAAAMtlACtejcLD+E0EAAAAAgALpQAAAAAAA6uVAAAAAAADdzUDD9Shc9xMDQQAAAAAATfxAAAAAAAD17kAAAAAAgEz/QFyPwvUo8BBBAAAAAEDX6kAAAAAAAH3pQAAAAAAA7/9AAAAAAADmyUAAAAAA4FwIQQAAAAAZgBJBAAAAAIAf9UAAAAAA0OIKQQAAAACANuJAAAAAAKBfDkEAAAAAACLQQAAAAAAA6/RAw/UoXMWyAUEAAAAAwNboQEjhehTvWhFB4XoUrtHCAkEUrkfh2kkBQQAAAADA+gJBAAAAAACUBkEAAAAAsHsAQQAAAACAXeNA9ihcj3IV/UAAAAAAADT3QAAAAAAAYuZAAAAAAGAq9kAAAAAAgFX7QAAAAAAAcPJAAAAAAAAM8kAAAAAAAGDYQAAAAAAAoNRAAAAAAEBmA0EAAAAAwCXqQAAAAABgJftAAAAAAIA140AAAAAAAMjZQAAAAAAABOpAAAAAAGAz8kAAAAAAAGHXQAAAAAAYUAJBAAAAAABg40AAAAAA4EvwQAAAAABAPABBhetRuF4lAEEAAAAAADDmQAAAAAAAQv1ApHA9CmsC+UAAAAAAAP3WQDMzMzOT0f5AAAAAAAAW/EAAAAAAAP3hQAAAAADgyf5AAAAAAEAX8kAAAAAAgLnbQAAAAAAgkfdAAAAAAABh90AAAAAAEHYAQQAAAACAUPZA9ihcj5Y+/UAAAAAAAO3iQAAAAABABPFAAAAAAMDo9UAAAAAAANzuQAAAAAAA6PdAAAAAAIDn70AAAAAAAMDcQPYoXI/WAgBBAAAAAAAg3EApXI/CAysBQQAAAACAmuJAAAAAAABQ6UAAAAAAAHjeQAAAAACgGgNBAAAAAEAa5ECPwvUo1Ej/QAAAAABgePNAhetRuLYZAEGPwvUo/ksCQQAAAAAAguRA//////+/0kAAAAAAACHmQDMzMzPHP/xAAAAAAAAl10C4HoXrmyADQQAAAAAA7ddAAAAAAIC23kAAAAAAAEDlQAAAAABArPNAAAAAAACtAUEAAAAAgJrsQAAAAAAAsO1AAAAAAABAz0AAAAAAgE3kQAAAAACAJf5AAAAAAADi7UBSuB6FGQsBQQAAAABA/vZAuB6F6ytnA0EAAAAAgGgCQfYoXI+mhABBAAAAAIDL/UAAAAAAAMjpQAAAAAAAruVAAAAAAABv40AAAAAAgHvjQKRwPQrno/1ApHA9Ckd5AkEAAAAAgH/ZQDMzMzPJ/QBBAAAAAICE6UAAAAAAACbmQAAAAAAwTgNBAAAAAOBaAEFmZmZm6tH/QAAAAAAAbdpAAAAAAGA08UAAAAAAAP7gQAAAAADACe1AAAAAAACg7kAAAAAAAN/hQNejcD0SSgBBAAAAAOAR/UAAAAAAIE7+QAAAAAAg0fhAAAAAAABK5UAAAAAA4HD9QPYoXI9+agFBAAAAAEAk+UAAAAAAAF7aQP/////ft/dAAAAAAABm4kD2KFyPevn8QAAAAAAAG9dAcT0K17tY/EAAAAAAaAcBQQAAAADQ/gJBAAAAAMCV6EAAAAAAAN73QAAAAACgn/VA4XoUrqO8AkEAAAAAYO37QAAAAAAAFM5AAAAAAMC6+0AAAAAAAFjrQAAAAACAdPpAAAAAACD580AAAAAAYFLxQAAAAADA1/JAAAAAAACn8kC4HoXrmVwAQQAAAAAAcPdAAAAAAADi3UAAAAAAAO3XQI/C9ShosQFBAAAAAAC03kAAAAAAgOLwQAAAAACAbvFAAAAAAEAo8EAAAAAAQAMCQQAAAACApPdAAAAAAIBCAEEAAAAAADzOQAAAAACAJe5AAAAAAEC17kAAAAAAAMjJQB+F61FI1gJBAAAAAAAg7EAAAAAAQBHoQAAAAAAAHQBBAAAAAICm4EAAAAAAsNQBQQAAAABATvxAAAAAAAB4/kBxPQrXQV4BQdejcD1cLgJBH4XrUTBp90AAAAAAIKb7QAAAAAAAWd9AAAAAAACh00AAAAAAoAvzQIXrUbi63PlAAAAAAAA28EAAAAAAYGL/QAAAAAAAaO9AAAAAAADo90AAAAAAwKfgQAAAAAAA8uJASOF6FH5nA0HNzMzMXEUCQQAAAACgtvJA9ihcj9baAUEAAAAAgK/7QAAAAACAteBAPQrXo0QJ/UAAAAAAgHvTQAAAAAAAsdJAAAAAAEAq40AAAAAAgIjlQAAAAAAAjNlAAAAAAAA5/EAAAAAAgGnhQAAAAAAAyfhAAAAAAAA230AAAAAAAEj8QAAAAAAAMf9AAAAAAEBK8UA=",
          "dtype": "f8"
         },
         "yaxis": "y"
        },
        {
         "customdata": {
          "bdata": "BAANABQAGQAbAB0AIAAxADQAPAA/AEYAXABeAGAAawByAHcAkgCbAJ0AngChAKUAsQC3ALoAuwC/AMEAwgDMANMA2ADbANwA4ADnAPgACAEKAQ8BEgETARkBHwEoASwBLgEyATMBNAE9AVYBVwFYAXcBfQGIAZ0BsQG5AbsByAHKAc4B2AHtAQwCJAIwAmACZwJoAnECggKSAqYCpwKuArcCvALCAscCyQLTAuEC9AL4AggDCwMWAyoDNgM6A00DYAOJA5gDngOzA7wDvQPHA8kDzwPQA+ID6APvA/QD+QMMBBwEOQRFBHkEgQSGBIoEkQSkBMwE1QTnBO0E8gTzBAEFKQU/BUIFTQVUBVsFdwV7BYMFkwW/BecF6QXuBQIGNwZhBmMGZAZ5BpIGmwa0BvYGEwcxBz4HWQdhB3UHgQfDB9EHCwg=",
          "dtype": "i2",
          "shape": "163, 1"
         },
         "hovertemplate": "Segment=Big Spender<br>Recency=%{x}<br>Monetary=%{y}<br>Frequency=%{marker.size}<br>client_id=%{customdata[0]}<extra></extra>",
         "legendgroup": "Big Spender",
         "marker": {
          "color": "#EF553B",
          "size": {
           "bdata": "AQIBAQIBAQEBAQEBAQICAQECAQEBAQEBAQECAgEBAgIBAQICAgEBAQECAQECAgIBAQEBAgEBAQEBAQEBAQEBAQEBAQEBAQEBAQEBAQEBAQEBAQEBAQEBAQEBAQEBAQEBAQEBAQEBAQEBAQEBAQEBAQEBAQEBAQEBAQEBAQEBAQEBAQEBAQEBAQEBAQEBAQEBAQEBAQEBAQEBAQEBAQEBAQEBAQ==",
           "dtype": "i1"
          },
          "sizemode": "area",
          "sizeref": 0.02,
          "symbol": "circle"
         },
         "mode": "markers",
         "name": "Big Spender",
         "showlegend": true,
         "type": "scattergl",
         "x": {
          "bdata": "TQFFASIAHgDhACgCyQJlAAcAkQCoAIMDwgKoAWcDKgEUAoYB5AIXAnsAGQNLAKIBBADWAwIBwwJtAHkAhQHBAYUAIgUGAUcCnwEFAJEFrgFnA4ICDQBkApkDbQPzAmkG/wE5A5wALgFRAMQAHAEWA7UAtwNEBJUAXwB8AlYDHwCRAtgFTAOPAs8BxQA0AY4B2AU8AcsB/wF2AGIDUwJ8AJEDSQFaAcEEAQBDAeAAlQJ3AAoAnQHaASQDHAKpBlIAJAHrAuIAXwAnAJUCqwKRAI0A8wAQAMUEswFQAVwF9AIlAL8BmwRxAD0DqwIIAfsD5wE5AUUBGAHKAa8C5wAyAywBQgFUA14B3wEGAk0B9AAFBk4DBQHuAOsB7QSWA9kBQwHMAgAF2QEVAiIBFAJyAqMBUgIZBOcD+QEEAVwCqwMEASsBtwE=",
          "dtype": "i2"
         },
         "xaxis": "x",
         "y": {
          "bdata": "PQrXo574G0HXo3D9++EwQVK4HgX7+CRBw/Uo3B0GKEE9CtejcBYzQQrXo3DxtB5BFK5HIUFzMkHXo3D992gzQR+F61FjiRtBSOF6FPjoGkFcj8J1fl8lQSlcj8JwjyNBj8L1KMx8I0HsUbge4hIfQUjhehRoOSJB16NwPWv9JkGPwvUoUCgYQa5H4fpmliVBuB6F6wX+MUFI4XoU7jQmQUjhepQooCxB9ihcD1LgI0FxPQpXBK8sQRSuR+EJgRpB7FG4HhnIGUEAAAAANpgWQVK4HgVFKDxB2KNwPRQ4LEF7FK7HkIctQeF6FC7vgi1B16NwvUrAM0GamZkZ9VI4QaRwPQp/ZR1BFK5H4QHLGkGPwvUoFJceQRSuR2FMTypBKVyPwjX1JkFI4XoU8uUiQQAAAMAP1DpB9ihcD/o9IUEAAAAA33YaQQAAAABIMyBBhetROLoNL0GPwvUoaYIeQa5H4XpOZCdBrkfhepaUHEHXo3A9gd0vQQAAAIDhNDFBH4XrURvfFUFSuB5FJNUwQVyPwnUWzy5BzczMzJjeI0GuR+H6T/4kQT0K12O/hDFBj8L1KO/fH0GF61G47mMrQWZmZmZ6ChxBSOF6FDILIUGF61G4SvcbQcP1KBz9pTFBuB6F6xHgHUEAAAAAQGwXQfYoXI8MXCFBzczMzHz0FkFSuB4Fg3UiQQAAAAAwbhZBAAAAACk8OEHsUbge/JcoQexRuB5buyRBUrgeBRDYPkGuR+H6D8czQbgeheubhCFBPQrX4wa7NEFcj8I1BqkzQZqZmRkZUCRBSOF6FHj3FkG4HoUrG3QxQVK4HsXoyjJBKVyPwvAMK0EAAAAAPhwbQR+F69GKGiFBw/UoXFVgGkFmZmZmVbIWQRSuR+EdsBlBZmZmZm3NPEE9Ctej5F4WQQAAAAAR7DBBKVyPwjjeI0GPwvUoQnkWQa5H4Xr+ZxpB16NwvSu9LkGPwvUocIEbQeF6FG5R4TNBcT0K14hbJ0FxPQrXrNMXQYXrUbihhBtBSOF6lMUKOUHXo3A9xlgvQa5H4TqpUzJBmpmZ2ePeMEGuR+F6sbQgQQAAAABgZxpBZmZm5qC/IkG4HoXrz5EaQQAAAAAAMRpBuB6F6xaGHEFcj8J1lRUgQUjhepRujC9BKVyPQjuZJkGF61E4CUEnQbgehet+bSJBPQrXoxdALkEAAABAc3AyQaRwPYpDMzBBCtejcHC0FkEAAAAAM8QYQQAAAABZGBZBj8L1KDlcGkFmZmZmxBoiQQAAAABAJRhBhetRuBhUIEEAAAAAYJkVQXsUrsdXniBBzczMTKA0K0H2KFyPiJ4gQXE9Clf9XCRBcT0KV3yFMEE9CtejS24sQQAAAAAgoBxBAAAAADArHUEfhevRWCogQYXrUbjRsBhBAAAAABqLHEFSuB6FZLkWQVK4HgVTODlBCtejcEMMKkGPwvUoguwdQQAAAAA5MhlBZmZmZjaXH0HsUbie9+UlQfYoXI9cex5BAAAAQHOdMEFcj8J1ZeMgQfYoXI9+uhpB9ihcj5NWKUHsUbgeI3AXQQAAAACPey1BPQrXo/ddH0EAAACAgVAmQcP1KNyu8SNBpHA9iknhIkFmZmZmAJUyQRSuR+FRTBhBZmZmZumpKkGkcD0KwDEgQQAAAADYaxZBuB6Fa+VaMEEpXI/CDjowQXE9ChfvBDlBpHA9Co+5FUFcj8L1NT4aQVK4HoWF1ydB9ihcjz2cO0E=",
          "dtype": "f8"
         },
         "yaxis": "y"
        },
        {
         "customdata": {
          "bdata": "BgAKAA4AFQAkACoANQBHAFgAaABqAHEAdgCCAIQAiwCNAI4AogCkAKcArAC2ALwAxADGAM4A3gDpAO0A7wDwAAEBGwEkASUBJgExATUBOAFGAWwBcQFzAY8BkwGoAbQBtQHFAQYCCQIOAkACRAJPAnACpQKtArgC1wLcAvICHgNZA1wDYwNnA2sDcgOvA8UD1QPjA+QD+AMSBBUEGwQwBEwEVgRwBHIEfgSZBJ4ErASwBLUEywTWBNwE3wTmBPAE9AT+BAUFEAURBSgFLAU7BUEFSgVWBVwFZwVpBW4FeAWBBYgFlQWgBacFqQWwBbEFtgW5Bb0F0QXSBdgF9gX5BfoF/gUBBhkGHgYiBiQGQQZCBkMGRgZHBk8GVQZqBmsGewZ+BoEGiQaMBo8GlQalBqYGrAaxBrUGwwbHBsgG0QbTBtwG6AbqBu0G8gYLByUHJwcyBzYHOQc7Bz8HSgdaB2QHZQeIB54Hsge1B7gHvAfMB84H2AfbB+4H/Af+B/8H",
          "dtype": "i2",
          "shape": "192, 1"
         },
         "hovertemplate": "Segment=Potential Loyalist<br>Recency=%{x}<br>Monetary=%{y}<br>Frequency=%{marker.size}<br>client_id=%{customdata[0]}<extra></extra>",
         "legendgroup": "Potential Loyalist",
         "marker": {
          "color": "#00cc96",
          "size": {
           "bdata": "AgICAgICAgICAgMCAgICAgICAgICAgICAgMCAgICAgICAgICAgICAgIDAgICAgICAgICAgIDAgICAgMDAgQCAgMCAgIDAgICAgICAgMCAgICAgICAgICAQMCAgEBAQEBAgEDAQIBAgECAgEBAQEBAQEBAgECAQECAgECAwEEAQMBAQEBAgEBAQEBAQECAgEBAQEBAQECAgEBAwEBAwICAgIBAgECAQECAwEBAgIBAQEDAQIBAgEDAQIBAQIDAQEB",
           "dtype": "i1"
          },
          "sizemode": "area",
          "sizeref": 0.02,
          "symbol": "circle"
         },
         "mode": "markers",
         "name": "Potential Loyalist",
         "showlegend": true,
         "type": "scattergl",
         "x": {
          "bdata": "yAAjAHYAHACFAE4AAgABAHEALgAHAB8AHACoAAQAGwACACQAlAC6AMwAsADFAN4AEwAyAG0AHQA9AFEARgBMALIAEgDeABoAHgDWAB4ARQAQAFcACwApALQAWgABAMUAqwAYACAAAQBEACwAAwAhAG4AEQBDAAUAKwA3AC4AHQDPAEsAPwCkAFoA0QDYAAsANAA7ALoACABSAHkAEgARABUAjQAcABMACADSAEkANgBHAGAAOwCaAAYAuAANAFUASwBJAEgAAwB+AFoAKgCmAMsAjQAdAK8A3QB7ADcAlgAaABsAaAAqAD0AQwCAAAMAmgAIALMAFABJACMACAAXAFAAIQBdAA8AnABsAGsAbABkAA0AxQC/AEYALwDKAJ4ALABbACEAGwByALsAdQBGACIAQwCNAHMAJwBTACcAOAB4AD8A4ADAAGAAYwB0AKwAtQCJABIAQgB8ADkAJwDCAEsAKACjAF4AjAA3AGYArgAMABgALQBkAFgABACjAD0A",
          "dtype": "i2"
         },
         "xaxis": "x",
         "y": {
          "bdata": "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",
          "dtype": "f8"
         },
         "yaxis": "y"
        },
        {
         "customdata": {
          "bdata": "BwAcAB8AJQArADAAMwA7AD0APgBTAFYAWQBdAGYAaQB+AIcAkwCjAL4AyQDNAPMA+wD9AEIBQwFLAVkBZgFnAWkBbQF7AYABgQGHAYoBiwGpAa8BsAG2Ab4BwAHBAcMByQHPAdMB2QHcAeAB5QHrAe4B7wH0AQICAwIFAggCDQISAhMCFAIVAhoCKwIsAi0CPAJCAlICVgJXAlgCXQJeAmMCdgJ5An0CgAKGAogCjAKQApEClAKdArICxALKAssCzgLSAtgC3QL2AvwCBwMNAxkDGgMiAyUDKAMpAy0DLwM0A0EDQgNDA1UDXQNeA2EDZgNoA2wDcQN0A3oDewN/A4ADgwOMA5MDmwOfA6QDpQOxA7QDtwO7A78DygPbA+ED7AP1A/oD+wP9AwYEBwQYBCoEOgQ7BD0EPgRBBEIERgRKBFEEVARZBGIEZgRoBGsEdAR1BH0EfwSYBJ0EnwTABMEExgTeBPYE9wQDBQcFDwUVBR8FIgU1BTcFPQVGBU4FVwVdBWgFdAV5BXoFhQWSBZcFmAWdBZ4FpgWyBbUFxAXHBcgFygXPBdMF1AXWBdsF4AXhBeIF5AUGBhQGFgYcBiYGLQY7BkUGUAZfBmYGaAZtBoMGhAaGBooGkwagBqEGpwaqBq0Grga3BrwGxQbOBtAG0gbdBuQG9Ab4Bv0GAAcEBxUHGQcaBxwHIgcrBy0HLwczB0YHTQdcB20Hcwd2B3oHfgeAB4YHiQeKB5EHoAehB6IHpQeqB6wHrQe5B7sHvQfFB80H5gfoB+kH+AcACAMIBQgGCAcICQg=",
          "dtype": "i2",
          "shape": "301, 1"
         },
         "hovertemplate": "Segment=Regular High-Value<br>Recency=%{x}<br>Monetary=%{y}<br>Frequency=%{marker.size}<br>client_id=%{customdata[0]}<extra></extra>",
         "legendgroup": "Regular High-Value",
         "marker": {
          "color": "#ab63fa",
          "size": {
           "bdata": "AwMDAwMDAwQDBAMDBAMDBAUDAwUDAwMDAwMFAgIDAgIDBAYDAgQDAwICAgICAgICAgQDBQMCAgICAgICAgIEAwMCAwQDAgIDBAMEAwMCAwIEAgYDBAMCAwQEAgICAgMDAgIEAgICBAMEAwQCAgQCAgICAgQCAwIDAgMDBAICAgIEAgMDAwMDAgMCAwMDAgMDAwMCBAIDBgICAgMCAgIEAgICAwMEAwMCAwMEAwMDBAIDBAIEAwICAgICBAMFAgICAgUCAgMFAgICAwMDAwICBAICAwUCAwQCAwQDAwIEAgMDBAIEAgQDAwYEAwIFAwMDAwMCAwQDAwICAgICBAMEAwICBAMCAgMDBAIDBAQDBQICAwMCAgICBAQEBAMDAgMEAgIEAgMDAwMCAgMDAg==",
           "dtype": "i1"
          },
          "sizemode": "area",
          "sizeref": 0.02,
          "symbol": "circle"
         },
         "mode": "markers",
         "name": "Regular High-Value",
         "showlegend": true,
         "type": "scattergl",
         "x": {
          "bdata": "IQAkAIIAugChAGAAQABiAKMAngDCACEATgCTAEgAiAB6AG0AlgDbAD8AMwBHAB8AJACRAB8A1wClAFIAKQA9ACEAaQC8ACkAfwCLAKkAIwCWAFwAZwBGAEQAZQBFAJYAKQA4AD4APgBDAFcARwA9AIMA1ACHAIkAiAA1ACUA1QCnAMAAywBzAK8A1AApAGsAWgBpAJkASgB7ADYAOwB2ACwApwAlAG8AUwDgALEALwCeAJwAUgBJAKkA0QB0AIUAVwAoAGMAhgDFANwAYABlAKoAgQDDAFYAMgAmAI4AuQAsADMAmQBQAL8ApgAqAHkAhgBLACIAhQB5AI4AwQCjAFIALwC9ALQAMwAyAH0AywA1ADsAbABDAD8AdwAlAHUAWwBSAHsAPwBBAE0AVACNAC4AlQCzAGAAcgClACEAkABJAKwAPgBsAKUAPAAzAHAAigC6ADwAVgA5AL0AIwDUAIQASACDAEgAqABZAHwAvgBbAKsAoQAxADoAWQBRAGIAqACBAEoAbwBpADMASAAyACcAMQBfAFUAegCcAEcAegCwAIIAWgB2AE4AjwAkAEAAOABUACgAbwAtAEoAvACKAC0AJQBDAJUAcgAnAKEALAAuAFIAkgCfANYAzABkAC4AcQB0AJMAwABDAIMAYwBeAM4AiwCzALcAOgCaAL8ARwBrAEwAcwBxAI4ApwCMAN8AeQA8AH8AfgA9AEMAYgAsAKIAogCHAC4AOwB7ANwAMwAmACAAbgCHAFMAeAClACAAlgBGACIAXQBEAG4AjABHACkALADDACQAYgA=",
          "dtype": "i2"
         },
         "xaxis": "x",
         "y": {
          "bdata": "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",
          "dtype": "f8"
         },
         "yaxis": "y"
        },
        {
         "customdata": {
          "bdata": "FgA6AE0AWgBiAGwAeAB8AIEAiQCQAKYAqwDSAPQACwERASoBRwFKAVIBYwFkAYUBiQGcAZ4BoQHEAdUB9QH8Af8BIQIoAi4CMQIzAjYCOgI+AkMCUQJTAloCZgJtAm8CcgJ1An4CgwKLAo4CjwKaApsCqwKvArECxgLIAtkC3wLsAu8C+wL+AgMDDgMPAxcDGAMhAz0DSQNLA08DUQNTA2QDdwN5A4QDhQOSA5oDpgOtA7gDzAPOA9cD3QPqA+4DBQQLBBMEGgQhBCIEJAQlBCgEMgQ0BDYEPwRDBFAEWARsBG0EcQR2BHoEewSABIQEhQSIBIkEiwSMBI8EkgSTBJUEmgSbBJwEogSjBKkEqwSxBLIEtwS4BLoEuwS9BMUExwTJBM8E0QTTBNoE4QTiBOUE6ATsBPEE9QT5BP0E/wQGBRYFHgUjBScFLgUyBTQFOAVABUMFVQVjBXEFcgV1BXwFfgWKBYwFjwWQBZEFlAWZBZoFnAWfBaIFpAW4BboFvgXMBd0F5gXsBfQF9QX7BQMGCQYKBg4GEgYTBhgGHQYgBiMGJQYrBi4GMAYyBjUGOAY5BjoGSgZOBlEGUgZTBlgGWgZbBlwGZQZuBnMGdgZ8BocGkAaWBpoGpAapBqsGsAazBroGwAbWBtgG4wb5BvoG/AYCBw0HEgcUBxYHFwcdByQHJgc8B0cHSQdQB1EHUwdUB1YHXQdiB2MHZgdoB2kHbAdvB3EHfQeFB44HjweQB5MHmAemB64HtAe2B74HwAfXB+IH5AflB+wH7QfzB/QH+wf9BwII",
          "dtype": "i2",
          "shape": "300, 1"
         },
         "hovertemplate": "Segment=At Risk<br>Recency=%{x}<br>Monetary=%{y}<br>Frequency=%{marker.size}<br>client_id=%{customdata[0]}<extra></extra>",
         "legendgroup": "At Risk",
         "marker": {
          "color": "#FFA15A",
          "size": {
           "bdata": "AwIEAwICAwMCAwICAwMCAgIEBAICAgICAwICAwICAgIDAwMCAgICAgICAwICAgICAgMCAgICAgICAgIDAgICAwIDAgIDAgQCAgIDAgICAgMCAgICAgICAgICAgMIAwQDAgMCAgIDBAMDAgIDAwICAwIBAgIDAgMCAQECAwMCAwMDAwIBAgIBAQQDAgEDAQICAgIDAgIBAwICAQIBAQMDAQECAgECAgICAgECAQIDAQMCAQECAQICAQEBAwICBAIBAwIBAQIBAgIBAgICAQQCBAICAQEDAQICAgICAgMCAgEDAwIBAgMBAgECAgIBAgEDAwQBAQIEAgIBAgMBAQICAQICAgMCAgMBAwIDAgMBAQEBAwIBAQEDAgEBAQMCAQEBBAMBAgIBAgECAQEB",
           "dtype": "i1"
          },
          "sizemode": "area",
          "sizeref": 0.02,
          "symbol": "circle"
         },
         "mode": "markers",
         "name": "At Risk",
         "showlegend": true,
         "type": "scattergl",
         "x": {
          "bdata": "qQERARUBmwFWA0oBBgEFAvMAMQFbAkABYAOFAewD/QBJApMBNAJ+AcsBogH1ACUBHwLzAO0CzgFeAewAaQNIAe4CfAE5AfwAwgFdAm0B4gBgATECSwL6AO4BOAEfBBIB6QA1AfsAlAENAsIC9QB6AzQBEAKLAZ4BXQGEAS8CkgGoAqYBLgTwAAkBvAEDAfcAAgGPAQAB5wD2AWQBPAHiAgABVwGVATYBXAFJAawBbgKgAz8BWQHCAXQBVwEjAfcA5wALAa4B4gETA1oBBwHsADcBHAEqAfwAygFVAl4BwwEbAeUDEwN0AbQBTAFvAUoBXgL6AuoAHwFPAu8A7gCkAUIBMQEQAloDHQHVAQEBFATuAO8CtQFbA08CzgEJAT4BDgSIARMBfgGZArUDvAEtArMB9wD+ANkBJQLwATIBYwM1AZoB6QHjA08BWgIJAYABHQIrAQYBXgGPAykBSwTiAA4B8QLpAyYCmQYPATcC7ABEATgD8QFfAfgBHwFCAVsCMQHNATcBVwFTAhcBeAG8A3sDZwPAAS0C8AEPAesB+QAwArwBzAEyAtEBFgMjA6ECeQFzAZoBdgEAAQQBLgP9ACcB+QDFAeMBUgHjAMUCWAGSBVwBYwPYAZwEawEBBAsBPwEFAREBxQGCAmMB7wD/AIUB7wD3ACIBeQHzAYgB6wS2AbYBVAEjAY0CLgL8AVUCEwG3AawBSgGEAWUBewXXA7EEewEeAhoBGwRgAeYBZAG3A2QCIwEIAbQBKQENAnUCbgEsAnsB8QALAaUC/ACjBXsBzAFuAQQC",
          "dtype": "i2"
         },
         "xaxis": "x",
         "y": {
          "bdata": "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",
          "dtype": "f8"
         },
         "yaxis": "y"
        },
        {
         "customdata": {
          "bdata": "SgBjAGUAdACKAJEA8gD1APoABgEaARwBNgE3AToBXwFhAX8BlQGXAaQBvAHRAdIB4QHkARECOQJGAk4CegJ8An8ChAKFAqICqAK9AswC5gLxAvMCEwMcAy4DNQM3Az4DRQNGA34DgQOGA44DkQPEA8YDzQPZA+YDFAQrBGAEbwRzBHgEggSHBJYEoASmBMgE6gT8BBgFJAUxBU8FUAWCBYsFrAWuBa8FwwXOBdwF3gXrBf8FCwYxBjMGQAZEBkgGSwZNBnUGeAaXBrIGuQbCBskGzAbuBv4GAQcPByAHbgd4B3kHiweMB5QHsAfCB8QHyAfLB9AH8QfyBw==",
          "dtype": "i2",
          "shape": "125, 1"
         },
         "hovertemplate": "Segment=VIP Clients<br>Recency=%{x}<br>Monetary=%{y}<br>Frequency=%{marker.size}<br>client_id=%{customdata[0]}<extra></extra>",
         "legendgroup": "VIP Clients",
         "marker": {
          "color": "#19d3f3",
          "size": {
           "bdata": "BAQDAwQDAwMDAwMDAwMFAwIDBQIDAwQCAgIDAwMCAwICAgMEAgMEAgMCAwMDAwMDBAICBQICAgIFBAYEAwIEAwIFBgMHBAIEAgMDAgMCBAQDAgYCAwUFAwMDAwQEAgUDBAQCAgIFAgIEAgMDBAICAgIDAgMDBAUCAgIEBAM=",
           "dtype": "i1"
          },
          "sizemode": "area",
          "sizeref": 0.02,
          "symbol": "circle"
         },
         "mode": "markers",
         "name": "VIP Clients",
         "showlegend": true,
         "type": "scattergl",
         "x": {
          "bdata": "AgMSGhUbBg0GDgESBgcIHgIXCwUKCw8TFBoKDhAeFRAPFhEBFAMDGRQOAhILExAMGQsVBw0eDg4ECgoVHgEaChAPBwkBBA0KCxACAhECAgEVCB0BFhAEEB0EDAMBGBAIDw8CBgQMGQ0aCAEVBQUIEwoKBQwBEwYXBAsGDB0=",
          "dtype": "i1"
         },
         "xaxis": "x",
         "y": {
          "bdata": "Z2ZmRnCVQ0EUrkdhv903QbgehWvrJiBB16NwPTlwLEF7FK7He9soQexRuB68EjJBH4Xr0ewEMkGF61H4OgA3QT0K1+ODJjlBkML1KJnvI0GamZmZ4NobQT0K16NkkjJBcD0KlwsLN0H2KFyPLeUfQQrXo3DdxDNBcT0Kl5GMM0E+CtfjE4s1QSlcj8KalxpBPgrXo+/NM0HhehSuCAw9QVyPwvV8BiJBj8L1qMtIJkHhehTud0k1QSlcj8K5/xlB7FG4noMIIEHXo3A9too7QQAAAAC61CRBPgrXo6/sIEEAAAAAAPwcQdijcD3A2RpBKVyPgpkiPEGkcD2KRvcgQexRuJ6I1SFB9ihcT8ZVOUEK16PweeAqQTMzMzMdmjRBPgrXoxj4JEEpXI/C0MM5QRSuR+HFwTxBrkfhutxmP0HC9Shc5KUcQQAAAADYHxdBHoXrUYMnQEEfhevRgkIzQWZmZiYCSzNBZmZm5rblK0GF61G4gDAXQfYoXM+CyDRB7FG4nuv5LkE+Ctejdw4WQQAAAAAgQhZBKVyPopimQUHsUbge2akgQTMzMzOjghpBpHA9Ck0aI0EAAAAAvq4gQQAAAICj1CRBMzMzs0JfOUEAAABAQrs+QeF6FK6msiRBwvUoHKsuMkEK16NwoHgiQZqZmdmaIzhBxPUoXIabL0HXo3D93fQwQdejcH3QVDlBhetReEc5NkGamZnZMOQ3QTQzM/P/kj5BpHA9iklLJEHWo3D9oEo4QVyPwvXEdyBBj8L1KADgFUF7FK5Hp/4cQQAAAADQLRZBZmZm5mQTJEEUrkfhIF0eQVyPwvV7TBtBj8L1qGm6IkGuR+F63dUfQSlcj8IvhxhB7FG4HjlfGEHhehQuXEkuQcP1KFyBSy1BpHA9ilhHIUHNzMzMrWIjQc3MzGxISUJBpHA9ioknLUEpXI9CgBskQQAAAADCVhlBCtejsKVMOUGkcD1Khe4/QaRwPUrg+jVBmpmZGUPBI0EzMzMzVn4oQXsUrgc4BTlBrkfhWjp5SUHsUbieRmAjQVyPwnX7KiZBmpmZGQF9KEHXo3B9XWg2QQAAAIBC9y5BZmZmpkEJOEE+CtejLSwwQVyPwrVRYzxB4noULu4oNUFxPQq3GjhAQQAAAABwIRlBZmZm5nEWMkFmZmZmSd4gQWZmZmYlNiRBPQrXo1w0GUHsUbgee8UXQQAAAICvsDVB16NwvbBrMUGamZnZnxA1QZqZmRkLgzBBmpmZ2Ru0MkG4HoXrjxA8QQrXo/CtcCBBAAAAACD7FkHsUbienVAtQa5H4fr0/iZBH4Xr8RSHQUHC9ShcvMweQQ==",
          "dtype": "f8"
         },
         "yaxis": "y"
        }
       ],
       "layout": {
        "legend": {
         "itemsizing": "constant",
         "title": {
          "text": "Segment"
         },
         "tracegroupgap": 0
        },
        "template": {
         "data": {
          "bar": [
           {
            "error_x": {
             "color": "#2a3f5f"
            },
            "error_y": {
             "color": "#2a3f5f"
            },
            "marker": {
             "line": {
              "color": "#E5ECF6",
              "width": 0.5
             },
             "pattern": {
              "fillmode": "overlay",
              "size": 10,
              "solidity": 0.2
             }
            },
            "type": "bar"
           }
          ],
          "barpolar": [
           {
            "marker": {
             "line": {
              "color": "#E5ECF6",
              "width": 0.5
             },
             "pattern": {
              "fillmode": "overlay",
              "size": 10,
              "solidity": 0.2
             }
            },
            "type": "barpolar"
           }
          ],
          "carpet": [
           {
            "aaxis": {
             "endlinecolor": "#2a3f5f",
             "gridcolor": "white",
             "linecolor": "white",
             "minorgridcolor": "white",
             "startlinecolor": "#2a3f5f"
            },
            "baxis": {
             "endlinecolor": "#2a3f5f",
             "gridcolor": "white",
             "linecolor": "white",
             "minorgridcolor": "white",
             "startlinecolor": "#2a3f5f"
            },
            "type": "carpet"
           }
          ],
          "choropleth": [
           {
            "colorbar": {
             "outlinewidth": 0,
             "ticks": ""
            },
            "type": "choropleth"
           }
          ],
          "contour": [
           {
            "colorbar": {
             "outlinewidth": 0,
             "ticks": ""
            },
            "colorscale": [
             [
              0,
              "#0d0887"
             ],
             [
              0.1111111111111111,
              "#46039f"
             ],
             [
              0.2222222222222222,
              "#7201a8"
             ],
             [
              0.3333333333333333,
              "#9c179e"
             ],
             [
              0.4444444444444444,
              "#bd3786"
             ],
             [
              0.5555555555555556,
              "#d8576b"
             ],
             [
              0.6666666666666666,
              "#ed7953"
             ],
             [
              0.7777777777777778,
              "#fb9f3a"
             ],
             [
              0.8888888888888888,
              "#fdca26"
             ],
             [
              1,
              "#f0f921"
             ]
            ],
            "type": "contour"
           }
          ],
          "contourcarpet": [
           {
            "colorbar": {
             "outlinewidth": 0,
             "ticks": ""
            },
            "type": "contourcarpet"
           }
          ],
          "heatmap": [
           {
            "colorbar": {
             "outlinewidth": 0,
             "ticks": ""
            },
            "colorscale": [
             [
              0,
              "#0d0887"
             ],
             [
              0.1111111111111111,
              "#46039f"
             ],
             [
              0.2222222222222222,
              "#7201a8"
             ],
             [
              0.3333333333333333,
              "#9c179e"
             ],
             [
              0.4444444444444444,
              "#bd3786"
             ],
             [
              0.5555555555555556,
              "#d8576b"
             ],
             [
              0.6666666666666666,
              "#ed7953"
             ],
             [
              0.7777777777777778,
              "#fb9f3a"
             ],
             [
              0.8888888888888888,
              "#fdca26"
             ],
             [
              1,
              "#f0f921"
             ]
            ],
            "type": "heatmap"
           }
          ],
          "histogram": [
           {
            "marker": {
             "pattern": {
              "fillmode": "overlay",
              "size": 10,
              "solidity": 0.2
             }
            },
            "type": "histogram"
           }
          ],
          "histogram2d": [
           {
            "colorbar": {
             "outlinewidth": 0,
             "ticks": ""
            },
            "colorscale": [
             [
              0,
              "#0d0887"
             ],
             [
              0.1111111111111111,
              "#46039f"
             ],
             [
              0.2222222222222222,
              "#7201a8"
             ],
             [
              0.3333333333333333,
              "#9c179e"
             ],
             [
              0.4444444444444444,
              "#bd3786"
             ],
             [
              0.5555555555555556,
              "#d8576b"
             ],
             [
              0.6666666666666666,
              "#ed7953"
             ],
             [
              0.7777777777777778,
              "#fb9f3a"
             ],
             [
              0.8888888888888888,
              "#fdca26"
             ],
             [
              1,
              "#f0f921"
             ]
            ],
            "type": "histogram2d"
           }
          ],
          "histogram2dcontour": [
           {
            "colorbar": {
             "outlinewidth": 0,
             "ticks": ""
            },
            "colorscale": [
             [
              0,
              "#0d0887"
             ],
             [
              0.1111111111111111,
              "#46039f"
             ],
             [
              0.2222222222222222,
              "#7201a8"
             ],
             [
              0.3333333333333333,
              "#9c179e"
             ],
             [
              0.4444444444444444,
              "#bd3786"
             ],
             [
              0.5555555555555556,
              "#d8576b"
             ],
             [
              0.6666666666666666,
              "#ed7953"
             ],
             [
              0.7777777777777778,
              "#fb9f3a"
             ],
             [
              0.8888888888888888,
              "#fdca26"
             ],
             [
              1,
              "#f0f921"
             ]
            ],
            "type": "histogram2dcontour"
           }
          ],
          "mesh3d": [
           {
            "colorbar": {
             "outlinewidth": 0,
             "ticks": ""
            },
            "type": "mesh3d"
           }
          ],
          "parcoords": [
           {
            "line": {
             "colorbar": {
              "outlinewidth": 0,
              "ticks": ""
             }
            },
            "type": "parcoords"
           }
          ],
          "pie": [
           {
            "automargin": true,
            "type": "pie"
           }
          ],
          "scatter": [
           {
            "fillpattern": {
             "fillmode": "overlay",
             "size": 10,
             "solidity": 0.2
            },
            "type": "scatter"
           }
          ],
          "scatter3d": [
           {
            "line": {
             "colorbar": {
              "outlinewidth": 0,
              "ticks": ""
             }
            },
            "marker": {
             "colorbar": {
              "outlinewidth": 0,
              "ticks": ""
             }
            },
            "type": "scatter3d"
           }
          ],
          "scattercarpet": [
           {
            "marker": {
             "colorbar": {
              "outlinewidth": 0,
              "ticks": ""
             }
            },
            "type": "scattercarpet"
           }
          ],
          "scattergeo": [
           {
            "marker": {
             "colorbar": {
              "outlinewidth": 0,
              "ticks": ""
             }
            },
            "type": "scattergeo"
           }
          ],
          "scattergl": [
           {
            "marker": {
             "colorbar": {
              "outlinewidth": 0,
              "ticks": ""
             }
            },
            "type": "scattergl"
           }
          ],
          "scattermap": [
           {
            "marker": {
             "colorbar": {
              "outlinewidth": 0,
              "ticks": ""
             }
            },
            "type": "scattermap"
           }
          ],
          "scattermapbox": [
           {
            "marker": {
             "colorbar": {
              "outlinewidth": 0,
              "ticks": ""
             }
            },
            "type": "scattermapbox"
           }
          ],
          "scatterpolar": [
           {
            "marker": {
             "colorbar": {
              "outlinewidth": 0,
              "ticks": ""
             }
            },
            "type": "scatterpolar"
           }
          ],
          "scatterpolargl": [
           {
            "marker": {
             "colorbar": {
              "outlinewidth": 0,
              "ticks": ""
             }
            },
            "type": "scatterpolargl"
           }
          ],
          "scatterternary": [
           {
            "marker": {
             "colorbar": {
              "outlinewidth": 0,
              "ticks": ""
             }
            },
            "type": "scatterternary"
           }
          ],
          "surface": [
           {
            "colorbar": {
             "outlinewidth": 0,
             "ticks": ""
            },
            "colorscale": [
             [
              0,
              "#0d0887"
             ],
             [
              0.1111111111111111,
              "#46039f"
             ],
             [
              0.2222222222222222,
              "#7201a8"
             ],
             [
              0.3333333333333333,
              "#9c179e"
             ],
             [
              0.4444444444444444,
              "#bd3786"
             ],
             [
              0.5555555555555556,
              "#d8576b"
             ],
             [
              0.6666666666666666,
              "#ed7953"
             ],
             [
              0.7777777777777778,
              "#fb9f3a"
             ],
             [
              0.8888888888888888,
              "#fdca26"
             ],
             [
              1,
              "#f0f921"
             ]
            ],
            "type": "surface"
           }
          ],
          "table": [
           {
            "cells": {
             "fill": {
              "color": "#EBF0F8"
             },
             "line": {
              "color": "white"
             }
            },
            "header": {
             "fill": {
              "color": "#C8D4E3"
             },
             "line": {
              "color": "white"
             }
            },
            "type": "table"
           }
          ]
         },
         "layout": {
          "annotationdefaults": {
           "arrowcolor": "#2a3f5f",
           "arrowhead": 0,
           "arrowwidth": 1
          },
          "autotypenumbers": "strict",
          "coloraxis": {
           "colorbar": {
            "outlinewidth": 0,
            "ticks": ""
           }
          },
          "colorscale": {
           "diverging": [
            [
             0,
             "#8e0152"
            ],
            [
             0.1,
             "#c51b7d"
            ],
            [
             0.2,
             "#de77ae"
            ],
            [
             0.3,
             "#f1b6da"
            ],
            [
             0.4,
             "#fde0ef"
            ],
            [
             0.5,
             "#f7f7f7"
            ],
            [
             0.6,
             "#e6f5d0"
            ],
            [
             0.7,
             "#b8e186"
            ],
            [
             0.8,
             "#7fbc41"
            ],
            [
             0.9,
             "#4d9221"
            ],
            [
             1,
             "#276419"
            ]
           ],
           "sequential": [
            [
             0,
             "#0d0887"
            ],
            [
             0.1111111111111111,
             "#46039f"
            ],
            [
             0.2222222222222222,
             "#7201a8"
            ],
            [
             0.3333333333333333,
             "#9c179e"
            ],
            [
             0.4444444444444444,
             "#bd3786"
            ],
            [
             0.5555555555555556,
             "#d8576b"
            ],
            [
             0.6666666666666666,
             "#ed7953"
            ],
            [
             0.7777777777777778,
             "#fb9f3a"
            ],
            [
             0.8888888888888888,
             "#fdca26"
            ],
            [
             1,
             "#f0f921"
            ]
           ],
           "sequentialminus": [
            [
             0,
             "#0d0887"
            ],
            [
             0.1111111111111111,
             "#46039f"
            ],
            [
             0.2222222222222222,
             "#7201a8"
            ],
            [
             0.3333333333333333,
             "#9c179e"
            ],
            [
             0.4444444444444444,
             "#bd3786"
            ],
            [
             0.5555555555555556,
             "#d8576b"
            ],
            [
             0.6666666666666666,
             "#ed7953"
            ],
            [
             0.7777777777777778,
             "#fb9f3a"
            ],
            [
             0.8888888888888888,
             "#fdca26"
            ],
            [
             1,
             "#f0f921"
            ]
           ]
          },
          "colorway": [
           "#636efa",
           "#EF553B",
           "#00cc96",
           "#ab63fa",
           "#FFA15A",
           "#19d3f3",
           "#FF6692",
           "#B6E880",
           "#FF97FF",
           "#FECB52"
          ],
          "font": {
           "color": "#2a3f5f"
          },
          "geo": {
           "bgcolor": "white",
           "lakecolor": "white",
           "landcolor": "#E5ECF6",
           "showlakes": true,
           "showland": true,
           "subunitcolor": "white"
          },
          "hoverlabel": {
           "align": "left"
          },
          "hovermode": "closest",
          "mapbox": {
           "style": "light"
          },
          "paper_bgcolor": "white",
          "plot_bgcolor": "#E5ECF6",
          "polar": {
           "angularaxis": {
            "gridcolor": "white",
            "linecolor": "white",
            "ticks": ""
           },
           "bgcolor": "#E5ECF6",
           "radialaxis": {
            "gridcolor": "white",
            "linecolor": "white",
            "ticks": ""
           }
          },
          "scene": {
           "xaxis": {
            "backgroundcolor": "#E5ECF6",
            "gridcolor": "white",
            "gridwidth": 2,
            "linecolor": "white",
            "showbackground": true,
            "ticks": "",
            "zerolinecolor": "white"
           },
           "yaxis": {
            "backgroundcolor": "#E5ECF6",
            "gridcolor": "white",
            "gridwidth": 2,
            "linecolor": "white",
            "showbackground": true,
            "ticks": "",
            "zerolinecolor": "white"
           },
           "zaxis": {
            "backgroundcolor": "#E5ECF6",
            "gridcolor": "white",
            "gridwidth": 2,
            "linecolor": "white",
            "showbackground": true,
            "ticks": "",
            "zerolinecolor": "white"
           }
          },
          "shapedefaults": {
           "line": {
            "color": "#2a3f5f"
           }
          },
          "ternary": {
           "aaxis": {
            "gridcolor": "white",
            "linecolor": "white",
            "ticks": ""
           },
           "baxis": {
            "gridcolor": "white",
            "linecolor": "white",
            "ticks": ""
           },
           "bgcolor": "#E5ECF6",
           "caxis": {
            "gridcolor": "white",
            "linecolor": "white",
            "ticks": ""
           }
          },
          "title": {
           "x": 0.05
          },
          "xaxis": {
           "automargin": true,
           "gridcolor": "white",
           "linecolor": "white",
           "ticks": "",
           "title": {
            "standoff": 15
           },
           "zerolinecolor": "white",
           "zerolinewidth": 2
          },
          "yaxis": {
           "automargin": true,
           "gridcolor": "white",
           "linecolor": "white",
           "ticks": "",
           "title": {
            "standoff": 15
           },
           "zerolinecolor": "white",
           "zerolinewidth": 2
          }
         }
        },
        "title": {
         "text": "RFM Segmentation Scatter Plot"
        },
        "xaxis": {
         "anchor": "y",
         "domain": [
          0,
          1
         ],
         "title": {
          "text": "Recency"
         },
         "type": "log"
        },
        "yaxis": {
         "anchor": "x",
         "domain": [
          0,
          1
         ],
         "title": {
          "text": "Monetary"
         },
         "type": "log"
        }
       }
      }
     },
     "metadata": {},
     "output_type": "display_data"
    }
   ],
   "source": [
    "fig_bubble = px.scatter(client_agg_df,\n",
    "                        x='Recency', \n",
    "                        y='Monetary', \n",
    "                        size='Frequency',  \n",
    "                        color='Segment', \n",
    "                        hover_data=['client_id'], \n",
    "                        title='RFM Segmentation Scatter Plot')\n",
    "fig_bubble.update_layout(xaxis_type=\"log\")\n",
    "fig_bubble.update_layout(yaxis_type=\"log\")\n",
    "fig_bubble.show()"
   ]
  },
  {
   "cell_type": "code",
   "execution_count": 36,
   "id": "26f2a476",
   "metadata": {},
   "outputs": [
    {
     "data": {
      "application/vnd.plotly.v1+json": {
       "config": {
        "plotlyServerURL": "https://plot.ly"
       },
       "data": [
        {
         "bingroup": "x",
         "hovertemplate": "Segment=%{x}<br>count=%{y}<extra></extra>",
         "legendgroup": "Mid-Tier",
         "marker": {
          "color": "#636efa",
          "pattern": {
           "shape": ""
          }
         },
         "name": "Mid-Tier",
         "orientation": "v",
         "showlegend": true,
         "texttemplate": "%{value}",
         "type": "histogram",
         "x": [
          "Mid-Tier",
          "Mid-Tier",
          "Mid-Tier",
          "Mid-Tier",
          "Mid-Tier",
          "Mid-Tier",
          "Mid-Tier",
          "Mid-Tier",
          "Mid-Tier",
          "Mid-Tier",
          "Mid-Tier",
          "Mid-Tier",
          "Mid-Tier",
          "Mid-Tier",
          "Mid-Tier",
          "Mid-Tier",
          "Mid-Tier",
          "Mid-Tier",
          "Mid-Tier",
          "Mid-Tier",
          "Mid-Tier",
          "Mid-Tier",
          "Mid-Tier",
          "Mid-Tier",
          "Mid-Tier",
          "Mid-Tier",
          "Mid-Tier",
          "Mid-Tier",
          "Mid-Tier",
          "Mid-Tier",
          "Mid-Tier",
          "Mid-Tier",
          "Mid-Tier",
          "Mid-Tier",
          "Mid-Tier",
          "Mid-Tier",
          "Mid-Tier",
          "Mid-Tier",
          "Mid-Tier",
          "Mid-Tier",
          "Mid-Tier",
          "Mid-Tier",
          "Mid-Tier",
          "Mid-Tier",
          "Mid-Tier",
          "Mid-Tier",
          "Mid-Tier",
          "Mid-Tier",
          "Mid-Tier",
          "Mid-Tier",
          "Mid-Tier",
          "Mid-Tier",
          "Mid-Tier",
          "Mid-Tier",
          "Mid-Tier",
          "Mid-Tier",
          "Mid-Tier",
          "Mid-Tier",
          "Mid-Tier",
          "Mid-Tier",
          "Mid-Tier",
          "Mid-Tier",
          "Mid-Tier",
          "Mid-Tier",
          "Mid-Tier",
          "Mid-Tier",
          "Mid-Tier",
          "Mid-Tier",
          "Mid-Tier",
          "Mid-Tier",
          "Mid-Tier",
          "Mid-Tier",
          "Mid-Tier",
          "Mid-Tier",
          "Mid-Tier",
          "Mid-Tier",
          "Mid-Tier",
          "Mid-Tier",
          "Mid-Tier",
          "Mid-Tier",
          "Mid-Tier",
          "Mid-Tier",
          "Mid-Tier",
          "Mid-Tier",
          "Mid-Tier",
          "Mid-Tier",
          "Mid-Tier",
          "Mid-Tier",
          "Mid-Tier",
          "Mid-Tier",
          "Mid-Tier",
          "Mid-Tier",
          "Mid-Tier",
          "Mid-Tier",
          "Mid-Tier",
          "Mid-Tier",
          "Mid-Tier",
          "Mid-Tier",
          "Mid-Tier",
          "Mid-Tier",
          "Mid-Tier",
          "Mid-Tier",
          "Mid-Tier",
          "Mid-Tier",
          "Mid-Tier",
          "Mid-Tier",
          "Mid-Tier",
          "Mid-Tier",
          "Mid-Tier",
          "Mid-Tier",
          "Mid-Tier",
          "Mid-Tier",
          "Mid-Tier",
          "Mid-Tier",
          "Mid-Tier",
          "Mid-Tier",
          "Mid-Tier",
          "Mid-Tier",
          "Mid-Tier",
          "Mid-Tier",
          "Mid-Tier",
          "Mid-Tier",
          "Mid-Tier",
          "Mid-Tier",
          "Mid-Tier",
          "Mid-Tier",
          "Mid-Tier",
          "Mid-Tier",
          "Mid-Tier",
          "Mid-Tier",
          "Mid-Tier",
          "Mid-Tier",
          "Mid-Tier",
          "Mid-Tier",
          "Mid-Tier",
          "Mid-Tier",
          "Mid-Tier",
          "Mid-Tier",
          "Mid-Tier",
          "Mid-Tier",
          "Mid-Tier",
          "Mid-Tier",
          "Mid-Tier",
          "Mid-Tier",
          "Mid-Tier",
          "Mid-Tier",
          "Mid-Tier",
          "Mid-Tier",
          "Mid-Tier",
          "Mid-Tier",
          "Mid-Tier",
          "Mid-Tier",
          "Mid-Tier",
          "Mid-Tier",
          "Mid-Tier",
          "Mid-Tier",
          "Mid-Tier",
          "Mid-Tier",
          "Mid-Tier",
          "Mid-Tier",
          "Mid-Tier",
          "Mid-Tier",
          "Mid-Tier",
          "Mid-Tier",
          "Mid-Tier",
          "Mid-Tier",
          "Mid-Tier",
          "Mid-Tier",
          "Mid-Tier",
          "Mid-Tier",
          "Mid-Tier",
          "Mid-Tier",
          "Mid-Tier",
          "Mid-Tier",
          "Mid-Tier",
          "Mid-Tier",
          "Mid-Tier",
          "Mid-Tier",
          "Mid-Tier",
          "Mid-Tier",
          "Mid-Tier",
          "Mid-Tier",
          "Mid-Tier",
          "Mid-Tier",
          "Mid-Tier",
          "Mid-Tier",
          "Mid-Tier",
          "Mid-Tier",
          "Mid-Tier",
          "Mid-Tier",
          "Mid-Tier",
          "Mid-Tier",
          "Mid-Tier",
          "Mid-Tier",
          "Mid-Tier",
          "Mid-Tier",
          "Mid-Tier",
          "Mid-Tier",
          "Mid-Tier",
          "Mid-Tier",
          "Mid-Tier",
          "Mid-Tier",
          "Mid-Tier",
          "Mid-Tier",
          "Mid-Tier",
          "Mid-Tier",
          "Mid-Tier",
          "Mid-Tier",
          "Mid-Tier",
          "Mid-Tier",
          "Mid-Tier",
          "Mid-Tier",
          "Mid-Tier",
          "Mid-Tier",
          "Mid-Tier",
          "Mid-Tier",
          "Mid-Tier",
          "Mid-Tier",
          "Mid-Tier",
          "Mid-Tier",
          "Mid-Tier",
          "Mid-Tier",
          "Mid-Tier",
          "Mid-Tier",
          "Mid-Tier",
          "Mid-Tier",
          "Mid-Tier",
          "Mid-Tier",
          "Mid-Tier",
          "Mid-Tier",
          "Mid-Tier",
          "Mid-Tier",
          "Mid-Tier",
          "Mid-Tier",
          "Mid-Tier",
          "Mid-Tier",
          "Mid-Tier",
          "Mid-Tier",
          "Mid-Tier",
          "Mid-Tier",
          "Mid-Tier",
          "Mid-Tier",
          "Mid-Tier",
          "Mid-Tier",
          "Mid-Tier",
          "Mid-Tier",
          "Mid-Tier",
          "Mid-Tier",
          "Mid-Tier",
          "Mid-Tier",
          "Mid-Tier",
          "Mid-Tier",
          "Mid-Tier",
          "Mid-Tier",
          "Mid-Tier",
          "Mid-Tier",
          "Mid-Tier",
          "Mid-Tier",
          "Mid-Tier",
          "Mid-Tier",
          "Mid-Tier",
          "Mid-Tier",
          "Mid-Tier",
          "Mid-Tier",
          "Mid-Tier",
          "Mid-Tier",
          "Mid-Tier",
          "Mid-Tier",
          "Mid-Tier",
          "Mid-Tier",
          "Mid-Tier",
          "Mid-Tier",
          "Mid-Tier",
          "Mid-Tier",
          "Mid-Tier",
          "Mid-Tier",
          "Mid-Tier",
          "Mid-Tier",
          "Mid-Tier",
          "Mid-Tier",
          "Mid-Tier",
          "Mid-Tier",
          "Mid-Tier",
          "Mid-Tier",
          "Mid-Tier",
          "Mid-Tier",
          "Mid-Tier",
          "Mid-Tier",
          "Mid-Tier",
          "Mid-Tier",
          "Mid-Tier",
          "Mid-Tier",
          "Mid-Tier",
          "Mid-Tier",
          "Mid-Tier",
          "Mid-Tier",
          "Mid-Tier",
          "Mid-Tier",
          "Mid-Tier",
          "Mid-Tier",
          "Mid-Tier",
          "Mid-Tier",
          "Mid-Tier",
          "Mid-Tier",
          "Mid-Tier",
          "Mid-Tier",
          "Mid-Tier",
          "Mid-Tier",
          "Mid-Tier",
          "Mid-Tier",
          "Mid-Tier",
          "Mid-Tier",
          "Mid-Tier",
          "Mid-Tier",
          "Mid-Tier",
          "Mid-Tier",
          "Mid-Tier",
          "Mid-Tier",
          "Mid-Tier",
          "Mid-Tier",
          "Mid-Tier",
          "Mid-Tier",
          "Mid-Tier",
          "Mid-Tier",
          "Mid-Tier",
          "Mid-Tier",
          "Mid-Tier",
          "Mid-Tier",
          "Mid-Tier",
          "Mid-Tier",
          "Mid-Tier",
          "Mid-Tier",
          "Mid-Tier",
          "Mid-Tier",
          "Mid-Tier",
          "Mid-Tier",
          "Mid-Tier",
          "Mid-Tier",
          "Mid-Tier",
          "Mid-Tier",
          "Mid-Tier",
          "Mid-Tier",
          "Mid-Tier",
          "Mid-Tier",
          "Mid-Tier",
          "Mid-Tier",
          "Mid-Tier",
          "Mid-Tier",
          "Mid-Tier",
          "Mid-Tier",
          "Mid-Tier",
          "Mid-Tier",
          "Mid-Tier",
          "Mid-Tier",
          "Mid-Tier",
          "Mid-Tier",
          "Mid-Tier",
          "Mid-Tier",
          "Mid-Tier",
          "Mid-Tier",
          "Mid-Tier",
          "Mid-Tier",
          "Mid-Tier",
          "Mid-Tier",
          "Mid-Tier",
          "Mid-Tier",
          "Mid-Tier",
          "Mid-Tier",
          "Mid-Tier",
          "Mid-Tier",
          "Mid-Tier",
          "Mid-Tier",
          "Mid-Tier",
          "Mid-Tier",
          "Mid-Tier",
          "Mid-Tier",
          "Mid-Tier",
          "Mid-Tier",
          "Mid-Tier",
          "Mid-Tier",
          "Mid-Tier",
          "Mid-Tier",
          "Mid-Tier",
          "Mid-Tier",
          "Mid-Tier",
          "Mid-Tier",
          "Mid-Tier",
          "Mid-Tier",
          "Mid-Tier",
          "Mid-Tier",
          "Mid-Tier",
          "Mid-Tier",
          "Mid-Tier",
          "Mid-Tier",
          "Mid-Tier",
          "Mid-Tier",
          "Mid-Tier",
          "Mid-Tier",
          "Mid-Tier",
          "Mid-Tier",
          "Mid-Tier",
          "Mid-Tier",
          "Mid-Tier",
          "Mid-Tier",
          "Mid-Tier",
          "Mid-Tier",
          "Mid-Tier",
          "Mid-Tier",
          "Mid-Tier",
          "Mid-Tier",
          "Mid-Tier",
          "Mid-Tier",
          "Mid-Tier",
          "Mid-Tier",
          "Mid-Tier",
          "Mid-Tier",
          "Mid-Tier",
          "Mid-Tier",
          "Mid-Tier",
          "Mid-Tier",
          "Mid-Tier",
          "Mid-Tier",
          "Mid-Tier",
          "Mid-Tier",
          "Mid-Tier",
          "Mid-Tier",
          "Mid-Tier",
          "Mid-Tier",
          "Mid-Tier",
          "Mid-Tier",
          "Mid-Tier",
          "Mid-Tier",
          "Mid-Tier",
          "Mid-Tier",
          "Mid-Tier",
          "Mid-Tier",
          "Mid-Tier",
          "Mid-Tier",
          "Mid-Tier",
          "Mid-Tier",
          "Mid-Tier",
          "Mid-Tier",
          "Mid-Tier",
          "Mid-Tier",
          "Mid-Tier",
          "Mid-Tier",
          "Mid-Tier",
          "Mid-Tier",
          "Mid-Tier",
          "Mid-Tier",
          "Mid-Tier",
          "Mid-Tier",
          "Mid-Tier",
          "Mid-Tier",
          "Mid-Tier",
          "Mid-Tier",
          "Mid-Tier",
          "Mid-Tier",
          "Mid-Tier",
          "Mid-Tier",
          "Mid-Tier",
          "Mid-Tier",
          "Mid-Tier",
          "Mid-Tier",
          "Mid-Tier",
          "Mid-Tier",
          "Mid-Tier",
          "Mid-Tier",
          "Mid-Tier",
          "Mid-Tier",
          "Mid-Tier",
          "Mid-Tier",
          "Mid-Tier",
          "Mid-Tier",
          "Mid-Tier",
          "Mid-Tier",
          "Mid-Tier",
          "Mid-Tier",
          "Mid-Tier",
          "Mid-Tier",
          "Mid-Tier",
          "Mid-Tier",
          "Mid-Tier",
          "Mid-Tier",
          "Mid-Tier",
          "Mid-Tier",
          "Mid-Tier",
          "Mid-Tier",
          "Mid-Tier",
          "Mid-Tier",
          "Mid-Tier",
          "Mid-Tier",
          "Mid-Tier",
          "Mid-Tier",
          "Mid-Tier",
          "Mid-Tier",
          "Mid-Tier",
          "Mid-Tier",
          "Mid-Tier",
          "Mid-Tier",
          "Mid-Tier",
          "Mid-Tier",
          "Mid-Tier",
          "Mid-Tier",
          "Mid-Tier",
          "Mid-Tier",
          "Mid-Tier",
          "Mid-Tier",
          "Mid-Tier",
          "Mid-Tier",
          "Mid-Tier",
          "Mid-Tier",
          "Mid-Tier",
          "Mid-Tier",
          "Mid-Tier",
          "Mid-Tier",
          "Mid-Tier"
         ],
         "xaxis": "x",
         "yaxis": "y"
        },
        {
         "bingroup": "x",
         "hovertemplate": "Segment=%{x}<br>count=%{y}<extra></extra>",
         "legendgroup": "Big Spender",
         "marker": {
          "color": "#EF553B",
          "pattern": {
           "shape": ""
          }
         },
         "name": "Big Spender",
         "orientation": "v",
         "showlegend": true,
         "texttemplate": "%{value}",
         "type": "histogram",
         "x": [
          "Big Spender",
          "Big Spender",
          "Big Spender",
          "Big Spender",
          "Big Spender",
          "Big Spender",
          "Big Spender",
          "Big Spender",
          "Big Spender",
          "Big Spender",
          "Big Spender",
          "Big Spender",
          "Big Spender",
          "Big Spender",
          "Big Spender",
          "Big Spender",
          "Big Spender",
          "Big Spender",
          "Big Spender",
          "Big Spender",
          "Big Spender",
          "Big Spender",
          "Big Spender",
          "Big Spender",
          "Big Spender",
          "Big Spender",
          "Big Spender",
          "Big Spender",
          "Big Spender",
          "Big Spender",
          "Big Spender",
          "Big Spender",
          "Big Spender",
          "Big Spender",
          "Big Spender",
          "Big Spender",
          "Big Spender",
          "Big Spender",
          "Big Spender",
          "Big Spender",
          "Big Spender",
          "Big Spender",
          "Big Spender",
          "Big Spender",
          "Big Spender",
          "Big Spender",
          "Big Spender",
          "Big Spender",
          "Big Spender",
          "Big Spender",
          "Big Spender",
          "Big Spender",
          "Big Spender",
          "Big Spender",
          "Big Spender",
          "Big Spender",
          "Big Spender",
          "Big Spender",
          "Big Spender",
          "Big Spender",
          "Big Spender",
          "Big Spender",
          "Big Spender",
          "Big Spender",
          "Big Spender",
          "Big Spender",
          "Big Spender",
          "Big Spender",
          "Big Spender",
          "Big Spender",
          "Big Spender",
          "Big Spender",
          "Big Spender",
          "Big Spender",
          "Big Spender",
          "Big Spender",
          "Big Spender",
          "Big Spender",
          "Big Spender",
          "Big Spender",
          "Big Spender",
          "Big Spender",
          "Big Spender",
          "Big Spender",
          "Big Spender",
          "Big Spender",
          "Big Spender",
          "Big Spender",
          "Big Spender",
          "Big Spender",
          "Big Spender",
          "Big Spender",
          "Big Spender",
          "Big Spender",
          "Big Spender",
          "Big Spender",
          "Big Spender",
          "Big Spender",
          "Big Spender",
          "Big Spender",
          "Big Spender",
          "Big Spender",
          "Big Spender",
          "Big Spender",
          "Big Spender",
          "Big Spender",
          "Big Spender",
          "Big Spender",
          "Big Spender",
          "Big Spender",
          "Big Spender",
          "Big Spender",
          "Big Spender",
          "Big Spender",
          "Big Spender",
          "Big Spender",
          "Big Spender",
          "Big Spender",
          "Big Spender",
          "Big Spender",
          "Big Spender",
          "Big Spender",
          "Big Spender",
          "Big Spender",
          "Big Spender",
          "Big Spender",
          "Big Spender",
          "Big Spender",
          "Big Spender",
          "Big Spender",
          "Big Spender",
          "Big Spender",
          "Big Spender",
          "Big Spender",
          "Big Spender",
          "Big Spender",
          "Big Spender",
          "Big Spender",
          "Big Spender",
          "Big Spender",
          "Big Spender",
          "Big Spender",
          "Big Spender",
          "Big Spender",
          "Big Spender",
          "Big Spender",
          "Big Spender",
          "Big Spender",
          "Big Spender",
          "Big Spender",
          "Big Spender",
          "Big Spender",
          "Big Spender",
          "Big Spender",
          "Big Spender",
          "Big Spender",
          "Big Spender",
          "Big Spender",
          "Big Spender",
          "Big Spender",
          "Big Spender",
          "Big Spender",
          "Big Spender"
         ],
         "xaxis": "x",
         "yaxis": "y"
        },
        {
         "bingroup": "x",
         "hovertemplate": "Segment=%{x}<br>count=%{y}<extra></extra>",
         "legendgroup": "Potential Loyalist",
         "marker": {
          "color": "#00cc96",
          "pattern": {
           "shape": ""
          }
         },
         "name": "Potential Loyalist",
         "orientation": "v",
         "showlegend": true,
         "texttemplate": "%{value}",
         "type": "histogram",
         "x": [
          "Potential Loyalist",
          "Potential Loyalist",
          "Potential Loyalist",
          "Potential Loyalist",
          "Potential Loyalist",
          "Potential Loyalist",
          "Potential Loyalist",
          "Potential Loyalist",
          "Potential Loyalist",
          "Potential Loyalist",
          "Potential Loyalist",
          "Potential Loyalist",
          "Potential Loyalist",
          "Potential Loyalist",
          "Potential Loyalist",
          "Potential Loyalist",
          "Potential Loyalist",
          "Potential Loyalist",
          "Potential Loyalist",
          "Potential Loyalist",
          "Potential Loyalist",
          "Potential Loyalist",
          "Potential Loyalist",
          "Potential Loyalist",
          "Potential Loyalist",
          "Potential Loyalist",
          "Potential Loyalist",
          "Potential Loyalist",
          "Potential Loyalist",
          "Potential Loyalist",
          "Potential Loyalist",
          "Potential Loyalist",
          "Potential Loyalist",
          "Potential Loyalist",
          "Potential Loyalist",
          "Potential Loyalist",
          "Potential Loyalist",
          "Potential Loyalist",
          "Potential Loyalist",
          "Potential Loyalist",
          "Potential Loyalist",
          "Potential Loyalist",
          "Potential Loyalist",
          "Potential Loyalist",
          "Potential Loyalist",
          "Potential Loyalist",
          "Potential Loyalist",
          "Potential Loyalist",
          "Potential Loyalist",
          "Potential Loyalist",
          "Potential Loyalist",
          "Potential Loyalist",
          "Potential Loyalist",
          "Potential Loyalist",
          "Potential Loyalist",
          "Potential Loyalist",
          "Potential Loyalist",
          "Potential Loyalist",
          "Potential Loyalist",
          "Potential Loyalist",
          "Potential Loyalist",
          "Potential Loyalist",
          "Potential Loyalist",
          "Potential Loyalist",
          "Potential Loyalist",
          "Potential Loyalist",
          "Potential Loyalist",
          "Potential Loyalist",
          "Potential Loyalist",
          "Potential Loyalist",
          "Potential Loyalist",
          "Potential Loyalist",
          "Potential Loyalist",
          "Potential Loyalist",
          "Potential Loyalist",
          "Potential Loyalist",
          "Potential Loyalist",
          "Potential Loyalist",
          "Potential Loyalist",
          "Potential Loyalist",
          "Potential Loyalist",
          "Potential Loyalist",
          "Potential Loyalist",
          "Potential Loyalist",
          "Potential Loyalist",
          "Potential Loyalist",
          "Potential Loyalist",
          "Potential Loyalist",
          "Potential Loyalist",
          "Potential Loyalist",
          "Potential Loyalist",
          "Potential Loyalist",
          "Potential Loyalist",
          "Potential Loyalist",
          "Potential Loyalist",
          "Potential Loyalist",
          "Potential Loyalist",
          "Potential Loyalist",
          "Potential Loyalist",
          "Potential Loyalist",
          "Potential Loyalist",
          "Potential Loyalist",
          "Potential Loyalist",
          "Potential Loyalist",
          "Potential Loyalist",
          "Potential Loyalist",
          "Potential Loyalist",
          "Potential Loyalist",
          "Potential Loyalist",
          "Potential Loyalist",
          "Potential Loyalist",
          "Potential Loyalist",
          "Potential Loyalist",
          "Potential Loyalist",
          "Potential Loyalist",
          "Potential Loyalist",
          "Potential Loyalist",
          "Potential Loyalist",
          "Potential Loyalist",
          "Potential Loyalist",
          "Potential Loyalist",
          "Potential Loyalist",
          "Potential Loyalist",
          "Potential Loyalist",
          "Potential Loyalist",
          "Potential Loyalist",
          "Potential Loyalist",
          "Potential Loyalist",
          "Potential Loyalist",
          "Potential Loyalist",
          "Potential Loyalist",
          "Potential Loyalist",
          "Potential Loyalist",
          "Potential Loyalist",
          "Potential Loyalist",
          "Potential Loyalist",
          "Potential Loyalist",
          "Potential Loyalist",
          "Potential Loyalist",
          "Potential Loyalist",
          "Potential Loyalist",
          "Potential Loyalist",
          "Potential Loyalist",
          "Potential Loyalist",
          "Potential Loyalist",
          "Potential Loyalist",
          "Potential Loyalist",
          "Potential Loyalist",
          "Potential Loyalist",
          "Potential Loyalist",
          "Potential Loyalist",
          "Potential Loyalist",
          "Potential Loyalist",
          "Potential Loyalist",
          "Potential Loyalist",
          "Potential Loyalist",
          "Potential Loyalist",
          "Potential Loyalist",
          "Potential Loyalist",
          "Potential Loyalist",
          "Potential Loyalist",
          "Potential Loyalist",
          "Potential Loyalist",
          "Potential Loyalist",
          "Potential Loyalist",
          "Potential Loyalist",
          "Potential Loyalist",
          "Potential Loyalist",
          "Potential Loyalist",
          "Potential Loyalist",
          "Potential Loyalist",
          "Potential Loyalist",
          "Potential Loyalist",
          "Potential Loyalist",
          "Potential Loyalist",
          "Potential Loyalist",
          "Potential Loyalist",
          "Potential Loyalist",
          "Potential Loyalist",
          "Potential Loyalist",
          "Potential Loyalist",
          "Potential Loyalist",
          "Potential Loyalist",
          "Potential Loyalist",
          "Potential Loyalist",
          "Potential Loyalist",
          "Potential Loyalist",
          "Potential Loyalist",
          "Potential Loyalist",
          "Potential Loyalist",
          "Potential Loyalist",
          "Potential Loyalist"
         ],
         "xaxis": "x",
         "yaxis": "y"
        },
        {
         "bingroup": "x",
         "hovertemplate": "Segment=%{x}<br>count=%{y}<extra></extra>",
         "legendgroup": "Regular High-Value",
         "marker": {
          "color": "#ab63fa",
          "pattern": {
           "shape": ""
          }
         },
         "name": "Regular High-Value",
         "orientation": "v",
         "showlegend": true,
         "texttemplate": "%{value}",
         "type": "histogram",
         "x": [
          "Regular High-Value",
          "Regular High-Value",
          "Regular High-Value",
          "Regular High-Value",
          "Regular High-Value",
          "Regular High-Value",
          "Regular High-Value",
          "Regular High-Value",
          "Regular High-Value",
          "Regular High-Value",
          "Regular High-Value",
          "Regular High-Value",
          "Regular High-Value",
          "Regular High-Value",
          "Regular High-Value",
          "Regular High-Value",
          "Regular High-Value",
          "Regular High-Value",
          "Regular High-Value",
          "Regular High-Value",
          "Regular High-Value",
          "Regular High-Value",
          "Regular High-Value",
          "Regular High-Value",
          "Regular High-Value",
          "Regular High-Value",
          "Regular High-Value",
          "Regular High-Value",
          "Regular High-Value",
          "Regular High-Value",
          "Regular High-Value",
          "Regular High-Value",
          "Regular High-Value",
          "Regular High-Value",
          "Regular High-Value",
          "Regular High-Value",
          "Regular High-Value",
          "Regular High-Value",
          "Regular High-Value",
          "Regular High-Value",
          "Regular High-Value",
          "Regular High-Value",
          "Regular High-Value",
          "Regular High-Value",
          "Regular High-Value",
          "Regular High-Value",
          "Regular High-Value",
          "Regular High-Value",
          "Regular High-Value",
          "Regular High-Value",
          "Regular High-Value",
          "Regular High-Value",
          "Regular High-Value",
          "Regular High-Value",
          "Regular High-Value",
          "Regular High-Value",
          "Regular High-Value",
          "Regular High-Value",
          "Regular High-Value",
          "Regular High-Value",
          "Regular High-Value",
          "Regular High-Value",
          "Regular High-Value",
          "Regular High-Value",
          "Regular High-Value",
          "Regular High-Value",
          "Regular High-Value",
          "Regular High-Value",
          "Regular High-Value",
          "Regular High-Value",
          "Regular High-Value",
          "Regular High-Value",
          "Regular High-Value",
          "Regular High-Value",
          "Regular High-Value",
          "Regular High-Value",
          "Regular High-Value",
          "Regular High-Value",
          "Regular High-Value",
          "Regular High-Value",
          "Regular High-Value",
          "Regular High-Value",
          "Regular High-Value",
          "Regular High-Value",
          "Regular High-Value",
          "Regular High-Value",
          "Regular High-Value",
          "Regular High-Value",
          "Regular High-Value",
          "Regular High-Value",
          "Regular High-Value",
          "Regular High-Value",
          "Regular High-Value",
          "Regular High-Value",
          "Regular High-Value",
          "Regular High-Value",
          "Regular High-Value",
          "Regular High-Value",
          "Regular High-Value",
          "Regular High-Value",
          "Regular High-Value",
          "Regular High-Value",
          "Regular High-Value",
          "Regular High-Value",
          "Regular High-Value",
          "Regular High-Value",
          "Regular High-Value",
          "Regular High-Value",
          "Regular High-Value",
          "Regular High-Value",
          "Regular High-Value",
          "Regular High-Value",
          "Regular High-Value",
          "Regular High-Value",
          "Regular High-Value",
          "Regular High-Value",
          "Regular High-Value",
          "Regular High-Value",
          "Regular High-Value",
          "Regular High-Value",
          "Regular High-Value",
          "Regular High-Value",
          "Regular High-Value",
          "Regular High-Value",
          "Regular High-Value",
          "Regular High-Value",
          "Regular High-Value",
          "Regular High-Value",
          "Regular High-Value",
          "Regular High-Value",
          "Regular High-Value",
          "Regular High-Value",
          "Regular High-Value",
          "Regular High-Value",
          "Regular High-Value",
          "Regular High-Value",
          "Regular High-Value",
          "Regular High-Value",
          "Regular High-Value",
          "Regular High-Value",
          "Regular High-Value",
          "Regular High-Value",
          "Regular High-Value",
          "Regular High-Value",
          "Regular High-Value",
          "Regular High-Value",
          "Regular High-Value",
          "Regular High-Value",
          "Regular High-Value",
          "Regular High-Value",
          "Regular High-Value",
          "Regular High-Value",
          "Regular High-Value",
          "Regular High-Value",
          "Regular High-Value",
          "Regular High-Value",
          "Regular High-Value",
          "Regular High-Value",
          "Regular High-Value",
          "Regular High-Value",
          "Regular High-Value",
          "Regular High-Value",
          "Regular High-Value",
          "Regular High-Value",
          "Regular High-Value",
          "Regular High-Value",
          "Regular High-Value",
          "Regular High-Value",
          "Regular High-Value",
          "Regular High-Value",
          "Regular High-Value",
          "Regular High-Value",
          "Regular High-Value",
          "Regular High-Value",
          "Regular High-Value",
          "Regular High-Value",
          "Regular High-Value",
          "Regular High-Value",
          "Regular High-Value",
          "Regular High-Value",
          "Regular High-Value",
          "Regular High-Value",
          "Regular High-Value",
          "Regular High-Value",
          "Regular High-Value",
          "Regular High-Value",
          "Regular High-Value",
          "Regular High-Value",
          "Regular High-Value",
          "Regular High-Value",
          "Regular High-Value",
          "Regular High-Value",
          "Regular High-Value",
          "Regular High-Value",
          "Regular High-Value",
          "Regular High-Value",
          "Regular High-Value",
          "Regular High-Value",
          "Regular High-Value",
          "Regular High-Value",
          "Regular High-Value",
          "Regular High-Value",
          "Regular High-Value",
          "Regular High-Value",
          "Regular High-Value",
          "Regular High-Value",
          "Regular High-Value",
          "Regular High-Value",
          "Regular High-Value",
          "Regular High-Value",
          "Regular High-Value",
          "Regular High-Value",
          "Regular High-Value",
          "Regular High-Value",
          "Regular High-Value",
          "Regular High-Value",
          "Regular High-Value",
          "Regular High-Value",
          "Regular High-Value",
          "Regular High-Value",
          "Regular High-Value",
          "Regular High-Value",
          "Regular High-Value",
          "Regular High-Value",
          "Regular High-Value",
          "Regular High-Value",
          "Regular High-Value",
          "Regular High-Value",
          "Regular High-Value",
          "Regular High-Value",
          "Regular High-Value",
          "Regular High-Value",
          "Regular High-Value",
          "Regular High-Value",
          "Regular High-Value",
          "Regular High-Value",
          "Regular High-Value",
          "Regular High-Value",
          "Regular High-Value",
          "Regular High-Value",
          "Regular High-Value",
          "Regular High-Value",
          "Regular High-Value",
          "Regular High-Value",
          "Regular High-Value",
          "Regular High-Value",
          "Regular High-Value",
          "Regular High-Value",
          "Regular High-Value",
          "Regular High-Value",
          "Regular High-Value",
          "Regular High-Value",
          "Regular High-Value",
          "Regular High-Value",
          "Regular High-Value",
          "Regular High-Value",
          "Regular High-Value",
          "Regular High-Value",
          "Regular High-Value",
          "Regular High-Value",
          "Regular High-Value",
          "Regular High-Value",
          "Regular High-Value",
          "Regular High-Value",
          "Regular High-Value",
          "Regular High-Value",
          "Regular High-Value",
          "Regular High-Value",
          "Regular High-Value",
          "Regular High-Value",
          "Regular High-Value",
          "Regular High-Value",
          "Regular High-Value",
          "Regular High-Value",
          "Regular High-Value",
          "Regular High-Value",
          "Regular High-Value",
          "Regular High-Value",
          "Regular High-Value",
          "Regular High-Value",
          "Regular High-Value",
          "Regular High-Value",
          "Regular High-Value",
          "Regular High-Value",
          "Regular High-Value",
          "Regular High-Value",
          "Regular High-Value",
          "Regular High-Value",
          "Regular High-Value",
          "Regular High-Value",
          "Regular High-Value",
          "Regular High-Value",
          "Regular High-Value",
          "Regular High-Value",
          "Regular High-Value",
          "Regular High-Value",
          "Regular High-Value",
          "Regular High-Value",
          "Regular High-Value",
          "Regular High-Value",
          "Regular High-Value"
         ],
         "xaxis": "x",
         "yaxis": "y"
        },
        {
         "bingroup": "x",
         "hovertemplate": "Segment=%{x}<br>count=%{y}<extra></extra>",
         "legendgroup": "At Risk",
         "marker": {
          "color": "#FFA15A",
          "pattern": {
           "shape": ""
          }
         },
         "name": "At Risk",
         "orientation": "v",
         "showlegend": true,
         "texttemplate": "%{value}",
         "type": "histogram",
         "x": [
          "At Risk",
          "At Risk",
          "At Risk",
          "At Risk",
          "At Risk",
          "At Risk",
          "At Risk",
          "At Risk",
          "At Risk",
          "At Risk",
          "At Risk",
          "At Risk",
          "At Risk",
          "At Risk",
          "At Risk",
          "At Risk",
          "At Risk",
          "At Risk",
          "At Risk",
          "At Risk",
          "At Risk",
          "At Risk",
          "At Risk",
          "At Risk",
          "At Risk",
          "At Risk",
          "At Risk",
          "At Risk",
          "At Risk",
          "At Risk",
          "At Risk",
          "At Risk",
          "At Risk",
          "At Risk",
          "At Risk",
          "At Risk",
          "At Risk",
          "At Risk",
          "At Risk",
          "At Risk",
          "At Risk",
          "At Risk",
          "At Risk",
          "At Risk",
          "At Risk",
          "At Risk",
          "At Risk",
          "At Risk",
          "At Risk",
          "At Risk",
          "At Risk",
          "At Risk",
          "At Risk",
          "At Risk",
          "At Risk",
          "At Risk",
          "At Risk",
          "At Risk",
          "At Risk",
          "At Risk",
          "At Risk",
          "At Risk",
          "At Risk",
          "At Risk",
          "At Risk",
          "At Risk",
          "At Risk",
          "At Risk",
          "At Risk",
          "At Risk",
          "At Risk",
          "At Risk",
          "At Risk",
          "At Risk",
          "At Risk",
          "At Risk",
          "At Risk",
          "At Risk",
          "At Risk",
          "At Risk",
          "At Risk",
          "At Risk",
          "At Risk",
          "At Risk",
          "At Risk",
          "At Risk",
          "At Risk",
          "At Risk",
          "At Risk",
          "At Risk",
          "At Risk",
          "At Risk",
          "At Risk",
          "At Risk",
          "At Risk",
          "At Risk",
          "At Risk",
          "At Risk",
          "At Risk",
          "At Risk",
          "At Risk",
          "At Risk",
          "At Risk",
          "At Risk",
          "At Risk",
          "At Risk",
          "At Risk",
          "At Risk",
          "At Risk",
          "At Risk",
          "At Risk",
          "At Risk",
          "At Risk",
          "At Risk",
          "At Risk",
          "At Risk",
          "At Risk",
          "At Risk",
          "At Risk",
          "At Risk",
          "At Risk",
          "At Risk",
          "At Risk",
          "At Risk",
          "At Risk",
          "At Risk",
          "At Risk",
          "At Risk",
          "At Risk",
          "At Risk",
          "At Risk",
          "At Risk",
          "At Risk",
          "At Risk",
          "At Risk",
          "At Risk",
          "At Risk",
          "At Risk",
          "At Risk",
          "At Risk",
          "At Risk",
          "At Risk",
          "At Risk",
          "At Risk",
          "At Risk",
          "At Risk",
          "At Risk",
          "At Risk",
          "At Risk",
          "At Risk",
          "At Risk",
          "At Risk",
          "At Risk",
          "At Risk",
          "At Risk",
          "At Risk",
          "At Risk",
          "At Risk",
          "At Risk",
          "At Risk",
          "At Risk",
          "At Risk",
          "At Risk",
          "At Risk",
          "At Risk",
          "At Risk",
          "At Risk",
          "At Risk",
          "At Risk",
          "At Risk",
          "At Risk",
          "At Risk",
          "At Risk",
          "At Risk",
          "At Risk",
          "At Risk",
          "At Risk",
          "At Risk",
          "At Risk",
          "At Risk",
          "At Risk",
          "At Risk",
          "At Risk",
          "At Risk",
          "At Risk",
          "At Risk",
          "At Risk",
          "At Risk",
          "At Risk",
          "At Risk",
          "At Risk",
          "At Risk",
          "At Risk",
          "At Risk",
          "At Risk",
          "At Risk",
          "At Risk",
          "At Risk",
          "At Risk",
          "At Risk",
          "At Risk",
          "At Risk",
          "At Risk",
          "At Risk",
          "At Risk",
          "At Risk",
          "At Risk",
          "At Risk",
          "At Risk",
          "At Risk",
          "At Risk",
          "At Risk",
          "At Risk",
          "At Risk",
          "At Risk",
          "At Risk",
          "At Risk",
          "At Risk",
          "At Risk",
          "At Risk",
          "At Risk",
          "At Risk",
          "At Risk",
          "At Risk",
          "At Risk",
          "At Risk",
          "At Risk",
          "At Risk",
          "At Risk",
          "At Risk",
          "At Risk",
          "At Risk",
          "At Risk",
          "At Risk",
          "At Risk",
          "At Risk",
          "At Risk",
          "At Risk",
          "At Risk",
          "At Risk",
          "At Risk",
          "At Risk",
          "At Risk",
          "At Risk",
          "At Risk",
          "At Risk",
          "At Risk",
          "At Risk",
          "At Risk",
          "At Risk",
          "At Risk",
          "At Risk",
          "At Risk",
          "At Risk",
          "At Risk",
          "At Risk",
          "At Risk",
          "At Risk",
          "At Risk",
          "At Risk",
          "At Risk",
          "At Risk",
          "At Risk",
          "At Risk",
          "At Risk",
          "At Risk",
          "At Risk",
          "At Risk",
          "At Risk",
          "At Risk",
          "At Risk",
          "At Risk",
          "At Risk",
          "At Risk",
          "At Risk",
          "At Risk",
          "At Risk",
          "At Risk",
          "At Risk",
          "At Risk",
          "At Risk",
          "At Risk",
          "At Risk",
          "At Risk",
          "At Risk",
          "At Risk",
          "At Risk",
          "At Risk",
          "At Risk",
          "At Risk",
          "At Risk",
          "At Risk",
          "At Risk",
          "At Risk",
          "At Risk",
          "At Risk",
          "At Risk",
          "At Risk",
          "At Risk",
          "At Risk"
         ],
         "xaxis": "x",
         "yaxis": "y"
        },
        {
         "bingroup": "x",
         "hovertemplate": "Segment=%{x}<br>count=%{y}<extra></extra>",
         "legendgroup": "VIP Clients",
         "marker": {
          "color": "#19d3f3",
          "pattern": {
           "shape": ""
          }
         },
         "name": "VIP Clients",
         "orientation": "v",
         "showlegend": true,
         "texttemplate": "%{value}",
         "type": "histogram",
         "x": [
          "VIP Clients",
          "VIP Clients",
          "VIP Clients",
          "VIP Clients",
          "VIP Clients",
          "VIP Clients",
          "VIP Clients",
          "VIP Clients",
          "VIP Clients",
          "VIP Clients",
          "VIP Clients",
          "VIP Clients",
          "VIP Clients",
          "VIP Clients",
          "VIP Clients",
          "VIP Clients",
          "VIP Clients",
          "VIP Clients",
          "VIP Clients",
          "VIP Clients",
          "VIP Clients",
          "VIP Clients",
          "VIP Clients",
          "VIP Clients",
          "VIP Clients",
          "VIP Clients",
          "VIP Clients",
          "VIP Clients",
          "VIP Clients",
          "VIP Clients",
          "VIP Clients",
          "VIP Clients",
          "VIP Clients",
          "VIP Clients",
          "VIP Clients",
          "VIP Clients",
          "VIP Clients",
          "VIP Clients",
          "VIP Clients",
          "VIP Clients",
          "VIP Clients",
          "VIP Clients",
          "VIP Clients",
          "VIP Clients",
          "VIP Clients",
          "VIP Clients",
          "VIP Clients",
          "VIP Clients",
          "VIP Clients",
          "VIP Clients",
          "VIP Clients",
          "VIP Clients",
          "VIP Clients",
          "VIP Clients",
          "VIP Clients",
          "VIP Clients",
          "VIP Clients",
          "VIP Clients",
          "VIP Clients",
          "VIP Clients",
          "VIP Clients",
          "VIP Clients",
          "VIP Clients",
          "VIP Clients",
          "VIP Clients",
          "VIP Clients",
          "VIP Clients",
          "VIP Clients",
          "VIP Clients",
          "VIP Clients",
          "VIP Clients",
          "VIP Clients",
          "VIP Clients",
          "VIP Clients",
          "VIP Clients",
          "VIP Clients",
          "VIP Clients",
          "VIP Clients",
          "VIP Clients",
          "VIP Clients",
          "VIP Clients",
          "VIP Clients",
          "VIP Clients",
          "VIP Clients",
          "VIP Clients",
          "VIP Clients",
          "VIP Clients",
          "VIP Clients",
          "VIP Clients",
          "VIP Clients",
          "VIP Clients",
          "VIP Clients",
          "VIP Clients",
          "VIP Clients",
          "VIP Clients",
          "VIP Clients",
          "VIP Clients",
          "VIP Clients",
          "VIP Clients",
          "VIP Clients",
          "VIP Clients",
          "VIP Clients",
          "VIP Clients",
          "VIP Clients",
          "VIP Clients",
          "VIP Clients",
          "VIP Clients",
          "VIP Clients",
          "VIP Clients",
          "VIP Clients",
          "VIP Clients",
          "VIP Clients",
          "VIP Clients",
          "VIP Clients",
          "VIP Clients",
          "VIP Clients",
          "VIP Clients",
          "VIP Clients",
          "VIP Clients",
          "VIP Clients",
          "VIP Clients",
          "VIP Clients",
          "VIP Clients",
          "VIP Clients",
          "VIP Clients"
         ],
         "xaxis": "x",
         "yaxis": "y"
        }
       ],
       "layout": {
        "barmode": "relative",
        "legend": {
         "title": {
          "text": "Segment"
         },
         "tracegroupgap": 0
        },
        "template": {
         "data": {
          "bar": [
           {
            "error_x": {
             "color": "#2a3f5f"
            },
            "error_y": {
             "color": "#2a3f5f"
            },
            "marker": {
             "line": {
              "color": "#E5ECF6",
              "width": 0.5
             },
             "pattern": {
              "fillmode": "overlay",
              "size": 10,
              "solidity": 0.2
             }
            },
            "type": "bar"
           }
          ],
          "barpolar": [
           {
            "marker": {
             "line": {
              "color": "#E5ECF6",
              "width": 0.5
             },
             "pattern": {
              "fillmode": "overlay",
              "size": 10,
              "solidity": 0.2
             }
            },
            "type": "barpolar"
           }
          ],
          "carpet": [
           {
            "aaxis": {
             "endlinecolor": "#2a3f5f",
             "gridcolor": "white",
             "linecolor": "white",
             "minorgridcolor": "white",
             "startlinecolor": "#2a3f5f"
            },
            "baxis": {
             "endlinecolor": "#2a3f5f",
             "gridcolor": "white",
             "linecolor": "white",
             "minorgridcolor": "white",
             "startlinecolor": "#2a3f5f"
            },
            "type": "carpet"
           }
          ],
          "choropleth": [
           {
            "colorbar": {
             "outlinewidth": 0,
             "ticks": ""
            },
            "type": "choropleth"
           }
          ],
          "contour": [
           {
            "colorbar": {
             "outlinewidth": 0,
             "ticks": ""
            },
            "colorscale": [
             [
              0,
              "#0d0887"
             ],
             [
              0.1111111111111111,
              "#46039f"
             ],
             [
              0.2222222222222222,
              "#7201a8"
             ],
             [
              0.3333333333333333,
              "#9c179e"
             ],
             [
              0.4444444444444444,
              "#bd3786"
             ],
             [
              0.5555555555555556,
              "#d8576b"
             ],
             [
              0.6666666666666666,
              "#ed7953"
             ],
             [
              0.7777777777777778,
              "#fb9f3a"
             ],
             [
              0.8888888888888888,
              "#fdca26"
             ],
             [
              1,
              "#f0f921"
             ]
            ],
            "type": "contour"
           }
          ],
          "contourcarpet": [
           {
            "colorbar": {
             "outlinewidth": 0,
             "ticks": ""
            },
            "type": "contourcarpet"
           }
          ],
          "heatmap": [
           {
            "colorbar": {
             "outlinewidth": 0,
             "ticks": ""
            },
            "colorscale": [
             [
              0,
              "#0d0887"
             ],
             [
              0.1111111111111111,
              "#46039f"
             ],
             [
              0.2222222222222222,
              "#7201a8"
             ],
             [
              0.3333333333333333,
              "#9c179e"
             ],
             [
              0.4444444444444444,
              "#bd3786"
             ],
             [
              0.5555555555555556,
              "#d8576b"
             ],
             [
              0.6666666666666666,
              "#ed7953"
             ],
             [
              0.7777777777777778,
              "#fb9f3a"
             ],
             [
              0.8888888888888888,
              "#fdca26"
             ],
             [
              1,
              "#f0f921"
             ]
            ],
            "type": "heatmap"
           }
          ],
          "histogram": [
           {
            "marker": {
             "pattern": {
              "fillmode": "overlay",
              "size": 10,
              "solidity": 0.2
             }
            },
            "type": "histogram"
           }
          ],
          "histogram2d": [
           {
            "colorbar": {
             "outlinewidth": 0,
             "ticks": ""
            },
            "colorscale": [
             [
              0,
              "#0d0887"
             ],
             [
              0.1111111111111111,
              "#46039f"
             ],
             [
              0.2222222222222222,
              "#7201a8"
             ],
             [
              0.3333333333333333,
              "#9c179e"
             ],
             [
              0.4444444444444444,
              "#bd3786"
             ],
             [
              0.5555555555555556,
              "#d8576b"
             ],
             [
              0.6666666666666666,
              "#ed7953"
             ],
             [
              0.7777777777777778,
              "#fb9f3a"
             ],
             [
              0.8888888888888888,
              "#fdca26"
             ],
             [
              1,
              "#f0f921"
             ]
            ],
            "type": "histogram2d"
           }
          ],
          "histogram2dcontour": [
           {
            "colorbar": {
             "outlinewidth": 0,
             "ticks": ""
            },
            "colorscale": [
             [
              0,
              "#0d0887"
             ],
             [
              0.1111111111111111,
              "#46039f"
             ],
             [
              0.2222222222222222,
              "#7201a8"
             ],
             [
              0.3333333333333333,
              "#9c179e"
             ],
             [
              0.4444444444444444,
              "#bd3786"
             ],
             [
              0.5555555555555556,
              "#d8576b"
             ],
             [
              0.6666666666666666,
              "#ed7953"
             ],
             [
              0.7777777777777778,
              "#fb9f3a"
             ],
             [
              0.8888888888888888,
              "#fdca26"
             ],
             [
              1,
              "#f0f921"
             ]
            ],
            "type": "histogram2dcontour"
           }
          ],
          "mesh3d": [
           {
            "colorbar": {
             "outlinewidth": 0,
             "ticks": ""
            },
            "type": "mesh3d"
           }
          ],
          "parcoords": [
           {
            "line": {
             "colorbar": {
              "outlinewidth": 0,
              "ticks": ""
             }
            },
            "type": "parcoords"
           }
          ],
          "pie": [
           {
            "automargin": true,
            "type": "pie"
           }
          ],
          "scatter": [
           {
            "fillpattern": {
             "fillmode": "overlay",
             "size": 10,
             "solidity": 0.2
            },
            "type": "scatter"
           }
          ],
          "scatter3d": [
           {
            "line": {
             "colorbar": {
              "outlinewidth": 0,
              "ticks": ""
             }
            },
            "marker": {
             "colorbar": {
              "outlinewidth": 0,
              "ticks": ""
             }
            },
            "type": "scatter3d"
           }
          ],
          "scattercarpet": [
           {
            "marker": {
             "colorbar": {
              "outlinewidth": 0,
              "ticks": ""
             }
            },
            "type": "scattercarpet"
           }
          ],
          "scattergeo": [
           {
            "marker": {
             "colorbar": {
              "outlinewidth": 0,
              "ticks": ""
             }
            },
            "type": "scattergeo"
           }
          ],
          "scattergl": [
           {
            "marker": {
             "colorbar": {
              "outlinewidth": 0,
              "ticks": ""
             }
            },
            "type": "scattergl"
           }
          ],
          "scattermap": [
           {
            "marker": {
             "colorbar": {
              "outlinewidth": 0,
              "ticks": ""
             }
            },
            "type": "scattermap"
           }
          ],
          "scattermapbox": [
           {
            "marker": {
             "colorbar": {
              "outlinewidth": 0,
              "ticks": ""
             }
            },
            "type": "scattermapbox"
           }
          ],
          "scatterpolar": [
           {
            "marker": {
             "colorbar": {
              "outlinewidth": 0,
              "ticks": ""
             }
            },
            "type": "scatterpolar"
           }
          ],
          "scatterpolargl": [
           {
            "marker": {
             "colorbar": {
              "outlinewidth": 0,
              "ticks": ""
             }
            },
            "type": "scatterpolargl"
           }
          ],
          "scatterternary": [
           {
            "marker": {
             "colorbar": {
              "outlinewidth": 0,
              "ticks": ""
             }
            },
            "type": "scatterternary"
           }
          ],
          "surface": [
           {
            "colorbar": {
             "outlinewidth": 0,
             "ticks": ""
            },
            "colorscale": [
             [
              0,
              "#0d0887"
             ],
             [
              0.1111111111111111,
              "#46039f"
             ],
             [
              0.2222222222222222,
              "#7201a8"
             ],
             [
              0.3333333333333333,
              "#9c179e"
             ],
             [
              0.4444444444444444,
              "#bd3786"
             ],
             [
              0.5555555555555556,
              "#d8576b"
             ],
             [
              0.6666666666666666,
              "#ed7953"
             ],
             [
              0.7777777777777778,
              "#fb9f3a"
             ],
             [
              0.8888888888888888,
              "#fdca26"
             ],
             [
              1,
              "#f0f921"
             ]
            ],
            "type": "surface"
           }
          ],
          "table": [
           {
            "cells": {
             "fill": {
              "color": "#EBF0F8"
             },
             "line": {
              "color": "white"
             }
            },
            "header": {
             "fill": {
              "color": "#C8D4E3"
             },
             "line": {
              "color": "white"
             }
            },
            "type": "table"
           }
          ]
         },
         "layout": {
          "annotationdefaults": {
           "arrowcolor": "#2a3f5f",
           "arrowhead": 0,
           "arrowwidth": 1
          },
          "autotypenumbers": "strict",
          "coloraxis": {
           "colorbar": {
            "outlinewidth": 0,
            "ticks": ""
           }
          },
          "colorscale": {
           "diverging": [
            [
             0,
             "#8e0152"
            ],
            [
             0.1,
             "#c51b7d"
            ],
            [
             0.2,
             "#de77ae"
            ],
            [
             0.3,
             "#f1b6da"
            ],
            [
             0.4,
             "#fde0ef"
            ],
            [
             0.5,
             "#f7f7f7"
            ],
            [
             0.6,
             "#e6f5d0"
            ],
            [
             0.7,
             "#b8e186"
            ],
            [
             0.8,
             "#7fbc41"
            ],
            [
             0.9,
             "#4d9221"
            ],
            [
             1,
             "#276419"
            ]
           ],
           "sequential": [
            [
             0,
             "#0d0887"
            ],
            [
             0.1111111111111111,
             "#46039f"
            ],
            [
             0.2222222222222222,
             "#7201a8"
            ],
            [
             0.3333333333333333,
             "#9c179e"
            ],
            [
             0.4444444444444444,
             "#bd3786"
            ],
            [
             0.5555555555555556,
             "#d8576b"
            ],
            [
             0.6666666666666666,
             "#ed7953"
            ],
            [
             0.7777777777777778,
             "#fb9f3a"
            ],
            [
             0.8888888888888888,
             "#fdca26"
            ],
            [
             1,
             "#f0f921"
            ]
           ],
           "sequentialminus": [
            [
             0,
             "#0d0887"
            ],
            [
             0.1111111111111111,
             "#46039f"
            ],
            [
             0.2222222222222222,
             "#7201a8"
            ],
            [
             0.3333333333333333,
             "#9c179e"
            ],
            [
             0.4444444444444444,
             "#bd3786"
            ],
            [
             0.5555555555555556,
             "#d8576b"
            ],
            [
             0.6666666666666666,
             "#ed7953"
            ],
            [
             0.7777777777777778,
             "#fb9f3a"
            ],
            [
             0.8888888888888888,
             "#fdca26"
            ],
            [
             1,
             "#f0f921"
            ]
           ]
          },
          "colorway": [
           "#636efa",
           "#EF553B",
           "#00cc96",
           "#ab63fa",
           "#FFA15A",
           "#19d3f3",
           "#FF6692",
           "#B6E880",
           "#FF97FF",
           "#FECB52"
          ],
          "font": {
           "color": "#2a3f5f"
          },
          "geo": {
           "bgcolor": "white",
           "lakecolor": "white",
           "landcolor": "#E5ECF6",
           "showlakes": true,
           "showland": true,
           "subunitcolor": "white"
          },
          "hoverlabel": {
           "align": "left"
          },
          "hovermode": "closest",
          "mapbox": {
           "style": "light"
          },
          "paper_bgcolor": "white",
          "plot_bgcolor": "#E5ECF6",
          "polar": {
           "angularaxis": {
            "gridcolor": "white",
            "linecolor": "white",
            "ticks": ""
           },
           "bgcolor": "#E5ECF6",
           "radialaxis": {
            "gridcolor": "white",
            "linecolor": "white",
            "ticks": ""
           }
          },
          "scene": {
           "xaxis": {
            "backgroundcolor": "#E5ECF6",
            "gridcolor": "white",
            "gridwidth": 2,
            "linecolor": "white",
            "showbackground": true,
            "ticks": "",
            "zerolinecolor": "white"
           },
           "yaxis": {
            "backgroundcolor": "#E5ECF6",
            "gridcolor": "white",
            "gridwidth": 2,
            "linecolor": "white",
            "showbackground": true,
            "ticks": "",
            "zerolinecolor": "white"
           },
           "zaxis": {
            "backgroundcolor": "#E5ECF6",
            "gridcolor": "white",
            "gridwidth": 2,
            "linecolor": "white",
            "showbackground": true,
            "ticks": "",
            "zerolinecolor": "white"
           }
          },
          "shapedefaults": {
           "line": {
            "color": "#2a3f5f"
           }
          },
          "ternary": {
           "aaxis": {
            "gridcolor": "white",
            "linecolor": "white",
            "ticks": ""
           },
           "baxis": {
            "gridcolor": "white",
            "linecolor": "white",
            "ticks": ""
           },
           "bgcolor": "#E5ECF6",
           "caxis": {
            "gridcolor": "white",
            "linecolor": "white",
            "ticks": ""
           }
          },
          "title": {
           "x": 0.05
          },
          "xaxis": {
           "automargin": true,
           "gridcolor": "white",
           "linecolor": "white",
           "ticks": "",
           "title": {
            "standoff": 15
           },
           "zerolinecolor": "white",
           "zerolinewidth": 2
          },
          "yaxis": {
           "automargin": true,
           "gridcolor": "white",
           "linecolor": "white",
           "ticks": "",
           "title": {
            "standoff": 15
           },
           "zerolinecolor": "white",
           "zerolinewidth": 2
          }
         }
        },
        "title": {
         "text": "Number of Client per Segment"
        },
        "xaxis": {
         "anchor": "y",
         "categoryarray": [
          "Mid-Tier",
          "Big Spender",
          "Potential Loyalist",
          "Regular High-Value",
          "At Risk",
          "VIP Clients"
         ],
         "categoryorder": "array",
         "domain": [
          0,
          1
         ],
         "title": {
          "text": "Segment"
         }
        },
        "yaxis": {
         "anchor": "x",
         "domain": [
          0,
          1
         ],
         "title": {
          "text": "count"
         }
        }
       }
      }
     },
     "metadata": {},
     "output_type": "display_data"
    }
   ],
   "source": [
    "fig_counts = px.histogram(client_agg_df, \n",
    "                          x='Segment', \n",
    "                          title='Number of Client per Segment', \n",
    "                          color='Segment', \n",
    "                          text_auto=True)\n",
    "fig_counts.show()"
   ]
  },
  {
   "cell_type": "code",
   "execution_count": null,
   "id": "5fb9eae4",
   "metadata": {},
   "outputs": [],
   "source": [
    "\"\"\" Most clients are Mid-Tier, while a notable share are At Risk\n",
    "--> This shows a stable customer base but highlights the need to reengage those losing interest and nurture potential loyalists\n",
    "\"\"\""
   ]
  },
  {
   "cell_type": "code",
   "execution_count": 38,
   "id": "c2e1045b",
   "metadata": {},
   "outputs": [],
   "source": [
    "client_agg_df[['client_id', 'R_Score', 'F_Score', 'M_Score', 'Segment']].to_csv(\n",
    "    \"client_segments.csv\", index=False)"
   ]
  }
 ],
 "metadata": {
  "kernelspec": {
   "display_name": "Python 3",
   "language": "python",
   "name": "python3"
  },
  "language_info": {
   "codemirror_mode": {
    "name": "ipython",
    "version": 3
   },
   "file_extension": ".py",
   "mimetype": "text/x-python",
   "name": "python",
   "nbconvert_exporter": "python",
   "pygments_lexer": "ipython3",
   "version": "3.13.3"
  }
 },
 "nbformat": 4,
 "nbformat_minor": 5
}
