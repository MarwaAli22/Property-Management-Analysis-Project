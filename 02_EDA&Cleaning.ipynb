{
 "cells": [
  {
   "cell_type": "markdown",
   "id": "008b28cb",
   "metadata": {},
   "source": [
    "# Real Estate Data Analysis – EDA & Cleaning"
   ]
  },
  {
   "cell_type": "markdown",
   "id": "f552b3a3",
   "metadata": {},
   "source": [
    "Not just reading numbers — asking what they mean for the business "
   ]
  },
  {
   "cell_type": "markdown",
   "id": "dcdc99ec",
   "metadata": {},
   "source": [
    "## Import Libraries "
   ]
  },
  {
   "cell_type": "code",
   "execution_count": 1,
   "id": "243715af",
   "metadata": {},
   "outputs": [],
   "source": [
    "import pandas as pd\n",
    "import numpy as np\n",
    "import plotly.express as px"
   ]
  },
  {
   "cell_type": "markdown",
   "id": "f3857cd8",
   "metadata": {},
   "source": [
    "##  Address Dataset"
   ]
  },
  {
   "cell_type": "markdown",
   "id": "566a16b5",
   "metadata": {},
   "source": [
    "### Load & Preview"
   ]
  },
  {
   "cell_type": "code",
   "execution_count": null,
   "id": "8aafbc09",
   "metadata": {},
   "outputs": [
    {
     "data": {
      "text/html": [
       "<div>\n",
       "<style scoped>\n",
       "    .dataframe tbody tr th:only-of-type {\n",
       "        vertical-align: middle;\n",
       "    }\n",
       "\n",
       "    .dataframe tbody tr th {\n",
       "        vertical-align: top;\n",
       "    }\n",
       "\n",
       "    .dataframe thead th {\n",
       "        text-align: right;\n",
       "    }\n",
       "</style>\n",
       "<table border=\"1\" class=\"dataframe\">\n",
       "  <thead>\n",
       "    <tr style=\"text-align: right;\">\n",
       "      <th></th>\n",
       "      <th>address_id</th>\n",
       "      <th>street</th>\n",
       "      <th>city</th>\n",
       "      <th>state</th>\n",
       "      <th>latitude</th>\n",
       "      <th>longitude</th>\n",
       "    </tr>\n",
       "  </thead>\n",
       "  <tbody>\n",
       "    <tr>\n",
       "      <th>0</th>\n",
       "      <td>1</td>\n",
       "      <td>5545 Maxwell Springs</td>\n",
       "      <td>Joliet</td>\n",
       "      <td>IL</td>\n",
       "      <td>41.595860</td>\n",
       "      <td>-88.086585</td>\n",
       "    </tr>\n",
       "    <tr>\n",
       "      <th>1</th>\n",
       "      <td>2</td>\n",
       "      <td>9774 Nicole Greens</td>\n",
       "      <td>Springfield</td>\n",
       "      <td>IL</td>\n",
       "      <td>39.784853</td>\n",
       "      <td>-89.655079</td>\n",
       "    </tr>\n",
       "    <tr>\n",
       "      <th>2</th>\n",
       "      <td>3</td>\n",
       "      <td>13699 Baldwin Wells</td>\n",
       "      <td>Elgin</td>\n",
       "      <td>IL</td>\n",
       "      <td>42.014133</td>\n",
       "      <td>-88.228130</td>\n",
       "    </tr>\n",
       "    <tr>\n",
       "      <th>3</th>\n",
       "      <td>4</td>\n",
       "      <td>5822 Kane Plaza</td>\n",
       "      <td>Chicago</td>\n",
       "      <td>IL</td>\n",
       "      <td>41.953988</td>\n",
       "      <td>-87.677038</td>\n",
       "    </tr>\n",
       "    <tr>\n",
       "      <th>4</th>\n",
       "      <td>5</td>\n",
       "      <td>710 Jesus Lakes</td>\n",
       "      <td>Tallahassee</td>\n",
       "      <td>FL</td>\n",
       "      <td>30.419741</td>\n",
       "      <td>-84.260663</td>\n",
       "    </tr>\n",
       "  </tbody>\n",
       "</table>\n",
       "</div>"
      ],
      "text/plain": [
       "   address_id                street         city state   latitude  longitude\n",
       "0           1  5545 Maxwell Springs       Joliet    IL  41.595860 -88.086585\n",
       "1           2    9774 Nicole Greens  Springfield    IL  39.784853 -89.655079\n",
       "2           3   13699 Baldwin Wells        Elgin    IL  42.014133 -88.228130\n",
       "3           4       5822 Kane Plaza      Chicago    IL  41.953988 -87.677038\n",
       "4           5       710 Jesus Lakes  Tallahassee    FL  30.419741 -84.260663"
      ]
     },
     "execution_count": 2,
     "metadata": {},
     "output_type": "execute_result"
    }
   ],
   "source": [
    "address_df = pd.read_csv(r\"\\01_Dataset\\addresses.csv\")\n",
    "address_df.head()"
   ]
  },
  {
   "cell_type": "code",
   "execution_count": 3,
   "id": "566936ee",
   "metadata": {},
   "outputs": [
    {
     "name": "stdout",
     "output_type": "stream",
     "text": [
      "<class 'pandas.core.frame.DataFrame'>\n",
      "RangeIndex: 3000 entries, 0 to 2999\n",
      "Data columns (total 6 columns):\n",
      " #   Column      Non-Null Count  Dtype  \n",
      "---  ------      --------------  -----  \n",
      " 0   address_id  3000 non-null   int64  \n",
      " 1   street      3000 non-null   object \n",
      " 2   city        3000 non-null   object \n",
      " 3   state       3000 non-null   object \n",
      " 4   latitude    3000 non-null   float64\n",
      " 5   longitude   3000 non-null   float64\n",
      "dtypes: float64(2), int64(1), object(3)\n",
      "memory usage: 140.8+ KB\n"
     ]
    }
   ],
   "source": [
    "address_df.info()"
   ]
  },
  {
   "cell_type": "code",
   "execution_count": 4,
   "id": "897ac176",
   "metadata": {},
   "outputs": [
    {
     "data": {
      "text/plain": [
       "address_id    3000\n",
       "street        3000\n",
       "city            40\n",
       "state            5\n",
       "latitude      2999\n",
       "longitude     2998\n",
       "dtype: int64"
      ]
     },
     "execution_count": 4,
     "metadata": {},
     "output_type": "execute_result"
    }
   ],
   "source": [
    "address_df.nunique()"
   ]
  },
  {
   "cell_type": "code",
   "execution_count": 5,
   "id": "0b82c578",
   "metadata": {},
   "outputs": [
    {
     "data": {
      "text/plain": [
       "'\\nno nulls / duplicates\\ndatatypes are correct\\nThe street is unique and represents the ID\\nAll addresses in one country (USA), and 5 states\\n'"
      ]
     },
     "execution_count": 5,
     "metadata": {},
     "output_type": "execute_result"
    }
   ],
   "source": [
    "\"\"\"\n",
    "no nulls / duplicates\n",
    "datatypes are correct\n",
    "The street is unique and represents the ID\n",
    "All addresses in one country (USA), and 5 states\n",
    "\"\"\""
   ]
  },
  {
   "cell_type": "code",
   "execution_count": 6,
   "id": "1eb05bb3",
   "metadata": {},
   "outputs": [],
   "source": [
    "# data is cleaned\n",
    "address_df.to_csv(\"addresses_clean.csv\", index=False)"
   ]
  },
  {
   "cell_type": "markdown",
   "id": "66fe7def",
   "metadata": {},
   "source": [
    "## Client dataset"
   ]
  },
  {
   "cell_type": "markdown",
   "id": "1d8d55f1",
   "metadata": {},
   "source": [
    "### Load & Preview Data"
   ]
  },
  {
   "cell_type": "code",
   "execution_count": null,
   "id": "f7ef961b",
   "metadata": {},
   "outputs": [
    {
     "data": {
      "text/html": [
       "<div>\n",
       "<style scoped>\n",
       "    .dataframe tbody tr th:only-of-type {\n",
       "        vertical-align: middle;\n",
       "    }\n",
       "\n",
       "    .dataframe tbody tr th {\n",
       "        vertical-align: top;\n",
       "    }\n",
       "\n",
       "    .dataframe thead th {\n",
       "        text-align: right;\n",
       "    }\n",
       "</style>\n",
       "<table border=\"1\" class=\"dataframe\">\n",
       "  <thead>\n",
       "    <tr style=\"text-align: right;\">\n",
       "      <th></th>\n",
       "      <th>client_id</th>\n",
       "      <th>name</th>\n",
       "      <th>gender</th>\n",
       "      <th>phone_number</th>\n",
       "      <th>email</th>\n",
       "      <th>address_id</th>\n",
       "      <th>age</th>\n",
       "    </tr>\n",
       "  </thead>\n",
       "  <tbody>\n",
       "    <tr>\n",
       "      <th>0</th>\n",
       "      <td>1</td>\n",
       "      <td>Emily Johnson</td>\n",
       "      <td>Female</td>\n",
       "      <td>899-378-9434</td>\n",
       "      <td>tyler17@example.org</td>\n",
       "      <td>2899</td>\n",
       "      <td>45</td>\n",
       "    </tr>\n",
       "    <tr>\n",
       "      <th>1</th>\n",
       "      <td>2</td>\n",
       "      <td>Diane Hanson</td>\n",
       "      <td>Female</td>\n",
       "      <td>001-738-239-3519x8660</td>\n",
       "      <td>nicole88@example.net</td>\n",
       "      <td>2056</td>\n",
       "      <td>25</td>\n",
       "    </tr>\n",
       "    <tr>\n",
       "      <th>2</th>\n",
       "      <td>3</td>\n",
       "      <td>Amy Johnson</td>\n",
       "      <td>Female</td>\n",
       "      <td>770-866-7647</td>\n",
       "      <td>bwatson@example.net</td>\n",
       "      <td>2382</td>\n",
       "      <td>57</td>\n",
       "    </tr>\n",
       "    <tr>\n",
       "      <th>3</th>\n",
       "      <td>4</td>\n",
       "      <td>Miranda Green</td>\n",
       "      <td>Female</td>\n",
       "      <td>(429)742-5377</td>\n",
       "      <td>contrerasgina@example.com</td>\n",
       "      <td>12</td>\n",
       "      <td>36</td>\n",
       "    </tr>\n",
       "    <tr>\n",
       "      <th>4</th>\n",
       "      <td>5</td>\n",
       "      <td>Kelsey Ballard</td>\n",
       "      <td>Female</td>\n",
       "      <td>001-778-757-2739</td>\n",
       "      <td>hproctor@example.net</td>\n",
       "      <td>1809</td>\n",
       "      <td>31</td>\n",
       "    </tr>\n",
       "  </tbody>\n",
       "</table>\n",
       "</div>"
      ],
      "text/plain": [
       "   client_id            name  gender           phone_number  \\\n",
       "0          1   Emily Johnson  Female           899-378-9434   \n",
       "1          2    Diane Hanson  Female  001-738-239-3519x8660   \n",
       "2          3     Amy Johnson  Female           770-866-7647   \n",
       "3          4   Miranda Green  Female          (429)742-5377   \n",
       "4          5  Kelsey Ballard  Female       001-778-757-2739   \n",
       "\n",
       "                       email  address_id  age  \n",
       "0        tyler17@example.org        2899   45  \n",
       "1       nicole88@example.net        2056   25  \n",
       "2        bwatson@example.net        2382   57  \n",
       "3  contrerasgina@example.com          12   36  \n",
       "4       hproctor@example.net        1809   31  "
      ]
     },
     "execution_count": 7,
     "metadata": {},
     "output_type": "execute_result"
    }
   ],
   "source": [
    "client_df = pd.read_csv(r\"clients.csv\")\n",
    "client_df.head()"
   ]
  },
  {
   "cell_type": "code",
   "execution_count": 8,
   "id": "59e5c7cd",
   "metadata": {},
   "outputs": [
    {
     "name": "stdout",
     "output_type": "stream",
     "text": [
      "<class 'pandas.core.frame.DataFrame'>\n",
      "RangeIndex: 2060 entries, 0 to 2059\n",
      "Data columns (total 7 columns):\n",
      " #   Column        Non-Null Count  Dtype \n",
      "---  ------        --------------  ----- \n",
      " 0   client_id     2060 non-null   int64 \n",
      " 1   name          2060 non-null   object\n",
      " 2   gender        2060 non-null   object\n",
      " 3   phone_number  2054 non-null   object\n",
      " 4   email         2053 non-null   object\n",
      " 5   address_id    2060 non-null   int64 \n",
      " 6   age           2060 non-null   int64 \n",
      "dtypes: int64(3), object(4)\n",
      "memory usage: 112.8+ KB\n"
     ]
    }
   ],
   "source": [
    "client_df.info()"
   ]
  },
  {
   "cell_type": "code",
   "execution_count": 9,
   "id": "36760a10",
   "metadata": {},
   "outputs": [
    {
     "data": {
      "text/plain": [
       "np.int64(0)"
      ]
     },
     "execution_count": 9,
     "metadata": {},
     "output_type": "execute_result"
    }
   ],
   "source": [
    "client_df.duplicated().sum()"
   ]
  },
  {
   "cell_type": "code",
   "execution_count": 10,
   "id": "d37d4500",
   "metadata": {},
   "outputs": [
    {
     "data": {
      "text/plain": [
       "client_id       2060\n",
       "name            2034\n",
       "gender             2\n",
       "phone_number    2054\n",
       "email           2041\n",
       "address_id      1484\n",
       "age               50\n",
       "dtype: int64"
      ]
     },
     "execution_count": 10,
     "metadata": {},
     "output_type": "execute_result"
    }
   ],
   "source": [
    "client_df.nunique()"
   ]
  },
  {
   "cell_type": "code",
   "execution_count": 11,
   "id": "763943be",
   "metadata": {},
   "outputs": [
    {
     "data": {
      "text/plain": [
       "\"\\nThere are no duplicate clients, but there are shared phone numbers and email addresses.\\nSince I won't need them for the analysis, I'll drop these columns\\n\""
      ]
     },
     "execution_count": 11,
     "metadata": {},
     "output_type": "execute_result"
    }
   ],
   "source": [
    "\"\"\"\n",
    "There are no duplicate clients, but there are shared phone numbers and email addresses.\n",
    "Since I won't need them for the analysis, I'll drop these columns\n",
    "\"\"\""
   ]
  },
  {
   "cell_type": "markdown",
   "id": "34349105",
   "metadata": {},
   "source": [
    "### Data Cleaning"
   ]
  },
  {
   "cell_type": "code",
   "execution_count": 12,
   "id": "0c70c43e",
   "metadata": {},
   "outputs": [],
   "source": [
    "client_df.drop(columns=[\"email\",\"phone_number\"],inplace=True)"
   ]
  },
  {
   "cell_type": "code",
   "execution_count": 13,
   "id": "15bed8ea",
   "metadata": {},
   "outputs": [],
   "source": [
    "client_df.to_csv(\"client_clean.csv\",index=False)"
   ]
  },
  {
   "cell_type": "markdown",
   "id": "00a1cbe3",
   "metadata": {},
   "source": [
    "### Descriptive Statistics & Group Insights"
   ]
  },
  {
   "cell_type": "code",
   "execution_count": 14,
   "id": "1057d3b5",
   "metadata": {},
   "outputs": [
    {
     "data": {
      "text/html": [
       "<div>\n",
       "<style scoped>\n",
       "    .dataframe tbody tr th:only-of-type {\n",
       "        vertical-align: middle;\n",
       "    }\n",
       "\n",
       "    .dataframe tbody tr th {\n",
       "        vertical-align: top;\n",
       "    }\n",
       "\n",
       "    .dataframe thead th {\n",
       "        text-align: right;\n",
       "    }\n",
       "</style>\n",
       "<table border=\"1\" class=\"dataframe\">\n",
       "  <thead>\n",
       "    <tr style=\"text-align: right;\">\n",
       "      <th></th>\n",
       "      <th>client_id</th>\n",
       "      <th>name</th>\n",
       "      <th>gender</th>\n",
       "      <th>address_id</th>\n",
       "      <th>age</th>\n",
       "    </tr>\n",
       "  </thead>\n",
       "  <tbody>\n",
       "    <tr>\n",
       "      <th>count</th>\n",
       "      <td>2060.000000</td>\n",
       "      <td>2060</td>\n",
       "      <td>2060</td>\n",
       "      <td>2060.000000</td>\n",
       "      <td>2060.000000</td>\n",
       "    </tr>\n",
       "    <tr>\n",
       "      <th>unique</th>\n",
       "      <td>NaN</td>\n",
       "      <td>2034</td>\n",
       "      <td>2</td>\n",
       "      <td>NaN</td>\n",
       "      <td>NaN</td>\n",
       "    </tr>\n",
       "    <tr>\n",
       "      <th>top</th>\n",
       "      <td>NaN</td>\n",
       "      <td>Michael Lawson</td>\n",
       "      <td>Female</td>\n",
       "      <td>NaN</td>\n",
       "      <td>NaN</td>\n",
       "    </tr>\n",
       "    <tr>\n",
       "      <th>freq</th>\n",
       "      <td>NaN</td>\n",
       "      <td>2</td>\n",
       "      <td>1054</td>\n",
       "      <td>NaN</td>\n",
       "      <td>NaN</td>\n",
       "    </tr>\n",
       "    <tr>\n",
       "      <th>mean</th>\n",
       "      <td>1030.500000</td>\n",
       "      <td>NaN</td>\n",
       "      <td>NaN</td>\n",
       "      <td>1490.234466</td>\n",
       "      <td>40.115534</td>\n",
       "    </tr>\n",
       "    <tr>\n",
       "      <th>std</th>\n",
       "      <td>594.815097</td>\n",
       "      <td>NaN</td>\n",
       "      <td>NaN</td>\n",
       "      <td>868.803340</td>\n",
       "      <td>11.183717</td>\n",
       "    </tr>\n",
       "    <tr>\n",
       "      <th>min</th>\n",
       "      <td>1.000000</td>\n",
       "      <td>NaN</td>\n",
       "      <td>NaN</td>\n",
       "      <td>6.000000</td>\n",
       "      <td>21.000000</td>\n",
       "    </tr>\n",
       "    <tr>\n",
       "      <th>25%</th>\n",
       "      <td>515.750000</td>\n",
       "      <td>NaN</td>\n",
       "      <td>NaN</td>\n",
       "      <td>723.750000</td>\n",
       "      <td>32.000000</td>\n",
       "    </tr>\n",
       "    <tr>\n",
       "      <th>50%</th>\n",
       "      <td>1030.500000</td>\n",
       "      <td>NaN</td>\n",
       "      <td>NaN</td>\n",
       "      <td>1470.500000</td>\n",
       "      <td>40.000000</td>\n",
       "    </tr>\n",
       "    <tr>\n",
       "      <th>75%</th>\n",
       "      <td>1545.250000</td>\n",
       "      <td>NaN</td>\n",
       "      <td>NaN</td>\n",
       "      <td>2238.750000</td>\n",
       "      <td>48.000000</td>\n",
       "    </tr>\n",
       "    <tr>\n",
       "      <th>max</th>\n",
       "      <td>2060.000000</td>\n",
       "      <td>NaN</td>\n",
       "      <td>NaN</td>\n",
       "      <td>2997.000000</td>\n",
       "      <td>70.000000</td>\n",
       "    </tr>\n",
       "  </tbody>\n",
       "</table>\n",
       "</div>"
      ],
      "text/plain": [
       "          client_id            name  gender   address_id          age\n",
       "count   2060.000000            2060    2060  2060.000000  2060.000000\n",
       "unique          NaN            2034       2          NaN          NaN\n",
       "top             NaN  Michael Lawson  Female          NaN          NaN\n",
       "freq            NaN               2    1054          NaN          NaN\n",
       "mean    1030.500000             NaN     NaN  1490.234466    40.115534\n",
       "std      594.815097             NaN     NaN   868.803340    11.183717\n",
       "min        1.000000             NaN     NaN     6.000000    21.000000\n",
       "25%      515.750000             NaN     NaN   723.750000    32.000000\n",
       "50%     1030.500000             NaN     NaN  1470.500000    40.000000\n",
       "75%     1545.250000             NaN     NaN  2238.750000    48.000000\n",
       "max     2060.000000             NaN     NaN  2997.000000    70.000000"
      ]
     },
     "execution_count": 14,
     "metadata": {},
     "output_type": "execute_result"
    }
   ],
   "source": [
    "client_df.describe(include=\"all\")"
   ]
  },
  {
   "cell_type": "code",
   "execution_count": 15,
   "id": "20446694",
   "metadata": {},
   "outputs": [
    {
     "data": {
      "text/plain": [
       "'\\ntotal clint : 2060,\\nmostly Female, \\naged 21-70, with an average of 40\\n'"
      ]
     },
     "execution_count": 15,
     "metadata": {},
     "output_type": "execute_result"
    }
   ],
   "source": [
    "\"\"\"\n",
    "total clint : 2060,\n",
    "mostly Female, \n",
    "aged 21-70, with an average of 40\n",
    "\"\"\""
   ]
  },
  {
   "cell_type": "markdown",
   "id": "3adfa82f",
   "metadata": {},
   "source": [
    "### Data Visualization"
   ]
  },
  {
   "cell_type": "code",
   "execution_count": 16,
   "id": "d3feef38",
   "metadata": {},
   "outputs": [
    {
     "data": {
      "application/vnd.plotly.v1+json": {
       "config": {
        "plotlyServerURL": "https://plot.ly"
       },
       "data": [
        {
         "bingroup": "x",
         "hovertemplate": "age=%{x}<br>count=%{y}<extra></extra>",
         "legendgroup": "",
         "marker": {
          "color": "#636efa",
          "pattern": {
           "shape": ""
          }
         },
         "name": "",
         "nbinsx": 20,
         "orientation": "v",
         "showlegend": false,
         "type": "histogram",
         "x": {
          "bdata": "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",
          "dtype": "i1"
         },
         "xaxis": "x",
         "yaxis": "y"
        }
       ],
       "layout": {
        "barmode": "relative",
        "legend": {
         "tracegroupgap": 0
        },
        "template": {
         "data": {
          "bar": [
           {
            "error_x": {
             "color": "#2a3f5f"
            },
            "error_y": {
             "color": "#2a3f5f"
            },
            "marker": {
             "line": {
              "color": "#E5ECF6",
              "width": 0.5
             },
             "pattern": {
              "fillmode": "overlay",
              "size": 10,
              "solidity": 0.2
             }
            },
            "type": "bar"
           }
          ],
          "barpolar": [
           {
            "marker": {
             "line": {
              "color": "#E5ECF6",
              "width": 0.5
             },
             "pattern": {
              "fillmode": "overlay",
              "size": 10,
              "solidity": 0.2
             }
            },
            "type": "barpolar"
           }
          ],
          "carpet": [
           {
            "aaxis": {
             "endlinecolor": "#2a3f5f",
             "gridcolor": "white",
             "linecolor": "white",
             "minorgridcolor": "white",
             "startlinecolor": "#2a3f5f"
            },
            "baxis": {
             "endlinecolor": "#2a3f5f",
             "gridcolor": "white",
             "linecolor": "white",
             "minorgridcolor": "white",
             "startlinecolor": "#2a3f5f"
            },
            "type": "carpet"
           }
          ],
          "choropleth": [
           {
            "colorbar": {
             "outlinewidth": 0,
             "ticks": ""
            },
            "type": "choropleth"
           }
          ],
          "contour": [
           {
            "colorbar": {
             "outlinewidth": 0,
             "ticks": ""
            },
            "colorscale": [
             [
              0,
              "#0d0887"
             ],
             [
              0.1111111111111111,
              "#46039f"
             ],
             [
              0.2222222222222222,
              "#7201a8"
             ],
             [
              0.3333333333333333,
              "#9c179e"
             ],
             [
              0.4444444444444444,
              "#bd3786"
             ],
             [
              0.5555555555555556,
              "#d8576b"
             ],
             [
              0.6666666666666666,
              "#ed7953"
             ],
             [
              0.7777777777777778,
              "#fb9f3a"
             ],
             [
              0.8888888888888888,
              "#fdca26"
             ],
             [
              1,
              "#f0f921"
             ]
            ],
            "type": "contour"
           }
          ],
          "contourcarpet": [
           {
            "colorbar": {
             "outlinewidth": 0,
             "ticks": ""
            },
            "type": "contourcarpet"
           }
          ],
          "heatmap": [
           {
            "colorbar": {
             "outlinewidth": 0,
             "ticks": ""
            },
            "colorscale": [
             [
              0,
              "#0d0887"
             ],
             [
              0.1111111111111111,
              "#46039f"
             ],
             [
              0.2222222222222222,
              "#7201a8"
             ],
             [
              0.3333333333333333,
              "#9c179e"
             ],
             [
              0.4444444444444444,
              "#bd3786"
             ],
             [
              0.5555555555555556,
              "#d8576b"
             ],
             [
              0.6666666666666666,
              "#ed7953"
             ],
             [
              0.7777777777777778,
              "#fb9f3a"
             ],
             [
              0.8888888888888888,
              "#fdca26"
             ],
             [
              1,
              "#f0f921"
             ]
            ],
            "type": "heatmap"
           }
          ],
          "histogram": [
           {
            "marker": {
             "pattern": {
              "fillmode": "overlay",
              "size": 10,
              "solidity": 0.2
             }
            },
            "type": "histogram"
           }
          ],
          "histogram2d": [
           {
            "colorbar": {
             "outlinewidth": 0,
             "ticks": ""
            },
            "colorscale": [
             [
              0,
              "#0d0887"
             ],
             [
              0.1111111111111111,
              "#46039f"
             ],
             [
              0.2222222222222222,
              "#7201a8"
             ],
             [
              0.3333333333333333,
              "#9c179e"
             ],
             [
              0.4444444444444444,
              "#bd3786"
             ],
             [
              0.5555555555555556,
              "#d8576b"
             ],
             [
              0.6666666666666666,
              "#ed7953"
             ],
             [
              0.7777777777777778,
              "#fb9f3a"
             ],
             [
              0.8888888888888888,
              "#fdca26"
             ],
             [
              1,
              "#f0f921"
             ]
            ],
            "type": "histogram2d"
           }
          ],
          "histogram2dcontour": [
           {
            "colorbar": {
             "outlinewidth": 0,
             "ticks": ""
            },
            "colorscale": [
             [
              0,
              "#0d0887"
             ],
             [
              0.1111111111111111,
              "#46039f"
             ],
             [
              0.2222222222222222,
              "#7201a8"
             ],
             [
              0.3333333333333333,
              "#9c179e"
             ],
             [
              0.4444444444444444,
              "#bd3786"
             ],
             [
              0.5555555555555556,
              "#d8576b"
             ],
             [
              0.6666666666666666,
              "#ed7953"
             ],
             [
              0.7777777777777778,
              "#fb9f3a"
             ],
             [
              0.8888888888888888,
              "#fdca26"
             ],
             [
              1,
              "#f0f921"
             ]
            ],
            "type": "histogram2dcontour"
           }
          ],
          "mesh3d": [
           {
            "colorbar": {
             "outlinewidth": 0,
             "ticks": ""
            },
            "type": "mesh3d"
           }
          ],
          "parcoords": [
           {
            "line": {
             "colorbar": {
              "outlinewidth": 0,
              "ticks": ""
             }
            },
            "type": "parcoords"
           }
          ],
          "pie": [
           {
            "automargin": true,
            "type": "pie"
           }
          ],
          "scatter": [
           {
            "fillpattern": {
             "fillmode": "overlay",
             "size": 10,
             "solidity": 0.2
            },
            "type": "scatter"
           }
          ],
          "scatter3d": [
           {
            "line": {
             "colorbar": {
              "outlinewidth": 0,
              "ticks": ""
             }
            },
            "marker": {
             "colorbar": {
              "outlinewidth": 0,
              "ticks": ""
             }
            },
            "type": "scatter3d"
           }
          ],
          "scattercarpet": [
           {
            "marker": {
             "colorbar": {
              "outlinewidth": 0,
              "ticks": ""
             }
            },
            "type": "scattercarpet"
           }
          ],
          "scattergeo": [
           {
            "marker": {
             "colorbar": {
              "outlinewidth": 0,
              "ticks": ""
             }
            },
            "type": "scattergeo"
           }
          ],
          "scattergl": [
           {
            "marker": {
             "colorbar": {
              "outlinewidth": 0,
              "ticks": ""
             }
            },
            "type": "scattergl"
           }
          ],
          "scattermap": [
           {
            "marker": {
             "colorbar": {
              "outlinewidth": 0,
              "ticks": ""
             }
            },
            "type": "scattermap"
           }
          ],
          "scattermapbox": [
           {
            "marker": {
             "colorbar": {
              "outlinewidth": 0,
              "ticks": ""
             }
            },
            "type": "scattermapbox"
           }
          ],
          "scatterpolar": [
           {
            "marker": {
             "colorbar": {
              "outlinewidth": 0,
              "ticks": ""
             }
            },
            "type": "scatterpolar"
           }
          ],
          "scatterpolargl": [
           {
            "marker": {
             "colorbar": {
              "outlinewidth": 0,
              "ticks": ""
             }
            },
            "type": "scatterpolargl"
           }
          ],
          "scatterternary": [
           {
            "marker": {
             "colorbar": {
              "outlinewidth": 0,
              "ticks": ""
             }
            },
            "type": "scatterternary"
           }
          ],
          "surface": [
           {
            "colorbar": {
             "outlinewidth": 0,
             "ticks": ""
            },
            "colorscale": [
             [
              0,
              "#0d0887"
             ],
             [
              0.1111111111111111,
              "#46039f"
             ],
             [
              0.2222222222222222,
              "#7201a8"
             ],
             [
              0.3333333333333333,
              "#9c179e"
             ],
             [
              0.4444444444444444,
              "#bd3786"
             ],
             [
              0.5555555555555556,
              "#d8576b"
             ],
             [
              0.6666666666666666,
              "#ed7953"
             ],
             [
              0.7777777777777778,
              "#fb9f3a"
             ],
             [
              0.8888888888888888,
              "#fdca26"
             ],
             [
              1,
              "#f0f921"
             ]
            ],
            "type": "surface"
           }
          ],
          "table": [
           {
            "cells": {
             "fill": {
              "color": "#EBF0F8"
             },
             "line": {
              "color": "white"
             }
            },
            "header": {
             "fill": {
              "color": "#C8D4E3"
             },
             "line": {
              "color": "white"
             }
            },
            "type": "table"
           }
          ]
         },
         "layout": {
          "annotationdefaults": {
           "arrowcolor": "#2a3f5f",
           "arrowhead": 0,
           "arrowwidth": 1
          },
          "autotypenumbers": "strict",
          "coloraxis": {
           "colorbar": {
            "outlinewidth": 0,
            "ticks": ""
           }
          },
          "colorscale": {
           "diverging": [
            [
             0,
             "#8e0152"
            ],
            [
             0.1,
             "#c51b7d"
            ],
            [
             0.2,
             "#de77ae"
            ],
            [
             0.3,
             "#f1b6da"
            ],
            [
             0.4,
             "#fde0ef"
            ],
            [
             0.5,
             "#f7f7f7"
            ],
            [
             0.6,
             "#e6f5d0"
            ],
            [
             0.7,
             "#b8e186"
            ],
            [
             0.8,
             "#7fbc41"
            ],
            [
             0.9,
             "#4d9221"
            ],
            [
             1,
             "#276419"
            ]
           ],
           "sequential": [
            [
             0,
             "#0d0887"
            ],
            [
             0.1111111111111111,
             "#46039f"
            ],
            [
             0.2222222222222222,
             "#7201a8"
            ],
            [
             0.3333333333333333,
             "#9c179e"
            ],
            [
             0.4444444444444444,
             "#bd3786"
            ],
            [
             0.5555555555555556,
             "#d8576b"
            ],
            [
             0.6666666666666666,
             "#ed7953"
            ],
            [
             0.7777777777777778,
             "#fb9f3a"
            ],
            [
             0.8888888888888888,
             "#fdca26"
            ],
            [
             1,
             "#f0f921"
            ]
           ],
           "sequentialminus": [
            [
             0,
             "#0d0887"
            ],
            [
             0.1111111111111111,
             "#46039f"
            ],
            [
             0.2222222222222222,
             "#7201a8"
            ],
            [
             0.3333333333333333,
             "#9c179e"
            ],
            [
             0.4444444444444444,
             "#bd3786"
            ],
            [
             0.5555555555555556,
             "#d8576b"
            ],
            [
             0.6666666666666666,
             "#ed7953"
            ],
            [
             0.7777777777777778,
             "#fb9f3a"
            ],
            [
             0.8888888888888888,
             "#fdca26"
            ],
            [
             1,
             "#f0f921"
            ]
           ]
          },
          "colorway": [
           "#636efa",
           "#EF553B",
           "#00cc96",
           "#ab63fa",
           "#FFA15A",
           "#19d3f3",
           "#FF6692",
           "#B6E880",
           "#FF97FF",
           "#FECB52"
          ],
          "font": {
           "color": "#2a3f5f"
          },
          "geo": {
           "bgcolor": "white",
           "lakecolor": "white",
           "landcolor": "#E5ECF6",
           "showlakes": true,
           "showland": true,
           "subunitcolor": "white"
          },
          "hoverlabel": {
           "align": "left"
          },
          "hovermode": "closest",
          "mapbox": {
           "style": "light"
          },
          "paper_bgcolor": "white",
          "plot_bgcolor": "#E5ECF6",
          "polar": {
           "angularaxis": {
            "gridcolor": "white",
            "linecolor": "white",
            "ticks": ""
           },
           "bgcolor": "#E5ECF6",
           "radialaxis": {
            "gridcolor": "white",
            "linecolor": "white",
            "ticks": ""
           }
          },
          "scene": {
           "xaxis": {
            "backgroundcolor": "#E5ECF6",
            "gridcolor": "white",
            "gridwidth": 2,
            "linecolor": "white",
            "showbackground": true,
            "ticks": "",
            "zerolinecolor": "white"
           },
           "yaxis": {
            "backgroundcolor": "#E5ECF6",
            "gridcolor": "white",
            "gridwidth": 2,
            "linecolor": "white",
            "showbackground": true,
            "ticks": "",
            "zerolinecolor": "white"
           },
           "zaxis": {
            "backgroundcolor": "#E5ECF6",
            "gridcolor": "white",
            "gridwidth": 2,
            "linecolor": "white",
            "showbackground": true,
            "ticks": "",
            "zerolinecolor": "white"
           }
          },
          "shapedefaults": {
           "line": {
            "color": "#2a3f5f"
           }
          },
          "ternary": {
           "aaxis": {
            "gridcolor": "white",
            "linecolor": "white",
            "ticks": ""
           },
           "baxis": {
            "gridcolor": "white",
            "linecolor": "white",
            "ticks": ""
           },
           "bgcolor": "#E5ECF6",
           "caxis": {
            "gridcolor": "white",
            "linecolor": "white",
            "ticks": ""
           }
          },
          "title": {
           "x": 0.05
          },
          "xaxis": {
           "automargin": true,
           "gridcolor": "white",
           "linecolor": "white",
           "ticks": "",
           "title": {
            "standoff": 15
           },
           "zerolinecolor": "white",
           "zerolinewidth": 2
          },
          "yaxis": {
           "automargin": true,
           "gridcolor": "white",
           "linecolor": "white",
           "ticks": "",
           "title": {
            "standoff": 15
           },
           "zerolinecolor": "white",
           "zerolinewidth": 2
          }
         }
        },
        "title": {
         "text": "client age distibution"
        },
        "xaxis": {
         "anchor": "y",
         "domain": [
          0,
          1
         ],
         "title": {
          "text": "age"
         }
        },
        "yaxis": {
         "anchor": "x",
         "domain": [
          0,
          1
         ],
         "title": {
          "text": "count"
         }
        }
       }
      }
     },
     "metadata": {},
     "output_type": "display_data"
    }
   ],
   "source": [
    "fig1 = px.histogram(client_df, x=\"age\", nbins=20, title=\"client age distibution\")\n",
    "fig1.show()"
   ]
  },
  {
   "cell_type": "code",
   "execution_count": 17,
   "id": "abeb99a0",
   "metadata": {},
   "outputs": [
    {
     "data": {
      "application/vnd.plotly.v1+json": {
       "config": {
        "plotlyServerURL": "https://plot.ly"
       },
       "data": [
        {
         "domain": {
          "x": [
           0,
           1
          ],
          "y": [
           0,
           1
          ]
         },
         "hovertemplate": "gender=%{label}<extra></extra>",
         "labels": [
          "Female",
          "Female",
          "Female",
          "Female",
          "Female",
          "Female",
          "Male",
          "Male",
          "Female",
          "Female",
          "Male",
          "Male",
          "Female",
          "Male",
          "Female",
          "Female",
          "Male",
          "Female",
          "Male",
          "Male",
          "Female",
          "Male",
          "Female",
          "Male",
          "Male",
          "Male",
          "Female",
          "Male",
          "Male",
          "Female",
          "Female",
          "Female",
          "Male",
          "Female",
          "Female",
          "Male",
          "Female",
          "Female",
          "Male",
          "Male",
          "Male",
          "Male",
          "Male",
          "Female",
          "Female",
          "Female",
          "Male",
          "Male",
          "Female",
          "Female",
          "Female",
          "Female",
          "Female",
          "Male",
          "Female",
          "Male",
          "Female",
          "Female",
          "Male",
          "Female",
          "Female",
          "Male",
          "Male",
          "Female",
          "Female",
          "Male",
          "Male",
          "Female",
          "Female",
          "Female",
          "Male",
          "Female",
          "Male",
          "Female",
          "Female",
          "Male",
          "Male",
          "Female",
          "Female",
          "Female",
          "Female",
          "Male",
          "Female",
          "Male",
          "Female",
          "Male",
          "Female",
          "Male",
          "Female",
          "Male",
          "Female",
          "Male",
          "Female",
          "Female",
          "Female",
          "Female",
          "Female",
          "Female",
          "Female",
          "Male",
          "Male",
          "Female",
          "Female",
          "Female",
          "Female",
          "Female",
          "Female",
          "Female",
          "Male",
          "Female",
          "Male",
          "Male",
          "Female",
          "Male",
          "Female",
          "Female",
          "Female",
          "Male",
          "Female",
          "Female",
          "Male",
          "Male",
          "Male",
          "Male",
          "Female",
          "Male",
          "Female",
          "Male",
          "Female",
          "Female",
          "Female",
          "Female",
          "Male",
          "Male",
          "Female",
          "Female",
          "Male",
          "Male",
          "Female",
          "Female",
          "Male",
          "Female",
          "Male",
          "Female",
          "Male",
          "Male",
          "Male",
          "Female",
          "Male",
          "Male",
          "Female",
          "Male",
          "Male",
          "Female",
          "Female",
          "Male",
          "Female",
          "Female",
          "Male",
          "Female",
          "Female",
          "Female",
          "Male",
          "Male",
          "Male",
          "Female",
          "Male",
          "Female",
          "Female",
          "Male",
          "Female",
          "Male",
          "Female",
          "Male",
          "Male",
          "Female",
          "Female",
          "Female",
          "Female",
          "Male",
          "Female",
          "Male",
          "Male",
          "Male",
          "Male",
          "Female",
          "Male",
          "Female",
          "Male",
          "Female",
          "Female",
          "Female",
          "Female",
          "Male",
          "Female",
          "Female",
          "Male",
          "Male",
          "Male",
          "Female",
          "Male",
          "Female",
          "Male",
          "Female",
          "Female",
          "Male",
          "Female",
          "Male",
          "Male",
          "Female",
          "Male",
          "Female",
          "Male",
          "Male",
          "Female",
          "Male",
          "Male",
          "Female",
          "Female",
          "Female",
          "Female",
          "Female",
          "Male",
          "Female",
          "Female",
          "Male",
          "Male",
          "Male",
          "Male",
          "Female",
          "Female",
          "Female",
          "Female",
          "Male",
          "Male",
          "Male",
          "Male",
          "Female",
          "Male",
          "Male",
          "Female",
          "Female",
          "Male",
          "Female",
          "Male",
          "Male",
          "Male",
          "Male",
          "Female",
          "Male",
          "Male",
          "Male",
          "Male",
          "Female",
          "Male",
          "Female",
          "Male",
          "Female",
          "Male",
          "Male",
          "Female",
          "Female",
          "Male",
          "Female",
          "Female",
          "Male",
          "Male",
          "Female",
          "Male",
          "Female",
          "Male",
          "Male",
          "Male",
          "Male",
          "Male",
          "Male",
          "Female",
          "Male",
          "Male",
          "Female",
          "Female",
          "Male",
          "Female",
          "Female",
          "Male",
          "Male",
          "Male",
          "Male",
          "Female",
          "Male",
          "Female",
          "Female",
          "Female",
          "Female",
          "Female",
          "Male",
          "Female",
          "Female",
          "Male",
          "Male",
          "Female",
          "Male",
          "Female",
          "Male",
          "Female",
          "Female",
          "Female",
          "Female",
          "Female",
          "Female",
          "Male",
          "Male",
          "Male",
          "Female",
          "Female",
          "Male",
          "Female",
          "Male",
          "Male",
          "Male",
          "Female",
          "Female",
          "Female",
          "Male",
          "Female",
          "Female",
          "Female",
          "Male",
          "Female",
          "Male",
          "Female",
          "Female",
          "Female",
          "Male",
          "Female",
          "Female",
          "Male",
          "Male",
          "Male",
          "Male",
          "Male",
          "Male",
          "Female",
          "Female",
          "Male",
          "Male",
          "Male",
          "Male",
          "Male",
          "Female",
          "Female",
          "Female",
          "Male",
          "Female",
          "Female",
          "Male",
          "Female",
          "Male",
          "Male",
          "Male",
          "Female",
          "Male",
          "Male",
          "Female",
          "Male",
          "Female",
          "Male",
          "Female",
          "Male",
          "Female",
          "Female",
          "Female",
          "Female",
          "Male",
          "Female",
          "Female",
          "Female",
          "Male",
          "Female",
          "Male",
          "Female",
          "Male",
          "Male",
          "Male",
          "Female",
          "Female",
          "Male",
          "Male",
          "Male",
          "Male",
          "Female",
          "Female",
          "Female",
          "Female",
          "Male",
          "Female",
          "Male",
          "Male",
          "Male",
          "Female",
          "Male",
          "Female",
          "Male",
          "Female",
          "Female",
          "Female",
          "Female",
          "Male",
          "Female",
          "Female",
          "Male",
          "Female",
          "Female",
          "Male",
          "Male",
          "Male",
          "Female",
          "Female",
          "Male",
          "Male",
          "Male",
          "Female",
          "Female",
          "Female",
          "Male",
          "Male",
          "Male",
          "Male",
          "Female",
          "Male",
          "Female",
          "Female",
          "Female",
          "Female",
          "Male",
          "Female",
          "Female",
          "Male",
          "Male",
          "Female",
          "Male",
          "Female",
          "Male",
          "Male",
          "Female",
          "Female",
          "Female",
          "Female",
          "Male",
          "Male",
          "Female",
          "Male",
          "Female",
          "Male",
          "Male",
          "Male",
          "Male",
          "Male",
          "Female",
          "Female",
          "Female",
          "Female",
          "Male",
          "Female",
          "Female",
          "Male",
          "Female",
          "Male",
          "Male",
          "Male",
          "Male",
          "Female",
          "Male",
          "Female",
          "Female",
          "Female",
          "Male",
          "Male",
          "Male",
          "Female",
          "Male",
          "Female",
          "Female",
          "Male",
          "Female",
          "Male",
          "Male",
          "Male",
          "Female",
          "Female",
          "Female",
          "Female",
          "Male",
          "Female",
          "Male",
          "Female",
          "Female",
          "Female",
          "Female",
          "Male",
          "Male",
          "Female",
          "Male",
          "Male",
          "Male",
          "Male",
          "Female",
          "Male",
          "Female",
          "Male",
          "Male",
          "Male",
          "Female",
          "Male",
          "Male",
          "Male",
          "Male",
          "Male",
          "Female",
          "Female",
          "Female",
          "Female",
          "Male",
          "Female",
          "Female",
          "Female",
          "Female",
          "Male",
          "Male",
          "Female",
          "Male",
          "Male",
          "Female",
          "Female",
          "Female",
          "Female",
          "Female",
          "Female",
          "Female",
          "Female",
          "Female",
          "Female",
          "Female",
          "Male",
          "Male",
          "Female",
          "Male",
          "Male",
          "Male",
          "Male",
          "Male",
          "Male",
          "Female",
          "Female",
          "Female",
          "Male",
          "Male",
          "Female",
          "Female",
          "Male",
          "Female",
          "Female",
          "Female",
          "Female",
          "Male",
          "Female",
          "Male",
          "Male",
          "Female",
          "Female",
          "Female",
          "Male",
          "Female",
          "Male",
          "Female",
          "Male",
          "Male",
          "Female",
          "Female",
          "Male",
          "Male",
          "Female",
          "Male",
          "Male",
          "Female",
          "Female",
          "Male",
          "Male",
          "Male",
          "Female",
          "Male",
          "Male",
          "Male",
          "Male",
          "Male",
          "Female",
          "Female",
          "Female",
          "Male",
          "Female",
          "Male",
          "Female",
          "Male",
          "Male",
          "Male",
          "Male",
          "Male",
          "Female",
          "Female",
          "Female",
          "Female",
          "Male",
          "Female",
          "Male",
          "Female",
          "Male",
          "Female",
          "Female",
          "Female",
          "Male",
          "Male",
          "Female",
          "Male",
          "Male",
          "Female",
          "Male",
          "Female",
          "Female",
          "Male",
          "Male",
          "Female",
          "Female",
          "Female",
          "Female",
          "Male",
          "Male",
          "Male",
          "Male",
          "Female",
          "Male",
          "Female",
          "Female",
          "Female",
          "Male",
          "Female",
          "Male",
          "Male",
          "Female",
          "Male",
          "Male",
          "Male",
          "Male",
          "Male",
          "Male",
          "Female",
          "Female",
          "Male",
          "Female",
          "Female",
          "Female",
          "Male",
          "Female",
          "Male",
          "Female",
          "Male",
          "Male",
          "Male",
          "Male",
          "Male",
          "Female",
          "Female",
          "Female",
          "Male",
          "Male",
          "Male",
          "Female",
          "Female",
          "Female",
          "Female",
          "Male",
          "Male",
          "Female",
          "Male",
          "Male",
          "Female",
          "Female",
          "Female",
          "Male",
          "Male",
          "Male",
          "Female",
          "Male",
          "Male",
          "Male",
          "Female",
          "Male",
          "Female",
          "Female",
          "Female",
          "Female",
          "Male",
          "Female",
          "Female",
          "Male",
          "Female",
          "Female",
          "Female",
          "Female",
          "Female",
          "Male",
          "Female",
          "Female",
          "Female",
          "Female",
          "Female",
          "Male",
          "Female",
          "Male",
          "Male",
          "Female",
          "Female",
          "Female",
          "Female",
          "Male",
          "Male",
          "Female",
          "Male",
          "Female",
          "Male",
          "Female",
          "Female",
          "Female",
          "Male",
          "Female",
          "Male",
          "Male",
          "Male",
          "Male",
          "Male",
          "Male",
          "Male",
          "Male",
          "Female",
          "Male",
          "Male",
          "Female",
          "Male",
          "Female",
          "Male",
          "Female",
          "Male",
          "Male",
          "Male",
          "Male",
          "Female",
          "Female",
          "Male",
          "Female",
          "Male",
          "Female",
          "Female",
          "Male",
          "Female",
          "Male",
          "Female",
          "Female",
          "Female",
          "Female",
          "Female",
          "Female",
          "Female",
          "Female",
          "Male",
          "Female",
          "Female",
          "Female",
          "Male",
          "Male",
          "Female",
          "Female",
          "Male",
          "Male",
          "Female",
          "Male",
          "Male",
          "Female",
          "Male",
          "Female",
          "Male",
          "Female",
          "Female",
          "Female",
          "Male",
          "Female",
          "Male",
          "Male",
          "Male",
          "Female",
          "Female",
          "Male",
          "Male",
          "Female",
          "Female",
          "Female",
          "Female",
          "Female",
          "Male",
          "Female",
          "Female",
          "Female",
          "Male",
          "Female",
          "Male",
          "Male",
          "Male",
          "Female",
          "Female",
          "Female",
          "Female",
          "Female",
          "Male",
          "Female",
          "Female",
          "Female",
          "Female",
          "Male",
          "Female",
          "Male",
          "Male",
          "Male",
          "Female",
          "Male",
          "Male",
          "Male",
          "Female",
          "Female",
          "Female",
          "Female",
          "Female",
          "Male",
          "Female",
          "Male",
          "Female",
          "Female",
          "Female",
          "Male",
          "Female",
          "Male",
          "Male",
          "Male",
          "Male",
          "Female",
          "Female",
          "Female",
          "Female",
          "Female",
          "Female",
          "Female",
          "Female",
          "Female",
          "Male",
          "Female",
          "Female",
          "Female",
          "Female",
          "Female",
          "Male",
          "Female",
          "Female",
          "Female",
          "Male",
          "Female",
          "Male",
          "Female",
          "Male",
          "Male",
          "Male",
          "Female",
          "Male",
          "Female",
          "Female",
          "Female",
          "Female",
          "Male",
          "Male",
          "Female",
          "Female",
          "Female",
          "Female",
          "Female",
          "Female",
          "Male",
          "Male",
          "Male",
          "Male",
          "Male",
          "Male",
          "Male",
          "Female",
          "Male",
          "Female",
          "Male",
          "Male",
          "Female",
          "Male",
          "Female",
          "Male",
          "Male",
          "Male",
          "Female",
          "Female",
          "Male",
          "Male",
          "Female",
          "Male",
          "Male",
          "Male",
          "Female",
          "Male",
          "Female",
          "Male",
          "Female",
          "Male",
          "Male",
          "Female",
          "Male",
          "Female",
          "Female",
          "Female",
          "Male",
          "Female",
          "Male",
          "Female",
          "Female",
          "Female",
          "Female",
          "Male",
          "Male",
          "Male",
          "Male",
          "Male",
          "Male",
          "Male",
          "Male",
          "Male",
          "Male",
          "Male",
          "Female",
          "Female",
          "Male",
          "Female",
          "Female",
          "Female",
          "Male",
          "Male",
          "Male",
          "Male",
          "Female",
          "Female",
          "Male",
          "Male",
          "Male",
          "Male",
          "Female",
          "Male",
          "Female",
          "Female",
          "Female",
          "Female",
          "Male",
          "Female",
          "Male",
          "Male",
          "Male",
          "Female",
          "Female",
          "Male",
          "Female",
          "Male",
          "Female",
          "Female",
          "Female",
          "Female",
          "Female",
          "Female",
          "Female",
          "Female",
          "Female",
          "Male",
          "Female",
          "Female",
          "Female",
          "Female",
          "Female",
          "Female",
          "Male",
          "Male",
          "Male",
          "Male",
          "Male",
          "Male",
          "Male",
          "Male",
          "Female",
          "Female",
          "Male",
          "Male",
          "Female",
          "Female",
          "Female",
          "Female",
          "Male",
          "Male",
          "Female",
          "Female",
          "Female",
          "Male",
          "Male",
          "Female",
          "Female",
          "Male",
          "Female",
          "Female",
          "Male",
          "Female",
          "Male",
          "Male",
          "Female",
          "Male",
          "Male",
          "Female",
          "Female",
          "Female",
          "Male",
          "Male",
          "Male",
          "Male",
          "Female",
          "Male",
          "Male",
          "Female",
          "Female",
          "Female",
          "Male",
          "Female",
          "Male",
          "Male",
          "Male",
          "Male",
          "Male",
          "Male",
          "Male",
          "Female",
          "Male",
          "Female",
          "Male",
          "Female",
          "Male",
          "Female",
          "Female",
          "Male",
          "Female",
          "Male",
          "Male",
          "Female",
          "Female",
          "Female",
          "Female",
          "Female",
          "Female",
          "Male",
          "Female",
          "Male",
          "Female",
          "Male",
          "Male",
          "Female",
          "Female",
          "Male",
          "Male",
          "Male",
          "Female",
          "Female",
          "Male",
          "Male",
          "Female",
          "Male",
          "Male",
          "Female",
          "Male",
          "Female",
          "Male",
          "Female",
          "Male",
          "Female",
          "Male",
          "Female",
          "Female",
          "Male",
          "Male",
          "Female",
          "Female",
          "Female",
          "Male",
          "Male",
          "Female",
          "Male",
          "Female",
          "Male",
          "Female",
          "Female",
          "Male",
          "Female",
          "Female",
          "Male",
          "Female",
          "Male",
          "Male",
          "Female",
          "Male",
          "Male",
          "Male",
          "Female",
          "Male",
          "Female",
          "Female",
          "Female",
          "Female",
          "Female",
          "Male",
          "Female",
          "Female",
          "Male",
          "Female",
          "Female",
          "Male",
          "Male",
          "Female",
          "Female",
          "Female",
          "Female",
          "Female",
          "Male",
          "Male",
          "Male",
          "Female",
          "Male",
          "Male",
          "Female",
          "Male",
          "Male",
          "Male",
          "Male",
          "Male",
          "Male",
          "Male",
          "Female",
          "Female",
          "Male",
          "Male",
          "Female",
          "Male",
          "Female",
          "Female",
          "Female",
          "Male",
          "Male",
          "Female",
          "Male",
          "Male",
          "Female",
          "Female",
          "Female",
          "Male",
          "Female",
          "Female",
          "Male",
          "Female",
          "Female",
          "Male",
          "Female",
          "Female",
          "Female",
          "Male",
          "Male",
          "Male",
          "Male",
          "Female",
          "Female",
          "Female",
          "Female",
          "Female",
          "Male",
          "Male",
          "Male",
          "Female",
          "Female",
          "Male",
          "Male",
          "Female",
          "Male",
          "Male",
          "Male",
          "Female",
          "Female",
          "Female",
          "Female",
          "Female",
          "Male",
          "Female",
          "Female",
          "Male",
          "Male",
          "Female",
          "Female",
          "Female",
          "Male",
          "Female",
          "Male",
          "Male",
          "Male",
          "Female",
          "Female",
          "Male",
          "Male",
          "Male",
          "Male",
          "Female",
          "Female",
          "Male",
          "Female",
          "Male",
          "Male",
          "Male",
          "Male",
          "Male",
          "Male",
          "Male",
          "Male",
          "Female",
          "Male",
          "Male",
          "Male",
          "Female",
          "Male",
          "Female",
          "Female",
          "Female",
          "Male",
          "Male",
          "Female",
          "Male",
          "Female",
          "Male",
          "Female",
          "Female",
          "Female",
          "Male",
          "Male",
          "Male",
          "Male",
          "Female",
          "Male",
          "Male",
          "Male",
          "Male",
          "Female",
          "Female",
          "Male",
          "Male",
          "Male",
          "Female",
          "Male",
          "Male",
          "Female",
          "Male",
          "Female",
          "Female",
          "Male",
          "Male",
          "Male",
          "Male",
          "Female",
          "Male",
          "Female",
          "Female",
          "Male",
          "Female",
          "Male",
          "Male",
          "Male",
          "Female",
          "Male",
          "Female",
          "Male",
          "Male",
          "Male",
          "Male",
          "Female",
          "Male",
          "Female",
          "Male",
          "Female",
          "Male",
          "Female",
          "Female",
          "Female",
          "Female",
          "Male",
          "Male",
          "Male",
          "Male",
          "Male",
          "Male",
          "Female",
          "Female",
          "Male",
          "Female",
          "Male",
          "Female",
          "Female",
          "Male",
          "Male",
          "Male",
          "Male",
          "Female",
          "Female",
          "Female",
          "Male",
          "Female",
          "Male",
          "Male",
          "Female",
          "Male",
          "Male",
          "Female",
          "Male",
          "Male",
          "Female",
          "Male",
          "Female",
          "Female",
          "Female",
          "Male",
          "Female",
          "Female",
          "Female",
          "Female",
          "Male",
          "Male",
          "Female",
          "Male",
          "Female",
          "Male",
          "Female",
          "Male",
          "Male",
          "Female",
          "Male",
          "Female",
          "Male",
          "Male",
          "Female",
          "Male",
          "Female",
          "Male",
          "Female",
          "Male",
          "Female",
          "Male",
          "Male",
          "Male",
          "Female",
          "Female",
          "Female",
          "Female",
          "Female",
          "Male",
          "Female",
          "Female",
          "Female",
          "Male",
          "Male",
          "Male",
          "Female",
          "Female",
          "Female",
          "Male",
          "Female",
          "Female",
          "Male",
          "Female",
          "Male",
          "Male",
          "Female",
          "Female",
          "Male",
          "Female",
          "Male",
          "Female",
          "Male",
          "Female",
          "Male",
          "Male",
          "Female",
          "Male",
          "Female",
          "Male",
          "Female",
          "Male",
          "Male",
          "Male",
          "Male",
          "Male",
          "Female",
          "Male",
          "Male",
          "Male",
          "Male",
          "Male",
          "Male",
          "Female",
          "Female",
          "Male",
          "Male",
          "Female",
          "Male",
          "Female",
          "Female",
          "Male",
          "Male",
          "Female",
          "Female",
          "Female",
          "Male",
          "Male",
          "Male",
          "Male",
          "Female",
          "Male",
          "Female",
          "Female",
          "Female",
          "Female",
          "Male",
          "Male",
          "Female",
          "Female",
          "Female",
          "Male",
          "Female",
          "Female",
          "Male",
          "Female",
          "Female",
          "Male",
          "Male",
          "Female",
          "Male",
          "Female",
          "Male",
          "Male",
          "Female",
          "Male",
          "Male",
          "Male",
          "Female",
          "Male",
          "Female",
          "Male",
          "Female",
          "Female",
          "Female",
          "Female",
          "Female",
          "Female",
          "Female",
          "Male",
          "Female",
          "Female",
          "Female",
          "Female",
          "Female",
          "Male",
          "Male",
          "Female",
          "Male",
          "Female",
          "Male",
          "Male",
          "Female",
          "Female",
          "Male",
          "Male",
          "Male",
          "Male",
          "Female",
          "Female",
          "Female",
          "Male",
          "Male",
          "Male",
          "Male",
          "Male",
          "Female",
          "Female",
          "Female",
          "Male",
          "Female",
          "Female",
          "Male",
          "Male",
          "Female",
          "Female",
          "Male",
          "Male",
          "Male",
          "Female",
          "Male",
          "Male",
          "Male",
          "Male",
          "Male",
          "Female",
          "Female",
          "Female",
          "Male",
          "Male",
          "Female",
          "Male",
          "Female",
          "Female",
          "Female",
          "Male",
          "Male",
          "Male",
          "Male",
          "Female",
          "Male",
          "Female",
          "Male",
          "Male",
          "Male",
          "Male",
          "Female",
          "Male",
          "Female",
          "Female",
          "Female",
          "Female",
          "Female",
          "Female",
          "Female",
          "Female",
          "Male",
          "Male",
          "Male",
          "Male",
          "Female",
          "Male",
          "Female",
          "Male",
          "Male",
          "Male",
          "Male",
          "Male",
          "Male",
          "Female",
          "Male",
          "Male",
          "Female",
          "Male",
          "Female",
          "Female",
          "Male",
          "Male",
          "Female",
          "Male",
          "Male",
          "Female",
          "Male",
          "Male",
          "Female",
          "Male",
          "Female",
          "Female",
          "Female",
          "Male",
          "Male",
          "Male",
          "Female",
          "Male",
          "Male",
          "Female",
          "Female",
          "Female",
          "Female",
          "Male",
          "Male",
          "Male",
          "Female",
          "Female",
          "Male",
          "Female",
          "Male",
          "Female",
          "Male",
          "Male",
          "Female",
          "Male",
          "Female",
          "Male",
          "Female",
          "Female",
          "Female",
          "Male",
          "Male",
          "Female",
          "Female",
          "Female",
          "Male",
          "Male",
          "Male",
          "Female",
          "Female",
          "Male",
          "Male",
          "Female",
          "Female",
          "Male",
          "Male",
          "Male",
          "Female",
          "Male",
          "Female",
          "Female",
          "Female",
          "Male",
          "Male",
          "Female",
          "Male",
          "Female",
          "Male",
          "Male",
          "Male",
          "Female",
          "Male",
          "Female",
          "Female",
          "Female",
          "Male",
          "Female",
          "Male",
          "Male",
          "Female",
          "Male",
          "Female",
          "Male",
          "Male",
          "Male",
          "Male",
          "Male",
          "Male",
          "Male",
          "Female",
          "Female",
          "Male",
          "Female",
          "Female",
          "Male",
          "Female",
          "Female",
          "Female",
          "Female",
          "Male",
          "Male",
          "Male",
          "Male",
          "Female",
          "Female",
          "Female",
          "Male",
          "Female",
          "Male",
          "Male",
          "Male",
          "Male",
          "Male",
          "Male",
          "Male",
          "Female",
          "Male",
          "Female",
          "Female",
          "Female",
          "Male",
          "Female",
          "Female",
          "Male",
          "Female",
          "Male",
          "Female",
          "Male",
          "Male",
          "Male",
          "Female",
          "Female",
          "Female",
          "Female",
          "Female",
          "Male",
          "Female",
          "Male",
          "Female",
          "Female",
          "Female",
          "Female",
          "Male",
          "Male",
          "Female",
          "Female",
          "Female",
          "Female",
          "Female",
          "Male",
          "Male",
          "Female",
          "Female",
          "Female",
          "Female",
          "Male",
          "Male",
          "Female",
          "Female",
          "Female",
          "Male",
          "Female",
          "Male",
          "Male",
          "Female",
          "Female",
          "Female",
          "Female",
          "Female",
          "Female",
          "Female",
          "Female",
          "Male",
          "Female",
          "Female",
          "Male",
          "Female",
          "Male",
          "Male",
          "Male",
          "Male",
          "Male",
          "Male",
          "Male",
          "Female",
          "Male",
          "Male",
          "Male",
          "Female",
          "Male",
          "Female",
          "Male",
          "Male",
          "Male",
          "Female",
          "Male",
          "Male",
          "Female",
          "Male",
          "Female",
          "Male",
          "Male",
          "Female",
          "Female",
          "Female",
          "Female",
          "Male",
          "Female",
          "Female",
          "Female",
          "Female",
          "Female",
          "Male",
          "Female",
          "Male",
          "Male",
          "Female",
          "Female",
          "Male",
          "Male",
          "Female",
          "Female",
          "Male",
          "Female",
          "Female",
          "Male",
          "Female",
          "Male",
          "Male",
          "Male",
          "Male",
          "Female",
          "Female",
          "Male",
          "Female",
          "Female",
          "Female",
          "Male",
          "Female",
          "Female",
          "Female",
          "Female",
          "Male",
          "Male",
          "Male",
          "Male",
          "Female",
          "Female",
          "Male",
          "Male",
          "Male",
          "Female",
          "Female",
          "Female",
          "Male",
          "Male",
          "Female",
          "Female",
          "Female",
          "Female",
          "Male",
          "Female",
          "Female",
          "Male",
          "Female",
          "Female",
          "Male",
          "Female",
          "Male",
          "Female",
          "Male",
          "Female",
          "Female",
          "Female",
          "Female",
          "Male",
          "Male",
          "Female",
          "Female",
          "Female",
          "Female",
          "Female",
          "Male",
          "Male",
          "Male",
          "Male",
          "Female",
          "Male",
          "Male",
          "Female",
          "Male",
          "Male",
          "Male",
          "Female",
          "Male",
          "Male",
          "Male",
          "Male",
          "Male",
          "Female",
          "Female",
          "Male",
          "Female",
          "Female",
          "Female",
          "Male",
          "Male",
          "Male",
          "Female",
          "Male",
          "Female",
          "Male",
          "Male",
          "Male",
          "Male",
          "Female",
          "Male",
          "Female",
          "Female",
          "Female",
          "Male",
          "Male",
          "Female",
          "Male",
          "Female",
          "Male",
          "Female",
          "Female",
          "Female",
          "Female",
          "Male",
          "Female",
          "Female",
          "Male",
          "Male",
          "Male",
          "Female",
          "Female",
          "Male",
          "Female",
          "Female",
          "Female",
          "Male",
          "Male",
          "Male",
          "Female",
          "Female",
          "Female",
          "Female",
          "Male",
          "Male",
          "Female",
          "Female",
          "Male",
          "Female",
          "Female",
          "Female",
          "Male",
          "Female",
          "Female",
          "Female",
          "Male",
          "Female",
          "Female",
          "Male",
          "Female",
          "Female",
          "Female",
          "Male",
          "Female",
          "Female",
          "Female",
          "Female",
          "Male",
          "Male",
          "Male",
          "Female",
          "Male",
          "Female",
          "Female",
          "Male",
          "Male",
          "Male",
          "Female",
          "Female",
          "Female",
          "Female",
          "Male",
          "Female",
          "Female",
          "Female",
          "Female",
          "Female",
          "Male",
          "Female",
          "Female",
          "Female",
          "Male",
          "Female",
          "Male",
          "Male",
          "Female",
          "Female",
          "Male",
          "Female",
          "Male",
          "Female",
          "Male",
          "Male",
          "Male",
          "Male",
          "Female",
          "Male",
          "Female",
          "Male",
          "Male",
          "Female",
          "Female",
          "Female",
          "Male",
          "Male",
          "Male",
          "Male",
          "Male",
          "Female",
          "Male",
          "Female",
          "Male",
          "Female",
          "Male",
          "Male",
          "Female",
          "Male",
          "Male",
          "Male",
          "Male",
          "Female",
          "Male",
          "Female",
          "Male",
          "Female",
          "Female",
          "Male",
          "Female",
          "Male",
          "Male",
          "Female",
          "Female",
          "Male",
          "Male",
          "Male",
          "Male",
          "Female",
          "Female",
          "Female",
          "Female",
          "Male",
          "Male",
          "Female",
          "Female",
          "Male",
          "Female",
          "Male",
          "Female",
          "Female",
          "Male",
          "Female",
          "Female",
          "Female",
          "Female",
          "Female",
          "Male",
          "Male",
          "Female",
          "Female",
          "Female",
          "Female",
          "Male",
          "Male",
          "Male",
          "Male",
          "Female",
          "Male",
          "Male",
          "Female"
         ],
         "legendgroup": "",
         "name": "",
         "showlegend": true,
         "type": "pie"
        }
       ],
       "layout": {
        "legend": {
         "tracegroupgap": 0
        },
        "template": {
         "data": {
          "bar": [
           {
            "error_x": {
             "color": "#2a3f5f"
            },
            "error_y": {
             "color": "#2a3f5f"
            },
            "marker": {
             "line": {
              "color": "#E5ECF6",
              "width": 0.5
             },
             "pattern": {
              "fillmode": "overlay",
              "size": 10,
              "solidity": 0.2
             }
            },
            "type": "bar"
           }
          ],
          "barpolar": [
           {
            "marker": {
             "line": {
              "color": "#E5ECF6",
              "width": 0.5
             },
             "pattern": {
              "fillmode": "overlay",
              "size": 10,
              "solidity": 0.2
             }
            },
            "type": "barpolar"
           }
          ],
          "carpet": [
           {
            "aaxis": {
             "endlinecolor": "#2a3f5f",
             "gridcolor": "white",
             "linecolor": "white",
             "minorgridcolor": "white",
             "startlinecolor": "#2a3f5f"
            },
            "baxis": {
             "endlinecolor": "#2a3f5f",
             "gridcolor": "white",
             "linecolor": "white",
             "minorgridcolor": "white",
             "startlinecolor": "#2a3f5f"
            },
            "type": "carpet"
           }
          ],
          "choropleth": [
           {
            "colorbar": {
             "outlinewidth": 0,
             "ticks": ""
            },
            "type": "choropleth"
           }
          ],
          "contour": [
           {
            "colorbar": {
             "outlinewidth": 0,
             "ticks": ""
            },
            "colorscale": [
             [
              0,
              "#0d0887"
             ],
             [
              0.1111111111111111,
              "#46039f"
             ],
             [
              0.2222222222222222,
              "#7201a8"
             ],
             [
              0.3333333333333333,
              "#9c179e"
             ],
             [
              0.4444444444444444,
              "#bd3786"
             ],
             [
              0.5555555555555556,
              "#d8576b"
             ],
             [
              0.6666666666666666,
              "#ed7953"
             ],
             [
              0.7777777777777778,
              "#fb9f3a"
             ],
             [
              0.8888888888888888,
              "#fdca26"
             ],
             [
              1,
              "#f0f921"
             ]
            ],
            "type": "contour"
           }
          ],
          "contourcarpet": [
           {
            "colorbar": {
             "outlinewidth": 0,
             "ticks": ""
            },
            "type": "contourcarpet"
           }
          ],
          "heatmap": [
           {
            "colorbar": {
             "outlinewidth": 0,
             "ticks": ""
            },
            "colorscale": [
             [
              0,
              "#0d0887"
             ],
             [
              0.1111111111111111,
              "#46039f"
             ],
             [
              0.2222222222222222,
              "#7201a8"
             ],
             [
              0.3333333333333333,
              "#9c179e"
             ],
             [
              0.4444444444444444,
              "#bd3786"
             ],
             [
              0.5555555555555556,
              "#d8576b"
             ],
             [
              0.6666666666666666,
              "#ed7953"
             ],
             [
              0.7777777777777778,
              "#fb9f3a"
             ],
             [
              0.8888888888888888,
              "#fdca26"
             ],
             [
              1,
              "#f0f921"
             ]
            ],
            "type": "heatmap"
           }
          ],
          "histogram": [
           {
            "marker": {
             "pattern": {
              "fillmode": "overlay",
              "size": 10,
              "solidity": 0.2
             }
            },
            "type": "histogram"
           }
          ],
          "histogram2d": [
           {
            "colorbar": {
             "outlinewidth": 0,
             "ticks": ""
            },
            "colorscale": [
             [
              0,
              "#0d0887"
             ],
             [
              0.1111111111111111,
              "#46039f"
             ],
             [
              0.2222222222222222,
              "#7201a8"
             ],
             [
              0.3333333333333333,
              "#9c179e"
             ],
             [
              0.4444444444444444,
              "#bd3786"
             ],
             [
              0.5555555555555556,
              "#d8576b"
             ],
             [
              0.6666666666666666,
              "#ed7953"
             ],
             [
              0.7777777777777778,
              "#fb9f3a"
             ],
             [
              0.8888888888888888,
              "#fdca26"
             ],
             [
              1,
              "#f0f921"
             ]
            ],
            "type": "histogram2d"
           }
          ],
          "histogram2dcontour": [
           {
            "colorbar": {
             "outlinewidth": 0,
             "ticks": ""
            },
            "colorscale": [
             [
              0,
              "#0d0887"
             ],
             [
              0.1111111111111111,
              "#46039f"
             ],
             [
              0.2222222222222222,
              "#7201a8"
             ],
             [
              0.3333333333333333,
              "#9c179e"
             ],
             [
              0.4444444444444444,
              "#bd3786"
             ],
             [
              0.5555555555555556,
              "#d8576b"
             ],
             [
              0.6666666666666666,
              "#ed7953"
             ],
             [
              0.7777777777777778,
              "#fb9f3a"
             ],
             [
              0.8888888888888888,
              "#fdca26"
             ],
             [
              1,
              "#f0f921"
             ]
            ],
            "type": "histogram2dcontour"
           }
          ],
          "mesh3d": [
           {
            "colorbar": {
             "outlinewidth": 0,
             "ticks": ""
            },
            "type": "mesh3d"
           }
          ],
          "parcoords": [
           {
            "line": {
             "colorbar": {
              "outlinewidth": 0,
              "ticks": ""
             }
            },
            "type": "parcoords"
           }
          ],
          "pie": [
           {
            "automargin": true,
            "type": "pie"
           }
          ],
          "scatter": [
           {
            "fillpattern": {
             "fillmode": "overlay",
             "size": 10,
             "solidity": 0.2
            },
            "type": "scatter"
           }
          ],
          "scatter3d": [
           {
            "line": {
             "colorbar": {
              "outlinewidth": 0,
              "ticks": ""
             }
            },
            "marker": {
             "colorbar": {
              "outlinewidth": 0,
              "ticks": ""
             }
            },
            "type": "scatter3d"
           }
          ],
          "scattercarpet": [
           {
            "marker": {
             "colorbar": {
              "outlinewidth": 0,
              "ticks": ""
             }
            },
            "type": "scattercarpet"
           }
          ],
          "scattergeo": [
           {
            "marker": {
             "colorbar": {
              "outlinewidth": 0,
              "ticks": ""
             }
            },
            "type": "scattergeo"
           }
          ],
          "scattergl": [
           {
            "marker": {
             "colorbar": {
              "outlinewidth": 0,
              "ticks": ""
             }
            },
            "type": "scattergl"
           }
          ],
          "scattermap": [
           {
            "marker": {
             "colorbar": {
              "outlinewidth": 0,
              "ticks": ""
             }
            },
            "type": "scattermap"
           }
          ],
          "scattermapbox": [
           {
            "marker": {
             "colorbar": {
              "outlinewidth": 0,
              "ticks": ""
             }
            },
            "type": "scattermapbox"
           }
          ],
          "scatterpolar": [
           {
            "marker": {
             "colorbar": {
              "outlinewidth": 0,
              "ticks": ""
             }
            },
            "type": "scatterpolar"
           }
          ],
          "scatterpolargl": [
           {
            "marker": {
             "colorbar": {
              "outlinewidth": 0,
              "ticks": ""
             }
            },
            "type": "scatterpolargl"
           }
          ],
          "scatterternary": [
           {
            "marker": {
             "colorbar": {
              "outlinewidth": 0,
              "ticks": ""
             }
            },
            "type": "scatterternary"
           }
          ],
          "surface": [
           {
            "colorbar": {
             "outlinewidth": 0,
             "ticks": ""
            },
            "colorscale": [
             [
              0,
              "#0d0887"
             ],
             [
              0.1111111111111111,
              "#46039f"
             ],
             [
              0.2222222222222222,
              "#7201a8"
             ],
             [
              0.3333333333333333,
              "#9c179e"
             ],
             [
              0.4444444444444444,
              "#bd3786"
             ],
             [
              0.5555555555555556,
              "#d8576b"
             ],
             [
              0.6666666666666666,
              "#ed7953"
             ],
             [
              0.7777777777777778,
              "#fb9f3a"
             ],
             [
              0.8888888888888888,
              "#fdca26"
             ],
             [
              1,
              "#f0f921"
             ]
            ],
            "type": "surface"
           }
          ],
          "table": [
           {
            "cells": {
             "fill": {
              "color": "#EBF0F8"
             },
             "line": {
              "color": "white"
             }
            },
            "header": {
             "fill": {
              "color": "#C8D4E3"
             },
             "line": {
              "color": "white"
             }
            },
            "type": "table"
           }
          ]
         },
         "layout": {
          "annotationdefaults": {
           "arrowcolor": "#2a3f5f",
           "arrowhead": 0,
           "arrowwidth": 1
          },
          "autotypenumbers": "strict",
          "coloraxis": {
           "colorbar": {
            "outlinewidth": 0,
            "ticks": ""
           }
          },
          "colorscale": {
           "diverging": [
            [
             0,
             "#8e0152"
            ],
            [
             0.1,
             "#c51b7d"
            ],
            [
             0.2,
             "#de77ae"
            ],
            [
             0.3,
             "#f1b6da"
            ],
            [
             0.4,
             "#fde0ef"
            ],
            [
             0.5,
             "#f7f7f7"
            ],
            [
             0.6,
             "#e6f5d0"
            ],
            [
             0.7,
             "#b8e186"
            ],
            [
             0.8,
             "#7fbc41"
            ],
            [
             0.9,
             "#4d9221"
            ],
            [
             1,
             "#276419"
            ]
           ],
           "sequential": [
            [
             0,
             "#0d0887"
            ],
            [
             0.1111111111111111,
             "#46039f"
            ],
            [
             0.2222222222222222,
             "#7201a8"
            ],
            [
             0.3333333333333333,
             "#9c179e"
            ],
            [
             0.4444444444444444,
             "#bd3786"
            ],
            [
             0.5555555555555556,
             "#d8576b"
            ],
            [
             0.6666666666666666,
             "#ed7953"
            ],
            [
             0.7777777777777778,
             "#fb9f3a"
            ],
            [
             0.8888888888888888,
             "#fdca26"
            ],
            [
             1,
             "#f0f921"
            ]
           ],
           "sequentialminus": [
            [
             0,
             "#0d0887"
            ],
            [
             0.1111111111111111,
             "#46039f"
            ],
            [
             0.2222222222222222,
             "#7201a8"
            ],
            [
             0.3333333333333333,
             "#9c179e"
            ],
            [
             0.4444444444444444,
             "#bd3786"
            ],
            [
             0.5555555555555556,
             "#d8576b"
            ],
            [
             0.6666666666666666,
             "#ed7953"
            ],
            [
             0.7777777777777778,
             "#fb9f3a"
            ],
            [
             0.8888888888888888,
             "#fdca26"
            ],
            [
             1,
             "#f0f921"
            ]
           ]
          },
          "colorway": [
           "#636efa",
           "#EF553B",
           "#00cc96",
           "#ab63fa",
           "#FFA15A",
           "#19d3f3",
           "#FF6692",
           "#B6E880",
           "#FF97FF",
           "#FECB52"
          ],
          "font": {
           "color": "#2a3f5f"
          },
          "geo": {
           "bgcolor": "white",
           "lakecolor": "white",
           "landcolor": "#E5ECF6",
           "showlakes": true,
           "showland": true,
           "subunitcolor": "white"
          },
          "hoverlabel": {
           "align": "left"
          },
          "hovermode": "closest",
          "mapbox": {
           "style": "light"
          },
          "paper_bgcolor": "white",
          "plot_bgcolor": "#E5ECF6",
          "polar": {
           "angularaxis": {
            "gridcolor": "white",
            "linecolor": "white",
            "ticks": ""
           },
           "bgcolor": "#E5ECF6",
           "radialaxis": {
            "gridcolor": "white",
            "linecolor": "white",
            "ticks": ""
           }
          },
          "scene": {
           "xaxis": {
            "backgroundcolor": "#E5ECF6",
            "gridcolor": "white",
            "gridwidth": 2,
            "linecolor": "white",
            "showbackground": true,
            "ticks": "",
            "zerolinecolor": "white"
           },
           "yaxis": {
            "backgroundcolor": "#E5ECF6",
            "gridcolor": "white",
            "gridwidth": 2,
            "linecolor": "white",
            "showbackground": true,
            "ticks": "",
            "zerolinecolor": "white"
           },
           "zaxis": {
            "backgroundcolor": "#E5ECF6",
            "gridcolor": "white",
            "gridwidth": 2,
            "linecolor": "white",
            "showbackground": true,
            "ticks": "",
            "zerolinecolor": "white"
           }
          },
          "shapedefaults": {
           "line": {
            "color": "#2a3f5f"
           }
          },
          "ternary": {
           "aaxis": {
            "gridcolor": "white",
            "linecolor": "white",
            "ticks": ""
           },
           "baxis": {
            "gridcolor": "white",
            "linecolor": "white",
            "ticks": ""
           },
           "bgcolor": "#E5ECF6",
           "caxis": {
            "gridcolor": "white",
            "linecolor": "white",
            "ticks": ""
           }
          },
          "title": {
           "x": 0.05
          },
          "xaxis": {
           "automargin": true,
           "gridcolor": "white",
           "linecolor": "white",
           "ticks": "",
           "title": {
            "standoff": 15
           },
           "zerolinecolor": "white",
           "zerolinewidth": 2
          },
          "yaxis": {
           "automargin": true,
           "gridcolor": "white",
           "linecolor": "white",
           "ticks": "",
           "title": {
            "standoff": 15
           },
           "zerolinecolor": "white",
           "zerolinewidth": 2
          }
         }
        },
        "title": {
         "text": "client Gender Distribution"
        }
       }
      }
     },
     "metadata": {},
     "output_type": "display_data"
    }
   ],
   "source": [
    "fig2 = px.pie(client_df,names='gender',title='client Gender Distribution')\n",
    "fig2.show()"
   ]
  },
  {
   "cell_type": "code",
   "execution_count": 18,
   "id": "0a31f48c",
   "metadata": {},
   "outputs": [],
   "source": [
    "# most clients are concentrated in the age groups between 35-44, as well as between 50-54.\n",
    "# Additionally, the proportion of female clients is higher than that of male clients."
   ]
  },
  {
   "cell_type": "markdown",
   "id": "df753b0e",
   "metadata": {},
   "source": [
    "## Agent Datset"
   ]
  },
  {
   "cell_type": "markdown",
   "id": "1ad1ee5b",
   "metadata": {},
   "source": [
    "### Load & Preview Data"
   ]
  },
  {
   "cell_type": "code",
   "execution_count": null,
   "id": "3ce5c2cf",
   "metadata": {},
   "outputs": [
    {
     "data": {
      "text/html": [
       "<div>\n",
       "<style scoped>\n",
       "    .dataframe tbody tr th:only-of-type {\n",
       "        vertical-align: middle;\n",
       "    }\n",
       "\n",
       "    .dataframe tbody tr th {\n",
       "        vertical-align: top;\n",
       "    }\n",
       "\n",
       "    .dataframe thead th {\n",
       "        text-align: right;\n",
       "    }\n",
       "</style>\n",
       "<table border=\"1\" class=\"dataframe\">\n",
       "  <thead>\n",
       "    <tr style=\"text-align: right;\">\n",
       "      <th></th>\n",
       "      <th>agent_id</th>\n",
       "      <th>name</th>\n",
       "      <th>gender</th>\n",
       "      <th>age</th>\n",
       "      <th>email</th>\n",
       "      <th>phone</th>\n",
       "      <th>hire_date</th>\n",
       "      <th>agent_type</th>\n",
       "    </tr>\n",
       "  </thead>\n",
       "  <tbody>\n",
       "    <tr>\n",
       "      <th>177</th>\n",
       "      <td>175</td>\n",
       "      <td>Thomas Calderon</td>\n",
       "      <td>Female</td>\n",
       "      <td>35</td>\n",
       "      <td>thomascalderon@gmail.com</td>\n",
       "      <td>314-600-0968x8290</td>\n",
       "      <td>7/2/2020</td>\n",
       "      <td>Sales Agent</td>\n",
       "    </tr>\n",
       "    <tr>\n",
       "      <th>220</th>\n",
       "      <td>218</td>\n",
       "      <td>Dylan Moore</td>\n",
       "      <td>Female</td>\n",
       "      <td>63</td>\n",
       "      <td>dylanmoore@gmail.com</td>\n",
       "      <td>(911)595-6635x342</td>\n",
       "      <td>7/20/2023</td>\n",
       "      <td>Sales Agent</td>\n",
       "    </tr>\n",
       "    <tr>\n",
       "      <th>70</th>\n",
       "      <td>68</td>\n",
       "      <td>Alicia Walsh</td>\n",
       "      <td>Male</td>\n",
       "      <td>44</td>\n",
       "      <td>aliciawalsh@hotmail.com</td>\n",
       "      <td>-5581</td>\n",
       "      <td>2/7/2024</td>\n",
       "      <td>Property Manager</td>\n",
       "    </tr>\n",
       "    <tr>\n",
       "      <th>114</th>\n",
       "      <td>112</td>\n",
       "      <td>Dr. Jennifer Meyer MD</td>\n",
       "      <td>Female</td>\n",
       "      <td>47</td>\n",
       "      <td>drjennifermeyermd@gmail.com</td>\n",
       "      <td>639-944-2396x108</td>\n",
       "      <td>11/11/2023</td>\n",
       "      <td>Sales Agent</td>\n",
       "    </tr>\n",
       "    <tr>\n",
       "      <th>45</th>\n",
       "      <td>45</td>\n",
       "      <td>Jacob Ware</td>\n",
       "      <td>Female</td>\n",
       "      <td>32</td>\n",
       "      <td>jacobware@yahoo.com</td>\n",
       "      <td>(274)492-6197</td>\n",
       "      <td>12/31/2020</td>\n",
       "      <td>Leasing Agent</td>\n",
       "    </tr>\n",
       "    <tr>\n",
       "      <th>102</th>\n",
       "      <td>100</td>\n",
       "      <td>Christian Anderson</td>\n",
       "      <td>Female</td>\n",
       "      <td>55</td>\n",
       "      <td>christiananderson@hotmail.com</td>\n",
       "      <td>(674)747-3435x736</td>\n",
       "      <td>9/9/2024</td>\n",
       "      <td>Leasing Agent</td>\n",
       "    </tr>\n",
       "    <tr>\n",
       "      <th>244</th>\n",
       "      <td>242</td>\n",
       "      <td>Kelsey Andrade</td>\n",
       "      <td>Male</td>\n",
       "      <td>44</td>\n",
       "      <td>kelseyandrade@gmail.com</td>\n",
       "      <td>(577)393-4491x5344</td>\n",
       "      <td>7/1/2021</td>\n",
       "      <td>Sales Agent</td>\n",
       "    </tr>\n",
       "    <tr>\n",
       "      <th>168</th>\n",
       "      <td>166</td>\n",
       "      <td>Gregory Wright</td>\n",
       "      <td>Female</td>\n",
       "      <td>39</td>\n",
       "      <td>gregorywright@hotmail.com</td>\n",
       "      <td>+1-856-415-5046x30389</td>\n",
       "      <td>8/29/2022</td>\n",
       "      <td>Property Manager</td>\n",
       "    </tr>\n",
       "    <tr>\n",
       "      <th>161</th>\n",
       "      <td>159</td>\n",
       "      <td>Jeffrey Khan</td>\n",
       "      <td>Male</td>\n",
       "      <td>63</td>\n",
       "      <td>jeffreykhan@gmail.com</td>\n",
       "      <td>(641)438-7325x88505</td>\n",
       "      <td>6/8/2020</td>\n",
       "      <td>Leasing Agent</td>\n",
       "    </tr>\n",
       "    <tr>\n",
       "      <th>11</th>\n",
       "      <td>12</td>\n",
       "      <td>Mary Walker</td>\n",
       "      <td>Female</td>\n",
       "      <td>40</td>\n",
       "      <td>marywalker@yahoo.com</td>\n",
       "      <td>829.629.6197x37011</td>\n",
       "      <td>7/11/2020</td>\n",
       "      <td>Leasing Agent</td>\n",
       "    </tr>\n",
       "  </tbody>\n",
       "</table>\n",
       "</div>"
      ],
      "text/plain": [
       "     agent_id                   name  gender  age  \\\n",
       "177       175        Thomas Calderon  Female   35   \n",
       "220       218            Dylan Moore  Female   63   \n",
       "70         68           Alicia Walsh    Male   44   \n",
       "114       112  Dr. Jennifer Meyer MD  Female   47   \n",
       "45         45             Jacob Ware  Female   32   \n",
       "102       100     Christian Anderson  Female   55   \n",
       "244       242         Kelsey Andrade    Male   44   \n",
       "168       166         Gregory Wright  Female   39   \n",
       "161       159           Jeffrey Khan    Male   63   \n",
       "11         12            Mary Walker  Female   40   \n",
       "\n",
       "                             email                  phone   hire_date  \\\n",
       "177       thomascalderon@gmail.com      314-600-0968x8290    7/2/2020   \n",
       "220           dylanmoore@gmail.com      (911)595-6635x342   7/20/2023   \n",
       "70         aliciawalsh@hotmail.com                  -5581    2/7/2024   \n",
       "114    drjennifermeyermd@gmail.com       639-944-2396x108  11/11/2023   \n",
       "45             jacobware@yahoo.com          (274)492-6197  12/31/2020   \n",
       "102  christiananderson@hotmail.com      (674)747-3435x736    9/9/2024   \n",
       "244        kelseyandrade@gmail.com     (577)393-4491x5344    7/1/2021   \n",
       "168      gregorywright@hotmail.com  +1-856-415-5046x30389   8/29/2022   \n",
       "161          jeffreykhan@gmail.com    (641)438-7325x88505    6/8/2020   \n",
       "11            marywalker@yahoo.com     829.629.6197x37011   7/11/2020   \n",
       "\n",
       "           agent_type  \n",
       "177       Sales Agent  \n",
       "220       Sales Agent  \n",
       "70   Property Manager  \n",
       "114       Sales Agent  \n",
       "45      Leasing Agent  \n",
       "102     Leasing Agent  \n",
       "244       Sales Agent  \n",
       "168  Property Manager  \n",
       "161     Leasing Agent  \n",
       "11      Leasing Agent  "
      ]
     },
     "execution_count": 19,
     "metadata": {},
     "output_type": "execute_result"
    }
   ],
   "source": [
    "agent_df = pd.read_csv(r\"agents.csv\")\n",
    "agent_df.sample(10)"
   ]
  },
  {
   "cell_type": "code",
   "execution_count": 20,
   "id": "6a620657",
   "metadata": {},
   "outputs": [
    {
     "name": "stdout",
     "output_type": "stream",
     "text": [
      "<class 'pandas.core.frame.DataFrame'>\n",
      "RangeIndex: 253 entries, 0 to 252\n",
      "Data columns (total 8 columns):\n",
      " #   Column      Non-Null Count  Dtype \n",
      "---  ------      --------------  ----- \n",
      " 0   agent_id    253 non-null    int64 \n",
      " 1   name        253 non-null    object\n",
      " 2   gender      253 non-null    object\n",
      " 3   age         253 non-null    int64 \n",
      " 4   email       253 non-null    object\n",
      " 5   phone       253 non-null    object\n",
      " 6   hire_date   253 non-null    object\n",
      " 7   agent_type  253 non-null    object\n",
      "dtypes: int64(2), object(6)\n",
      "memory usage: 15.9+ KB\n"
     ]
    }
   ],
   "source": [
    "agent_df.info()"
   ]
  },
  {
   "cell_type": "code",
   "execution_count": 21,
   "id": "b79269fd",
   "metadata": {},
   "outputs": [
    {
     "data": {
      "text/plain": [
       "np.int64(3)"
      ]
     },
     "execution_count": 21,
     "metadata": {},
     "output_type": "execute_result"
    }
   ],
   "source": [
    "agent_df.duplicated().sum()"
   ]
  },
  {
   "cell_type": "code",
   "execution_count": 22,
   "id": "282d00a1",
   "metadata": {},
   "outputs": [
    {
     "name": "stdout",
     "output_type": "stream",
     "text": [
      "    agent_id            name gender  age                      email  \\\n",
      "30        13  Janice Johnson   Male   59    janicejohnson@gmail.com   \n",
      "55        35    Kevin Robles   Male   36    kevinrobles@hotmail.com   \n",
      "76        74  Maureen Nelson   Male   34  maureennelson@hotmail.com   \n",
      "\n",
      "                    phone  hire_date     agent_type  \n",
      "30      932.866.5342x5834  1/22/2024  Leasing Agent  \n",
      "55  +1-854-249-3009x17595  10/6/2021  Leasing Agent  \n",
      "76     419.262.9067x31571  4/14/2024    Sales Agent  \n"
     ]
    }
   ],
   "source": [
    "print(agent_df[agent_df.duplicated()])"
   ]
  },
  {
   "cell_type": "code",
   "execution_count": 23,
   "id": "1e3d46e3",
   "metadata": {},
   "outputs": [
    {
     "data": {
      "text/plain": [
       "\"\\nThere are duplicate records in agent dataset so i'll drop the dupicated record\\nand convert hire_date type to date\\n\""
      ]
     },
     "execution_count": 23,
     "metadata": {},
     "output_type": "execute_result"
    }
   ],
   "source": [
    "\"\"\"\n",
    "There are duplicate records in agent dataset so i'll drop the dupicated record\n",
    "and convert hire_date type to date\n",
    "\"\"\""
   ]
  },
  {
   "cell_type": "markdown",
   "id": "359e2c53",
   "metadata": {},
   "source": [
    "### Data Cleaning"
   ]
  },
  {
   "cell_type": "code",
   "execution_count": 24,
   "id": "3aa1f4e0",
   "metadata": {},
   "outputs": [],
   "source": [
    "agent_df.drop_duplicates(subset=['agent_id'], keep='first',inplace=True)"
   ]
  },
  {
   "cell_type": "code",
   "execution_count": 25,
   "id": "c9275ab5",
   "metadata": {},
   "outputs": [],
   "source": [
    "agent_df[\"hire_date\"]=pd.to_datetime(agent_df[\"hire_date\"])"
   ]
  },
  {
   "cell_type": "code",
   "execution_count": 26,
   "id": "f86bf801",
   "metadata": {},
   "outputs": [],
   "source": [
    "# data is cleaned\n",
    "agent_df.to_csv(\"agent_clean.csv\", index=False)"
   ]
  },
  {
   "cell_type": "markdown",
   "id": "3932d53e",
   "metadata": {},
   "source": [
    "### Descriptive Statistics & Group Insights"
   ]
  },
  {
   "cell_type": "code",
   "execution_count": 27,
   "id": "dc53b67a",
   "metadata": {},
   "outputs": [
    {
     "data": {
      "text/html": [
       "<div>\n",
       "<style scoped>\n",
       "    .dataframe tbody tr th:only-of-type {\n",
       "        vertical-align: middle;\n",
       "    }\n",
       "\n",
       "    .dataframe tbody tr th {\n",
       "        vertical-align: top;\n",
       "    }\n",
       "\n",
       "    .dataframe thead th {\n",
       "        text-align: right;\n",
       "    }\n",
       "</style>\n",
       "<table border=\"1\" class=\"dataframe\">\n",
       "  <thead>\n",
       "    <tr style=\"text-align: right;\">\n",
       "      <th></th>\n",
       "      <th>agent_id</th>\n",
       "      <th>name</th>\n",
       "      <th>gender</th>\n",
       "      <th>age</th>\n",
       "      <th>email</th>\n",
       "      <th>phone</th>\n",
       "      <th>hire_date</th>\n",
       "      <th>agent_type</th>\n",
       "    </tr>\n",
       "  </thead>\n",
       "  <tbody>\n",
       "    <tr>\n",
       "      <th>count</th>\n",
       "      <td>250.000000</td>\n",
       "      <td>250</td>\n",
       "      <td>250</td>\n",
       "      <td>250.000000</td>\n",
       "      <td>250</td>\n",
       "      <td>250</td>\n",
       "      <td>250</td>\n",
       "      <td>250</td>\n",
       "    </tr>\n",
       "    <tr>\n",
       "      <th>unique</th>\n",
       "      <td>NaN</td>\n",
       "      <td>248</td>\n",
       "      <td>2</td>\n",
       "      <td>NaN</td>\n",
       "      <td>249</td>\n",
       "      <td>250</td>\n",
       "      <td>NaN</td>\n",
       "      <td>3</td>\n",
       "    </tr>\n",
       "    <tr>\n",
       "      <th>top</th>\n",
       "      <td>NaN</td>\n",
       "      <td>Michael Johnson</td>\n",
       "      <td>Female</td>\n",
       "      <td>NaN</td>\n",
       "      <td>jennifergoodman@yahoo.com</td>\n",
       "      <td>678-586-6391x9639</td>\n",
       "      <td>NaN</td>\n",
       "      <td>Leasing Agent</td>\n",
       "    </tr>\n",
       "    <tr>\n",
       "      <th>freq</th>\n",
       "      <td>NaN</td>\n",
       "      <td>2</td>\n",
       "      <td>129</td>\n",
       "      <td>NaN</td>\n",
       "      <td>2</td>\n",
       "      <td>1</td>\n",
       "      <td>NaN</td>\n",
       "      <td>102</td>\n",
       "    </tr>\n",
       "    <tr>\n",
       "      <th>mean</th>\n",
       "      <td>125.500000</td>\n",
       "      <td>NaN</td>\n",
       "      <td>NaN</td>\n",
       "      <td>45.432000</td>\n",
       "      <td>NaN</td>\n",
       "      <td>NaN</td>\n",
       "      <td>2022-05-24 12:46:04.800000</td>\n",
       "      <td>NaN</td>\n",
       "    </tr>\n",
       "    <tr>\n",
       "      <th>min</th>\n",
       "      <td>1.000000</td>\n",
       "      <td>NaN</td>\n",
       "      <td>NaN</td>\n",
       "      <td>25.000000</td>\n",
       "      <td>NaN</td>\n",
       "      <td>NaN</td>\n",
       "      <td>2020-01-12 00:00:00</td>\n",
       "      <td>NaN</td>\n",
       "    </tr>\n",
       "    <tr>\n",
       "      <th>25%</th>\n",
       "      <td>63.250000</td>\n",
       "      <td>NaN</td>\n",
       "      <td>NaN</td>\n",
       "      <td>35.000000</td>\n",
       "      <td>NaN</td>\n",
       "      <td>NaN</td>\n",
       "      <td>2021-02-16 06:00:00</td>\n",
       "      <td>NaN</td>\n",
       "    </tr>\n",
       "    <tr>\n",
       "      <th>50%</th>\n",
       "      <td>125.500000</td>\n",
       "      <td>NaN</td>\n",
       "      <td>NaN</td>\n",
       "      <td>45.000000</td>\n",
       "      <td>NaN</td>\n",
       "      <td>NaN</td>\n",
       "      <td>2022-03-23 00:00:00</td>\n",
       "      <td>NaN</td>\n",
       "    </tr>\n",
       "    <tr>\n",
       "      <th>75%</th>\n",
       "      <td>187.750000</td>\n",
       "      <td>NaN</td>\n",
       "      <td>NaN</td>\n",
       "      <td>56.000000</td>\n",
       "      <td>NaN</td>\n",
       "      <td>NaN</td>\n",
       "      <td>2023-08-20 18:00:00</td>\n",
       "      <td>NaN</td>\n",
       "    </tr>\n",
       "    <tr>\n",
       "      <th>max</th>\n",
       "      <td>250.000000</td>\n",
       "      <td>NaN</td>\n",
       "      <td>NaN</td>\n",
       "      <td>65.000000</td>\n",
       "      <td>NaN</td>\n",
       "      <td>NaN</td>\n",
       "      <td>2024-12-08 00:00:00</td>\n",
       "      <td>NaN</td>\n",
       "    </tr>\n",
       "    <tr>\n",
       "      <th>std</th>\n",
       "      <td>72.312977</td>\n",
       "      <td>NaN</td>\n",
       "      <td>NaN</td>\n",
       "      <td>11.696521</td>\n",
       "      <td>NaN</td>\n",
       "      <td>NaN</td>\n",
       "      <td>NaN</td>\n",
       "      <td>NaN</td>\n",
       "    </tr>\n",
       "  </tbody>\n",
       "</table>\n",
       "</div>"
      ],
      "text/plain": [
       "          agent_id             name  gender         age  \\\n",
       "count   250.000000              250     250  250.000000   \n",
       "unique         NaN              248       2         NaN   \n",
       "top            NaN  Michael Johnson  Female         NaN   \n",
       "freq           NaN                2     129         NaN   \n",
       "mean    125.500000              NaN     NaN   45.432000   \n",
       "min       1.000000              NaN     NaN   25.000000   \n",
       "25%      63.250000              NaN     NaN   35.000000   \n",
       "50%     125.500000              NaN     NaN   45.000000   \n",
       "75%     187.750000              NaN     NaN   56.000000   \n",
       "max     250.000000              NaN     NaN   65.000000   \n",
       "std      72.312977              NaN     NaN   11.696521   \n",
       "\n",
       "                            email              phone  \\\n",
       "count                         250                250   \n",
       "unique                        249                250   \n",
       "top     jennifergoodman@yahoo.com  678-586-6391x9639   \n",
       "freq                            2                  1   \n",
       "mean                          NaN                NaN   \n",
       "min                           NaN                NaN   \n",
       "25%                           NaN                NaN   \n",
       "50%                           NaN                NaN   \n",
       "75%                           NaN                NaN   \n",
       "max                           NaN                NaN   \n",
       "std                           NaN                NaN   \n",
       "\n",
       "                         hire_date     agent_type  \n",
       "count                          250            250  \n",
       "unique                         NaN              3  \n",
       "top                            NaN  Leasing Agent  \n",
       "freq                           NaN            102  \n",
       "mean    2022-05-24 12:46:04.800000            NaN  \n",
       "min            2020-01-12 00:00:00            NaN  \n",
       "25%            2021-02-16 06:00:00            NaN  \n",
       "50%            2022-03-23 00:00:00            NaN  \n",
       "75%            2023-08-20 18:00:00            NaN  \n",
       "max            2024-12-08 00:00:00            NaN  \n",
       "std                            NaN            NaN  "
      ]
     },
     "execution_count": 27,
     "metadata": {},
     "output_type": "execute_result"
    }
   ],
   "source": [
    "agent_df.describe(include=\"all\")"
   ]
  },
  {
   "cell_type": "code",
   "execution_count": 28,
   "id": "302ddafd",
   "metadata": {},
   "outputs": [
    {
     "name": "stdout",
     "output_type": "stream",
     "text": [
      "gender\n",
      "Female    129\n",
      "Male      121\n",
      "Name: count, dtype: int64\n"
     ]
    }
   ],
   "source": [
    "print(agent_df[\"gender\"].value_counts())"
   ]
  },
  {
   "cell_type": "code",
   "execution_count": 29,
   "id": "5578ea1b",
   "metadata": {},
   "outputs": [
    {
     "data": {
      "text/plain": [
       "'\\ntotal agent : 250,\\nmostly female, \\naged 25-65, with an average of 45\\n'"
      ]
     },
     "execution_count": 29,
     "metadata": {},
     "output_type": "execute_result"
    }
   ],
   "source": [
    "\"\"\"\n",
    "total agent : 250,\n",
    "mostly female, \n",
    "aged 25-65, with an average of 45\n",
    "\"\"\""
   ]
  },
  {
   "cell_type": "markdown",
   "id": "1dcc780b",
   "metadata": {},
   "source": [
    "### Data Visualization"
   ]
  },
  {
   "cell_type": "code",
   "execution_count": 30,
   "id": "ca0d676c",
   "metadata": {},
   "outputs": [
    {
     "data": {
      "application/vnd.plotly.v1+json": {
       "config": {
        "plotlyServerURL": "https://plot.ly"
       },
       "data": [
        {
         "hovertemplate": "hire_year=%{x}<br>agents_hired=%{y}<extra></extra>",
         "legendgroup": "",
         "line": {
          "color": "#636efa",
          "dash": "solid"
         },
         "marker": {
          "symbol": "circle"
         },
         "mode": "lines+markers",
         "name": "",
         "orientation": "v",
         "showlegend": false,
         "type": "scatter",
         "x": {
          "bdata": "5AcAAOUHAADmBwAA5wcAAOgHAAA=",
          "dtype": "i4"
         },
         "xaxis": "x",
         "y": {
          "bdata": "NTopOig=",
          "dtype": "i1"
         },
         "yaxis": "y"
        }
       ],
       "layout": {
        "legend": {
         "tracegroupgap": 0
        },
        "template": {
         "data": {
          "bar": [
           {
            "error_x": {
             "color": "#2a3f5f"
            },
            "error_y": {
             "color": "#2a3f5f"
            },
            "marker": {
             "line": {
              "color": "#E5ECF6",
              "width": 0.5
             },
             "pattern": {
              "fillmode": "overlay",
              "size": 10,
              "solidity": 0.2
             }
            },
            "type": "bar"
           }
          ],
          "barpolar": [
           {
            "marker": {
             "line": {
              "color": "#E5ECF6",
              "width": 0.5
             },
             "pattern": {
              "fillmode": "overlay",
              "size": 10,
              "solidity": 0.2
             }
            },
            "type": "barpolar"
           }
          ],
          "carpet": [
           {
            "aaxis": {
             "endlinecolor": "#2a3f5f",
             "gridcolor": "white",
             "linecolor": "white",
             "minorgridcolor": "white",
             "startlinecolor": "#2a3f5f"
            },
            "baxis": {
             "endlinecolor": "#2a3f5f",
             "gridcolor": "white",
             "linecolor": "white",
             "minorgridcolor": "white",
             "startlinecolor": "#2a3f5f"
            },
            "type": "carpet"
           }
          ],
          "choropleth": [
           {
            "colorbar": {
             "outlinewidth": 0,
             "ticks": ""
            },
            "type": "choropleth"
           }
          ],
          "contour": [
           {
            "colorbar": {
             "outlinewidth": 0,
             "ticks": ""
            },
            "colorscale": [
             [
              0,
              "#0d0887"
             ],
             [
              0.1111111111111111,
              "#46039f"
             ],
             [
              0.2222222222222222,
              "#7201a8"
             ],
             [
              0.3333333333333333,
              "#9c179e"
             ],
             [
              0.4444444444444444,
              "#bd3786"
             ],
             [
              0.5555555555555556,
              "#d8576b"
             ],
             [
              0.6666666666666666,
              "#ed7953"
             ],
             [
              0.7777777777777778,
              "#fb9f3a"
             ],
             [
              0.8888888888888888,
              "#fdca26"
             ],
             [
              1,
              "#f0f921"
             ]
            ],
            "type": "contour"
           }
          ],
          "contourcarpet": [
           {
            "colorbar": {
             "outlinewidth": 0,
             "ticks": ""
            },
            "type": "contourcarpet"
           }
          ],
          "heatmap": [
           {
            "colorbar": {
             "outlinewidth": 0,
             "ticks": ""
            },
            "colorscale": [
             [
              0,
              "#0d0887"
             ],
             [
              0.1111111111111111,
              "#46039f"
             ],
             [
              0.2222222222222222,
              "#7201a8"
             ],
             [
              0.3333333333333333,
              "#9c179e"
             ],
             [
              0.4444444444444444,
              "#bd3786"
             ],
             [
              0.5555555555555556,
              "#d8576b"
             ],
             [
              0.6666666666666666,
              "#ed7953"
             ],
             [
              0.7777777777777778,
              "#fb9f3a"
             ],
             [
              0.8888888888888888,
              "#fdca26"
             ],
             [
              1,
              "#f0f921"
             ]
            ],
            "type": "heatmap"
           }
          ],
          "histogram": [
           {
            "marker": {
             "pattern": {
              "fillmode": "overlay",
              "size": 10,
              "solidity": 0.2
             }
            },
            "type": "histogram"
           }
          ],
          "histogram2d": [
           {
            "colorbar": {
             "outlinewidth": 0,
             "ticks": ""
            },
            "colorscale": [
             [
              0,
              "#0d0887"
             ],
             [
              0.1111111111111111,
              "#46039f"
             ],
             [
              0.2222222222222222,
              "#7201a8"
             ],
             [
              0.3333333333333333,
              "#9c179e"
             ],
             [
              0.4444444444444444,
              "#bd3786"
             ],
             [
              0.5555555555555556,
              "#d8576b"
             ],
             [
              0.6666666666666666,
              "#ed7953"
             ],
             [
              0.7777777777777778,
              "#fb9f3a"
             ],
             [
              0.8888888888888888,
              "#fdca26"
             ],
             [
              1,
              "#f0f921"
             ]
            ],
            "type": "histogram2d"
           }
          ],
          "histogram2dcontour": [
           {
            "colorbar": {
             "outlinewidth": 0,
             "ticks": ""
            },
            "colorscale": [
             [
              0,
              "#0d0887"
             ],
             [
              0.1111111111111111,
              "#46039f"
             ],
             [
              0.2222222222222222,
              "#7201a8"
             ],
             [
              0.3333333333333333,
              "#9c179e"
             ],
             [
              0.4444444444444444,
              "#bd3786"
             ],
             [
              0.5555555555555556,
              "#d8576b"
             ],
             [
              0.6666666666666666,
              "#ed7953"
             ],
             [
              0.7777777777777778,
              "#fb9f3a"
             ],
             [
              0.8888888888888888,
              "#fdca26"
             ],
             [
              1,
              "#f0f921"
             ]
            ],
            "type": "histogram2dcontour"
           }
          ],
          "mesh3d": [
           {
            "colorbar": {
             "outlinewidth": 0,
             "ticks": ""
            },
            "type": "mesh3d"
           }
          ],
          "parcoords": [
           {
            "line": {
             "colorbar": {
              "outlinewidth": 0,
              "ticks": ""
             }
            },
            "type": "parcoords"
           }
          ],
          "pie": [
           {
            "automargin": true,
            "type": "pie"
           }
          ],
          "scatter": [
           {
            "fillpattern": {
             "fillmode": "overlay",
             "size": 10,
             "solidity": 0.2
            },
            "type": "scatter"
           }
          ],
          "scatter3d": [
           {
            "line": {
             "colorbar": {
              "outlinewidth": 0,
              "ticks": ""
             }
            },
            "marker": {
             "colorbar": {
              "outlinewidth": 0,
              "ticks": ""
             }
            },
            "type": "scatter3d"
           }
          ],
          "scattercarpet": [
           {
            "marker": {
             "colorbar": {
              "outlinewidth": 0,
              "ticks": ""
             }
            },
            "type": "scattercarpet"
           }
          ],
          "scattergeo": [
           {
            "marker": {
             "colorbar": {
              "outlinewidth": 0,
              "ticks": ""
             }
            },
            "type": "scattergeo"
           }
          ],
          "scattergl": [
           {
            "marker": {
             "colorbar": {
              "outlinewidth": 0,
              "ticks": ""
             }
            },
            "type": "scattergl"
           }
          ],
          "scattermap": [
           {
            "marker": {
             "colorbar": {
              "outlinewidth": 0,
              "ticks": ""
             }
            },
            "type": "scattermap"
           }
          ],
          "scattermapbox": [
           {
            "marker": {
             "colorbar": {
              "outlinewidth": 0,
              "ticks": ""
             }
            },
            "type": "scattermapbox"
           }
          ],
          "scatterpolar": [
           {
            "marker": {
             "colorbar": {
              "outlinewidth": 0,
              "ticks": ""
             }
            },
            "type": "scatterpolar"
           }
          ],
          "scatterpolargl": [
           {
            "marker": {
             "colorbar": {
              "outlinewidth": 0,
              "ticks": ""
             }
            },
            "type": "scatterpolargl"
           }
          ],
          "scatterternary": [
           {
            "marker": {
             "colorbar": {
              "outlinewidth": 0,
              "ticks": ""
             }
            },
            "type": "scatterternary"
           }
          ],
          "surface": [
           {
            "colorbar": {
             "outlinewidth": 0,
             "ticks": ""
            },
            "colorscale": [
             [
              0,
              "#0d0887"
             ],
             [
              0.1111111111111111,
              "#46039f"
             ],
             [
              0.2222222222222222,
              "#7201a8"
             ],
             [
              0.3333333333333333,
              "#9c179e"
             ],
             [
              0.4444444444444444,
              "#bd3786"
             ],
             [
              0.5555555555555556,
              "#d8576b"
             ],
             [
              0.6666666666666666,
              "#ed7953"
             ],
             [
              0.7777777777777778,
              "#fb9f3a"
             ],
             [
              0.8888888888888888,
              "#fdca26"
             ],
             [
              1,
              "#f0f921"
             ]
            ],
            "type": "surface"
           }
          ],
          "table": [
           {
            "cells": {
             "fill": {
              "color": "#EBF0F8"
             },
             "line": {
              "color": "white"
             }
            },
            "header": {
             "fill": {
              "color": "#C8D4E3"
             },
             "line": {
              "color": "white"
             }
            },
            "type": "table"
           }
          ]
         },
         "layout": {
          "annotationdefaults": {
           "arrowcolor": "#2a3f5f",
           "arrowhead": 0,
           "arrowwidth": 1
          },
          "autotypenumbers": "strict",
          "coloraxis": {
           "colorbar": {
            "outlinewidth": 0,
            "ticks": ""
           }
          },
          "colorscale": {
           "diverging": [
            [
             0,
             "#8e0152"
            ],
            [
             0.1,
             "#c51b7d"
            ],
            [
             0.2,
             "#de77ae"
            ],
            [
             0.3,
             "#f1b6da"
            ],
            [
             0.4,
             "#fde0ef"
            ],
            [
             0.5,
             "#f7f7f7"
            ],
            [
             0.6,
             "#e6f5d0"
            ],
            [
             0.7,
             "#b8e186"
            ],
            [
             0.8,
             "#7fbc41"
            ],
            [
             0.9,
             "#4d9221"
            ],
            [
             1,
             "#276419"
            ]
           ],
           "sequential": [
            [
             0,
             "#0d0887"
            ],
            [
             0.1111111111111111,
             "#46039f"
            ],
            [
             0.2222222222222222,
             "#7201a8"
            ],
            [
             0.3333333333333333,
             "#9c179e"
            ],
            [
             0.4444444444444444,
             "#bd3786"
            ],
            [
             0.5555555555555556,
             "#d8576b"
            ],
            [
             0.6666666666666666,
             "#ed7953"
            ],
            [
             0.7777777777777778,
             "#fb9f3a"
            ],
            [
             0.8888888888888888,
             "#fdca26"
            ],
            [
             1,
             "#f0f921"
            ]
           ],
           "sequentialminus": [
            [
             0,
             "#0d0887"
            ],
            [
             0.1111111111111111,
             "#46039f"
            ],
            [
             0.2222222222222222,
             "#7201a8"
            ],
            [
             0.3333333333333333,
             "#9c179e"
            ],
            [
             0.4444444444444444,
             "#bd3786"
            ],
            [
             0.5555555555555556,
             "#d8576b"
            ],
            [
             0.6666666666666666,
             "#ed7953"
            ],
            [
             0.7777777777777778,
             "#fb9f3a"
            ],
            [
             0.8888888888888888,
             "#fdca26"
            ],
            [
             1,
             "#f0f921"
            ]
           ]
          },
          "colorway": [
           "#636efa",
           "#EF553B",
           "#00cc96",
           "#ab63fa",
           "#FFA15A",
           "#19d3f3",
           "#FF6692",
           "#B6E880",
           "#FF97FF",
           "#FECB52"
          ],
          "font": {
           "color": "#2a3f5f"
          },
          "geo": {
           "bgcolor": "white",
           "lakecolor": "white",
           "landcolor": "#E5ECF6",
           "showlakes": true,
           "showland": true,
           "subunitcolor": "white"
          },
          "hoverlabel": {
           "align": "left"
          },
          "hovermode": "closest",
          "mapbox": {
           "style": "light"
          },
          "paper_bgcolor": "white",
          "plot_bgcolor": "#E5ECF6",
          "polar": {
           "angularaxis": {
            "gridcolor": "white",
            "linecolor": "white",
            "ticks": ""
           },
           "bgcolor": "#E5ECF6",
           "radialaxis": {
            "gridcolor": "white",
            "linecolor": "white",
            "ticks": ""
           }
          },
          "scene": {
           "xaxis": {
            "backgroundcolor": "#E5ECF6",
            "gridcolor": "white",
            "gridwidth": 2,
            "linecolor": "white",
            "showbackground": true,
            "ticks": "",
            "zerolinecolor": "white"
           },
           "yaxis": {
            "backgroundcolor": "#E5ECF6",
            "gridcolor": "white",
            "gridwidth": 2,
            "linecolor": "white",
            "showbackground": true,
            "ticks": "",
            "zerolinecolor": "white"
           },
           "zaxis": {
            "backgroundcolor": "#E5ECF6",
            "gridcolor": "white",
            "gridwidth": 2,
            "linecolor": "white",
            "showbackground": true,
            "ticks": "",
            "zerolinecolor": "white"
           }
          },
          "shapedefaults": {
           "line": {
            "color": "#2a3f5f"
           }
          },
          "ternary": {
           "aaxis": {
            "gridcolor": "white",
            "linecolor": "white",
            "ticks": ""
           },
           "baxis": {
            "gridcolor": "white",
            "linecolor": "white",
            "ticks": ""
           },
           "bgcolor": "#E5ECF6",
           "caxis": {
            "gridcolor": "white",
            "linecolor": "white",
            "ticks": ""
           }
          },
          "title": {
           "x": 0.05
          },
          "xaxis": {
           "automargin": true,
           "gridcolor": "white",
           "linecolor": "white",
           "ticks": "",
           "title": {
            "standoff": 15
           },
           "zerolinecolor": "white",
           "zerolinewidth": 2
          },
          "yaxis": {
           "automargin": true,
           "gridcolor": "white",
           "linecolor": "white",
           "ticks": "",
           "title": {
            "standoff": 15
           },
           "zerolinecolor": "white",
           "zerolinewidth": 2
          }
         }
        },
        "title": {
         "text": "Number of Agents Hired Per Year"
        },
        "xaxis": {
         "anchor": "y",
         "domain": [
          0,
          1
         ],
         "title": {
          "text": "hire_year"
         }
        },
        "yaxis": {
         "anchor": "x",
         "domain": [
          0,
          1
         ],
         "title": {
          "text": "agents_hired"
         }
        }
       }
      }
     },
     "metadata": {},
     "output_type": "display_data"
    }
   ],
   "source": [
    "agent_df[\"hire_year\"] = agent_df[\"hire_date\"].dt.year\n",
    "hire_per_year = agent_df.groupby(\"hire_year\").agg(agents_hired=(\"agent_id\",\"count\")).reset_index()\n",
    "\n",
    "fig3 = px.line(hire_per_year,x=\"hire_year\",y=\"agents_hired\",markers=True,title=\"Number of Agents Hired Per Year\")\n",
    "fig3.show()"
   ]
  },
  {
   "cell_type": "code",
   "execution_count": 31,
   "id": "73b2bf8b",
   "metadata": {},
   "outputs": [
    {
     "data": {
      "application/vnd.plotly.v1+json": {
       "config": {
        "plotlyServerURL": "https://plot.ly"
       },
       "data": [
        {
         "domain": {
          "x": [
           0,
           1
          ],
          "y": [
           0,
           1
          ]
         },
         "hovertemplate": "agent_type=%{label}<extra></extra>",
         "labels": [
          "Sales Agent",
          "Leasing Agent",
          "Leasing Agent",
          "Leasing Agent",
          "Leasing Agent",
          "Sales Agent",
          "Sales Agent",
          "Property Manager",
          "Property Manager",
          "Property Manager",
          "Sales Agent",
          "Leasing Agent",
          "Leasing Agent",
          "Leasing Agent",
          "Sales Agent",
          "Leasing Agent",
          "Leasing Agent",
          "Sales Agent",
          "Leasing Agent",
          "Property Manager",
          "Sales Agent",
          "Leasing Agent",
          "Sales Agent",
          "Sales Agent",
          "Property Manager",
          "Leasing Agent",
          "Sales Agent",
          "Leasing Agent",
          "Sales Agent",
          "Leasing Agent",
          "Property Manager",
          "Leasing Agent",
          "Property Manager",
          "Sales Agent",
          "Leasing Agent",
          "Leasing Agent",
          "Sales Agent",
          "Property Manager",
          "Leasing Agent",
          "Property Manager",
          "Sales Agent",
          "Sales Agent",
          "Sales Agent",
          "Leasing Agent",
          "Leasing Agent",
          "Leasing Agent",
          "Sales Agent",
          "Sales Agent",
          "Leasing Agent",
          "Sales Agent",
          "Leasing Agent",
          "Sales Agent",
          "Leasing Agent",
          "Leasing Agent",
          "Sales Agent",
          "Leasing Agent",
          "Property Manager",
          "Leasing Agent",
          "Property Manager",
          "Property Manager",
          "Leasing Agent",
          "Sales Agent",
          "Leasing Agent",
          "Leasing Agent",
          "Sales Agent",
          "Sales Agent",
          "Sales Agent",
          "Leasing Agent",
          "Property Manager",
          "Sales Agent",
          "Sales Agent",
          "Leasing Agent",
          "Leasing Agent",
          "Leasing Agent",
          "Sales Agent",
          "Property Manager",
          "Sales Agent",
          "Leasing Agent",
          "Sales Agent",
          "Sales Agent",
          "Leasing Agent",
          "Leasing Agent",
          "Property Manager",
          "Leasing Agent",
          "Leasing Agent",
          "Sales Agent",
          "Leasing Agent",
          "Property Manager",
          "Leasing Agent",
          "Leasing Agent",
          "Sales Agent",
          "Leasing Agent",
          "Leasing Agent",
          "Property Manager",
          "Leasing Agent",
          "Leasing Agent",
          "Leasing Agent",
          "Property Manager",
          "Sales Agent",
          "Leasing Agent",
          "Leasing Agent",
          "Leasing Agent",
          "Leasing Agent",
          "Leasing Agent",
          "Property Manager",
          "Sales Agent",
          "Sales Agent",
          "Leasing Agent",
          "Sales Agent",
          "Property Manager",
          "Sales Agent",
          "Sales Agent",
          "Leasing Agent",
          "Property Manager",
          "Property Manager",
          "Sales Agent",
          "Sales Agent",
          "Sales Agent",
          "Property Manager",
          "Leasing Agent",
          "Leasing Agent",
          "Property Manager",
          "Leasing Agent",
          "Leasing Agent",
          "Sales Agent",
          "Sales Agent",
          "Sales Agent",
          "Leasing Agent",
          "Sales Agent",
          "Sales Agent",
          "Sales Agent",
          "Leasing Agent",
          "Property Manager",
          "Sales Agent",
          "Sales Agent",
          "Sales Agent",
          "Property Manager",
          "Sales Agent",
          "Sales Agent",
          "Leasing Agent",
          "Sales Agent",
          "Property Manager",
          "Property Manager",
          "Leasing Agent",
          "Sales Agent",
          "Sales Agent",
          "Leasing Agent",
          "Sales Agent",
          "Leasing Agent",
          "Sales Agent",
          "Property Manager",
          "Leasing Agent",
          "Sales Agent",
          "Sales Agent",
          "Leasing Agent",
          "Leasing Agent",
          "Leasing Agent",
          "Property Manager",
          "Leasing Agent",
          "Leasing Agent",
          "Sales Agent",
          "Leasing Agent",
          "Property Manager",
          "Property Manager",
          "Property Manager",
          "Property Manager",
          "Leasing Agent",
          "Leasing Agent",
          "Property Manager",
          "Property Manager",
          "Leasing Agent",
          "Sales Agent",
          "Sales Agent",
          "Property Manager",
          "Sales Agent",
          "Leasing Agent",
          "Sales Agent",
          "Property Manager",
          "Leasing Agent",
          "Leasing Agent",
          "Leasing Agent",
          "Leasing Agent",
          "Property Manager",
          "Leasing Agent",
          "Leasing Agent",
          "Sales Agent",
          "Sales Agent",
          "Leasing Agent",
          "Leasing Agent",
          "Sales Agent",
          "Leasing Agent",
          "Sales Agent",
          "Sales Agent",
          "Leasing Agent",
          "Sales Agent",
          "Sales Agent",
          "Leasing Agent",
          "Sales Agent",
          "Property Manager",
          "Property Manager",
          "Property Manager",
          "Property Manager",
          "Leasing Agent",
          "Property Manager",
          "Leasing Agent",
          "Leasing Agent",
          "Sales Agent",
          "Leasing Agent",
          "Sales Agent",
          "Sales Agent",
          "Sales Agent",
          "Leasing Agent",
          "Leasing Agent",
          "Leasing Agent",
          "Leasing Agent",
          "Sales Agent",
          "Leasing Agent",
          "Sales Agent",
          "Leasing Agent",
          "Property Manager",
          "Sales Agent",
          "Sales Agent",
          "Property Manager",
          "Property Manager",
          "Sales Agent",
          "Leasing Agent",
          "Sales Agent",
          "Sales Agent",
          "Sales Agent",
          "Sales Agent",
          "Sales Agent",
          "Leasing Agent",
          "Leasing Agent",
          "Property Manager",
          "Sales Agent",
          "Sales Agent",
          "Sales Agent",
          "Property Manager",
          "Property Manager",
          "Leasing Agent",
          "Sales Agent",
          "Sales Agent",
          "Sales Agent",
          "Leasing Agent",
          "Sales Agent",
          "Sales Agent",
          "Sales Agent",
          "Leasing Agent",
          "Sales Agent",
          "Property Manager"
         ],
         "legendgroup": "",
         "name": "",
         "showlegend": true,
         "type": "pie"
        }
       ],
       "layout": {
        "legend": {
         "tracegroupgap": 0
        },
        "template": {
         "data": {
          "bar": [
           {
            "error_x": {
             "color": "#2a3f5f"
            },
            "error_y": {
             "color": "#2a3f5f"
            },
            "marker": {
             "line": {
              "color": "#E5ECF6",
              "width": 0.5
             },
             "pattern": {
              "fillmode": "overlay",
              "size": 10,
              "solidity": 0.2
             }
            },
            "type": "bar"
           }
          ],
          "barpolar": [
           {
            "marker": {
             "line": {
              "color": "#E5ECF6",
              "width": 0.5
             },
             "pattern": {
              "fillmode": "overlay",
              "size": 10,
              "solidity": 0.2
             }
            },
            "type": "barpolar"
           }
          ],
          "carpet": [
           {
            "aaxis": {
             "endlinecolor": "#2a3f5f",
             "gridcolor": "white",
             "linecolor": "white",
             "minorgridcolor": "white",
             "startlinecolor": "#2a3f5f"
            },
            "baxis": {
             "endlinecolor": "#2a3f5f",
             "gridcolor": "white",
             "linecolor": "white",
             "minorgridcolor": "white",
             "startlinecolor": "#2a3f5f"
            },
            "type": "carpet"
           }
          ],
          "choropleth": [
           {
            "colorbar": {
             "outlinewidth": 0,
             "ticks": ""
            },
            "type": "choropleth"
           }
          ],
          "contour": [
           {
            "colorbar": {
             "outlinewidth": 0,
             "ticks": ""
            },
            "colorscale": [
             [
              0,
              "#0d0887"
             ],
             [
              0.1111111111111111,
              "#46039f"
             ],
             [
              0.2222222222222222,
              "#7201a8"
             ],
             [
              0.3333333333333333,
              "#9c179e"
             ],
             [
              0.4444444444444444,
              "#bd3786"
             ],
             [
              0.5555555555555556,
              "#d8576b"
             ],
             [
              0.6666666666666666,
              "#ed7953"
             ],
             [
              0.7777777777777778,
              "#fb9f3a"
             ],
             [
              0.8888888888888888,
              "#fdca26"
             ],
             [
              1,
              "#f0f921"
             ]
            ],
            "type": "contour"
           }
          ],
          "contourcarpet": [
           {
            "colorbar": {
             "outlinewidth": 0,
             "ticks": ""
            },
            "type": "contourcarpet"
           }
          ],
          "heatmap": [
           {
            "colorbar": {
             "outlinewidth": 0,
             "ticks": ""
            },
            "colorscale": [
             [
              0,
              "#0d0887"
             ],
             [
              0.1111111111111111,
              "#46039f"
             ],
             [
              0.2222222222222222,
              "#7201a8"
             ],
             [
              0.3333333333333333,
              "#9c179e"
             ],
             [
              0.4444444444444444,
              "#bd3786"
             ],
             [
              0.5555555555555556,
              "#d8576b"
             ],
             [
              0.6666666666666666,
              "#ed7953"
             ],
             [
              0.7777777777777778,
              "#fb9f3a"
             ],
             [
              0.8888888888888888,
              "#fdca26"
             ],
             [
              1,
              "#f0f921"
             ]
            ],
            "type": "heatmap"
           }
          ],
          "histogram": [
           {
            "marker": {
             "pattern": {
              "fillmode": "overlay",
              "size": 10,
              "solidity": 0.2
             }
            },
            "type": "histogram"
           }
          ],
          "histogram2d": [
           {
            "colorbar": {
             "outlinewidth": 0,
             "ticks": ""
            },
            "colorscale": [
             [
              0,
              "#0d0887"
             ],
             [
              0.1111111111111111,
              "#46039f"
             ],
             [
              0.2222222222222222,
              "#7201a8"
             ],
             [
              0.3333333333333333,
              "#9c179e"
             ],
             [
              0.4444444444444444,
              "#bd3786"
             ],
             [
              0.5555555555555556,
              "#d8576b"
             ],
             [
              0.6666666666666666,
              "#ed7953"
             ],
             [
              0.7777777777777778,
              "#fb9f3a"
             ],
             [
              0.8888888888888888,
              "#fdca26"
             ],
             [
              1,
              "#f0f921"
             ]
            ],
            "type": "histogram2d"
           }
          ],
          "histogram2dcontour": [
           {
            "colorbar": {
             "outlinewidth": 0,
             "ticks": ""
            },
            "colorscale": [
             [
              0,
              "#0d0887"
             ],
             [
              0.1111111111111111,
              "#46039f"
             ],
             [
              0.2222222222222222,
              "#7201a8"
             ],
             [
              0.3333333333333333,
              "#9c179e"
             ],
             [
              0.4444444444444444,
              "#bd3786"
             ],
             [
              0.5555555555555556,
              "#d8576b"
             ],
             [
              0.6666666666666666,
              "#ed7953"
             ],
             [
              0.7777777777777778,
              "#fb9f3a"
             ],
             [
              0.8888888888888888,
              "#fdca26"
             ],
             [
              1,
              "#f0f921"
             ]
            ],
            "type": "histogram2dcontour"
           }
          ],
          "mesh3d": [
           {
            "colorbar": {
             "outlinewidth": 0,
             "ticks": ""
            },
            "type": "mesh3d"
           }
          ],
          "parcoords": [
           {
            "line": {
             "colorbar": {
              "outlinewidth": 0,
              "ticks": ""
             }
            },
            "type": "parcoords"
           }
          ],
          "pie": [
           {
            "automargin": true,
            "type": "pie"
           }
          ],
          "scatter": [
           {
            "fillpattern": {
             "fillmode": "overlay",
             "size": 10,
             "solidity": 0.2
            },
            "type": "scatter"
           }
          ],
          "scatter3d": [
           {
            "line": {
             "colorbar": {
              "outlinewidth": 0,
              "ticks": ""
             }
            },
            "marker": {
             "colorbar": {
              "outlinewidth": 0,
              "ticks": ""
             }
            },
            "type": "scatter3d"
           }
          ],
          "scattercarpet": [
           {
            "marker": {
             "colorbar": {
              "outlinewidth": 0,
              "ticks": ""
             }
            },
            "type": "scattercarpet"
           }
          ],
          "scattergeo": [
           {
            "marker": {
             "colorbar": {
              "outlinewidth": 0,
              "ticks": ""
             }
            },
            "type": "scattergeo"
           }
          ],
          "scattergl": [
           {
            "marker": {
             "colorbar": {
              "outlinewidth": 0,
              "ticks": ""
             }
            },
            "type": "scattergl"
           }
          ],
          "scattermap": [
           {
            "marker": {
             "colorbar": {
              "outlinewidth": 0,
              "ticks": ""
             }
            },
            "type": "scattermap"
           }
          ],
          "scattermapbox": [
           {
            "marker": {
             "colorbar": {
              "outlinewidth": 0,
              "ticks": ""
             }
            },
            "type": "scattermapbox"
           }
          ],
          "scatterpolar": [
           {
            "marker": {
             "colorbar": {
              "outlinewidth": 0,
              "ticks": ""
             }
            },
            "type": "scatterpolar"
           }
          ],
          "scatterpolargl": [
           {
            "marker": {
             "colorbar": {
              "outlinewidth": 0,
              "ticks": ""
             }
            },
            "type": "scatterpolargl"
           }
          ],
          "scatterternary": [
           {
            "marker": {
             "colorbar": {
              "outlinewidth": 0,
              "ticks": ""
             }
            },
            "type": "scatterternary"
           }
          ],
          "surface": [
           {
            "colorbar": {
             "outlinewidth": 0,
             "ticks": ""
            },
            "colorscale": [
             [
              0,
              "#0d0887"
             ],
             [
              0.1111111111111111,
              "#46039f"
             ],
             [
              0.2222222222222222,
              "#7201a8"
             ],
             [
              0.3333333333333333,
              "#9c179e"
             ],
             [
              0.4444444444444444,
              "#bd3786"
             ],
             [
              0.5555555555555556,
              "#d8576b"
             ],
             [
              0.6666666666666666,
              "#ed7953"
             ],
             [
              0.7777777777777778,
              "#fb9f3a"
             ],
             [
              0.8888888888888888,
              "#fdca26"
             ],
             [
              1,
              "#f0f921"
             ]
            ],
            "type": "surface"
           }
          ],
          "table": [
           {
            "cells": {
             "fill": {
              "color": "#EBF0F8"
             },
             "line": {
              "color": "white"
             }
            },
            "header": {
             "fill": {
              "color": "#C8D4E3"
             },
             "line": {
              "color": "white"
             }
            },
            "type": "table"
           }
          ]
         },
         "layout": {
          "annotationdefaults": {
           "arrowcolor": "#2a3f5f",
           "arrowhead": 0,
           "arrowwidth": 1
          },
          "autotypenumbers": "strict",
          "coloraxis": {
           "colorbar": {
            "outlinewidth": 0,
            "ticks": ""
           }
          },
          "colorscale": {
           "diverging": [
            [
             0,
             "#8e0152"
            ],
            [
             0.1,
             "#c51b7d"
            ],
            [
             0.2,
             "#de77ae"
            ],
            [
             0.3,
             "#f1b6da"
            ],
            [
             0.4,
             "#fde0ef"
            ],
            [
             0.5,
             "#f7f7f7"
            ],
            [
             0.6,
             "#e6f5d0"
            ],
            [
             0.7,
             "#b8e186"
            ],
            [
             0.8,
             "#7fbc41"
            ],
            [
             0.9,
             "#4d9221"
            ],
            [
             1,
             "#276419"
            ]
           ],
           "sequential": [
            [
             0,
             "#0d0887"
            ],
            [
             0.1111111111111111,
             "#46039f"
            ],
            [
             0.2222222222222222,
             "#7201a8"
            ],
            [
             0.3333333333333333,
             "#9c179e"
            ],
            [
             0.4444444444444444,
             "#bd3786"
            ],
            [
             0.5555555555555556,
             "#d8576b"
            ],
            [
             0.6666666666666666,
             "#ed7953"
            ],
            [
             0.7777777777777778,
             "#fb9f3a"
            ],
            [
             0.8888888888888888,
             "#fdca26"
            ],
            [
             1,
             "#f0f921"
            ]
           ],
           "sequentialminus": [
            [
             0,
             "#0d0887"
            ],
            [
             0.1111111111111111,
             "#46039f"
            ],
            [
             0.2222222222222222,
             "#7201a8"
            ],
            [
             0.3333333333333333,
             "#9c179e"
            ],
            [
             0.4444444444444444,
             "#bd3786"
            ],
            [
             0.5555555555555556,
             "#d8576b"
            ],
            [
             0.6666666666666666,
             "#ed7953"
            ],
            [
             0.7777777777777778,
             "#fb9f3a"
            ],
            [
             0.8888888888888888,
             "#fdca26"
            ],
            [
             1,
             "#f0f921"
            ]
           ]
          },
          "colorway": [
           "#636efa",
           "#EF553B",
           "#00cc96",
           "#ab63fa",
           "#FFA15A",
           "#19d3f3",
           "#FF6692",
           "#B6E880",
           "#FF97FF",
           "#FECB52"
          ],
          "font": {
           "color": "#2a3f5f"
          },
          "geo": {
           "bgcolor": "white",
           "lakecolor": "white",
           "landcolor": "#E5ECF6",
           "showlakes": true,
           "showland": true,
           "subunitcolor": "white"
          },
          "hoverlabel": {
           "align": "left"
          },
          "hovermode": "closest",
          "mapbox": {
           "style": "light"
          },
          "paper_bgcolor": "white",
          "plot_bgcolor": "#E5ECF6",
          "polar": {
           "angularaxis": {
            "gridcolor": "white",
            "linecolor": "white",
            "ticks": ""
           },
           "bgcolor": "#E5ECF6",
           "radialaxis": {
            "gridcolor": "white",
            "linecolor": "white",
            "ticks": ""
           }
          },
          "scene": {
           "xaxis": {
            "backgroundcolor": "#E5ECF6",
            "gridcolor": "white",
            "gridwidth": 2,
            "linecolor": "white",
            "showbackground": true,
            "ticks": "",
            "zerolinecolor": "white"
           },
           "yaxis": {
            "backgroundcolor": "#E5ECF6",
            "gridcolor": "white",
            "gridwidth": 2,
            "linecolor": "white",
            "showbackground": true,
            "ticks": "",
            "zerolinecolor": "white"
           },
           "zaxis": {
            "backgroundcolor": "#E5ECF6",
            "gridcolor": "white",
            "gridwidth": 2,
            "linecolor": "white",
            "showbackground": true,
            "ticks": "",
            "zerolinecolor": "white"
           }
          },
          "shapedefaults": {
           "line": {
            "color": "#2a3f5f"
           }
          },
          "ternary": {
           "aaxis": {
            "gridcolor": "white",
            "linecolor": "white",
            "ticks": ""
           },
           "baxis": {
            "gridcolor": "white",
            "linecolor": "white",
            "ticks": ""
           },
           "bgcolor": "#E5ECF6",
           "caxis": {
            "gridcolor": "white",
            "linecolor": "white",
            "ticks": ""
           }
          },
          "title": {
           "x": 0.05
          },
          "xaxis": {
           "automargin": true,
           "gridcolor": "white",
           "linecolor": "white",
           "ticks": "",
           "title": {
            "standoff": 15
           },
           "zerolinecolor": "white",
           "zerolinewidth": 2
          },
          "yaxis": {
           "automargin": true,
           "gridcolor": "white",
           "linecolor": "white",
           "ticks": "",
           "title": {
            "standoff": 15
           },
           "zerolinecolor": "white",
           "zerolinewidth": 2
          }
         }
        },
        "title": {
         "text": "agent_type Distribution"
        }
       }
      }
     },
     "metadata": {},
     "output_type": "display_data"
    }
   ],
   "source": [
    "fig4 = px.pie(agent_df,names='agent_type',title='agent_type Distribution')\n",
    "fig4.show()"
   ]
  },
  {
   "cell_type": "markdown",
   "id": "6b961a04",
   "metadata": {},
   "source": [
    "## Owner Dataset"
   ]
  },
  {
   "cell_type": "markdown",
   "id": "822adbb8",
   "metadata": {},
   "source": [
    "### Load & Preview Data\n"
   ]
  },
  {
   "cell_type": "code",
   "execution_count": null,
   "id": "50077a9e",
   "metadata": {},
   "outputs": [
    {
     "data": {
      "text/html": [
       "<div>\n",
       "<style scoped>\n",
       "    .dataframe tbody tr th:only-of-type {\n",
       "        vertical-align: middle;\n",
       "    }\n",
       "\n",
       "    .dataframe tbody tr th {\n",
       "        vertical-align: top;\n",
       "    }\n",
       "\n",
       "    .dataframe thead th {\n",
       "        text-align: right;\n",
       "    }\n",
       "</style>\n",
       "<table border=\"1\" class=\"dataframe\">\n",
       "  <thead>\n",
       "    <tr style=\"text-align: right;\">\n",
       "      <th></th>\n",
       "      <th>owner_id</th>\n",
       "      <th>name</th>\n",
       "      <th>gender</th>\n",
       "      <th>age</th>\n",
       "      <th>email</th>\n",
       "      <th>phone</th>\n",
       "    </tr>\n",
       "  </thead>\n",
       "  <tbody>\n",
       "    <tr>\n",
       "      <th>37</th>\n",
       "      <td>38</td>\n",
       "      <td>Miguel Jones</td>\n",
       "      <td>Female</td>\n",
       "      <td>49</td>\n",
       "      <td>migueljones@gmail.com</td>\n",
       "      <td>(898)709-9848</td>\n",
       "    </tr>\n",
       "    <tr>\n",
       "      <th>342</th>\n",
       "      <td>343</td>\n",
       "      <td>Nicole Fitzgerald</td>\n",
       "      <td>Female</td>\n",
       "      <td>44</td>\n",
       "      <td>nicolefitzgerald@hotmail.com</td>\n",
       "      <td>001-910-712-9598x887</td>\n",
       "    </tr>\n",
       "    <tr>\n",
       "      <th>193</th>\n",
       "      <td>194</td>\n",
       "      <td>George Davis</td>\n",
       "      <td>Female</td>\n",
       "      <td>36</td>\n",
       "      <td>georgedavis@gmail.com</td>\n",
       "      <td>+1-505-814-6022x697</td>\n",
       "    </tr>\n",
       "    <tr>\n",
       "      <th>1079</th>\n",
       "      <td>1080</td>\n",
       "      <td>Donald Lopez</td>\n",
       "      <td>Female</td>\n",
       "      <td>72</td>\n",
       "      <td>donaldlopez@gmail.com</td>\n",
       "      <td>001-700-947-7817x66876</td>\n",
       "    </tr>\n",
       "    <tr>\n",
       "      <th>1685</th>\n",
       "      <td>1686</td>\n",
       "      <td>Kenneth Choi</td>\n",
       "      <td>Female</td>\n",
       "      <td>78</td>\n",
       "      <td>kennethchoi@hotmail.com</td>\n",
       "      <td>9138812548</td>\n",
       "    </tr>\n",
       "    <tr>\n",
       "      <th>1744</th>\n",
       "      <td>1745</td>\n",
       "      <td>Denise Watkins</td>\n",
       "      <td>Male</td>\n",
       "      <td>75</td>\n",
       "      <td>denisewatkins@hotmail.com</td>\n",
       "      <td>410-981-6719</td>\n",
       "    </tr>\n",
       "    <tr>\n",
       "      <th>986</th>\n",
       "      <td>987</td>\n",
       "      <td>Nicolas Dunn</td>\n",
       "      <td>Female</td>\n",
       "      <td>52</td>\n",
       "      <td>nicolasdunn@gmail.com</td>\n",
       "      <td>001-261-669-9940</td>\n",
       "    </tr>\n",
       "    <tr>\n",
       "      <th>307</th>\n",
       "      <td>308</td>\n",
       "      <td>Tina Miller</td>\n",
       "      <td>Male</td>\n",
       "      <td>75</td>\n",
       "      <td>tinamiller@yahoo.com</td>\n",
       "      <td>+1-874-576-2940x72265</td>\n",
       "    </tr>\n",
       "    <tr>\n",
       "      <th>472</th>\n",
       "      <td>473</td>\n",
       "      <td>Wayne Pratt</td>\n",
       "      <td>Female</td>\n",
       "      <td>45</td>\n",
       "      <td>waynepratt@yahoo.com</td>\n",
       "      <td>+1-999-684-5909x638</td>\n",
       "    </tr>\n",
       "    <tr>\n",
       "      <th>902</th>\n",
       "      <td>903</td>\n",
       "      <td>Luke Hendricks</td>\n",
       "      <td>Female</td>\n",
       "      <td>76</td>\n",
       "      <td>lukehendricks@gmail.com</td>\n",
       "      <td>+1-660-581-4319</td>\n",
       "    </tr>\n",
       "  </tbody>\n",
       "</table>\n",
       "</div>"
      ],
      "text/plain": [
       "      owner_id               name  gender  age                         email  \\\n",
       "37          38       Miguel Jones  Female   49         migueljones@gmail.com   \n",
       "342        343  Nicole Fitzgerald  Female   44  nicolefitzgerald@hotmail.com   \n",
       "193        194       George Davis  Female   36         georgedavis@gmail.com   \n",
       "1079      1080       Donald Lopez  Female   72         donaldlopez@gmail.com   \n",
       "1685      1686       Kenneth Choi  Female   78       kennethchoi@hotmail.com   \n",
       "1744      1745     Denise Watkins    Male   75     denisewatkins@hotmail.com   \n",
       "986        987       Nicolas Dunn  Female   52         nicolasdunn@gmail.com   \n",
       "307        308        Tina Miller    Male   75          tinamiller@yahoo.com   \n",
       "472        473        Wayne Pratt  Female   45          waynepratt@yahoo.com   \n",
       "902        903     Luke Hendricks  Female   76       lukehendricks@gmail.com   \n",
       "\n",
       "                       phone  \n",
       "37             (898)709-9848  \n",
       "342     001-910-712-9598x887  \n",
       "193      +1-505-814-6022x697  \n",
       "1079  001-700-947-7817x66876  \n",
       "1685              9138812548  \n",
       "1744            410-981-6719  \n",
       "986         001-261-669-9940  \n",
       "307    +1-874-576-2940x72265  \n",
       "472      +1-999-684-5909x638  \n",
       "902          +1-660-581-4319  "
      ]
     },
     "execution_count": 32,
     "metadata": {},
     "output_type": "execute_result"
    }
   ],
   "source": [
    "owner_df = pd.read_csv(r\"owners.csv\")\n",
    "owner_df.sample(10)"
   ]
  },
  {
   "cell_type": "code",
   "execution_count": 33,
   "id": "dff97876",
   "metadata": {},
   "outputs": [
    {
     "name": "stdout",
     "output_type": "stream",
     "text": [
      "<class 'pandas.core.frame.DataFrame'>\n",
      "RangeIndex: 1755 entries, 0 to 1754\n",
      "Data columns (total 6 columns):\n",
      " #   Column    Non-Null Count  Dtype \n",
      "---  ------    --------------  ----- \n",
      " 0   owner_id  1755 non-null   int64 \n",
      " 1   name      1755 non-null   object\n",
      " 2   gender    1755 non-null   object\n",
      " 3   age       1755 non-null   int64 \n",
      " 4   email     1715 non-null   object\n",
      " 5   phone     1705 non-null   object\n",
      "dtypes: int64(2), object(4)\n",
      "memory usage: 82.4+ KB\n"
     ]
    }
   ],
   "source": [
    "owner_df.info()"
   ]
  },
  {
   "cell_type": "code",
   "execution_count": 34,
   "id": "0e551e08",
   "metadata": {},
   "outputs": [
    {
     "data": {
      "text/plain": [
       "np.int64(0)"
      ]
     },
     "execution_count": 34,
     "metadata": {},
     "output_type": "execute_result"
    }
   ],
   "source": [
    "owner_df.duplicated().sum()"
   ]
  },
  {
   "cell_type": "code",
   "execution_count": 35,
   "id": "b71c5cf8",
   "metadata": {},
   "outputs": [
    {
     "data": {
      "text/plain": [
       "\"\\nThere are no duplicate owners, but there are missing data in  phone numbers and email addresses.\\nSince I won't need them for the analysis, I'll drop these columns\\n\""
      ]
     },
     "execution_count": 35,
     "metadata": {},
     "output_type": "execute_result"
    }
   ],
   "source": [
    "\"\"\"\n",
    "There are no duplicate owners, but there are missing data in  phone numbers and email addresses.\n",
    "Since I won't need them for the analysis, I'll drop these columns\n",
    "\"\"\""
   ]
  },
  {
   "cell_type": "markdown",
   "id": "13a26dac",
   "metadata": {},
   "source": [
    "### Data Cleaning"
   ]
  },
  {
   "cell_type": "code",
   "execution_count": 36,
   "id": "53950eaa",
   "metadata": {},
   "outputs": [],
   "source": [
    "owner_df.drop(columns=[\"email\",\"phone\"],inplace=True)"
   ]
  },
  {
   "cell_type": "code",
   "execution_count": 37,
   "id": "616d5db3",
   "metadata": {},
   "outputs": [],
   "source": [
    "owner_df.to_csv(\"owner_clean.csv\",index=False)"
   ]
  },
  {
   "cell_type": "markdown",
   "id": "99e05135",
   "metadata": {},
   "source": [
    "### Descriptive Statistics & Group Insights"
   ]
  },
  {
   "cell_type": "code",
   "execution_count": 38,
   "id": "9c14ffa5",
   "metadata": {},
   "outputs": [
    {
     "data": {
      "text/html": [
       "<div>\n",
       "<style scoped>\n",
       "    .dataframe tbody tr th:only-of-type {\n",
       "        vertical-align: middle;\n",
       "    }\n",
       "\n",
       "    .dataframe tbody tr th {\n",
       "        vertical-align: top;\n",
       "    }\n",
       "\n",
       "    .dataframe thead th {\n",
       "        text-align: right;\n",
       "    }\n",
       "</style>\n",
       "<table border=\"1\" class=\"dataframe\">\n",
       "  <thead>\n",
       "    <tr style=\"text-align: right;\">\n",
       "      <th></th>\n",
       "      <th>owner_id</th>\n",
       "      <th>name</th>\n",
       "      <th>gender</th>\n",
       "      <th>age</th>\n",
       "    </tr>\n",
       "  </thead>\n",
       "  <tbody>\n",
       "    <tr>\n",
       "      <th>count</th>\n",
       "      <td>1755.000000</td>\n",
       "      <td>1755</td>\n",
       "      <td>1755</td>\n",
       "      <td>1755.000000</td>\n",
       "    </tr>\n",
       "    <tr>\n",
       "      <th>unique</th>\n",
       "      <td>NaN</td>\n",
       "      <td>1740</td>\n",
       "      <td>2</td>\n",
       "      <td>NaN</td>\n",
       "    </tr>\n",
       "    <tr>\n",
       "      <th>top</th>\n",
       "      <td>NaN</td>\n",
       "      <td>Thomas Jackson</td>\n",
       "      <td>Male</td>\n",
       "      <td>NaN</td>\n",
       "    </tr>\n",
       "    <tr>\n",
       "      <th>freq</th>\n",
       "      <td>NaN</td>\n",
       "      <td>3</td>\n",
       "      <td>908</td>\n",
       "      <td>NaN</td>\n",
       "    </tr>\n",
       "    <tr>\n",
       "      <th>mean</th>\n",
       "      <td>878.000000</td>\n",
       "      <td>NaN</td>\n",
       "      <td>NaN</td>\n",
       "      <td>55.156695</td>\n",
       "    </tr>\n",
       "    <tr>\n",
       "      <th>std</th>\n",
       "      <td>506.769178</td>\n",
       "      <td>NaN</td>\n",
       "      <td>NaN</td>\n",
       "      <td>14.487283</td>\n",
       "    </tr>\n",
       "    <tr>\n",
       "      <th>min</th>\n",
       "      <td>1.000000</td>\n",
       "      <td>NaN</td>\n",
       "      <td>NaN</td>\n",
       "      <td>30.000000</td>\n",
       "    </tr>\n",
       "    <tr>\n",
       "      <th>25%</th>\n",
       "      <td>439.500000</td>\n",
       "      <td>NaN</td>\n",
       "      <td>NaN</td>\n",
       "      <td>43.000000</td>\n",
       "    </tr>\n",
       "    <tr>\n",
       "      <th>50%</th>\n",
       "      <td>878.000000</td>\n",
       "      <td>NaN</td>\n",
       "      <td>NaN</td>\n",
       "      <td>56.000000</td>\n",
       "    </tr>\n",
       "    <tr>\n",
       "      <th>75%</th>\n",
       "      <td>1316.500000</td>\n",
       "      <td>NaN</td>\n",
       "      <td>NaN</td>\n",
       "      <td>68.000000</td>\n",
       "    </tr>\n",
       "    <tr>\n",
       "      <th>max</th>\n",
       "      <td>1755.000000</td>\n",
       "      <td>NaN</td>\n",
       "      <td>NaN</td>\n",
       "      <td>80.000000</td>\n",
       "    </tr>\n",
       "  </tbody>\n",
       "</table>\n",
       "</div>"
      ],
      "text/plain": [
       "           owner_id            name gender          age\n",
       "count   1755.000000            1755   1755  1755.000000\n",
       "unique          NaN            1740      2          NaN\n",
       "top             NaN  Thomas Jackson   Male          NaN\n",
       "freq            NaN               3    908          NaN\n",
       "mean     878.000000             NaN    NaN    55.156695\n",
       "std      506.769178             NaN    NaN    14.487283\n",
       "min        1.000000             NaN    NaN    30.000000\n",
       "25%      439.500000             NaN    NaN    43.000000\n",
       "50%      878.000000             NaN    NaN    56.000000\n",
       "75%     1316.500000             NaN    NaN    68.000000\n",
       "max     1755.000000             NaN    NaN    80.000000"
      ]
     },
     "execution_count": 38,
     "metadata": {},
     "output_type": "execute_result"
    }
   ],
   "source": [
    "owner_df.describe(include=\"all\")"
   ]
  },
  {
   "cell_type": "code",
   "execution_count": 39,
   "id": "69ce7a49",
   "metadata": {},
   "outputs": [
    {
     "data": {
      "text/plain": [
       "'\\nnumber of owners : 1755\\nmostely males,\\naged between 30-80 , with an avg of 56\\n'"
      ]
     },
     "execution_count": 39,
     "metadata": {},
     "output_type": "execute_result"
    }
   ],
   "source": [
    "\"\"\"\n",
    "number of owners : 1755\n",
    "mostely males,\n",
    "aged between 30-80 , with an avg of 56\n",
    "\"\"\""
   ]
  },
  {
   "cell_type": "markdown",
   "id": "f8bd430e",
   "metadata": {},
   "source": [
    "## Property Dataset"
   ]
  },
  {
   "cell_type": "markdown",
   "id": "a6544e86",
   "metadata": {},
   "source": [
    "### Load & Preview Data\n"
   ]
  },
  {
   "cell_type": "code",
   "execution_count": null,
   "id": "24b1a16f",
   "metadata": {},
   "outputs": [
    {
     "data": {
      "text/html": [
       "<div>\n",
       "<style scoped>\n",
       "    .dataframe tbody tr th:only-of-type {\n",
       "        vertical-align: middle;\n",
       "    }\n",
       "\n",
       "    .dataframe tbody tr th {\n",
       "        vertical-align: top;\n",
       "    }\n",
       "\n",
       "    .dataframe thead th {\n",
       "        text-align: right;\n",
       "    }\n",
       "</style>\n",
       "<table border=\"1\" class=\"dataframe\">\n",
       "  <thead>\n",
       "    <tr style=\"text-align: right;\">\n",
       "      <th></th>\n",
       "      <th>property_id</th>\n",
       "      <th>owner_id</th>\n",
       "      <th>property_manager_id</th>\n",
       "      <th>address_id</th>\n",
       "      <th>listing_date</th>\n",
       "      <th>property_type</th>\n",
       "      <th>rooms</th>\n",
       "      <th>bathrooms</th>\n",
       "      <th>parking</th>\n",
       "      <th>condition</th>\n",
       "      <th>listing_type</th>\n",
       "      <th>listing_price</th>\n",
       "    </tr>\n",
       "  </thead>\n",
       "  <tbody>\n",
       "    <tr>\n",
       "      <th>0</th>\n",
       "      <td>1</td>\n",
       "      <td>1360</td>\n",
       "      <td>33</td>\n",
       "      <td>1</td>\n",
       "      <td>5/9/2021</td>\n",
       "      <td>House</td>\n",
       "      <td>5</td>\n",
       "      <td>3</td>\n",
       "      <td>3</td>\n",
       "      <td>Good</td>\n",
       "      <td>Sale</td>\n",
       "      <td>482041</td>\n",
       "    </tr>\n",
       "    <tr>\n",
       "      <th>1</th>\n",
       "      <td>2</td>\n",
       "      <td>657</td>\n",
       "      <td>151</td>\n",
       "      <td>2</td>\n",
       "      <td>12/18/2024</td>\n",
       "      <td>Office</td>\n",
       "      <td>3</td>\n",
       "      <td>2</td>\n",
       "      <td>3</td>\n",
       "      <td>Fair</td>\n",
       "      <td>Rent</td>\n",
       "      <td>1987</td>\n",
       "    </tr>\n",
       "    <tr>\n",
       "      <th>2</th>\n",
       "      <td>3</td>\n",
       "      <td>206</td>\n",
       "      <td>183</td>\n",
       "      <td>3</td>\n",
       "      <td>10/26/2021</td>\n",
       "      <td>Studio</td>\n",
       "      <td>1</td>\n",
       "      <td>1</td>\n",
       "      <td>1</td>\n",
       "      <td>Fair</td>\n",
       "      <td>Rent</td>\n",
       "      <td>1228</td>\n",
       "    </tr>\n",
       "    <tr>\n",
       "      <th>3</th>\n",
       "      <td>4</td>\n",
       "      <td>1220</td>\n",
       "      <td>56</td>\n",
       "      <td>4</td>\n",
       "      <td>11/1/2024</td>\n",
       "      <td>Studio</td>\n",
       "      <td>1</td>\n",
       "      <td>1</td>\n",
       "      <td>1</td>\n",
       "      <td>Fair</td>\n",
       "      <td>Sale</td>\n",
       "      <td>105380</td>\n",
       "    </tr>\n",
       "    <tr>\n",
       "      <th>4</th>\n",
       "      <td>5</td>\n",
       "      <td>1269</td>\n",
       "      <td>142</td>\n",
       "      <td>5</td>\n",
       "      <td>11/12/2020</td>\n",
       "      <td>Apartment</td>\n",
       "      <td>2</td>\n",
       "      <td>1</td>\n",
       "      <td>1</td>\n",
       "      <td>Good</td>\n",
       "      <td>Rent</td>\n",
       "      <td>2026</td>\n",
       "    </tr>\n",
       "  </tbody>\n",
       "</table>\n",
       "</div>"
      ],
      "text/plain": [
       "   property_id  owner_id  property_manager_id  address_id listing_date  \\\n",
       "0            1      1360                   33           1     5/9/2021   \n",
       "1            2       657                  151           2   12/18/2024   \n",
       "2            3       206                  183           3   10/26/2021   \n",
       "3            4      1220                   56           4    11/1/2024   \n",
       "4            5      1269                  142           5   11/12/2020   \n",
       "\n",
       "  property_type  rooms  bathrooms  parking condition listing_type  \\\n",
       "0         House      5          3        3      Good         Sale   \n",
       "1        Office      3          2        3      Fair         Rent   \n",
       "2        Studio      1          1        1      Fair         Rent   \n",
       "3        Studio      1          1        1      Fair         Sale   \n",
       "4     Apartment      2          1        1      Good         Rent   \n",
       "\n",
       "   listing_price  \n",
       "0         482041  \n",
       "1           1987  \n",
       "2           1228  \n",
       "3         105380  \n",
       "4           2026  "
      ]
     },
     "execution_count": 40,
     "metadata": {},
     "output_type": "execute_result"
    }
   ],
   "source": [
    "property_df = pd.read_csv(r\"\\properties.csv\")\n",
    "property_df.head()"
   ]
  },
  {
   "cell_type": "code",
   "execution_count": 41,
   "id": "2fb88fb5",
   "metadata": {},
   "outputs": [
    {
     "name": "stdout",
     "output_type": "stream",
     "text": [
      "<class 'pandas.core.frame.DataFrame'>\n",
      "RangeIndex: 3000 entries, 0 to 2999\n",
      "Data columns (total 12 columns):\n",
      " #   Column               Non-Null Count  Dtype \n",
      "---  ------               --------------  ----- \n",
      " 0   property_id          3000 non-null   int64 \n",
      " 1   owner_id             3000 non-null   int64 \n",
      " 2   property_manager_id  3000 non-null   int64 \n",
      " 3   address_id           3000 non-null   int64 \n",
      " 4   listing_date         3000 non-null   object\n",
      " 5   property_type        3000 non-null   object\n",
      " 6   rooms                3000 non-null   int64 \n",
      " 7   bathrooms            3000 non-null   int64 \n",
      " 8   parking              3000 non-null   int64 \n",
      " 9   condition            3000 non-null   object\n",
      " 10  listing_type         3000 non-null   object\n",
      " 11  listing_price        3000 non-null   int64 \n",
      "dtypes: int64(8), object(4)\n",
      "memory usage: 281.4+ KB\n"
     ]
    }
   ],
   "source": [
    "property_df.info()"
   ]
  },
  {
   "cell_type": "code",
   "execution_count": 42,
   "id": "e6f329ee",
   "metadata": {},
   "outputs": [
    {
     "data": {
      "text/plain": [
       "np.int64(0)"
      ]
     },
     "execution_count": 42,
     "metadata": {},
     "output_type": "execute_result"
    }
   ],
   "source": [
    "property_df.duplicated().sum()\n"
   ]
  },
  {
   "cell_type": "markdown",
   "id": "f80afdff",
   "metadata": {},
   "source": [
    "### Data Cleaning"
   ]
  },
  {
   "cell_type": "code",
   "execution_count": 43,
   "id": "0bc6a116",
   "metadata": {},
   "outputs": [],
   "source": [
    "property_df[\"listing_date\"]=pd.to_datetime(property_df[\"listing_date\"])"
   ]
  },
  {
   "cell_type": "code",
   "execution_count": 44,
   "id": "e4dc8d2d",
   "metadata": {},
   "outputs": [],
   "source": [
    "property_df.to_csv(\"properties_clean.csv\",index=False)"
   ]
  },
  {
   "cell_type": "markdown",
   "id": "532c37ad",
   "metadata": {},
   "source": [
    "### Descriptive Statistics & Group Insights"
   ]
  },
  {
   "cell_type": "code",
   "execution_count": 45,
   "id": "27033835",
   "metadata": {},
   "outputs": [],
   "source": [
    "pd.set_option('display.float_format', '{:,}'.format)"
   ]
  },
  {
   "cell_type": "code",
   "execution_count": 46,
   "id": "8263a4d0",
   "metadata": {},
   "outputs": [
    {
     "data": {
      "text/html": [
       "<div>\n",
       "<style scoped>\n",
       "    .dataframe tbody tr th:only-of-type {\n",
       "        vertical-align: middle;\n",
       "    }\n",
       "\n",
       "    .dataframe tbody tr th {\n",
       "        vertical-align: top;\n",
       "    }\n",
       "\n",
       "    .dataframe thead th {\n",
       "        text-align: right;\n",
       "    }\n",
       "</style>\n",
       "<table border=\"1\" class=\"dataframe\">\n",
       "  <thead>\n",
       "    <tr style=\"text-align: right;\">\n",
       "      <th></th>\n",
       "      <th>property_id</th>\n",
       "      <th>owner_id</th>\n",
       "      <th>property_manager_id</th>\n",
       "      <th>address_id</th>\n",
       "      <th>listing_date</th>\n",
       "      <th>property_type</th>\n",
       "      <th>rooms</th>\n",
       "      <th>bathrooms</th>\n",
       "      <th>parking</th>\n",
       "      <th>condition</th>\n",
       "      <th>listing_type</th>\n",
       "      <th>listing_price</th>\n",
       "    </tr>\n",
       "  </thead>\n",
       "  <tbody>\n",
       "    <tr>\n",
       "      <th>count</th>\n",
       "      <td>3,000.0</td>\n",
       "      <td>3,000.0</td>\n",
       "      <td>3,000.0</td>\n",
       "      <td>3,000.0</td>\n",
       "      <td>3000</td>\n",
       "      <td>3000</td>\n",
       "      <td>3,000.0</td>\n",
       "      <td>3,000.0</td>\n",
       "      <td>3,000.0</td>\n",
       "      <td>3000</td>\n",
       "      <td>3000</td>\n",
       "      <td>3,000.0</td>\n",
       "    </tr>\n",
       "    <tr>\n",
       "      <th>unique</th>\n",
       "      <td>NaN</td>\n",
       "      <td>NaN</td>\n",
       "      <td>NaN</td>\n",
       "      <td>NaN</td>\n",
       "      <td>NaN</td>\n",
       "      <td>5</td>\n",
       "      <td>NaN</td>\n",
       "      <td>NaN</td>\n",
       "      <td>NaN</td>\n",
       "      <td>3</td>\n",
       "      <td>2</td>\n",
       "      <td>NaN</td>\n",
       "    </tr>\n",
       "    <tr>\n",
       "      <th>top</th>\n",
       "      <td>NaN</td>\n",
       "      <td>NaN</td>\n",
       "      <td>NaN</td>\n",
       "      <td>NaN</td>\n",
       "      <td>NaN</td>\n",
       "      <td>Studio</td>\n",
       "      <td>NaN</td>\n",
       "      <td>NaN</td>\n",
       "      <td>NaN</td>\n",
       "      <td>Good</td>\n",
       "      <td>Sale</td>\n",
       "      <td>NaN</td>\n",
       "    </tr>\n",
       "    <tr>\n",
       "      <th>freq</th>\n",
       "      <td>NaN</td>\n",
       "      <td>NaN</td>\n",
       "      <td>NaN</td>\n",
       "      <td>NaN</td>\n",
       "      <td>NaN</td>\n",
       "      <td>618</td>\n",
       "      <td>NaN</td>\n",
       "      <td>NaN</td>\n",
       "      <td>NaN</td>\n",
       "      <td>1804</td>\n",
       "      <td>1645</td>\n",
       "      <td>NaN</td>\n",
       "    </tr>\n",
       "    <tr>\n",
       "      <th>mean</th>\n",
       "      <td>1,500.5</td>\n",
       "      <td>874.643</td>\n",
       "      <td>128.806</td>\n",
       "      <td>1,500.5</td>\n",
       "      <td>2022-06-13 07:19:40.800000</td>\n",
       "      <td>NaN</td>\n",
       "      <td>3.6016666666666666</td>\n",
       "      <td>2.5286666666666666</td>\n",
       "      <td>1.537</td>\n",
       "      <td>NaN</td>\n",
       "      <td>NaN</td>\n",
       "      <td>258,386.37833333333</td>\n",
       "    </tr>\n",
       "    <tr>\n",
       "      <th>min</th>\n",
       "      <td>1.0</td>\n",
       "      <td>1.0</td>\n",
       "      <td>8.0</td>\n",
       "      <td>1.0</td>\n",
       "      <td>2020-01-01 00:00:00</td>\n",
       "      <td>NaN</td>\n",
       "      <td>1.0</td>\n",
       "      <td>1.0</td>\n",
       "      <td>0.0</td>\n",
       "      <td>NaN</td>\n",
       "      <td>NaN</td>\n",
       "      <td>977.0</td>\n",
       "    </tr>\n",
       "    <tr>\n",
       "      <th>25%</th>\n",
       "      <td>750.75</td>\n",
       "      <td>429.75</td>\n",
       "      <td>68.0</td>\n",
       "      <td>750.75</td>\n",
       "      <td>2021-03-18 00:00:00</td>\n",
       "      <td>NaN</td>\n",
       "      <td>2.0</td>\n",
       "      <td>1.0</td>\n",
       "      <td>1.0</td>\n",
       "      <td>NaN</td>\n",
       "      <td>NaN</td>\n",
       "      <td>3,887.75</td>\n",
       "    </tr>\n",
       "    <tr>\n",
       "      <th>50%</th>\n",
       "      <td>1,500.5</td>\n",
       "      <td>880.0</td>\n",
       "      <td>137.0</td>\n",
       "      <td>1,500.5</td>\n",
       "      <td>2022-05-31 12:00:00</td>\n",
       "      <td>NaN</td>\n",
       "      <td>3.0</td>\n",
       "      <td>2.0</td>\n",
       "      <td>2.0</td>\n",
       "      <td>NaN</td>\n",
       "      <td>NaN</td>\n",
       "      <td>140,503.0</td>\n",
       "    </tr>\n",
       "    <tr>\n",
       "      <th>75%</th>\n",
       "      <td>2,250.25</td>\n",
       "      <td>1,323.0</td>\n",
       "      <td>178.0</td>\n",
       "      <td>2,250.25</td>\n",
       "      <td>2023-08-25 06:00:00</td>\n",
       "      <td>NaN</td>\n",
       "      <td>5.0</td>\n",
       "      <td>3.0</td>\n",
       "      <td>3.0</td>\n",
       "      <td>NaN</td>\n",
       "      <td>NaN</td>\n",
       "      <td>323,591.75</td>\n",
       "    </tr>\n",
       "    <tr>\n",
       "      <th>max</th>\n",
       "      <td>3,000.0</td>\n",
       "      <td>1,755.0</td>\n",
       "      <td>250.0</td>\n",
       "      <td>3,000.0</td>\n",
       "      <td>2024-12-30 00:00:00</td>\n",
       "      <td>NaN</td>\n",
       "      <td>8.0</td>\n",
       "      <td>6.0</td>\n",
       "      <td>3.0</td>\n",
       "      <td>NaN</td>\n",
       "      <td>NaN</td>\n",
       "      <td>2,098,160.0</td>\n",
       "    </tr>\n",
       "    <tr>\n",
       "      <th>std</th>\n",
       "      <td>866.1697293256098</td>\n",
       "      <td>513.4699277204307</td>\n",
       "      <td>70.09039819147517</td>\n",
       "      <td>866.1697293256098</td>\n",
       "      <td>NaN</td>\n",
       "      <td>NaN</td>\n",
       "      <td>1.8815358836110443</td>\n",
       "      <td>1.4356875083954759</td>\n",
       "      <td>1.1173094737597924</td>\n",
       "      <td>NaN</td>\n",
       "      <td>NaN</td>\n",
       "      <td>369,593.40721055487</td>\n",
       "    </tr>\n",
       "  </tbody>\n",
       "</table>\n",
       "</div>"
      ],
      "text/plain": [
       "             property_id          owner_id  property_manager_id  \\\n",
       "count            3,000.0           3,000.0              3,000.0   \n",
       "unique               NaN               NaN                  NaN   \n",
       "top                  NaN               NaN                  NaN   \n",
       "freq                 NaN               NaN                  NaN   \n",
       "mean             1,500.5           874.643              128.806   \n",
       "min                  1.0               1.0                  8.0   \n",
       "25%               750.75            429.75                 68.0   \n",
       "50%              1,500.5             880.0                137.0   \n",
       "75%             2,250.25           1,323.0                178.0   \n",
       "max              3,000.0           1,755.0                250.0   \n",
       "std    866.1697293256098 513.4699277204307    70.09039819147517   \n",
       "\n",
       "              address_id                listing_date property_type  \\\n",
       "count            3,000.0                        3000          3000   \n",
       "unique               NaN                         NaN             5   \n",
       "top                  NaN                         NaN        Studio   \n",
       "freq                 NaN                         NaN           618   \n",
       "mean             1,500.5  2022-06-13 07:19:40.800000           NaN   \n",
       "min                  1.0         2020-01-01 00:00:00           NaN   \n",
       "25%               750.75         2021-03-18 00:00:00           NaN   \n",
       "50%              1,500.5         2022-05-31 12:00:00           NaN   \n",
       "75%             2,250.25         2023-08-25 06:00:00           NaN   \n",
       "max              3,000.0         2024-12-30 00:00:00           NaN   \n",
       "std    866.1697293256098                         NaN           NaN   \n",
       "\n",
       "                    rooms          bathrooms            parking condition  \\\n",
       "count             3,000.0            3,000.0            3,000.0      3000   \n",
       "unique                NaN                NaN                NaN         3   \n",
       "top                   NaN                NaN                NaN      Good   \n",
       "freq                  NaN                NaN                NaN      1804   \n",
       "mean   3.6016666666666666 2.5286666666666666              1.537       NaN   \n",
       "min                   1.0                1.0                0.0       NaN   \n",
       "25%                   2.0                1.0                1.0       NaN   \n",
       "50%                   3.0                2.0                2.0       NaN   \n",
       "75%                   5.0                3.0                3.0       NaN   \n",
       "max                   8.0                6.0                3.0       NaN   \n",
       "std    1.8815358836110443 1.4356875083954759 1.1173094737597924       NaN   \n",
       "\n",
       "       listing_type       listing_price  \n",
       "count          3000             3,000.0  \n",
       "unique            2                 NaN  \n",
       "top            Sale                 NaN  \n",
       "freq           1645                 NaN  \n",
       "mean            NaN 258,386.37833333333  \n",
       "min             NaN               977.0  \n",
       "25%             NaN            3,887.75  \n",
       "50%             NaN           140,503.0  \n",
       "75%             NaN          323,591.75  \n",
       "max             NaN         2,098,160.0  \n",
       "std             NaN 369,593.40721055487  "
      ]
     },
     "execution_count": 46,
     "metadata": {},
     "output_type": "execute_result"
    }
   ],
   "source": [
    "property_df.describe(include=\"all\")\n"
   ]
  },
  {
   "cell_type": "code",
   "execution_count": 47,
   "id": "19fead1c",
   "metadata": {},
   "outputs": [
    {
     "data": {
      "text/plain": [
       "listing_type\n",
       "Sale    1645\n",
       "Rent    1355\n",
       "Name: count, dtype: int64"
      ]
     },
     "execution_count": 47,
     "metadata": {},
     "output_type": "execute_result"
    }
   ],
   "source": [
    "property_df[\"listing_type\"].value_counts()\n"
   ]
  },
  {
   "cell_type": "code",
   "execution_count": 48,
   "id": "7d0a9889",
   "metadata": {},
   "outputs": [
    {
     "data": {
      "text/plain": [
       "'\\nnumber of listing properties : 3,000\\nmostely are good condition, and Studio\\nthe  highest proportion is for sale \\nprieced between 3,887 - 323,591 , with an avg of 140,503      note (if lsting type is rent  -->  price per mounth)\\nthe  highest price is 2,098,160**\\n'"
      ]
     },
     "execution_count": 48,
     "metadata": {},
     "output_type": "execute_result"
    }
   ],
   "source": [
    "\"\"\"\n",
    "number of listing properties : 3,000\n",
    "mostely are good condition, and Studio\n",
    "the  highest proportion is for sale \n",
    "prieced between 3,887 - 323,591 , with an avg of 140,503      note (if lsting type is rent  -->  price per mounth)\n",
    "the  highest price is 2,098,160**\n",
    "\"\"\""
   ]
  },
  {
   "cell_type": "markdown",
   "id": "17710faa",
   "metadata": {},
   "source": [
    "### Data Visualization"
   ]
  },
  {
   "cell_type": "code",
   "execution_count": 49,
   "id": "e1f144e0",
   "metadata": {},
   "outputs": [
    {
     "data": {
      "application/vnd.plotly.v1+json": {
       "config": {
        "plotlyServerURL": "https://plot.ly"
       },
       "data": [
        {
         "alignmentgroup": "True",
         "hovertemplate": "Listing Type=%{x}<br>listing_price=%{y}<extra></extra>",
         "legendgroup": "Sale",
         "marker": {
          "color": "#636efa"
         },
         "name": "Sale",
         "notched": false,
         "offsetgroup": "Sale",
         "orientation": "v",
         "showlegend": true,
         "type": "box",
         "x": [
          "Sale",
          "Sale",
          "Sale",
          "Sale",
          "Sale",
          "Sale",
          "Sale",
          "Sale",
          "Sale",
          "Sale",
          "Sale",
          "Sale",
          "Sale",
          "Sale",
          "Sale",
          "Sale",
          "Sale",
          "Sale",
          "Sale",
          "Sale",
          "Sale",
          "Sale",
          "Sale",
          "Sale",
          "Sale",
          "Sale",
          "Sale",
          "Sale",
          "Sale",
          "Sale",
          "Sale",
          "Sale",
          "Sale",
          "Sale",
          "Sale",
          "Sale",
          "Sale",
          "Sale",
          "Sale",
          "Sale",
          "Sale",
          "Sale",
          "Sale",
          "Sale",
          "Sale",
          "Sale",
          "Sale",
          "Sale",
          "Sale",
          "Sale",
          "Sale",
          "Sale",
          "Sale",
          "Sale",
          "Sale",
          "Sale",
          "Sale",
          "Sale",
          "Sale",
          "Sale",
          "Sale",
          "Sale",
          "Sale",
          "Sale",
          "Sale",
          "Sale",
          "Sale",
          "Sale",
          "Sale",
          "Sale",
          "Sale",
          "Sale",
          "Sale",
          "Sale",
          "Sale",
          "Sale",
          "Sale",
          "Sale",
          "Sale",
          "Sale",
          "Sale",
          "Sale",
          "Sale",
          "Sale",
          "Sale",
          "Sale",
          "Sale",
          "Sale",
          "Sale",
          "Sale",
          "Sale",
          "Sale",
          "Sale",
          "Sale",
          "Sale",
          "Sale",
          "Sale",
          "Sale",
          "Sale",
          "Sale",
          "Sale",
          "Sale",
          "Sale",
          "Sale",
          "Sale",
          "Sale",
          "Sale",
          "Sale",
          "Sale",
          "Sale",
          "Sale",
          "Sale",
          "Sale",
          "Sale",
          "Sale",
          "Sale",
          "Sale",
          "Sale",
          "Sale",
          "Sale",
          "Sale",
          "Sale",
          "Sale",
          "Sale",
          "Sale",
          "Sale",
          "Sale",
          "Sale",
          "Sale",
          "Sale",
          "Sale",
          "Sale",
          "Sale",
          "Sale",
          "Sale",
          "Sale",
          "Sale",
          "Sale",
          "Sale",
          "Sale",
          "Sale",
          "Sale",
          "Sale",
          "Sale",
          "Sale",
          "Sale",
          "Sale",
          "Sale",
          "Sale",
          "Sale",
          "Sale",
          "Sale",
          "Sale",
          "Sale",
          "Sale",
          "Sale",
          "Sale",
          "Sale",
          "Sale",
          "Sale",
          "Sale",
          "Sale",
          "Sale",
          "Sale",
          "Sale",
          "Sale",
          "Sale",
          "Sale",
          "Sale",
          "Sale",
          "Sale",
          "Sale",
          "Sale",
          "Sale",
          "Sale",
          "Sale",
          "Sale",
          "Sale",
          "Sale",
          "Sale",
          "Sale",
          "Sale",
          "Sale",
          "Sale",
          "Sale",
          "Sale",
          "Sale",
          "Sale",
          "Sale",
          "Sale",
          "Sale",
          "Sale",
          "Sale",
          "Sale",
          "Sale",
          "Sale",
          "Sale",
          "Sale",
          "Sale",
          "Sale",
          "Sale",
          "Sale",
          "Sale",
          "Sale",
          "Sale",
          "Sale",
          "Sale",
          "Sale",
          "Sale",
          "Sale",
          "Sale",
          "Sale",
          "Sale",
          "Sale",
          "Sale",
          "Sale",
          "Sale",
          "Sale",
          "Sale",
          "Sale",
          "Sale",
          "Sale",
          "Sale",
          "Sale",
          "Sale",
          "Sale",
          "Sale",
          "Sale",
          "Sale",
          "Sale",
          "Sale",
          "Sale",
          "Sale",
          "Sale",
          "Sale",
          "Sale",
          "Sale",
          "Sale",
          "Sale",
          "Sale",
          "Sale",
          "Sale",
          "Sale",
          "Sale",
          "Sale",
          "Sale",
          "Sale",
          "Sale",
          "Sale",
          "Sale",
          "Sale",
          "Sale",
          "Sale",
          "Sale",
          "Sale",
          "Sale",
          "Sale",
          "Sale",
          "Sale",
          "Sale",
          "Sale",
          "Sale",
          "Sale",
          "Sale",
          "Sale",
          "Sale",
          "Sale",
          "Sale",
          "Sale",
          "Sale",
          "Sale",
          "Sale",
          "Sale",
          "Sale",
          "Sale",
          "Sale",
          "Sale",
          "Sale",
          "Sale",
          "Sale",
          "Sale",
          "Sale",
          "Sale",
          "Sale",
          "Sale",
          "Sale",
          "Sale",
          "Sale",
          "Sale",
          "Sale",
          "Sale",
          "Sale",
          "Sale",
          "Sale",
          "Sale",
          "Sale",
          "Sale",
          "Sale",
          "Sale",
          "Sale",
          "Sale",
          "Sale",
          "Sale",
          "Sale",
          "Sale",
          "Sale",
          "Sale",
          "Sale",
          "Sale",
          "Sale",
          "Sale",
          "Sale",
          "Sale",
          "Sale",
          "Sale",
          "Sale",
          "Sale",
          "Sale",
          "Sale",
          "Sale",
          "Sale",
          "Sale",
          "Sale",
          "Sale",
          "Sale",
          "Sale",
          "Sale",
          "Sale",
          "Sale",
          "Sale",
          "Sale",
          "Sale",
          "Sale",
          "Sale",
          "Sale",
          "Sale",
          "Sale",
          "Sale",
          "Sale",
          "Sale",
          "Sale",
          "Sale",
          "Sale",
          "Sale",
          "Sale",
          "Sale",
          "Sale",
          "Sale",
          "Sale",
          "Sale",
          "Sale",
          "Sale",
          "Sale",
          "Sale",
          "Sale",
          "Sale",
          "Sale",
          "Sale",
          "Sale",
          "Sale",
          "Sale",
          "Sale",
          "Sale",
          "Sale",
          "Sale",
          "Sale",
          "Sale",
          "Sale",
          "Sale",
          "Sale",
          "Sale",
          "Sale",
          "Sale",
          "Sale",
          "Sale",
          "Sale",
          "Sale",
          "Sale",
          "Sale",
          "Sale",
          "Sale",
          "Sale",
          "Sale",
          "Sale",
          "Sale",
          "Sale",
          "Sale",
          "Sale",
          "Sale",
          "Sale",
          "Sale",
          "Sale",
          "Sale",
          "Sale",
          "Sale",
          "Sale",
          "Sale",
          "Sale",
          "Sale",
          "Sale",
          "Sale",
          "Sale",
          "Sale",
          "Sale",
          "Sale",
          "Sale",
          "Sale",
          "Sale",
          "Sale",
          "Sale",
          "Sale",
          "Sale",
          "Sale",
          "Sale",
          "Sale",
          "Sale",
          "Sale",
          "Sale",
          "Sale",
          "Sale",
          "Sale",
          "Sale",
          "Sale",
          "Sale",
          "Sale",
          "Sale",
          "Sale",
          "Sale",
          "Sale",
          "Sale",
          "Sale",
          "Sale",
          "Sale",
          "Sale",
          "Sale",
          "Sale",
          "Sale",
          "Sale",
          "Sale",
          "Sale",
          "Sale",
          "Sale",
          "Sale",
          "Sale",
          "Sale",
          "Sale",
          "Sale",
          "Sale",
          "Sale",
          "Sale",
          "Sale",
          "Sale",
          "Sale",
          "Sale",
          "Sale",
          "Sale",
          "Sale",
          "Sale",
          "Sale",
          "Sale",
          "Sale",
          "Sale",
          "Sale",
          "Sale",
          "Sale",
          "Sale",
          "Sale",
          "Sale",
          "Sale",
          "Sale",
          "Sale",
          "Sale",
          "Sale",
          "Sale",
          "Sale",
          "Sale",
          "Sale",
          "Sale",
          "Sale",
          "Sale",
          "Sale",
          "Sale",
          "Sale",
          "Sale",
          "Sale",
          "Sale",
          "Sale",
          "Sale",
          "Sale",
          "Sale",
          "Sale",
          "Sale",
          "Sale",
          "Sale",
          "Sale",
          "Sale",
          "Sale",
          "Sale",
          "Sale",
          "Sale",
          "Sale",
          "Sale",
          "Sale",
          "Sale",
          "Sale",
          "Sale",
          "Sale",
          "Sale",
          "Sale",
          "Sale",
          "Sale",
          "Sale",
          "Sale",
          "Sale",
          "Sale",
          "Sale",
          "Sale",
          "Sale",
          "Sale",
          "Sale",
          "Sale",
          "Sale",
          "Sale",
          "Sale",
          "Sale",
          "Sale",
          "Sale",
          "Sale",
          "Sale",
          "Sale",
          "Sale",
          "Sale",
          "Sale",
          "Sale",
          "Sale",
          "Sale",
          "Sale",
          "Sale",
          "Sale",
          "Sale",
          "Sale",
          "Sale",
          "Sale",
          "Sale",
          "Sale",
          "Sale",
          "Sale",
          "Sale",
          "Sale",
          "Sale",
          "Sale",
          "Sale",
          "Sale",
          "Sale",
          "Sale",
          "Sale",
          "Sale",
          "Sale",
          "Sale",
          "Sale",
          "Sale",
          "Sale",
          "Sale",
          "Sale",
          "Sale",
          "Sale",
          "Sale",
          "Sale",
          "Sale",
          "Sale",
          "Sale",
          "Sale",
          "Sale",
          "Sale",
          "Sale",
          "Sale",
          "Sale",
          "Sale",
          "Sale",
          "Sale",
          "Sale",
          "Sale",
          "Sale",
          "Sale",
          "Sale",
          "Sale",
          "Sale",
          "Sale",
          "Sale",
          "Sale",
          "Sale",
          "Sale",
          "Sale",
          "Sale",
          "Sale",
          "Sale",
          "Sale",
          "Sale",
          "Sale",
          "Sale",
          "Sale",
          "Sale",
          "Sale",
          "Sale",
          "Sale",
          "Sale",
          "Sale",
          "Sale",
          "Sale",
          "Sale",
          "Sale",
          "Sale",
          "Sale",
          "Sale",
          "Sale",
          "Sale",
          "Sale",
          "Sale",
          "Sale",
          "Sale",
          "Sale",
          "Sale",
          "Sale",
          "Sale",
          "Sale",
          "Sale",
          "Sale",
          "Sale",
          "Sale",
          "Sale",
          "Sale",
          "Sale",
          "Sale",
          "Sale",
          "Sale",
          "Sale",
          "Sale",
          "Sale",
          "Sale",
          "Sale",
          "Sale",
          "Sale",
          "Sale",
          "Sale",
          "Sale",
          "Sale",
          "Sale",
          "Sale",
          "Sale",
          "Sale",
          "Sale",
          "Sale",
          "Sale",
          "Sale",
          "Sale",
          "Sale",
          "Sale",
          "Sale",
          "Sale",
          "Sale",
          "Sale",
          "Sale",
          "Sale",
          "Sale",
          "Sale",
          "Sale",
          "Sale",
          "Sale",
          "Sale",
          "Sale",
          "Sale",
          "Sale",
          "Sale",
          "Sale",
          "Sale",
          "Sale",
          "Sale",
          "Sale",
          "Sale",
          "Sale",
          "Sale",
          "Sale",
          "Sale",
          "Sale",
          "Sale",
          "Sale",
          "Sale",
          "Sale",
          "Sale",
          "Sale",
          "Sale",
          "Sale",
          "Sale",
          "Sale",
          "Sale",
          "Sale",
          "Sale",
          "Sale",
          "Sale",
          "Sale",
          "Sale",
          "Sale",
          "Sale",
          "Sale",
          "Sale",
          "Sale",
          "Sale",
          "Sale",
          "Sale",
          "Sale",
          "Sale",
          "Sale",
          "Sale",
          "Sale",
          "Sale",
          "Sale",
          "Sale",
          "Sale",
          "Sale",
          "Sale",
          "Sale",
          "Sale",
          "Sale",
          "Sale",
          "Sale",
          "Sale",
          "Sale",
          "Sale",
          "Sale",
          "Sale",
          "Sale",
          "Sale",
          "Sale",
          "Sale",
          "Sale",
          "Sale",
          "Sale",
          "Sale",
          "Sale",
          "Sale",
          "Sale",
          "Sale",
          "Sale",
          "Sale",
          "Sale",
          "Sale",
          "Sale",
          "Sale",
          "Sale",
          "Sale",
          "Sale",
          "Sale",
          "Sale",
          "Sale",
          "Sale",
          "Sale",
          "Sale",
          "Sale",
          "Sale",
          "Sale",
          "Sale",
          "Sale",
          "Sale",
          "Sale",
          "Sale",
          "Sale",
          "Sale",
          "Sale",
          "Sale",
          "Sale",
          "Sale",
          "Sale",
          "Sale",
          "Sale",
          "Sale",
          "Sale",
          "Sale",
          "Sale",
          "Sale",
          "Sale",
          "Sale",
          "Sale",
          "Sale",
          "Sale",
          "Sale",
          "Sale",
          "Sale",
          "Sale",
          "Sale",
          "Sale",
          "Sale",
          "Sale",
          "Sale",
          "Sale",
          "Sale",
          "Sale",
          "Sale",
          "Sale",
          "Sale",
          "Sale",
          "Sale",
          "Sale",
          "Sale",
          "Sale",
          "Sale",
          "Sale",
          "Sale",
          "Sale",
          "Sale",
          "Sale",
          "Sale",
          "Sale",
          "Sale",
          "Sale",
          "Sale",
          "Sale",
          "Sale",
          "Sale",
          "Sale",
          "Sale",
          "Sale",
          "Sale",
          "Sale",
          "Sale",
          "Sale",
          "Sale",
          "Sale",
          "Sale",
          "Sale",
          "Sale",
          "Sale",
          "Sale",
          "Sale",
          "Sale",
          "Sale",
          "Sale",
          "Sale",
          "Sale",
          "Sale",
          "Sale",
          "Sale",
          "Sale",
          "Sale",
          "Sale",
          "Sale",
          "Sale",
          "Sale",
          "Sale",
          "Sale",
          "Sale",
          "Sale",
          "Sale",
          "Sale",
          "Sale",
          "Sale",
          "Sale",
          "Sale",
          "Sale",
          "Sale",
          "Sale",
          "Sale",
          "Sale",
          "Sale",
          "Sale",
          "Sale",
          "Sale",
          "Sale",
          "Sale",
          "Sale",
          "Sale",
          "Sale",
          "Sale",
          "Sale",
          "Sale",
          "Sale",
          "Sale",
          "Sale",
          "Sale",
          "Sale",
          "Sale",
          "Sale",
          "Sale",
          "Sale",
          "Sale",
          "Sale",
          "Sale",
          "Sale",
          "Sale",
          "Sale",
          "Sale",
          "Sale",
          "Sale",
          "Sale",
          "Sale",
          "Sale",
          "Sale",
          "Sale",
          "Sale",
          "Sale",
          "Sale",
          "Sale",
          "Sale",
          "Sale",
          "Sale",
          "Sale",
          "Sale",
          "Sale",
          "Sale",
          "Sale",
          "Sale",
          "Sale",
          "Sale",
          "Sale",
          "Sale",
          "Sale",
          "Sale",
          "Sale",
          "Sale",
          "Sale",
          "Sale",
          "Sale",
          "Sale",
          "Sale",
          "Sale",
          "Sale",
          "Sale",
          "Sale",
          "Sale",
          "Sale",
          "Sale",
          "Sale",
          "Sale",
          "Sale",
          "Sale",
          "Sale",
          "Sale",
          "Sale",
          "Sale",
          "Sale",
          "Sale",
          "Sale",
          "Sale",
          "Sale",
          "Sale",
          "Sale",
          "Sale",
          "Sale",
          "Sale",
          "Sale",
          "Sale",
          "Sale",
          "Sale",
          "Sale",
          "Sale",
          "Sale",
          "Sale",
          "Sale",
          "Sale",
          "Sale",
          "Sale",
          "Sale",
          "Sale",
          "Sale",
          "Sale",
          "Sale",
          "Sale",
          "Sale",
          "Sale",
          "Sale",
          "Sale",
          "Sale",
          "Sale",
          "Sale",
          "Sale",
          "Sale",
          "Sale",
          "Sale",
          "Sale",
          "Sale",
          "Sale",
          "Sale",
          "Sale",
          "Sale",
          "Sale",
          "Sale",
          "Sale",
          "Sale",
          "Sale",
          "Sale",
          "Sale",
          "Sale",
          "Sale",
          "Sale",
          "Sale",
          "Sale",
          "Sale",
          "Sale",
          "Sale",
          "Sale",
          "Sale",
          "Sale",
          "Sale",
          "Sale",
          "Sale",
          "Sale",
          "Sale",
          "Sale",
          "Sale",
          "Sale",
          "Sale",
          "Sale",
          "Sale",
          "Sale",
          "Sale",
          "Sale",
          "Sale",
          "Sale",
          "Sale",
          "Sale",
          "Sale",
          "Sale",
          "Sale",
          "Sale",
          "Sale",
          "Sale",
          "Sale",
          "Sale",
          "Sale",
          "Sale",
          "Sale",
          "Sale",
          "Sale",
          "Sale",
          "Sale",
          "Sale",
          "Sale",
          "Sale",
          "Sale",
          "Sale",
          "Sale",
          "Sale",
          "Sale",
          "Sale",
          "Sale",
          "Sale",
          "Sale",
          "Sale",
          "Sale",
          "Sale",
          "Sale",
          "Sale",
          "Sale",
          "Sale",
          "Sale",
          "Sale",
          "Sale",
          "Sale",
          "Sale",
          "Sale",
          "Sale",
          "Sale",
          "Sale",
          "Sale",
          "Sale",
          "Sale",
          "Sale",
          "Sale",
          "Sale",
          "Sale",
          "Sale",
          "Sale",
          "Sale",
          "Sale",
          "Sale",
          "Sale",
          "Sale",
          "Sale",
          "Sale",
          "Sale",
          "Sale",
          "Sale",
          "Sale",
          "Sale",
          "Sale",
          "Sale",
          "Sale",
          "Sale",
          "Sale",
          "Sale",
          "Sale",
          "Sale",
          "Sale",
          "Sale",
          "Sale",
          "Sale",
          "Sale",
          "Sale",
          "Sale",
          "Sale",
          "Sale",
          "Sale",
          "Sale",
          "Sale",
          "Sale",
          "Sale",
          "Sale",
          "Sale",
          "Sale",
          "Sale",
          "Sale",
          "Sale",
          "Sale",
          "Sale",
          "Sale",
          "Sale",
          "Sale",
          "Sale",
          "Sale",
          "Sale",
          "Sale",
          "Sale",
          "Sale",
          "Sale",
          "Sale",
          "Sale",
          "Sale",
          "Sale",
          "Sale",
          "Sale",
          "Sale",
          "Sale",
          "Sale",
          "Sale",
          "Sale",
          "Sale",
          "Sale",
          "Sale",
          "Sale",
          "Sale",
          "Sale",
          "Sale",
          "Sale",
          "Sale",
          "Sale",
          "Sale",
          "Sale",
          "Sale",
          "Sale",
          "Sale",
          "Sale",
          "Sale",
          "Sale",
          "Sale",
          "Sale",
          "Sale",
          "Sale",
          "Sale",
          "Sale",
          "Sale",
          "Sale",
          "Sale",
          "Sale",
          "Sale",
          "Sale",
          "Sale",
          "Sale",
          "Sale",
          "Sale",
          "Sale",
          "Sale",
          "Sale",
          "Sale",
          "Sale",
          "Sale",
          "Sale",
          "Sale",
          "Sale",
          "Sale",
          "Sale",
          "Sale",
          "Sale",
          "Sale",
          "Sale",
          "Sale",
          "Sale",
          "Sale",
          "Sale",
          "Sale",
          "Sale",
          "Sale",
          "Sale",
          "Sale",
          "Sale",
          "Sale",
          "Sale",
          "Sale",
          "Sale",
          "Sale",
          "Sale",
          "Sale",
          "Sale",
          "Sale",
          "Sale",
          "Sale",
          "Sale",
          "Sale",
          "Sale",
          "Sale",
          "Sale",
          "Sale",
          "Sale",
          "Sale",
          "Sale",
          "Sale",
          "Sale",
          "Sale",
          "Sale",
          "Sale",
          "Sale",
          "Sale",
          "Sale",
          "Sale",
          "Sale",
          "Sale",
          "Sale",
          "Sale",
          "Sale",
          "Sale",
          "Sale",
          "Sale",
          "Sale",
          "Sale",
          "Sale",
          "Sale",
          "Sale",
          "Sale",
          "Sale",
          "Sale",
          "Sale",
          "Sale",
          "Sale",
          "Sale",
          "Sale",
          "Sale",
          "Sale",
          "Sale",
          "Sale",
          "Sale",
          "Sale",
          "Sale",
          "Sale",
          "Sale",
          "Sale",
          "Sale",
          "Sale",
          "Sale",
          "Sale",
          "Sale",
          "Sale",
          "Sale",
          "Sale",
          "Sale",
          "Sale",
          "Sale",
          "Sale",
          "Sale",
          "Sale",
          "Sale",
          "Sale",
          "Sale",
          "Sale",
          "Sale",
          "Sale",
          "Sale",
          "Sale",
          "Sale",
          "Sale",
          "Sale",
          "Sale",
          "Sale",
          "Sale",
          "Sale",
          "Sale",
          "Sale",
          "Sale",
          "Sale",
          "Sale",
          "Sale",
          "Sale",
          "Sale",
          "Sale",
          "Sale",
          "Sale",
          "Sale",
          "Sale",
          "Sale",
          "Sale",
          "Sale",
          "Sale",
          "Sale",
          "Sale",
          "Sale",
          "Sale",
          "Sale",
          "Sale",
          "Sale",
          "Sale",
          "Sale",
          "Sale",
          "Sale",
          "Sale",
          "Sale",
          "Sale",
          "Sale",
          "Sale",
          "Sale",
          "Sale",
          "Sale",
          "Sale",
          "Sale",
          "Sale",
          "Sale",
          "Sale",
          "Sale",
          "Sale",
          "Sale",
          "Sale",
          "Sale",
          "Sale",
          "Sale",
          "Sale",
          "Sale",
          "Sale",
          "Sale",
          "Sale",
          "Sale",
          "Sale",
          "Sale",
          "Sale",
          "Sale",
          "Sale",
          "Sale",
          "Sale",
          "Sale",
          "Sale",
          "Sale",
          "Sale",
          "Sale",
          "Sale",
          "Sale",
          "Sale",
          "Sale",
          "Sale",
          "Sale",
          "Sale",
          "Sale",
          "Sale",
          "Sale",
          "Sale",
          "Sale",
          "Sale",
          "Sale",
          "Sale",
          "Sale",
          "Sale",
          "Sale",
          "Sale",
          "Sale",
          "Sale",
          "Sale",
          "Sale",
          "Sale",
          "Sale",
          "Sale",
          "Sale",
          "Sale",
          "Sale",
          "Sale",
          "Sale",
          "Sale",
          "Sale",
          "Sale",
          "Sale",
          "Sale",
          "Sale",
          "Sale",
          "Sale",
          "Sale",
          "Sale",
          "Sale",
          "Sale",
          "Sale",
          "Sale",
          "Sale",
          "Sale",
          "Sale",
          "Sale",
          "Sale",
          "Sale",
          "Sale",
          "Sale",
          "Sale",
          "Sale",
          "Sale",
          "Sale",
          "Sale",
          "Sale",
          "Sale",
          "Sale",
          "Sale",
          "Sale",
          "Sale",
          "Sale",
          "Sale",
          "Sale",
          "Sale",
          "Sale",
          "Sale",
          "Sale",
          "Sale",
          "Sale",
          "Sale",
          "Sale",
          "Sale",
          "Sale",
          "Sale",
          "Sale",
          "Sale",
          "Sale",
          "Sale",
          "Sale",
          "Sale",
          "Sale",
          "Sale",
          "Sale",
          "Sale",
          "Sale",
          "Sale",
          "Sale",
          "Sale",
          "Sale",
          "Sale",
          "Sale",
          "Sale",
          "Sale",
          "Sale",
          "Sale",
          "Sale",
          "Sale",
          "Sale",
          "Sale",
          "Sale",
          "Sale",
          "Sale",
          "Sale",
          "Sale",
          "Sale",
          "Sale",
          "Sale",
          "Sale",
          "Sale",
          "Sale",
          "Sale",
          "Sale",
          "Sale",
          "Sale",
          "Sale",
          "Sale",
          "Sale",
          "Sale",
          "Sale",
          "Sale",
          "Sale",
          "Sale",
          "Sale",
          "Sale",
          "Sale",
          "Sale",
          "Sale",
          "Sale",
          "Sale",
          "Sale",
          "Sale",
          "Sale",
          "Sale",
          "Sale",
          "Sale",
          "Sale",
          "Sale",
          "Sale",
          "Sale",
          "Sale",
          "Sale",
          "Sale",
          "Sale",
          "Sale",
          "Sale",
          "Sale",
          "Sale",
          "Sale",
          "Sale",
          "Sale",
          "Sale",
          "Sale",
          "Sale",
          "Sale",
          "Sale",
          "Sale",
          "Sale",
          "Sale",
          "Sale",
          "Sale",
          "Sale",
          "Sale",
          "Sale",
          "Sale",
          "Sale",
          "Sale",
          "Sale",
          "Sale",
          "Sale",
          "Sale",
          "Sale",
          "Sale",
          "Sale",
          "Sale",
          "Sale",
          "Sale",
          "Sale",
          "Sale",
          "Sale",
          "Sale",
          "Sale",
          "Sale",
          "Sale",
          "Sale",
          "Sale",
          "Sale",
          "Sale",
          "Sale",
          "Sale",
          "Sale",
          "Sale",
          "Sale",
          "Sale",
          "Sale",
          "Sale",
          "Sale",
          "Sale",
          "Sale",
          "Sale",
          "Sale",
          "Sale",
          "Sale",
          "Sale",
          "Sale",
          "Sale",
          "Sale",
          "Sale",
          "Sale",
          "Sale",
          "Sale",
          "Sale",
          "Sale",
          "Sale",
          "Sale",
          "Sale",
          "Sale",
          "Sale",
          "Sale",
          "Sale",
          "Sale",
          "Sale",
          "Sale",
          "Sale",
          "Sale",
          "Sale",
          "Sale",
          "Sale",
          "Sale",
          "Sale",
          "Sale",
          "Sale",
          "Sale",
          "Sale",
          "Sale",
          "Sale",
          "Sale",
          "Sale",
          "Sale",
          "Sale",
          "Sale",
          "Sale",
          "Sale",
          "Sale",
          "Sale",
          "Sale",
          "Sale",
          "Sale",
          "Sale",
          "Sale",
          "Sale",
          "Sale",
          "Sale",
          "Sale",
          "Sale",
          "Sale",
          "Sale",
          "Sale",
          "Sale",
          "Sale",
          "Sale",
          "Sale",
          "Sale",
          "Sale",
          "Sale",
          "Sale",
          "Sale",
          "Sale",
          "Sale",
          "Sale",
          "Sale",
          "Sale",
          "Sale",
          "Sale",
          "Sale",
          "Sale",
          "Sale",
          "Sale",
          "Sale",
          "Sale",
          "Sale",
          "Sale",
          "Sale",
          "Sale",
          "Sale",
          "Sale",
          "Sale",
          "Sale",
          "Sale",
          "Sale",
          "Sale",
          "Sale",
          "Sale",
          "Sale"
         ],
         "x0": " ",
         "xaxis": "x",
         "y": {
          "bdata": "+VoHAKSbAQDpvQUAK2MCALUVAwCICwIA4B4EAB29AwCQCBoAw10EAAONAgCNWAcAxR8HADFmEABy4gIAeA0NAEg/EgBKFwIAb9IGAG3jAgAtig0ANj0GAOkEBAD3cwQAiw8VAN5nDgAapQUAubUDAEX7EgDcigUAZbcKADfoAwBlpAIAP/EBAB3iAwC1XwsACc0RAPnqBABYcQIAw4ADAH7xEQAr+QMAlSUCAFalDgD4WwEANtwBAHi/CAC50QIAlogMAI/QAgBh+QMAc28DAC/VAwBjVggAX4UNAGgiBAD5PAQATG8WAEt4AgBTfQkAbpsEAEu2BwB5pQoAgksDAIa4BACXgQMAYFAGADPhAwAYGwMASKICANnwBQCePAMA4kcCAPVKBAAYIwMA+cYCACu9AQDmqQYAFIYTAM3gEwCJwgUAOwACACLnBAAhRgMAnCAEAFQzAwDYhQMAzd8BAFjUAwC6QwwAhcsNAHVWAwCUngMAzIYOAKsvBADaJQgAkNEBABL2BgBYvwEAkNgDAIBnDQC3nw8AqEQDACfpAgBBYwIAmEECAB2KBAAlxBEAuBAEAKV6BABQ8AMADuUDAN2KAgBQOQkAY5ICAGepAgCn9QYABoYTACp0EADCKggA4tYJAExQAwDUFwIA3AcHAHi3AgBmPAIA6RQEAOJ6BgA0GAMAJwAQAGVNBgDBOwMALtMCAOJjDwCB4gMATTMPAOY+BABstAQAVokNAHbXAgCJRQQA1wkDAFW2AgAuNwoA8tUBABYtBQA9xAIAuJYHAEQ7AgAE0gIAKJMDAHNcAwCDEAYAFgcDABkUDwBr6AUAZBMYAFNGDgCJIwIAurYCAJQ/BQDbhQIA3NMBAHdvAgDfXQgAHHYCAJAwAgA/rAMAkc4KAIsuAwCo4wMARX0IAFgLBAA7PwMAmH4RAP4OBgDdSAYA3voCADN+EQBNvwIAsawEAMwcCADDORkAUsYGAHJoBADQnAcA6PoBAPF8BgAp/AUA3NMCAHU0AgCOWQQANKQCAJ73AQAkdgMADGAOAL7ODQBgoAEACJcJAHH9AQCEUQsA8psDAAdnAgARbAUAsLEDAKJpBwBgsQIAqasBADeqAQCKQxEAoSEUAI3yAwDnuBcADAsFALf0AQBjAQIAwuMGAJLfBgC1EAcAeXEBAKOgAQBH5AIAIXADAMS/BgAAMgQAneMIAADdBgAdmwIAwWIEAH0KEADB5wUAySYKADU5BABcFgQAIxQCAL+JAwCmLg8Aq60DAFxQCgAPux4AiNUBACKoAwDk8AoAbo4CACAXAgCecwIAHyAEAD2hBgDtlgUACrADANcsAgBOBgsA0e8QAIUKBgBpZQQABmAIAFgLAgA+JQMAJQYHAAC1BgBgZQQAsTEGAMK5AgDS2gMAgiIHAEoVBwDReBgAe4YDAJ5VDwDuIgQAjsAGAH1cAgDdvRgAybAaAJFsBAAsGAIANjcCAOryAwDxMAMA7E4DAKbNDgDnegQAX7kBAHrhAwCTOwMAYDMFAEicBQAFGxIAp6UEAHrsAQD0CwQAYX8IAEKuAwBnGQQAxYMEAKloAwBX8QMAKMEHACSwAwD+HwQAfDwIACxoAgDKyAEAdBIJANu+AgDA8BAAC/oIADczBADRIAkAwi4CABJGBwAi0AIAN0ACAI5VFwDBSAQA+FsMAAxxDQBoVgQAGV0KAAwWAgBOlgMAaewHAEGeDwA7JAIAhV4EABBmAgCN8AEAGIYEAKa/BQDYSAQAyq0VAFiVBQBK9w8AGvoHAHEjAwDsjgMAp9UFALn0DACUGQMAOIoCAJrmDQDNOwIAmR0DAAe2BQDz/hMAIgIFAIAiBQDvMwUAbrIHAG/wAQCSpQcAXe0NAJweBQDA5QMA6doCAFNUAgChKBoAkvACAPXKDwC+QgQAPeoOAFxsBgBL+AcAVGwCAI0kDgDVEAIArSkCABjVAQCbMQIA+eIDAO+HEABgFQMAkmgIAKe5BgB55QMAq7QLAN21DABQHAIA948CAE3QBQD1SwQAZxcCAOEDBwBNmAMAQcQBAOcNBAC/MwIAQicFAHrTAwAB5AQA7NkCANloAwCVAQIA63YKAGWmBwBHLQMAN4kQAGhBAgAEagUAx5YDAArQAgA4vQEAltUBAFLcEwDD/QoAHe0aAEcXAwA+AhQAHtQBACbXAgAjGwMA/5MTABC/DQAXwBAA7twFAL45AwD9eAIAxnICADuVAgDY7gIA0XoCAEpFDADBchUA1N8SAJdNAwCYjgoAQYYQAE6oDQChowoALfYCACklCQDYMwMAWHkEAJXjAwDsshkA5cwDAIzhFABHQQYAu68JAE7MCgB9xQIAV3ENAOLnBQCgNgMA8/ADAE3iAgAd0gEAVPMFALhpDQB3XgIAGb0OAJ4SDgC9dgwAIUsEAPZ7EADDUBoAH/QRAFf/EABNJAcAvyoCAMWvAgAZugoAVNMCACdmAgAAlwUAtcoDAO0gAgDwAyAAyAMRAG/zAwB7SwUAdZIEAJXOAgCBKQMAvCsEAHMlAgBc4gEAfacDAFqhAQCQHwMAxm4DADAeBABKKQMALX0HAFNmBQALVAIAU4UDAPMxDQCI2QkAXqcGAMf8CQCoLwIANiEQACQKGQBD1AcAxdgEAMSGDABQnQMAx1sFACAuAgB/lwYAWnYEAPMfCwBggAIA4VMHACLvAgB41wYAbgEIAJlbDQDLkQMAI+MKALV8FgBzMwMAKZECAC4SAwBhBwQAX0EFAMrdBwAzpAYAj6wCAMCmCACX+gEAEoALAPFiDQDlBAoA1ZkCAB4xDQB1fQQAxzwDAPgyAQDSfwMAHAUEAJB/BQB1HgIAFX4FAJ27AQAC8wQAiDcEAOdgBgDajgkAJH4CADRpEQA/ZxEAOkwEAMqWAgBGlQMAZ6ESAGbJAwB2aQ8AAVQHAKXxBAAJ8QsA+/EEAAu+AgDcQQQA9w0DALb2AgDlvhoAHIoDAIkOBADhcQMAyWgCAA0oCACN9AkAwIsHANVMEABWSgIAXdcBAMuXAgCh3wQA/ZEDAKFrAwBx6wIAmJ4OAFHvAgCIhwIACb4HAB0pBwDaDAMA7rMCAHeQDADlWQMA3pwEAIAcEgBobgIAGXIEANR7AwASeAMAeJ0EAO9kBQA2lAIADHEDADKxBADB7wQAj/gBAFPjBQCf1wIAM1gGABeQAwDhcQgAgvQEAByGDgBuXgUA2tADAAKIBQBvPwMAXYoDAMavAwARyAMAT4wCAK2RAwBlggIAq1kSADEPAwCLgAQA7v0BAAZ1AgCGJQIAdLgCAK0bGQAuCwcAxRMFAN0gBQBjPAEAit4PAKZoBABWDgIARxgOAKk8BADQeQ0A2usIADhYAwCAkQIA/J4RAMZ+AwDURRoAgccRAPOyBgAzSAMAkscFAKc2BADVswUAUOoIAJPEAQANFwoAMOoBAIHAAwBFvQcAAP8JALi9AwDNLwMA8r4DAHCPAwBHTgYAetkCAKmtFQD8FwIADlwDAPa+FAA6hwEAkGgeAMS4DgDCYAIAZgkNANjdDABqaAwAN9ICAKGtAgBPMQoAZnICAKtGBwCywgIA5msOAL/dDACJ5wUArkgCAOypAgDDzAEAfnwCAKEaBQA/pQIAzPwCAPF8CgDpVRAAjfsEACrKEAC1vAIAsgIHAL27AgDcIhMA9qMHAIRXEQDYmwIAWLIKAKSXAgCifAIAQWECACWmBQAKfQIA7u0IAHK9BAA87wIAdSAEAAehCgD0OwQAIJMDAHVvAgDPvgsAosYFAHwiAgDwORoATf8CAJz4AQBIEgIAeZIDAGufAgCoQhMAtdEDAG26BACJ6wEAUQYEANXIAwDG7QcA3KMDAJaLBQCZLgMA2RsFAC8nBgDtQAQA7jMLAHtEDgAxSQUAhPADADS5BQBb4gMAQ6kJALMVBAAGuxIAXLoCAP6uEAAmDBIABScQAH8ZCwCkhAQA7bgCADFWDAAa7hAAUPULAL6+AwCz3g0AXqwBAPcnEADihAIAeg4IAARqAwBgEw8A8DcDAOVqAgAHvxUAtzMDAGZwFQAx5hAAiToFABEjBgAmjQQAHpYQADdsBACKeAIA8zIDADFqAwCNcggAst4DAKbQEgBuSAMAt8UIAPypAwARzgMAlcQEANSqAwA23gQAv6QTAGxDAwA5lggASBwEAAZnAwBhWQ0APX8CANUgDgAqMwMApZoCAFAwBAC2qwYAoikQAH/sAQDXJAoAx9UDAMbYBAAbcxEA2lADAOIqBACAmwIAkAAaAGHbAQAeiAMAs4QLADFpAwCmzQQA+wwIABe5CgDmZA8AvtgJAP9nDwBfvwUA5BcCAFfmAwDPPgMAsc8BAEh5BwBhDgQA1MMBAMjXFwATkxEAzNcBALmeBgDMTAsADL4BAK1VBwAXQgoAan0CABLGBgCCjwIAQWMCAAq6AgADHgQAUEQIAD+oBgDpGQIAPScDACcsAgA0CgQA/WEQAJyjFQAtSgUAyqoDANwBBQDh0gIAay0EAFXMAwBW9gIA/R0IADFhCwBg2AQAz48GAHvmCABSYAkACpYDAGTkAgAaFgMAGv4FACsCAgCeBQQATQkCAAcWAwAi8g0AcTEEAH+eAgCrpwMAKn4MAOFzAwAQbwQAoj0FAM7BDwCGdgMAWKEFAPjhEQBV6QMAiGAEAP5PAwBtaAQAyTsKADLQAgBHswYAkMkFAA8qEABgbAIARQ0CAC3AAgDpcQcAeqoDADU9FwCEMggAALABAJkrAgD9FwIADzsKAJsFCwClWAMAQuUCAPV0DADx+gwAywQDAPZCBwCf2QEApSYDALIVCADsMgMAG/UMADZjAgCj1wIAc0YJAC36AgCkggYAv8MDAJGWAwBcqwoAPF8cAJwlFAB48wEA/swUAA3kAgCKjQYA0IEDADqSGgAf0hQAoSANAJbhAgD2yxIAE+ICADOUAwA20gQA91IRAMChAgBfmgMA/GsDAAXfAgDSHwMAASUJABYSDwDqFQYAvREEAEasCACxPwcA/lUKADA0AwBGxQsApC0JAE94CwD+UxIAXMENAMqaAgApxwYAQVwDAAf6DQAwsgIAzC4FAE8zCgArzwMA5zEKAM5FAgAtzAwAmRgDANzwBABw8AkA08cBALhaFADt4woAMxICAE28AQAzpQYA6dADABHCAgB99wYAqPUPAKg+BABJwAMAx+MJAHwuAgDdwAIAiFADAH6jCADB/QEAmpcBACQYAwBkexoAJ0kDALAwAwDztwsARqoCAHAoGQDQcgIAUqYOAPjiCQDSxQwAOKcDALKcAwBmawMAcnoFABV5AgCPdQgAfk0TAPnLBgBZlgEA8KsCAIK3BQBELwkA9gkNAIqBGwChixAAk6gCAKl0BQAbXAMA6EMCABL6BgAm3wcAECMNAJy9AgC/6QIAdEsCAEXiDgDFmgUAXAcCAMgSCgDBUBcAFRgVAHEtCgDyRgQATbMFAPWCCABhVgQAN7YHABo3DgCDwgMAZxEHAPL4CgBoAg4AHDgDAJvvCQA5ZQIAMYoUANwDAwDb8AYA+NAYAM1rAwA1ZgUA7JUDAID0AgDY4AkAngkDAGk+BQCp9BgAoQQZAJihCwAsPgQA1dADAC0SAwD8kgIAgpQCAE8cBgBrPQMAazoDAGZ4AQCdLwMAtVEDADHiEwBbnRUAG70FAOkwCgCnUAMAcHEHACACAgDdWgcA96wCALiEAgDLlQUAFVgEAJv0FwCX2gEAXNQJACQuFAB2LwgA44UPAE06DADHtAUArtMHAGjFBADvAQwApp0CAG+oAwBYjwQAlOoGAJ/OAwBsRQgAI1gOAHwCAgBEVgIAnuUEADNtAgByDBMAyYIEANPbBABsjBIAIJIOAM6UAwAfzQEAgBwNAOhJAgB7SQYABy0CADr+DwB/sQYAJsgLANvcBQDpcgIABBQEAEauDABcOQMAHc8CAFwyBAAV9QIAXlgNAC43AgDtmAYAeJwLALElAwBJLRoA0JQGAIXoBABQ7xAAUaoMAF7hDABKoQIA4lsSACqBCAABxhIAOFcCAC9KBwCC8gIAGJoKAKSOBgCKOgMAQGIDAAP2AwB/PA4ASv8BADULAgDqsAMAnmYDADiFDgBZxgMAWqUCAJOOAwAFIAIAax8EAJPwAwD6XgUAg6EGAKPYAgCDWgMAAOQBABhHEAA1lQsAg+oBACGuAgAgPAUAXMQCAHtkBADtNQQA1PkCADA+BQA+BggAJp0CACwRAgA+4QEAYJ4BAOYUBQAqcBIAVAcCAI9QAwCwwRAAq7cDAMzUAgCtaxcABHgHABPHCADLWQgA/H0DAG91BQCrrgIA0bERALISBAAN3gEA5MYDAL1UBADiVgEAWx4EAI2oBgCy+wIARWIDABcNHQCZMQIA6uwQAN6NAgADlAMAaLQDAIcQFAD37QUAkCsEAHLQAwDPMwoATskDAM57BwD0FwQAsU0GAMqRAgDXxwUAkisCAIvRBQDDcAMA3gcCAGRDDQA5YQMAmy0OANSiBwAvswwA44wGAJV2AgDCjggAMvoDAPBzBQAg0QEAGtIEAFXOCQBGOwQA+kkFAC/4CQDNFAsAnEcDANYGCQDy7QwAjqoEAHR8BABQXwoAjGADAGDmAQA9ZAUAh14CAGSKAgBFnggADiYDAOWLAwBK3QUAiv4CAL+gAgDWvRIAwi4MAP6bBACDjwIA15gDAPYeEADzgxQAs4QEAHlLBAAEswYA93AGALUSAwB5Kg8Aa+4DAKgtCgDa/AMAYqIPAP32BAAeygYAcgECAJYGBABQpAMAdCQDAIzqAgCqVQMAZb8DANZNEQAsWQIAtU4CAEDdAgC07wMAotwEAOSrDACbLAIAzsUDAPlABACsSAIAmHoCAHkfDQBTiQIA5ecHAChMBgDrJQQAxOEDAIsfAwBBUggAncsDAORtDQAWqAcAWckBAHT3BAAIqAYARlUCAG8NCwBuTQUALcIHALbKBQAppRIAD+EBAOu4EwDTJwwA9+4DAHqjBABbxwUAEZoDAADXDQD4YQ0A7MgGAPXKAgCoXAkAgjEIAL2gAwBZXQIAGwAFAIAjCwCa6wEA/0QDAHapAgD6MQkAApcCACfkEQD2IgYANb0JALTWAwBD0goAjFcMALnjAQDNaQMAdRIJAERMFwBjxAQAajQDABSgAwCfYw8Ask0GALfvAgA/6RAAofECAOT4CgAUYQIAoMkGAN5RAgDGOhIA0ewLAKwVAwDniAIAzE8DAFnFAwBIjQYAOF4GAAjWAgDpDwIAGfsBAJZCBgASKQoAcA4FAEJHBgBsugUAZXoKAMsrBAAw2wEAiikEAMqnAwBuBwsAl6wBACRtBABN/A8AscEDAKStAgDcqgQAbE4OACc+EwAp9A0AmTkEAD+ADABb0hMAIwgCAO3PAQCWoAIAKTANADxgAgDXFQIA9CEDAOhnAwDXugEAdYcEAH8pAwAFagkAKDIcAMPpAQDy4AMApEwMAPpkAgDl+AQAavcDAKvqAQDcWR0A36sNAMlvAwA7DQQAIWUGADWDEQC6HAIAVqsbAOkNCwB84wYA/6AEAAcQDQBsDwIA6IwDAI/mAgC+swMAxy4EABtdAgB7iQUA6uAEAJGuBQCNhgUAP+YBAOc5AgCw1gIAxgoPAO5nCADtMQMAFnYCAKgkAwB4rggA+WIQAMxqAwBAFgMABeoGANEaEAAwTAMAPXsDAGDGFgDjXAYAe80MALg/AwDd4QQA8y4CAHeQAgAwxAEAaSUEAEHaAgAEAh0ALDYFAKiAAgCZtg8ABtsCAEL0BwBNPgQAGHgMAFl2BQAY1hIAaDYYAHpbBQDRagsALLsJAM2/AwCGuwIAzaYCAKAjBACBBQgAiM0BAOFyFwBElwcAMh4XAE3PAwDYEhMAV/kBADZ+AwCMLQMA6pwQAFfEBQBntgIAPtAVAJIqBQCSJgMABI4DAL67AgDETQMA4vIBAMLbBABn9BQA3IYDAN5pEAB8RQMAiEACAEARAgCrCAIA+dYRAJ8+BgCc1gIASsARAMJDHQCqLBMAtSADAFUTBACC6xEAEIYRACxaDgD3zgIApbMCABJvAgDWlggARHwJAPhpBADidhEAe1ACAO+MDgBOjAIAWksCAOw5DgBJ7gYAo8QGAOnCBADrfQIAnn4cAC2ECgAxCwcAN08GAIGfBwBxvAEA034DAFLXAwAZygQA088DACphFABZcQkAGkACAAjcAwDepwIAk/MFAOedCQCDPgMAgMYCAPv3AQDi2BAAZYsDABnvAQCdCRQAThkGAHEPAwD4xAMAch0CAPDfAQBCXQQA7iICADlsAgBwSgkAt2QVAK8nAwBIuwMAm3gJACMdDgCJGwIAp9YXABXbEwCwbREAaLoCAHSxDACEkgIAueICAONaBAA2vwEAmdMFANOxAgAJTwgAqpIMAHEkFQBlDgQAsekVAKM4AwD0JwoAxwIDAKSrAgCRLgIAbHoEAHIZCAAfGgMA6ggRAGIjAwAfnAsAtQYEAPL5AgBzgAUAcV4HANJpBwAWKw0A5CALAIwUDABFYgMAycIDABwiAwBxugIA/GwLAMf+AwCOBAgA/nsFAMCOCwBv3wUAki0BAJ4YAwC+3AoAE2ECAMdFCgDSsQQAvVwEAGEaBACc2QIAeIEHAFQOAgAKswMAgKACAIDSAgAVfQUAfB0LAHUiBQA1RgIAGGkCAK30FwDbowIAefMDABrDDABGdBUA+XILABtfCwCVMQIA0d4CAMkKAgDsSwUAwK8EAA==",
          "dtype": "i4"
         },
         "y0": " ",
         "yaxis": "y"
        },
        {
         "alignmentgroup": "True",
         "hovertemplate": "Listing Type=%{x}<br>listing_price=%{y}<extra></extra>",
         "legendgroup": "Rent",
         "marker": {
          "color": "#EF553B"
         },
         "name": "Rent",
         "notched": false,
         "offsetgroup": "Rent",
         "orientation": "v",
         "showlegend": true,
         "type": "box",
         "x": [
          "Rent",
          "Rent",
          "Rent",
          "Rent",
          "Rent",
          "Rent",
          "Rent",
          "Rent",
          "Rent",
          "Rent",
          "Rent",
          "Rent",
          "Rent",
          "Rent",
          "Rent",
          "Rent",
          "Rent",
          "Rent",
          "Rent",
          "Rent",
          "Rent",
          "Rent",
          "Rent",
          "Rent",
          "Rent",
          "Rent",
          "Rent",
          "Rent",
          "Rent",
          "Rent",
          "Rent",
          "Rent",
          "Rent",
          "Rent",
          "Rent",
          "Rent",
          "Rent",
          "Rent",
          "Rent",
          "Rent",
          "Rent",
          "Rent",
          "Rent",
          "Rent",
          "Rent",
          "Rent",
          "Rent",
          "Rent",
          "Rent",
          "Rent",
          "Rent",
          "Rent",
          "Rent",
          "Rent",
          "Rent",
          "Rent",
          "Rent",
          "Rent",
          "Rent",
          "Rent",
          "Rent",
          "Rent",
          "Rent",
          "Rent",
          "Rent",
          "Rent",
          "Rent",
          "Rent",
          "Rent",
          "Rent",
          "Rent",
          "Rent",
          "Rent",
          "Rent",
          "Rent",
          "Rent",
          "Rent",
          "Rent",
          "Rent",
          "Rent",
          "Rent",
          "Rent",
          "Rent",
          "Rent",
          "Rent",
          "Rent",
          "Rent",
          "Rent",
          "Rent",
          "Rent",
          "Rent",
          "Rent",
          "Rent",
          "Rent",
          "Rent",
          "Rent",
          "Rent",
          "Rent",
          "Rent",
          "Rent",
          "Rent",
          "Rent",
          "Rent",
          "Rent",
          "Rent",
          "Rent",
          "Rent",
          "Rent",
          "Rent",
          "Rent",
          "Rent",
          "Rent",
          "Rent",
          "Rent",
          "Rent",
          "Rent",
          "Rent",
          "Rent",
          "Rent",
          "Rent",
          "Rent",
          "Rent",
          "Rent",
          "Rent",
          "Rent",
          "Rent",
          "Rent",
          "Rent",
          "Rent",
          "Rent",
          "Rent",
          "Rent",
          "Rent",
          "Rent",
          "Rent",
          "Rent",
          "Rent",
          "Rent",
          "Rent",
          "Rent",
          "Rent",
          "Rent",
          "Rent",
          "Rent",
          "Rent",
          "Rent",
          "Rent",
          "Rent",
          "Rent",
          "Rent",
          "Rent",
          "Rent",
          "Rent",
          "Rent",
          "Rent",
          "Rent",
          "Rent",
          "Rent",
          "Rent",
          "Rent",
          "Rent",
          "Rent",
          "Rent",
          "Rent",
          "Rent",
          "Rent",
          "Rent",
          "Rent",
          "Rent",
          "Rent",
          "Rent",
          "Rent",
          "Rent",
          "Rent",
          "Rent",
          "Rent",
          "Rent",
          "Rent",
          "Rent",
          "Rent",
          "Rent",
          "Rent",
          "Rent",
          "Rent",
          "Rent",
          "Rent",
          "Rent",
          "Rent",
          "Rent",
          "Rent",
          "Rent",
          "Rent",
          "Rent",
          "Rent",
          "Rent",
          "Rent",
          "Rent",
          "Rent",
          "Rent",
          "Rent",
          "Rent",
          "Rent",
          "Rent",
          "Rent",
          "Rent",
          "Rent",
          "Rent",
          "Rent",
          "Rent",
          "Rent",
          "Rent",
          "Rent",
          "Rent",
          "Rent",
          "Rent",
          "Rent",
          "Rent",
          "Rent",
          "Rent",
          "Rent",
          "Rent",
          "Rent",
          "Rent",
          "Rent",
          "Rent",
          "Rent",
          "Rent",
          "Rent",
          "Rent",
          "Rent",
          "Rent",
          "Rent",
          "Rent",
          "Rent",
          "Rent",
          "Rent",
          "Rent",
          "Rent",
          "Rent",
          "Rent",
          "Rent",
          "Rent",
          "Rent",
          "Rent",
          "Rent",
          "Rent",
          "Rent",
          "Rent",
          "Rent",
          "Rent",
          "Rent",
          "Rent",
          "Rent",
          "Rent",
          "Rent",
          "Rent",
          "Rent",
          "Rent",
          "Rent",
          "Rent",
          "Rent",
          "Rent",
          "Rent",
          "Rent",
          "Rent",
          "Rent",
          "Rent",
          "Rent",
          "Rent",
          "Rent",
          "Rent",
          "Rent",
          "Rent",
          "Rent",
          "Rent",
          "Rent",
          "Rent",
          "Rent",
          "Rent",
          "Rent",
          "Rent",
          "Rent",
          "Rent",
          "Rent",
          "Rent",
          "Rent",
          "Rent",
          "Rent",
          "Rent",
          "Rent",
          "Rent",
          "Rent",
          "Rent",
          "Rent",
          "Rent",
          "Rent",
          "Rent",
          "Rent",
          "Rent",
          "Rent",
          "Rent",
          "Rent",
          "Rent",
          "Rent",
          "Rent",
          "Rent",
          "Rent",
          "Rent",
          "Rent",
          "Rent",
          "Rent",
          "Rent",
          "Rent",
          "Rent",
          "Rent",
          "Rent",
          "Rent",
          "Rent",
          "Rent",
          "Rent",
          "Rent",
          "Rent",
          "Rent",
          "Rent",
          "Rent",
          "Rent",
          "Rent",
          "Rent",
          "Rent",
          "Rent",
          "Rent",
          "Rent",
          "Rent",
          "Rent",
          "Rent",
          "Rent",
          "Rent",
          "Rent",
          "Rent",
          "Rent",
          "Rent",
          "Rent",
          "Rent",
          "Rent",
          "Rent",
          "Rent",
          "Rent",
          "Rent",
          "Rent",
          "Rent",
          "Rent",
          "Rent",
          "Rent",
          "Rent",
          "Rent",
          "Rent",
          "Rent",
          "Rent",
          "Rent",
          "Rent",
          "Rent",
          "Rent",
          "Rent",
          "Rent",
          "Rent",
          "Rent",
          "Rent",
          "Rent",
          "Rent",
          "Rent",
          "Rent",
          "Rent",
          "Rent",
          "Rent",
          "Rent",
          "Rent",
          "Rent",
          "Rent",
          "Rent",
          "Rent",
          "Rent",
          "Rent",
          "Rent",
          "Rent",
          "Rent",
          "Rent",
          "Rent",
          "Rent",
          "Rent",
          "Rent",
          "Rent",
          "Rent",
          "Rent",
          "Rent",
          "Rent",
          "Rent",
          "Rent",
          "Rent",
          "Rent",
          "Rent",
          "Rent",
          "Rent",
          "Rent",
          "Rent",
          "Rent",
          "Rent",
          "Rent",
          "Rent",
          "Rent",
          "Rent",
          "Rent",
          "Rent",
          "Rent",
          "Rent",
          "Rent",
          "Rent",
          "Rent",
          "Rent",
          "Rent",
          "Rent",
          "Rent",
          "Rent",
          "Rent",
          "Rent",
          "Rent",
          "Rent",
          "Rent",
          "Rent",
          "Rent",
          "Rent",
          "Rent",
          "Rent",
          "Rent",
          "Rent",
          "Rent",
          "Rent",
          "Rent",
          "Rent",
          "Rent",
          "Rent",
          "Rent",
          "Rent",
          "Rent",
          "Rent",
          "Rent",
          "Rent",
          "Rent",
          "Rent",
          "Rent",
          "Rent",
          "Rent",
          "Rent",
          "Rent",
          "Rent",
          "Rent",
          "Rent",
          "Rent",
          "Rent",
          "Rent",
          "Rent",
          "Rent",
          "Rent",
          "Rent",
          "Rent",
          "Rent",
          "Rent",
          "Rent",
          "Rent",
          "Rent",
          "Rent",
          "Rent",
          "Rent",
          "Rent",
          "Rent",
          "Rent",
          "Rent",
          "Rent",
          "Rent",
          "Rent",
          "Rent",
          "Rent",
          "Rent",
          "Rent",
          "Rent",
          "Rent",
          "Rent",
          "Rent",
          "Rent",
          "Rent",
          "Rent",
          "Rent",
          "Rent",
          "Rent",
          "Rent",
          "Rent",
          "Rent",
          "Rent",
          "Rent",
          "Rent",
          "Rent",
          "Rent",
          "Rent",
          "Rent",
          "Rent",
          "Rent",
          "Rent",
          "Rent",
          "Rent",
          "Rent",
          "Rent",
          "Rent",
          "Rent",
          "Rent",
          "Rent",
          "Rent",
          "Rent",
          "Rent",
          "Rent",
          "Rent",
          "Rent",
          "Rent",
          "Rent",
          "Rent",
          "Rent",
          "Rent",
          "Rent",
          "Rent",
          "Rent",
          "Rent",
          "Rent",
          "Rent",
          "Rent",
          "Rent",
          "Rent",
          "Rent",
          "Rent",
          "Rent",
          "Rent",
          "Rent",
          "Rent",
          "Rent",
          "Rent",
          "Rent",
          "Rent",
          "Rent",
          "Rent",
          "Rent",
          "Rent",
          "Rent",
          "Rent",
          "Rent",
          "Rent",
          "Rent",
          "Rent",
          "Rent",
          "Rent",
          "Rent",
          "Rent",
          "Rent",
          "Rent",
          "Rent",
          "Rent",
          "Rent",
          "Rent",
          "Rent",
          "Rent",
          "Rent",
          "Rent",
          "Rent",
          "Rent",
          "Rent",
          "Rent",
          "Rent",
          "Rent",
          "Rent",
          "Rent",
          "Rent",
          "Rent",
          "Rent",
          "Rent",
          "Rent",
          "Rent",
          "Rent",
          "Rent",
          "Rent",
          "Rent",
          "Rent",
          "Rent",
          "Rent",
          "Rent",
          "Rent",
          "Rent",
          "Rent",
          "Rent",
          "Rent",
          "Rent",
          "Rent",
          "Rent",
          "Rent",
          "Rent",
          "Rent",
          "Rent",
          "Rent",
          "Rent",
          "Rent",
          "Rent",
          "Rent",
          "Rent",
          "Rent",
          "Rent",
          "Rent",
          "Rent",
          "Rent",
          "Rent",
          "Rent",
          "Rent",
          "Rent",
          "Rent",
          "Rent",
          "Rent",
          "Rent",
          "Rent",
          "Rent",
          "Rent",
          "Rent",
          "Rent",
          "Rent",
          "Rent",
          "Rent",
          "Rent",
          "Rent",
          "Rent",
          "Rent",
          "Rent",
          "Rent",
          "Rent",
          "Rent",
          "Rent",
          "Rent",
          "Rent",
          "Rent",
          "Rent",
          "Rent",
          "Rent",
          "Rent",
          "Rent",
          "Rent",
          "Rent",
          "Rent",
          "Rent",
          "Rent",
          "Rent",
          "Rent",
          "Rent",
          "Rent",
          "Rent",
          "Rent",
          "Rent",
          "Rent",
          "Rent",
          "Rent",
          "Rent",
          "Rent",
          "Rent",
          "Rent",
          "Rent",
          "Rent",
          "Rent",
          "Rent",
          "Rent",
          "Rent",
          "Rent",
          "Rent",
          "Rent",
          "Rent",
          "Rent",
          "Rent",
          "Rent",
          "Rent",
          "Rent",
          "Rent",
          "Rent",
          "Rent",
          "Rent",
          "Rent",
          "Rent",
          "Rent",
          "Rent",
          "Rent",
          "Rent",
          "Rent",
          "Rent",
          "Rent",
          "Rent",
          "Rent",
          "Rent",
          "Rent",
          "Rent",
          "Rent",
          "Rent",
          "Rent",
          "Rent",
          "Rent",
          "Rent",
          "Rent",
          "Rent",
          "Rent",
          "Rent",
          "Rent",
          "Rent",
          "Rent",
          "Rent",
          "Rent",
          "Rent",
          "Rent",
          "Rent",
          "Rent",
          "Rent",
          "Rent",
          "Rent",
          "Rent",
          "Rent",
          "Rent",
          "Rent",
          "Rent",
          "Rent",
          "Rent",
          "Rent",
          "Rent",
          "Rent",
          "Rent",
          "Rent",
          "Rent",
          "Rent",
          "Rent",
          "Rent",
          "Rent",
          "Rent",
          "Rent",
          "Rent",
          "Rent",
          "Rent",
          "Rent",
          "Rent",
          "Rent",
          "Rent",
          "Rent",
          "Rent",
          "Rent",
          "Rent",
          "Rent",
          "Rent",
          "Rent",
          "Rent",
          "Rent",
          "Rent",
          "Rent",
          "Rent",
          "Rent",
          "Rent",
          "Rent",
          "Rent",
          "Rent",
          "Rent",
          "Rent",
          "Rent",
          "Rent",
          "Rent",
          "Rent",
          "Rent",
          "Rent",
          "Rent",
          "Rent",
          "Rent",
          "Rent",
          "Rent",
          "Rent",
          "Rent",
          "Rent",
          "Rent",
          "Rent",
          "Rent",
          "Rent",
          "Rent",
          "Rent",
          "Rent",
          "Rent",
          "Rent",
          "Rent",
          "Rent",
          "Rent",
          "Rent",
          "Rent",
          "Rent",
          "Rent",
          "Rent",
          "Rent",
          "Rent",
          "Rent",
          "Rent",
          "Rent",
          "Rent",
          "Rent",
          "Rent",
          "Rent",
          "Rent",
          "Rent",
          "Rent",
          "Rent",
          "Rent",
          "Rent",
          "Rent",
          "Rent",
          "Rent",
          "Rent",
          "Rent",
          "Rent",
          "Rent",
          "Rent",
          "Rent",
          "Rent",
          "Rent",
          "Rent",
          "Rent",
          "Rent",
          "Rent",
          "Rent",
          "Rent",
          "Rent",
          "Rent",
          "Rent",
          "Rent",
          "Rent",
          "Rent",
          "Rent",
          "Rent",
          "Rent",
          "Rent",
          "Rent",
          "Rent",
          "Rent",
          "Rent",
          "Rent",
          "Rent",
          "Rent",
          "Rent",
          "Rent",
          "Rent",
          "Rent",
          "Rent",
          "Rent",
          "Rent",
          "Rent",
          "Rent",
          "Rent",
          "Rent",
          "Rent",
          "Rent",
          "Rent",
          "Rent",
          "Rent",
          "Rent",
          "Rent",
          "Rent",
          "Rent",
          "Rent",
          "Rent",
          "Rent",
          "Rent",
          "Rent",
          "Rent",
          "Rent",
          "Rent",
          "Rent",
          "Rent",
          "Rent",
          "Rent",
          "Rent",
          "Rent",
          "Rent",
          "Rent",
          "Rent",
          "Rent",
          "Rent",
          "Rent",
          "Rent",
          "Rent",
          "Rent",
          "Rent",
          "Rent",
          "Rent",
          "Rent",
          "Rent",
          "Rent",
          "Rent",
          "Rent",
          "Rent",
          "Rent",
          "Rent",
          "Rent",
          "Rent",
          "Rent",
          "Rent",
          "Rent",
          "Rent",
          "Rent",
          "Rent",
          "Rent",
          "Rent",
          "Rent",
          "Rent",
          "Rent",
          "Rent",
          "Rent",
          "Rent",
          "Rent",
          "Rent",
          "Rent",
          "Rent",
          "Rent",
          "Rent",
          "Rent",
          "Rent",
          "Rent",
          "Rent",
          "Rent",
          "Rent",
          "Rent",
          "Rent",
          "Rent",
          "Rent",
          "Rent",
          "Rent",
          "Rent",
          "Rent",
          "Rent",
          "Rent",
          "Rent",
          "Rent",
          "Rent",
          "Rent",
          "Rent",
          "Rent",
          "Rent",
          "Rent",
          "Rent",
          "Rent",
          "Rent",
          "Rent",
          "Rent",
          "Rent",
          "Rent",
          "Rent",
          "Rent",
          "Rent",
          "Rent",
          "Rent",
          "Rent",
          "Rent",
          "Rent",
          "Rent",
          "Rent",
          "Rent",
          "Rent",
          "Rent",
          "Rent",
          "Rent",
          "Rent",
          "Rent",
          "Rent",
          "Rent",
          "Rent",
          "Rent",
          "Rent",
          "Rent",
          "Rent",
          "Rent",
          "Rent",
          "Rent",
          "Rent",
          "Rent",
          "Rent",
          "Rent",
          "Rent",
          "Rent",
          "Rent",
          "Rent",
          "Rent",
          "Rent",
          "Rent",
          "Rent",
          "Rent",
          "Rent",
          "Rent",
          "Rent",
          "Rent",
          "Rent",
          "Rent",
          "Rent",
          "Rent",
          "Rent",
          "Rent",
          "Rent",
          "Rent",
          "Rent",
          "Rent",
          "Rent",
          "Rent",
          "Rent",
          "Rent",
          "Rent",
          "Rent",
          "Rent",
          "Rent",
          "Rent",
          "Rent",
          "Rent",
          "Rent",
          "Rent",
          "Rent",
          "Rent",
          "Rent",
          "Rent",
          "Rent",
          "Rent",
          "Rent",
          "Rent",
          "Rent",
          "Rent",
          "Rent",
          "Rent",
          "Rent",
          "Rent",
          "Rent",
          "Rent",
          "Rent",
          "Rent",
          "Rent",
          "Rent",
          "Rent",
          "Rent",
          "Rent",
          "Rent",
          "Rent",
          "Rent",
          "Rent",
          "Rent",
          "Rent",
          "Rent",
          "Rent",
          "Rent",
          "Rent",
          "Rent",
          "Rent",
          "Rent",
          "Rent",
          "Rent",
          "Rent",
          "Rent",
          "Rent",
          "Rent",
          "Rent",
          "Rent",
          "Rent",
          "Rent",
          "Rent",
          "Rent",
          "Rent",
          "Rent",
          "Rent",
          "Rent",
          "Rent",
          "Rent",
          "Rent",
          "Rent",
          "Rent",
          "Rent",
          "Rent",
          "Rent",
          "Rent",
          "Rent",
          "Rent",
          "Rent",
          "Rent",
          "Rent",
          "Rent",
          "Rent",
          "Rent",
          "Rent",
          "Rent",
          "Rent",
          "Rent",
          "Rent",
          "Rent",
          "Rent",
          "Rent",
          "Rent",
          "Rent",
          "Rent",
          "Rent",
          "Rent",
          "Rent",
          "Rent",
          "Rent",
          "Rent",
          "Rent",
          "Rent",
          "Rent",
          "Rent",
          "Rent",
          "Rent",
          "Rent",
          "Rent",
          "Rent",
          "Rent",
          "Rent",
          "Rent",
          "Rent",
          "Rent",
          "Rent",
          "Rent",
          "Rent",
          "Rent",
          "Rent",
          "Rent",
          "Rent",
          "Rent",
          "Rent",
          "Rent",
          "Rent",
          "Rent",
          "Rent",
          "Rent",
          "Rent",
          "Rent",
          "Rent",
          "Rent",
          "Rent",
          "Rent",
          "Rent",
          "Rent",
          "Rent",
          "Rent",
          "Rent",
          "Rent",
          "Rent",
          "Rent",
          "Rent",
          "Rent",
          "Rent",
          "Rent",
          "Rent",
          "Rent",
          "Rent",
          "Rent",
          "Rent",
          "Rent",
          "Rent",
          "Rent",
          "Rent",
          "Rent",
          "Rent",
          "Rent",
          "Rent",
          "Rent",
          "Rent",
          "Rent",
          "Rent",
          "Rent",
          "Rent",
          "Rent",
          "Rent",
          "Rent",
          "Rent",
          "Rent",
          "Rent",
          "Rent",
          "Rent",
          "Rent",
          "Rent",
          "Rent",
          "Rent",
          "Rent",
          "Rent",
          "Rent",
          "Rent",
          "Rent",
          "Rent",
          "Rent",
          "Rent",
          "Rent",
          "Rent",
          "Rent",
          "Rent",
          "Rent",
          "Rent",
          "Rent",
          "Rent",
          "Rent",
          "Rent",
          "Rent",
          "Rent",
          "Rent",
          "Rent",
          "Rent",
          "Rent",
          "Rent",
          "Rent",
          "Rent",
          "Rent",
          "Rent",
          "Rent",
          "Rent",
          "Rent",
          "Rent",
          "Rent",
          "Rent",
          "Rent",
          "Rent",
          "Rent",
          "Rent",
          "Rent",
          "Rent",
          "Rent",
          "Rent",
          "Rent",
          "Rent",
          "Rent",
          "Rent",
          "Rent",
          "Rent",
          "Rent",
          "Rent",
          "Rent",
          "Rent",
          "Rent",
          "Rent",
          "Rent",
          "Rent",
          "Rent",
          "Rent",
          "Rent",
          "Rent",
          "Rent",
          "Rent",
          "Rent",
          "Rent",
          "Rent",
          "Rent",
          "Rent",
          "Rent",
          "Rent",
          "Rent",
          "Rent",
          "Rent",
          "Rent",
          "Rent",
          "Rent",
          "Rent",
          "Rent",
          "Rent",
          "Rent",
          "Rent",
          "Rent",
          "Rent",
          "Rent",
          "Rent",
          "Rent",
          "Rent",
          "Rent",
          "Rent",
          "Rent",
          "Rent",
          "Rent",
          "Rent",
          "Rent",
          "Rent",
          "Rent",
          "Rent",
          "Rent",
          "Rent",
          "Rent",
          "Rent",
          "Rent",
          "Rent",
          "Rent",
          "Rent",
          "Rent",
          "Rent",
          "Rent",
          "Rent",
          "Rent",
          "Rent",
          "Rent",
          "Rent",
          "Rent",
          "Rent",
          "Rent",
          "Rent",
          "Rent",
          "Rent",
          "Rent",
          "Rent",
          "Rent",
          "Rent",
          "Rent",
          "Rent",
          "Rent",
          "Rent",
          "Rent",
          "Rent",
          "Rent",
          "Rent",
          "Rent",
          "Rent",
          "Rent",
          "Rent",
          "Rent",
          "Rent",
          "Rent",
          "Rent",
          "Rent",
          "Rent",
          "Rent",
          "Rent",
          "Rent",
          "Rent",
          "Rent",
          "Rent",
          "Rent",
          "Rent",
          "Rent",
          "Rent",
          "Rent",
          "Rent",
          "Rent",
          "Rent",
          "Rent",
          "Rent",
          "Rent",
          "Rent",
          "Rent",
          "Rent",
          "Rent",
          "Rent",
          "Rent",
          "Rent",
          "Rent",
          "Rent",
          "Rent",
          "Rent",
          "Rent",
          "Rent",
          "Rent",
          "Rent"
         ],
         "x0": " ",
         "xaxis": "x",
         "y": {
          "bdata": "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",
          "dtype": "i2"
         },
         "y0": " ",
         "yaxis": "y"
        }
       ],
       "layout": {
        "boxmode": "overlay",
        "legend": {
         "title": {
          "text": "Listing Type"
         },
         "tracegroupgap": 0
        },
        "template": {
         "data": {
          "bar": [
           {
            "error_x": {
             "color": "#2a3f5f"
            },
            "error_y": {
             "color": "#2a3f5f"
            },
            "marker": {
             "line": {
              "color": "#E5ECF6",
              "width": 0.5
             },
             "pattern": {
              "fillmode": "overlay",
              "size": 10,
              "solidity": 0.2
             }
            },
            "type": "bar"
           }
          ],
          "barpolar": [
           {
            "marker": {
             "line": {
              "color": "#E5ECF6",
              "width": 0.5
             },
             "pattern": {
              "fillmode": "overlay",
              "size": 10,
              "solidity": 0.2
             }
            },
            "type": "barpolar"
           }
          ],
          "carpet": [
           {
            "aaxis": {
             "endlinecolor": "#2a3f5f",
             "gridcolor": "white",
             "linecolor": "white",
             "minorgridcolor": "white",
             "startlinecolor": "#2a3f5f"
            },
            "baxis": {
             "endlinecolor": "#2a3f5f",
             "gridcolor": "white",
             "linecolor": "white",
             "minorgridcolor": "white",
             "startlinecolor": "#2a3f5f"
            },
            "type": "carpet"
           }
          ],
          "choropleth": [
           {
            "colorbar": {
             "outlinewidth": 0,
             "ticks": ""
            },
            "type": "choropleth"
           }
          ],
          "contour": [
           {
            "colorbar": {
             "outlinewidth": 0,
             "ticks": ""
            },
            "colorscale": [
             [
              0,
              "#0d0887"
             ],
             [
              0.1111111111111111,
              "#46039f"
             ],
             [
              0.2222222222222222,
              "#7201a8"
             ],
             [
              0.3333333333333333,
              "#9c179e"
             ],
             [
              0.4444444444444444,
              "#bd3786"
             ],
             [
              0.5555555555555556,
              "#d8576b"
             ],
             [
              0.6666666666666666,
              "#ed7953"
             ],
             [
              0.7777777777777778,
              "#fb9f3a"
             ],
             [
              0.8888888888888888,
              "#fdca26"
             ],
             [
              1,
              "#f0f921"
             ]
            ],
            "type": "contour"
           }
          ],
          "contourcarpet": [
           {
            "colorbar": {
             "outlinewidth": 0,
             "ticks": ""
            },
            "type": "contourcarpet"
           }
          ],
          "heatmap": [
           {
            "colorbar": {
             "outlinewidth": 0,
             "ticks": ""
            },
            "colorscale": [
             [
              0,
              "#0d0887"
             ],
             [
              0.1111111111111111,
              "#46039f"
             ],
             [
              0.2222222222222222,
              "#7201a8"
             ],
             [
              0.3333333333333333,
              "#9c179e"
             ],
             [
              0.4444444444444444,
              "#bd3786"
             ],
             [
              0.5555555555555556,
              "#d8576b"
             ],
             [
              0.6666666666666666,
              "#ed7953"
             ],
             [
              0.7777777777777778,
              "#fb9f3a"
             ],
             [
              0.8888888888888888,
              "#fdca26"
             ],
             [
              1,
              "#f0f921"
             ]
            ],
            "type": "heatmap"
           }
          ],
          "histogram": [
           {
            "marker": {
             "pattern": {
              "fillmode": "overlay",
              "size": 10,
              "solidity": 0.2
             }
            },
            "type": "histogram"
           }
          ],
          "histogram2d": [
           {
            "colorbar": {
             "outlinewidth": 0,
             "ticks": ""
            },
            "colorscale": [
             [
              0,
              "#0d0887"
             ],
             [
              0.1111111111111111,
              "#46039f"
             ],
             [
              0.2222222222222222,
              "#7201a8"
             ],
             [
              0.3333333333333333,
              "#9c179e"
             ],
             [
              0.4444444444444444,
              "#bd3786"
             ],
             [
              0.5555555555555556,
              "#d8576b"
             ],
             [
              0.6666666666666666,
              "#ed7953"
             ],
             [
              0.7777777777777778,
              "#fb9f3a"
             ],
             [
              0.8888888888888888,
              "#fdca26"
             ],
             [
              1,
              "#f0f921"
             ]
            ],
            "type": "histogram2d"
           }
          ],
          "histogram2dcontour": [
           {
            "colorbar": {
             "outlinewidth": 0,
             "ticks": ""
            },
            "colorscale": [
             [
              0,
              "#0d0887"
             ],
             [
              0.1111111111111111,
              "#46039f"
             ],
             [
              0.2222222222222222,
              "#7201a8"
             ],
             [
              0.3333333333333333,
              "#9c179e"
             ],
             [
              0.4444444444444444,
              "#bd3786"
             ],
             [
              0.5555555555555556,
              "#d8576b"
             ],
             [
              0.6666666666666666,
              "#ed7953"
             ],
             [
              0.7777777777777778,
              "#fb9f3a"
             ],
             [
              0.8888888888888888,
              "#fdca26"
             ],
             [
              1,
              "#f0f921"
             ]
            ],
            "type": "histogram2dcontour"
           }
          ],
          "mesh3d": [
           {
            "colorbar": {
             "outlinewidth": 0,
             "ticks": ""
            },
            "type": "mesh3d"
           }
          ],
          "parcoords": [
           {
            "line": {
             "colorbar": {
              "outlinewidth": 0,
              "ticks": ""
             }
            },
            "type": "parcoords"
           }
          ],
          "pie": [
           {
            "automargin": true,
            "type": "pie"
           }
          ],
          "scatter": [
           {
            "fillpattern": {
             "fillmode": "overlay",
             "size": 10,
             "solidity": 0.2
            },
            "type": "scatter"
           }
          ],
          "scatter3d": [
           {
            "line": {
             "colorbar": {
              "outlinewidth": 0,
              "ticks": ""
             }
            },
            "marker": {
             "colorbar": {
              "outlinewidth": 0,
              "ticks": ""
             }
            },
            "type": "scatter3d"
           }
          ],
          "scattercarpet": [
           {
            "marker": {
             "colorbar": {
              "outlinewidth": 0,
              "ticks": ""
             }
            },
            "type": "scattercarpet"
           }
          ],
          "scattergeo": [
           {
            "marker": {
             "colorbar": {
              "outlinewidth": 0,
              "ticks": ""
             }
            },
            "type": "scattergeo"
           }
          ],
          "scattergl": [
           {
            "marker": {
             "colorbar": {
              "outlinewidth": 0,
              "ticks": ""
             }
            },
            "type": "scattergl"
           }
          ],
          "scattermap": [
           {
            "marker": {
             "colorbar": {
              "outlinewidth": 0,
              "ticks": ""
             }
            },
            "type": "scattermap"
           }
          ],
          "scattermapbox": [
           {
            "marker": {
             "colorbar": {
              "outlinewidth": 0,
              "ticks": ""
             }
            },
            "type": "scattermapbox"
           }
          ],
          "scatterpolar": [
           {
            "marker": {
             "colorbar": {
              "outlinewidth": 0,
              "ticks": ""
             }
            },
            "type": "scatterpolar"
           }
          ],
          "scatterpolargl": [
           {
            "marker": {
             "colorbar": {
              "outlinewidth": 0,
              "ticks": ""
             }
            },
            "type": "scatterpolargl"
           }
          ],
          "scatterternary": [
           {
            "marker": {
             "colorbar": {
              "outlinewidth": 0,
              "ticks": ""
             }
            },
            "type": "scatterternary"
           }
          ],
          "surface": [
           {
            "colorbar": {
             "outlinewidth": 0,
             "ticks": ""
            },
            "colorscale": [
             [
              0,
              "#0d0887"
             ],
             [
              0.1111111111111111,
              "#46039f"
             ],
             [
              0.2222222222222222,
              "#7201a8"
             ],
             [
              0.3333333333333333,
              "#9c179e"
             ],
             [
              0.4444444444444444,
              "#bd3786"
             ],
             [
              0.5555555555555556,
              "#d8576b"
             ],
             [
              0.6666666666666666,
              "#ed7953"
             ],
             [
              0.7777777777777778,
              "#fb9f3a"
             ],
             [
              0.8888888888888888,
              "#fdca26"
             ],
             [
              1,
              "#f0f921"
             ]
            ],
            "type": "surface"
           }
          ],
          "table": [
           {
            "cells": {
             "fill": {
              "color": "#EBF0F8"
             },
             "line": {
              "color": "white"
             }
            },
            "header": {
             "fill": {
              "color": "#C8D4E3"
             },
             "line": {
              "color": "white"
             }
            },
            "type": "table"
           }
          ]
         },
         "layout": {
          "annotationdefaults": {
           "arrowcolor": "#2a3f5f",
           "arrowhead": 0,
           "arrowwidth": 1
          },
          "autotypenumbers": "strict",
          "coloraxis": {
           "colorbar": {
            "outlinewidth": 0,
            "ticks": ""
           }
          },
          "colorscale": {
           "diverging": [
            [
             0,
             "#8e0152"
            ],
            [
             0.1,
             "#c51b7d"
            ],
            [
             0.2,
             "#de77ae"
            ],
            [
             0.3,
             "#f1b6da"
            ],
            [
             0.4,
             "#fde0ef"
            ],
            [
             0.5,
             "#f7f7f7"
            ],
            [
             0.6,
             "#e6f5d0"
            ],
            [
             0.7,
             "#b8e186"
            ],
            [
             0.8,
             "#7fbc41"
            ],
            [
             0.9,
             "#4d9221"
            ],
            [
             1,
             "#276419"
            ]
           ],
           "sequential": [
            [
             0,
             "#0d0887"
            ],
            [
             0.1111111111111111,
             "#46039f"
            ],
            [
             0.2222222222222222,
             "#7201a8"
            ],
            [
             0.3333333333333333,
             "#9c179e"
            ],
            [
             0.4444444444444444,
             "#bd3786"
            ],
            [
             0.5555555555555556,
             "#d8576b"
            ],
            [
             0.6666666666666666,
             "#ed7953"
            ],
            [
             0.7777777777777778,
             "#fb9f3a"
            ],
            [
             0.8888888888888888,
             "#fdca26"
            ],
            [
             1,
             "#f0f921"
            ]
           ],
           "sequentialminus": [
            [
             0,
             "#0d0887"
            ],
            [
             0.1111111111111111,
             "#46039f"
            ],
            [
             0.2222222222222222,
             "#7201a8"
            ],
            [
             0.3333333333333333,
             "#9c179e"
            ],
            [
             0.4444444444444444,
             "#bd3786"
            ],
            [
             0.5555555555555556,
             "#d8576b"
            ],
            [
             0.6666666666666666,
             "#ed7953"
            ],
            [
             0.7777777777777778,
             "#fb9f3a"
            ],
            [
             0.8888888888888888,
             "#fdca26"
            ],
            [
             1,
             "#f0f921"
            ]
           ]
          },
          "colorway": [
           "#636efa",
           "#EF553B",
           "#00cc96",
           "#ab63fa",
           "#FFA15A",
           "#19d3f3",
           "#FF6692",
           "#B6E880",
           "#FF97FF",
           "#FECB52"
          ],
          "font": {
           "color": "#2a3f5f"
          },
          "geo": {
           "bgcolor": "white",
           "lakecolor": "white",
           "landcolor": "#E5ECF6",
           "showlakes": true,
           "showland": true,
           "subunitcolor": "white"
          },
          "hoverlabel": {
           "align": "left"
          },
          "hovermode": "closest",
          "mapbox": {
           "style": "light"
          },
          "paper_bgcolor": "white",
          "plot_bgcolor": "#E5ECF6",
          "polar": {
           "angularaxis": {
            "gridcolor": "white",
            "linecolor": "white",
            "ticks": ""
           },
           "bgcolor": "#E5ECF6",
           "radialaxis": {
            "gridcolor": "white",
            "linecolor": "white",
            "ticks": ""
           }
          },
          "scene": {
           "xaxis": {
            "backgroundcolor": "#E5ECF6",
            "gridcolor": "white",
            "gridwidth": 2,
            "linecolor": "white",
            "showbackground": true,
            "ticks": "",
            "zerolinecolor": "white"
           },
           "yaxis": {
            "backgroundcolor": "#E5ECF6",
            "gridcolor": "white",
            "gridwidth": 2,
            "linecolor": "white",
            "showbackground": true,
            "ticks": "",
            "zerolinecolor": "white"
           },
           "zaxis": {
            "backgroundcolor": "#E5ECF6",
            "gridcolor": "white",
            "gridwidth": 2,
            "linecolor": "white",
            "showbackground": true,
            "ticks": "",
            "zerolinecolor": "white"
           }
          },
          "shapedefaults": {
           "line": {
            "color": "#2a3f5f"
           }
          },
          "ternary": {
           "aaxis": {
            "gridcolor": "white",
            "linecolor": "white",
            "ticks": ""
           },
           "baxis": {
            "gridcolor": "white",
            "linecolor": "white",
            "ticks": ""
           },
           "bgcolor": "#E5ECF6",
           "caxis": {
            "gridcolor": "white",
            "linecolor": "white",
            "ticks": ""
           }
          },
          "title": {
           "x": 0.05
          },
          "xaxis": {
           "automargin": true,
           "gridcolor": "white",
           "linecolor": "white",
           "ticks": "",
           "title": {
            "standoff": 15
           },
           "zerolinecolor": "white",
           "zerolinewidth": 2
          },
          "yaxis": {
           "automargin": true,
           "gridcolor": "white",
           "linecolor": "white",
           "ticks": "",
           "title": {
            "standoff": 15
           },
           "zerolinecolor": "white",
           "zerolinewidth": 2
          }
         }
        },
        "title": {
         "text": "Price Distribution by Listing Type"
        },
        "xaxis": {
         "anchor": "y",
         "categoryarray": [
          "Sale",
          "Rent"
         ],
         "categoryorder": "array",
         "domain": [
          0,
          1
         ],
         "title": {
          "text": "Listing Type"
         }
        },
        "yaxis": {
         "anchor": "x",
         "domain": [
          0,
          1
         ],
         "title": {
          "text": "listing_price"
         },
         "type": "log"
        }
       }
      }
     },
     "metadata": {},
     "output_type": "display_data"
    }
   ],
   "source": [
    "fig4 = px.box(property_df,\n",
    "             x=\"listing_type\",\n",
    "             y=\"listing_price\",\n",
    "             color=\"listing_type\",\n",
    "             title=\"Price Distribution by Listing Type\",\n",
    "             labels={\"listing_type\":\"listing_type\", \"listing_type\":\"Listing Type\"})\n",
    "fig4.update_yaxes(type=\"log\")\n",
    "fig4.show()\n"
   ]
  },
  {
   "cell_type": "code",
   "execution_count": 50,
   "id": "28e333e5",
   "metadata": {},
   "outputs": [],
   "source": [
    "# The box plot shows that Sale prices have a much wider distribution compared to Rent prices, with several high-value outliers. \n",
    "# Most of the values are small, but there are a few high-value properties are affecting the average.\n",
    "#require further investigation to analyse extreme values."
   ]
  },
  {
   "cell_type": "markdown",
   "id": "5a4b6e74",
   "metadata": {},
   "source": [
    "### understand sale outliers"
   ]
  },
  {
   "cell_type": "code",
   "execution_count": 51,
   "id": "c326d3da",
   "metadata": {},
   "outputs": [
    {
     "data": {
      "application/vnd.plotly.v1+json": {
       "config": {
        "plotlyServerURL": "https://plot.ly"
       },
       "data": [
        {
         "hovertemplate": "property_type=House<br>no_rooms=%{x}<br>listing_price=%{y}<extra></extra>",
         "legendgroup": "House",
         "marker": {
          "color": "#636efa",
          "symbol": "circle"
         },
         "mode": "markers",
         "name": "House",
         "showlegend": true,
         "type": "scattergl",
         "x": {
          "bdata": "CwoICAwHBgoKCwkJCgYMCAYHDQkLCwoICQwICQoKCAkJCwYJCgcJCAkJBwoJCAgLCwkKCAkJCQgMCQwMCQkMBwoICgwHBQcLCAkHCwoHCQsJBQgKCAkHCQoJCQoLCA0LCwcKCQkICwoLCg0HBg0NCgkHBQsMCgkKCgsLCggLCAkJBgoICQgKBwoKCgkICQsJCgoIBgYKCQsKCQoJCQkJCgkJCQgHCAkICQgKCgcKDAoICQgLBwsICgUJCAgKCAUHBwsJBQcMBgkKBwgKCQgJBQcIBwkJCQgJCgcHCwkKCAkJCQkIBwkJBggIDAcKCQYJCAYJCAwJBgcKBggLBQ0ICwsJBwgIDAsICAcKCAwHBwgJCAkKDAoJBwgICgoKCwwLBggHBwkICwsJCAcJCgkLBgcICgoJCQsKCwsJCwoJCQYMCgkLCwsLCwsJBwkJ",
          "dtype": "i1"
         },
         "xaxis": "x",
         "y": {
          "bdata": "+VoHAI1YBwBv0gYAGqUFALVfCwD56gQAeL8IAGNWCABTfQkAS7YHAHmlCgBgUAYA5qkGAJSeAwDMhg4Aqy8EANolCAAS9gYAUDkJAKf1BgDCKggA4tYJANwHBwDiegYAZU0GAE0zDwBWiQ0ALjcKALiWBwDfXQgA/g4GAMwcCABSxgYA0JwHAPF8BgAIlwkAhFELAKJpBwAMCwUAkt8GAJ3jCAAA3QYAySYKAKYuDwBcUAoA5PAKAD2hBgDtlgUATgYLAAZgCAAlBgcAsTEGAIIiBwBKFQcAps0OAOd6BABhfwgAfDwIAHQSCQAL+ggA0SAJABJGBwAMcQ0AGV0KAGnsBwBYlQUAGvoHALn0DABusgcAXGwGAEv4BwCSaAgA3bUMAE3QBQDhAwcA63YKAGWmBwDu3AUAKSUJALuvCQBU8wUAAJcFAC19BwCI2QkAXqcGAEPUBwB/lwYA8x8LAOFTBwB41wYAbgEIACPjCgDK3QcAM6QGAMCmCADlBAoAHjENABV+BQDnYAYA2o4JAAFUBwANKAgAjfQJAMCLBwAJvgcAHSkHAHeQDAB4nQQAM1gGAOFxCAAuCwcA2usIAPOyBgCSxwUA1bMFAFDqCAANFwoARb0HAAD/CQBqaAwAq0YHAPF8CgCyAgcA9qMHAFiyCgAHoQoAosYFAC8nBgDuMwsAMUkFAEOpCQBQ9QsAeg4IABEjBgCNcggAt8UIADmWCADVIA4AtqsGANckCgCzhAsA+wwIABe5CgC+2AkASHkHAMxMCwCtVQcAF0IKAFBECAD9HQgAz48GAHvmCABSYAkAGv4FACLyDQBYoQUAiGAEAG1oBABHswYA6XEHAIQyCAAPOwoAmwULAPZCBwCyFQgAG/UMAHNGCQBcqwoAASUJAEasCACxPwcARsULAKQtCQBPeAsAXMENACnHBgBPMwoA5zEKAC3MDABw8AkAM6UGAH33BgB+owgA+OIJAI91CAD5ywYAgrcFAEQvCQD2CQ0AEvoGACbfBwDFmgUATbMFAPWCCABnEQcAm+8JANjgCQCYoQsATxwGABu9BQDpMAoAcHEHAN1aBwBc1AkAdi8IAMe0BQCu0wcAb6gDAJTqBgBsRQgA09sEAIAcDQB7SQYAf7EGACbICwDb3AUA7ZgGANCUBgAqgQgAL0oHABiaCgA4hQ4Aax8EAIOhBgA1lQsAIDwFADA+BQA+BggA5hQFAAR4BwATxwgAy1kIAL1UBACNqAYAzzMKAM57BwCxTQYAi9EFANSiBwDjjAYAwo4IAPBzBQAa0gQAVc4JAPpJBQAv+AkAUF8KAD1kBQBFnggASt0FAMIuDAAEswYA93AGAHkqDwCoLQoAHsoGAOXnBwAoTAYAQVIIAORtDQAWqAcAbw0LAC3CBwB6owQAW8cFAOzIBgCoXAkAgjEIAIAjCwD6MQkANb0JAEPSCgCMVwwAdRIJALJNBgDk+AoA0ewLAEiNBgA4XgYAEikKAEJHBgBsugUAZXoKACn0DQA/gAwAKTANAAVqCQCkTAwAyW8DACFlBgDpDQsAfOMGAAcQDQDuZwgAeK4IAAXqBgDjXAYA3eEEAEL0BwAYeAwAWXYFAHpbBQAsuwkAgQUIAESXBwCSKgUAnz4GANaWCABEfAkASe4GAKPEBgAthAoAMQsHAIGfBwCT8wUA550JAE4ZBgBwSgkAm3gJAJnTBQAJTwgAchkIAHFeBwDkIAsAjBQMAPxsCwCOBAgAwI4LAMdFCgB4gQcAdSIFABtfCwDsSwUA",
          "dtype": "i4"
         },
         "yaxis": "y"
        },
        {
         "hovertemplate": "property_type=Studio<br>no_rooms=%{x}<br>listing_price=%{y}<extra></extra>",
         "legendgroup": "Studio",
         "marker": {
          "color": "#EF553B",
          "symbol": "circle"
         },
         "mode": "markers",
         "name": "Studio",
         "showlegend": true,
         "type": "scattergl",
         "x": {
          "bdata": "AwMEBQQGBAUEBAMCBQMFAwUGBQQGBgYFAgQEAwMFBAYEAgYEAgQEAwQCAwMDBQIDBgMCBgYDBAIDAwIFBgMCBAUEBAUDBQMDBAUGAgUDBQMEAwUGAwUGBAUDBAUEBAMDBQUFBAQFBgQEBgMFBQQCBQMDBQUEAwYDBgUEBQQEAgYEAwUEBAQCBQYGBAQGAgUDBQYGAwQDBgMCBgUFBAIFBQUDBgIFBgMDBQUGBQYEBAMFBQUFAwQGBAYCAgMEBAUGBAYDAgUEAwMEAwUFBAMFBQIDAwUFAwUCAwUFBAUGBAMDBQUCAgMEAwQDBQIDBAQFBQUGBQQFBQQGBAYDBAUCAgQEBQQCBgUFBAUFBQIDAwMFBQQEAgMFBAQFBQIEBAYEBQYGBAYFAwQEAgMDBgQGBQMGBAQEAwIEAgQCBAUDAgUCAwIFAwYEBgUE",
          "dtype": "i1"
         },
         "xaxis": "x",
         "y": {
          "bdata": "pJsBALUVAwBy4gIAubUDAB3iAwDDgAMAK/kDAPhbAQA23AEAudECAEt4AgBIogIA4kcCAPVKBAA7AAIAIUYDAM3fAQBY1AMAkNEBAFi/AQBBYwIAmEECAN2KAgBnqQIAZjwCAME7AwAu0wIAdtcCAPLVAQA9xAIARDsCACiTAwDc0wEAd28CABx2AgCLLgMAOz8DAE2/AgDo+gEAdTQCAJ73AQBgoAEAcf0BAPKbAwAHZwIAsLEDAKmrAQA3qgEAt/QBAGMBAgB5cQEAIxQCAG6OAgAgFwIAnnMCANcsAgBYCwIAe4YDAHrsAQBCrgMALGgCAMrIAQDbvgIANzMEADskAgAQZgIAjfABANhIBAA4igIAzTsCAG/wAQBTVAIAkvACAFRsAgDVEAIArSkCABjVAQBgFQMAZxcCAEHEAQC/MwIA7NkCAJUBAgBHLQMAaEECAMeWAwAK0AIAOL0BAB7UAQAm1wIAO5UCAPPwAwBN4gIAHdIBAHdeAgDFrwIAVNMCACdmAgC1ygMAlc4CAHMlAgBc4gEAfacDAFqhAQAgLgIAy5EDAHMzAwD4MgEAHAUEAHUeAgCduwEAJH4CADpMBABmyQMAtvYCAMloAgBWSgIAXdcBAP2RAwDaDAMA5VkDABeQAwBPjAIA7v0BAAZ1AgBjPAEAVg4CAKk8BACAkQIAM0gDAJPEAQAw6gEAgcADAPK+AwA6hwEAwmACAKGtAgBmcgIArkgCAMPMAQDM/AIAtbwCANibAgCifAIAQWECAAp9AgAgkwMATf8CAJz4AQBIEgIAeZIDALXRAwCJ6wEAhPADAFy6AgDtuAIAvr4DAF6sAQDihAIA5WoCAIp4AgBuSAMApZoCAH/sAQDaUAMAgJsCAGHbAQDkFwIA1MMBAMzXAQAMvgEAan0CAIKPAgBBYwIAVvYCAGTkAgArAgIATQkCAH+eAgCrpwMAhnYDAEUNAgB6qgMAALABAJkrAgD9FwIApVgDAMsEAwCf2QEA7DIDAJGWAwB48wEADeQCANCBAwDAoQIA08cBABHCAgDdwAIAwf0BAJqXAQBZlgEAnL0CABw4AwA5ZQIA3AMDAM1rAwD8kgIAgpQCAGs6AwCdLwMAIAICAJfaAQCmnQIAM20CAOhJAgAHLQIA6XICAAQUBAAuNwIASv8BADULAgBZxgMAWqUCAJOOAwAFIAIAIa4CACadAgAsEQIAPuEBAGCeAQDM1AIA/H0DALISBAAN3gEA5MYDAOJWAQCZMQIA3o0CAE7JAwD0FwQAkisCAN4HAgCVdgIAINEBAJxHAwBg5gEAZIoCAIr+AgCDjwIA2vwDAHIBAgC1TgIAmywCAM7FAwCsSAIAWckBAEZVAgAP4QEAmusBAP9EAwC54wEAFKADAKHxAgDeUQIA6Q8CACMIAgDtzwEAlqACANcVAgDXugEAw+kBAPpkAgCr6gEAuhwCAI/mAgC+swMAG10CAD/mAQDtMQMAFnYCAMxqAwBAFgMAMEwDAPMuAgB3kAIAMMQBAEHaAgCogAIABtsCAM2mAgCgIwQAiM0BAE3PAwCSJgMAvrsCAOLyAQCIQAIAqwgCAJzWAgD3zgIATowCAHG8AQDTfgMAGkACAN6nAgD79wEAZYsDABnvAQBxDwMA+MQDAHIdAgDw3wEA7iICADlsAgCvJwMA41oEADa/AQCkqwIAkS4CALUGBADy+QIAcboCAJItAQCAoAIAgNICADVGAgAYaQIA26MCAJUxAgDJCgIA",
          "dtype": "i4"
         },
         "yaxis": "y"
        },
        {
         "hovertemplate": "property_type=Office<br>no_rooms=%{x}<br>listing_price=%{y}<extra></extra>",
         "legendgroup": "Office",
         "marker": {
          "color": "#00cc96",
          "symbol": "circle"
         },
         "mode": "markers",
         "name": "Office",
         "showlegend": true,
         "type": "scattergl",
         "x": {
          "bdata": "CQYGBgoHCQkDCQcCBgYEBgUJBQoHCAcGBwQJBwkHCQYHCQUKBAgICgYICgYHCgcIAwYJCAcHBAYICwcHBQgHBQcDCgkHAwcGCAsJCAgGCQYHBwcHCAYKBwYHBgUFBwUGBwgFCgYIBwcHBwUHBAQLBgUGBwYHBgYHCQUHBgQFCQgGBgoHBwoFCQcIBgcHBgoGCQgGBQYGBgYICAsFBAUIBwcECwgHBgoLBwkIBwcHBQkFCgkDCwsGBgcJBwYGBAYGCAoHBgIIBAUEBQQECAQGCAkHBAUFCAMDBQcJBggGBAgEBAQFBAcFBAYIBgYHCgUFBQYCAggGBQYIAgYHCAcGCAcHCQsDBwgDCQcFAwcHCAkJCAgIBwYHBgQGCQgFCgYFBwQFBQgGCQcKBAgDBQcGBQYHBQcFCAUIBAcFCAQGBggGBwgHCAQICAYH",
          "dtype": "i1"
         },
         "xaxis": "x",
         "y": {
          "bdata": "6b0FAB29AwDDXQQAA40CAMUfBwBt4wIA3IoFADfoAwA/8QEAc28DAC/VAwCCSwMAGBsDANnwBQAYIwMAK70BAJwgBACQ2AMAJ+kCAB2KBAC4EAQAUPADAA7lAwBjkgIA1BcCAHi3AgDpFAQA5j4EAGy0BACJRQQAFi0FAATSAgCDEAYAa+gFAIkjAgCUPwUAkDACAKjjAwBFfQgA3UgGAN76AgCxrAQAcmgEACn8BQDc0wIAjlkEABFsBQC1EAcAo6ABAMS/BgAAMgQAwecFAFwWBACrrQMAiNUBAAqwAwCFCgYAaWUEAAC1BgBgZQQA0toDAO4iBACOwAYA7E4DAHrhAwCTOwMAp6UEAMWDBACpaAMAV/EDACSwAwD+HwQAaFYEABiGBACmvwUAcSMDAOyOAwAHtgUAgCIFAJKlBwDA5QMAvkIEAJsxAgD54gMAeeUDAFAcAgD1SwQATZgDAEInBQDZaAMAIxsDAL45AwDGcgIA2O4CANF6AgCXTQMAWHkEAJXjAwB9xQIATSQHAL8qAgDtIAIAdZIEAIEpAwCQHwMAMB4EAFNmBQALVAIAU4UDAKgvAgDHWwUAYIACACLvAgAuEgMAYQcEAI+sAgCX+gEA1ZkCAMc8AwAC8wQAiDcEAMqWAgBGlQMA9w0DAByKAwCJDgQA4XEDAKHfBABx6wIA3pwEABlyBAASeAMA72QFADKxBACP+AEAbl4FAAKIBQBvPwMArZEDADEPAwCLgAQAhiUCAMUTBQA4WAMApzYEAEdOBgB62QIADlwDALLCAgCJ5wUAoRoFAD+lAgCklwIAcr0EAHUgBAB1bwIAfCICANXIAwDG7QcA3KMDAJaLBQCZLgMA2RsFAO1ABAA0uQUAW+IDAPA3AwCJOgUAN2wEALLeAwCVxAQA1KoDAEgcBAAGZwMAPX8CAFAwBAAxaQMAps0EAF+/BQCxzwEAuZ4GABLGBgA/qAYANAoEAMqqAwDcAQUAVcwDAJ4FBABxMQQA4XMDABBvBAD+TwMALfoCAIqNBgCW4QIAE+ICADOUAwA20gQAX5oDAL0RBAAwNAMAMLICAMwuBQBNvAEA6dADAHwuAgCIUAMAJ0kDALAwAwA4pwMAZmsDAHJ6BQDwqwIAk6gCABtcAwDoQwIAXAcCAPJGBAA3tgcAg8IDANvwBgDslQMAngkDACw+BAAtEgMAaz0DAGZ4AQBoxQQAfAICAMmCBAAfzQEAHc8CAFwyBAAV9QIAsSUDAILyAgCkjgYAQGIDAJ5mAwAA5AEAe2QEANT5AgBUBwIAj1ADAKu3AwBvdQUAq64CAFseBACy+wIARWIDAGi0AwD37QUAkCsEAHLQAwDKkQIA18cFADlhAwBGOwQAjqoEAIxgAwAOJgMA15gDAHlLBAC1EgMA/fYEAJYGBACqVQMALFkCAPlABADrJQQAxOEDAHT3BAAIqAYAbk0FALbKBQD37gMAEZoDAHapAgD2IgYAzWkDALfvAgAUYQIAoMkGAOeIAgAZ+wEAlkIGAHAOBQCKKQQAl6wBACRtBACxwQMAPGACAOhnAwB/KQMA5fgEADsNBAD/oAQA6IwDAJGuBQDnOQIAqCQDAE0+BADNvwMAV/kBAMRNAwB8RQMAVRMEAKWzAgASbwIA+GkEAHtQAgBaSwIA630CANPPAwCDPgMAQl0EAGi6AgCEkgIAZQ4EAGx6BABiIwMAc4AFANJpBwDJwgMA/nsFABNhAgC9XAQAnNkCANHeAgDArwQA",
          "dtype": "i4"
         },
         "yaxis": "y"
        },
        {
         "hovertemplate": "property_type=Apartment<br>no_rooms=%{x}<br>listing_price=%{y}<extra></extra>",
         "legendgroup": "Apartment",
         "marker": {
          "color": "#ab63fa",
          "symbol": "circle"
         },
         "mode": "markers",
         "name": "Apartment",
         "showlegend": true,
         "type": "scattergl",
         "x": {
          "bdata": "CAUICAcIBQcGBgYGCAgIBgYGCQgICAUHBgYFCAcIBgUFBwMICAcDBwUICQcHBgcIBQYIBQQHBQMGBgYFBwYICQUFBwcGBQYHBQUGBwgECAYHCAcJBQYICAUHBwkGBgQHBwYGBgUFBAcGBAcIBgcHBwcJBwcFBgcICAkECQgGCAUICQYFBwkFBwgFBwUJBgkGBAUHBgkFBwcGBwgFCAYICAgFCQUHBQUIBwYFAwUGBwgFCAcICAgGBwQFBAcJCgYICAUIBAcJBAUIBwYFCAgFCAQJBQUEBggIBQUHBwQJCQYDCQQHBwYGBwcKBwYGBQYHCAcHCQkKBggHCAMDCgcICAcHBQcGCAYGBQgKBAgJBgUJBAUFBwcGBAYFCAcGBAcHCAYEBQQKCAcIBgcHBQgHBAgHCAcJCQUHBAcHBgkGBwgFBwUFCAYKCAg=",
          "dtype": "i1"
         },
         "xaxis": "x",
         "y": {
          "bdata": "K2MCAIgLAgDgHgQAShcCADY9BgDpBAQA93MEAGWkAgBYcQIAlSUCAI/QAgBh+QMAaCIEAPk8BABumwQAhrgEAJeBAwAz4QMAnjwDAPnGAgCJwgUAIucEAFQzAwDYhQMAdVYDAKhEAwClegQATFADADQYAwCB4gMA1wkDAFW2AgBzXAMAFgcDALq2AgDbhQIAP6wDAFgLBAA0pAIAJHYDAGCxAgCN8gMAwuMGAEfkAgAhcAMAHZsCAMFiBAA1OQQAv4kDACKoAwAfIAQAPiUDAMK5AgB9XAIAkWwEACwYAgA2NwIA6vIDAPEwAwBfuQEAYDMFAEicBQD0CwQAZxkEAMIuAgAi0AIAN0ACAMFIBAAMFgIATpYDAIVeBACn1QUAlBkDAJkdAwAiAgUA7zMFAJweBQDp2gIAp7kGAPePAgDnDQQAetMDAAHkBAAEagUAltUBAEcXAwD9eAIALfYCANgzAwDlzAMAR0EGAOLnBQCgNgMAIUsEAG/zAwB7SwUAvCsEAMZuAwBKKQMAxdgEAFCdAwBadgQAKZECAF9BBQB1fQQA0n8DAJB/BQCl8QQA+/EEAAu+AgDcQQQAy5cCAKFrAwBR7wIAiIcCAO6zAgBobgIA1HsDADaUAgAMcQMAwe8EAFPjBQCf1wIAgvQEANrQAwBdigMAxq8DABHIAwBlggIAdLgCAN0gBQCmaAQAxn4DALi9AwDNLwMAcI8DAPwXAgA30gIA7KkCAH58AgCN+wQAvbsCACWmBQA87wIA9DsEAGufAgBtugQAUQYEALMVBACkhAQABGoDALczAwAmjQQA8zIDADFqAwD8qQMAEc4DADbeBABsQwMAKjMDAMfVAwDG2AQA4ioEAB6IAwBX5gMAzz4DAGEOBAAKugIAAx4EAOkZAgA9JwMAJywCAC1KBQDh0gIAay0EAGDYBAAKlgMAGhYDAAcWAwCiPQUAVekDADLQAgCQyQUAYGwCAC3AAgBC5QIApSYDADZjAgCj1wIApIIGAL/DAwD8awMABd8CANIfAwDqFQYAypoCAEFcAwArzwMAzkUCAJkYAwDc8AQAMxICAKg+BABJwAMAJBgDAEaqAgDQcgIAspwDABV5AgCpdAUAv+kCAHRLAgBhVgQANWYFAID0AgBpPgUA1dADALVRAwCnUAMA96wCALiEAgDLlQUAFVgEAFiPBACfzgMARFYCAJ7lBADOlAMAXDkDAIXoBABKoQIAOFcCAIo6AwAD9gMA6rADAJPwAwD6XgUAo9gCAINaAwCD6gEAXMQCAO01BAADlAMAw3ADADL6AwB0fAQAh14CAOWLAwC/oAIA/psEALOEBABr7gMAUKQDAHQkAwCM6gIAZb8DAEDdAgC07wMAotwEAJh6AgBTiQIAix8DAJ3LAwD1ygIAvaADAFldAgAbAAUAApcCALTWAwBjxAQAajQDAKwVAwDMTwMAWcUDAAjWAgDLKwQAMNsBAMqnAwCkrQIA3KoEAJk5BAD0IQMAdYcEAPLgAwBq9wMAbA8CAMcuBAB7iQUA6uAEAI2GBQCw1gIAPXsDALg/AwBpJQQALDYFAIa7AgA2fgMAjC0DAFfEBQBntgIABI4DAMLbBADchgMAQBECALUgAwDpwgQAN08GAFLXAwAZygQACNwDAIDGAgBIuwMAiRsCALniAgDTsQIAozgDAMcCAwAfGgMARWIDABwiAwDH/gMAb98FAJ4YAwDSsQQAYRoEAFQOAgAKswMAFX0FAHnzAwA=",
          "dtype": "i4"
         },
         "yaxis": "y"
        },
        {
         "hovertemplate": "property_type=Villa<br>no_rooms=%{x}<br>listing_price=%{y}<extra></extra>",
         "legendgroup": "Villa",
         "marker": {
          "color": "#FFA15A",
          "symbol": "circle"
         },
         "mode": "markers",
         "name": "Villa",
         "showlegend": true,
         "type": "scattergl",
         "x": {
          "bdata": "DQkLCg0NDgoKCw0MDAwPDw0MCwoJCgoNDwwNDQkHDQwNCwsLDA0ODgwLCwwQEAgMCwcKDAwKDRENDA4KDwwOCQsPDg0KDAkJCQ0NCgsRDQsKDQwNDAwNDxAKDA8KCBAPCgoLCwwODw0ICQwODgwMCg0PCAoPDQwMChAMDg4NCw0MCgwLCQgMDg0KDREPCQ0NCRAJEAsJDQ0KDQ4MDwsLDgkMCAkLCwsLDwwJCxALDBAODQ8LDQgLDBANCwkMCQwNCxEPCw4LCQ0PBwwKCQ0ODw8MDwwPCwsHDQsJCw8NDQwMDAsMDQoNCwwJCgsPCw8MDQsMCgoLCw8MCwkLCwoMDAkQEQwQCQ0PDAoPDQ8OCw8JDhAPDQ4MDwkHDw0ODA0KDw8MDQoMDQsLCwwRCwkMCgsLCwsMCAwMDwsKCQ0NCgkLDAo=",
          "dtype": "i1"
         },
         "xaxis": "x",
         "y": {
          "bdata": "kAgaADFmEAB4DQ0ASD8SAC2KDQCLDxUA3mcOAEX7EgBltwoACc0RAH7xEQBWpQ4AlogMAF+FDQBMbxYAFIYTAM3gEwC6QwwAhcsNAIBnDQC3nw8AJcQRAAaGEwAqdBAAJwAQAOJjDwAZFA8AZBMYAFNGDgCRzgoAmH4RADN+EQDDORkADGAOAL7ODQCKQxEAoSEUAOe4FwB9ChAAD7seANHvEADReBgAnlUPAN29GADJsBoABRsSACjBBwDA8BAAjlUXAPhbDABBng8Ayq0VAEr3DwCa5g0A8/4TAF3tDQChKBoA9coPAD3qDgCNJA4A74cQAKu0CwA3iRAAUtwTAMP9CgAd7RoAPgIUAP+TEwAQvw0AF8AQAEpFDADBchUA1N8SAJiOCgBBhhAATqgNAKGjCgDsshkAjOEUAE7MCgBXcQ0AuGkNABm9DgCeEg4AvXYMAPZ7EADDUBoAH/QRAFf/EAAZugoA8AMgAMgDEQDzMQ0Ax/wJADYhEAAkChkAxIYMAJlbDQC1fBYAEoALAPFiDQA0aREAP2cRAGehEgB2aQ8ACfELAOW+GgDVTBAAmJ4OAIAcEgAchg4Aq1kSAK0bGQCK3g8ARxgOANB5DQD8nhEA1EUaAIHHEQCprRUA9r4UAJBoHgDEuA4AZgkNANjdDABPMQoA5msOAL/dDADpVRAAKsoQANwiEwCEVxEA7u0IAM++CwDwORoAqEITAHtEDgAGuxIA/q4QACYMEgAFJxAAfxkLADFWDAAa7hAAs94NAPcnEABgEw8AB78VAGZwFQAx5hAAHpYQAKbQEgC/pBMAYVkNAKIpEAAbcxEAkAAaAOZkDwD/Zw8AyNcXABOTEQD9YRAAnKMVADFhCwAqfgwAzsEPAPjhEQDJOwoADyoQADU9FwD1dAwA8foMADxfHACcJRQA/swUADqSGgAf0hQAoSANAPbLEgD3UhEAFhIPAP5VCgD+UxIAB/oNALhaFADt4woAqPUPAMfjCQBkexoA87cLAHAoGQBSpg4A0sUMAH5NEwCKgRsAoYsQABAjDQBF4g4AyBIKAMFQFwAVGBUAcS0KABo3DgDy+AoAaAIOADGKFAD40BgAqfQYAKEEGQAx4hMAW50VAJv0FwAkLhQA44UPAE06DADvAQwAI1gOAHIMEwBsjBIAIJIOADr+DwBGrgwAXlgNAHicCwBJLRoAUO8QAFGqDABe4QwA4lsSAAHGEgB/PA4AGEcQACpwEgCwwRAArWsXANGxEQAXDR0A6uwQAIcQFABkQw0Amy0OAC+zDADNFAsA1gYJAPLtDADWvRIA9h4QAPODFABiog8A1k0RAOSrDAB5Hw0AKaUSAOu4EwDTJwwAANcNAPhhDQAn5BEAREwXAJ9jDwA/6RAAxjoSAG4HCwBN/A8AbE4OACc+EwBb0hMAKDIcANxZHQDfqw0ANYMRAFarGwDGCg8A+WIQANEaEABgxhYAe80MAAQCHQCZtg8AGNYSAGg2GADRagsA4XIXADIeFwDYEhMA6pwQAD7QFQBn9BQA3mkQAPnWEQBKwBEAwkMdAKosEwCC6xEAEIYRACxaDgDidhEA74wOAOw5DgCefhwAKmEUAFlxCQDi2BAAnQkUALdkFQAjHQ4Ap9YXABXbEwCwbREAdLEMAKqSDABxJBUAsekVAPQnCgDqCBEAH5wLABYrDQC+3AoAfB0LAK30FwAawwwARnQVAPlyCwA=",
          "dtype": "i4"
         },
         "yaxis": "y"
        }
       ],
       "layout": {
        "legend": {
         "title": {
          "text": "property_type"
         },
         "tracegroupgap": 0
        },
        "template": {
         "data": {
          "bar": [
           {
            "error_x": {
             "color": "#2a3f5f"
            },
            "error_y": {
             "color": "#2a3f5f"
            },
            "marker": {
             "line": {
              "color": "#E5ECF6",
              "width": 0.5
             },
             "pattern": {
              "fillmode": "overlay",
              "size": 10,
              "solidity": 0.2
             }
            },
            "type": "bar"
           }
          ],
          "barpolar": [
           {
            "marker": {
             "line": {
              "color": "#E5ECF6",
              "width": 0.5
             },
             "pattern": {
              "fillmode": "overlay",
              "size": 10,
              "solidity": 0.2
             }
            },
            "type": "barpolar"
           }
          ],
          "carpet": [
           {
            "aaxis": {
             "endlinecolor": "#2a3f5f",
             "gridcolor": "white",
             "linecolor": "white",
             "minorgridcolor": "white",
             "startlinecolor": "#2a3f5f"
            },
            "baxis": {
             "endlinecolor": "#2a3f5f",
             "gridcolor": "white",
             "linecolor": "white",
             "minorgridcolor": "white",
             "startlinecolor": "#2a3f5f"
            },
            "type": "carpet"
           }
          ],
          "choropleth": [
           {
            "colorbar": {
             "outlinewidth": 0,
             "ticks": ""
            },
            "type": "choropleth"
           }
          ],
          "contour": [
           {
            "colorbar": {
             "outlinewidth": 0,
             "ticks": ""
            },
            "colorscale": [
             [
              0,
              "#0d0887"
             ],
             [
              0.1111111111111111,
              "#46039f"
             ],
             [
              0.2222222222222222,
              "#7201a8"
             ],
             [
              0.3333333333333333,
              "#9c179e"
             ],
             [
              0.4444444444444444,
              "#bd3786"
             ],
             [
              0.5555555555555556,
              "#d8576b"
             ],
             [
              0.6666666666666666,
              "#ed7953"
             ],
             [
              0.7777777777777778,
              "#fb9f3a"
             ],
             [
              0.8888888888888888,
              "#fdca26"
             ],
             [
              1,
              "#f0f921"
             ]
            ],
            "type": "contour"
           }
          ],
          "contourcarpet": [
           {
            "colorbar": {
             "outlinewidth": 0,
             "ticks": ""
            },
            "type": "contourcarpet"
           }
          ],
          "heatmap": [
           {
            "colorbar": {
             "outlinewidth": 0,
             "ticks": ""
            },
            "colorscale": [
             [
              0,
              "#0d0887"
             ],
             [
              0.1111111111111111,
              "#46039f"
             ],
             [
              0.2222222222222222,
              "#7201a8"
             ],
             [
              0.3333333333333333,
              "#9c179e"
             ],
             [
              0.4444444444444444,
              "#bd3786"
             ],
             [
              0.5555555555555556,
              "#d8576b"
             ],
             [
              0.6666666666666666,
              "#ed7953"
             ],
             [
              0.7777777777777778,
              "#fb9f3a"
             ],
             [
              0.8888888888888888,
              "#fdca26"
             ],
             [
              1,
              "#f0f921"
             ]
            ],
            "type": "heatmap"
           }
          ],
          "histogram": [
           {
            "marker": {
             "pattern": {
              "fillmode": "overlay",
              "size": 10,
              "solidity": 0.2
             }
            },
            "type": "histogram"
           }
          ],
          "histogram2d": [
           {
            "colorbar": {
             "outlinewidth": 0,
             "ticks": ""
            },
            "colorscale": [
             [
              0,
              "#0d0887"
             ],
             [
              0.1111111111111111,
              "#46039f"
             ],
             [
              0.2222222222222222,
              "#7201a8"
             ],
             [
              0.3333333333333333,
              "#9c179e"
             ],
             [
              0.4444444444444444,
              "#bd3786"
             ],
             [
              0.5555555555555556,
              "#d8576b"
             ],
             [
              0.6666666666666666,
              "#ed7953"
             ],
             [
              0.7777777777777778,
              "#fb9f3a"
             ],
             [
              0.8888888888888888,
              "#fdca26"
             ],
             [
              1,
              "#f0f921"
             ]
            ],
            "type": "histogram2d"
           }
          ],
          "histogram2dcontour": [
           {
            "colorbar": {
             "outlinewidth": 0,
             "ticks": ""
            },
            "colorscale": [
             [
              0,
              "#0d0887"
             ],
             [
              0.1111111111111111,
              "#46039f"
             ],
             [
              0.2222222222222222,
              "#7201a8"
             ],
             [
              0.3333333333333333,
              "#9c179e"
             ],
             [
              0.4444444444444444,
              "#bd3786"
             ],
             [
              0.5555555555555556,
              "#d8576b"
             ],
             [
              0.6666666666666666,
              "#ed7953"
             ],
             [
              0.7777777777777778,
              "#fb9f3a"
             ],
             [
              0.8888888888888888,
              "#fdca26"
             ],
             [
              1,
              "#f0f921"
             ]
            ],
            "type": "histogram2dcontour"
           }
          ],
          "mesh3d": [
           {
            "colorbar": {
             "outlinewidth": 0,
             "ticks": ""
            },
            "type": "mesh3d"
           }
          ],
          "parcoords": [
           {
            "line": {
             "colorbar": {
              "outlinewidth": 0,
              "ticks": ""
             }
            },
            "type": "parcoords"
           }
          ],
          "pie": [
           {
            "automargin": true,
            "type": "pie"
           }
          ],
          "scatter": [
           {
            "fillpattern": {
             "fillmode": "overlay",
             "size": 10,
             "solidity": 0.2
            },
            "type": "scatter"
           }
          ],
          "scatter3d": [
           {
            "line": {
             "colorbar": {
              "outlinewidth": 0,
              "ticks": ""
             }
            },
            "marker": {
             "colorbar": {
              "outlinewidth": 0,
              "ticks": ""
             }
            },
            "type": "scatter3d"
           }
          ],
          "scattercarpet": [
           {
            "marker": {
             "colorbar": {
              "outlinewidth": 0,
              "ticks": ""
             }
            },
            "type": "scattercarpet"
           }
          ],
          "scattergeo": [
           {
            "marker": {
             "colorbar": {
              "outlinewidth": 0,
              "ticks": ""
             }
            },
            "type": "scattergeo"
           }
          ],
          "scattergl": [
           {
            "marker": {
             "colorbar": {
              "outlinewidth": 0,
              "ticks": ""
             }
            },
            "type": "scattergl"
           }
          ],
          "scattermap": [
           {
            "marker": {
             "colorbar": {
              "outlinewidth": 0,
              "ticks": ""
             }
            },
            "type": "scattermap"
           }
          ],
          "scattermapbox": [
           {
            "marker": {
             "colorbar": {
              "outlinewidth": 0,
              "ticks": ""
             }
            },
            "type": "scattermapbox"
           }
          ],
          "scatterpolar": [
           {
            "marker": {
             "colorbar": {
              "outlinewidth": 0,
              "ticks": ""
             }
            },
            "type": "scatterpolar"
           }
          ],
          "scatterpolargl": [
           {
            "marker": {
             "colorbar": {
              "outlinewidth": 0,
              "ticks": ""
             }
            },
            "type": "scatterpolargl"
           }
          ],
          "scatterternary": [
           {
            "marker": {
             "colorbar": {
              "outlinewidth": 0,
              "ticks": ""
             }
            },
            "type": "scatterternary"
           }
          ],
          "surface": [
           {
            "colorbar": {
             "outlinewidth": 0,
             "ticks": ""
            },
            "colorscale": [
             [
              0,
              "#0d0887"
             ],
             [
              0.1111111111111111,
              "#46039f"
             ],
             [
              0.2222222222222222,
              "#7201a8"
             ],
             [
              0.3333333333333333,
              "#9c179e"
             ],
             [
              0.4444444444444444,
              "#bd3786"
             ],
             [
              0.5555555555555556,
              "#d8576b"
             ],
             [
              0.6666666666666666,
              "#ed7953"
             ],
             [
              0.7777777777777778,
              "#fb9f3a"
             ],
             [
              0.8888888888888888,
              "#fdca26"
             ],
             [
              1,
              "#f0f921"
             ]
            ],
            "type": "surface"
           }
          ],
          "table": [
           {
            "cells": {
             "fill": {
              "color": "#EBF0F8"
             },
             "line": {
              "color": "white"
             }
            },
            "header": {
             "fill": {
              "color": "#C8D4E3"
             },
             "line": {
              "color": "white"
             }
            },
            "type": "table"
           }
          ]
         },
         "layout": {
          "annotationdefaults": {
           "arrowcolor": "#2a3f5f",
           "arrowhead": 0,
           "arrowwidth": 1
          },
          "autotypenumbers": "strict",
          "coloraxis": {
           "colorbar": {
            "outlinewidth": 0,
            "ticks": ""
           }
          },
          "colorscale": {
           "diverging": [
            [
             0,
             "#8e0152"
            ],
            [
             0.1,
             "#c51b7d"
            ],
            [
             0.2,
             "#de77ae"
            ],
            [
             0.3,
             "#f1b6da"
            ],
            [
             0.4,
             "#fde0ef"
            ],
            [
             0.5,
             "#f7f7f7"
            ],
            [
             0.6,
             "#e6f5d0"
            ],
            [
             0.7,
             "#b8e186"
            ],
            [
             0.8,
             "#7fbc41"
            ],
            [
             0.9,
             "#4d9221"
            ],
            [
             1,
             "#276419"
            ]
           ],
           "sequential": [
            [
             0,
             "#0d0887"
            ],
            [
             0.1111111111111111,
             "#46039f"
            ],
            [
             0.2222222222222222,
             "#7201a8"
            ],
            [
             0.3333333333333333,
             "#9c179e"
            ],
            [
             0.4444444444444444,
             "#bd3786"
            ],
            [
             0.5555555555555556,
             "#d8576b"
            ],
            [
             0.6666666666666666,
             "#ed7953"
            ],
            [
             0.7777777777777778,
             "#fb9f3a"
            ],
            [
             0.8888888888888888,
             "#fdca26"
            ],
            [
             1,
             "#f0f921"
            ]
           ],
           "sequentialminus": [
            [
             0,
             "#0d0887"
            ],
            [
             0.1111111111111111,
             "#46039f"
            ],
            [
             0.2222222222222222,
             "#7201a8"
            ],
            [
             0.3333333333333333,
             "#9c179e"
            ],
            [
             0.4444444444444444,
             "#bd3786"
            ],
            [
             0.5555555555555556,
             "#d8576b"
            ],
            [
             0.6666666666666666,
             "#ed7953"
            ],
            [
             0.7777777777777778,
             "#fb9f3a"
            ],
            [
             0.8888888888888888,
             "#fdca26"
            ],
            [
             1,
             "#f0f921"
            ]
           ]
          },
          "colorway": [
           "#636efa",
           "#EF553B",
           "#00cc96",
           "#ab63fa",
           "#FFA15A",
           "#19d3f3",
           "#FF6692",
           "#B6E880",
           "#FF97FF",
           "#FECB52"
          ],
          "font": {
           "color": "#2a3f5f"
          },
          "geo": {
           "bgcolor": "white",
           "lakecolor": "white",
           "landcolor": "#E5ECF6",
           "showlakes": true,
           "showland": true,
           "subunitcolor": "white"
          },
          "hoverlabel": {
           "align": "left"
          },
          "hovermode": "closest",
          "mapbox": {
           "style": "light"
          },
          "paper_bgcolor": "white",
          "plot_bgcolor": "#E5ECF6",
          "polar": {
           "angularaxis": {
            "gridcolor": "white",
            "linecolor": "white",
            "ticks": ""
           },
           "bgcolor": "#E5ECF6",
           "radialaxis": {
            "gridcolor": "white",
            "linecolor": "white",
            "ticks": ""
           }
          },
          "scene": {
           "xaxis": {
            "backgroundcolor": "#E5ECF6",
            "gridcolor": "white",
            "gridwidth": 2,
            "linecolor": "white",
            "showbackground": true,
            "ticks": "",
            "zerolinecolor": "white"
           },
           "yaxis": {
            "backgroundcolor": "#E5ECF6",
            "gridcolor": "white",
            "gridwidth": 2,
            "linecolor": "white",
            "showbackground": true,
            "ticks": "",
            "zerolinecolor": "white"
           },
           "zaxis": {
            "backgroundcolor": "#E5ECF6",
            "gridcolor": "white",
            "gridwidth": 2,
            "linecolor": "white",
            "showbackground": true,
            "ticks": "",
            "zerolinecolor": "white"
           }
          },
          "shapedefaults": {
           "line": {
            "color": "#2a3f5f"
           }
          },
          "ternary": {
           "aaxis": {
            "gridcolor": "white",
            "linecolor": "white",
            "ticks": ""
           },
           "baxis": {
            "gridcolor": "white",
            "linecolor": "white",
            "ticks": ""
           },
           "bgcolor": "#E5ECF6",
           "caxis": {
            "gridcolor": "white",
            "linecolor": "white",
            "ticks": ""
           }
          },
          "title": {
           "x": 0.05
          },
          "xaxis": {
           "automargin": true,
           "gridcolor": "white",
           "linecolor": "white",
           "ticks": "",
           "title": {
            "standoff": 15
           },
           "zerolinecolor": "white",
           "zerolinewidth": 2
          },
          "yaxis": {
           "automargin": true,
           "gridcolor": "white",
           "linecolor": "white",
           "ticks": "",
           "title": {
            "standoff": 15
           },
           "zerolinecolor": "white",
           "zerolinewidth": 2
          }
         }
        },
        "title": {
         "text": "Sales Listing Price vs. Rooms by Property Type"
        },
        "xaxis": {
         "anchor": "y",
         "domain": [
          0,
          1
         ],
         "title": {
          "text": "no_rooms"
         }
        },
        "yaxis": {
         "anchor": "x",
         "domain": [
          0,
          1
         ],
         "title": {
          "text": "listing_price"
         }
        }
       }
      }
     },
     "metadata": {},
     "output_type": "display_data"
    }
   ],
   "source": [
    "property_df[\"no_rooms\"]= (property_df[\"rooms\"]+property_df[\"bathrooms\"]+property_df[\"parking\"])\n",
    "# فلترة على النوع \"Sale\"\n",
    "sale_df = property_df[property_df[\"listing_type\"] == \"Sale\"]\n",
    "# فلترة على النوع \"Rent\"\n",
    "rent_df = property_df[property_df[\"listing_type\"] == \"Rent\"]\n",
    "\n",
    "fig5=px.scatter(sale_df, x='no_rooms', y='listing_price', color='property_type',title=\"Sales Listing Price vs. Rooms by Property Type\")\n",
    "fig5.show()"
   ]
  },
  {
   "cell_type": "code",
   "execution_count": 52,
   "id": "92d2e532",
   "metadata": {},
   "outputs": [
    {
     "data": {
      "application/vnd.plotly.v1+json": {
       "config": {
        "plotlyServerURL": "https://plot.ly"
       },
       "data": [
        {
         "hovertemplate": "property_type=Office<br>no_rooms=%{x}<br>listing_price=%{y}<extra></extra>",
         "legendgroup": "Office",
         "marker": {
          "color": "#636efa",
          "symbol": "circle"
         },
         "mode": "markers",
         "name": "Office",
         "showlegend": true,
         "type": "scattergl",
         "x": {
          "bdata": "CAYGBgkJCQYFCwgEBQYHCAcIBwYGCAYFBwkHBQsHBQoHBQcICQYICAgHCwQJCAYICAQIBgYFBgYJBwYFBgQJBgcHBgsFCAcICAcHCAkGBwIIBgoJCAYKCQUECQMIBwkKBwkJBgkEBQYJBwcDBgkIBwUHBwQEBgcIBQYJCAUJCAIDCgQICQcFBQcICQYHCAYJBAgFBgUHBgQHCQUGBQYLBQgIBgYFBwgFBwQHBgUJBQcFBQgEBgYGCAIGBwIJBAsGCQUJAwoEBwkFBgkIBAcICAgHCwgFBAUFBgUIBgUHBwsHBQMHBQYHCAcKBwYJBQcJCAYHBgYFCAgECgYHCQgFBgoJCAcKBQoHAwMDCQ==",
          "dtype": "i1"
         },
         "xaxis": "x",
         "y": {
          "bdata": "wwcEDtwFAwkrCQgMcQgtCE0IqAm/CYsGkwYOCkwJ8QfYDnAO3grTCOgLigf6C50G9goZDuoTYg1hDu8JmgdTFDoJPAvNEUsNhAqaBnoQKQlBCT4JqgvVDJsLZBGqDN8LoAsWChAPugo2CbIIXQ2HCdMKHQk0CrIOtQhFCYkKkwjuCqoEwAdKE2cKNhA5CNIPUQcMCj0IRhAmDgIFqQdSB68P5wlXEGoPfgheCdQJoA1BCpsIgguUCoELWgl+E2wMFQ3RD0IMIgstCvsK/wzpDDQOsAeaDzgHIwsDDIMK7wqTBZQIBQ+EByAMXgnDC68NTQolCT8JEAt0CcoLrBQFB9kHGwr0ClMKWw0dBfIN0Q3/Cf4H6QyMBlcGXAw3CmUMygvnEgMHDQgnC3IKQBHhCowHvw/9ENYJugpjDwUI0QhZDEEQPgiWBVUILgszC9cLPQ5NBqwSqQhpCYcQMAhkDEUJSQ3yD+wH0ArzChIMdgkcCVcJXw/TBJ4HDg5UEPYMmww8CvII8wm6D90GGAqEEOAGuwvSDwkRBwi9EWkIZA2BCnwJjRD2CE0NoApiBwgNJgv2BlUOtwt8BhgKkwjZEk4TNApBB3AI/gfSCg8M/wgXCjkIyw5jClEOwgcjDoYQ/gXFCeEIJQg4B40EqA74DOcJaQjvDDAOgw9nE8gIkAnEERAQEQ26Cl8JlAdrEOEH2wh6BVUKoQw=",
          "dtype": "i2"
         },
         "yaxis": "y"
        },
        {
         "hovertemplate": "property_type=Studio<br>no_rooms=%{x}<br>listing_price=%{y}<extra></extra>",
         "legendgroup": "Studio",
         "marker": {
          "color": "#EF553B",
          "symbol": "circle"
         },
         "mode": "markers",
         "name": "Studio",
         "showlegend": true,
         "type": "scattergl",
         "x": {
          "bdata": "AwMEAgQCBAIEBQQDAgUEBAQDBgYDBgQCBAMDBQQEAwQFBAMCAgUDBQQCBAQEBAUCBgUDAwMDBgUFAgMDBQIGBQQEAgUEBQQDBAQFBAQEBQIFBAUGBQIEBAIFAwUDBAQDAwQFBAUGBAYCBAIFBQQCBAQCBgQEBAMEBAMFBAYEBgIDBAUDBQQEBAYCBQQFAwYEBAUEBAMEBAYCAgQDAwMGBQQFAwUEBAMFBAUDBAMEAwIEAwUCBAMFAgUFAwYGAwQFAwQDBgQGBgMFAgYCBAQFBgIFBgYCBgMFAwUEAgMDBgQEAwMFBQMEBQMGAwUDBQUFAgQCBQMCBgYEBAUFAwMCBgYDAwQEBQMFAgMDAwIEAwUFBgUCBQIGBAUEBAUDBgUC",
          "dtype": "i1"
         },
         "xaxis": "x",
         "y": {
          "bdata": "zAT8CC8ICAciBngHPgp2CnsHmgb9BYwIKQn8B18IJAZ6DKkEtQeTBSEGnghEB3QEgAnfBw4IGQeXCFYJhwRKBJAENwp/BR4IswTqB5sK7AgJBvUGOQZGCgQJ4Qd1BeQFVAcfBsYF7QcACKUFlwezBzkH3gRkBvkJiQybCWQH0QP2B8UMgQSABbwEpwXLByUGoAjhB50LigYkBckHIwi9CqUIGwktB5sJggcKB3AIoQfVBeoHdAWPBYgH9AbZBpAG3gTpBhsEvgVuB7wLsgd6DNQFjgWKBo4GEwkKBjwHqwcpB+UFYAYjCcAFoApxC/0GjAdFCRkFWgpQCfIIBgh+BQ0GuQdBC/kHwQUrBlYF1gXcBrMJJwh8BZ0IQgg5CMwFpwQrBukGSQXWBFwF5ghVCWsIjgXyBjoHawhdB2YL/we3BeoM2wUsDH8F6wUCCXoHAgttCK8KOwu/BooJkAR6Bq8EZgV3CZIITQtfB8cFrQU1Bx0GewicDaEHHgsbCBQFgwQoB6oIowf6BbUJ+wo1CF8JkQctDDUGIghtCTwJ/ggdBUQIxAyfC78F/QvMB+UFdwfbBw0KlAWJBe8HEwYaBkMFfggpBnAFdAg6CH8FhAWuB20LigdkCOkI6QbzB9AKfAZnB0QGCwWGDWkGTQiFC4IGeQfDB6EHrgdYB0QF4AgQDV8IQwpuBegLHgm4CTEHXAUvDaIIrgiSCM8Hxwm8DQoFMwhsBtMFKww8B8AIFgi2BDMIVAUICYgGCwcHCE8G",
          "dtype": "i2"
         },
         "yaxis": "y"
        },
        {
         "hovertemplate": "property_type=Apartment<br>no_rooms=%{x}<br>listing_price=%{y}<extra></extra>",
         "legendgroup": "Apartment",
         "marker": {
          "color": "#00cc96",
          "symbol": "circle"
         },
         "mode": "markers",
         "name": "Apartment",
         "showlegend": true,
         "type": "scattergl",
         "x": {
          "bdata": "BAkHBAYFBwYGBgQHBwkGCAcIBwUGCAgFCAcGBgcKBgYFCgMICQUGBgkGBgYGCAYGBgkFBwgFBwYGBgQKBgYFCAkJCAgJBwcIBAcHBQcJBggFBwYIBQcKBgkGBQQIBgYFCAkGCAcECQcICAkHBQcFBQcJBQYJBwYEBwkHBgcKBgQHBQoHBQYFBgYGBQcIBgcJBwcFBwcIBwUHCAYFBgYGBwgJBwcJBgUIBgcHCAoHBAQHBAUEBQUEBQUEBgUHBwcFBgcEBAYICAkFBwgFBwcJCAUFBwUEBQcJCAYFBQcICQYGBAgHBgUGBgUFBQkHCAcGBQgGBQcFBgcJBQgEBQkKBQYGBgg=",
          "dtype": "i1"
         },
         "xaxis": "x",
         "y": {
          "bdata": "6gd9DUEOfgnyDIQMtBEGCBYMwQfcCeEPPwttD1QHdgt4Dr0ObAoUCfsJQxQrDEAJwQ9vDs0HEw1GFL4QAA8xDaUKggxiDMELiwixBtIKwQr2C4QLvhVZDXQHbQjcDAMMBgwOD7gJ2Q2GDBsNjwtgCLoKKAq3CXQS3w4iDvgHEgqsDVMKIRM6C54TrQndDG8KIQxdBxIOmgoED6gK3gqTDT4LEApjDAcJGglYC0sTzglkEjAI0QpPCqwT7gksCIUHTwxQDBQJKQ91BkEIRxT1Cy8MnAuhDW4IuQayDoAH1QoXCooOfgkQDIAR/wwtCBgLVwmRDe0L3w1hDisOSQkiCHMNhwkWDX0OCwkUDt4Hiwf9DmQIgwqBDdkSGQkkCXsLTQw0E1oMugsbB/IP5Qp6DKgN9glbC/cL4wqiDO8LrQ1bDDMSsAgsCf4OIxC6B1UJGBE4DL8PmAm2DsIITg2MCrMKywmaC/8JAwcUEJsK9gg8EA0JmgdlBlgLDBCxBjcIJgyqDMAHeQnLCwEORw/zDD8NWgoXDaMKqggnCRUSVw0/CwAKzAeyBqEIwwYrCdcPAgxqB5MI1AjMCoMKGQyzC4QQ3gtiCMsG9g6RFGUSegcFDkkI0wlAEkcJrg0jCeAQ6AqHC/sSeQfZEXkIQAu2DzcLXwzqEZwIugo6ECMTSxOmDXESBwv9Cw==",
          "dtype": "i2"
         },
         "yaxis": "y"
        },
        {
         "hovertemplate": "property_type=Villa<br>no_rooms=%{x}<br>listing_price=%{y}<extra></extra>",
         "legendgroup": "Villa",
         "marker": {
          "color": "#ab63fa",
          "symbol": "circle"
         },
         "mode": "markers",
         "name": "Villa",
         "showlegend": true,
         "type": "scattergl",
         "x": {
          "bdata": "EBENCQoJDw4LEAoKDwwJCwsNDgoKDggMCQ0PCwsODA8LCw0LDwsQCwsMDgwLCAwODQ0ODAwOCgkODA4LDAcNCRAJDgoNCQ8LCRAKCxAKCgwNDggKDgsLDQwKDQ0LCgkMCg4LCQ4JDgsOCw4JChAKDAkLCwkQDQ0MDQ4KCgsNCwkKDwoLDQwKBwsODg4ODQsLCQwOCAkKDwwLCwwMCwwIDQwLDw0NCgoHCgwMCgcMDg0NCg4ODA0JCgsNDwwMCgwMDAoIDQwNDQ0KDg0NCA0MDg4NDQ0JDAgRDwgPEAkPDAwOCwsKDwoNDQ4QDg0MDAwNCw8KCg0MCwwJCw8QDgsRDA0LCQ8NDAsMDQoOCwoRDg4NDAkLCQsMDAwKCQ4NDhA=",
          "dtype": "i1"
         },
         "xaxis": "x",
         "y": {
          "bdata": "aCW5ST8bvjd7I08bLCVAIBMt5k4NJfAlSCPxL0sn4zU0JuslxiR2Jegcuj+qIyEkRSdXKKsuByapLRIh0iL1JHsdkCJrKBE14j9+NGQ9uSQEJNguOCqIKM8dcSZzMpE6gjyuLtEnpTfMK7AlQB8qHJFG2yyvJWg2GyCPGCU+IyZCI9kayTTWIWAoDDHeLyQ5xR3vL9YjFRzRMAMh/CEHKGAb3CLTHBos1ji6GHUstTExJEQeJCpeSaclASKGKBcdEytSKnwupCG2KNAuZBq5Ka8ddR/0Q6Qa4yImKr0nmCYOGzErjiDRIO0rjychO8M0WRtEMpY0bjFvKkcjaydAMK8rPC79H1UbASbCMvgmmisYHVUkREBcNP0fGyMxLPYrUyj0IllAaCsrHZcb1DtUK8wleyLxLAsy2yDmMhweYh7rKFAomSDbIF0k7TXAII4aKCLwOvEgpB0cHd4fHkdxPf4kOhvZIzU4iyiTNbMk0BvJJ5ciDkXVHtg15B9JH8AiWitCHT0iMC0kKlMmGiefKpwX8iLKM8UuzzNWRH5HkSx7MiBGzSNFJ88h6yKwGqAifigSHQs7ASg4GjhEUSjZJgNHZyT/JOYbR0rvFAMoQB1vSKIhziwRIVko/TFIHmQ+ahs1P+4kkh4nI+EbvB+5Lisp0zI6Lbwn5h5/FwAtujW7HxM88iGrLnkhxieeKBUwFyQQIqFBjh4PN3Yuexi0KMQpZiWKHMIfFC5NIKoikyTeGkIaahX8LBMnEjNJLA==",
          "dtype": "i2"
         },
         "yaxis": "y"
        },
        {
         "hovertemplate": "property_type=House<br>no_rooms=%{x}<br>listing_price=%{y}<extra></extra>",
         "legendgroup": "House",
         "marker": {
          "color": "#FFA15A",
          "symbol": "circle"
         },
         "mode": "markers",
         "name": "House",
         "showlegend": true,
         "type": "scattergl",
         "x": {
          "bdata": "BwgMCwUJCQoJBggKCQcFCwcJCgsMDAcJCQkICAsKCggJCggHBwYJCgcLCQkIBwkICQkKCQgMCggHCAgGCw0HCgYICwgLDAoGCgYHBgYKCgcLCAwLCAsJDQYLCAsJCgsKCgcMCgYKCggKBwcLCgkICAgGCgoIBgULCQoKCwoICgkMCQwICwsHBwkKCwkJCQcGBgcLCgkLBQgKBwkLCgsJBwgICwgNCAYKCwoICwkKCAgLDQgJCgsJCwkJCwkIDAcKBgcICwoKCQoGCQkKCQkLCAgHCQwKCQcKBggMCwsHCQYKCgsLCwwJBgYHCQoGCQgLDAsFCwkJCAkKCAkK",
          "dtype": "i1"
         },
         "xaxis": "x",
         "y": {
          "bdata": "MSKMEJUXAhQ6DnMd5wwaJ4AljhGHFHMWwhKLFuIRrCOxEHkUKhdnH2Io7hOgGgAQ8BjuJdMPaBcyFz0UQhJaFp0frR2bFkIQ5RKcDpoUDBD9Gy4afhLmFAkQdxHtE/AVcSasGdMbCRfwH/wXqyKiFigbfRf4EQ0ROxxnFNkOJyjrHIcTPhW1FGAbIBd4IVQYFxNIEJAUTw/wDlMkjxQqEqIWfRIYEZgfLxGqFrshuyBxD04TQRhSIHYd4hLsFpMixRW6GOsWCiBgE1IfuSH1EOgZLA8tGLQSgCE2EU0SHxaiHTEP8RJOHQMUQhF7Fxcn2hciFT4YBxhiGbYQHRL6JocW+hJbIScOmBdmFCwYrhEsFZMcrSTRFjIg1iEiEsUQwBPYFFoOZx5qFn4Y4A7xEsIQaR3PEHMaOBVbEGURwQoUHDMXViSlEX8VAxBiHEIh2Bo5FSgXjCSNICMb/hS1E0YlGRgbEcgWWhFfEd8azh3eFyIkhBLUEHIZ6yPoDwATag5AEMwQERjUDccYrhJqEBQaHxkZGcYi6g+KGz0hYRDaIkIQTBWwJvUdgwzvFNMVnQ4wGAkUMCPyEhQX5BO2D+4WMBuYG4YWZxxdIcgW7w7RGdsRDA8IFRoMHRR7IZMk3R6IIaAQKxRqEIQUWxEkF6gYihpZI4wV",
          "dtype": "i2"
         },
         "yaxis": "y"
        }
       ],
       "layout": {
        "legend": {
         "title": {
          "text": "property_type"
         },
         "tracegroupgap": 0
        },
        "template": {
         "data": {
          "bar": [
           {
            "error_x": {
             "color": "#2a3f5f"
            },
            "error_y": {
             "color": "#2a3f5f"
            },
            "marker": {
             "line": {
              "color": "#E5ECF6",
              "width": 0.5
             },
             "pattern": {
              "fillmode": "overlay",
              "size": 10,
              "solidity": 0.2
             }
            },
            "type": "bar"
           }
          ],
          "barpolar": [
           {
            "marker": {
             "line": {
              "color": "#E5ECF6",
              "width": 0.5
             },
             "pattern": {
              "fillmode": "overlay",
              "size": 10,
              "solidity": 0.2
             }
            },
            "type": "barpolar"
           }
          ],
          "carpet": [
           {
            "aaxis": {
             "endlinecolor": "#2a3f5f",
             "gridcolor": "white",
             "linecolor": "white",
             "minorgridcolor": "white",
             "startlinecolor": "#2a3f5f"
            },
            "baxis": {
             "endlinecolor": "#2a3f5f",
             "gridcolor": "white",
             "linecolor": "white",
             "minorgridcolor": "white",
             "startlinecolor": "#2a3f5f"
            },
            "type": "carpet"
           }
          ],
          "choropleth": [
           {
            "colorbar": {
             "outlinewidth": 0,
             "ticks": ""
            },
            "type": "choropleth"
           }
          ],
          "contour": [
           {
            "colorbar": {
             "outlinewidth": 0,
             "ticks": ""
            },
            "colorscale": [
             [
              0,
              "#0d0887"
             ],
             [
              0.1111111111111111,
              "#46039f"
             ],
             [
              0.2222222222222222,
              "#7201a8"
             ],
             [
              0.3333333333333333,
              "#9c179e"
             ],
             [
              0.4444444444444444,
              "#bd3786"
             ],
             [
              0.5555555555555556,
              "#d8576b"
             ],
             [
              0.6666666666666666,
              "#ed7953"
             ],
             [
              0.7777777777777778,
              "#fb9f3a"
             ],
             [
              0.8888888888888888,
              "#fdca26"
             ],
             [
              1,
              "#f0f921"
             ]
            ],
            "type": "contour"
           }
          ],
          "contourcarpet": [
           {
            "colorbar": {
             "outlinewidth": 0,
             "ticks": ""
            },
            "type": "contourcarpet"
           }
          ],
          "heatmap": [
           {
            "colorbar": {
             "outlinewidth": 0,
             "ticks": ""
            },
            "colorscale": [
             [
              0,
              "#0d0887"
             ],
             [
              0.1111111111111111,
              "#46039f"
             ],
             [
              0.2222222222222222,
              "#7201a8"
             ],
             [
              0.3333333333333333,
              "#9c179e"
             ],
             [
              0.4444444444444444,
              "#bd3786"
             ],
             [
              0.5555555555555556,
              "#d8576b"
             ],
             [
              0.6666666666666666,
              "#ed7953"
             ],
             [
              0.7777777777777778,
              "#fb9f3a"
             ],
             [
              0.8888888888888888,
              "#fdca26"
             ],
             [
              1,
              "#f0f921"
             ]
            ],
            "type": "heatmap"
           }
          ],
          "histogram": [
           {
            "marker": {
             "pattern": {
              "fillmode": "overlay",
              "size": 10,
              "solidity": 0.2
             }
            },
            "type": "histogram"
           }
          ],
          "histogram2d": [
           {
            "colorbar": {
             "outlinewidth": 0,
             "ticks": ""
            },
            "colorscale": [
             [
              0,
              "#0d0887"
             ],
             [
              0.1111111111111111,
              "#46039f"
             ],
             [
              0.2222222222222222,
              "#7201a8"
             ],
             [
              0.3333333333333333,
              "#9c179e"
             ],
             [
              0.4444444444444444,
              "#bd3786"
             ],
             [
              0.5555555555555556,
              "#d8576b"
             ],
             [
              0.6666666666666666,
              "#ed7953"
             ],
             [
              0.7777777777777778,
              "#fb9f3a"
             ],
             [
              0.8888888888888888,
              "#fdca26"
             ],
             [
              1,
              "#f0f921"
             ]
            ],
            "type": "histogram2d"
           }
          ],
          "histogram2dcontour": [
           {
            "colorbar": {
             "outlinewidth": 0,
             "ticks": ""
            },
            "colorscale": [
             [
              0,
              "#0d0887"
             ],
             [
              0.1111111111111111,
              "#46039f"
             ],
             [
              0.2222222222222222,
              "#7201a8"
             ],
             [
              0.3333333333333333,
              "#9c179e"
             ],
             [
              0.4444444444444444,
              "#bd3786"
             ],
             [
              0.5555555555555556,
              "#d8576b"
             ],
             [
              0.6666666666666666,
              "#ed7953"
             ],
             [
              0.7777777777777778,
              "#fb9f3a"
             ],
             [
              0.8888888888888888,
              "#fdca26"
             ],
             [
              1,
              "#f0f921"
             ]
            ],
            "type": "histogram2dcontour"
           }
          ],
          "mesh3d": [
           {
            "colorbar": {
             "outlinewidth": 0,
             "ticks": ""
            },
            "type": "mesh3d"
           }
          ],
          "parcoords": [
           {
            "line": {
             "colorbar": {
              "outlinewidth": 0,
              "ticks": ""
             }
            },
            "type": "parcoords"
           }
          ],
          "pie": [
           {
            "automargin": true,
            "type": "pie"
           }
          ],
          "scatter": [
           {
            "fillpattern": {
             "fillmode": "overlay",
             "size": 10,
             "solidity": 0.2
            },
            "type": "scatter"
           }
          ],
          "scatter3d": [
           {
            "line": {
             "colorbar": {
              "outlinewidth": 0,
              "ticks": ""
             }
            },
            "marker": {
             "colorbar": {
              "outlinewidth": 0,
              "ticks": ""
             }
            },
            "type": "scatter3d"
           }
          ],
          "scattercarpet": [
           {
            "marker": {
             "colorbar": {
              "outlinewidth": 0,
              "ticks": ""
             }
            },
            "type": "scattercarpet"
           }
          ],
          "scattergeo": [
           {
            "marker": {
             "colorbar": {
              "outlinewidth": 0,
              "ticks": ""
             }
            },
            "type": "scattergeo"
           }
          ],
          "scattergl": [
           {
            "marker": {
             "colorbar": {
              "outlinewidth": 0,
              "ticks": ""
             }
            },
            "type": "scattergl"
           }
          ],
          "scattermap": [
           {
            "marker": {
             "colorbar": {
              "outlinewidth": 0,
              "ticks": ""
             }
            },
            "type": "scattermap"
           }
          ],
          "scattermapbox": [
           {
            "marker": {
             "colorbar": {
              "outlinewidth": 0,
              "ticks": ""
             }
            },
            "type": "scattermapbox"
           }
          ],
          "scatterpolar": [
           {
            "marker": {
             "colorbar": {
              "outlinewidth": 0,
              "ticks": ""
             }
            },
            "type": "scatterpolar"
           }
          ],
          "scatterpolargl": [
           {
            "marker": {
             "colorbar": {
              "outlinewidth": 0,
              "ticks": ""
             }
            },
            "type": "scatterpolargl"
           }
          ],
          "scatterternary": [
           {
            "marker": {
             "colorbar": {
              "outlinewidth": 0,
              "ticks": ""
             }
            },
            "type": "scatterternary"
           }
          ],
          "surface": [
           {
            "colorbar": {
             "outlinewidth": 0,
             "ticks": ""
            },
            "colorscale": [
             [
              0,
              "#0d0887"
             ],
             [
              0.1111111111111111,
              "#46039f"
             ],
             [
              0.2222222222222222,
              "#7201a8"
             ],
             [
              0.3333333333333333,
              "#9c179e"
             ],
             [
              0.4444444444444444,
              "#bd3786"
             ],
             [
              0.5555555555555556,
              "#d8576b"
             ],
             [
              0.6666666666666666,
              "#ed7953"
             ],
             [
              0.7777777777777778,
              "#fb9f3a"
             ],
             [
              0.8888888888888888,
              "#fdca26"
             ],
             [
              1,
              "#f0f921"
             ]
            ],
            "type": "surface"
           }
          ],
          "table": [
           {
            "cells": {
             "fill": {
              "color": "#EBF0F8"
             },
             "line": {
              "color": "white"
             }
            },
            "header": {
             "fill": {
              "color": "#C8D4E3"
             },
             "line": {
              "color": "white"
             }
            },
            "type": "table"
           }
          ]
         },
         "layout": {
          "annotationdefaults": {
           "arrowcolor": "#2a3f5f",
           "arrowhead": 0,
           "arrowwidth": 1
          },
          "autotypenumbers": "strict",
          "coloraxis": {
           "colorbar": {
            "outlinewidth": 0,
            "ticks": ""
           }
          },
          "colorscale": {
           "diverging": [
            [
             0,
             "#8e0152"
            ],
            [
             0.1,
             "#c51b7d"
            ],
            [
             0.2,
             "#de77ae"
            ],
            [
             0.3,
             "#f1b6da"
            ],
            [
             0.4,
             "#fde0ef"
            ],
            [
             0.5,
             "#f7f7f7"
            ],
            [
             0.6,
             "#e6f5d0"
            ],
            [
             0.7,
             "#b8e186"
            ],
            [
             0.8,
             "#7fbc41"
            ],
            [
             0.9,
             "#4d9221"
            ],
            [
             1,
             "#276419"
            ]
           ],
           "sequential": [
            [
             0,
             "#0d0887"
            ],
            [
             0.1111111111111111,
             "#46039f"
            ],
            [
             0.2222222222222222,
             "#7201a8"
            ],
            [
             0.3333333333333333,
             "#9c179e"
            ],
            [
             0.4444444444444444,
             "#bd3786"
            ],
            [
             0.5555555555555556,
             "#d8576b"
            ],
            [
             0.6666666666666666,
             "#ed7953"
            ],
            [
             0.7777777777777778,
             "#fb9f3a"
            ],
            [
             0.8888888888888888,
             "#fdca26"
            ],
            [
             1,
             "#f0f921"
            ]
           ],
           "sequentialminus": [
            [
             0,
             "#0d0887"
            ],
            [
             0.1111111111111111,
             "#46039f"
            ],
            [
             0.2222222222222222,
             "#7201a8"
            ],
            [
             0.3333333333333333,
             "#9c179e"
            ],
            [
             0.4444444444444444,
             "#bd3786"
            ],
            [
             0.5555555555555556,
             "#d8576b"
            ],
            [
             0.6666666666666666,
             "#ed7953"
            ],
            [
             0.7777777777777778,
             "#fb9f3a"
            ],
            [
             0.8888888888888888,
             "#fdca26"
            ],
            [
             1,
             "#f0f921"
            ]
           ]
          },
          "colorway": [
           "#636efa",
           "#EF553B",
           "#00cc96",
           "#ab63fa",
           "#FFA15A",
           "#19d3f3",
           "#FF6692",
           "#B6E880",
           "#FF97FF",
           "#FECB52"
          ],
          "font": {
           "color": "#2a3f5f"
          },
          "geo": {
           "bgcolor": "white",
           "lakecolor": "white",
           "landcolor": "#E5ECF6",
           "showlakes": true,
           "showland": true,
           "subunitcolor": "white"
          },
          "hoverlabel": {
           "align": "left"
          },
          "hovermode": "closest",
          "mapbox": {
           "style": "light"
          },
          "paper_bgcolor": "white",
          "plot_bgcolor": "#E5ECF6",
          "polar": {
           "angularaxis": {
            "gridcolor": "white",
            "linecolor": "white",
            "ticks": ""
           },
           "bgcolor": "#E5ECF6",
           "radialaxis": {
            "gridcolor": "white",
            "linecolor": "white",
            "ticks": ""
           }
          },
          "scene": {
           "xaxis": {
            "backgroundcolor": "#E5ECF6",
            "gridcolor": "white",
            "gridwidth": 2,
            "linecolor": "white",
            "showbackground": true,
            "ticks": "",
            "zerolinecolor": "white"
           },
           "yaxis": {
            "backgroundcolor": "#E5ECF6",
            "gridcolor": "white",
            "gridwidth": 2,
            "linecolor": "white",
            "showbackground": true,
            "ticks": "",
            "zerolinecolor": "white"
           },
           "zaxis": {
            "backgroundcolor": "#E5ECF6",
            "gridcolor": "white",
            "gridwidth": 2,
            "linecolor": "white",
            "showbackground": true,
            "ticks": "",
            "zerolinecolor": "white"
           }
          },
          "shapedefaults": {
           "line": {
            "color": "#2a3f5f"
           }
          },
          "ternary": {
           "aaxis": {
            "gridcolor": "white",
            "linecolor": "white",
            "ticks": ""
           },
           "baxis": {
            "gridcolor": "white",
            "linecolor": "white",
            "ticks": ""
           },
           "bgcolor": "#E5ECF6",
           "caxis": {
            "gridcolor": "white",
            "linecolor": "white",
            "ticks": ""
           }
          },
          "title": {
           "x": 0.05
          },
          "xaxis": {
           "automargin": true,
           "gridcolor": "white",
           "linecolor": "white",
           "ticks": "",
           "title": {
            "standoff": 15
           },
           "zerolinecolor": "white",
           "zerolinewidth": 2
          },
          "yaxis": {
           "automargin": true,
           "gridcolor": "white",
           "linecolor": "white",
           "ticks": "",
           "title": {
            "standoff": 15
           },
           "zerolinecolor": "white",
           "zerolinewidth": 2
          }
         }
        },
        "title": {
         "text": "Rent Listing Price vs. Rooms by Property Type"
        },
        "xaxis": {
         "anchor": "y",
         "domain": [
          0,
          1
         ],
         "title": {
          "text": "no_rooms"
         }
        },
        "yaxis": {
         "anchor": "x",
         "domain": [
          0,
          1
         ],
         "title": {
          "text": "listing_price"
         }
        }
       }
      }
     },
     "metadata": {},
     "output_type": "display_data"
    }
   ],
   "source": [
    "fig6=px.scatter(rent_df, x='no_rooms', y='listing_price', color='property_type',title=\"Rent Listing Price vs. Rooms by Property Type\")\n",
    "fig6.show()"
   ]
  },
  {
   "cell_type": "code",
   "execution_count": 53,
   "id": "b4dbcb0b",
   "metadata": {},
   "outputs": [],
   "source": [
    "#The scatter plot shows that, according to the property type, the listing price tends to increase as the number of rooms increases."
   ]
  },
  {
   "cell_type": "markdown",
   "id": "8e207484",
   "metadata": {},
   "source": [
    "## Maintenance Dataset"
   ]
  },
  {
   "cell_type": "markdown",
   "id": "989cb670",
   "metadata": {},
   "source": [
    "### Load & Preview Data\n"
   ]
  },
  {
   "cell_type": "code",
   "execution_count": null,
   "id": "97e1117c",
   "metadata": {},
   "outputs": [
    {
     "data": {
      "text/html": [
       "<div>\n",
       "<style scoped>\n",
       "    .dataframe tbody tr th:only-of-type {\n",
       "        vertical-align: middle;\n",
       "    }\n",
       "\n",
       "    .dataframe tbody tr th {\n",
       "        vertical-align: top;\n",
       "    }\n",
       "\n",
       "    .dataframe thead th {\n",
       "        text-align: right;\n",
       "    }\n",
       "</style>\n",
       "<table border=\"1\" class=\"dataframe\">\n",
       "  <thead>\n",
       "    <tr style=\"text-align: right;\">\n",
       "      <th></th>\n",
       "      <th>maintenance_id</th>\n",
       "      <th>property_id</th>\n",
       "      <th>agent_id</th>\n",
       "      <th>owner_id</th>\n",
       "      <th>description</th>\n",
       "      <th>maintenance_type</th>\n",
       "      <th>cost</th>\n",
       "      <th>maintenance_date</th>\n",
       "    </tr>\n",
       "  </thead>\n",
       "  <tbody>\n",
       "    <tr>\n",
       "      <th>0</th>\n",
       "      <td>1</td>\n",
       "      <td>2</td>\n",
       "      <td>151</td>\n",
       "      <td>657</td>\n",
       "      <td>Install Cleaning at property</td>\n",
       "      <td>Cleaning</td>\n",
       "      <td>1770</td>\n",
       "      <td>12/30/2024</td>\n",
       "    </tr>\n",
       "    <tr>\n",
       "      <th>1</th>\n",
       "      <td>2</td>\n",
       "      <td>2</td>\n",
       "      <td>151</td>\n",
       "      <td>657</td>\n",
       "      <td>Install Plumbing at property</td>\n",
       "      <td>Plumbing</td>\n",
       "      <td>1275</td>\n",
       "      <td>12/27/2024</td>\n",
       "    </tr>\n",
       "    <tr>\n",
       "      <th>2</th>\n",
       "      <td>3</td>\n",
       "      <td>3</td>\n",
       "      <td>183</td>\n",
       "      <td>206</td>\n",
       "      <td>Install Roof at property</td>\n",
       "      <td>Roof</td>\n",
       "      <td>1999</td>\n",
       "      <td>7/5/2022</td>\n",
       "    </tr>\n",
       "    <tr>\n",
       "      <th>3</th>\n",
       "      <td>4</td>\n",
       "      <td>3</td>\n",
       "      <td>183</td>\n",
       "      <td>206</td>\n",
       "      <td>Fix Painting at property</td>\n",
       "      <td>Painting</td>\n",
       "      <td>115</td>\n",
       "      <td>6/16/2023</td>\n",
       "    </tr>\n",
       "    <tr>\n",
       "      <th>4</th>\n",
       "      <td>5</td>\n",
       "      <td>4</td>\n",
       "      <td>56</td>\n",
       "      <td>1220</td>\n",
       "      <td>Install Electrical at property</td>\n",
       "      <td>Electrical</td>\n",
       "      <td>2266</td>\n",
       "      <td>11/20/2024</td>\n",
       "    </tr>\n",
       "  </tbody>\n",
       "</table>\n",
       "</div>"
      ],
      "text/plain": [
       "   maintenance_id  property_id  agent_id  owner_id  \\\n",
       "0               1            2       151       657   \n",
       "1               2            2       151       657   \n",
       "2               3            3       183       206   \n",
       "3               4            3       183       206   \n",
       "4               5            4        56      1220   \n",
       "\n",
       "                      description maintenance_type  cost maintenance_date  \n",
       "0    Install Cleaning at property         Cleaning  1770       12/30/2024  \n",
       "1    Install Plumbing at property         Plumbing  1275       12/27/2024  \n",
       "2        Install Roof at property             Roof  1999         7/5/2022  \n",
       "3        Fix Painting at property         Painting   115        6/16/2023  \n",
       "4  Install Electrical at property       Electrical  2266       11/20/2024  "
      ]
     },
     "execution_count": 54,
     "metadata": {},
     "output_type": "execute_result"
    }
   ],
   "source": [
    "ment_df = pd.read_csv(r\"maintenance.csv\")\n",
    "ment_df.head()"
   ]
  },
  {
   "cell_type": "code",
   "execution_count": 55,
   "id": "7ccce678",
   "metadata": {},
   "outputs": [
    {
     "name": "stdout",
     "output_type": "stream",
     "text": [
      "<class 'pandas.core.frame.DataFrame'>\n",
      "RangeIndex: 3645 entries, 0 to 3644\n",
      "Data columns (total 8 columns):\n",
      " #   Column            Non-Null Count  Dtype \n",
      "---  ------            --------------  ----- \n",
      " 0   maintenance_id    3645 non-null   int64 \n",
      " 1   property_id       3645 non-null   int64 \n",
      " 2   agent_id          3645 non-null   int64 \n",
      " 3   owner_id          3645 non-null   int64 \n",
      " 4   description       3645 non-null   object\n",
      " 5   maintenance_type  3645 non-null   object\n",
      " 6   cost              3645 non-null   int64 \n",
      " 7   maintenance_date  3645 non-null   object\n",
      "dtypes: int64(5), object(3)\n",
      "memory usage: 227.9+ KB\n"
     ]
    }
   ],
   "source": [
    "ment_df.info()"
   ]
  },
  {
   "cell_type": "markdown",
   "id": "4299eff0",
   "metadata": {},
   "source": [
    "### Data Cleaning"
   ]
  },
  {
   "cell_type": "code",
   "execution_count": 56,
   "id": "9bd40268",
   "metadata": {},
   "outputs": [],
   "source": [
    "ment_df[\"maintenance_date\"]=pd.to_datetime(ment_df[\"maintenance_date\"])"
   ]
  },
  {
   "cell_type": "code",
   "execution_count": 57,
   "id": "547b9c9b",
   "metadata": {},
   "outputs": [],
   "source": [
    "ment_df.to_csv(\"maintenance_clean.csv\",index=False)"
   ]
  },
  {
   "cell_type": "markdown",
   "id": "4ac2d124",
   "metadata": {},
   "source": [
    "### Descriptive Statistics & Group Insights"
   ]
  },
  {
   "cell_type": "code",
   "execution_count": 58,
   "id": "ccab2de4",
   "metadata": {},
   "outputs": [
    {
     "data": {
      "text/html": [
       "<div>\n",
       "<style scoped>\n",
       "    .dataframe tbody tr th:only-of-type {\n",
       "        vertical-align: middle;\n",
       "    }\n",
       "\n",
       "    .dataframe tbody tr th {\n",
       "        vertical-align: top;\n",
       "    }\n",
       "\n",
       "    .dataframe thead th {\n",
       "        text-align: right;\n",
       "    }\n",
       "</style>\n",
       "<table border=\"1\" class=\"dataframe\">\n",
       "  <thead>\n",
       "    <tr style=\"text-align: right;\">\n",
       "      <th></th>\n",
       "      <th>maintenance_id</th>\n",
       "      <th>property_id</th>\n",
       "      <th>agent_id</th>\n",
       "      <th>owner_id</th>\n",
       "      <th>description</th>\n",
       "      <th>maintenance_type</th>\n",
       "      <th>cost</th>\n",
       "      <th>maintenance_date</th>\n",
       "    </tr>\n",
       "  </thead>\n",
       "  <tbody>\n",
       "    <tr>\n",
       "      <th>count</th>\n",
       "      <td>3,645.0</td>\n",
       "      <td>3,645.0</td>\n",
       "      <td>3,645.0</td>\n",
       "      <td>3,645.0</td>\n",
       "      <td>3645</td>\n",
       "      <td>3645</td>\n",
       "      <td>3,645.0</td>\n",
       "      <td>3645</td>\n",
       "    </tr>\n",
       "    <tr>\n",
       "      <th>unique</th>\n",
       "      <td>NaN</td>\n",
       "      <td>NaN</td>\n",
       "      <td>NaN</td>\n",
       "      <td>NaN</td>\n",
       "      <td>28</td>\n",
       "      <td>7</td>\n",
       "      <td>NaN</td>\n",
       "      <td>NaN</td>\n",
       "    </tr>\n",
       "    <tr>\n",
       "      <th>top</th>\n",
       "      <td>NaN</td>\n",
       "      <td>NaN</td>\n",
       "      <td>NaN</td>\n",
       "      <td>NaN</td>\n",
       "      <td>Fix Roof at property</td>\n",
       "      <td>Roof</td>\n",
       "      <td>NaN</td>\n",
       "      <td>NaN</td>\n",
       "    </tr>\n",
       "    <tr>\n",
       "      <th>freq</th>\n",
       "      <td>NaN</td>\n",
       "      <td>NaN</td>\n",
       "      <td>NaN</td>\n",
       "      <td>NaN</td>\n",
       "      <td>147</td>\n",
       "      <td>551</td>\n",
       "      <td>NaN</td>\n",
       "      <td>NaN</td>\n",
       "    </tr>\n",
       "    <tr>\n",
       "      <th>mean</th>\n",
       "      <td>1,823.0</td>\n",
       "      <td>1,519.4499314128943</td>\n",
       "      <td>129.28422496570644</td>\n",
       "      <td>890.5026063100137</td>\n",
       "      <td>NaN</td>\n",
       "      <td>NaN</td>\n",
       "      <td>1,989.4106995884774</td>\n",
       "      <td>2023-09-26 16:23:18.518518784</td>\n",
       "    </tr>\n",
       "    <tr>\n",
       "      <th>min</th>\n",
       "      <td>1.0</td>\n",
       "      <td>2.0</td>\n",
       "      <td>8.0</td>\n",
       "      <td>1.0</td>\n",
       "      <td>NaN</td>\n",
       "      <td>NaN</td>\n",
       "      <td>22.0</td>\n",
       "      <td>2020-03-20 00:00:00</td>\n",
       "    </tr>\n",
       "    <tr>\n",
       "      <th>25%</th>\n",
       "      <td>912.0</td>\n",
       "      <td>766.0</td>\n",
       "      <td>68.0</td>\n",
       "      <td>442.0</td>\n",
       "      <td>NaN</td>\n",
       "      <td>NaN</td>\n",
       "      <td>802.0</td>\n",
       "      <td>2023-01-27 00:00:00</td>\n",
       "    </tr>\n",
       "    <tr>\n",
       "      <th>50%</th>\n",
       "      <td>1,823.0</td>\n",
       "      <td>1,525.0</td>\n",
       "      <td>137.0</td>\n",
       "      <td>895.0</td>\n",
       "      <td>NaN</td>\n",
       "      <td>NaN</td>\n",
       "      <td>1,594.0</td>\n",
       "      <td>2024-01-17 00:00:00</td>\n",
       "    </tr>\n",
       "    <tr>\n",
       "      <th>75%</th>\n",
       "      <td>2,734.0</td>\n",
       "      <td>2,333.0</td>\n",
       "      <td>183.0</td>\n",
       "      <td>1,354.0</td>\n",
       "      <td>NaN</td>\n",
       "      <td>NaN</td>\n",
       "      <td>2,355.0</td>\n",
       "      <td>2024-08-19 00:00:00</td>\n",
       "    </tr>\n",
       "    <tr>\n",
       "      <th>max</th>\n",
       "      <td>3,645.0</td>\n",
       "      <td>2,998.0</td>\n",
       "      <td>250.0</td>\n",
       "      <td>1,755.0</td>\n",
       "      <td>NaN</td>\n",
       "      <td>NaN</td>\n",
       "      <td>6,992.0</td>\n",
       "      <td>2024-12-30 00:00:00</td>\n",
       "    </tr>\n",
       "    <tr>\n",
       "      <th>std</th>\n",
       "      <td>1,052.365193267052</td>\n",
       "      <td>891.6098915521486</td>\n",
       "      <td>71.63336939669884</td>\n",
       "      <td>519.3092334237</td>\n",
       "      <td>NaN</td>\n",
       "      <td>NaN</td>\n",
       "      <td>1,653.1855340642092</td>\n",
       "      <td>NaN</td>\n",
       "    </tr>\n",
       "  </tbody>\n",
       "</table>\n",
       "</div>"
      ],
      "text/plain": [
       "           maintenance_id         property_id           agent_id  \\\n",
       "count             3,645.0             3,645.0            3,645.0   \n",
       "unique                NaN                 NaN                NaN   \n",
       "top                   NaN                 NaN                NaN   \n",
       "freq                  NaN                 NaN                NaN   \n",
       "mean              1,823.0 1,519.4499314128943 129.28422496570644   \n",
       "min                   1.0                 2.0                8.0   \n",
       "25%                 912.0               766.0               68.0   \n",
       "50%               1,823.0             1,525.0              137.0   \n",
       "75%               2,734.0             2,333.0              183.0   \n",
       "max               3,645.0             2,998.0              250.0   \n",
       "std    1,052.365193267052   891.6098915521486  71.63336939669884   \n",
       "\n",
       "                owner_id           description maintenance_type  \\\n",
       "count            3,645.0                  3645             3645   \n",
       "unique               NaN                    28                7   \n",
       "top                  NaN  Fix Roof at property             Roof   \n",
       "freq                 NaN                   147              551   \n",
       "mean   890.5026063100137                   NaN              NaN   \n",
       "min                  1.0                   NaN              NaN   \n",
       "25%                442.0                   NaN              NaN   \n",
       "50%                895.0                   NaN              NaN   \n",
       "75%              1,354.0                   NaN              NaN   \n",
       "max              1,755.0                   NaN              NaN   \n",
       "std       519.3092334237                   NaN              NaN   \n",
       "\n",
       "                      cost               maintenance_date  \n",
       "count              3,645.0                           3645  \n",
       "unique                 NaN                            NaN  \n",
       "top                    NaN                            NaN  \n",
       "freq                   NaN                            NaN  \n",
       "mean   1,989.4106995884774  2023-09-26 16:23:18.518518784  \n",
       "min                   22.0            2020-03-20 00:00:00  \n",
       "25%                  802.0            2023-01-27 00:00:00  \n",
       "50%                1,594.0            2024-01-17 00:00:00  \n",
       "75%                2,355.0            2024-08-19 00:00:00  \n",
       "max                6,992.0            2024-12-30 00:00:00  \n",
       "std    1,653.1855340642092                            NaN  "
      ]
     },
     "execution_count": 58,
     "metadata": {},
     "output_type": "execute_result"
    }
   ],
   "source": [
    "ment_df.describe(include=\"all\")"
   ]
  },
  {
   "cell_type": "code",
   "execution_count": 59,
   "id": "99cb4d54",
   "metadata": {},
   "outputs": [
    {
     "name": "stdout",
     "output_type": "stream",
     "text": [
      "maintenance_type\n",
      "Appliances     974080\n",
      "Cleaning      1026686\n",
      "Electrical    1027369\n",
      "HVAC          1128470\n",
      "Painting       985205\n",
      "Plumbing      1038963\n",
      "Roof          1070629\n",
      "Name: cost, dtype: int64\n"
     ]
    }
   ],
   "source": [
    "cost_per_type = ment_df.groupby(\"maintenance_type\")[\"cost\"].sum()\n",
    "print(cost_per_type)"
   ]
  },
  {
   "cell_type": "code",
   "execution_count": 60,
   "id": "d5f63582",
   "metadata": {},
   "outputs": [
    {
     "data": {
      "text/plain": [
       "'\\nnumber of maintenance : 3,645\\nmostely for Roof and costly are Cleaning  \\ncosted between 802.- 2,355  , with an avg of 1,594 \\nthe  highest cost is 6,992.  \\n'"
      ]
     },
     "execution_count": 60,
     "metadata": {},
     "output_type": "execute_result"
    }
   ],
   "source": [
    "\"\"\"\n",
    "number of maintenance : 3,645\n",
    "mostely for Roof and costly are Cleaning  \n",
    "costed between 802.- 2,355  , with an avg of 1,594 \n",
    "the  highest cost is 6,992.  \n",
    "\"\"\""
   ]
  },
  {
   "cell_type": "markdown",
   "id": "69f5fac4",
   "metadata": {},
   "source": [
    "### Data Visualization"
   ]
  },
  {
   "cell_type": "code",
   "execution_count": 61,
   "id": "61973da6",
   "metadata": {},
   "outputs": [
    {
     "data": {
      "application/vnd.plotly.v1+json": {
       "config": {
        "plotlyServerURL": "https://plot.ly"
       },
       "data": [
        {
         "bingroup": "x",
         "histfunc": "sum",
         "hovertemplate": "maintenance_type=%{x}<br>sum of cost=%{y}<extra></extra>",
         "legendgroup": "",
         "marker": {
          "color": "#636efa",
          "pattern": {
           "shape": ""
          }
         },
         "name": "",
         "orientation": "v",
         "showlegend": false,
         "type": "histogram",
         "x": [
          "Cleaning",
          "Plumbing",
          "Roof",
          "Painting",
          "Electrical",
          "Roof",
          "Cleaning",
          "Appliances",
          "Plumbing",
          "Appliances",
          "HVAC",
          "Roof",
          "Cleaning",
          "Cleaning",
          "Electrical",
          "Roof",
          "Plumbing",
          "Electrical",
          "Roof",
          "Plumbing",
          "Plumbing",
          "Roof",
          "Painting",
          "Roof",
          "Plumbing",
          "Roof",
          "Appliances",
          "HVAC",
          "Electrical",
          "Electrical",
          "Cleaning",
          "Cleaning",
          "Electrical",
          "Electrical",
          "Roof",
          "Electrical",
          "Painting",
          "Electrical",
          "Cleaning",
          "Cleaning",
          "Electrical",
          "Cleaning",
          "Cleaning",
          "HVAC",
          "Roof",
          "Cleaning",
          "Appliances",
          "Appliances",
          "Plumbing",
          "HVAC",
          "Painting",
          "Electrical",
          "Appliances",
          "Electrical",
          "Cleaning",
          "Roof",
          "Painting",
          "Plumbing",
          "Electrical",
          "Electrical",
          "HVAC",
          "HVAC",
          "Electrical",
          "HVAC",
          "Painting",
          "HVAC",
          "Plumbing",
          "Appliances",
          "Electrical",
          "Painting",
          "Plumbing",
          "Electrical",
          "Appliances",
          "Painting",
          "Cleaning",
          "Appliances",
          "HVAC",
          "Plumbing",
          "Painting",
          "Electrical",
          "Painting",
          "Roof",
          "Cleaning",
          "Plumbing",
          "Cleaning",
          "Painting",
          "Electrical",
          "Electrical",
          "HVAC",
          "Roof",
          "Electrical",
          "Electrical",
          "Roof",
          "Appliances",
          "Roof",
          "Roof",
          "Painting",
          "Roof",
          "Cleaning",
          "Electrical",
          "Painting",
          "Painting",
          "Painting",
          "Roof",
          "HVAC",
          "HVAC",
          "Cleaning",
          "Electrical",
          "Plumbing",
          "Painting",
          "HVAC",
          "HVAC",
          "Plumbing",
          "Plumbing",
          "Appliances",
          "Roof",
          "Roof",
          "Appliances",
          "Painting",
          "Cleaning",
          "Plumbing",
          "Appliances",
          "HVAC",
          "Appliances",
          "HVAC",
          "HVAC",
          "HVAC",
          "Cleaning",
          "Electrical",
          "Electrical",
          "Appliances",
          "Roof",
          "Plumbing",
          "Painting",
          "Cleaning",
          "Plumbing",
          "Painting",
          "Cleaning",
          "Roof",
          "Roof",
          "Plumbing",
          "Painting",
          "Cleaning",
          "Appliances",
          "Cleaning",
          "Roof",
          "HVAC",
          "Electrical",
          "Appliances",
          "Electrical",
          "Electrical",
          "Painting",
          "HVAC",
          "Painting",
          "Roof",
          "Painting",
          "Plumbing",
          "Appliances",
          "Cleaning",
          "Plumbing",
          "Painting",
          "HVAC",
          "Appliances",
          "Painting",
          "HVAC",
          "Appliances",
          "Plumbing",
          "Plumbing",
          "Plumbing",
          "Plumbing",
          "Plumbing",
          "Electrical",
          "Appliances",
          "Painting",
          "Roof",
          "Electrical",
          "Electrical",
          "Painting",
          "Appliances",
          "Roof",
          "Electrical",
          "HVAC",
          "Roof",
          "Plumbing",
          "HVAC",
          "Cleaning",
          "Cleaning",
          "HVAC",
          "Electrical",
          "Painting",
          "Plumbing",
          "Appliances",
          "Appliances",
          "Electrical",
          "Electrical",
          "Plumbing",
          "Cleaning",
          "HVAC",
          "Appliances",
          "Electrical",
          "Plumbing",
          "Plumbing",
          "Painting",
          "HVAC",
          "HVAC",
          "Electrical",
          "Painting",
          "Roof",
          "Painting",
          "Roof",
          "Painting",
          "Appliances",
          "Roof",
          "Electrical",
          "HVAC",
          "Painting",
          "Plumbing",
          "Plumbing",
          "Cleaning",
          "HVAC",
          "HVAC",
          "Cleaning",
          "Roof",
          "HVAC",
          "HVAC",
          "Painting",
          "Appliances",
          "Appliances",
          "HVAC",
          "HVAC",
          "Plumbing",
          "Painting",
          "Roof",
          "Painting",
          "Cleaning",
          "HVAC",
          "Appliances",
          "Electrical",
          "Cleaning",
          "Roof",
          "Electrical",
          "Plumbing",
          "Plumbing",
          "Cleaning",
          "Painting",
          "Plumbing",
          "HVAC",
          "HVAC",
          "Appliances",
          "Cleaning",
          "Plumbing",
          "Plumbing",
          "Electrical",
          "Appliances",
          "Appliances",
          "Appliances",
          "Roof",
          "Electrical",
          "Electrical",
          "Appliances",
          "Plumbing",
          "Roof",
          "HVAC",
          "Roof",
          "Painting",
          "Electrical",
          "HVAC",
          "Cleaning",
          "HVAC",
          "Roof",
          "Painting",
          "HVAC",
          "Plumbing",
          "Plumbing",
          "Roof",
          "Painting",
          "HVAC",
          "Roof",
          "Electrical",
          "Plumbing",
          "Appliances",
          "Roof",
          "Cleaning",
          "Plumbing",
          "Cleaning",
          "HVAC",
          "Cleaning",
          "Electrical",
          "Plumbing",
          "Roof",
          "Painting",
          "Electrical",
          "Painting",
          "Plumbing",
          "Electrical",
          "Painting",
          "Painting",
          "Painting",
          "Cleaning",
          "Cleaning",
          "Appliances",
          "Painting",
          "Cleaning",
          "HVAC",
          "Electrical",
          "HVAC",
          "Painting",
          "Plumbing",
          "Cleaning",
          "Roof",
          "HVAC",
          "Electrical",
          "Electrical",
          "HVAC",
          "Cleaning",
          "Appliances",
          "Roof",
          "Cleaning",
          "Roof",
          "Plumbing",
          "Plumbing",
          "Appliances",
          "HVAC",
          "Roof",
          "Appliances",
          "Appliances",
          "Appliances",
          "HVAC",
          "HVAC",
          "Appliances",
          "Appliances",
          "HVAC",
          "Painting",
          "Electrical",
          "HVAC",
          "HVAC",
          "HVAC",
          "Plumbing",
          "Roof",
          "Electrical",
          "Roof",
          "Painting",
          "Electrical",
          "Electrical",
          "Plumbing",
          "Roof",
          "Electrical",
          "Cleaning",
          "Electrical",
          "Appliances",
          "Plumbing",
          "Painting",
          "Plumbing",
          "Cleaning",
          "Roof",
          "Plumbing",
          "HVAC",
          "HVAC",
          "Plumbing",
          "Roof",
          "Roof",
          "Appliances",
          "Painting",
          "Roof",
          "Electrical",
          "Cleaning",
          "Appliances",
          "Appliances",
          "Electrical",
          "Painting",
          "HVAC",
          "Electrical",
          "Electrical",
          "Plumbing",
          "Roof",
          "Electrical",
          "Appliances",
          "Plumbing",
          "HVAC",
          "Painting",
          "Plumbing",
          "Electrical",
          "HVAC",
          "HVAC",
          "Roof",
          "Appliances",
          "Appliances",
          "Plumbing",
          "Cleaning",
          "Roof",
          "Roof",
          "Appliances",
          "Appliances",
          "Cleaning",
          "Plumbing",
          "Appliances",
          "Roof",
          "Cleaning",
          "Cleaning",
          "Plumbing",
          "HVAC",
          "Plumbing",
          "Painting",
          "Roof",
          "Painting",
          "Cleaning",
          "Cleaning",
          "Painting",
          "Plumbing",
          "HVAC",
          "HVAC",
          "Cleaning",
          "HVAC",
          "Appliances",
          "Painting",
          "HVAC",
          "HVAC",
          "Roof",
          "Cleaning",
          "Plumbing",
          "Plumbing",
          "Appliances",
          "Roof",
          "Electrical",
          "Plumbing",
          "Painting",
          "Roof",
          "Appliances",
          "Painting",
          "Painting",
          "Painting",
          "Appliances",
          "Roof",
          "Electrical",
          "Painting",
          "Roof",
          "Plumbing",
          "HVAC",
          "Painting",
          "Plumbing",
          "Roof",
          "Plumbing",
          "Painting",
          "Plumbing",
          "Roof",
          "Plumbing",
          "Appliances",
          "HVAC",
          "Painting",
          "Roof",
          "Cleaning",
          "Plumbing",
          "Electrical",
          "Cleaning",
          "Appliances",
          "Painting",
          "Electrical",
          "Appliances",
          "Electrical",
          "Plumbing",
          "Painting",
          "HVAC",
          "Cleaning",
          "Appliances",
          "Cleaning",
          "Roof",
          "Painting",
          "Plumbing",
          "Plumbing",
          "HVAC",
          "Roof",
          "Plumbing",
          "HVAC",
          "Appliances",
          "Appliances",
          "Appliances",
          "Appliances",
          "Appliances",
          "Roof",
          "Appliances",
          "Appliances",
          "Plumbing",
          "Electrical",
          "Painting",
          "Electrical",
          "Roof",
          "HVAC",
          "HVAC",
          "Plumbing",
          "Roof",
          "Appliances",
          "Plumbing",
          "HVAC",
          "Roof",
          "Electrical",
          "Plumbing",
          "Electrical",
          "Electrical",
          "Painting",
          "Cleaning",
          "HVAC",
          "Appliances",
          "Electrical",
          "Appliances",
          "HVAC",
          "Painting",
          "Cleaning",
          "Appliances",
          "Roof",
          "HVAC",
          "Plumbing",
          "Electrical",
          "HVAC",
          "Cleaning",
          "Electrical",
          "Roof",
          "Roof",
          "HVAC",
          "Appliances",
          "Appliances",
          "Cleaning",
          "Plumbing",
          "Electrical",
          "Roof",
          "Plumbing",
          "Electrical",
          "Roof",
          "Electrical",
          "Painting",
          "Roof",
          "Painting",
          "HVAC",
          "Painting",
          "Appliances",
          "Roof",
          "Cleaning",
          "Painting",
          "Appliances",
          "Appliances",
          "Cleaning",
          "Roof",
          "Cleaning",
          "Electrical",
          "Electrical",
          "Roof",
          "Appliances",
          "Cleaning",
          "Electrical",
          "Painting",
          "Painting",
          "Plumbing",
          "Electrical",
          "Appliances",
          "Cleaning",
          "Appliances",
          "Plumbing",
          "Electrical",
          "Plumbing",
          "Roof",
          "Electrical",
          "Plumbing",
          "Electrical",
          "Roof",
          "Cleaning",
          "Electrical",
          "Electrical",
          "Painting",
          "Plumbing",
          "Plumbing",
          "Electrical",
          "Electrical",
          "Plumbing",
          "Cleaning",
          "Roof",
          "Appliances",
          "Cleaning",
          "HVAC",
          "Roof",
          "HVAC",
          "Electrical",
          "Electrical",
          "Electrical",
          "Appliances",
          "Roof",
          "HVAC",
          "Plumbing",
          "HVAC",
          "HVAC",
          "Plumbing",
          "Painting",
          "HVAC",
          "HVAC",
          "Roof",
          "Roof",
          "HVAC",
          "Plumbing",
          "Plumbing",
          "HVAC",
          "Painting",
          "Appliances",
          "Appliances",
          "Electrical",
          "Roof",
          "Cleaning",
          "Plumbing",
          "HVAC",
          "Painting",
          "Roof",
          "Plumbing",
          "Cleaning",
          "Plumbing",
          "Appliances",
          "Roof",
          "Painting",
          "Appliances",
          "Electrical",
          "Cleaning",
          "Cleaning",
          "HVAC",
          "Cleaning",
          "HVAC",
          "Electrical",
          "Appliances",
          "Painting",
          "Roof",
          "HVAC",
          "Plumbing",
          "Painting",
          "Electrical",
          "Painting",
          "Electrical",
          "Electrical",
          "Electrical",
          "Electrical",
          "Cleaning",
          "Plumbing",
          "HVAC",
          "Electrical",
          "Electrical",
          "Cleaning",
          "Roof",
          "Plumbing",
          "Plumbing",
          "Appliances",
          "Roof",
          "Painting",
          "HVAC",
          "Roof",
          "Electrical",
          "HVAC",
          "Roof",
          "Plumbing",
          "Roof",
          "Roof",
          "Appliances",
          "Appliances",
          "HVAC",
          "Plumbing",
          "Electrical",
          "Cleaning",
          "Roof",
          "Plumbing",
          "Appliances",
          "HVAC",
          "Roof",
          "Plumbing",
          "HVAC",
          "Painting",
          "HVAC",
          "Appliances",
          "Electrical",
          "HVAC",
          "Cleaning",
          "HVAC",
          "Painting",
          "Roof",
          "Appliances",
          "Plumbing",
          "HVAC",
          "Appliances",
          "Plumbing",
          "Cleaning",
          "Roof",
          "Cleaning",
          "Electrical",
          "HVAC",
          "Painting",
          "Painting",
          "Appliances",
          "Appliances",
          "Cleaning",
          "Painting",
          "Plumbing",
          "Electrical",
          "Electrical",
          "Electrical",
          "Appliances",
          "Roof",
          "HVAC",
          "Cleaning",
          "Painting",
          "HVAC",
          "Electrical",
          "HVAC",
          "Roof",
          "Electrical",
          "Cleaning",
          "Painting",
          "Roof",
          "HVAC",
          "Plumbing",
          "Painting",
          "Roof",
          "HVAC",
          "Roof",
          "Cleaning",
          "Cleaning",
          "Painting",
          "Cleaning",
          "Painting",
          "Roof",
          "HVAC",
          "Electrical",
          "Appliances",
          "HVAC",
          "Plumbing",
          "Plumbing",
          "Appliances",
          "Cleaning",
          "Electrical",
          "Plumbing",
          "Cleaning",
          "Electrical",
          "Plumbing",
          "Cleaning",
          "Cleaning",
          "Plumbing",
          "Plumbing",
          "Electrical",
          "Painting",
          "Electrical",
          "Appliances",
          "Roof",
          "Electrical",
          "Plumbing",
          "Plumbing",
          "Painting",
          "Appliances",
          "Electrical",
          "Appliances",
          "Plumbing",
          "Appliances",
          "HVAC",
          "Appliances",
          "Roof",
          "Roof",
          "Electrical",
          "HVAC",
          "Roof",
          "Cleaning",
          "Appliances",
          "HVAC",
          "HVAC",
          "Plumbing",
          "Cleaning",
          "Appliances",
          "Plumbing",
          "Painting",
          "Electrical",
          "Cleaning",
          "Appliances",
          "Roof",
          "Roof",
          "Cleaning",
          "Electrical",
          "Plumbing",
          "Roof",
          "Electrical",
          "Electrical",
          "Painting",
          "Roof",
          "Painting",
          "Painting",
          "Appliances",
          "HVAC",
          "Roof",
          "Painting",
          "Electrical",
          "HVAC",
          "Painting",
          "Appliances",
          "Cleaning",
          "Plumbing",
          "HVAC",
          "Electrical",
          "Plumbing",
          "HVAC",
          "Plumbing",
          "Appliances",
          "Painting",
          "Cleaning",
          "Roof",
          "Cleaning",
          "Electrical",
          "Roof",
          "Painting",
          "Cleaning",
          "Roof",
          "Roof",
          "HVAC",
          "HVAC",
          "HVAC",
          "Roof",
          "Cleaning",
          "HVAC",
          "Appliances",
          "Cleaning",
          "HVAC",
          "Electrical",
          "Plumbing",
          "Painting",
          "Appliances",
          "Cleaning",
          "Plumbing",
          "Roof",
          "Plumbing",
          "HVAC",
          "Electrical",
          "Roof",
          "Cleaning",
          "Plumbing",
          "HVAC",
          "Plumbing",
          "Appliances",
          "Plumbing",
          "HVAC",
          "Appliances",
          "Painting",
          "Cleaning",
          "Electrical",
          "Electrical",
          "Plumbing",
          "Electrical",
          "Plumbing",
          "Plumbing",
          "Roof",
          "Painting",
          "Roof",
          "Appliances",
          "Roof",
          "HVAC",
          "Plumbing",
          "HVAC",
          "Painting",
          "Roof",
          "Plumbing",
          "Electrical",
          "Roof",
          "HVAC",
          "Cleaning",
          "Painting",
          "Painting",
          "Electrical",
          "HVAC",
          "Cleaning",
          "Appliances",
          "Roof",
          "Roof",
          "Painting",
          "Appliances",
          "Appliances",
          "HVAC",
          "HVAC",
          "Roof",
          "Roof",
          "Painting",
          "HVAC",
          "Roof",
          "HVAC",
          "Plumbing",
          "Painting",
          "Plumbing",
          "Roof",
          "Painting",
          "Roof",
          "Cleaning",
          "Appliances",
          "Painting",
          "Roof",
          "HVAC",
          "Plumbing",
          "Roof",
          "Appliances",
          "HVAC",
          "Painting",
          "Roof",
          "HVAC",
          "Painting",
          "Electrical",
          "Roof",
          "HVAC",
          "Painting",
          "Plumbing",
          "Roof",
          "Painting",
          "HVAC",
          "Cleaning",
          "HVAC",
          "Painting",
          "Electrical",
          "Roof",
          "Electrical",
          "Appliances",
          "Roof",
          "HVAC",
          "Roof",
          "Roof",
          "Painting",
          "HVAC",
          "Roof",
          "Cleaning",
          "Painting",
          "HVAC",
          "Painting",
          "Appliances",
          "Appliances",
          "HVAC",
          "Plumbing",
          "Cleaning",
          "Electrical",
          "Cleaning",
          "Appliances",
          "Roof",
          "Roof",
          "Appliances",
          "Roof",
          "Painting",
          "Plumbing",
          "Cleaning",
          "Roof",
          "Cleaning",
          "Cleaning",
          "Roof",
          "Painting",
          "Appliances",
          "Painting",
          "Appliances",
          "Cleaning",
          "HVAC",
          "Electrical",
          "Roof",
          "Electrical",
          "Plumbing",
          "Roof",
          "Plumbing",
          "Plumbing",
          "Painting",
          "HVAC",
          "Painting",
          "Electrical",
          "Plumbing",
          "Cleaning",
          "Painting",
          "Electrical",
          "Appliances",
          "Painting",
          "Painting",
          "Appliances",
          "Cleaning",
          "Cleaning",
          "Cleaning",
          "Painting",
          "Appliances",
          "Roof",
          "Appliances",
          "Electrical",
          "Plumbing",
          "Appliances",
          "Cleaning",
          "Cleaning",
          "Plumbing",
          "Electrical",
          "Electrical",
          "Electrical",
          "Roof",
          "HVAC",
          "HVAC",
          "Cleaning",
          "Appliances",
          "Roof",
          "Electrical",
          "Plumbing",
          "Roof",
          "Cleaning",
          "Painting",
          "HVAC",
          "Plumbing",
          "Roof",
          "Plumbing",
          "Cleaning",
          "Appliances",
          "HVAC",
          "Painting",
          "Cleaning",
          "Roof",
          "Electrical",
          "Plumbing",
          "Appliances",
          "Electrical",
          "Plumbing",
          "Roof",
          "Painting",
          "Roof",
          "Painting",
          "Plumbing",
          "Electrical",
          "Cleaning",
          "Appliances",
          "Electrical",
          "Plumbing",
          "Plumbing",
          "Painting",
          "Appliances",
          "Appliances",
          "Plumbing",
          "Roof",
          "Painting",
          "Plumbing",
          "Roof",
          "Electrical",
          "Cleaning",
          "Electrical",
          "Painting",
          "Cleaning",
          "Roof",
          "HVAC",
          "Roof",
          "Appliances",
          "Roof",
          "HVAC",
          "Electrical",
          "Appliances",
          "Appliances",
          "Painting",
          "Electrical",
          "Electrical",
          "Cleaning",
          "Electrical",
          "Plumbing",
          "HVAC",
          "Roof",
          "Cleaning",
          "Electrical",
          "Electrical",
          "Painting",
          "Electrical",
          "HVAC",
          "Cleaning",
          "Roof",
          "Electrical",
          "Appliances",
          "HVAC",
          "Painting",
          "Plumbing",
          "Appliances",
          "Cleaning",
          "Plumbing",
          "Plumbing",
          "Electrical",
          "Appliances",
          "Roof",
          "Cleaning",
          "Roof",
          "Painting",
          "Plumbing",
          "HVAC",
          "Appliances",
          "Electrical",
          "Electrical",
          "HVAC",
          "Electrical",
          "Roof",
          "Electrical",
          "Cleaning",
          "Plumbing",
          "Plumbing",
          "Appliances",
          "Plumbing",
          "Appliances",
          "Plumbing",
          "Roof",
          "HVAC",
          "Electrical",
          "Plumbing",
          "Plumbing",
          "HVAC",
          "HVAC",
          "HVAC",
          "Cleaning",
          "Roof",
          "Electrical",
          "Cleaning",
          "Electrical",
          "Roof",
          "Appliances",
          "HVAC",
          "Cleaning",
          "HVAC",
          "Electrical",
          "HVAC",
          "Plumbing",
          "Plumbing",
          "Painting",
          "Electrical",
          "Painting",
          "Roof",
          "Plumbing",
          "Painting",
          "Cleaning",
          "Plumbing",
          "Plumbing",
          "Plumbing",
          "Electrical",
          "Plumbing",
          "Painting",
          "Painting",
          "Appliances",
          "Electrical",
          "Cleaning",
          "Plumbing",
          "Cleaning",
          "HVAC",
          "Electrical",
          "Appliances",
          "Plumbing",
          "HVAC",
          "Electrical",
          "Electrical",
          "HVAC",
          "Appliances",
          "Electrical",
          "HVAC",
          "HVAC",
          "Plumbing",
          "Cleaning",
          "Appliances",
          "Plumbing",
          "Cleaning",
          "Painting",
          "Roof",
          "HVAC",
          "Appliances",
          "Cleaning",
          "HVAC",
          "Cleaning",
          "Appliances",
          "HVAC",
          "Plumbing",
          "Roof",
          "HVAC",
          "Electrical",
          "Plumbing",
          "Cleaning",
          "HVAC",
          "HVAC",
          "Roof",
          "Electrical",
          "Plumbing",
          "Appliances",
          "Cleaning",
          "Plumbing",
          "Roof",
          "Appliances",
          "Roof",
          "Plumbing",
          "Appliances",
          "Roof",
          "Electrical",
          "Roof",
          "Cleaning",
          "HVAC",
          "Roof",
          "HVAC",
          "Painting",
          "Cleaning",
          "Plumbing",
          "Cleaning",
          "Plumbing",
          "Cleaning",
          "Electrical",
          "Plumbing",
          "Plumbing",
          "Plumbing",
          "Electrical",
          "Appliances",
          "Roof",
          "Appliances",
          "Painting",
          "Plumbing",
          "Painting",
          "Plumbing",
          "Cleaning",
          "Plumbing",
          "HVAC",
          "Cleaning",
          "Cleaning",
          "Cleaning",
          "Appliances",
          "Cleaning",
          "Cleaning",
          "Roof",
          "HVAC",
          "Painting",
          "Painting",
          "Roof",
          "HVAC",
          "Appliances",
          "Plumbing",
          "Appliances",
          "Painting",
          "Painting",
          "Cleaning",
          "Cleaning",
          "Roof",
          "HVAC",
          "Electrical",
          "Cleaning",
          "Electrical",
          "Plumbing",
          "Appliances",
          "HVAC",
          "Roof",
          "Painting",
          "Cleaning",
          "Roof",
          "Painting",
          "Painting",
          "Cleaning",
          "Cleaning",
          "Electrical",
          "Plumbing",
          "HVAC",
          "HVAC",
          "Cleaning",
          "Electrical",
          "Roof",
          "Electrical",
          "Painting",
          "Plumbing",
          "Electrical",
          "Plumbing",
          "Cleaning",
          "Electrical",
          "Painting",
          "Plumbing",
          "Plumbing",
          "Roof",
          "Cleaning",
          "Plumbing",
          "Appliances",
          "Roof",
          "Painting",
          "HVAC",
          "Cleaning",
          "HVAC",
          "Plumbing",
          "Electrical",
          "Electrical",
          "Roof",
          "Cleaning",
          "Plumbing",
          "Appliances",
          "Roof",
          "HVAC",
          "Appliances",
          "HVAC",
          "Cleaning",
          "Cleaning",
          "Roof",
          "Appliances",
          "Appliances",
          "Plumbing",
          "HVAC",
          "Roof",
          "HVAC",
          "Roof",
          "Appliances",
          "Painting",
          "Cleaning",
          "Roof",
          "Plumbing",
          "Cleaning",
          "Painting",
          "Plumbing",
          "Painting",
          "Roof",
          "Cleaning",
          "Appliances",
          "Roof",
          "Electrical",
          "Roof",
          "Plumbing",
          "Plumbing",
          "HVAC",
          "HVAC",
          "Electrical",
          "Electrical",
          "HVAC",
          "Plumbing",
          "Electrical",
          "Roof",
          "Appliances",
          "HVAC",
          "HVAC",
          "HVAC",
          "Plumbing",
          "Appliances",
          "Appliances",
          "HVAC",
          "Cleaning",
          "Painting",
          "Plumbing",
          "Roof",
          "Plumbing",
          "Appliances",
          "Plumbing",
          "Cleaning",
          "Electrical",
          "Plumbing",
          "Electrical",
          "Plumbing",
          "Painting",
          "Roof",
          "Electrical",
          "Cleaning",
          "Cleaning",
          "HVAC",
          "Roof",
          "Plumbing",
          "Plumbing",
          "Painting",
          "HVAC",
          "Appliances",
          "Painting",
          "Roof",
          "HVAC",
          "Appliances",
          "Appliances",
          "Plumbing",
          "Electrical",
          "Appliances",
          "Painting",
          "Roof",
          "Painting",
          "Appliances",
          "HVAC",
          "Painting",
          "Electrical",
          "Cleaning",
          "HVAC",
          "Electrical",
          "HVAC",
          "Painting",
          "HVAC",
          "Cleaning",
          "Appliances",
          "Cleaning",
          "Appliances",
          "HVAC",
          "Roof",
          "Appliances",
          "Appliances",
          "Roof",
          "HVAC",
          "HVAC",
          "HVAC",
          "Plumbing",
          "Electrical",
          "Cleaning",
          "Electrical",
          "Electrical",
          "Appliances",
          "Appliances",
          "Electrical",
          "Electrical",
          "HVAC",
          "Plumbing",
          "Roof",
          "Roof",
          "Electrical",
          "Appliances",
          "Appliances",
          "Roof",
          "Cleaning",
          "Electrical",
          "Cleaning",
          "Appliances",
          "Plumbing",
          "Cleaning",
          "Roof",
          "Roof",
          "Roof",
          "Appliances",
          "HVAC",
          "Appliances",
          "Roof",
          "Painting",
          "Appliances",
          "Plumbing",
          "Roof",
          "Cleaning",
          "Painting",
          "Cleaning",
          "HVAC",
          "Plumbing",
          "Painting",
          "Electrical",
          "Electrical",
          "Electrical",
          "HVAC",
          "Painting",
          "Roof",
          "Painting",
          "Cleaning",
          "Plumbing",
          "HVAC",
          "HVAC",
          "Appliances",
          "Electrical",
          "Painting",
          "Plumbing",
          "Roof",
          "Appliances",
          "Electrical",
          "Appliances",
          "Appliances",
          "Painting",
          "Plumbing",
          "Roof",
          "Cleaning",
          "Plumbing",
          "Painting",
          "Cleaning",
          "Electrical",
          "Plumbing",
          "HVAC",
          "Painting",
          "Cleaning",
          "Appliances",
          "Painting",
          "HVAC",
          "Electrical",
          "Electrical",
          "Electrical",
          "Cleaning",
          "Appliances",
          "Electrical",
          "Roof",
          "Electrical",
          "Electrical",
          "Appliances",
          "Cleaning",
          "HVAC",
          "Appliances",
          "HVAC",
          "Painting",
          "Electrical",
          "Appliances",
          "Roof",
          "Painting",
          "Appliances",
          "Roof",
          "Electrical",
          "Electrical",
          "Cleaning",
          "Cleaning",
          "Electrical",
          "Plumbing",
          "HVAC",
          "HVAC",
          "HVAC",
          "Cleaning",
          "Cleaning",
          "Painting",
          "Plumbing",
          "Cleaning",
          "Painting",
          "Electrical",
          "Cleaning",
          "Appliances",
          "Electrical",
          "Cleaning",
          "Roof",
          "Appliances",
          "Roof",
          "HVAC",
          "Appliances",
          "Painting",
          "Cleaning",
          "HVAC",
          "Painting",
          "Painting",
          "Painting",
          "Roof",
          "Plumbing",
          "HVAC",
          "Appliances",
          "Appliances",
          "Electrical",
          "Cleaning",
          "Electrical",
          "Appliances",
          "Appliances",
          "HVAC",
          "Cleaning",
          "Plumbing",
          "Appliances",
          "Cleaning",
          "Appliances",
          "Painting",
          "Roof",
          "Plumbing",
          "Electrical",
          "HVAC",
          "Plumbing",
          "Painting",
          "Painting",
          "Painting",
          "Electrical",
          "Electrical",
          "Appliances",
          "Painting",
          "Plumbing",
          "HVAC",
          "Painting",
          "Plumbing",
          "Cleaning",
          "Plumbing",
          "Cleaning",
          "Cleaning",
          "Appliances",
          "Appliances",
          "HVAC",
          "Painting",
          "Appliances",
          "Electrical",
          "Plumbing",
          "Roof",
          "Electrical",
          "Plumbing",
          "Cleaning",
          "Plumbing",
          "Cleaning",
          "Roof",
          "Plumbing",
          "Plumbing",
          "Electrical",
          "HVAC",
          "Electrical",
          "Roof",
          "Plumbing",
          "Painting",
          "Roof",
          "Painting",
          "Cleaning",
          "Electrical",
          "Electrical",
          "Roof",
          "Appliances",
          "Roof",
          "Cleaning",
          "HVAC",
          "Plumbing",
          "Electrical",
          "Roof",
          "Plumbing",
          "Electrical",
          "Roof",
          "Electrical",
          "Cleaning",
          "Roof",
          "Painting",
          "Electrical",
          "Plumbing",
          "Appliances",
          "Appliances",
          "Roof",
          "Cleaning",
          "Painting",
          "HVAC",
          "Cleaning",
          "Cleaning",
          "Electrical",
          "Cleaning",
          "HVAC",
          "Painting",
          "HVAC",
          "Plumbing",
          "Cleaning",
          "HVAC",
          "Electrical",
          "Electrical",
          "HVAC",
          "Cleaning",
          "Roof",
          "Plumbing",
          "Cleaning",
          "Appliances",
          "Roof",
          "Electrical",
          "Appliances",
          "Roof",
          "Plumbing",
          "Roof",
          "Painting",
          "Cleaning",
          "Cleaning",
          "Plumbing",
          "Roof",
          "Plumbing",
          "Appliances",
          "Plumbing",
          "Plumbing",
          "HVAC",
          "Roof",
          "HVAC",
          "Painting",
          "HVAC",
          "Roof",
          "Roof",
          "Painting",
          "Roof",
          "Painting",
          "Electrical",
          "Appliances",
          "Painting",
          "HVAC",
          "Electrical",
          "Electrical",
          "Roof",
          "Plumbing",
          "Appliances",
          "Cleaning",
          "Plumbing",
          "Painting",
          "Electrical",
          "Painting",
          "Appliances",
          "Appliances",
          "Appliances",
          "HVAC",
          "Plumbing",
          "Appliances",
          "Painting",
          "Painting",
          "Electrical",
          "Plumbing",
          "Appliances",
          "HVAC",
          "Plumbing",
          "Painting",
          "Plumbing",
          "Electrical",
          "HVAC",
          "Plumbing",
          "Painting",
          "Electrical",
          "Cleaning",
          "Electrical",
          "Cleaning",
          "Plumbing",
          "HVAC",
          "Roof",
          "Painting",
          "Cleaning",
          "Cleaning",
          "HVAC",
          "Electrical",
          "HVAC",
          "Painting",
          "HVAC",
          "Roof",
          "Roof",
          "Painting",
          "Electrical",
          "Appliances",
          "Painting",
          "Roof",
          "Roof",
          "Plumbing",
          "Plumbing",
          "Appliances",
          "Painting",
          "Plumbing",
          "Painting",
          "HVAC",
          "Electrical",
          "Roof",
          "Roof",
          "HVAC",
          "Plumbing",
          "Roof",
          "Cleaning",
          "HVAC",
          "Electrical",
          "Roof",
          "Appliances",
          "Cleaning",
          "Cleaning",
          "Plumbing",
          "Plumbing",
          "Plumbing",
          "Appliances",
          "Cleaning",
          "Cleaning",
          "Electrical",
          "Electrical",
          "Painting",
          "HVAC",
          "Painting",
          "Painting",
          "HVAC",
          "Plumbing",
          "Electrical",
          "Appliances",
          "Appliances",
          "Painting",
          "Cleaning",
          "Painting",
          "Plumbing",
          "Cleaning",
          "Plumbing",
          "Roof",
          "Appliances",
          "Painting",
          "Cleaning",
          "Painting",
          "HVAC",
          "Cleaning",
          "Cleaning",
          "Painting",
          "Appliances",
          "Painting",
          "Plumbing",
          "Cleaning",
          "Roof",
          "Painting",
          "Painting",
          "Roof",
          "HVAC",
          "Roof",
          "Plumbing",
          "Plumbing",
          "Cleaning",
          "Electrical",
          "Painting",
          "Roof",
          "HVAC",
          "Plumbing",
          "HVAC",
          "Appliances",
          "Roof",
          "Painting",
          "Appliances",
          "Plumbing",
          "Plumbing",
          "Painting",
          "Painting",
          "Plumbing",
          "HVAC",
          "Electrical",
          "Roof",
          "Electrical",
          "Roof",
          "Painting",
          "Electrical",
          "Plumbing",
          "Painting",
          "Appliances",
          "Cleaning",
          "Painting",
          "Cleaning",
          "Electrical",
          "Plumbing",
          "Roof",
          "Cleaning",
          "Painting",
          "Cleaning",
          "HVAC",
          "Roof",
          "Plumbing",
          "Painting",
          "HVAC",
          "Roof",
          "Plumbing",
          "Electrical",
          "HVAC",
          "Appliances",
          "HVAC",
          "Plumbing",
          "Appliances",
          "Plumbing",
          "Painting",
          "Appliances",
          "Roof",
          "Appliances",
          "Plumbing",
          "Electrical",
          "Roof",
          "Roof",
          "Electrical",
          "Roof",
          "Plumbing",
          "Plumbing",
          "Roof",
          "Electrical",
          "Electrical",
          "Painting",
          "Cleaning",
          "Roof",
          "Appliances",
          "Painting",
          "Roof",
          "Cleaning",
          "Painting",
          "Plumbing",
          "Cleaning",
          "Painting",
          "Painting",
          "HVAC",
          "Roof",
          "Appliances",
          "Painting",
          "Plumbing",
          "Appliances",
          "HVAC",
          "Appliances",
          "Plumbing",
          "Electrical",
          "Cleaning",
          "Roof",
          "Cleaning",
          "Roof",
          "Electrical",
          "Roof",
          "Painting",
          "Roof",
          "Roof",
          "Painting",
          "Painting",
          "Cleaning",
          "Electrical",
          "Electrical",
          "Cleaning",
          "Electrical",
          "HVAC",
          "Electrical",
          "Electrical",
          "Plumbing",
          "Electrical",
          "Cleaning",
          "Cleaning",
          "Plumbing",
          "Appliances",
          "Cleaning",
          "Cleaning",
          "Cleaning",
          "Appliances",
          "Cleaning",
          "HVAC",
          "Electrical",
          "Plumbing",
          "Electrical",
          "Appliances",
          "Plumbing",
          "Plumbing",
          "Painting",
          "Plumbing",
          "Electrical",
          "Cleaning",
          "Cleaning",
          "Cleaning",
          "Roof",
          "Appliances",
          "Cleaning",
          "Electrical",
          "Cleaning",
          "Appliances",
          "Roof",
          "Cleaning",
          "Appliances",
          "Roof",
          "Electrical",
          "Plumbing",
          "Roof",
          "Electrical",
          "Electrical",
          "Plumbing",
          "Electrical",
          "HVAC",
          "Appliances",
          "Painting",
          "Painting",
          "Electrical",
          "Cleaning",
          "Painting",
          "Painting",
          "Painting",
          "Plumbing",
          "Painting",
          "Electrical",
          "Roof",
          "Cleaning",
          "Plumbing",
          "Appliances",
          "HVAC",
          "HVAC",
          "Electrical",
          "Electrical",
          "Roof",
          "Roof",
          "HVAC",
          "Electrical",
          "HVAC",
          "Roof",
          "Cleaning",
          "Cleaning",
          "HVAC",
          "Plumbing",
          "Painting",
          "HVAC",
          "Appliances",
          "Painting",
          "Appliances",
          "Appliances",
          "Electrical",
          "Roof",
          "HVAC",
          "Electrical",
          "Cleaning",
          "Electrical",
          "Electrical",
          "Roof",
          "Electrical",
          "Painting",
          "Electrical",
          "Plumbing",
          "HVAC",
          "Plumbing",
          "Painting",
          "Cleaning",
          "Electrical",
          "Cleaning",
          "Painting",
          "Roof",
          "Appliances",
          "Electrical",
          "Plumbing",
          "Painting",
          "Roof",
          "Roof",
          "Electrical",
          "Cleaning",
          "Appliances",
          "Painting",
          "HVAC",
          "Cleaning",
          "Cleaning",
          "Roof",
          "Painting",
          "Roof",
          "Roof",
          "Painting",
          "HVAC",
          "HVAC",
          "Cleaning",
          "Cleaning",
          "HVAC",
          "Cleaning",
          "HVAC",
          "Plumbing",
          "Electrical",
          "Roof",
          "Painting",
          "HVAC",
          "Cleaning",
          "Appliances",
          "Painting",
          "Painting",
          "Appliances",
          "Painting",
          "Cleaning",
          "Plumbing",
          "Painting",
          "Painting",
          "Cleaning",
          "Roof",
          "Plumbing",
          "HVAC",
          "Roof",
          "Plumbing",
          "Appliances",
          "Electrical",
          "Roof",
          "Painting",
          "Plumbing",
          "Plumbing",
          "Cleaning",
          "Electrical",
          "Appliances",
          "Electrical",
          "HVAC",
          "Painting",
          "Electrical",
          "Roof",
          "Plumbing",
          "Appliances",
          "Appliances",
          "Plumbing",
          "Painting",
          "Appliances",
          "Roof",
          "Cleaning",
          "Painting",
          "Electrical",
          "Cleaning",
          "Painting",
          "Cleaning",
          "HVAC",
          "HVAC",
          "HVAC",
          "Plumbing",
          "Electrical",
          "Plumbing",
          "Painting",
          "Plumbing",
          "Painting",
          "Electrical",
          "Plumbing",
          "Cleaning",
          "Appliances",
          "Painting",
          "HVAC",
          "Appliances",
          "Cleaning",
          "Electrical",
          "HVAC",
          "Electrical",
          "Cleaning",
          "Roof",
          "Electrical",
          "Plumbing",
          "Plumbing",
          "Plumbing",
          "Roof",
          "Cleaning",
          "Cleaning",
          "Roof",
          "Cleaning",
          "Appliances",
          "Plumbing",
          "Cleaning",
          "HVAC",
          "Plumbing",
          "HVAC",
          "Plumbing",
          "HVAC",
          "HVAC",
          "HVAC",
          "Appliances",
          "Electrical",
          "Painting",
          "HVAC",
          "Plumbing",
          "Roof",
          "Plumbing",
          "Roof",
          "HVAC",
          "Roof",
          "Electrical",
          "Roof",
          "Plumbing",
          "Plumbing",
          "Cleaning",
          "Painting",
          "Electrical",
          "Electrical",
          "Roof",
          "Painting",
          "Electrical",
          "Electrical",
          "HVAC",
          "Roof",
          "Cleaning",
          "Roof",
          "Painting",
          "Cleaning",
          "Cleaning",
          "Cleaning",
          "HVAC",
          "Cleaning",
          "Painting",
          "Appliances",
          "Painting",
          "Appliances",
          "Plumbing",
          "Cleaning",
          "Electrical",
          "Plumbing",
          "Appliances",
          "Electrical",
          "Roof",
          "Cleaning",
          "HVAC",
          "Electrical",
          "Roof",
          "Plumbing",
          "Plumbing",
          "Electrical",
          "Cleaning",
          "Plumbing",
          "Painting",
          "HVAC",
          "HVAC",
          "Cleaning",
          "Roof",
          "Roof",
          "Painting",
          "Plumbing",
          "Appliances",
          "Appliances",
          "Appliances",
          "Plumbing",
          "Appliances",
          "Cleaning",
          "Plumbing",
          "HVAC",
          "Cleaning",
          "Cleaning",
          "Painting",
          "Cleaning",
          "Roof",
          "Plumbing",
          "Roof",
          "Roof",
          "HVAC",
          "HVAC",
          "Painting",
          "Painting",
          "Roof",
          "HVAC",
          "Appliances",
          "Plumbing",
          "HVAC",
          "HVAC",
          "Plumbing",
          "HVAC",
          "Plumbing",
          "Plumbing",
          "Roof",
          "Roof",
          "HVAC",
          "Plumbing",
          "Electrical",
          "Electrical",
          "Cleaning",
          "Plumbing",
          "Plumbing",
          "Roof",
          "Appliances",
          "Roof",
          "Roof",
          "Painting",
          "Roof",
          "Cleaning",
          "Roof",
          "Plumbing",
          "Roof",
          "HVAC",
          "Painting",
          "Appliances",
          "Electrical",
          "Appliances",
          "Electrical",
          "Appliances",
          "Roof",
          "Electrical",
          "HVAC",
          "Roof",
          "Appliances",
          "Plumbing",
          "HVAC",
          "Electrical",
          "Appliances",
          "Roof",
          "Cleaning",
          "Appliances",
          "Plumbing",
          "Cleaning",
          "Plumbing",
          "Electrical",
          "HVAC",
          "Electrical",
          "Painting",
          "Roof",
          "Cleaning",
          "Cleaning",
          "Electrical",
          "Electrical",
          "Cleaning",
          "Roof",
          "Painting",
          "Plumbing",
          "Plumbing",
          "Roof",
          "Plumbing",
          "Cleaning",
          "Appliances",
          "Painting",
          "HVAC",
          "Cleaning",
          "Painting",
          "HVAC",
          "Roof",
          "Cleaning",
          "HVAC",
          "HVAC",
          "Painting",
          "Plumbing",
          "Appliances",
          "Painting",
          "Cleaning",
          "Cleaning",
          "Plumbing",
          "Roof",
          "Plumbing",
          "Cleaning",
          "Plumbing",
          "Appliances",
          "Roof",
          "Electrical",
          "Electrical",
          "Cleaning",
          "HVAC",
          "Cleaning",
          "Appliances",
          "Plumbing",
          "Plumbing",
          "Electrical",
          "HVAC",
          "Cleaning",
          "Painting",
          "Painting",
          "Plumbing",
          "Cleaning",
          "HVAC",
          "Roof",
          "Roof",
          "Roof",
          "Electrical",
          "Plumbing",
          "HVAC",
          "Cleaning",
          "Plumbing",
          "Roof",
          "Appliances",
          "Roof",
          "Roof",
          "HVAC",
          "Roof",
          "Electrical",
          "HVAC",
          "Appliances",
          "Plumbing",
          "Painting",
          "HVAC",
          "HVAC",
          "HVAC",
          "Appliances",
          "HVAC",
          "Electrical",
          "Painting",
          "Electrical",
          "HVAC",
          "Cleaning",
          "Electrical",
          "HVAC",
          "Electrical",
          "Roof",
          "Electrical",
          "Roof",
          "Plumbing",
          "HVAC",
          "Electrical",
          "Roof",
          "Appliances",
          "Cleaning",
          "Painting",
          "Roof",
          "Electrical",
          "Appliances",
          "Cleaning",
          "Cleaning",
          "Roof",
          "Roof",
          "Painting",
          "Cleaning",
          "Plumbing",
          "Painting",
          "Painting",
          "Roof",
          "Plumbing",
          "HVAC",
          "Painting",
          "Cleaning",
          "Plumbing",
          "HVAC",
          "Roof",
          "Electrical",
          "Cleaning",
          "Roof",
          "Electrical",
          "Cleaning",
          "Electrical",
          "Roof",
          "Roof",
          "Painting",
          "Cleaning",
          "Painting",
          "Painting",
          "Roof",
          "HVAC",
          "Cleaning",
          "Roof",
          "Painting",
          "HVAC",
          "Cleaning",
          "Appliances",
          "Cleaning",
          "Cleaning",
          "HVAC",
          "Appliances",
          "Painting",
          "Appliances",
          "Cleaning",
          "Cleaning",
          "Electrical",
          "Plumbing",
          "Cleaning",
          "Painting",
          "Appliances",
          "Appliances",
          "Electrical",
          "Roof",
          "Painting",
          "HVAC",
          "Electrical",
          "HVAC",
          "Cleaning",
          "Roof",
          "Electrical",
          "HVAC",
          "HVAC",
          "Painting",
          "Appliances",
          "HVAC",
          "Electrical",
          "Painting",
          "HVAC",
          "Appliances",
          "Roof",
          "Roof",
          "Appliances",
          "HVAC",
          "Roof",
          "Plumbing",
          "Cleaning",
          "Appliances",
          "Roof",
          "HVAC",
          "HVAC",
          "HVAC",
          "Plumbing",
          "HVAC",
          "Roof",
          "Plumbing",
          "HVAC",
          "HVAC",
          "HVAC",
          "Electrical",
          "Plumbing",
          "HVAC",
          "Electrical",
          "Appliances",
          "Appliances",
          "Plumbing",
          "Electrical",
          "HVAC",
          "Plumbing",
          "Painting",
          "Painting",
          "Roof",
          "HVAC",
          "Appliances",
          "Appliances",
          "Roof",
          "Plumbing",
          "Cleaning",
          "Appliances",
          "Appliances",
          "Plumbing",
          "HVAC",
          "Plumbing",
          "Plumbing",
          "HVAC",
          "HVAC",
          "Cleaning",
          "Appliances",
          "Cleaning",
          "HVAC",
          "Appliances",
          "Plumbing",
          "HVAC",
          "Painting",
          "Appliances",
          "Electrical",
          "Plumbing",
          "Painting",
          "Roof",
          "Roof",
          "Plumbing",
          "Painting",
          "Roof",
          "HVAC",
          "Painting",
          "Cleaning",
          "Roof",
          "Appliances",
          "Electrical",
          "Cleaning",
          "Painting",
          "HVAC",
          "Appliances",
          "Electrical",
          "Painting",
          "Roof",
          "Plumbing",
          "Painting",
          "Plumbing",
          "Plumbing",
          "Electrical",
          "Painting",
          "Plumbing",
          "Appliances",
          "Plumbing",
          "HVAC",
          "Cleaning",
          "Cleaning",
          "Appliances",
          "HVAC",
          "Painting",
          "HVAC",
          "Roof",
          "Roof",
          "Roof",
          "Roof",
          "Appliances",
          "Plumbing",
          "Electrical",
          "Electrical",
          "Appliances",
          "Roof",
          "Electrical",
          "Painting",
          "Painting",
          "Painting",
          "Plumbing",
          "Electrical",
          "Appliances",
          "Painting",
          "Electrical",
          "Electrical",
          "Cleaning",
          "Electrical",
          "Electrical",
          "HVAC",
          "Cleaning",
          "Plumbing",
          "Roof",
          "HVAC",
          "Roof",
          "Electrical",
          "Appliances",
          "Appliances",
          "Roof",
          "Painting",
          "Electrical",
          "Electrical",
          "Roof",
          "Plumbing",
          "Plumbing",
          "Roof",
          "HVAC",
          "HVAC",
          "Painting",
          "Electrical",
          "Painting",
          "Painting",
          "Roof",
          "Appliances",
          "Plumbing",
          "Cleaning",
          "Cleaning",
          "HVAC",
          "Plumbing",
          "Painting",
          "Electrical",
          "Roof",
          "HVAC",
          "Painting",
          "Painting",
          "Roof",
          "Painting",
          "Roof",
          "Plumbing",
          "Painting",
          "Electrical",
          "Electrical",
          "Roof",
          "HVAC",
          "Plumbing",
          "Plumbing",
          "Painting",
          "Painting",
          "HVAC",
          "Painting",
          "Roof",
          "Roof",
          "HVAC",
          "Appliances",
          "HVAC",
          "Roof",
          "Cleaning",
          "Roof",
          "Painting",
          "HVAC",
          "Appliances",
          "Cleaning",
          "Cleaning",
          "Plumbing",
          "Painting",
          "Cleaning",
          "Plumbing",
          "Electrical",
          "Cleaning",
          "Roof",
          "Plumbing",
          "Electrical",
          "Painting",
          "Painting",
          "HVAC",
          "Painting",
          "HVAC",
          "Plumbing",
          "Cleaning",
          "Plumbing",
          "HVAC",
          "HVAC",
          "Painting",
          "Electrical",
          "Electrical",
          "Appliances",
          "Roof",
          "Cleaning",
          "Plumbing",
          "Roof",
          "HVAC",
          "HVAC",
          "HVAC",
          "Cleaning",
          "Plumbing",
          "HVAC",
          "Cleaning",
          "HVAC",
          "Appliances",
          "HVAC",
          "Cleaning",
          "Electrical",
          "HVAC",
          "Painting",
          "Electrical",
          "HVAC",
          "Plumbing",
          "Cleaning",
          "Appliances",
          "HVAC",
          "Painting",
          "HVAC",
          "Roof",
          "Cleaning",
          "Cleaning",
          "Plumbing",
          "Roof",
          "Plumbing",
          "Painting",
          "Roof",
          "Appliances",
          "Electrical",
          "Cleaning",
          "HVAC",
          "HVAC",
          "HVAC",
          "Roof",
          "Electrical",
          "Cleaning",
          "Cleaning",
          "Roof",
          "Cleaning",
          "HVAC",
          "Electrical",
          "Roof",
          "Roof",
          "Roof",
          "Cleaning",
          "Roof",
          "Plumbing",
          "Cleaning",
          "Plumbing",
          "Painting",
          "Painting",
          "HVAC",
          "HVAC",
          "Appliances",
          "Roof",
          "Appliances",
          "Cleaning",
          "Appliances",
          "HVAC",
          "Roof",
          "Appliances",
          "Appliances",
          "Painting",
          "HVAC",
          "Appliances",
          "Painting",
          "Electrical",
          "Roof",
          "Appliances",
          "Roof",
          "Painting",
          "HVAC",
          "Painting",
          "Roof",
          "HVAC",
          "Plumbing",
          "Cleaning",
          "Painting",
          "Roof",
          "Roof",
          "Plumbing",
          "HVAC",
          "Plumbing",
          "Plumbing",
          "Roof",
          "Cleaning",
          "Electrical",
          "Painting",
          "Plumbing",
          "Plumbing",
          "Appliances",
          "Appliances",
          "Electrical",
          "Roof",
          "HVAC",
          "Appliances",
          "Cleaning",
          "Plumbing",
          "Painting",
          "Painting",
          "Cleaning",
          "Painting",
          "Cleaning",
          "Appliances",
          "Painting",
          "Roof",
          "Roof",
          "Roof",
          "HVAC",
          "HVAC",
          "HVAC",
          "Cleaning",
          "Electrical",
          "HVAC",
          "Appliances",
          "Plumbing",
          "Painting",
          "HVAC",
          "Roof",
          "Electrical",
          "Cleaning",
          "Appliances",
          "Cleaning",
          "Painting",
          "Roof",
          "Plumbing",
          "Electrical",
          "Plumbing",
          "Electrical",
          "Plumbing",
          "Cleaning",
          "Painting",
          "Roof",
          "Electrical",
          "Roof",
          "Plumbing",
          "HVAC",
          "Cleaning",
          "Painting",
          "Painting",
          "Appliances",
          "Appliances",
          "Cleaning",
          "Roof",
          "Electrical",
          "Appliances",
          "Appliances",
          "Plumbing",
          "Plumbing",
          "Electrical",
          "Cleaning",
          "Electrical",
          "Roof",
          "Cleaning",
          "Electrical",
          "Electrical",
          "Cleaning",
          "Painting",
          "Painting",
          "Appliances",
          "Electrical",
          "Roof",
          "Electrical",
          "Appliances",
          "HVAC",
          "Roof",
          "Painting",
          "Painting",
          "HVAC",
          "Appliances",
          "HVAC",
          "Cleaning",
          "Roof",
          "Roof",
          "Electrical",
          "HVAC",
          "Painting",
          "Electrical",
          "Cleaning",
          "Appliances",
          "Appliances",
          "Electrical",
          "HVAC",
          "HVAC",
          "HVAC",
          "Plumbing",
          "Electrical",
          "Roof",
          "Cleaning",
          "Electrical",
          "Roof",
          "Plumbing",
          "Plumbing",
          "Painting",
          "Painting",
          "Cleaning",
          "Roof",
          "Painting",
          "Plumbing",
          "HVAC",
          "Appliances",
          "Plumbing",
          "Cleaning",
          "Appliances",
          "Appliances",
          "Plumbing",
          "Roof",
          "Cleaning",
          "Cleaning",
          "Electrical",
          "Appliances",
          "HVAC",
          "Painting",
          "HVAC",
          "Painting",
          "Cleaning",
          "Cleaning",
          "HVAC",
          "Appliances",
          "Roof",
          "HVAC",
          "Painting",
          "HVAC",
          "Roof",
          "Appliances",
          "Plumbing",
          "Painting",
          "Roof",
          "HVAC",
          "Cleaning",
          "Electrical",
          "Cleaning",
          "Roof",
          "Electrical",
          "Plumbing",
          "Roof",
          "Painting",
          "Painting",
          "HVAC",
          "Appliances",
          "Electrical",
          "Cleaning",
          "Plumbing",
          "HVAC",
          "Painting",
          "Roof",
          "Painting",
          "Painting",
          "Painting",
          "Painting",
          "Cleaning",
          "Plumbing",
          "Plumbing",
          "Appliances",
          "Plumbing",
          "Plumbing",
          "Plumbing",
          "HVAC",
          "Appliances",
          "Painting",
          "Appliances",
          "HVAC",
          "Electrical",
          "Roof",
          "Roof",
          "Painting",
          "Appliances",
          "Roof",
          "Plumbing",
          "Roof",
          "Cleaning",
          "HVAC",
          "Plumbing",
          "HVAC",
          "Roof",
          "Appliances",
          "Cleaning",
          "Plumbing",
          "Painting",
          "Electrical",
          "HVAC",
          "Plumbing",
          "Roof",
          "HVAC",
          "Cleaning",
          "Electrical",
          "Painting",
          "Cleaning",
          "Plumbing",
          "Appliances",
          "Electrical",
          "HVAC",
          "Electrical",
          "Cleaning",
          "Appliances",
          "Roof",
          "Cleaning",
          "Painting",
          "Appliances",
          "Electrical",
          "Appliances",
          "Plumbing",
          "Electrical",
          "Painting",
          "Plumbing",
          "Electrical",
          "Appliances",
          "Painting",
          "HVAC",
          "Painting",
          "Roof",
          "Cleaning",
          "Plumbing",
          "Roof",
          "Electrical",
          "HVAC",
          "Cleaning",
          "Roof",
          "Plumbing",
          "Cleaning",
          "Appliances",
          "Cleaning",
          "HVAC",
          "Plumbing",
          "Painting",
          "Electrical",
          "HVAC",
          "Electrical",
          "Appliances",
          "Electrical",
          "Cleaning",
          "Appliances",
          "Appliances",
          "Plumbing",
          "HVAC",
          "Roof",
          "Painting",
          "Cleaning",
          "Roof",
          "Electrical",
          "Painting",
          "Cleaning",
          "Painting",
          "Appliances",
          "HVAC",
          "Cleaning",
          "Electrical",
          "Roof",
          "Painting",
          "Appliances",
          "Painting",
          "Appliances",
          "Roof",
          "Appliances",
          "Cleaning",
          "Roof",
          "Cleaning",
          "Roof",
          "Cleaning",
          "Painting",
          "Appliances",
          "HVAC",
          "Painting",
          "Appliances",
          "Plumbing",
          "Cleaning",
          "Plumbing",
          "Roof",
          "Roof",
          "Painting",
          "Plumbing",
          "Plumbing",
          "Plumbing",
          "HVAC",
          "Cleaning",
          "Appliances",
          "Appliances",
          "Appliances",
          "Plumbing",
          "Plumbing",
          "Electrical",
          "Roof",
          "Appliances",
          "Painting",
          "HVAC",
          "Painting",
          "Painting",
          "Electrical",
          "Roof",
          "Plumbing",
          "HVAC",
          "Cleaning",
          "Painting",
          "HVAC",
          "Plumbing",
          "Roof",
          "Roof",
          "Painting",
          "Cleaning",
          "Roof",
          "HVAC",
          "Electrical",
          "Electrical",
          "HVAC",
          "Painting",
          "Roof",
          "HVAC",
          "Painting",
          "Plumbing",
          "HVAC",
          "Appliances",
          "Electrical",
          "Appliances",
          "Cleaning",
          "Plumbing",
          "HVAC",
          "Painting",
          "Painting",
          "Cleaning",
          "Roof",
          "Cleaning",
          "HVAC",
          "HVAC",
          "HVAC",
          "HVAC",
          "Appliances",
          "Appliances",
          "Electrical",
          "Electrical",
          "HVAC",
          "Appliances",
          "Appliances",
          "Painting",
          "Cleaning",
          "Roof",
          "Painting",
          "Painting",
          "Roof",
          "Painting",
          "Appliances",
          "Appliances",
          "Plumbing",
          "Roof",
          "Electrical",
          "Electrical",
          "Painting",
          "Plumbing",
          "Cleaning",
          "Appliances",
          "Electrical",
          "HVAC",
          "Appliances",
          "Painting",
          "HVAC",
          "Appliances",
          "Roof",
          "Plumbing",
          "Electrical",
          "Painting",
          "Roof",
          "Painting",
          "Electrical",
          "Electrical",
          "Electrical",
          "Appliances",
          "HVAC",
          "Painting",
          "Painting",
          "Appliances",
          "Electrical",
          "Plumbing",
          "Appliances",
          "Cleaning",
          "Painting",
          "Appliances",
          "Cleaning",
          "Cleaning",
          "Roof",
          "Cleaning",
          "Roof",
          "HVAC",
          "Appliances",
          "Plumbing",
          "Electrical",
          "Painting",
          "Painting",
          "Cleaning",
          "Appliances",
          "Painting",
          "Electrical",
          "Cleaning",
          "Appliances",
          "Cleaning",
          "HVAC",
          "Painting",
          "Cleaning",
          "Painting",
          "Cleaning",
          "Electrical",
          "Cleaning",
          "Roof",
          "Plumbing",
          "Painting",
          "HVAC",
          "Roof",
          "Electrical",
          "HVAC",
          "Appliances",
          "HVAC",
          "Electrical",
          "HVAC",
          "Painting",
          "HVAC",
          "Electrical",
          "Painting",
          "Painting",
          "Roof",
          "Cleaning",
          "Roof",
          "Appliances",
          "Electrical",
          "Painting",
          "Painting",
          "Electrical",
          "Appliances",
          "HVAC",
          "HVAC",
          "Electrical",
          "HVAC",
          "Painting",
          "Appliances",
          "Cleaning",
          "Appliances",
          "Roof",
          "Cleaning",
          "Cleaning",
          "Electrical",
          "Plumbing",
          "Plumbing",
          "HVAC",
          "Cleaning",
          "Appliances",
          "Appliances",
          "Plumbing",
          "HVAC",
          "Roof",
          "Appliances",
          "Roof",
          "Cleaning",
          "HVAC",
          "HVAC",
          "Appliances",
          "HVAC",
          "HVAC",
          "Plumbing",
          "Roof",
          "Cleaning",
          "Plumbing",
          "Electrical",
          "Appliances",
          "Plumbing",
          "HVAC",
          "Cleaning",
          "Electrical",
          "Painting",
          "Painting",
          "Appliances",
          "HVAC",
          "Cleaning",
          "Painting",
          "Roof",
          "HVAC",
          "Appliances",
          "Electrical",
          "Painting",
          "Painting",
          "Electrical",
          "Cleaning",
          "Cleaning",
          "Cleaning",
          "Painting",
          "Plumbing",
          "Appliances",
          "Cleaning",
          "Appliances",
          "HVAC",
          "Plumbing",
          "Plumbing",
          "Appliances",
          "Cleaning",
          "HVAC",
          "Cleaning",
          "HVAC",
          "Plumbing",
          "Appliances",
          "Cleaning",
          "Appliances",
          "Electrical",
          "Plumbing",
          "Roof",
          "Plumbing",
          "Cleaning",
          "Painting",
          "Appliances",
          "Electrical",
          "Painting",
          "Painting",
          "Cleaning",
          "HVAC",
          "Roof",
          "Painting",
          "Roof",
          "Electrical",
          "HVAC",
          "Appliances",
          "Electrical",
          "Cleaning",
          "HVAC",
          "HVAC",
          "Painting",
          "Appliances",
          "HVAC",
          "Appliances",
          "Electrical",
          "Plumbing",
          "Electrical",
          "Painting",
          "Electrical",
          "Plumbing",
          "HVAC",
          "Electrical",
          "Plumbing",
          "Painting",
          "Painting",
          "Plumbing",
          "HVAC",
          "Cleaning",
          "Painting",
          "Electrical",
          "Plumbing",
          "Painting",
          "Electrical",
          "Roof",
          "Cleaning",
          "Electrical",
          "Roof",
          "Cleaning",
          "Electrical",
          "Plumbing",
          "Plumbing",
          "Appliances",
          "Painting",
          "Appliances",
          "HVAC",
          "HVAC",
          "Cleaning",
          "Plumbing",
          "Appliances",
          "Plumbing",
          "Cleaning",
          "Plumbing",
          "Cleaning",
          "Roof",
          "Painting",
          "Electrical",
          "Appliances",
          "Electrical",
          "HVAC",
          "HVAC",
          "Appliances",
          "Painting",
          "Cleaning",
          "Cleaning",
          "Roof",
          "Appliances",
          "Painting",
          "HVAC",
          "Roof",
          "Electrical",
          "Appliances",
          "Appliances",
          "Electrical",
          "HVAC",
          "Appliances",
          "Electrical",
          "Cleaning",
          "Appliances",
          "Roof",
          "Roof",
          "Roof",
          "Cleaning",
          "Plumbing",
          "Roof",
          "Painting",
          "Appliances",
          "Cleaning",
          "Plumbing",
          "Plumbing",
          "HVAC",
          "Painting",
          "Appliances",
          "Cleaning",
          "Cleaning",
          "Roof",
          "Roof",
          "Electrical",
          "Electrical",
          "Appliances",
          "Painting",
          "Painting",
          "Roof",
          "Roof",
          "Electrical",
          "Roof",
          "Roof",
          "Roof",
          "Cleaning",
          "Plumbing",
          "Plumbing",
          "Roof",
          "Cleaning",
          "Electrical",
          "Plumbing",
          "Painting",
          "Electrical",
          "Cleaning",
          "Appliances",
          "Appliances",
          "Painting",
          "HVAC",
          "Painting",
          "Appliances",
          "Painting",
          "Roof",
          "HVAC",
          "HVAC",
          "HVAC",
          "Painting",
          "Roof",
          "Electrical",
          "Painting",
          "Electrical",
          "Roof",
          "Roof",
          "Painting",
          "Plumbing",
          "Roof",
          "Roof",
          "Appliances",
          "Roof",
          "Cleaning",
          "Cleaning",
          "Electrical",
          "Cleaning",
          "Roof",
          "Cleaning",
          "HVAC",
          "Appliances",
          "Electrical",
          "HVAC",
          "HVAC",
          "Roof",
          "Cleaning",
          "Roof",
          "HVAC",
          "Appliances",
          "Painting",
          "HVAC",
          "Roof",
          "Plumbing",
          "Appliances",
          "Electrical",
          "Roof",
          "Appliances",
          "Electrical",
          "Electrical",
          "HVAC",
          "Cleaning",
          "Painting",
          "Cleaning",
          "Plumbing",
          "HVAC",
          "Roof",
          "Painting",
          "HVAC",
          "Electrical",
          "Appliances",
          "Plumbing",
          "Painting",
          "Appliances",
          "HVAC",
          "Painting",
          "Painting",
          "Cleaning",
          "Appliances",
          "Painting",
          "Cleaning",
          "Electrical",
          "Roof",
          "Cleaning",
          "Appliances",
          "Cleaning",
          "Roof",
          "Painting",
          "HVAC",
          "Cleaning",
          "Cleaning",
          "Electrical",
          "HVAC",
          "Plumbing",
          "Electrical",
          "Roof",
          "HVAC",
          "Painting",
          "Electrical",
          "Plumbing",
          "Roof",
          "Painting",
          "Roof",
          "Painting",
          "Roof",
          "Roof",
          "Electrical",
          "Plumbing",
          "Roof",
          "Electrical",
          "Plumbing",
          "Electrical",
          "Cleaning",
          "Roof",
          "Cleaning",
          "Cleaning",
          "Appliances",
          "Appliances",
          "Cleaning",
          "Plumbing",
          "Cleaning",
          "Roof",
          "HVAC",
          "Appliances",
          "Electrical",
          "HVAC",
          "Electrical",
          "HVAC",
          "Cleaning",
          "Electrical",
          "Roof",
          "Plumbing",
          "Electrical",
          "Appliances",
          "HVAC",
          "Appliances",
          "Roof",
          "HVAC",
          "Appliances",
          "Appliances",
          "HVAC",
          "Cleaning",
          "Plumbing",
          "Cleaning",
          "Appliances",
          "Painting",
          "Painting",
          "HVAC",
          "Appliances",
          "Roof",
          "Roof",
          "Plumbing",
          "Painting",
          "Appliances",
          "Cleaning",
          "Cleaning",
          "Plumbing",
          "Cleaning",
          "Cleaning",
          "Appliances",
          "Roof",
          "Cleaning",
          "Appliances",
          "Cleaning",
          "Cleaning",
          "Plumbing",
          "Painting",
          "Roof",
          "Cleaning",
          "HVAC",
          "Roof",
          "Appliances",
          "Electrical",
          "Electrical",
          "Plumbing",
          "Painting",
          "Appliances",
          "Roof",
          "Electrical",
          "Electrical",
          "Plumbing",
          "Roof",
          "Roof",
          "Appliances",
          "Roof",
          "Cleaning",
          "HVAC",
          "Cleaning",
          "Appliances",
          "Appliances",
          "HVAC",
          "Plumbing",
          "Appliances",
          "Painting",
          "Painting",
          "Painting",
          "Painting",
          "HVAC",
          "HVAC",
          "Electrical",
          "Cleaning",
          "Roof",
          "Appliances",
          "HVAC",
          "Painting",
          "Plumbing",
          "Appliances",
          "Cleaning",
          "Electrical",
          "Painting",
          "Plumbing",
          "Cleaning",
          "Cleaning",
          "Painting",
          "Roof",
          "Plumbing",
          "Appliances",
          "HVAC",
          "Appliances",
          "Appliances",
          "Roof",
          "Roof",
          "Electrical",
          "Electrical",
          "Roof",
          "Plumbing",
          "Electrical",
          "Plumbing",
          "Plumbing",
          "Painting",
          "Painting",
          "Electrical",
          "Painting",
          "Plumbing",
          "Roof",
          "Roof",
          "Roof",
          "Cleaning",
          "Appliances",
          "Appliances",
          "Plumbing",
          "Electrical",
          "HVAC",
          "Painting",
          "HVAC",
          "Cleaning",
          "Plumbing",
          "Electrical",
          "Appliances",
          "Cleaning",
          "Electrical",
          "Painting",
          "HVAC",
          "Electrical",
          "HVAC",
          "Roof",
          "Electrical",
          "Plumbing",
          "Plumbing",
          "Appliances",
          "HVAC",
          "Appliances",
          "Painting",
          "Plumbing",
          "Cleaning",
          "Plumbing",
          "Painting",
          "Plumbing",
          "Appliances",
          "Cleaning",
          "Appliances",
          "Appliances",
          "HVAC",
          "Plumbing",
          "HVAC",
          "Plumbing",
          "Roof",
          "Appliances",
          "Roof",
          "Roof",
          "Painting",
          "Plumbing",
          "Roof",
          "HVAC",
          "Plumbing",
          "Appliances",
          "HVAC",
          "HVAC",
          "Cleaning",
          "Electrical",
          "Electrical",
          "Cleaning",
          "Cleaning",
          "Plumbing",
          "Plumbing",
          "Plumbing",
          "Cleaning",
          "Cleaning",
          "Appliances",
          "Roof",
          "HVAC",
          "HVAC",
          "Cleaning",
          "Plumbing",
          "Appliances",
          "Appliances",
          "Roof",
          "Appliances",
          "Plumbing",
          "HVAC",
          "Roof",
          "Electrical",
          "HVAC",
          "Roof",
          "Electrical",
          "Appliances",
          "HVAC",
          "Appliances",
          "Appliances",
          "Electrical",
          "Plumbing",
          "Plumbing",
          "Roof",
          "HVAC",
          "Electrical",
          "Cleaning",
          "Painting",
          "HVAC",
          "Roof",
          "Cleaning",
          "Appliances",
          "Painting",
          "Electrical",
          "Roof",
          "Plumbing",
          "Plumbing",
          "HVAC",
          "HVAC",
          "Painting",
          "Roof",
          "Appliances",
          "Cleaning",
          "HVAC",
          "Cleaning",
          "Electrical",
          "Appliances",
          "Electrical",
          "Cleaning",
          "HVAC",
          "Cleaning"
         ],
         "xaxis": "x",
         "y": {
          "bdata": "6gb7BM8HcwDaCMABcAiPCVMH2QIVCGQHygh1ALUYhQOkDmQDgQbRBnUAhhphAr8ARQP4AqEELwJBAuAIWQaIBmkFuQQmF0IPCQKlA9YNwgTTGCwD5BmBCBQBHwaJDgUPPxDHFekBiRWBErABzQAdBk0HJwlbBIMIdRRuGRIStAUoBR8GwgFRAHYCGgWiAVMJnAjNAGkETwB6AuEN3wgTAfsAHweqCNwCXAjtBJAIqBgYETgG1gTbCVEFhA5ICYMR+BA4AjYJZAIJAf0HOQiHAmsIVAj/CHsFxQTWBkQJowRbBYICbQl2AXgCnALIAHoBCgdnAXMEcgUOBlYGKwPPASgCKBccFGgT1QzdCHQJ1AHREkYZSRDCCGgIkRJIB8QHmgMoCVEIswdWDZkAQBKMBBUDNwQoBVEJrRjzALkFNAC4AOEFxAPMBUgCagVIANwA+AbdCAII+gSmAqMDrAqCFzoMdgUoBRoCyALaB0UEFwRtBlAbkhP1B2IH0gHBAEMBkwNjB8sH2whCErcXkwaZBcES/AMSGOEGsgYEB90aRwWPBWsBmAW+AGwBpgEZCBEG6AuzAW8SQho6CGoI6wd1CToFFgc+GrUOmAckCBUEFBLHD98CSA6iF8sUwwZQGS8PRAvvFC4XBQOoCZYQNg4bBzYJSwA2BQ8IUwSJCScBIQOMBysANQLSBU8A/QqfAdkD0wBUAisByAi8BoIFJQYsBUoIjQOSB2QEDAc7BksHRwCtCVACQwirB+EAKg/hBLcHIRP0B1gZ9AYSCxMOWwj6CKwDIQDsBQQF8AlwE94ZowWdFVcWGQjoALsE5gWECQcEvwc8AEQEiwK5BGYYjBWiAsAAlQbzBhICqAE7FXAKyAk6B/IAIwGKAYQIyQJZCM4GWQBsAZAIlgDfA9UJmQjMEv0O+QAXF3YUIQwiA90JVgUDF6QQHQA6BjEAYgnzAboAvwZFD3wYRxOFEVUQpwQWALQDogJsBZcE4gGAAr4DeAllBGAHdQvLByATUgAiFQoVpQUABO4LQwUJECcOYxp9EZkAVgYOBI8DZwP1BWQBxAevAYoCFQOSAJYEtQDlA64AnwTUA7gJRwmzDaICgQdjDkwBZAOOCcQJSAAfAnMCRgMkAp8AbQmxCAgGpQd0CFsaLQPaBgQIDwR6AzwGQQMjBuQHnAWbBYUCtQBZBt4EAQakCW0JUQBaCfkD0wD6BrgIjQCtAqcFfgLUBq0F4gNpBOsF5gjnB2UB4QFICKAFNgLjA/kEYwk0A/sCCAUnBNEAwgH/AUEJuwjGCMoCsgS6BpAFeQW+CUkHUgMcGfEE1QOrBiMEiAZtBXsDKwgjADQETgjEB8IBPgc4BocWHRSwBlcAGAGCCM8FdQiaB2UGChhqGPgQZxoTCFIMbBE3Bw0FIwHVCJQCtwcZB7YHJQFQBqYEIwQ/BJQEAgj1BnoAAwUzBzAD6AjlCdcUuQ1BEdEDIAaOBo4HBQOMAowEwgmUA2QJfQZLBdgEEw3fCdoHBgnlGV4GmgdPAmQCHQYKBuwHCgU7CTIJxAFQBNAF0QDFCOAAcgnVGmAMmxbaB1oIlQcQBksCpwjZBxoGFQQXAXYQEQbSApsMRxWYAS8EfwG4AwwDiQJvAqoC4RrWCz4Y/BkBGT0DeQR5CJYFawecBTcC4gF5AjMJVQL4AzcJlAzEDfQOaRPdED0GnAnvAYAPBhoxA1wFPRGqCVoVAwjBFe8D/BAlGv4BrQlbB5UIIQELAUIFTAC9BSADswCIAx0JAAFdBDYC+QT3BBkXrBd8FYkCigORBHUBEAMkBeoE0AgQAb8VkgjkCewHMwRjFIAY7AlyFJsUfQQ2Bj4MRhbpD8sNgwjfABgJ2QaOASYHAwWODkoCfAVfBsQJBgE6A90HwweqAJQCXwMQCdUBIwXOB7MEtgdpAPcG4gQsAQcJ7gapAkMHyACzAucERwCRAZoEtgleBT0DBAPhB0EBKQLMBUEDpgE/BTsa0BVVBtMa/gFnA1MB6gS8AwQIegDmAKQIyQI7Bm0J0wfEB+YADga/Be4EOAnPAP8AZQnnB9QEnAgNAkEHZhOTFqUFsRZeA9kF/AP8AKkHNgPyA8wArwN1A7IGcQG3BGsIqwmLBs0HawJ8ARwJdQaLDuQLpg/nEX0HchK+BCkGNwR4BmUI+AT/AzMAWQN7B68BRwgACLMDyQIEBkYAHRF2B64HLQH+B0EGDAinCcwEwQi1BkwEcQcGCYAJOgIpAJUF+AYaBLwSixF9FXYHtAM0BegB9wf2BO4AYQTOB7IErQH1C5QQKRfiAyUJeAZcArsHkggMB6MGrwmFE20HtgZYAi8G3wifGkgVLBCFCPsTtgcuCDgPhgPsAHMC8wg5BhoLExiAEVcSfBCfCWIBagNNBGQEpwDiBXIFagR2F/IRzwfICP4GMgdgDPQKWg3nFaMWMhJlEFUIrwbdBYsJigJJCSIFSAl6BsoIsQifAXcEiwTmAj0BUxFxGlgF5xjqEn0XBQSdCQ0DNQitBnMGxgYqCK4A0wKiCAcGEghsCIQVjBFvD0YPWACKGRQUhwgPDhABRwk3Bl8B1gPZADkIVwGkBuYHAAZjBcMAPAX/AewA5wSNCDUBEQbQBL4JpgdrCDoHZgchCRkGdAKoBqECOQDeB8kFJwYADnMHugj0BO4EpQh0B/8EmgT4CLEK8wQQB2EPEQYLBCMEgghTBHsDowgnBd4BewfdBYgC4BVNBE0HCQTdAswFNAFRAxwHKQfSBR0BNRXlFjMBHAEhDFcRCQPCAtIH0gZaAjwGWQhHBEcBzAI/CcMIkQeuAwIEnAmaAI0KNwRWFIQMTBIoC2EC2ApZB84DcgPeB1gGZAXYCH0ICwEBARYRQgMMEHoXPggJB+MWrxemEIIDagnoBfEAiAkLAdIBJwNtBxUJcAPlAusDOwIsCJMItwEBAtQDjgTqAgcT4QkHGjEVsQqSD+EH8AhFCeQC/wAMAVcHWQLOA+EDYgWNBsUBfAlsAyMAXwNOAiUHuxZ0EhMOgRk0GesFawQpBesF9wKlDlwQpBI5Bz0AZAI5ACQGewUqAM8CiAdDA1kCCwnIBHgI3wcwAV8BngX7BIYHPgTBB3sDLAYXANkESQdPA14IsAjjB38JHwULGdkIRBkaFXQWLwVsBlUHdQhcABQEDBBvCR8GhgE6ELoMCQGsBwkBAASxAggI7QfaAL0AkwFZAycI8wJZCJoBuwD5EHkUoAA5GlAHLQhcAOMXDwkqFPkIWhD6Ak0IIgiTEzoWAQNZAogIzASZAIgFPAKxA1wGrxUTGNEFgApdDG4COwACBKAFcghIAtoBrQDfCBcF/ACpCUsIhQdSAFcIMgS/CMADhQAkDI0VYREICZUJDgcbCRgEQAOIAr8IFwkwApsHPAa/BhgFiwYuBXgCiAliB20E8gILCJcJeAm+AuoBIAsSDDUVYxHcBEwIRAcCCbQE6wd+B2YFpAfBCNUH/AVEGHgFwAVXBXQElwkPAYcGhwMdBZMIAgNgFlYJrQRdCWUGSQn0B/sEIAm4A4wBIQDoBlwHpwKoB3YAqQVgBY4FQgE2AUoACwTUAh0B+wYWBN8B3QVVBFkJewHZBv0ImwSgA7kH9gDSBbsIYwLFBEwDIQlsDnkRQga0B1QAbAX3Ak8F8QcaCMgDCQFjCT4CUAttGicVtg8oG1YLfwrUEBgGNwbWAPIEjAibA/ICFAnwAdgI9QZ1B0oHrALqA08HfwBTBPoIGBJeA1MDtw1tFboTnBLJARAIjwQcCPoH4xgaDewASAlUCcMDhAWkBxoJ9wp+GuMYsgwNChwM4g99FDUAawGaBbwAEwkaBjoJdhmaB8cDNgJnBKEBbxTWBisHagO0A6QGeQiEBWsCgQLtB/IEoxbfBC0KsRaaAp4HKwd0DU0Jbg6FF+AAXgn3Bf0WyQLHE4UHcxa5ChML6AbTB/cASgTVD6gQoBUcARkHlgG8BIoGBAP4Bj8DWQCXAqsG6wUzArwGfQO6A4oB2QLOCNQCTwiEAR4E8wfRBBkApBowBwwE5AFaAlIGqhAgGVkPRggwBWsHSwjRAY4F9AYqAbgCOgRlCYUFSgQ8B4gGXwnGDqQQwRg0ApoWUwXzAAgJ4gYOCbIIDwk6CI0CewW6AQ4HPAVtAykABQk/BwgCEQZVCKsACAh7AOYIugQZASQD4wjqBUQIOgK7B4cDaQPVA+kGUgcTB98BbwklA8oFtQFfBBsDYggYBjoBHgVYCHYDmARACa8Eaxn0B4YCWQClA6YGzQWKBPICNwUXA1MJLgFvAYoA5wOUAdkCnAdLBLQCcwKrBw0FbgCuAQYCgQgxAIMAHwY8AjsAYwA5AEYBkgHWAE4AngOUA8YHPwg/AwMGsgAyCVoGzAOKCT4HQABKAikG9ABUAFwCtxjtAnMQUQ6HF/oGRBheBPUHLgfxC34GuwWnEgsUXgHIAiUEuQKaBlQCmQT2AfkDYwfNBnkJvgVUBAADfAKQAgcEEQk1BWAIhAc6B0ADfwUcCU0ZOgX0BDsCghTUAHEIfAD8B4QC0AdHAw0IrgkcAnIGHAP5B8MAJwVICXIHxQDdAl0EDwWJAAQHNQfWBtwAPhIHCDUCDRRyAMgHswavAgMLzgX8B1waDg4gAgEXshh4D9gGcQEcBXAEmQdPBggD7QKuAjMExghUCB4ARwlkA68J3AiEAo4EawQZAy0DyQHqADcAewmDA3oIKQbrCJoCtAXdCJoB0gV8ARkJhAZ5ArAAlQaPAvEBmQl6CKgJPQKGAkMEawIxAGkI+QhkBxMJlALXA94HygdQA20D8wMtFsARTxZVB5sWuQOUADQHowWPB5sAIwBDABwYMg1lADwHaAAsAbsEawWyB08E9gm+B04RKhoPEcoEAgT5A2AX1QCTBOMBfQQHBVcBwwWzBz8CJARfBK8ABQMFCDMGzQd1BbIBvwIJA/ABkwIfAHsDEgWlBGcDOQPcBWEF0QIjBpwLjQGcCMEKdxrBAH8JPAmhB3MIjxrtA+oEKwKwCL4JSgItBh4IOwfMBoMGtgllAPwIaAe6AYoHxADpD1QUughpCZoGLgYZAuwE7QEiAy4EoQRiBhUCSAYXCQMXUQ41EdUKTAGtBKAGNwYDEXQJAQGDCq4BtQnuBqgF3AefADkXIQ3kE8sFTAVRBaMGDQa7BbwH+wLgECQPXg1yBzUCyQEOAuYEsgOEBrUA4QdNCbgE6ATfEVkAWQBjAVwCGwQ7BJcHVRmzC0MQUgG9A9cF/hHfAA8GlAF/BkUFTABCCbIDmwcxAh8D0wjkBhcBSQfqAM4BzAQsBgAGoABdBEgI0gZaA08IOQLLBNABBwSnAsAGtwbEBWcIjwEeAIsDBgbjAcABJAbvBD4CXgG4A+cCpAN2BNUXfhHDCFQGCg56AZwBxQj8GbIQiAVcAzwFcwFWCEwDmQf1A94FoQBCDt8OFAXNA5MDRQm5Bs8FowLOBLoIOAeBAS8HeQUOBWIHFwLPBQkC9gjsD8wP1waxCsQO9ANZCDkCggZfBDoH6Qa2B5kF/AAhBA8D2gOQBH0BsQI4BjYJmgEkBmoDnQOJAFoEfQUEB9kIxAIxAtwBeALoBU4DygXRBmAAgQXUApYBqATCC1EBkwJLAZ8H+wOCBC4BSAHJCGAODwa6BqIHigaYCAYIjwgEAWAFtgaVArgJOALNAu8HrAiVCaQDjAg+APECvw0vG3UPMQVrBCcAvQHtBVACoQl+AD4JzhQ+GTUJ1gOgA3QH3QekAzIIhgLbCH0IZAgZBicKUQ6YFwQNmAR5Bf4EYQnWBAYHIge+CKIGVAKiB9gDyQUQAhsH3RFlAdUP3RhxAMABGwlcBxsGZwLJBqIGDAPhAn8GWgYHBn0X0RqRCYUCzQayE/EFnAI2EVcWggdbAtYFywWbAp0ATgZvF5YYSBKcEgYGhAOHBQIBLAWeCVsKXRJXFAoZihF2BLQCwgAmBOUGNgDEAAIBNghTAFAHrQkBASYAZwTwAs0DPQleBmgEngaOCUoJwQlEBTYCEwEaAcAIiAJgAP4HuQPoApcE4wQyDbYQYwqgBeER3xozEWEL2AA7CWIFVwR3BpkEIgRKAkAN8xV1DYcCxgInDRoObRlcCl4IoAQqBNgIkQVwBcEIngXIAUMI9QabAccDMgHCB2AACwgjBvoHjwNTAbcFnAKCBAQWogwnCvUIBARCBrMC0wJHBeEIHwX6A0QHDAmDAFoHbQCwCSsGNgaRA+kEKAi7BowHXQhDAswDTQigBwcJhgYnAbsGlAlBBW4EHAi1AwgIgwDfAF8GlgMQBBoELwGsCJQAVAKSAQQCzwQjASkIQwl/B6EHDgRZBoYDUACSBXsQdAPkET8A0QOFBDUE6AdsD30M1hf6GIEPuAaIBZkDGgE9CIsA0wicEpQDTA24EVcJEwZcBrEHnBPpEZcYVgZ1Gp4ZOQYkCL0FgBdRAs0PKRDXBiwHKwDAAvEE1ADhFh8YbBJACXoIUggACIQIUgmdCEQExAO+A1gTvwioEj4EfgZjATsCSAMcBoQHogS/Bx0BAQKBBQECYgipCCcHQgSGBg8DLAGXBGUC1AKLCzoF2guLCMUA2AKqARAGCQNRBFUHxgVEBR4C1wT/COEBQAMUBX0GxgcHA2sCbRMbFFMItxd7CC4DCgNLFggB9BnHGssV2RUwAPUDzAUEAkoPtBfCBaYGLQeLCagEgQQnFbYZJgO0A0UCmhJgE9gGNRtyAPQWqxj2AEQTXxW4ELMZ0wuIAQoFlwAGBL4BBAcLCJAEOQgoA7sJRQa3CPQG9AHvBD4BrAU4ANcFQQQbArEGVwBfBDMB2wEgA2QB/AdICA0BnggqBpcASQMPBKEEDQVaBFoDFwA9CfsCHAkWDd8D+g/sBtkIJgVvAagCaQlTB30ISAJ3B+0CKA+kFBcFLAsgAtkHWgb+Bk8WLhnJBgoSbBgOCAEH8ghZAUACdAQWB68G8gUfApYAMgiPBYwJewTuB7YH1ALvB8kAcQhzCdICVweeB2UCQwMjF6oC+hLlD+UE3hXvCkUGfgwOAQQaZRC1BhYDRgW1CZoGQQMHELwWXwXhA/AD3QKVBnYBggc8AM4AEQihCRoJ8QhuBwsBAgLXBOQIwwJBBc4FEwF2CCAD6wb+AMEDHRXJGZ4RPw2RGQQBARQtB/IDuwJEAV8FCwHPAgAJhwUOBy8GFgnRB/8HCwmRApEJ/wilAfgD/QQ9AT8EnghgBnUBYgJ4BvAAygBMAiYIGwG1BvcO/QsWAx4J/ACQBtEKeBm2DLQXHgSrAKgFkgemBDsOfQN1GmkYUQLiAZUI5AcaAnYJeAPqAeAD0gRJF5AEpwZOB+QCLQP9B+8DsAlcBdMEgASDAlAB4wewEi0UWQprGmIHTwjaBBIW9wdhCS4BEwncB5cAIAn8AEsGMglJBYIGoAYNBjoEQgQVCOkH4AH0CAcH3QT+AI4C8gHACGcCQwVbAaYR3QSsF0QH+QbtCLIF4wR6BbAA8gBwCLgI3wa0BekAhQapBS4OVArTDIMClQiHDC0UcAUPAQsE3gTzA2UJ0QYTCWcHhwKkCVYS5hpDGF0XIQ6YCoATdBN6EakCwAGhBzIFqgLQD28RZg9nGWEXEARKAe4FnwUUCDEFPwCFB/sHCgNrB4ESdgfPAkcO6xi7EQob8gSHAZgEsgI9FcYF3gEYAK8DSwWbA+AFxAYyCJ4Cqwn0A6sHMwc6BsQJCgFbCQEGFQaFCGkCEAk/BT4YCQU3E28CbQS6BB4GiQdEBU4FxQJ8AVwF+Qj8CAoFZgPMAZwDcQIQCGEDiAWhBVYB7QICAesC5QXdBAcI8hllGYEOVw/IEfgRYQ74BRkCtABZBUgEPwJjBegYuxPtGa8OEg4OCBYBqwGVCEkJRAJGAqoH+wM+BKUGMQAcAicHaQCWBOwZYg4mBVMWCBsCDFIOqAGQB8cCZhgKFEEXlgTXBDoJZQG9Ca4CxQdvB9wFDAF7Bd0GhRUFE78FXBR/FT0E5QZCBRQCkAXMAHkFxAKhBLwDcwdkBn4GPgEMBQMFngEGBPUEJxkJBPUKtBWyCUUBiAPxADYNAAwMEswHDgIvAUcC3QCLGpMWShB3AJMLMBB8EwkBTQk5AR4ITw/tCNEGmRAGA6MGKQg8ABMDfwfHBugA6AQhCNIAnAQFAwUD1gMqBbwIMQ9CDbwHAwlQEtQNwAYQDkABAgmPBCgJYhl9ATwCxwGBBbIBfgRBARgCgAIhAPYIPxIVFqkX+wC7BqsAwghBBboBxgVHGEgEgQvIF6sFgQd1ACUJCgJBCBwCHwiEBR8HBghCCGsAQAgaBT0HwwJYBusBMwtxGWUBTAGcAqEFNgFnB0oI9hCbGlcDpwFRChsIDBXiGBEU+QzVAbEFvQlaA2AYgAr7CtQJ5xmMCM4CmgS4A8wHqxKGB0sJrAmeBh8bsBCECFIIDglMAzcB6wH7CbQQjwH5AyQCYADuAfoHrRImDe8WzQEpBZIG4wC6BNEE/QhhASoLFRqeCYoBdQ3bE6cHxQdxAegLvhH7GFUTQAcRBgsGIgZXCR8EIAaeB0UHSQNGAAkHzQYRA6gGJgYOBRsGigH5BVsA+gNHFUsCrxk3GdoHiBKwBz4AEgWTBR8FCwYpBZoGqAi/BOEG+ggfBjcE6QbwA6QABAbVAAoRUA3IB9UQIRoQChIFlgB+CecLSxMUESwFpQRsBdQGKBG5AvwUFQEoAXsG9wCmBaIFdAF0ASQGywcjB80AJQiUCwIQjxXUBU8DvgPkB2YCLgEfAOUIOgbPA1QJ+BIZG84BIgqrA7QPXwE5A3gJTQFkE5Ua6gRdEYoVegF6E8oDyBr9BBkBtQbEBcUH6Qg7CSwBogRbBMAJZgKnBYMC+gfuFmUMSQXkCD4FRBdQDesJhgUnCiYRAxCjCOsOVguYBhQKBg/kCsMPlwnZAiAJ5whrA6AFdBDNBuwFXwbmAawFEQUzA3YAQAU5AVoIPxXLFT8IGgqmEzgEpwcpBmQIYgBzBAUH5gRVBrcFpAdACXgDWAh1GNINLBGDBbYBvwidAOQIIwlIB9cHmgCSA5EJ9gADBmUJ4Ad/CGIB0QjCCIgDXhE8AboC6wS2DrAaTQeiBrQJcwChBkAIrAKYGdMZlAdaFrAJjwL2FgAM0QqjCDEIwQP/AHECDAKXBlgG8QjvAi8J+QYgFUYbEhscD7MUPggSBMQBxQW1CW8V5AddBe0I5wU7BhECywZbFvsS5RXUGYAFgBCUCKQMcAOvAE0AeAD3BH0GzQfoCF8ISRI2DeoG6ACSBvYIXBcSG7oHpAjHBgsTmAQcB7kXtwW8FNwEkA5dCIsFzwbUAzcFewNVA9EI9gUbCIAJKgC+AlgHdgc4AtoGiAcfBoIImQZiAPoaTQxSFSAJCRZhFtkPgxnDDt8Y8gBdGcAFjwl5AD4UPhlzAvEKAwPpF7kKzBDlA8cBdgNpBxsCNQLIAlQFVxXdGvQQagmoAlsE6w6eDcwBxQIDCEMWZBotERAEXhMADHcUjAW/AwoaagU9DUgBIgNICTECUALmETAE6QR7C8sHMQKOAikHUQu1AyADTQllBUAD5gC8AKUTqgIcBhcHhQJtAE8FMgMGELUSrAv/FugCGgNJBL0J6AfkEPkLIwa9BWUG3wECAtMGqwkZACgJ/QAfBqQJNAS/B3UG5AE2AQgBGgV8AVMG2weaAOcBBg0DFRADYQC+AqIFQwMgAKAB",
          "dtype": "i2"
         },
         "yaxis": "y"
        }
       ],
       "layout": {
        "barmode": "relative",
        "legend": {
         "tracegroupgap": 0
        },
        "template": {
         "data": {
          "bar": [
           {
            "error_x": {
             "color": "#2a3f5f"
            },
            "error_y": {
             "color": "#2a3f5f"
            },
            "marker": {
             "line": {
              "color": "#E5ECF6",
              "width": 0.5
             },
             "pattern": {
              "fillmode": "overlay",
              "size": 10,
              "solidity": 0.2
             }
            },
            "type": "bar"
           }
          ],
          "barpolar": [
           {
            "marker": {
             "line": {
              "color": "#E5ECF6",
              "width": 0.5
             },
             "pattern": {
              "fillmode": "overlay",
              "size": 10,
              "solidity": 0.2
             }
            },
            "type": "barpolar"
           }
          ],
          "carpet": [
           {
            "aaxis": {
             "endlinecolor": "#2a3f5f",
             "gridcolor": "white",
             "linecolor": "white",
             "minorgridcolor": "white",
             "startlinecolor": "#2a3f5f"
            },
            "baxis": {
             "endlinecolor": "#2a3f5f",
             "gridcolor": "white",
             "linecolor": "white",
             "minorgridcolor": "white",
             "startlinecolor": "#2a3f5f"
            },
            "type": "carpet"
           }
          ],
          "choropleth": [
           {
            "colorbar": {
             "outlinewidth": 0,
             "ticks": ""
            },
            "type": "choropleth"
           }
          ],
          "contour": [
           {
            "colorbar": {
             "outlinewidth": 0,
             "ticks": ""
            },
            "colorscale": [
             [
              0,
              "#0d0887"
             ],
             [
              0.1111111111111111,
              "#46039f"
             ],
             [
              0.2222222222222222,
              "#7201a8"
             ],
             [
              0.3333333333333333,
              "#9c179e"
             ],
             [
              0.4444444444444444,
              "#bd3786"
             ],
             [
              0.5555555555555556,
              "#d8576b"
             ],
             [
              0.6666666666666666,
              "#ed7953"
             ],
             [
              0.7777777777777778,
              "#fb9f3a"
             ],
             [
              0.8888888888888888,
              "#fdca26"
             ],
             [
              1,
              "#f0f921"
             ]
            ],
            "type": "contour"
           }
          ],
          "contourcarpet": [
           {
            "colorbar": {
             "outlinewidth": 0,
             "ticks": ""
            },
            "type": "contourcarpet"
           }
          ],
          "heatmap": [
           {
            "colorbar": {
             "outlinewidth": 0,
             "ticks": ""
            },
            "colorscale": [
             [
              0,
              "#0d0887"
             ],
             [
              0.1111111111111111,
              "#46039f"
             ],
             [
              0.2222222222222222,
              "#7201a8"
             ],
             [
              0.3333333333333333,
              "#9c179e"
             ],
             [
              0.4444444444444444,
              "#bd3786"
             ],
             [
              0.5555555555555556,
              "#d8576b"
             ],
             [
              0.6666666666666666,
              "#ed7953"
             ],
             [
              0.7777777777777778,
              "#fb9f3a"
             ],
             [
              0.8888888888888888,
              "#fdca26"
             ],
             [
              1,
              "#f0f921"
             ]
            ],
            "type": "heatmap"
           }
          ],
          "histogram": [
           {
            "marker": {
             "pattern": {
              "fillmode": "overlay",
              "size": 10,
              "solidity": 0.2
             }
            },
            "type": "histogram"
           }
          ],
          "histogram2d": [
           {
            "colorbar": {
             "outlinewidth": 0,
             "ticks": ""
            },
            "colorscale": [
             [
              0,
              "#0d0887"
             ],
             [
              0.1111111111111111,
              "#46039f"
             ],
             [
              0.2222222222222222,
              "#7201a8"
             ],
             [
              0.3333333333333333,
              "#9c179e"
             ],
             [
              0.4444444444444444,
              "#bd3786"
             ],
             [
              0.5555555555555556,
              "#d8576b"
             ],
             [
              0.6666666666666666,
              "#ed7953"
             ],
             [
              0.7777777777777778,
              "#fb9f3a"
             ],
             [
              0.8888888888888888,
              "#fdca26"
             ],
             [
              1,
              "#f0f921"
             ]
            ],
            "type": "histogram2d"
           }
          ],
          "histogram2dcontour": [
           {
            "colorbar": {
             "outlinewidth": 0,
             "ticks": ""
            },
            "colorscale": [
             [
              0,
              "#0d0887"
             ],
             [
              0.1111111111111111,
              "#46039f"
             ],
             [
              0.2222222222222222,
              "#7201a8"
             ],
             [
              0.3333333333333333,
              "#9c179e"
             ],
             [
              0.4444444444444444,
              "#bd3786"
             ],
             [
              0.5555555555555556,
              "#d8576b"
             ],
             [
              0.6666666666666666,
              "#ed7953"
             ],
             [
              0.7777777777777778,
              "#fb9f3a"
             ],
             [
              0.8888888888888888,
              "#fdca26"
             ],
             [
              1,
              "#f0f921"
             ]
            ],
            "type": "histogram2dcontour"
           }
          ],
          "mesh3d": [
           {
            "colorbar": {
             "outlinewidth": 0,
             "ticks": ""
            },
            "type": "mesh3d"
           }
          ],
          "parcoords": [
           {
            "line": {
             "colorbar": {
              "outlinewidth": 0,
              "ticks": ""
             }
            },
            "type": "parcoords"
           }
          ],
          "pie": [
           {
            "automargin": true,
            "type": "pie"
           }
          ],
          "scatter": [
           {
            "fillpattern": {
             "fillmode": "overlay",
             "size": 10,
             "solidity": 0.2
            },
            "type": "scatter"
           }
          ],
          "scatter3d": [
           {
            "line": {
             "colorbar": {
              "outlinewidth": 0,
              "ticks": ""
             }
            },
            "marker": {
             "colorbar": {
              "outlinewidth": 0,
              "ticks": ""
             }
            },
            "type": "scatter3d"
           }
          ],
          "scattercarpet": [
           {
            "marker": {
             "colorbar": {
              "outlinewidth": 0,
              "ticks": ""
             }
            },
            "type": "scattercarpet"
           }
          ],
          "scattergeo": [
           {
            "marker": {
             "colorbar": {
              "outlinewidth": 0,
              "ticks": ""
             }
            },
            "type": "scattergeo"
           }
          ],
          "scattergl": [
           {
            "marker": {
             "colorbar": {
              "outlinewidth": 0,
              "ticks": ""
             }
            },
            "type": "scattergl"
           }
          ],
          "scattermap": [
           {
            "marker": {
             "colorbar": {
              "outlinewidth": 0,
              "ticks": ""
             }
            },
            "type": "scattermap"
           }
          ],
          "scattermapbox": [
           {
            "marker": {
             "colorbar": {
              "outlinewidth": 0,
              "ticks": ""
             }
            },
            "type": "scattermapbox"
           }
          ],
          "scatterpolar": [
           {
            "marker": {
             "colorbar": {
              "outlinewidth": 0,
              "ticks": ""
             }
            },
            "type": "scatterpolar"
           }
          ],
          "scatterpolargl": [
           {
            "marker": {
             "colorbar": {
              "outlinewidth": 0,
              "ticks": ""
             }
            },
            "type": "scatterpolargl"
           }
          ],
          "scatterternary": [
           {
            "marker": {
             "colorbar": {
              "outlinewidth": 0,
              "ticks": ""
             }
            },
            "type": "scatterternary"
           }
          ],
          "surface": [
           {
            "colorbar": {
             "outlinewidth": 0,
             "ticks": ""
            },
            "colorscale": [
             [
              0,
              "#0d0887"
             ],
             [
              0.1111111111111111,
              "#46039f"
             ],
             [
              0.2222222222222222,
              "#7201a8"
             ],
             [
              0.3333333333333333,
              "#9c179e"
             ],
             [
              0.4444444444444444,
              "#bd3786"
             ],
             [
              0.5555555555555556,
              "#d8576b"
             ],
             [
              0.6666666666666666,
              "#ed7953"
             ],
             [
              0.7777777777777778,
              "#fb9f3a"
             ],
             [
              0.8888888888888888,
              "#fdca26"
             ],
             [
              1,
              "#f0f921"
             ]
            ],
            "type": "surface"
           }
          ],
          "table": [
           {
            "cells": {
             "fill": {
              "color": "#EBF0F8"
             },
             "line": {
              "color": "white"
             }
            },
            "header": {
             "fill": {
              "color": "#C8D4E3"
             },
             "line": {
              "color": "white"
             }
            },
            "type": "table"
           }
          ]
         },
         "layout": {
          "annotationdefaults": {
           "arrowcolor": "#2a3f5f",
           "arrowhead": 0,
           "arrowwidth": 1
          },
          "autotypenumbers": "strict",
          "coloraxis": {
           "colorbar": {
            "outlinewidth": 0,
            "ticks": ""
           }
          },
          "colorscale": {
           "diverging": [
            [
             0,
             "#8e0152"
            ],
            [
             0.1,
             "#c51b7d"
            ],
            [
             0.2,
             "#de77ae"
            ],
            [
             0.3,
             "#f1b6da"
            ],
            [
             0.4,
             "#fde0ef"
            ],
            [
             0.5,
             "#f7f7f7"
            ],
            [
             0.6,
             "#e6f5d0"
            ],
            [
             0.7,
             "#b8e186"
            ],
            [
             0.8,
             "#7fbc41"
            ],
            [
             0.9,
             "#4d9221"
            ],
            [
             1,
             "#276419"
            ]
           ],
           "sequential": [
            [
             0,
             "#0d0887"
            ],
            [
             0.1111111111111111,
             "#46039f"
            ],
            [
             0.2222222222222222,
             "#7201a8"
            ],
            [
             0.3333333333333333,
             "#9c179e"
            ],
            [
             0.4444444444444444,
             "#bd3786"
            ],
            [
             0.5555555555555556,
             "#d8576b"
            ],
            [
             0.6666666666666666,
             "#ed7953"
            ],
            [
             0.7777777777777778,
             "#fb9f3a"
            ],
            [
             0.8888888888888888,
             "#fdca26"
            ],
            [
             1,
             "#f0f921"
            ]
           ],
           "sequentialminus": [
            [
             0,
             "#0d0887"
            ],
            [
             0.1111111111111111,
             "#46039f"
            ],
            [
             0.2222222222222222,
             "#7201a8"
            ],
            [
             0.3333333333333333,
             "#9c179e"
            ],
            [
             0.4444444444444444,
             "#bd3786"
            ],
            [
             0.5555555555555556,
             "#d8576b"
            ],
            [
             0.6666666666666666,
             "#ed7953"
            ],
            [
             0.7777777777777778,
             "#fb9f3a"
            ],
            [
             0.8888888888888888,
             "#fdca26"
            ],
            [
             1,
             "#f0f921"
            ]
           ]
          },
          "colorway": [
           "#636efa",
           "#EF553B",
           "#00cc96",
           "#ab63fa",
           "#FFA15A",
           "#19d3f3",
           "#FF6692",
           "#B6E880",
           "#FF97FF",
           "#FECB52"
          ],
          "font": {
           "color": "#2a3f5f"
          },
          "geo": {
           "bgcolor": "white",
           "lakecolor": "white",
           "landcolor": "#E5ECF6",
           "showlakes": true,
           "showland": true,
           "subunitcolor": "white"
          },
          "hoverlabel": {
           "align": "left"
          },
          "hovermode": "closest",
          "mapbox": {
           "style": "light"
          },
          "paper_bgcolor": "white",
          "plot_bgcolor": "#E5ECF6",
          "polar": {
           "angularaxis": {
            "gridcolor": "white",
            "linecolor": "white",
            "ticks": ""
           },
           "bgcolor": "#E5ECF6",
           "radialaxis": {
            "gridcolor": "white",
            "linecolor": "white",
            "ticks": ""
           }
          },
          "scene": {
           "xaxis": {
            "backgroundcolor": "#E5ECF6",
            "gridcolor": "white",
            "gridwidth": 2,
            "linecolor": "white",
            "showbackground": true,
            "ticks": "",
            "zerolinecolor": "white"
           },
           "yaxis": {
            "backgroundcolor": "#E5ECF6",
            "gridcolor": "white",
            "gridwidth": 2,
            "linecolor": "white",
            "showbackground": true,
            "ticks": "",
            "zerolinecolor": "white"
           },
           "zaxis": {
            "backgroundcolor": "#E5ECF6",
            "gridcolor": "white",
            "gridwidth": 2,
            "linecolor": "white",
            "showbackground": true,
            "ticks": "",
            "zerolinecolor": "white"
           }
          },
          "shapedefaults": {
           "line": {
            "color": "#2a3f5f"
           }
          },
          "ternary": {
           "aaxis": {
            "gridcolor": "white",
            "linecolor": "white",
            "ticks": ""
           },
           "baxis": {
            "gridcolor": "white",
            "linecolor": "white",
            "ticks": ""
           },
           "bgcolor": "#E5ECF6",
           "caxis": {
            "gridcolor": "white",
            "linecolor": "white",
            "ticks": ""
           }
          },
          "title": {
           "x": 0.05
          },
          "xaxis": {
           "automargin": true,
           "gridcolor": "white",
           "linecolor": "white",
           "ticks": "",
           "title": {
            "standoff": 15
           },
           "zerolinecolor": "white",
           "zerolinewidth": 2
          },
          "yaxis": {
           "automargin": true,
           "gridcolor": "white",
           "linecolor": "white",
           "ticks": "",
           "title": {
            "standoff": 15
           },
           "zerolinecolor": "white",
           "zerolinewidth": 2
          }
         }
        },
        "title": {
         "text": "Cost By Maintenance Type"
        },
        "xaxis": {
         "anchor": "y",
         "domain": [
          0,
          1
         ],
         "title": {
          "text": "maintenance_type"
         }
        },
        "yaxis": {
         "anchor": "x",
         "domain": [
          0,
          1
         ],
         "title": {
          "text": "sum of cost"
         }
        }
       }
      }
     },
     "metadata": {},
     "output_type": "display_data"
    }
   ],
   "source": [
    "fig7 = px.histogram(ment_df, x='maintenance_type', y='cost',title=\"Cost By Maintenance Type\")\n",
    "fig7.show()"
   ]
  },
  {
   "cell_type": "markdown",
   "id": "0b167937",
   "metadata": {},
   "source": [
    "## Visit Dataset"
   ]
  },
  {
   "cell_type": "markdown",
   "id": "cc0592e8",
   "metadata": {},
   "source": [
    "### Load & Preview Data"
   ]
  },
  {
   "cell_type": "code",
   "execution_count": null,
   "id": "1c92df8a",
   "metadata": {},
   "outputs": [
    {
     "data": {
      "text/html": [
       "<div>\n",
       "<style scoped>\n",
       "    .dataframe tbody tr th:only-of-type {\n",
       "        vertical-align: middle;\n",
       "    }\n",
       "\n",
       "    .dataframe tbody tr th {\n",
       "        vertical-align: top;\n",
       "    }\n",
       "\n",
       "    .dataframe thead th {\n",
       "        text-align: right;\n",
       "    }\n",
       "</style>\n",
       "<table border=\"1\" class=\"dataframe\">\n",
       "  <thead>\n",
       "    <tr style=\"text-align: right;\">\n",
       "      <th></th>\n",
       "      <th>visit_id</th>\n",
       "      <th>client_id</th>\n",
       "      <th>property_id</th>\n",
       "      <th>agent_id</th>\n",
       "      <th>visit_date</th>\n",
       "      <th>visit_purpose</th>\n",
       "    </tr>\n",
       "  </thead>\n",
       "  <tbody>\n",
       "    <tr>\n",
       "      <th>0</th>\n",
       "      <td>V000132</td>\n",
       "      <td>621</td>\n",
       "      <td>2658</td>\n",
       "      <td>138</td>\n",
       "      <td>12/24/2019</td>\n",
       "      <td>Negotiation</td>\n",
       "    </tr>\n",
       "    <tr>\n",
       "      <th>1</th>\n",
       "      <td>V000131</td>\n",
       "      <td>621</td>\n",
       "      <td>2658</td>\n",
       "      <td>138</td>\n",
       "      <td>1/7/2020</td>\n",
       "      <td>First Viewing</td>\n",
       "    </tr>\n",
       "    <tr>\n",
       "      <th>2</th>\n",
       "      <td>V002284</td>\n",
       "      <td>305</td>\n",
       "      <td>2289</td>\n",
       "      <td>125</td>\n",
       "      <td>1/19/2020</td>\n",
       "      <td>Negotiation</td>\n",
       "    </tr>\n",
       "    <tr>\n",
       "      <th>3</th>\n",
       "      <td>V000133</td>\n",
       "      <td>621</td>\n",
       "      <td>2658</td>\n",
       "      <td>138</td>\n",
       "      <td>1/22/2020</td>\n",
       "      <td>Final Check</td>\n",
       "    </tr>\n",
       "    <tr>\n",
       "      <th>4</th>\n",
       "      <td>V012737</td>\n",
       "      <td>972</td>\n",
       "      <td>2101</td>\n",
       "      <td>57</td>\n",
       "      <td>2/2/2020</td>\n",
       "      <td>Area Comparison</td>\n",
       "    </tr>\n",
       "  </tbody>\n",
       "</table>\n",
       "</div>"
      ],
      "text/plain": [
       "  visit_id  client_id  property_id  agent_id  visit_date    visit_purpose\n",
       "0  V000132        621         2658       138  12/24/2019      Negotiation\n",
       "1  V000131        621         2658       138    1/7/2020    First Viewing\n",
       "2  V002284        305         2289       125   1/19/2020      Negotiation\n",
       "3  V000133        621         2658       138   1/22/2020      Final Check\n",
       "4  V012737        972         2101        57    2/2/2020  Area Comparison"
      ]
     },
     "execution_count": 62,
     "metadata": {},
     "output_type": "execute_result"
    }
   ],
   "source": [
    "visit_df = pd.read_csv(r\"visit.csv\")\n",
    "visit_df.head()"
   ]
  },
  {
   "cell_type": "code",
   "execution_count": 63,
   "id": "36933fd7",
   "metadata": {},
   "outputs": [
    {
     "name": "stdout",
     "output_type": "stream",
     "text": [
      "<class 'pandas.core.frame.DataFrame'>\n",
      "RangeIndex: 16269 entries, 0 to 16268\n",
      "Data columns (total 6 columns):\n",
      " #   Column         Non-Null Count  Dtype \n",
      "---  ------         --------------  ----- \n",
      " 0   visit_id       16269 non-null  object\n",
      " 1   client_id      16269 non-null  int64 \n",
      " 2   property_id    16269 non-null  int64 \n",
      " 3   agent_id       16269 non-null  int64 \n",
      " 4   visit_date     16269 non-null  object\n",
      " 5   visit_purpose  16269 non-null  object\n",
      "dtypes: int64(3), object(3)\n",
      "memory usage: 762.7+ KB\n"
     ]
    }
   ],
   "source": [
    "visit_df.info()"
   ]
  },
  {
   "cell_type": "code",
   "execution_count": 64,
   "id": "5634aa45",
   "metadata": {},
   "outputs": [
    {
     "data": {
      "text/plain": [
       "np.int64(0)"
      ]
     },
     "execution_count": 64,
     "metadata": {},
     "output_type": "execute_result"
    }
   ],
   "source": [
    "visit_df.duplicated().sum()"
   ]
  },
  {
   "cell_type": "markdown",
   "id": "c8df1518",
   "metadata": {},
   "source": [
    "### Data Cleaning"
   ]
  },
  {
   "cell_type": "code",
   "execution_count": 65,
   "id": "6aac8249",
   "metadata": {},
   "outputs": [],
   "source": [
    "visit_df[\"visit_date\"]=pd.to_datetime(visit_df[\"visit_date\"])"
   ]
  },
  {
   "cell_type": "code",
   "execution_count": 66,
   "id": "73c98e00",
   "metadata": {},
   "outputs": [],
   "source": [
    "visit_df.to_csv(\"visit_clean.csv\",index=False)"
   ]
  },
  {
   "cell_type": "markdown",
   "id": "cc255bf1",
   "metadata": {},
   "source": [
    "### Descriptive Statistics & Group Insights"
   ]
  },
  {
   "cell_type": "code",
   "execution_count": 67,
   "id": "a465d637",
   "metadata": {},
   "outputs": [
    {
     "data": {
      "text/html": [
       "<div>\n",
       "<style scoped>\n",
       "    .dataframe tbody tr th:only-of-type {\n",
       "        vertical-align: middle;\n",
       "    }\n",
       "\n",
       "    .dataframe tbody tr th {\n",
       "        vertical-align: top;\n",
       "    }\n",
       "\n",
       "    .dataframe thead th {\n",
       "        text-align: right;\n",
       "    }\n",
       "</style>\n",
       "<table border=\"1\" class=\"dataframe\">\n",
       "  <thead>\n",
       "    <tr style=\"text-align: right;\">\n",
       "      <th></th>\n",
       "      <th>visit_id</th>\n",
       "      <th>client_id</th>\n",
       "      <th>property_id</th>\n",
       "      <th>agent_id</th>\n",
       "      <th>visit_date</th>\n",
       "      <th>visit_purpose</th>\n",
       "    </tr>\n",
       "  </thead>\n",
       "  <tbody>\n",
       "    <tr>\n",
       "      <th>count</th>\n",
       "      <td>16269</td>\n",
       "      <td>16,269.0</td>\n",
       "      <td>16,269.0</td>\n",
       "      <td>16,269.0</td>\n",
       "      <td>16269</td>\n",
       "      <td>16269</td>\n",
       "    </tr>\n",
       "    <tr>\n",
       "      <th>unique</th>\n",
       "      <td>16269</td>\n",
       "      <td>NaN</td>\n",
       "      <td>NaN</td>\n",
       "      <td>NaN</td>\n",
       "      <td>NaN</td>\n",
       "      <td>9</td>\n",
       "    </tr>\n",
       "    <tr>\n",
       "      <th>top</th>\n",
       "      <td>V011469</td>\n",
       "      <td>NaN</td>\n",
       "      <td>NaN</td>\n",
       "      <td>NaN</td>\n",
       "      <td>NaN</td>\n",
       "      <td>Negotiation</td>\n",
       "    </tr>\n",
       "    <tr>\n",
       "      <th>freq</th>\n",
       "      <td>1</td>\n",
       "      <td>NaN</td>\n",
       "      <td>NaN</td>\n",
       "      <td>NaN</td>\n",
       "      <td>NaN</td>\n",
       "      <td>3000</td>\n",
       "    </tr>\n",
       "    <tr>\n",
       "      <th>mean</th>\n",
       "      <td>NaN</td>\n",
       "      <td>1,039.1576003442128</td>\n",
       "      <td>1,503.1386686335977</td>\n",
       "      <td>126.34070932448215</td>\n",
       "      <td>2023-03-11 16:38:30.160428032</td>\n",
       "      <td>NaN</td>\n",
       "    </tr>\n",
       "    <tr>\n",
       "      <th>min</th>\n",
       "      <td>NaN</td>\n",
       "      <td>2.0</td>\n",
       "      <td>1.0</td>\n",
       "      <td>1.0</td>\n",
       "      <td>2019-12-24 00:00:00</td>\n",
       "      <td>NaN</td>\n",
       "    </tr>\n",
       "    <tr>\n",
       "      <th>25%</th>\n",
       "      <td>NaN</td>\n",
       "      <td>538.0</td>\n",
       "      <td>747.0</td>\n",
       "      <td>62.0</td>\n",
       "      <td>2022-03-10 00:00:00</td>\n",
       "      <td>NaN</td>\n",
       "    </tr>\n",
       "    <tr>\n",
       "      <th>50%</th>\n",
       "      <td>NaN</td>\n",
       "      <td>1,035.0</td>\n",
       "      <td>1,516.0</td>\n",
       "      <td>127.0</td>\n",
       "      <td>2023-06-29 00:00:00</td>\n",
       "      <td>NaN</td>\n",
       "    </tr>\n",
       "    <tr>\n",
       "      <th>75%</th>\n",
       "      <td>NaN</td>\n",
       "      <td>1,545.0</td>\n",
       "      <td>2,250.0</td>\n",
       "      <td>192.0</td>\n",
       "      <td>2024-05-22 00:00:00</td>\n",
       "      <td>NaN</td>\n",
       "    </tr>\n",
       "    <tr>\n",
       "      <th>max</th>\n",
       "      <td>NaN</td>\n",
       "      <td>2,060.0</td>\n",
       "      <td>3,000.0</td>\n",
       "      <td>249.0</td>\n",
       "      <td>2024-12-30 00:00:00</td>\n",
       "      <td>NaN</td>\n",
       "    </tr>\n",
       "    <tr>\n",
       "      <th>std</th>\n",
       "      <td>NaN</td>\n",
       "      <td>588.7450929557825</td>\n",
       "      <td>866.281251236081</td>\n",
       "      <td>73.37413951896413</td>\n",
       "      <td>NaN</td>\n",
       "      <td>NaN</td>\n",
       "    </tr>\n",
       "  </tbody>\n",
       "</table>\n",
       "</div>"
      ],
      "text/plain": [
       "       visit_id           client_id         property_id           agent_id  \\\n",
       "count     16269            16,269.0            16,269.0           16,269.0   \n",
       "unique    16269                 NaN                 NaN                NaN   \n",
       "top     V011469                 NaN                 NaN                NaN   \n",
       "freq          1                 NaN                 NaN                NaN   \n",
       "mean        NaN 1,039.1576003442128 1,503.1386686335977 126.34070932448215   \n",
       "min         NaN                 2.0                 1.0                1.0   \n",
       "25%         NaN               538.0               747.0               62.0   \n",
       "50%         NaN             1,035.0             1,516.0              127.0   \n",
       "75%         NaN             1,545.0             2,250.0              192.0   \n",
       "max         NaN             2,060.0             3,000.0              249.0   \n",
       "std         NaN   588.7450929557825    866.281251236081  73.37413951896413   \n",
       "\n",
       "                           visit_date visit_purpose  \n",
       "count                           16269         16269  \n",
       "unique                            NaN             9  \n",
       "top                               NaN   Negotiation  \n",
       "freq                              NaN          3000  \n",
       "mean    2023-03-11 16:38:30.160428032           NaN  \n",
       "min               2019-12-24 00:00:00           NaN  \n",
       "25%               2022-03-10 00:00:00           NaN  \n",
       "50%               2023-06-29 00:00:00           NaN  \n",
       "75%               2024-05-22 00:00:00           NaN  \n",
       "max               2024-12-30 00:00:00           NaN  \n",
       "std                               NaN           NaN  "
      ]
     },
     "execution_count": 67,
     "metadata": {},
     "output_type": "execute_result"
    }
   ],
   "source": [
    "visit_df.describe(include=\"all\")"
   ]
  },
  {
   "cell_type": "code",
   "execution_count": null,
   "id": "e8f3bff1",
   "metadata": {},
   "outputs": [],
   "source": [
    "\"\"\"\n",
    "number of visits : 16269\n",
    "mostly reason is for Negotiation \n",
    "recently are in 2024-12-30  \n",
    "\"\"\""
   ]
  },
  {
   "cell_type": "markdown",
   "id": "b9d5f844",
   "metadata": {},
   "source": [
    "### Data Visualization"
   ]
  },
  {
   "cell_type": "code",
   "execution_count": 69,
   "id": "3747c042",
   "metadata": {},
   "outputs": [
    {
     "data": {
      "application/vnd.plotly.v1+json": {
       "config": {
        "plotlyServerURL": "https://plot.ly"
       },
       "data": [
        {
         "hovertemplate": "property_id=%{x}<br>no_visits=%{y}<extra></extra>",
         "legendgroup": "",
         "marker": {
          "color": "#636efa",
          "pattern": {
           "shape": ""
          }
         },
         "name": "",
         "orientation": "v",
         "showlegend": false,
         "textposition": "auto",
         "type": "bar",
         "x": {
          "bdata": "xQV/CnUAIwYIAQoCdgglCigLHQI=",
          "dtype": "i2"
         },
         "xaxis": "x",
         "y": {
          "bdata": "EA8PDg4NDQ0NDQ==",
          "dtype": "i1"
         },
         "yaxis": "y"
        }
       ],
       "layout": {
        "barmode": "relative",
        "legend": {
         "tracegroupgap": 0
        },
        "template": {
         "data": {
          "bar": [
           {
            "error_x": {
             "color": "#2a3f5f"
            },
            "error_y": {
             "color": "#2a3f5f"
            },
            "marker": {
             "line": {
              "color": "#E5ECF6",
              "width": 0.5
             },
             "pattern": {
              "fillmode": "overlay",
              "size": 10,
              "solidity": 0.2
             }
            },
            "type": "bar"
           }
          ],
          "barpolar": [
           {
            "marker": {
             "line": {
              "color": "#E5ECF6",
              "width": 0.5
             },
             "pattern": {
              "fillmode": "overlay",
              "size": 10,
              "solidity": 0.2
             }
            },
            "type": "barpolar"
           }
          ],
          "carpet": [
           {
            "aaxis": {
             "endlinecolor": "#2a3f5f",
             "gridcolor": "white",
             "linecolor": "white",
             "minorgridcolor": "white",
             "startlinecolor": "#2a3f5f"
            },
            "baxis": {
             "endlinecolor": "#2a3f5f",
             "gridcolor": "white",
             "linecolor": "white",
             "minorgridcolor": "white",
             "startlinecolor": "#2a3f5f"
            },
            "type": "carpet"
           }
          ],
          "choropleth": [
           {
            "colorbar": {
             "outlinewidth": 0,
             "ticks": ""
            },
            "type": "choropleth"
           }
          ],
          "contour": [
           {
            "colorbar": {
             "outlinewidth": 0,
             "ticks": ""
            },
            "colorscale": [
             [
              0,
              "#0d0887"
             ],
             [
              0.1111111111111111,
              "#46039f"
             ],
             [
              0.2222222222222222,
              "#7201a8"
             ],
             [
              0.3333333333333333,
              "#9c179e"
             ],
             [
              0.4444444444444444,
              "#bd3786"
             ],
             [
              0.5555555555555556,
              "#d8576b"
             ],
             [
              0.6666666666666666,
              "#ed7953"
             ],
             [
              0.7777777777777778,
              "#fb9f3a"
             ],
             [
              0.8888888888888888,
              "#fdca26"
             ],
             [
              1,
              "#f0f921"
             ]
            ],
            "type": "contour"
           }
          ],
          "contourcarpet": [
           {
            "colorbar": {
             "outlinewidth": 0,
             "ticks": ""
            },
            "type": "contourcarpet"
           }
          ],
          "heatmap": [
           {
            "colorbar": {
             "outlinewidth": 0,
             "ticks": ""
            },
            "colorscale": [
             [
              0,
              "#0d0887"
             ],
             [
              0.1111111111111111,
              "#46039f"
             ],
             [
              0.2222222222222222,
              "#7201a8"
             ],
             [
              0.3333333333333333,
              "#9c179e"
             ],
             [
              0.4444444444444444,
              "#bd3786"
             ],
             [
              0.5555555555555556,
              "#d8576b"
             ],
             [
              0.6666666666666666,
              "#ed7953"
             ],
             [
              0.7777777777777778,
              "#fb9f3a"
             ],
             [
              0.8888888888888888,
              "#fdca26"
             ],
             [
              1,
              "#f0f921"
             ]
            ],
            "type": "heatmap"
           }
          ],
          "histogram": [
           {
            "marker": {
             "pattern": {
              "fillmode": "overlay",
              "size": 10,
              "solidity": 0.2
             }
            },
            "type": "histogram"
           }
          ],
          "histogram2d": [
           {
            "colorbar": {
             "outlinewidth": 0,
             "ticks": ""
            },
            "colorscale": [
             [
              0,
              "#0d0887"
             ],
             [
              0.1111111111111111,
              "#46039f"
             ],
             [
              0.2222222222222222,
              "#7201a8"
             ],
             [
              0.3333333333333333,
              "#9c179e"
             ],
             [
              0.4444444444444444,
              "#bd3786"
             ],
             [
              0.5555555555555556,
              "#d8576b"
             ],
             [
              0.6666666666666666,
              "#ed7953"
             ],
             [
              0.7777777777777778,
              "#fb9f3a"
             ],
             [
              0.8888888888888888,
              "#fdca26"
             ],
             [
              1,
              "#f0f921"
             ]
            ],
            "type": "histogram2d"
           }
          ],
          "histogram2dcontour": [
           {
            "colorbar": {
             "outlinewidth": 0,
             "ticks": ""
            },
            "colorscale": [
             [
              0,
              "#0d0887"
             ],
             [
              0.1111111111111111,
              "#46039f"
             ],
             [
              0.2222222222222222,
              "#7201a8"
             ],
             [
              0.3333333333333333,
              "#9c179e"
             ],
             [
              0.4444444444444444,
              "#bd3786"
             ],
             [
              0.5555555555555556,
              "#d8576b"
             ],
             [
              0.6666666666666666,
              "#ed7953"
             ],
             [
              0.7777777777777778,
              "#fb9f3a"
             ],
             [
              0.8888888888888888,
              "#fdca26"
             ],
             [
              1,
              "#f0f921"
             ]
            ],
            "type": "histogram2dcontour"
           }
          ],
          "mesh3d": [
           {
            "colorbar": {
             "outlinewidth": 0,
             "ticks": ""
            },
            "type": "mesh3d"
           }
          ],
          "parcoords": [
           {
            "line": {
             "colorbar": {
              "outlinewidth": 0,
              "ticks": ""
             }
            },
            "type": "parcoords"
           }
          ],
          "pie": [
           {
            "automargin": true,
            "type": "pie"
           }
          ],
          "scatter": [
           {
            "fillpattern": {
             "fillmode": "overlay",
             "size": 10,
             "solidity": 0.2
            },
            "type": "scatter"
           }
          ],
          "scatter3d": [
           {
            "line": {
             "colorbar": {
              "outlinewidth": 0,
              "ticks": ""
             }
            },
            "marker": {
             "colorbar": {
              "outlinewidth": 0,
              "ticks": ""
             }
            },
            "type": "scatter3d"
           }
          ],
          "scattercarpet": [
           {
            "marker": {
             "colorbar": {
              "outlinewidth": 0,
              "ticks": ""
             }
            },
            "type": "scattercarpet"
           }
          ],
          "scattergeo": [
           {
            "marker": {
             "colorbar": {
              "outlinewidth": 0,
              "ticks": ""
             }
            },
            "type": "scattergeo"
           }
          ],
          "scattergl": [
           {
            "marker": {
             "colorbar": {
              "outlinewidth": 0,
              "ticks": ""
             }
            },
            "type": "scattergl"
           }
          ],
          "scattermap": [
           {
            "marker": {
             "colorbar": {
              "outlinewidth": 0,
              "ticks": ""
             }
            },
            "type": "scattermap"
           }
          ],
          "scattermapbox": [
           {
            "marker": {
             "colorbar": {
              "outlinewidth": 0,
              "ticks": ""
             }
            },
            "type": "scattermapbox"
           }
          ],
          "scatterpolar": [
           {
            "marker": {
             "colorbar": {
              "outlinewidth": 0,
              "ticks": ""
             }
            },
            "type": "scatterpolar"
           }
          ],
          "scatterpolargl": [
           {
            "marker": {
             "colorbar": {
              "outlinewidth": 0,
              "ticks": ""
             }
            },
            "type": "scatterpolargl"
           }
          ],
          "scatterternary": [
           {
            "marker": {
             "colorbar": {
              "outlinewidth": 0,
              "ticks": ""
             }
            },
            "type": "scatterternary"
           }
          ],
          "surface": [
           {
            "colorbar": {
             "outlinewidth": 0,
             "ticks": ""
            },
            "colorscale": [
             [
              0,
              "#0d0887"
             ],
             [
              0.1111111111111111,
              "#46039f"
             ],
             [
              0.2222222222222222,
              "#7201a8"
             ],
             [
              0.3333333333333333,
              "#9c179e"
             ],
             [
              0.4444444444444444,
              "#bd3786"
             ],
             [
              0.5555555555555556,
              "#d8576b"
             ],
             [
              0.6666666666666666,
              "#ed7953"
             ],
             [
              0.7777777777777778,
              "#fb9f3a"
             ],
             [
              0.8888888888888888,
              "#fdca26"
             ],
             [
              1,
              "#f0f921"
             ]
            ],
            "type": "surface"
           }
          ],
          "table": [
           {
            "cells": {
             "fill": {
              "color": "#EBF0F8"
             },
             "line": {
              "color": "white"
             }
            },
            "header": {
             "fill": {
              "color": "#C8D4E3"
             },
             "line": {
              "color": "white"
             }
            },
            "type": "table"
           }
          ]
         },
         "layout": {
          "annotationdefaults": {
           "arrowcolor": "#2a3f5f",
           "arrowhead": 0,
           "arrowwidth": 1
          },
          "autotypenumbers": "strict",
          "coloraxis": {
           "colorbar": {
            "outlinewidth": 0,
            "ticks": ""
           }
          },
          "colorscale": {
           "diverging": [
            [
             0,
             "#8e0152"
            ],
            [
             0.1,
             "#c51b7d"
            ],
            [
             0.2,
             "#de77ae"
            ],
            [
             0.3,
             "#f1b6da"
            ],
            [
             0.4,
             "#fde0ef"
            ],
            [
             0.5,
             "#f7f7f7"
            ],
            [
             0.6,
             "#e6f5d0"
            ],
            [
             0.7,
             "#b8e186"
            ],
            [
             0.8,
             "#7fbc41"
            ],
            [
             0.9,
             "#4d9221"
            ],
            [
             1,
             "#276419"
            ]
           ],
           "sequential": [
            [
             0,
             "#0d0887"
            ],
            [
             0.1111111111111111,
             "#46039f"
            ],
            [
             0.2222222222222222,
             "#7201a8"
            ],
            [
             0.3333333333333333,
             "#9c179e"
            ],
            [
             0.4444444444444444,
             "#bd3786"
            ],
            [
             0.5555555555555556,
             "#d8576b"
            ],
            [
             0.6666666666666666,
             "#ed7953"
            ],
            [
             0.7777777777777778,
             "#fb9f3a"
            ],
            [
             0.8888888888888888,
             "#fdca26"
            ],
            [
             1,
             "#f0f921"
            ]
           ],
           "sequentialminus": [
            [
             0,
             "#0d0887"
            ],
            [
             0.1111111111111111,
             "#46039f"
            ],
            [
             0.2222222222222222,
             "#7201a8"
            ],
            [
             0.3333333333333333,
             "#9c179e"
            ],
            [
             0.4444444444444444,
             "#bd3786"
            ],
            [
             0.5555555555555556,
             "#d8576b"
            ],
            [
             0.6666666666666666,
             "#ed7953"
            ],
            [
             0.7777777777777778,
             "#fb9f3a"
            ],
            [
             0.8888888888888888,
             "#fdca26"
            ],
            [
             1,
             "#f0f921"
            ]
           ]
          },
          "colorway": [
           "#636efa",
           "#EF553B",
           "#00cc96",
           "#ab63fa",
           "#FFA15A",
           "#19d3f3",
           "#FF6692",
           "#B6E880",
           "#FF97FF",
           "#FECB52"
          ],
          "font": {
           "color": "#2a3f5f"
          },
          "geo": {
           "bgcolor": "white",
           "lakecolor": "white",
           "landcolor": "#E5ECF6",
           "showlakes": true,
           "showland": true,
           "subunitcolor": "white"
          },
          "hoverlabel": {
           "align": "left"
          },
          "hovermode": "closest",
          "mapbox": {
           "style": "light"
          },
          "paper_bgcolor": "white",
          "plot_bgcolor": "#E5ECF6",
          "polar": {
           "angularaxis": {
            "gridcolor": "white",
            "linecolor": "white",
            "ticks": ""
           },
           "bgcolor": "#E5ECF6",
           "radialaxis": {
            "gridcolor": "white",
            "linecolor": "white",
            "ticks": ""
           }
          },
          "scene": {
           "xaxis": {
            "backgroundcolor": "#E5ECF6",
            "gridcolor": "white",
            "gridwidth": 2,
            "linecolor": "white",
            "showbackground": true,
            "ticks": "",
            "zerolinecolor": "white"
           },
           "yaxis": {
            "backgroundcolor": "#E5ECF6",
            "gridcolor": "white",
            "gridwidth": 2,
            "linecolor": "white",
            "showbackground": true,
            "ticks": "",
            "zerolinecolor": "white"
           },
           "zaxis": {
            "backgroundcolor": "#E5ECF6",
            "gridcolor": "white",
            "gridwidth": 2,
            "linecolor": "white",
            "showbackground": true,
            "ticks": "",
            "zerolinecolor": "white"
           }
          },
          "shapedefaults": {
           "line": {
            "color": "#2a3f5f"
           }
          },
          "ternary": {
           "aaxis": {
            "gridcolor": "white",
            "linecolor": "white",
            "ticks": ""
           },
           "baxis": {
            "gridcolor": "white",
            "linecolor": "white",
            "ticks": ""
           },
           "bgcolor": "#E5ECF6",
           "caxis": {
            "gridcolor": "white",
            "linecolor": "white",
            "ticks": ""
           }
          },
          "title": {
           "x": 0.05
          },
          "xaxis": {
           "automargin": true,
           "gridcolor": "white",
           "linecolor": "white",
           "ticks": "",
           "title": {
            "standoff": 15
           },
           "zerolinecolor": "white",
           "zerolinewidth": 2
          },
          "yaxis": {
           "automargin": true,
           "gridcolor": "white",
           "linecolor": "white",
           "ticks": "",
           "title": {
            "standoff": 15
           },
           "zerolinecolor": "white",
           "zerolinewidth": 2
          }
         }
        },
        "title": {
         "text": "Top 10 Properties by No. Visits"
        },
        "xaxis": {
         "anchor": "y",
         "domain": [
          0,
          1
         ],
         "title": {
          "text": "property_id"
         }
        },
        "yaxis": {
         "anchor": "x",
         "domain": [
          0,
          1
         ],
         "title": {
          "text": "no_visits"
         }
        }
       }
      }
     },
     "metadata": {},
     "output_type": "display_data"
    }
   ],
   "source": [
    "top_properties = (\n",
    "    visit_df.groupby(\"property_id\").agg(no_visits =(\"visit_id\",\"count\")).reset_index()\n",
    "    .sort_values(by=\"no_visits\", ascending=False)\n",
    "    .head(10)\n",
    ")\n",
    "\n",
    "fig8 = px.bar(\n",
    "    top_properties,\n",
    "    x=\"property_id\",\n",
    "    y=\"no_visits\",\n",
    "    title=\"Top 10 Properties by No. Visits\"\n",
    ")\n",
    "\n",
    "fig8.show()"
   ]
  },
  {
   "cell_type": "code",
   "execution_count": 70,
   "id": "1cc48a19",
   "metadata": {},
   "outputs": [
    {
     "data": {
      "application/vnd.plotly.v1+json": {
       "config": {
        "plotlyServerURL": "https://plot.ly"
       },
       "data": [
        {
         "hovertemplate": "visit_year=%{x}<br>no_visits=%{y}<extra></extra>",
         "legendgroup": "",
         "line": {
          "color": "#636efa",
          "dash": "solid"
         },
         "marker": {
          "symbol": "circle"
         },
         "mode": "lines+markers",
         "name": "",
         "orientation": "v",
         "showlegend": false,
         "type": "scatter",
         "x": {
          "bdata": "4wcAAOQHAADlBwAA5gcAAOcHAADoBwAA",
          "dtype": "i4"
         },
         "xaxis": "x",
         "y": {
          "bdata": "AQAIBiUI7wrsDoQX",
          "dtype": "i2"
         },
         "yaxis": "y"
        }
       ],
       "layout": {
        "legend": {
         "tracegroupgap": 0
        },
        "template": {
         "data": {
          "bar": [
           {
            "error_x": {
             "color": "#2a3f5f"
            },
            "error_y": {
             "color": "#2a3f5f"
            },
            "marker": {
             "line": {
              "color": "#E5ECF6",
              "width": 0.5
             },
             "pattern": {
              "fillmode": "overlay",
              "size": 10,
              "solidity": 0.2
             }
            },
            "type": "bar"
           }
          ],
          "barpolar": [
           {
            "marker": {
             "line": {
              "color": "#E5ECF6",
              "width": 0.5
             },
             "pattern": {
              "fillmode": "overlay",
              "size": 10,
              "solidity": 0.2
             }
            },
            "type": "barpolar"
           }
          ],
          "carpet": [
           {
            "aaxis": {
             "endlinecolor": "#2a3f5f",
             "gridcolor": "white",
             "linecolor": "white",
             "minorgridcolor": "white",
             "startlinecolor": "#2a3f5f"
            },
            "baxis": {
             "endlinecolor": "#2a3f5f",
             "gridcolor": "white",
             "linecolor": "white",
             "minorgridcolor": "white",
             "startlinecolor": "#2a3f5f"
            },
            "type": "carpet"
           }
          ],
          "choropleth": [
           {
            "colorbar": {
             "outlinewidth": 0,
             "ticks": ""
            },
            "type": "choropleth"
           }
          ],
          "contour": [
           {
            "colorbar": {
             "outlinewidth": 0,
             "ticks": ""
            },
            "colorscale": [
             [
              0,
              "#0d0887"
             ],
             [
              0.1111111111111111,
              "#46039f"
             ],
             [
              0.2222222222222222,
              "#7201a8"
             ],
             [
              0.3333333333333333,
              "#9c179e"
             ],
             [
              0.4444444444444444,
              "#bd3786"
             ],
             [
              0.5555555555555556,
              "#d8576b"
             ],
             [
              0.6666666666666666,
              "#ed7953"
             ],
             [
              0.7777777777777778,
              "#fb9f3a"
             ],
             [
              0.8888888888888888,
              "#fdca26"
             ],
             [
              1,
              "#f0f921"
             ]
            ],
            "type": "contour"
           }
          ],
          "contourcarpet": [
           {
            "colorbar": {
             "outlinewidth": 0,
             "ticks": ""
            },
            "type": "contourcarpet"
           }
          ],
          "heatmap": [
           {
            "colorbar": {
             "outlinewidth": 0,
             "ticks": ""
            },
            "colorscale": [
             [
              0,
              "#0d0887"
             ],
             [
              0.1111111111111111,
              "#46039f"
             ],
             [
              0.2222222222222222,
              "#7201a8"
             ],
             [
              0.3333333333333333,
              "#9c179e"
             ],
             [
              0.4444444444444444,
              "#bd3786"
             ],
             [
              0.5555555555555556,
              "#d8576b"
             ],
             [
              0.6666666666666666,
              "#ed7953"
             ],
             [
              0.7777777777777778,
              "#fb9f3a"
             ],
             [
              0.8888888888888888,
              "#fdca26"
             ],
             [
              1,
              "#f0f921"
             ]
            ],
            "type": "heatmap"
           }
          ],
          "histogram": [
           {
            "marker": {
             "pattern": {
              "fillmode": "overlay",
              "size": 10,
              "solidity": 0.2
             }
            },
            "type": "histogram"
           }
          ],
          "histogram2d": [
           {
            "colorbar": {
             "outlinewidth": 0,
             "ticks": ""
            },
            "colorscale": [
             [
              0,
              "#0d0887"
             ],
             [
              0.1111111111111111,
              "#46039f"
             ],
             [
              0.2222222222222222,
              "#7201a8"
             ],
             [
              0.3333333333333333,
              "#9c179e"
             ],
             [
              0.4444444444444444,
              "#bd3786"
             ],
             [
              0.5555555555555556,
              "#d8576b"
             ],
             [
              0.6666666666666666,
              "#ed7953"
             ],
             [
              0.7777777777777778,
              "#fb9f3a"
             ],
             [
              0.8888888888888888,
              "#fdca26"
             ],
             [
              1,
              "#f0f921"
             ]
            ],
            "type": "histogram2d"
           }
          ],
          "histogram2dcontour": [
           {
            "colorbar": {
             "outlinewidth": 0,
             "ticks": ""
            },
            "colorscale": [
             [
              0,
              "#0d0887"
             ],
             [
              0.1111111111111111,
              "#46039f"
             ],
             [
              0.2222222222222222,
              "#7201a8"
             ],
             [
              0.3333333333333333,
              "#9c179e"
             ],
             [
              0.4444444444444444,
              "#bd3786"
             ],
             [
              0.5555555555555556,
              "#d8576b"
             ],
             [
              0.6666666666666666,
              "#ed7953"
             ],
             [
              0.7777777777777778,
              "#fb9f3a"
             ],
             [
              0.8888888888888888,
              "#fdca26"
             ],
             [
              1,
              "#f0f921"
             ]
            ],
            "type": "histogram2dcontour"
           }
          ],
          "mesh3d": [
           {
            "colorbar": {
             "outlinewidth": 0,
             "ticks": ""
            },
            "type": "mesh3d"
           }
          ],
          "parcoords": [
           {
            "line": {
             "colorbar": {
              "outlinewidth": 0,
              "ticks": ""
             }
            },
            "type": "parcoords"
           }
          ],
          "pie": [
           {
            "automargin": true,
            "type": "pie"
           }
          ],
          "scatter": [
           {
            "fillpattern": {
             "fillmode": "overlay",
             "size": 10,
             "solidity": 0.2
            },
            "type": "scatter"
           }
          ],
          "scatter3d": [
           {
            "line": {
             "colorbar": {
              "outlinewidth": 0,
              "ticks": ""
             }
            },
            "marker": {
             "colorbar": {
              "outlinewidth": 0,
              "ticks": ""
             }
            },
            "type": "scatter3d"
           }
          ],
          "scattercarpet": [
           {
            "marker": {
             "colorbar": {
              "outlinewidth": 0,
              "ticks": ""
             }
            },
            "type": "scattercarpet"
           }
          ],
          "scattergeo": [
           {
            "marker": {
             "colorbar": {
              "outlinewidth": 0,
              "ticks": ""
             }
            },
            "type": "scattergeo"
           }
          ],
          "scattergl": [
           {
            "marker": {
             "colorbar": {
              "outlinewidth": 0,
              "ticks": ""
             }
            },
            "type": "scattergl"
           }
          ],
          "scattermap": [
           {
            "marker": {
             "colorbar": {
              "outlinewidth": 0,
              "ticks": ""
             }
            },
            "type": "scattermap"
           }
          ],
          "scattermapbox": [
           {
            "marker": {
             "colorbar": {
              "outlinewidth": 0,
              "ticks": ""
             }
            },
            "type": "scattermapbox"
           }
          ],
          "scatterpolar": [
           {
            "marker": {
             "colorbar": {
              "outlinewidth": 0,
              "ticks": ""
             }
            },
            "type": "scatterpolar"
           }
          ],
          "scatterpolargl": [
           {
            "marker": {
             "colorbar": {
              "outlinewidth": 0,
              "ticks": ""
             }
            },
            "type": "scatterpolargl"
           }
          ],
          "scatterternary": [
           {
            "marker": {
             "colorbar": {
              "outlinewidth": 0,
              "ticks": ""
             }
            },
            "type": "scatterternary"
           }
          ],
          "surface": [
           {
            "colorbar": {
             "outlinewidth": 0,
             "ticks": ""
            },
            "colorscale": [
             [
              0,
              "#0d0887"
             ],
             [
              0.1111111111111111,
              "#46039f"
             ],
             [
              0.2222222222222222,
              "#7201a8"
             ],
             [
              0.3333333333333333,
              "#9c179e"
             ],
             [
              0.4444444444444444,
              "#bd3786"
             ],
             [
              0.5555555555555556,
              "#d8576b"
             ],
             [
              0.6666666666666666,
              "#ed7953"
             ],
             [
              0.7777777777777778,
              "#fb9f3a"
             ],
             [
              0.8888888888888888,
              "#fdca26"
             ],
             [
              1,
              "#f0f921"
             ]
            ],
            "type": "surface"
           }
          ],
          "table": [
           {
            "cells": {
             "fill": {
              "color": "#EBF0F8"
             },
             "line": {
              "color": "white"
             }
            },
            "header": {
             "fill": {
              "color": "#C8D4E3"
             },
             "line": {
              "color": "white"
             }
            },
            "type": "table"
           }
          ]
         },
         "layout": {
          "annotationdefaults": {
           "arrowcolor": "#2a3f5f",
           "arrowhead": 0,
           "arrowwidth": 1
          },
          "autotypenumbers": "strict",
          "coloraxis": {
           "colorbar": {
            "outlinewidth": 0,
            "ticks": ""
           }
          },
          "colorscale": {
           "diverging": [
            [
             0,
             "#8e0152"
            ],
            [
             0.1,
             "#c51b7d"
            ],
            [
             0.2,
             "#de77ae"
            ],
            [
             0.3,
             "#f1b6da"
            ],
            [
             0.4,
             "#fde0ef"
            ],
            [
             0.5,
             "#f7f7f7"
            ],
            [
             0.6,
             "#e6f5d0"
            ],
            [
             0.7,
             "#b8e186"
            ],
            [
             0.8,
             "#7fbc41"
            ],
            [
             0.9,
             "#4d9221"
            ],
            [
             1,
             "#276419"
            ]
           ],
           "sequential": [
            [
             0,
             "#0d0887"
            ],
            [
             0.1111111111111111,
             "#46039f"
            ],
            [
             0.2222222222222222,
             "#7201a8"
            ],
            [
             0.3333333333333333,
             "#9c179e"
            ],
            [
             0.4444444444444444,
             "#bd3786"
            ],
            [
             0.5555555555555556,
             "#d8576b"
            ],
            [
             0.6666666666666666,
             "#ed7953"
            ],
            [
             0.7777777777777778,
             "#fb9f3a"
            ],
            [
             0.8888888888888888,
             "#fdca26"
            ],
            [
             1,
             "#f0f921"
            ]
           ],
           "sequentialminus": [
            [
             0,
             "#0d0887"
            ],
            [
             0.1111111111111111,
             "#46039f"
            ],
            [
             0.2222222222222222,
             "#7201a8"
            ],
            [
             0.3333333333333333,
             "#9c179e"
            ],
            [
             0.4444444444444444,
             "#bd3786"
            ],
            [
             0.5555555555555556,
             "#d8576b"
            ],
            [
             0.6666666666666666,
             "#ed7953"
            ],
            [
             0.7777777777777778,
             "#fb9f3a"
            ],
            [
             0.8888888888888888,
             "#fdca26"
            ],
            [
             1,
             "#f0f921"
            ]
           ]
          },
          "colorway": [
           "#636efa",
           "#EF553B",
           "#00cc96",
           "#ab63fa",
           "#FFA15A",
           "#19d3f3",
           "#FF6692",
           "#B6E880",
           "#FF97FF",
           "#FECB52"
          ],
          "font": {
           "color": "#2a3f5f"
          },
          "geo": {
           "bgcolor": "white",
           "lakecolor": "white",
           "landcolor": "#E5ECF6",
           "showlakes": true,
           "showland": true,
           "subunitcolor": "white"
          },
          "hoverlabel": {
           "align": "left"
          },
          "hovermode": "closest",
          "mapbox": {
           "style": "light"
          },
          "paper_bgcolor": "white",
          "plot_bgcolor": "#E5ECF6",
          "polar": {
           "angularaxis": {
            "gridcolor": "white",
            "linecolor": "white",
            "ticks": ""
           },
           "bgcolor": "#E5ECF6",
           "radialaxis": {
            "gridcolor": "white",
            "linecolor": "white",
            "ticks": ""
           }
          },
          "scene": {
           "xaxis": {
            "backgroundcolor": "#E5ECF6",
            "gridcolor": "white",
            "gridwidth": 2,
            "linecolor": "white",
            "showbackground": true,
            "ticks": "",
            "zerolinecolor": "white"
           },
           "yaxis": {
            "backgroundcolor": "#E5ECF6",
            "gridcolor": "white",
            "gridwidth": 2,
            "linecolor": "white",
            "showbackground": true,
            "ticks": "",
            "zerolinecolor": "white"
           },
           "zaxis": {
            "backgroundcolor": "#E5ECF6",
            "gridcolor": "white",
            "gridwidth": 2,
            "linecolor": "white",
            "showbackground": true,
            "ticks": "",
            "zerolinecolor": "white"
           }
          },
          "shapedefaults": {
           "line": {
            "color": "#2a3f5f"
           }
          },
          "ternary": {
           "aaxis": {
            "gridcolor": "white",
            "linecolor": "white",
            "ticks": ""
           },
           "baxis": {
            "gridcolor": "white",
            "linecolor": "white",
            "ticks": ""
           },
           "bgcolor": "#E5ECF6",
           "caxis": {
            "gridcolor": "white",
            "linecolor": "white",
            "ticks": ""
           }
          },
          "title": {
           "x": 0.05
          },
          "xaxis": {
           "automargin": true,
           "gridcolor": "white",
           "linecolor": "white",
           "ticks": "",
           "title": {
            "standoff": 15
           },
           "zerolinecolor": "white",
           "zerolinewidth": 2
          },
          "yaxis": {
           "automargin": true,
           "gridcolor": "white",
           "linecolor": "white",
           "ticks": "",
           "title": {
            "standoff": 15
           },
           "zerolinecolor": "white",
           "zerolinewidth": 2
          }
         }
        },
        "title": {
         "text": " No visits per year"
        },
        "xaxis": {
         "anchor": "y",
         "domain": [
          0,
          1
         ],
         "title": {
          "text": "visit_year"
         }
        },
        "yaxis": {
         "anchor": "x",
         "domain": [
          0,
          1
         ],
         "title": {
          "text": "no_visits"
         }
        }
       }
      }
     },
     "metadata": {},
     "output_type": "display_data"
    }
   ],
   "source": [
    "visit_df['visit_year'] = visit_df['visit_date'].dt.year\n",
    "visit_per_year = visit_df.groupby(['visit_year']).agg(no_visits=('visit_id','count')).reset_index()\n",
    "fig9 = px.line(visit_per_year,x=\"visit_year\",y='no_visits',markers=True,title=\" No visits per year\",\n",
    ")\n",
    "fig9.show()"
   ]
  },
  {
   "cell_type": "code",
   "execution_count": 71,
   "id": "4ad18921",
   "metadata": {},
   "outputs": [
    {
     "data": {
      "application/vnd.plotly.v1+json": {
       "config": {
        "plotlyServerURL": "https://plot.ly"
       },
       "data": [
        {
         "hovertemplate": "visit_year=2019<br>visit_month=%{x}<br>no_visits_smooth=%{y}<extra></extra>",
         "legendgroup": "2019",
         "line": {
          "color": "#636efa",
          "dash": "solid"
         },
         "marker": {
          "symbol": "circle"
         },
         "mode": "lines+markers",
         "name": "2019",
         "orientation": "v",
         "showlegend": true,
         "type": "scatter",
         "x": {
          "bdata": "DAAAAA==",
          "dtype": "i4"
         },
         "xaxis": "x",
         "y": {
          "bdata": "AAAAAAAA8D8=",
          "dtype": "f8"
         },
         "yaxis": "y"
        },
        {
         "hovertemplate": "visit_year=2020<br>visit_month=%{x}<br>no_visits_smooth=%{y}<extra></extra>",
         "legendgroup": "2020",
         "line": {
          "color": "#EF553B",
          "dash": "solid"
         },
         "marker": {
          "symbol": "circle"
         },
         "mode": "lines+markers",
         "name": "2020",
         "orientation": "v",
         "showlegend": true,
         "type": "scatter",
         "x": {
          "bdata": "AQAAAAIAAAADAAAABAAAAAUAAAAGAAAABwAAAAgAAAAJAAAACgAAAAsAAAAMAAAA",
          "dtype": "i4"
         },
         "xaxis": "x",
         "y": {
          "bdata": "AAAAAAAACEAAAAAAAEBQQAAAAAAAQFZAAAAAAADgWUAAAAAAAHhhQAAAAAAAwGFAAAAAAACIYUAAAAAAAABhQAAAAAAASGFAAAAAAAC4YUAAAAAAALBhQAAAAAAAUGJA",
          "dtype": "f8"
         },
         "yaxis": "y"
        },
        {
         "hovertemplate": "visit_year=2021<br>visit_month=%{x}<br>no_visits_smooth=%{y}<extra></extra>",
         "legendgroup": "2021",
         "line": {
          "color": "#00cc96",
          "dash": "solid"
         },
         "marker": {
          "symbol": "circle"
         },
         "mode": "lines+markers",
         "name": "2021",
         "orientation": "v",
         "showlegend": true,
         "type": "scatter",
         "x": {
          "bdata": "AQAAAAIAAAADAAAABAAAAAUAAAAGAAAABwAAAAgAAAAJAAAACgAAAAsAAAAMAAAA",
          "dtype": "i4"
         },
         "xaxis": "x",
         "y": {
          "bdata": "AAAAAACgZEAAAAAAACBjQAAAAAAAAGRAAAAAAADoY0AAAAAAAJhjQAAAAAAAKGRAAAAAAAAoZEAAAAAAABhlQAAAAAAA6GVAAAAAAAAgZkAAAAAAAFhnQAAAAAAAKGhA",
          "dtype": "f8"
         },
         "yaxis": "y"
        },
        {
         "hovertemplate": "visit_year=2022<br>visit_month=%{x}<br>no_visits_smooth=%{y}<extra></extra>",
         "legendgroup": "2022",
         "line": {
          "color": "#ab63fa",
          "dash": "solid"
         },
         "marker": {
          "symbol": "circle"
         },
         "mode": "lines+markers",
         "name": "2022",
         "orientation": "v",
         "showlegend": true,
         "type": "scatter",
         "x": {
          "bdata": "AQAAAAIAAAADAAAABAAAAAUAAAAGAAAABwAAAAgAAAAJAAAACgAAAAsAAAAMAAAA",
          "dtype": "i4"
         },
         "xaxis": "x",
         "y": {
          "bdata": "AAAAAABgaEAAAAAAAEBnQKuqqqqqamhAAAAAAAA4aUAAAAAAAOBpQAAAAAAAIGxAAAAAAAAYbUAAAAAAANBuQAAAAAAA2G9AAAAAAAAAcEAAAAAAADBvQAAAAAAAcG9A",
          "dtype": "f8"
         },
         "yaxis": "y"
        },
        {
         "hovertemplate": "visit_year=2023<br>visit_month=%{x}<br>no_visits_smooth=%{y}<extra></extra>",
         "legendgroup": "2023",
         "line": {
          "color": "#FFA15A",
          "dash": "solid"
         },
         "marker": {
          "symbol": "circle"
         },
         "mode": "lines+markers",
         "name": "2023",
         "orientation": "v",
         "showlegend": true,
         "type": "scatter",
         "x": {
          "bdata": "AQAAAAIAAAADAAAABAAAAAUAAAAGAAAABwAAAAgAAAAJAAAACgAAAAsAAAAMAAAA",
          "dtype": "i4"
         },
         "xaxis": "x",
         "y": {
          "bdata": "AAAAAADAbkAAAAAAADBwQFVVVVVVZXBAAAAAAABYcUAAAAAAAIByQAAAAAAA2HJAAAAAAABoc0AAAAAAABRzQAAAAAAArHNAAAAAAAD8dEAAAAAAABR2QAAAAAAARHdA",
          "dtype": "f8"
         },
         "yaxis": "y"
        },
        {
         "hovertemplate": "visit_year=2024<br>visit_month=%{x}<br>no_visits_smooth=%{y}<extra></extra>",
         "legendgroup": "2024",
         "line": {
          "color": "#19d3f3",
          "dash": "solid"
         },
         "marker": {
          "symbol": "circle"
         },
         "mode": "lines+markers",
         "name": "2024",
         "orientation": "v",
         "showlegend": true,
         "type": "scatter",
         "x": {
          "bdata": "AQAAAAIAAAADAAAABAAAAAUAAAAGAAAABwAAAAgAAAAJAAAACgAAAAsAAAAMAAAA",
          "dtype": "i4"
         },
         "xaxis": "x",
         "y": {
          "bdata": "AAAAAAAQeUAAAAAAAKB3QKuqqqqqqndAAAAAAADceUAAAAAAAFh6QAAAAAAAFHxAAAAAAACEfkAAAAAAAMx/QAAAAAAA4oBAAAAAAAAqgkAAAAAAAFCDQAAAAAAANIJA",
          "dtype": "f8"
         },
         "yaxis": "y"
        }
       ],
       "layout": {
        "legend": {
         "title": {
          "text": "visit_year"
         },
         "tracegroupgap": 0
        },
        "template": {
         "data": {
          "bar": [
           {
            "error_x": {
             "color": "#2a3f5f"
            },
            "error_y": {
             "color": "#2a3f5f"
            },
            "marker": {
             "line": {
              "color": "#E5ECF6",
              "width": 0.5
             },
             "pattern": {
              "fillmode": "overlay",
              "size": 10,
              "solidity": 0.2
             }
            },
            "type": "bar"
           }
          ],
          "barpolar": [
           {
            "marker": {
             "line": {
              "color": "#E5ECF6",
              "width": 0.5
             },
             "pattern": {
              "fillmode": "overlay",
              "size": 10,
              "solidity": 0.2
             }
            },
            "type": "barpolar"
           }
          ],
          "carpet": [
           {
            "aaxis": {
             "endlinecolor": "#2a3f5f",
             "gridcolor": "white",
             "linecolor": "white",
             "minorgridcolor": "white",
             "startlinecolor": "#2a3f5f"
            },
            "baxis": {
             "endlinecolor": "#2a3f5f",
             "gridcolor": "white",
             "linecolor": "white",
             "minorgridcolor": "white",
             "startlinecolor": "#2a3f5f"
            },
            "type": "carpet"
           }
          ],
          "choropleth": [
           {
            "colorbar": {
             "outlinewidth": 0,
             "ticks": ""
            },
            "type": "choropleth"
           }
          ],
          "contour": [
           {
            "colorbar": {
             "outlinewidth": 0,
             "ticks": ""
            },
            "colorscale": [
             [
              0,
              "#0d0887"
             ],
             [
              0.1111111111111111,
              "#46039f"
             ],
             [
              0.2222222222222222,
              "#7201a8"
             ],
             [
              0.3333333333333333,
              "#9c179e"
             ],
             [
              0.4444444444444444,
              "#bd3786"
             ],
             [
              0.5555555555555556,
              "#d8576b"
             ],
             [
              0.6666666666666666,
              "#ed7953"
             ],
             [
              0.7777777777777778,
              "#fb9f3a"
             ],
             [
              0.8888888888888888,
              "#fdca26"
             ],
             [
              1,
              "#f0f921"
             ]
            ],
            "type": "contour"
           }
          ],
          "contourcarpet": [
           {
            "colorbar": {
             "outlinewidth": 0,
             "ticks": ""
            },
            "type": "contourcarpet"
           }
          ],
          "heatmap": [
           {
            "colorbar": {
             "outlinewidth": 0,
             "ticks": ""
            },
            "colorscale": [
             [
              0,
              "#0d0887"
             ],
             [
              0.1111111111111111,
              "#46039f"
             ],
             [
              0.2222222222222222,
              "#7201a8"
             ],
             [
              0.3333333333333333,
              "#9c179e"
             ],
             [
              0.4444444444444444,
              "#bd3786"
             ],
             [
              0.5555555555555556,
              "#d8576b"
             ],
             [
              0.6666666666666666,
              "#ed7953"
             ],
             [
              0.7777777777777778,
              "#fb9f3a"
             ],
             [
              0.8888888888888888,
              "#fdca26"
             ],
             [
              1,
              "#f0f921"
             ]
            ],
            "type": "heatmap"
           }
          ],
          "histogram": [
           {
            "marker": {
             "pattern": {
              "fillmode": "overlay",
              "size": 10,
              "solidity": 0.2
             }
            },
            "type": "histogram"
           }
          ],
          "histogram2d": [
           {
            "colorbar": {
             "outlinewidth": 0,
             "ticks": ""
            },
            "colorscale": [
             [
              0,
              "#0d0887"
             ],
             [
              0.1111111111111111,
              "#46039f"
             ],
             [
              0.2222222222222222,
              "#7201a8"
             ],
             [
              0.3333333333333333,
              "#9c179e"
             ],
             [
              0.4444444444444444,
              "#bd3786"
             ],
             [
              0.5555555555555556,
              "#d8576b"
             ],
             [
              0.6666666666666666,
              "#ed7953"
             ],
             [
              0.7777777777777778,
              "#fb9f3a"
             ],
             [
              0.8888888888888888,
              "#fdca26"
             ],
             [
              1,
              "#f0f921"
             ]
            ],
            "type": "histogram2d"
           }
          ],
          "histogram2dcontour": [
           {
            "colorbar": {
             "outlinewidth": 0,
             "ticks": ""
            },
            "colorscale": [
             [
              0,
              "#0d0887"
             ],
             [
              0.1111111111111111,
              "#46039f"
             ],
             [
              0.2222222222222222,
              "#7201a8"
             ],
             [
              0.3333333333333333,
              "#9c179e"
             ],
             [
              0.4444444444444444,
              "#bd3786"
             ],
             [
              0.5555555555555556,
              "#d8576b"
             ],
             [
              0.6666666666666666,
              "#ed7953"
             ],
             [
              0.7777777777777778,
              "#fb9f3a"
             ],
             [
              0.8888888888888888,
              "#fdca26"
             ],
             [
              1,
              "#f0f921"
             ]
            ],
            "type": "histogram2dcontour"
           }
          ],
          "mesh3d": [
           {
            "colorbar": {
             "outlinewidth": 0,
             "ticks": ""
            },
            "type": "mesh3d"
           }
          ],
          "parcoords": [
           {
            "line": {
             "colorbar": {
              "outlinewidth": 0,
              "ticks": ""
             }
            },
            "type": "parcoords"
           }
          ],
          "pie": [
           {
            "automargin": true,
            "type": "pie"
           }
          ],
          "scatter": [
           {
            "fillpattern": {
             "fillmode": "overlay",
             "size": 10,
             "solidity": 0.2
            },
            "type": "scatter"
           }
          ],
          "scatter3d": [
           {
            "line": {
             "colorbar": {
              "outlinewidth": 0,
              "ticks": ""
             }
            },
            "marker": {
             "colorbar": {
              "outlinewidth": 0,
              "ticks": ""
             }
            },
            "type": "scatter3d"
           }
          ],
          "scattercarpet": [
           {
            "marker": {
             "colorbar": {
              "outlinewidth": 0,
              "ticks": ""
             }
            },
            "type": "scattercarpet"
           }
          ],
          "scattergeo": [
           {
            "marker": {
             "colorbar": {
              "outlinewidth": 0,
              "ticks": ""
             }
            },
            "type": "scattergeo"
           }
          ],
          "scattergl": [
           {
            "marker": {
             "colorbar": {
              "outlinewidth": 0,
              "ticks": ""
             }
            },
            "type": "scattergl"
           }
          ],
          "scattermap": [
           {
            "marker": {
             "colorbar": {
              "outlinewidth": 0,
              "ticks": ""
             }
            },
            "type": "scattermap"
           }
          ],
          "scattermapbox": [
           {
            "marker": {
             "colorbar": {
              "outlinewidth": 0,
              "ticks": ""
             }
            },
            "type": "scattermapbox"
           }
          ],
          "scatterpolar": [
           {
            "marker": {
             "colorbar": {
              "outlinewidth": 0,
              "ticks": ""
             }
            },
            "type": "scatterpolar"
           }
          ],
          "scatterpolargl": [
           {
            "marker": {
             "colorbar": {
              "outlinewidth": 0,
              "ticks": ""
             }
            },
            "type": "scatterpolargl"
           }
          ],
          "scatterternary": [
           {
            "marker": {
             "colorbar": {
              "outlinewidth": 0,
              "ticks": ""
             }
            },
            "type": "scatterternary"
           }
          ],
          "surface": [
           {
            "colorbar": {
             "outlinewidth": 0,
             "ticks": ""
            },
            "colorscale": [
             [
              0,
              "#0d0887"
             ],
             [
              0.1111111111111111,
              "#46039f"
             ],
             [
              0.2222222222222222,
              "#7201a8"
             ],
             [
              0.3333333333333333,
              "#9c179e"
             ],
             [
              0.4444444444444444,
              "#bd3786"
             ],
             [
              0.5555555555555556,
              "#d8576b"
             ],
             [
              0.6666666666666666,
              "#ed7953"
             ],
             [
              0.7777777777777778,
              "#fb9f3a"
             ],
             [
              0.8888888888888888,
              "#fdca26"
             ],
             [
              1,
              "#f0f921"
             ]
            ],
            "type": "surface"
           }
          ],
          "table": [
           {
            "cells": {
             "fill": {
              "color": "#EBF0F8"
             },
             "line": {
              "color": "white"
             }
            },
            "header": {
             "fill": {
              "color": "#C8D4E3"
             },
             "line": {
              "color": "white"
             }
            },
            "type": "table"
           }
          ]
         },
         "layout": {
          "annotationdefaults": {
           "arrowcolor": "#2a3f5f",
           "arrowhead": 0,
           "arrowwidth": 1
          },
          "autotypenumbers": "strict",
          "coloraxis": {
           "colorbar": {
            "outlinewidth": 0,
            "ticks": ""
           }
          },
          "colorscale": {
           "diverging": [
            [
             0,
             "#8e0152"
            ],
            [
             0.1,
             "#c51b7d"
            ],
            [
             0.2,
             "#de77ae"
            ],
            [
             0.3,
             "#f1b6da"
            ],
            [
             0.4,
             "#fde0ef"
            ],
            [
             0.5,
             "#f7f7f7"
            ],
            [
             0.6,
             "#e6f5d0"
            ],
            [
             0.7,
             "#b8e186"
            ],
            [
             0.8,
             "#7fbc41"
            ],
            [
             0.9,
             "#4d9221"
            ],
            [
             1,
             "#276419"
            ]
           ],
           "sequential": [
            [
             0,
             "#0d0887"
            ],
            [
             0.1111111111111111,
             "#46039f"
            ],
            [
             0.2222222222222222,
             "#7201a8"
            ],
            [
             0.3333333333333333,
             "#9c179e"
            ],
            [
             0.4444444444444444,
             "#bd3786"
            ],
            [
             0.5555555555555556,
             "#d8576b"
            ],
            [
             0.6666666666666666,
             "#ed7953"
            ],
            [
             0.7777777777777778,
             "#fb9f3a"
            ],
            [
             0.8888888888888888,
             "#fdca26"
            ],
            [
             1,
             "#f0f921"
            ]
           ],
           "sequentialminus": [
            [
             0,
             "#0d0887"
            ],
            [
             0.1111111111111111,
             "#46039f"
            ],
            [
             0.2222222222222222,
             "#7201a8"
            ],
            [
             0.3333333333333333,
             "#9c179e"
            ],
            [
             0.4444444444444444,
             "#bd3786"
            ],
            [
             0.5555555555555556,
             "#d8576b"
            ],
            [
             0.6666666666666666,
             "#ed7953"
            ],
            [
             0.7777777777777778,
             "#fb9f3a"
            ],
            [
             0.8888888888888888,
             "#fdca26"
            ],
            [
             1,
             "#f0f921"
            ]
           ]
          },
          "colorway": [
           "#636efa",
           "#EF553B",
           "#00cc96",
           "#ab63fa",
           "#FFA15A",
           "#19d3f3",
           "#FF6692",
           "#B6E880",
           "#FF97FF",
           "#FECB52"
          ],
          "font": {
           "color": "#2a3f5f"
          },
          "geo": {
           "bgcolor": "white",
           "lakecolor": "white",
           "landcolor": "#E5ECF6",
           "showlakes": true,
           "showland": true,
           "subunitcolor": "white"
          },
          "hoverlabel": {
           "align": "left"
          },
          "hovermode": "closest",
          "mapbox": {
           "style": "light"
          },
          "paper_bgcolor": "white",
          "plot_bgcolor": "#E5ECF6",
          "polar": {
           "angularaxis": {
            "gridcolor": "white",
            "linecolor": "white",
            "ticks": ""
           },
           "bgcolor": "#E5ECF6",
           "radialaxis": {
            "gridcolor": "white",
            "linecolor": "white",
            "ticks": ""
           }
          },
          "scene": {
           "xaxis": {
            "backgroundcolor": "#E5ECF6",
            "gridcolor": "white",
            "gridwidth": 2,
            "linecolor": "white",
            "showbackground": true,
            "ticks": "",
            "zerolinecolor": "white"
           },
           "yaxis": {
            "backgroundcolor": "#E5ECF6",
            "gridcolor": "white",
            "gridwidth": 2,
            "linecolor": "white",
            "showbackground": true,
            "ticks": "",
            "zerolinecolor": "white"
           },
           "zaxis": {
            "backgroundcolor": "#E5ECF6",
            "gridcolor": "white",
            "gridwidth": 2,
            "linecolor": "white",
            "showbackground": true,
            "ticks": "",
            "zerolinecolor": "white"
           }
          },
          "shapedefaults": {
           "line": {
            "color": "#2a3f5f"
           }
          },
          "ternary": {
           "aaxis": {
            "gridcolor": "white",
            "linecolor": "white",
            "ticks": ""
           },
           "baxis": {
            "gridcolor": "white",
            "linecolor": "white",
            "ticks": ""
           },
           "bgcolor": "#E5ECF6",
           "caxis": {
            "gridcolor": "white",
            "linecolor": "white",
            "ticks": ""
           }
          },
          "title": {
           "x": 0.05
          },
          "xaxis": {
           "automargin": true,
           "gridcolor": "white",
           "linecolor": "white",
           "ticks": "",
           "title": {
            "standoff": 15
           },
           "zerolinecolor": "white",
           "zerolinewidth": 2
          },
          "yaxis": {
           "automargin": true,
           "gridcolor": "white",
           "linecolor": "white",
           "ticks": "",
           "title": {
            "standoff": 15
           },
           "zerolinecolor": "white",
           "zerolinewidth": 2
          }
         }
        },
        "title": {
         "text": " Smoothed No visits per month per year"
        },
        "xaxis": {
         "anchor": "y",
         "domain": [
          0,
          1
         ],
         "title": {
          "text": "visit_month"
         }
        },
        "yaxis": {
         "anchor": "x",
         "domain": [
          0,
          1
         ],
         "title": {
          "text": "no_visits_smooth"
         }
        }
       }
      }
     },
     "metadata": {},
     "output_type": "display_data"
    }
   ],
   "source": [
    "visit_df['visit_year'] = visit_df['visit_date'].dt.year\n",
    "visit_df['visit_month'] = visit_df['visit_date'].dt.month\n",
    "visit_per_year = visit_df.groupby(['visit_year','visit_month']).agg(no_visits=('visit_id','count')).reset_index()\n",
    "visit_per_year['no_visits_smooth'] = visit_per_year.groupby('visit_year')['no_visits'].transform(lambda x: x.rolling(window=4, min_periods=1).mean()) #Moving Average\n",
    "\n",
    "fig10 = px.line(visit_per_year,x=\"visit_month\",y='no_visits_smooth',color=\"visit_year\",markers=True,title=\" Smoothed No visits per month per year\",\n",
    ")\n",
    "fig10.show()"
   ]
  },
  {
   "cell_type": "markdown",
   "id": "94730a90",
   "metadata": {},
   "source": [
    "## Sales Dataset"
   ]
  },
  {
   "cell_type": "markdown",
   "id": "86a23948",
   "metadata": {},
   "source": [
    "### Load & Preview Data\n"
   ]
  },
  {
   "cell_type": "code",
   "execution_count": null,
   "id": "b5922f48",
   "metadata": {},
   "outputs": [
    {
     "data": {
      "text/html": [
       "<div>\n",
       "<style scoped>\n",
       "    .dataframe tbody tr th:only-of-type {\n",
       "        vertical-align: middle;\n",
       "    }\n",
       "\n",
       "    .dataframe tbody tr th {\n",
       "        vertical-align: top;\n",
       "    }\n",
       "\n",
       "    .dataframe thead th {\n",
       "        text-align: right;\n",
       "    }\n",
       "</style>\n",
       "<table border=\"1\" class=\"dataframe\">\n",
       "  <thead>\n",
       "    <tr style=\"text-align: right;\">\n",
       "      <th></th>\n",
       "      <th>sale_id</th>\n",
       "      <th>property_id</th>\n",
       "      <th>client_id</th>\n",
       "      <th>agent_id</th>\n",
       "      <th>owner_id</th>\n",
       "      <th>sale_date</th>\n",
       "      <th>sale_amount</th>\n",
       "      <th>commission_rate</th>\n",
       "      <th>commission_amount</th>\n",
       "      <th>commission_payment_method</th>\n",
       "      <th>commission_payment_date</th>\n",
       "    </tr>\n",
       "  </thead>\n",
       "  <tbody>\n",
       "    <tr>\n",
       "      <th>0</th>\n",
       "      <td>1</td>\n",
       "      <td>662</td>\n",
       "      <td>679</td>\n",
       "      <td>107</td>\n",
       "      <td>1745</td>\n",
       "      <td>5/16/2023</td>\n",
       "      <td>886,392.38</td>\n",
       "      <td>0.05</td>\n",
       "      <td>44,319.62</td>\n",
       "      <td>Cash</td>\n",
       "      <td>9/5/2023</td>\n",
       "    </tr>\n",
       "    <tr>\n",
       "      <th>1</th>\n",
       "      <td>2</td>\n",
       "      <td>1422</td>\n",
       "      <td>2057</td>\n",
       "      <td>207</td>\n",
       "      <td>548</td>\n",
       "      <td>4/7/2022</td>\n",
       "      <td>237,485.78</td>\n",
       "      <td>0.02</td>\n",
       "      <td>4,749.72</td>\n",
       "      <td>Bank Transfer</td>\n",
       "      <td>4/25/2024</td>\n",
       "    </tr>\n",
       "    <tr>\n",
       "      <th>2</th>\n",
       "      <td>3</td>\n",
       "      <td>873</td>\n",
       "      <td>201</td>\n",
       "      <td>86</td>\n",
       "      <td>515</td>\n",
       "      <td>4/19/2023</td>\n",
       "      <td>235,812.08</td>\n",
       "      <td>0.05</td>\n",
       "      <td>11,790.6</td>\n",
       "      <td>Cash</td>\n",
       "      <td>7/4/2024</td>\n",
       "    </tr>\n",
       "    <tr>\n",
       "      <th>3</th>\n",
       "      <td>4</td>\n",
       "      <td>552</td>\n",
       "      <td>573</td>\n",
       "      <td>51</td>\n",
       "      <td>373</td>\n",
       "      <td>10/2/2024</td>\n",
       "      <td>266,874.04</td>\n",
       "      <td>0.03</td>\n",
       "      <td>8,006.22</td>\n",
       "      <td>Cash</td>\n",
       "      <td>10/30/2024</td>\n",
       "    </tr>\n",
       "    <tr>\n",
       "      <th>4</th>\n",
       "      <td>5</td>\n",
       "      <td>2020</td>\n",
       "      <td>1062</td>\n",
       "      <td>91</td>\n",
       "      <td>929</td>\n",
       "      <td>11/18/2023</td>\n",
       "      <td>156,286.92</td>\n",
       "      <td>0.02</td>\n",
       "      <td>3,125.74</td>\n",
       "      <td>Bank Transfer</td>\n",
       "      <td>2/24/2024</td>\n",
       "    </tr>\n",
       "  </tbody>\n",
       "</table>\n",
       "</div>"
      ],
      "text/plain": [
       "   sale_id  property_id  client_id  agent_id  owner_id   sale_date  \\\n",
       "0        1          662        679       107      1745   5/16/2023   \n",
       "1        2         1422       2057       207       548    4/7/2022   \n",
       "2        3          873        201        86       515   4/19/2023   \n",
       "3        4          552        573        51       373   10/2/2024   \n",
       "4        5         2020       1062        91       929  11/18/2023   \n",
       "\n",
       "   sale_amount  commission_rate  commission_amount commission_payment_method  \\\n",
       "0   886,392.38             0.05          44,319.62                      Cash   \n",
       "1   237,485.78             0.02           4,749.72             Bank Transfer   \n",
       "2   235,812.08             0.05           11,790.6                      Cash   \n",
       "3   266,874.04             0.03           8,006.22                      Cash   \n",
       "4   156,286.92             0.02           3,125.74             Bank Transfer   \n",
       "\n",
       "  commission_payment_date  \n",
       "0                9/5/2023  \n",
       "1               4/25/2024  \n",
       "2                7/4/2024  \n",
       "3              10/30/2024  \n",
       "4               2/24/2024  "
      ]
     },
     "execution_count": 72,
     "metadata": {},
     "output_type": "execute_result"
    }
   ],
   "source": [
    "sales_df = pd.read_csv(r\"sales.csv\")\n",
    "sales_df.head()"
   ]
  },
  {
   "cell_type": "code",
   "execution_count": 73,
   "id": "fd375daf",
   "metadata": {},
   "outputs": [
    {
     "name": "stdout",
     "output_type": "stream",
     "text": [
      "<class 'pandas.core.frame.DataFrame'>\n",
      "RangeIndex: 1645 entries, 0 to 1644\n",
      "Data columns (total 11 columns):\n",
      " #   Column                     Non-Null Count  Dtype  \n",
      "---  ------                     --------------  -----  \n",
      " 0   sale_id                    1645 non-null   int64  \n",
      " 1   property_id                1645 non-null   int64  \n",
      " 2   client_id                  1645 non-null   int64  \n",
      " 3   agent_id                   1645 non-null   int64  \n",
      " 4   owner_id                   1645 non-null   int64  \n",
      " 5   sale_date                  1645 non-null   object \n",
      " 6   sale_amount                1645 non-null   float64\n",
      " 7   commission_rate            1645 non-null   float64\n",
      " 8   commission_amount          1641 non-null   float64\n",
      " 9   commission_payment_method  1645 non-null   object \n",
      " 10  commission_payment_date    1645 non-null   object \n",
      "dtypes: float64(3), int64(5), object(3)\n",
      "memory usage: 141.5+ KB\n"
     ]
    }
   ],
   "source": [
    "sales_df.info()"
   ]
  },
  {
   "cell_type": "code",
   "execution_count": 74,
   "id": "375904aa",
   "metadata": {},
   "outputs": [
    {
     "data": {
      "text/plain": [
       "np.int64(0)"
      ]
     },
     "execution_count": 74,
     "metadata": {},
     "output_type": "execute_result"
    }
   ],
   "source": [
    "sales_df.duplicated().sum()"
   ]
  },
  {
   "cell_type": "code",
   "execution_count": 75,
   "id": "1b65d0e9",
   "metadata": {},
   "outputs": [
    {
     "data": {
      "text/plain": [
       "'\\n fill null in commission_amount which are drivied from commission_rate * sale_amount.\\n change datatypes.\\n'"
      ]
     },
     "execution_count": 75,
     "metadata": {},
     "output_type": "execute_result"
    }
   ],
   "source": [
    "\"\"\"\n",
    " fill null in commission_amount which are drivied from commission_rate * sale_amount.\n",
    " change datatypes.\n",
    "\"\"\""
   ]
  },
  {
   "cell_type": "markdown",
   "id": "73cea4ad",
   "metadata": {},
   "source": [
    "### Data Cleaning\n"
   ]
  },
  {
   "cell_type": "code",
   "execution_count": 76,
   "id": "df359d85",
   "metadata": {},
   "outputs": [],
   "source": [
    "sales_df[\"sale_date\"]=pd.to_datetime(sales_df[\"sale_date\"])\n",
    "sales_df[\"commission_payment_date\"]=pd.to_datetime(sales_df[\"commission_payment_date\"])"
   ]
  },
  {
   "cell_type": "code",
   "execution_count": 77,
   "id": "e0735350",
   "metadata": {},
   "outputs": [
    {
     "name": "stderr",
     "output_type": "stream",
     "text": [
      "C:\\Users\\Computec\\AppData\\Local\\Temp\\ipykernel_7940\\726580908.py:1: FutureWarning:\n",
      "\n",
      "A value is trying to be set on a copy of a DataFrame or Series through chained assignment using an inplace method.\n",
      "The behavior will change in pandas 3.0. This inplace method will never work because the intermediate object on which we are setting values always behaves as a copy.\n",
      "\n",
      "For example, when doing 'df[col].method(value, inplace=True)', try using 'df.method({col: value}, inplace=True)' or df[col] = df[col].method(value) instead, to perform the operation inplace on the original object.\n",
      "\n",
      "\n",
      "\n"
     ]
    }
   ],
   "source": [
    "sales_df[\"commission_amount\"].fillna((sales_df[\"sale_amount\"]*sales_df[\"commission_rate\"]),inplace=True)"
   ]
  },
  {
   "cell_type": "code",
   "execution_count": 78,
   "id": "a9ff9ea6",
   "metadata": {},
   "outputs": [
    {
     "name": "stdout",
     "output_type": "stream",
     "text": [
      "<class 'pandas.core.frame.DataFrame'>\n",
      "RangeIndex: 1645 entries, 0 to 1644\n",
      "Data columns (total 11 columns):\n",
      " #   Column                     Non-Null Count  Dtype         \n",
      "---  ------                     --------------  -----         \n",
      " 0   sale_id                    1645 non-null   int64         \n",
      " 1   property_id                1645 non-null   int64         \n",
      " 2   client_id                  1645 non-null   int64         \n",
      " 3   agent_id                   1645 non-null   int64         \n",
      " 4   owner_id                   1645 non-null   int64         \n",
      " 5   sale_date                  1645 non-null   datetime64[ns]\n",
      " 6   sale_amount                1645 non-null   float64       \n",
      " 7   commission_rate            1645 non-null   float64       \n",
      " 8   commission_amount          1645 non-null   float64       \n",
      " 9   commission_payment_method  1645 non-null   object        \n",
      " 10  commission_payment_date    1645 non-null   datetime64[ns]\n",
      "dtypes: datetime64[ns](2), float64(3), int64(5), object(1)\n",
      "memory usage: 141.5+ KB\n"
     ]
    }
   ],
   "source": [
    "sales_df.info()"
   ]
  },
  {
   "cell_type": "code",
   "execution_count": 79,
   "id": "2f02cdf0",
   "metadata": {},
   "outputs": [],
   "source": [
    "sales_df.to_csv(\"sales_clean.csv\",index=False)"
   ]
  },
  {
   "cell_type": "markdown",
   "id": "62c109e9",
   "metadata": {},
   "source": [
    "### Descriptive Statistics & Group Insights"
   ]
  },
  {
   "cell_type": "code",
   "execution_count": 80,
   "id": "9c86ab7f",
   "metadata": {},
   "outputs": [
    {
     "data": {
      "text/html": [
       "<div>\n",
       "<style scoped>\n",
       "    .dataframe tbody tr th:only-of-type {\n",
       "        vertical-align: middle;\n",
       "    }\n",
       "\n",
       "    .dataframe tbody tr th {\n",
       "        vertical-align: top;\n",
       "    }\n",
       "\n",
       "    .dataframe thead th {\n",
       "        text-align: right;\n",
       "    }\n",
       "</style>\n",
       "<table border=\"1\" class=\"dataframe\">\n",
       "  <thead>\n",
       "    <tr style=\"text-align: right;\">\n",
       "      <th></th>\n",
       "      <th>sale_id</th>\n",
       "      <th>property_id</th>\n",
       "      <th>client_id</th>\n",
       "      <th>agent_id</th>\n",
       "      <th>owner_id</th>\n",
       "      <th>sale_date</th>\n",
       "      <th>sale_amount</th>\n",
       "      <th>commission_rate</th>\n",
       "      <th>commission_amount</th>\n",
       "      <th>commission_payment_method</th>\n",
       "      <th>commission_payment_date</th>\n",
       "    </tr>\n",
       "  </thead>\n",
       "  <tbody>\n",
       "    <tr>\n",
       "      <th>count</th>\n",
       "      <td>1,645.0</td>\n",
       "      <td>1,645.0</td>\n",
       "      <td>1,645.0</td>\n",
       "      <td>1,645.0</td>\n",
       "      <td>1,645.0</td>\n",
       "      <td>1645</td>\n",
       "      <td>1,645.0</td>\n",
       "      <td>1,645.0</td>\n",
       "      <td>1,645.0</td>\n",
       "      <td>1645</td>\n",
       "      <td>1645</td>\n",
       "    </tr>\n",
       "    <tr>\n",
       "      <th>unique</th>\n",
       "      <td>NaN</td>\n",
       "      <td>NaN</td>\n",
       "      <td>NaN</td>\n",
       "      <td>NaN</td>\n",
       "      <td>NaN</td>\n",
       "      <td>NaN</td>\n",
       "      <td>NaN</td>\n",
       "      <td>NaN</td>\n",
       "      <td>NaN</td>\n",
       "      <td>3</td>\n",
       "      <td>NaN</td>\n",
       "    </tr>\n",
       "    <tr>\n",
       "      <th>top</th>\n",
       "      <td>NaN</td>\n",
       "      <td>NaN</td>\n",
       "      <td>NaN</td>\n",
       "      <td>NaN</td>\n",
       "      <td>NaN</td>\n",
       "      <td>NaN</td>\n",
       "      <td>NaN</td>\n",
       "      <td>NaN</td>\n",
       "      <td>NaN</td>\n",
       "      <td>Bank Transfer</td>\n",
       "      <td>NaN</td>\n",
       "    </tr>\n",
       "    <tr>\n",
       "      <th>freq</th>\n",
       "      <td>NaN</td>\n",
       "      <td>NaN</td>\n",
       "      <td>NaN</td>\n",
       "      <td>NaN</td>\n",
       "      <td>NaN</td>\n",
       "      <td>NaN</td>\n",
       "      <td>NaN</td>\n",
       "      <td>NaN</td>\n",
       "      <td>NaN</td>\n",
       "      <td>570</td>\n",
       "      <td>NaN</td>\n",
       "    </tr>\n",
       "    <tr>\n",
       "      <th>mean</th>\n",
       "      <td>823.0</td>\n",
       "      <td>1,505.5410334346504</td>\n",
       "      <td>1,034.0784194528876</td>\n",
       "      <td>133.609726443769</td>\n",
       "      <td>883.8273556231003</td>\n",
       "      <td>2023-10-01 08:50:28.814589696</td>\n",
       "      <td>466,658.2416838905</td>\n",
       "      <td>0.0328693009118541</td>\n",
       "      <td>15,554.576782917933</td>\n",
       "      <td>NaN</td>\n",
       "      <td>2024-05-22 00:06:07.659574528</td>\n",
       "    </tr>\n",
       "    <tr>\n",
       "      <th>min</th>\n",
       "      <td>1.0</td>\n",
       "      <td>1.0</td>\n",
       "      <td>2.0</td>\n",
       "      <td>1.0</td>\n",
       "      <td>1.0</td>\n",
       "      <td>2020-02-02 00:00:00</td>\n",
       "      <td>76,107.66</td>\n",
       "      <td>0.02</td>\n",
       "      <td>1,574.02</td>\n",
       "      <td>NaN</td>\n",
       "      <td>2020-07-13 00:00:00</td>\n",
       "    </tr>\n",
       "    <tr>\n",
       "      <th>25%</th>\n",
       "      <td>412.0</td>\n",
       "      <td>750.0</td>\n",
       "      <td>525.0</td>\n",
       "      <td>69.0</td>\n",
       "      <td>422.0</td>\n",
       "      <td>2023-02-13 00:00:00</td>\n",
       "      <td>193,961.93</td>\n",
       "      <td>0.02</td>\n",
       "      <td>5,479.79</td>\n",
       "      <td>NaN</td>\n",
       "      <td>2024-02-21 00:00:00</td>\n",
       "    </tr>\n",
       "    <tr>\n",
       "      <th>50%</th>\n",
       "      <td>823.0</td>\n",
       "      <td>1,511.0</td>\n",
       "      <td>1,035.0</td>\n",
       "      <td>134.0</td>\n",
       "      <td>899.0</td>\n",
       "      <td>2024-01-25 00:00:00</td>\n",
       "      <td>286,719.09</td>\n",
       "      <td>0.03</td>\n",
       "      <td>9,629.85</td>\n",
       "      <td>NaN</td>\n",
       "      <td>2024-09-02 00:00:00</td>\n",
       "    </tr>\n",
       "    <tr>\n",
       "      <th>75%</th>\n",
       "      <td>1,234.0</td>\n",
       "      <td>2,279.0</td>\n",
       "      <td>1,550.0</td>\n",
       "      <td>207.0</td>\n",
       "      <td>1,341.0</td>\n",
       "      <td>2024-08-21 00:00:00</td>\n",
       "      <td>635,458.41</td>\n",
       "      <td>0.05</td>\n",
       "      <td>20,067.99</td>\n",
       "      <td>NaN</td>\n",
       "      <td>2024-11-22 00:00:00</td>\n",
       "    </tr>\n",
       "    <tr>\n",
       "      <th>max</th>\n",
       "      <td>1,645.0</td>\n",
       "      <td>3,000.0</td>\n",
       "      <td>2,059.0</td>\n",
       "      <td>249.0</td>\n",
       "      <td>1,755.0</td>\n",
       "      <td>2024-12-30 00:00:00</td>\n",
       "      <td>2,186,056.02</td>\n",
       "      <td>0.05</td>\n",
       "      <td>98,085.36</td>\n",
       "      <td>NaN</td>\n",
       "      <td>2024-12-30 00:00:00</td>\n",
       "    </tr>\n",
       "    <tr>\n",
       "      <th>std</th>\n",
       "      <td>475.014912046629</td>\n",
       "      <td>872.0035695758052</td>\n",
       "      <td>591.2048611822963</td>\n",
       "      <td>74.76198015454302</td>\n",
       "      <td>515.1082735077447</td>\n",
       "      <td>NaN</td>\n",
       "      <td>389,864.08738981985</td>\n",
       "      <td>0.01236255087142987</td>\n",
       "      <td>15,361.191190201229</td>\n",
       "      <td>NaN</td>\n",
       "      <td>NaN</td>\n",
       "    </tr>\n",
       "  </tbody>\n",
       "</table>\n",
       "</div>"
      ],
      "text/plain": [
       "                sale_id         property_id           client_id  \\\n",
       "count           1,645.0             1,645.0             1,645.0   \n",
       "unique              NaN                 NaN                 NaN   \n",
       "top                 NaN                 NaN                 NaN   \n",
       "freq                NaN                 NaN                 NaN   \n",
       "mean              823.0 1,505.5410334346504 1,034.0784194528876   \n",
       "min                 1.0                 1.0                 2.0   \n",
       "25%               412.0               750.0               525.0   \n",
       "50%               823.0             1,511.0             1,035.0   \n",
       "75%             1,234.0             2,279.0             1,550.0   \n",
       "max             1,645.0             3,000.0             2,059.0   \n",
       "std    475.014912046629   872.0035695758052   591.2048611822963   \n",
       "\n",
       "                agent_id          owner_id                      sale_date  \\\n",
       "count            1,645.0           1,645.0                           1645   \n",
       "unique               NaN               NaN                            NaN   \n",
       "top                  NaN               NaN                            NaN   \n",
       "freq                 NaN               NaN                            NaN   \n",
       "mean    133.609726443769 883.8273556231003  2023-10-01 08:50:28.814589696   \n",
       "min                  1.0               1.0            2020-02-02 00:00:00   \n",
       "25%                 69.0             422.0            2023-02-13 00:00:00   \n",
       "50%                134.0             899.0            2024-01-25 00:00:00   \n",
       "75%                207.0           1,341.0            2024-08-21 00:00:00   \n",
       "max                249.0           1,755.0            2024-12-30 00:00:00   \n",
       "std    74.76198015454302 515.1082735077447                            NaN   \n",
       "\n",
       "               sale_amount     commission_rate   commission_amount  \\\n",
       "count              1,645.0             1,645.0             1,645.0   \n",
       "unique                 NaN                 NaN                 NaN   \n",
       "top                    NaN                 NaN                 NaN   \n",
       "freq                   NaN                 NaN                 NaN   \n",
       "mean    466,658.2416838905  0.0328693009118541 15,554.576782917933   \n",
       "min              76,107.66                0.02            1,574.02   \n",
       "25%             193,961.93                0.02            5,479.79   \n",
       "50%             286,719.09                0.03            9,629.85   \n",
       "75%             635,458.41                0.05           20,067.99   \n",
       "max           2,186,056.02                0.05           98,085.36   \n",
       "std    389,864.08738981985 0.01236255087142987 15,361.191190201229   \n",
       "\n",
       "       commission_payment_method        commission_payment_date  \n",
       "count                       1645                           1645  \n",
       "unique                         3                            NaN  \n",
       "top                Bank Transfer                            NaN  \n",
       "freq                         570                            NaN  \n",
       "mean                         NaN  2024-05-22 00:06:07.659574528  \n",
       "min                          NaN            2020-07-13 00:00:00  \n",
       "25%                          NaN            2024-02-21 00:00:00  \n",
       "50%                          NaN            2024-09-02 00:00:00  \n",
       "75%                          NaN            2024-11-22 00:00:00  \n",
       "max                          NaN            2024-12-30 00:00:00  \n",
       "std                          NaN                            NaN  "
      ]
     },
     "execution_count": 80,
     "metadata": {},
     "output_type": "execute_result"
    }
   ],
   "source": [
    "sales_df.describe(include=\"all\")"
   ]
  },
  {
   "cell_type": "code",
   "execution_count": 81,
   "id": "7070898d",
   "metadata": {},
   "outputs": [
    {
     "data": {
      "text/plain": [
       "commission_payment_method\n",
       "Bank Transfer    570\n",
       "Cash             539\n",
       "Check            536\n",
       "Name: count, dtype: int64"
      ]
     },
     "execution_count": 81,
     "metadata": {},
     "output_type": "execute_result"
    }
   ],
   "source": [
    "sales_df[\"commission_payment_method\"].value_counts()"
   ]
  },
  {
   "cell_type": "code",
   "execution_count": 82,
   "id": "a533b4fc",
   "metadata": {},
   "outputs": [
    {
     "data": {
      "text/plain": [
       "'\\n1,645 sales from 2020 to 2024 with avg price 286,719.092 and avg commission rate 0.03\\nmostely payed through Bank Transfer  \\n\\n'"
      ]
     },
     "execution_count": 82,
     "metadata": {},
     "output_type": "execute_result"
    }
   ],
   "source": [
    "\"\"\"\n",
    "1,645 sales from 2020 to 2024 with avg price 286,719.092 and avg commission rate 0.03\n",
    "mostely payed through Bank Transfer  \n",
    "\n",
    "\"\"\""
   ]
  },
  {
   "cell_type": "markdown",
   "id": "467b6e8a",
   "metadata": {},
   "source": [
    "## Rent & Contracts Dataset"
   ]
  },
  {
   "cell_type": "markdown",
   "id": "7e674a26",
   "metadata": {},
   "source": [
    "### Load & Preview Rent Data"
   ]
  },
  {
   "cell_type": "code",
   "execution_count": null,
   "id": "a116befa",
   "metadata": {},
   "outputs": [
    {
     "data": {
      "text/html": [
       "<div>\n",
       "<style scoped>\n",
       "    .dataframe tbody tr th:only-of-type {\n",
       "        vertical-align: middle;\n",
       "    }\n",
       "\n",
       "    .dataframe tbody tr th {\n",
       "        vertical-align: top;\n",
       "    }\n",
       "\n",
       "    .dataframe thead th {\n",
       "        text-align: right;\n",
       "    }\n",
       "</style>\n",
       "<table border=\"1\" class=\"dataframe\">\n",
       "  <thead>\n",
       "    <tr style=\"text-align: right;\">\n",
       "      <th></th>\n",
       "      <th>rent_id</th>\n",
       "      <th>property_id</th>\n",
       "      <th>client_id</th>\n",
       "      <th>agent_id</th>\n",
       "      <th>owner_id</th>\n",
       "      <th>rent_amount</th>\n",
       "      <th>commission_rate</th>\n",
       "      <th>commission_amount</th>\n",
       "      <th>commission_payment_method</th>\n",
       "      <th>commission_payment_date</th>\n",
       "    </tr>\n",
       "  </thead>\n",
       "  <tbody>\n",
       "    <tr>\n",
       "      <th>0</th>\n",
       "      <td>1</td>\n",
       "      <td>107</td>\n",
       "      <td>794</td>\n",
       "      <td>240</td>\n",
       "      <td>1020</td>\n",
       "      <td>4,230.0</td>\n",
       "      <td>0.1</td>\n",
       "      <td>10,575.0</td>\n",
       "      <td>Credit Card</td>\n",
       "      <td>4/25/2024</td>\n",
       "    </tr>\n",
       "    <tr>\n",
       "      <th>1</th>\n",
       "      <td>2</td>\n",
       "      <td>2402</td>\n",
       "      <td>1075</td>\n",
       "      <td>84</td>\n",
       "      <td>755</td>\n",
       "      <td>2,640.0</td>\n",
       "      <td>0.1</td>\n",
       "      <td>3,960.0</td>\n",
       "      <td>Cash</td>\n",
       "      <td>11/27/2024</td>\n",
       "    </tr>\n",
       "    <tr>\n",
       "      <th>2</th>\n",
       "      <td>3</td>\n",
       "      <td>1112</td>\n",
       "      <td>1043</td>\n",
       "      <td>36</td>\n",
       "      <td>552</td>\n",
       "      <td>5,120.0</td>\n",
       "      <td>0.05</td>\n",
       "      <td>2,560.0</td>\n",
       "      <td>Credit Card</td>\n",
       "      <td>11/24/2024</td>\n",
       "    </tr>\n",
       "    <tr>\n",
       "      <th>3</th>\n",
       "      <td>4</td>\n",
       "      <td>2439</td>\n",
       "      <td>62</td>\n",
       "      <td>44</td>\n",
       "      <td>869</td>\n",
       "      <td>1,660.0</td>\n",
       "      <td>0.05</td>\n",
       "      <td>1,660.0</td>\n",
       "      <td>Cash</td>\n",
       "      <td>3/6/2024</td>\n",
       "    </tr>\n",
       "    <tr>\n",
       "      <th>4</th>\n",
       "      <td>5</td>\n",
       "      <td>2007</td>\n",
       "      <td>1582</td>\n",
       "      <td>162</td>\n",
       "      <td>1422</td>\n",
       "      <td>3,980.0</td>\n",
       "      <td>0.1</td>\n",
       "      <td>2,388.0</td>\n",
       "      <td>Bank Transfer</td>\n",
       "      <td>9/4/2024</td>\n",
       "    </tr>\n",
       "  </tbody>\n",
       "</table>\n",
       "</div>"
      ],
      "text/plain": [
       "   rent_id  property_id  client_id  agent_id  owner_id  rent_amount  \\\n",
       "0        1          107        794       240      1020      4,230.0   \n",
       "1        2         2402       1075        84       755      2,640.0   \n",
       "2        3         1112       1043        36       552      5,120.0   \n",
       "3        4         2439         62        44       869      1,660.0   \n",
       "4        5         2007       1582       162      1422      3,980.0   \n",
       "\n",
       "   commission_rate  commission_amount commission_payment_method  \\\n",
       "0              0.1           10,575.0               Credit Card   \n",
       "1              0.1            3,960.0                      Cash   \n",
       "2             0.05            2,560.0               Credit Card   \n",
       "3             0.05            1,660.0                      Cash   \n",
       "4              0.1            2,388.0             Bank Transfer   \n",
       "\n",
       "  commission_payment_date  \n",
       "0               4/25/2024  \n",
       "1              11/27/2024  \n",
       "2              11/24/2024  \n",
       "3                3/6/2024  \n",
       "4                9/4/2024  "
      ]
     },
     "execution_count": 83,
     "metadata": {},
     "output_type": "execute_result"
    }
   ],
   "source": [
    "rent_df= pd.read_csv(r\"rents.csv\")\n",
    "rent_df.head()"
   ]
  },
  {
   "cell_type": "code",
   "execution_count": 84,
   "id": "df9e7598",
   "metadata": {},
   "outputs": [
    {
     "name": "stdout",
     "output_type": "stream",
     "text": [
      "<class 'pandas.core.frame.DataFrame'>\n",
      "RangeIndex: 1355 entries, 0 to 1354\n",
      "Data columns (total 10 columns):\n",
      " #   Column                     Non-Null Count  Dtype  \n",
      "---  ------                     --------------  -----  \n",
      " 0   rent_id                    1355 non-null   int64  \n",
      " 1   property_id                1355 non-null   int64  \n",
      " 2   client_id                  1355 non-null   int64  \n",
      " 3   agent_id                   1355 non-null   int64  \n",
      " 4   owner_id                   1355 non-null   int64  \n",
      " 5   rent_amount                1345 non-null   float64\n",
      " 6   commission_rate            1355 non-null   float64\n",
      " 7   commission_amount          1355 non-null   float64\n",
      " 8   commission_payment_method  1355 non-null   object \n",
      " 9   commission_payment_date    1355 non-null   object \n",
      "dtypes: float64(3), int64(5), object(2)\n",
      "memory usage: 106.0+ KB\n"
     ]
    }
   ],
   "source": [
    "rent_df.info()"
   ]
  },
  {
   "cell_type": "code",
   "execution_count": 85,
   "id": "8f4739c1",
   "metadata": {},
   "outputs": [
    {
     "data": {
      "text/plain": [
       "np.int64(0)"
      ]
     },
     "execution_count": 85,
     "metadata": {},
     "output_type": "execute_result"
    }
   ],
   "source": [
    "rent_df.duplicated().sum()"
   ]
  },
  {
   "cell_type": "code",
   "execution_count": 86,
   "id": "e35e8ac2",
   "metadata": {},
   "outputs": [
    {
     "name": "stderr",
     "output_type": "stream",
     "text": [
      "<>:2: SyntaxWarning:\n",
      "\n",
      "invalid escape sequence '\\ '\n",
      "\n",
      "<>:2: SyntaxWarning:\n",
      "\n",
      "invalid escape sequence '\\ '\n",
      "\n",
      "C:\\Users\\Computec\\AppData\\Local\\Temp\\ipykernel_7940\\1782560828.py:2: SyntaxWarning:\n",
      "\n",
      "invalid escape sequence '\\ '\n",
      "\n"
     ]
    },
    {
     "data": {
      "text/plain": [
       "'\\n fill null in rent_amount which are drivied from commission_amount \\\\ commission_rate * no month\\n change datatypes.\\n'"
      ]
     },
     "execution_count": 86,
     "metadata": {},
     "output_type": "execute_result"
    }
   ],
   "source": [
    "\"\"\"\n",
    " fill null in rent_amount which are drivied from commission_amount \\ commission_rate * no month\n",
    " change datatypes.\n",
    "\"\"\""
   ]
  },
  {
   "cell_type": "markdown",
   "id": "3a1e6e7c",
   "metadata": {},
   "source": [
    "### Load & Preview Contracts  Data"
   ]
  },
  {
   "cell_type": "code",
   "execution_count": null,
   "id": "fe49a26b",
   "metadata": {},
   "outputs": [
    {
     "data": {
      "text/html": [
       "<div>\n",
       "<style scoped>\n",
       "    .dataframe tbody tr th:only-of-type {\n",
       "        vertical-align: middle;\n",
       "    }\n",
       "\n",
       "    .dataframe tbody tr th {\n",
       "        vertical-align: top;\n",
       "    }\n",
       "\n",
       "    .dataframe thead th {\n",
       "        text-align: right;\n",
       "    }\n",
       "</style>\n",
       "<table border=\"1\" class=\"dataframe\">\n",
       "  <thead>\n",
       "    <tr style=\"text-align: right;\">\n",
       "      <th></th>\n",
       "      <th>rent_id</th>\n",
       "      <th>agreement_date</th>\n",
       "      <th>rent_start_date</th>\n",
       "      <th>rent_end_date</th>\n",
       "      <th>terms</th>\n",
       "    </tr>\n",
       "  </thead>\n",
       "  <tbody>\n",
       "    <tr>\n",
       "      <th>0</th>\n",
       "      <td>1</td>\n",
       "      <td>3/1/2023</td>\n",
       "      <td>3/21/2023</td>\n",
       "      <td>4/9/2025</td>\n",
       "      <td>Lease agreement for Office in TX for 25 months...</td>\n",
       "    </tr>\n",
       "    <tr>\n",
       "      <th>1</th>\n",
       "      <td>2</td>\n",
       "      <td>11/21/2024</td>\n",
       "      <td>11/24/2024</td>\n",
       "      <td>2/17/2026</td>\n",
       "      <td>Lease agreement for Apartment in FL for 15 mon...</td>\n",
       "    </tr>\n",
       "    <tr>\n",
       "      <th>2</th>\n",
       "      <td>3</td>\n",
       "      <td>3/19/2023</td>\n",
       "      <td>3/21/2023</td>\n",
       "      <td>1/15/2024</td>\n",
       "      <td>Lease agreement for House in TX for 10 months....</td>\n",
       "    </tr>\n",
       "    <tr>\n",
       "      <th>3</th>\n",
       "      <td>4</td>\n",
       "      <td>4/9/2021</td>\n",
       "      <td>4/28/2021</td>\n",
       "      <td>12/19/2022</td>\n",
       "      <td>Lease agreement for Apartment in TX for 20 mon...</td>\n",
       "    </tr>\n",
       "    <tr>\n",
       "      <th>4</th>\n",
       "      <td>5</td>\n",
       "      <td>12/25/2021</td>\n",
       "      <td>12/31/2021</td>\n",
       "      <td>6/29/2022</td>\n",
       "      <td>Lease agreement for Office in CA for 6 months....</td>\n",
       "    </tr>\n",
       "  </tbody>\n",
       "</table>\n",
       "</div>"
      ],
      "text/plain": [
       "   rent_id agreement_date rent_start_date rent_end_date  \\\n",
       "0        1       3/1/2023       3/21/2023      4/9/2025   \n",
       "1        2     11/21/2024      11/24/2024     2/17/2026   \n",
       "2        3      3/19/2023       3/21/2023     1/15/2024   \n",
       "3        4       4/9/2021       4/28/2021    12/19/2022   \n",
       "4        5     12/25/2021      12/31/2021     6/29/2022   \n",
       "\n",
       "                                               terms  \n",
       "0  Lease agreement for Office in TX for 25 months...  \n",
       "1  Lease agreement for Apartment in FL for 15 mon...  \n",
       "2  Lease agreement for House in TX for 10 months....  \n",
       "3  Lease agreement for Apartment in TX for 20 mon...  \n",
       "4  Lease agreement for Office in CA for 6 months....  "
      ]
     },
     "execution_count": 87,
     "metadata": {},
     "output_type": "execute_result"
    }
   ],
   "source": [
    "cnt_df = pd.read_csv(r\"rent_contracts.csv\")\n",
    "cnt_df.head()"
   ]
  },
  {
   "cell_type": "code",
   "execution_count": 88,
   "id": "29093e0c",
   "metadata": {},
   "outputs": [
    {
     "name": "stdout",
     "output_type": "stream",
     "text": [
      "<class 'pandas.core.frame.DataFrame'>\n",
      "RangeIndex: 1355 entries, 0 to 1354\n",
      "Data columns (total 5 columns):\n",
      " #   Column           Non-Null Count  Dtype \n",
      "---  ------           --------------  ----- \n",
      " 0   rent_id          1355 non-null   int64 \n",
      " 1   agreement_date   1355 non-null   object\n",
      " 2   rent_start_date  1355 non-null   object\n",
      " 3   rent_end_date    1355 non-null   object\n",
      " 4   terms            1355 non-null   object\n",
      "dtypes: int64(1), object(4)\n",
      "memory usage: 53.1+ KB\n"
     ]
    }
   ],
   "source": [
    "cnt_df.info()"
   ]
  },
  {
   "cell_type": "code",
   "execution_count": 89,
   "id": "a6a6e662",
   "metadata": {},
   "outputs": [
    {
     "data": {
      "text/plain": [
       "np.int64(0)"
      ]
     },
     "execution_count": 89,
     "metadata": {},
     "output_type": "execute_result"
    }
   ],
   "source": [
    "cnt_df.duplicated().sum()"
   ]
  },
  {
   "cell_type": "code",
   "execution_count": 90,
   "id": "495e8be7",
   "metadata": {},
   "outputs": [
    {
     "data": {
      "text/plain": [
       "'\\n change datatypes \\n'"
      ]
     },
     "execution_count": 90,
     "metadata": {},
     "output_type": "execute_result"
    }
   ],
   "source": [
    "\"\"\"\n",
    " change datatypes \n",
    "\"\"\""
   ]
  },
  {
   "cell_type": "markdown",
   "id": "c6856174",
   "metadata": {},
   "source": [
    "### Data Cleaning"
   ]
  },
  {
   "cell_type": "code",
   "execution_count": 91,
   "id": "c27f08b1",
   "metadata": {},
   "outputs": [],
   "source": [
    "rent_df[\"commission_payment_date\"]=pd.to_datetime(rent_df[\"commission_payment_date\"])"
   ]
  },
  {
   "cell_type": "code",
   "execution_count": 92,
   "id": "d0960011",
   "metadata": {},
   "outputs": [],
   "source": [
    "cnt_df[\"rent_start_date\"]=pd.to_datetime(cnt_df[\"rent_start_date\"])\n",
    "cnt_df[\"rent_end_date\"]=pd.to_datetime(cnt_df[\"rent_end_date\"])\n"
   ]
  },
  {
   "cell_type": "code",
   "execution_count": 93,
   "id": "7ef42303",
   "metadata": {},
   "outputs": [
    {
     "name": "stdout",
     "output_type": "stream",
     "text": [
      "<class 'pandas.core.frame.DataFrame'>\n",
      "RangeIndex: 1355 entries, 0 to 1354\n",
      "Data columns (total 14 columns):\n",
      " #   Column                     Non-Null Count  Dtype         \n",
      "---  ------                     --------------  -----         \n",
      " 0   rent_id                    1355 non-null   int64         \n",
      " 1   property_id                1355 non-null   int64         \n",
      " 2   client_id                  1355 non-null   int64         \n",
      " 3   agent_id                   1355 non-null   int64         \n",
      " 4   owner_id                   1355 non-null   int64         \n",
      " 5   rent_amount                1345 non-null   float64       \n",
      " 6   commission_rate            1355 non-null   float64       \n",
      " 7   commission_amount          1355 non-null   float64       \n",
      " 8   commission_payment_method  1355 non-null   object        \n",
      " 9   commission_payment_date    1355 non-null   datetime64[ns]\n",
      " 10  agreement_date             1355 non-null   object        \n",
      " 11  rent_start_date            1355 non-null   datetime64[ns]\n",
      " 12  rent_end_date              1355 non-null   datetime64[ns]\n",
      " 13  terms                      1355 non-null   object        \n",
      "dtypes: datetime64[ns](3), float64(3), int64(5), object(3)\n",
      "memory usage: 148.3+ KB\n"
     ]
    }
   ],
   "source": [
    "Rent_Transaction_df = rent_df.merge(cnt_df, on=\"rent_id\", how=\"left\")\n",
    "Rent_Transaction_df.info()"
   ]
  },
  {
   "cell_type": "code",
   "execution_count": 94,
   "id": "db6b264b",
   "metadata": {},
   "outputs": [],
   "source": [
    "Rent_Transaction_df[\"rent_months\"] = (\n",
    "                                     ((Rent_Transaction_df[\"rent_end_date\"].dt.year - Rent_Transaction_df[\"rent_start_date\"].dt.year ) * 12) \n",
    "                                        + (Rent_Transaction_df[\"rent_end_date\"].dt.month  - Rent_Transaction_df[\"rent_start_date\"].dt.month)\n",
    "                                       + np.where(\n",
    "                                             Rent_Transaction_df[\"rent_end_date\"].dt.day >= Rent_Transaction_df[\"rent_start_date\"].dt.day,\n",
    "                                             1,\n",
    "                                             0\n",
    "                                       )\n",
    "                                   )"
   ]
  },
  {
   "cell_type": "code",
   "execution_count": 95,
   "id": "6459c324",
   "metadata": {},
   "outputs": [
    {
     "name": "stderr",
     "output_type": "stream",
     "text": [
      "C:\\Users\\Computec\\AppData\\Local\\Temp\\ipykernel_7940\\2122176393.py:1: FutureWarning:\n",
      "\n",
      "A value is trying to be set on a copy of a DataFrame or Series through chained assignment using an inplace method.\n",
      "The behavior will change in pandas 3.0. This inplace method will never work because the intermediate object on which we are setting values always behaves as a copy.\n",
      "\n",
      "For example, when doing 'df[col].method(value, inplace=True)', try using 'df.method({col: value}, inplace=True)' or df[col] = df[col].method(value) instead, to perform the operation inplace on the original object.\n",
      "\n",
      "\n",
      "\n"
     ]
    }
   ],
   "source": [
    "Rent_Transaction_df[\"rent_amount\"].fillna((Rent_Transaction_df[\"commission_amount\"]/(Rent_Transaction_df[\"commission_rate\"] * Rent_Transaction_df[\"rent_months\"])),inplace=True)"
   ]
  },
  {
   "cell_type": "code",
   "execution_count": 96,
   "id": "ff965ed5",
   "metadata": {},
   "outputs": [],
   "source": [
    "Rent_Transaction_df.to_csv(\"rent_clean.csv\",index=False)"
   ]
  },
  {
   "cell_type": "markdown",
   "id": "1a7a97bd",
   "metadata": {},
   "source": [
    "### Descriptive Statistics & Group Insights"
   ]
  },
  {
   "cell_type": "code",
   "execution_count": 97,
   "id": "3a891d49",
   "metadata": {},
   "outputs": [
    {
     "data": {
      "text/html": [
       "<div>\n",
       "<style scoped>\n",
       "    .dataframe tbody tr th:only-of-type {\n",
       "        vertical-align: middle;\n",
       "    }\n",
       "\n",
       "    .dataframe tbody tr th {\n",
       "        vertical-align: top;\n",
       "    }\n",
       "\n",
       "    .dataframe thead th {\n",
       "        text-align: right;\n",
       "    }\n",
       "</style>\n",
       "<table border=\"1\" class=\"dataframe\">\n",
       "  <thead>\n",
       "    <tr style=\"text-align: right;\">\n",
       "      <th></th>\n",
       "      <th>rent_id</th>\n",
       "      <th>property_id</th>\n",
       "      <th>client_id</th>\n",
       "      <th>agent_id</th>\n",
       "      <th>owner_id</th>\n",
       "      <th>rent_amount</th>\n",
       "      <th>commission_rate</th>\n",
       "      <th>commission_amount</th>\n",
       "      <th>commission_payment_method</th>\n",
       "      <th>commission_payment_date</th>\n",
       "      <th>agreement_date</th>\n",
       "      <th>rent_start_date</th>\n",
       "      <th>rent_end_date</th>\n",
       "      <th>terms</th>\n",
       "      <th>rent_months</th>\n",
       "    </tr>\n",
       "  </thead>\n",
       "  <tbody>\n",
       "    <tr>\n",
       "      <th>count</th>\n",
       "      <td>1,355.0</td>\n",
       "      <td>1,355.0</td>\n",
       "      <td>1,355.0</td>\n",
       "      <td>1,355.0</td>\n",
       "      <td>1,355.0</td>\n",
       "      <td>1,355.0</td>\n",
       "      <td>1,355.0</td>\n",
       "      <td>1,355.0</td>\n",
       "      <td>1355</td>\n",
       "      <td>1355</td>\n",
       "      <td>1355</td>\n",
       "      <td>1355</td>\n",
       "      <td>1355</td>\n",
       "      <td>1355</td>\n",
       "      <td>1,355.0</td>\n",
       "    </tr>\n",
       "    <tr>\n",
       "      <th>unique</th>\n",
       "      <td>NaN</td>\n",
       "      <td>NaN</td>\n",
       "      <td>NaN</td>\n",
       "      <td>NaN</td>\n",
       "      <td>NaN</td>\n",
       "      <td>NaN</td>\n",
       "      <td>NaN</td>\n",
       "      <td>NaN</td>\n",
       "      <td>3</td>\n",
       "      <td>NaN</td>\n",
       "      <td>785</td>\n",
       "      <td>NaN</td>\n",
       "      <td>NaN</td>\n",
       "      <td>933</td>\n",
       "      <td>NaN</td>\n",
       "    </tr>\n",
       "    <tr>\n",
       "      <th>top</th>\n",
       "      <td>NaN</td>\n",
       "      <td>NaN</td>\n",
       "      <td>NaN</td>\n",
       "      <td>NaN</td>\n",
       "      <td>NaN</td>\n",
       "      <td>NaN</td>\n",
       "      <td>NaN</td>\n",
       "      <td>NaN</td>\n",
       "      <td>Cash</td>\n",
       "      <td>NaN</td>\n",
       "      <td>12/15/2024</td>\n",
       "      <td>NaN</td>\n",
       "      <td>NaN</td>\n",
       "      <td>Lease agreement for Office in NY for 32 months...</td>\n",
       "      <td>NaN</td>\n",
       "    </tr>\n",
       "    <tr>\n",
       "      <th>freq</th>\n",
       "      <td>NaN</td>\n",
       "      <td>NaN</td>\n",
       "      <td>NaN</td>\n",
       "      <td>NaN</td>\n",
       "      <td>NaN</td>\n",
       "      <td>NaN</td>\n",
       "      <td>NaN</td>\n",
       "      <td>NaN</td>\n",
       "      <td>456</td>\n",
       "      <td>NaN</td>\n",
       "      <td>8</td>\n",
       "      <td>NaN</td>\n",
       "      <td>NaN</td>\n",
       "      <td>5</td>\n",
       "      <td>NaN</td>\n",
       "    </tr>\n",
       "    <tr>\n",
       "      <th>mean</th>\n",
       "      <td>678.0</td>\n",
       "      <td>1,494.380073800738</td>\n",
       "      <td>1,058.0369003690037</td>\n",
       "      <td>119.64501845018451</td>\n",
       "      <td>863.4929889298893</td>\n",
       "      <td>4,600.952029520296</td>\n",
       "      <td>0.07564575645756458</td>\n",
       "      <td>7,435.212177121771</td>\n",
       "      <td>NaN</td>\n",
       "      <td>2024-04-26 04:18:14.612546048</td>\n",
       "      <td>NaN</td>\n",
       "      <td>2023-10-07 13:19:10.405904128</td>\n",
       "      <td>2025-07-06 12:04:46.937269248</td>\n",
       "      <td>NaN</td>\n",
       "      <td>21.264944649446495</td>\n",
       "    </tr>\n",
       "    <tr>\n",
       "      <th>min</th>\n",
       "      <td>1.0</td>\n",
       "      <td>2.0</td>\n",
       "      <td>5.0</td>\n",
       "      <td>2.0</td>\n",
       "      <td>1.0</td>\n",
       "      <td>650.0</td>\n",
       "      <td>0.05</td>\n",
       "      <td>357.0</td>\n",
       "      <td>NaN</td>\n",
       "      <td>2020-06-16 00:00:00</td>\n",
       "      <td>NaN</td>\n",
       "      <td>2020-04-13 00:00:00</td>\n",
       "      <td>2021-06-06 00:00:00</td>\n",
       "      <td>NaN</td>\n",
       "      <td>6.0</td>\n",
       "    </tr>\n",
       "    <tr>\n",
       "      <th>25%</th>\n",
       "      <td>339.5</td>\n",
       "      <td>758.5</td>\n",
       "      <td>570.5</td>\n",
       "      <td>57.0</td>\n",
       "      <td>435.5</td>\n",
       "      <td>2,180.0</td>\n",
       "      <td>0.05</td>\n",
       "      <td>2,609.5</td>\n",
       "      <td>NaN</td>\n",
       "      <td>2023-12-27 12:00:00</td>\n",
       "      <td>NaN</td>\n",
       "      <td>2023-01-24 00:00:00</td>\n",
       "      <td>2024-08-19 00:00:00</td>\n",
       "      <td>NaN</td>\n",
       "      <td>14.0</td>\n",
       "    </tr>\n",
       "    <tr>\n",
       "      <th>50%</th>\n",
       "      <td>678.0</td>\n",
       "      <td>1,488.0</td>\n",
       "      <td>1,074.0</td>\n",
       "      <td>120.0</td>\n",
       "      <td>864.0</td>\n",
       "      <td>3,660.0</td>\n",
       "      <td>0.1</td>\n",
       "      <td>4,965.0</td>\n",
       "      <td>NaN</td>\n",
       "      <td>2024-08-18 00:00:00</td>\n",
       "      <td>NaN</td>\n",
       "      <td>2024-01-18 00:00:00</td>\n",
       "      <td>2025-09-06 00:00:00</td>\n",
       "      <td>NaN</td>\n",
       "      <td>21.0</td>\n",
       "    </tr>\n",
       "    <tr>\n",
       "      <th>75%</th>\n",
       "      <td>1,016.5</td>\n",
       "      <td>2,216.5</td>\n",
       "      <td>1,556.0</td>\n",
       "      <td>182.0</td>\n",
       "      <td>1,309.0</td>\n",
       "      <td>6,180.0</td>\n",
       "      <td>0.1</td>\n",
       "      <td>9,429.0</td>\n",
       "      <td>NaN</td>\n",
       "      <td>2024-11-19 00:00:00</td>\n",
       "      <td>NaN</td>\n",
       "      <td>2024-09-13 00:00:00</td>\n",
       "      <td>2026-07-16 12:00:00</td>\n",
       "      <td>NaN</td>\n",
       "      <td>29.0</td>\n",
       "    </tr>\n",
       "    <tr>\n",
       "      <th>max</th>\n",
       "      <td>1,355.0</td>\n",
       "      <td>2,999.0</td>\n",
       "      <td>2,060.0</td>\n",
       "      <td>248.0</td>\n",
       "      <td>1,754.0</td>\n",
       "      <td>21,740.0</td>\n",
       "      <td>0.1</td>\n",
       "      <td>55,200.0</td>\n",
       "      <td>NaN</td>\n",
       "      <td>2024-12-30 00:00:00</td>\n",
       "      <td>NaN</td>\n",
       "      <td>2025-01-28 00:00:00</td>\n",
       "      <td>2028-01-01 00:00:00</td>\n",
       "      <td>NaN</td>\n",
       "      <td>36.0</td>\n",
       "    </tr>\n",
       "    <tr>\n",
       "      <th>std</th>\n",
       "      <td>391.2991183225436</td>\n",
       "      <td>859.3158228233085</td>\n",
       "      <td>583.726168169161</td>\n",
       "      <td>70.9670188541668</td>\n",
       "      <td>511.44217174518843</td>\n",
       "      <td>3,289.8644169242602</td>\n",
       "      <td>0.025000885702178153</td>\n",
       "      <td>7,458.196448288436</td>\n",
       "      <td>NaN</td>\n",
       "      <td>NaN</td>\n",
       "      <td>NaN</td>\n",
       "      <td>NaN</td>\n",
       "      <td>NaN</td>\n",
       "      <td>NaN</td>\n",
       "      <td>8.830919766498859</td>\n",
       "    </tr>\n",
       "  </tbody>\n",
       "</table>\n",
       "</div>"
      ],
      "text/plain": [
       "                 rent_id        property_id           client_id  \\\n",
       "count            1,355.0            1,355.0             1,355.0   \n",
       "unique               NaN                NaN                 NaN   \n",
       "top                  NaN                NaN                 NaN   \n",
       "freq                 NaN                NaN                 NaN   \n",
       "mean               678.0 1,494.380073800738 1,058.0369003690037   \n",
       "min                  1.0                2.0                 5.0   \n",
       "25%                339.5              758.5               570.5   \n",
       "50%                678.0            1,488.0             1,074.0   \n",
       "75%              1,016.5            2,216.5             1,556.0   \n",
       "max              1,355.0            2,999.0             2,060.0   \n",
       "std    391.2991183225436  859.3158228233085    583.726168169161   \n",
       "\n",
       "                 agent_id           owner_id         rent_amount  \\\n",
       "count             1,355.0            1,355.0             1,355.0   \n",
       "unique                NaN                NaN                 NaN   \n",
       "top                   NaN                NaN                 NaN   \n",
       "freq                  NaN                NaN                 NaN   \n",
       "mean   119.64501845018451  863.4929889298893  4,600.952029520296   \n",
       "min                   2.0                1.0               650.0   \n",
       "25%                  57.0              435.5             2,180.0   \n",
       "50%                 120.0              864.0             3,660.0   \n",
       "75%                 182.0            1,309.0             6,180.0   \n",
       "max                 248.0            1,754.0            21,740.0   \n",
       "std      70.9670188541668 511.44217174518843 3,289.8644169242602   \n",
       "\n",
       "            commission_rate  commission_amount commission_payment_method  \\\n",
       "count               1,355.0            1,355.0                      1355   \n",
       "unique                  NaN                NaN                         3   \n",
       "top                     NaN                NaN                      Cash   \n",
       "freq                    NaN                NaN                       456   \n",
       "mean    0.07564575645756458 7,435.212177121771                       NaN   \n",
       "min                    0.05              357.0                       NaN   \n",
       "25%                    0.05            2,609.5                       NaN   \n",
       "50%                     0.1            4,965.0                       NaN   \n",
       "75%                     0.1            9,429.0                       NaN   \n",
       "max                     0.1           55,200.0                       NaN   \n",
       "std    0.025000885702178153 7,458.196448288436                       NaN   \n",
       "\n",
       "              commission_payment_date agreement_date  \\\n",
       "count                            1355           1355   \n",
       "unique                            NaN            785   \n",
       "top                               NaN     12/15/2024   \n",
       "freq                              NaN              8   \n",
       "mean    2024-04-26 04:18:14.612546048            NaN   \n",
       "min               2020-06-16 00:00:00            NaN   \n",
       "25%               2023-12-27 12:00:00            NaN   \n",
       "50%               2024-08-18 00:00:00            NaN   \n",
       "75%               2024-11-19 00:00:00            NaN   \n",
       "max               2024-12-30 00:00:00            NaN   \n",
       "std                               NaN            NaN   \n",
       "\n",
       "                      rent_start_date                  rent_end_date  \\\n",
       "count                            1355                           1355   \n",
       "unique                            NaN                            NaN   \n",
       "top                               NaN                            NaN   \n",
       "freq                              NaN                            NaN   \n",
       "mean    2023-10-07 13:19:10.405904128  2025-07-06 12:04:46.937269248   \n",
       "min               2020-04-13 00:00:00            2021-06-06 00:00:00   \n",
       "25%               2023-01-24 00:00:00            2024-08-19 00:00:00   \n",
       "50%               2024-01-18 00:00:00            2025-09-06 00:00:00   \n",
       "75%               2024-09-13 00:00:00            2026-07-16 12:00:00   \n",
       "max               2025-01-28 00:00:00            2028-01-01 00:00:00   \n",
       "std                               NaN                            NaN   \n",
       "\n",
       "                                                    terms        rent_months  \n",
       "count                                                1355            1,355.0  \n",
       "unique                                                933                NaN  \n",
       "top     Lease agreement for Office in NY for 32 months...                NaN  \n",
       "freq                                                    5                NaN  \n",
       "mean                                                  NaN 21.264944649446495  \n",
       "min                                                   NaN                6.0  \n",
       "25%                                                   NaN               14.0  \n",
       "50%                                                   NaN               21.0  \n",
       "75%                                                   NaN               29.0  \n",
       "max                                                   NaN               36.0  \n",
       "std                                                   NaN  8.830919766498859  "
      ]
     },
     "execution_count": 97,
     "metadata": {},
     "output_type": "execute_result"
    }
   ],
   "source": [
    "Rent_Transaction_df.describe(include=\"all\")"
   ]
  }
 ],
 "metadata": {
  "kernelspec": {
   "display_name": "Python 3",
   "language": "python",
   "name": "python3"
  },
  "language_info": {
   "codemirror_mode": {
    "name": "ipython",
    "version": 3
   },
   "file_extension": ".py",
   "mimetype": "text/x-python",
   "name": "python",
   "nbconvert_exporter": "python",
   "pygments_lexer": "ipython3",
   "version": "3.13.3"
  }
 },
 "nbformat": 4,
 "nbformat_minor": 5
}
